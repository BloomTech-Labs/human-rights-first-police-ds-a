{
 "metadata": {
  "language_info": {
   "codemirror_mode": {
    "name": "ipython",
    "version": 3
   },
   "file_extension": ".py",
   "mimetype": "text/x-python",
   "name": "python",
   "nbconvert_exporter": "python",
   "pygments_lexer": "ipython3",
   "version": "3.9.2"
  },
  "orig_nbformat": 4,
  "kernelspec": {
   "name": "python3",
   "display_name": "Python 3.9.2 64-bit ('human-rights-first-police-ds-a-B2E_pQ_q': pipenv)"
  },
  "interpreter": {
   "hash": "e4f216d005509b984ca6350b11004dc6a5afe50fd4d3595e16f0475926bf6c5f"
  }
 },
 "nbformat": 4,
 "nbformat_minor": 2,
 "cells": [
  {
   "cell_type": "code",
   "execution_count": 2,
   "metadata": {},
   "outputs": [],
   "source": [
    "import numpy as np\n",
    "import torch\n",
    "from transformers import BertTokenizer, BertForSequenceClassification"
   ]
  },
  {
   "cell_type": "code",
   "execution_count": 3,
   "metadata": {},
   "outputs": [],
   "source": [
    "class FrankenBert:\n",
    "    \"\"\"\n",
    "    Implements BertForSequenceClassification and BertTokenizer\n",
    "    for binary classification from a saved model\n",
    "    \"\"\"\n",
    "\n",
    "    def __init__(self, path: str):\n",
    "        \"\"\"\n",
    "        If there's a GPU available, tell PyTorch to use the GPU.\n",
    "        Loads model and tokenizer from saved model directory (path)\n",
    "        \"\"\"\n",
    "        if torch.cuda.is_available():\n",
    "            self.device = torch.device('cuda')\n",
    "        else:\n",
    "            self.device = torch.device('cpu')\n",
    "        self.model = BertForSequenceClassification.from_pretrained(path)\n",
    "        self.tokenizer = BertTokenizer.from_pretrained(path)\n",
    "        self.model.to(self.device)\n",
    "\n",
    "    def predict(self, text: str):\n",
    "        \"\"\"\n",
    "        Makes a binary classification prediction based on saved model\n",
    "        \"\"\"\n",
    "        inputs = self.tokenizer(\n",
    "            text,\n",
    "            padding=True,\n",
    "            truncation=True,\n",
    "            max_length=280,\n",
    "            return_tensors='pt',\n",
    "        ).to(self.device)\n",
    "        output = self.model(**inputs)\n",
    "        prediction = output[0].softmax(1)\n",
    "        tensors = prediction.detach().cpu().numpy()\n",
    "        result = np.argmax(tensors)\n",
    "        confidence = tensors[0][result]\n",
    "        return f\"Rank: {result}, {100 * confidence:.2f}%\""
   ]
  },
  {
   "cell_type": "code",
   "execution_count": 5,
   "metadata": {},
   "outputs": [
    {
     "output_type": "execute_result",
     "data": {
      "text/plain": [
       "<__main__.FrankenBert at 0x1ffa9d15550>"
      ]
     },
     "metadata": {},
     "execution_count": 5
    }
   ],
   "source": [
    "FrankenBert('saved_model')"
   ]
  },
  {
   "cell_type": "code",
   "execution_count": 7,
   "metadata": {},
   "outputs": [],
   "source": [
    "model = FrankenBert('saved_model')"
   ]
  },
  {
   "cell_type": "code",
   "execution_count": 8,
   "metadata": {},
   "outputs": [
    {
     "output_type": "execute_result",
     "data": {
      "text/plain": [
       "'Rank: 0, 98.96%'"
      ]
     },
     "metadata": {},
     "execution_count": 8
    }
   ],
   "source": [
    "model.predict(\"Mickey Mouse is in the house\")"
   ]
  },
  {
   "cell_type": "code",
   "execution_count": 9,
   "metadata": {},
   "outputs": [],
   "source": [
    "isText = model.predict(\"Mickey Mouse is in the house\")"
   ]
  },
  {
   "cell_type": "code",
   "execution_count": 11,
   "metadata": {},
   "outputs": [
    {
     "output_type": "execute_result",
     "data": {
      "text/plain": [
       "str"
      ]
     },
     "metadata": {},
     "execution_count": 11
    }
   ],
   "source": [
    "type(isText)"
   ]
  },
  {
   "cell_type": "code",
   "execution_count": null,
   "metadata": {},
   "outputs": [],
   "source": []
  }
 ]
}