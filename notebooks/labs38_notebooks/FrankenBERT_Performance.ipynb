{
 "cells": [
  {
   "cell_type": "markdown",
   "metadata": {
    "id": "6R5-feBXkoYC"
   },
   "source": [
    "## Installs and Imports"
   ]
  },
  {
   "cell_type": "code",
   "execution_count": 1,
   "metadata": {
    "colab": {
     "base_uri": "https://localhost:8080/"
    },
    "id": "j4T9JpJCtWFt",
    "outputId": "97856991-b5a4-4bef-ba23-be37fb10af65"
   },
   "outputs": [
    {
     "name": "stdout",
     "output_type": "stream",
     "text": [
      "Requirement already satisfied: transformers in c:\\users\\bob\\anaconda3\\lib\\site-packages (4.10.0)\n",
      "Requirement already satisfied: tqdm>=4.27 in c:\\users\\bob\\anaconda3\\lib\\site-packages (from transformers) (4.59.0)\n",
      "Requirement already satisfied: regex!=2019.12.17 in c:\\users\\bob\\anaconda3\\lib\\site-packages (from transformers) (2021.4.4)\n",
      "Requirement already satisfied: packaging in c:\\users\\bob\\anaconda3\\lib\\site-packages (from transformers) (20.9)\n",
      "Requirement already satisfied: sacremoses in c:\\users\\bob\\anaconda3\\lib\\site-packages (from transformers) (0.0.45)\n",
      "Requirement already satisfied: numpy>=1.17 in c:\\users\\bob\\anaconda3\\lib\\site-packages (from transformers) (1.19.5)\n",
      "Requirement already satisfied: filelock in c:\\users\\bob\\anaconda3\\lib\\site-packages (from transformers) (3.0.12)\n",
      "Requirement already satisfied: tokenizers<0.11,>=0.10.1 in c:\\users\\bob\\anaconda3\\lib\\site-packages (from transformers) (0.10.3)\n",
      "Requirement already satisfied: requests in c:\\users\\bob\\anaconda3\\lib\\site-packages (from transformers) (2.25.1)\n",
      "Requirement already satisfied: huggingface-hub>=0.0.12 in c:\\users\\bob\\anaconda3\\lib\\site-packages (from transformers) (0.0.16)\n",
      "Requirement already satisfied: pyyaml>=5.1 in c:\\users\\bob\\anaconda3\\lib\\site-packages (from transformers) (5.4.1)\n",
      "Requirement already satisfied: typing-extensions in c:\\users\\bob\\anaconda3\\lib\\site-packages (from huggingface-hub>=0.0.12->transformers) (3.7.4.3)\n",
      "Requirement already satisfied: pyparsing>=2.0.2 in c:\\users\\bob\\anaconda3\\lib\\site-packages (from packaging->transformers) (2.4.7)\n",
      "Requirement already satisfied: chardet<5,>=3.0.2 in c:\\users\\bob\\anaconda3\\lib\\site-packages (from requests->transformers) (4.0.0)\n",
      "Requirement already satisfied: idna<3,>=2.5 in c:\\users\\bob\\anaconda3\\lib\\site-packages (from requests->transformers) (2.10)\n",
      "Requirement already satisfied: certifi>=2017.4.17 in c:\\users\\bob\\anaconda3\\lib\\site-packages (from requests->transformers) (2020.12.5)\n",
      "Requirement already satisfied: urllib3<1.27,>=1.21.1 in c:\\users\\bob\\anaconda3\\lib\\site-packages (from requests->transformers) (1.26.7)\n",
      "Requirement already satisfied: click in c:\\users\\bob\\anaconda3\\lib\\site-packages (from sacremoses->transformers) (7.1.2)\n",
      "Requirement already satisfied: joblib in c:\\users\\bob\\anaconda3\\lib\\site-packages (from sacremoses->transformers) (1.0.1)\n",
      "Requirement already satisfied: six in c:\\users\\bob\\anaconda3\\lib\\site-packages (from sacremoses->transformers) (1.14.0)\n",
      "Requirement already satisfied: psycopg2-binary in c:\\users\\bob\\anaconda3\\lib\\site-packages (2.8.6)\n",
      "Requirement already satisfied: torchmetrics in c:\\users\\bob\\anaconda3\\lib\\site-packages (0.5.1)\n",
      "Requirement already satisfied: packaging in c:\\users\\bob\\anaconda3\\lib\\site-packages (from torchmetrics) (20.9)\n",
      "Requirement already satisfied: numpy>=1.17.2 in c:\\users\\bob\\anaconda3\\lib\\site-packages (from torchmetrics) (1.19.5)\n",
      "Requirement already satisfied: torch>=1.3.1 in c:\\users\\bob\\anaconda3\\lib\\site-packages (from torchmetrics) (1.9.0)\n",
      "Requirement already satisfied: typing-extensions in c:\\users\\bob\\anaconda3\\lib\\site-packages (from torch>=1.3.1->torchmetrics) (3.7.4.3)\n",
      "Requirement already satisfied: pyparsing>=2.0.2 in c:\\users\\bob\\anaconda3\\lib\\site-packages (from packaging->torchmetrics) (2.4.7)\n"
     ]
    }
   ],
   "source": [
    "!pip install transformers\n",
    "!pip install psycopg2-binary\n",
    "!pip install torchmetrics"
   ]
  },
  {
   "cell_type": "code",
   "execution_count": 2,
   "metadata": {
    "id": "MxRa6DUXtfYO"
   },
   "outputs": [],
   "source": [
    "import os\n",
    "os.environ[\"CUDA_VISIBLE_DEVICES\"]=\"\"\n",
    "import tensorflow \n",
    "import pandas as pd\n",
    "import torch\n",
    "from torch.utils.data import TensorDataset, DataLoader, RandomSampler\n",
    "from transformers import BertTokenizer, BertForSequenceClassification, AdamW, BertConfig\n",
    "from transformers import get_linear_schedule_with_warmup\n",
    "from tensorflow.keras.preprocessing.sequence import pad_sequences\n",
    "import psycopg2\n",
    "import sklearn.metrics\n",
    "from sklearn.metrics import confusion_matrix, f1_score, classification_report\n",
    "from sklearn import model_selection\n",
    "import seaborn as sns\n",
    "import matplotlib.pyplot as plt\n",
    "from torchmetrics import Accuracy,F1"
   ]
  },
  {
   "cell_type": "markdown",
   "metadata": {
    "id": "SMi8A4PKo1MF"
   },
   "source": [
    "### Note:\n",
    "In order to run this notebook, you would need to load the following:\n",
    "-  'synthetic_testing.parquet\" file found in the folder notebooks/datasets\n",
    "- 'saved_model' folder which is the trained Bert Model"
   ]
  },
  {
   "cell_type": "markdown",
   "metadata": {
    "id": "jzqpq-3iktv6"
   },
   "source": [
    "## Load the testing data "
   ]
  },
  {
   "cell_type": "code",
   "execution_count": 3,
   "metadata": {
    "colab": {
     "base_uri": "https://localhost:8080/",
     "height": 203
    },
    "id": "5MyTJirZtuoe",
    "outputId": "92acd45c-e83f-4079-fc4d-d48016f6530a"
   },
   "outputs": [
    {
     "data": {
      "text/html": [
       "<div>\n",
       "<style scoped>\n",
       "    .dataframe tbody tr th:only-of-type {\n",
       "        vertical-align: middle;\n",
       "    }\n",
       "\n",
       "    .dataframe tbody tr th {\n",
       "        vertical-align: top;\n",
       "    }\n",
       "\n",
       "    .dataframe thead th {\n",
       "        text-align: right;\n",
       "    }\n",
       "</style>\n",
       "<table border=\"1\" class=\"dataframe\">\n",
       "  <thead>\n",
       "    <tr style=\"text-align: right;\">\n",
       "      <th></th>\n",
       "      <th>tweets</th>\n",
       "      <th>labels</th>\n",
       "    </tr>\n",
       "  </thead>\n",
       "  <tbody>\n",
       "    <tr>\n",
       "      <th>5138</th>\n",
       "      <td>Tensions in Sweden’s second largest city, Goth...</td>\n",
       "      <td>1</td>\n",
       "    </tr>\n",
       "    <tr>\n",
       "      <th>777</th>\n",
       "      <td>According to preliminary reports, officers Bra...</td>\n",
       "      <td>3</td>\n",
       "    </tr>\n",
       "    <tr>\n",
       "      <th>3750</th>\n",
       "      <td>12:54 Report of possible FOUND CHILD at 6XX MT...</td>\n",
       "      <td>0</td>\n",
       "    </tr>\n",
       "    <tr>\n",
       "      <th>2051</th>\n",
       "      <td>French police in massive manhunt for rifle-tot...</td>\n",
       "      <td>0</td>\n",
       "    </tr>\n",
       "    <tr>\n",
       "      <th>1740</th>\n",
       "      <td>These mass demonstrations were met with violen...</td>\n",
       "      <td>2</td>\n",
       "    </tr>\n",
       "  </tbody>\n",
       "</table>\n",
       "</div>"
      ],
      "text/plain": [
       "                                                 tweets  labels\n",
       "5138  Tensions in Sweden’s second largest city, Goth...       1\n",
       "777   According to preliminary reports, officers Bra...       3\n",
       "3750  12:54 Report of possible FOUND CHILD at 6XX MT...       0\n",
       "2051  French police in massive manhunt for rifle-tot...       0\n",
       "1740  These mass demonstrations were met with violen...       2"
      ]
     },
     "execution_count": 3,
     "metadata": {},
     "output_type": "execute_result"
    }
   ],
   "source": [
    "test_df = pd.read_parquet('datasets\\synthetic_testing.parquet')\n",
    "test_df.head()"
   ]
  },
  {
   "cell_type": "markdown",
   "metadata": {
    "id": "sjkWZyjAkzD9"
   },
   "source": [
    "## FrankenBert for Predictions"
   ]
  },
  {
   "cell_type": "code",
   "execution_count": 4,
   "metadata": {
    "id": "4dyKGbYNu39b"
   },
   "outputs": [],
   "source": [
    "import numpy as np\n",
    "import torch\n",
    "from transformers import BertTokenizer, BertForSequenceClassification\n",
    "\n",
    "\n",
    "class FrankenBert:\n",
    "    \"\"\"\n",
    "    Implements BertForSequenceClassification and BertTokenizer\n",
    "    for binary classification from a saved model\n",
    "    \"\"\"\n",
    "\n",
    "    def __init__(self, path: str):\n",
    "        \"\"\"\n",
    "        If there's a GPU available, tell PyTorch to use the GPU.\n",
    "        Loads model and tokenizer from saved model directory (path)\n",
    "        \"\"\"\n",
    "        if torch.cuda.is_available():\n",
    "            self.device = torch.device('cuda')\n",
    "        else:\n",
    "            self.device = torch.device('cpu')\n",
    "        self.model = BertForSequenceClassification.from_pretrained(path)\n",
    "        self.tokenizer = BertTokenizer.from_pretrained(path)\n",
    "        self.model.to(self.device)\n",
    "\n",
    "    def predict(self, text: str):\n",
    "        \"\"\"\n",
    "        Makes a binary classification prediction based on saved model\n",
    "        \"\"\"\n",
    "        inputs = self.tokenizer(\n",
    "            text,\n",
    "            padding=True,\n",
    "            truncation=True,\n",
    "            max_length=280,\n",
    "            return_tensors='pt',\n",
    "        ).to(self.device)\n",
    "        output = self.model(**inputs)\n",
    "        prediction = output[0].softmax(1)\n",
    "        tensors = prediction.detach().cpu().numpy()\n",
    "        result = np.argmax(tensors)\n",
    "        confidence = tensors[0][result]\n",
    "        return result"
   ]
  },
  {
   "cell_type": "markdown",
   "metadata": {
    "id": "nWMM3zHDk7qI"
   },
   "source": [
    "Ensure the path to the model is correct."
   ]
  },
  {
   "cell_type": "code",
   "execution_count": 5,
   "metadata": {
    "id": "xHYKV07LvqSw"
   },
   "outputs": [],
   "source": [
    "model = FrankenBert(r'C:\\Users\\Bob\\Desktop\\human-rights-first-police-ds-a\\app\\saved_model')"
   ]
  },
  {
   "cell_type": "code",
   "execution_count": 6,
   "metadata": {
    "colab": {
     "base_uri": "https://localhost:8080/"
    },
    "id": "4HqJ9_2BG_mn",
    "outputId": "0045ee48-670b-4a22-98a0-149ea8d7f679"
   },
   "outputs": [
    {
     "data": {
      "text/plain": [
       "(1504, 2)"
      ]
     },
     "execution_count": 6,
     "metadata": {},
     "output_type": "execute_result"
    }
   ],
   "source": [
    "test_df.shape\n"
   ]
  },
  {
   "cell_type": "code",
   "execution_count": 7,
   "metadata": {
    "colab": {
     "base_uri": "https://localhost:8080/"
    },
    "id": "9iG5T7w6HE2N",
    "outputId": "34246ac8-3170-4520-f7da-e698f14e776f"
   },
   "outputs": [
    {
     "data": {
      "text/plain": [
       "0    535\n",
       "5    290\n",
       "1    213\n",
       "3    179\n",
       "4    157\n",
       "2    130\n",
       "Name: labels, dtype: int64"
      ]
     },
     "execution_count": 7,
     "metadata": {},
     "output_type": "execute_result"
    }
   ],
   "source": [
    "test_df.labels.value_counts()"
   ]
  },
  {
   "cell_type": "code",
   "execution_count": 8,
   "metadata": {
    "id": "tEuyV3y4HNGq"
   },
   "outputs": [],
   "source": [
    "# Generating predictions using the model\n",
    "predictions = []\n",
    "for tweet in test_df.tweets:\n",
    "    y_pred = model.predict(tweet)\n",
    "    predictions.append(y_pred)"
   ]
  },
  {
   "cell_type": "code",
   "execution_count": 9,
   "metadata": {
    "colab": {
     "base_uri": "https://localhost:8080/"
    },
    "id": "fmjr6BAMHdDJ",
    "outputId": "88ab1c2e-6825-4570-c12e-6a63192a10ff"
   },
   "outputs": [
    {
     "data": {
      "text/plain": [
       "[1, 3, 0, 1, 2, 1, 0, 5, 5, 4]"
      ]
     },
     "execution_count": 9,
     "metadata": {},
     "output_type": "execute_result"
    }
   ],
   "source": [
    "predictions[:10]"
   ]
  },
  {
   "cell_type": "code",
   "execution_count": 10,
   "metadata": {
    "id": "T_ZlNUCFHowH"
   },
   "outputs": [],
   "source": [
    "#Adding the predictions to the testing table\n",
    "test_df['predictions'] = predictions\n"
   ]
  },
  {
   "cell_type": "code",
   "execution_count": 11,
   "metadata": {
    "colab": {
     "base_uri": "https://localhost:8080/",
     "height": 203
    },
    "id": "FAUbwmC-H6S2",
    "outputId": "adcd2589-f991-48d7-cb57-c33067ce6469"
   },
   "outputs": [
    {
     "data": {
      "text/html": [
       "<div>\n",
       "<style scoped>\n",
       "    .dataframe tbody tr th:only-of-type {\n",
       "        vertical-align: middle;\n",
       "    }\n",
       "\n",
       "    .dataframe tbody tr th {\n",
       "        vertical-align: top;\n",
       "    }\n",
       "\n",
       "    .dataframe thead th {\n",
       "        text-align: right;\n",
       "    }\n",
       "</style>\n",
       "<table border=\"1\" class=\"dataframe\">\n",
       "  <thead>\n",
       "    <tr style=\"text-align: right;\">\n",
       "      <th></th>\n",
       "      <th>tweets</th>\n",
       "      <th>labels</th>\n",
       "      <th>predictions</th>\n",
       "    </tr>\n",
       "  </thead>\n",
       "  <tbody>\n",
       "    <tr>\n",
       "      <th>5138</th>\n",
       "      <td>Tensions in Sweden’s second largest city, Goth...</td>\n",
       "      <td>1</td>\n",
       "      <td>1</td>\n",
       "    </tr>\n",
       "    <tr>\n",
       "      <th>777</th>\n",
       "      <td>According to preliminary reports, officers Bra...</td>\n",
       "      <td>3</td>\n",
       "      <td>3</td>\n",
       "    </tr>\n",
       "    <tr>\n",
       "      <th>3750</th>\n",
       "      <td>12:54 Report of possible FOUND CHILD at 6XX MT...</td>\n",
       "      <td>0</td>\n",
       "      <td>0</td>\n",
       "    </tr>\n",
       "    <tr>\n",
       "      <th>2051</th>\n",
       "      <td>French police in massive manhunt for rifle-tot...</td>\n",
       "      <td>0</td>\n",
       "      <td>1</td>\n",
       "    </tr>\n",
       "    <tr>\n",
       "      <th>1740</th>\n",
       "      <td>These mass demonstrations were met with violen...</td>\n",
       "      <td>2</td>\n",
       "      <td>2</td>\n",
       "    </tr>\n",
       "  </tbody>\n",
       "</table>\n",
       "</div>"
      ],
      "text/plain": [
       "                                                 tweets  labels  predictions\n",
       "5138  Tensions in Sweden’s second largest city, Goth...       1            1\n",
       "777   According to preliminary reports, officers Bra...       3            3\n",
       "3750  12:54 Report of possible FOUND CHILD at 6XX MT...       0            0\n",
       "2051  French police in massive manhunt for rifle-tot...       0            1\n",
       "1740  These mass demonstrations were met with violen...       2            2"
      ]
     },
     "execution_count": 11,
     "metadata": {},
     "output_type": "execute_result"
    }
   ],
   "source": [
    "test_df.head()"
   ]
  },
  {
   "cell_type": "code",
   "execution_count": 12,
   "metadata": {},
   "outputs": [],
   "source": [
    "#fixing mis labeled tweets\n",
    "test_df.at[246, 'labels'] = 4"
   ]
  },
  {
   "cell_type": "code",
   "execution_count": 13,
   "metadata": {},
   "outputs": [],
   "source": [
    "test_df.at[515, 'labels'] = 5"
   ]
  },
  {
   "cell_type": "code",
   "execution_count": 14,
   "metadata": {},
   "outputs": [],
   "source": [
    "test_df.at[403, 'labels'] = 4"
   ]
  },
  {
   "cell_type": "code",
   "execution_count": 15,
   "metadata": {},
   "outputs": [],
   "source": [
    "test_df.at[1028, 'labels'] = 0"
   ]
  },
  {
   "cell_type": "code",
   "execution_count": 16,
   "metadata": {},
   "outputs": [],
   "source": [
    "test_df.at[725, 'labels'] = 0"
   ]
  },
  {
   "cell_type": "code",
   "execution_count": 17,
   "metadata": {},
   "outputs": [],
   "source": [
    "test_df.at[735, 'labels'] = 2"
   ]
  },
  {
   "cell_type": "code",
   "execution_count": 18,
   "metadata": {},
   "outputs": [],
   "source": [
    "test_df.at[5879, 'labels'] = 0"
   ]
  },
  {
   "cell_type": "code",
   "execution_count": 19,
   "metadata": {},
   "outputs": [],
   "source": [
    "test_df.at[5903, 'labels'] = 0"
   ]
  },
  {
   "cell_type": "code",
   "execution_count": 20,
   "metadata": {},
   "outputs": [],
   "source": [
    "test_df.at[4855, 'labels'] = 5"
   ]
  },
  {
   "cell_type": "code",
   "execution_count": 21,
   "metadata": {},
   "outputs": [],
   "source": [
    "test_df.at[5715, 'labels'] = 2"
   ]
  },
  {
   "cell_type": "code",
   "execution_count": 22,
   "metadata": {},
   "outputs": [],
   "source": [
    "test_df.at[2051, 'labels'] = 1"
   ]
  },
  {
   "cell_type": "code",
   "execution_count": 23,
   "metadata": {},
   "outputs": [],
   "source": [
    "test_df.at[5884, 'labels'] = 1"
   ]
  },
  {
   "cell_type": "code",
   "execution_count": 24,
   "metadata": {},
   "outputs": [],
   "source": [
    "test_df.at[109, 'labels'] = 1"
   ]
  },
  {
   "cell_type": "code",
   "execution_count": 25,
   "metadata": {},
   "outputs": [],
   "source": [
    "test_df.at[4887, 'labels'] = 1"
   ]
  },
  {
   "cell_type": "code",
   "execution_count": 26,
   "metadata": {},
   "outputs": [],
   "source": [
    "test_df.at[2764, 'labels'] = 1"
   ]
  },
  {
   "cell_type": "code",
   "execution_count": 27,
   "metadata": {},
   "outputs": [],
   "source": [
    "test_df.at[5514, 'labels'] = 1"
   ]
  },
  {
   "cell_type": "code",
   "execution_count": 28,
   "metadata": {},
   "outputs": [],
   "source": [
    "test_df.at[4875, 'labels'] = 1"
   ]
  },
  {
   "cell_type": "code",
   "execution_count": 29,
   "metadata": {},
   "outputs": [],
   "source": [
    "test_df.at[725, 'labels'] = 4"
   ]
  },
  {
   "cell_type": "code",
   "execution_count": 30,
   "metadata": {},
   "outputs": [],
   "source": [
    "test_df.at[1584, 'labels'] = 1"
   ]
  },
  {
   "cell_type": "code",
   "execution_count": 31,
   "metadata": {},
   "outputs": [],
   "source": [
    "test_df.at[5622, 'labels'] = 1"
   ]
  },
  {
   "cell_type": "code",
   "execution_count": 32,
   "metadata": {},
   "outputs": [],
   "source": [
    "test_df.at[2051, 'labels'] = 1"
   ]
  },
  {
   "cell_type": "code",
   "execution_count": 33,
   "metadata": {},
   "outputs": [],
   "source": [
    "#finding the wrong predictions\n",
    "gabe = test_df.loc[(test_df['labels'] == 0) & (test_df['predictions']!= 0)]"
   ]
  },
  {
   "cell_type": "code",
   "execution_count": 34,
   "metadata": {},
   "outputs": [
    {
     "data": {
      "text/html": [
       "<div>\n",
       "<style scoped>\n",
       "    .dataframe tbody tr th:only-of-type {\n",
       "        vertical-align: middle;\n",
       "    }\n",
       "\n",
       "    .dataframe tbody tr th {\n",
       "        vertical-align: top;\n",
       "    }\n",
       "\n",
       "    .dataframe thead th {\n",
       "        text-align: right;\n",
       "    }\n",
       "</style>\n",
       "<table border=\"1\" class=\"dataframe\">\n",
       "  <thead>\n",
       "    <tr style=\"text-align: right;\">\n",
       "      <th></th>\n",
       "      <th>tweets</th>\n",
       "      <th>labels</th>\n",
       "      <th>predictions</th>\n",
       "    </tr>\n",
       "  </thead>\n",
       "  <tbody>\n",
       "    <tr>\n",
       "      <th>2363</th>\n",
       "      <td>According to police, 4-year-old Evan John Wars...</td>\n",
       "      <td>0</td>\n",
       "      <td>5</td>\n",
       "    </tr>\n",
       "    <tr>\n",
       "      <th>4009</th>\n",
       "      <td>The Bristol Press - Police apprehend Southingt...</td>\n",
       "      <td>0</td>\n",
       "      <td>1</td>\n",
       "    </tr>\n",
       "    <tr>\n",
       "      <th>530</th>\n",
       "      <td>How bad is it? It’s now not safe to use your p...</td>\n",
       "      <td>0</td>\n",
       "      <td>5</td>\n",
       "    </tr>\n",
       "    <tr>\n",
       "      <th>2534</th>\n",
       "      <td>Police set up a cordon from West Princes Stree...</td>\n",
       "      <td>0</td>\n",
       "      <td>4</td>\n",
       "    </tr>\n",
       "    <tr>\n",
       "      <th>4501</th>\n",
       "      <td>I’m sickened by scenes of people off their hea...</td>\n",
       "      <td>0</td>\n",
       "      <td>2</td>\n",
       "    </tr>\n",
       "    <tr>\n",
       "      <th>5281</th>\n",
       "      <td>Why I am not voting for #ScottStringer: 6 mont...</td>\n",
       "      <td>0</td>\n",
       "      <td>5</td>\n",
       "    </tr>\n",
       "    <tr>\n",
       "      <th>1028</th>\n",
       "      <td>Ofiara walked into Klein’s Pharmacy with an as...</td>\n",
       "      <td>0</td>\n",
       "      <td>4</td>\n",
       "    </tr>\n",
       "    <tr>\n",
       "      <th>5903</th>\n",
       "      <td>\"At least 22 people shot, 2 fatally, after ass...</td>\n",
       "      <td>0</td>\n",
       "      <td>1</td>\n",
       "    </tr>\n",
       "    <tr>\n",
       "      <th>85</th>\n",
       "      <td>Here Martwick celebrates a bill that will give...</td>\n",
       "      <td>0</td>\n",
       "      <td>1</td>\n",
       "    </tr>\n",
       "    <tr>\n",
       "      <th>3106</th>\n",
       "      <td>Asian woman, 55, knocked out in unprovoked att...</td>\n",
       "      <td>0</td>\n",
       "      <td>1</td>\n",
       "    </tr>\n",
       "  </tbody>\n",
       "</table>\n",
       "</div>"
      ],
      "text/plain": [
       "                                                 tweets  labels  predictions\n",
       "2363  According to police, 4-year-old Evan John Wars...       0            5\n",
       "4009  The Bristol Press - Police apprehend Southingt...       0            1\n",
       "530   How bad is it? It’s now not safe to use your p...       0            5\n",
       "2534  Police set up a cordon from West Princes Stree...       0            4\n",
       "4501  I’m sickened by scenes of people off their hea...       0            2\n",
       "5281  Why I am not voting for #ScottStringer: 6 mont...       0            5\n",
       "1028  Ofiara walked into Klein’s Pharmacy with an as...       0            4\n",
       "5903  \"At least 22 people shot, 2 fatally, after ass...       0            1\n",
       "85    Here Martwick celebrates a bill that will give...       0            1\n",
       "3106  Asian woman, 55, knocked out in unprovoked att...       0            1"
      ]
     },
     "execution_count": 34,
     "metadata": {},
     "output_type": "execute_result"
    }
   ],
   "source": [
    "gabe.head(195)"
   ]
  },
  {
   "cell_type": "code",
   "execution_count": 35,
   "metadata": {
    "scrolled": true
   },
   "outputs": [
    {
     "name": "stdout",
     "output_type": "stream",
     "text": [
      "[['According to police, 4-year-old Evan John Warsecke Jr. climbed up a 7-foot-tall armoire and took a .32-caliber pistol that his father, Traverse City officer Evan Warsecke, had hidden. The gun was reportedly a service pistol, but may have been a backup and not his primary weapon. Evan Jr. apparently took the gun to his bedroom and was playing with it. At around 9:14 p.m., Evan Jr.’s 8-year-old sister heard a noise and and found him injured. His parents were in the basement and didn’t hear the shot, police said. Evan Jr. died the next day at the hospital. His death was ruled an accident.'\n",
      "  0 5]\n",
      " ['The Bristol Press - Police apprehend Southington shooting suspect: https://t.co/ucVFsEQ9Uf'\n",
      "  0 1]\n",
      " ['How bad is it? It’s now not safe to use your phone in public in Chicago. “If you’re thinking of using your phone in a public place, take a look around,” police advised in the alert https://t.co/iGQpkL52CV'\n",
      "  0 5]\n",
      " ['Police set up a cordon from West Princes Street to George Street https://t.co/BN7HDqE9F9'\n",
      "  0 4]\n",
      " ['I’m sickened by scenes of people off their heads on booze Holiday weekend, whats wrong with them, can’t have fun unless paralytic, women a disgrace no decorum. Brawl in Wetherspoons, drunks out of heads, fighting Police who are being kicked in backs/punched. DISGRACEFUL DRUNKS😠'\n",
      "  0 2]\n",
      " ['Why I am not voting for #ScottStringer: 6 months ago my car was hit by an undercover police vehicle.The policecar was illegally double parked &amp; hit my car as I was maneuvering around it.The front of my car passed before they hit me so the officers had plenty of time to see my car'\n",
      "  0 5]\n",
      " ['Ofiara walked into Klein’s Pharmacy with an assault rifle, took hostages and demanded a bottle of the painkiller Vicodin. When his hostages were freed, Ofiara shot himself.'\n",
      "  0 4]\n",
      " ['\"At least 22 people shot, 2 fatally, after assailants get out of an SUV and fire assault rifles at a club, police say\" https://t.co/yUaBf3YHZk #Florida #massshooting'\n",
      "  0 1]\n",
      " ['Here Martwick celebrates a bill that will give the CTU the ability to run all the candidates they want and essentially control the entire public school system. @robertmartwick how much did CTU donate to you for this one?'\n",
      "  0 1]\n",
      " ['Asian woman, 55, knocked out in unprovoked attack in NYC’s Chinatown, police say https://t.co/ZZ8ucirIcR'\n",
      "  0 1]]\n"
     ]
    }
   ],
   "source": [
    "#reading the wrong ranked tweets\n",
    "print(gabe.values)"
   ]
  },
  {
   "cell_type": "markdown",
   "metadata": {
    "id": "FXT-E426H_D4"
   },
   "source": [
    "## **Evaluation Metrics:**\n",
    " - F1 Score (using sklear and pytorch metrics libraries)\n",
    " - Accuracy (using pytorch metrics libraries)\n",
    " - Classification Report\n",
    " - Confusion Matrix"
   ]
  },
  {
   "cell_type": "code",
   "execution_count": 36,
   "metadata": {
    "id": "N-RP2NXQH-lZ"
   },
   "outputs": [],
   "source": [
    "#Preparing our true values and predicted values\n",
    "y_true = test_df['labels']\n",
    "y_pred = test_df['predictions']"
   ]
  },
  {
   "cell_type": "code",
   "execution_count": 37,
   "metadata": {
    "colab": {
     "base_uri": "https://localhost:8080/"
    },
    "id": "SDLVuLTSIFL-",
    "outputId": "67fe44c6-7add-46ac-df7b-121acdad7949"
   },
   "outputs": [
    {
     "data": {
      "text/plain": [
       "0.9774006561286307"
      ]
     },
     "execution_count": 37,
     "metadata": {},
     "output_type": "execute_result"
    }
   ],
   "source": [
    "#Using sklearn metrics library\n",
    "f1_score(y_true, y_pred, average='weighted')"
   ]
  },
  {
   "cell_type": "code",
   "execution_count": 38,
   "metadata": {
    "colab": {
     "base_uri": "https://localhost:8080/"
    },
    "id": "ZuwfW7IJIHkB",
    "outputId": "1babb94f-6236-410e-861f-ee2ef0d41f36"
   },
   "outputs": [
    {
     "name": "stdout",
     "output_type": "stream",
     "text": [
      "F1 Score using TorchMetrics:: tensor(0.9774)\n"
     ]
    }
   ],
   "source": [
    "#Using Pytorch metrics library\n",
    "\n",
    "y_pred = torch.tensor(test_df['predictions'].to_list()) \n",
    "y_true = torch.tensor(test_df['labels'].to_list())\n",
    "f1 = F1(num_classes=6)\n",
    "print(\"F1 Score using TorchMetrics::\",f1(y_pred, y_true))"
   ]
  },
  {
   "cell_type": "code",
   "execution_count": 39,
   "metadata": {
    "colab": {
     "base_uri": "https://localhost:8080/"
    },
    "id": "FBOl7mr0INFY",
    "outputId": "120f5a64-93db-4391-a8bf-ced3f60cf94e"
   },
   "outputs": [
    {
     "name": "stdout",
     "output_type": "stream",
     "text": [
      "Test Accuracy using TorchMetrics:: tensor(0.9774)\n"
     ]
    }
   ],
   "source": [
    "#Model Accuracy using Pytorch\n",
    "\n",
    "metric = Accuracy()\n",
    "y_pred = torch.tensor(test_df['predictions'].to_list()) \n",
    "y_true = torch.tensor(test_df['labels'].to_list())\n",
    "\n",
    "acc = metric(y_pred, y_true)\n",
    "print(\"Test Accuracy using TorchMetrics::\",acc)"
   ]
  },
  {
   "cell_type": "code",
   "execution_count": 40,
   "metadata": {},
   "outputs": [
    {
     "name": "stdout",
     "output_type": "stream",
     "text": [
      "tensor([1, 3, 0,  ..., 5, 0, 4])\n"
     ]
    }
   ],
   "source": [
    "print(y_true)"
   ]
  },
  {
   "cell_type": "code",
   "execution_count": 41,
   "metadata": {
    "colab": {
     "base_uri": "https://localhost:8080/"
    },
    "id": "-OovE4bWj-f2",
    "outputId": "99f1a909-7a12-4eeb-ab5a-3e0f0f89a3ba"
   },
   "outputs": [
    {
     "name": "stdout",
     "output_type": "stream",
     "text": [
      "              precision    recall  f1-score   support\n",
      "\n",
      "     class 0       0.97      0.98      0.98       529\n",
      "     class 1       0.95      0.95      0.95       220\n",
      "     class 2       0.98      0.98      0.98       130\n",
      "     class 3       0.99      0.99      0.99       175\n",
      "     class 4       0.98      0.99      0.98       159\n",
      "     class 5       0.99      0.98      0.98       291\n",
      "\n",
      "    accuracy                           0.98      1504\n",
      "   macro avg       0.98      0.98      0.98      1504\n",
      "weighted avg       0.98      0.98      0.98      1504\n",
      "\n"
     ]
    }
   ],
   "source": [
    "# Classification Report\n",
    "\n",
    "target_names = ['class 0', 'class 1', 'class 2', 'class 3', 'class 4', 'class 5']\n",
    "report = classification_report(y_true, y_pred, target_names=target_names)\n",
    "print(report)"
   ]
  },
  {
   "cell_type": "code",
   "execution_count": 42,
   "metadata": {
    "colab": {
     "base_uri": "https://localhost:8080/",
     "height": 282
    },
    "id": "d4xZkpOYj_h6",
    "outputId": "351780c2-4380-4cc6-dbf1-298cdfa19224"
   },
   "outputs": [
    {
     "data": {
      "text/plain": [
       "<AxesSubplot:>"
      ]
     },
     "execution_count": 42,
     "metadata": {},
     "output_type": "execute_result"
    },
    {
     "data": {
      "image/png": "[encoded data removed]",
      "text/plain": [
       "<Figure size 432x288 with 2 Axes>"
      ]
     },
     "metadata": {
      "needs_background": "light"
     },
     "output_type": "display_data"
    }
   ],
   "source": [
    "# Classification Report for HeatMap generation\n",
    "\n",
    "target_names = ['class 0', 'class 1', 'class 2', 'class 3', 'class 4', 'class 5']\n",
    "report = classification_report(y_true, y_pred, target_names=target_names, output_dict=True)\n",
    "# .iloc[:-1, :] to exclude support\n",
    "sns.heatmap(pd.DataFrame(report).iloc[:-1, :].T, annot=True)"
   ]
  },
  {
   "cell_type": "code",
   "execution_count": 43,
   "metadata": {
    "colab": {
     "base_uri": "https://localhost:8080/",
     "height": 295
    },
    "id": "hYmyzWAXkDGn",
    "outputId": "2730eb37-e2cd-4a57-f26d-a299f73e302d"
   },
   "outputs": [
    {
     "data": {
      "image/png": "[encoded data removed]",
      "text/plain": [
       "<Figure size 432x288 with 2 Axes>"
      ]
     },
     "metadata": {
      "needs_background": "light"
     },
     "output_type": "display_data"
    }
   ],
   "source": [
    "# Confusion Matrix\n",
    "cm = confusion_matrix(y_true, y_pred)\n",
    "ax= plt.subplot()\n",
    "sns.heatmap(cm, annot=True, fmt='g', ax=ax);\n",
    "ax.set_xlabel('Predicted labels');ax.set_ylabel('True labels'); \n",
    "ax.set_title('Confusion Matrix'); \n",
    "ax.xaxis.set_ticklabels(['Rank0', 'Rank1','Rank2','Rank3','Rank4','Rank5']); ax.yaxis.set_ticklabels(['Rank0', 'Rank1','Rank2','Rank3','Rank4','Rank5']);"
   ]
  },
  {
   "cell_type": "code",
   "execution_count": 44,
   "metadata": {
    "id": "y0VSO3XrnP5S"
   },
   "outputs": [],
   "source": [
    "\n",
    "data = [['Rank 0', 535,523], \n",
    "        ['Rank 1', 213,189], \n",
    "        ['Rank 2', 130,128],\n",
    "        ['Rank 3', 179, 176],\n",
    "        ['Rank 4', 157,156],\n",
    "        ['Rank 5',290,284]]\n",
    "\n",
    "accuracy_table = pd.DataFrame(data=data,columns=['Rank','Testcases','True Positives'])\n"
   ]
  },
  {
   "cell_type": "markdown",
   "metadata": {
    "id": "1vAuLUyXlr8J"
   },
   "source": [
    "## Conclusions:\n",
    "\n",
    "Our model is classifying tweets very well with an accuracy of 96.8%. The data below is proof of this."
   ]
  },
  {
   "cell_type": "code",
   "execution_count": 45,
   "metadata": {
    "colab": {
     "base_uri": "https://localhost:8080/",
     "height": 234
    },
    "id": "juatJRdworcY",
    "outputId": "25074fd4-78f3-4666-ee51-baa6d6c230c7"
   },
   "outputs": [
    {
     "data": {
      "text/html": [
       "<div>\n",
       "<style scoped>\n",
       "    .dataframe tbody tr th:only-of-type {\n",
       "        vertical-align: middle;\n",
       "    }\n",
       "\n",
       "    .dataframe tbody tr th {\n",
       "        vertical-align: top;\n",
       "    }\n",
       "\n",
       "    .dataframe thead th {\n",
       "        text-align: right;\n",
       "    }\n",
       "</style>\n",
       "<table border=\"1\" class=\"dataframe\">\n",
       "  <thead>\n",
       "    <tr style=\"text-align: right;\">\n",
       "      <th></th>\n",
       "      <th>Rank</th>\n",
       "      <th>Testcases</th>\n",
       "      <th>True Positives</th>\n",
       "    </tr>\n",
       "  </thead>\n",
       "  <tbody>\n",
       "    <tr>\n",
       "      <th>0</th>\n",
       "      <td>Rank 0</td>\n",
       "      <td>535</td>\n",
       "      <td>523</td>\n",
       "    </tr>\n",
       "    <tr>\n",
       "      <th>1</th>\n",
       "      <td>Rank 1</td>\n",
       "      <td>213</td>\n",
       "      <td>189</td>\n",
       "    </tr>\n",
       "    <tr>\n",
       "      <th>2</th>\n",
       "      <td>Rank 2</td>\n",
       "      <td>130</td>\n",
       "      <td>128</td>\n",
       "    </tr>\n",
       "    <tr>\n",
       "      <th>3</th>\n",
       "      <td>Rank 3</td>\n",
       "      <td>179</td>\n",
       "      <td>176</td>\n",
       "    </tr>\n",
       "    <tr>\n",
       "      <th>4</th>\n",
       "      <td>Rank 4</td>\n",
       "      <td>157</td>\n",
       "      <td>156</td>\n",
       "    </tr>\n",
       "    <tr>\n",
       "      <th>5</th>\n",
       "      <td>Rank 5</td>\n",
       "      <td>290</td>\n",
       "      <td>284</td>\n",
       "    </tr>\n",
       "  </tbody>\n",
       "</table>\n",
       "</div>"
      ],
      "text/plain": [
       "     Rank  Testcases  True Positives\n",
       "0  Rank 0        535             523\n",
       "1  Rank 1        213             189\n",
       "2  Rank 2        130             128\n",
       "3  Rank 3        179             176\n",
       "4  Rank 4        157             156\n",
       "5  Rank 5        290             284"
      ]
     },
     "execution_count": 45,
     "metadata": {},
     "output_type": "execute_result"
    }
   ],
   "source": [
    "accuracy_table"
   ]
  },
  {
   "cell_type": "code",
   "execution_count": null,
   "metadata": {},
   "outputs": [],
   "source": [
    "#Just reading in the Tweets\n",
    "tweetss = test_df['tweets']\n",
    "tweetss = tweetss.reset_index(drop=True)"
   ]
  },
  {
   "cell_type": "code",
   "execution_count": null,
   "metadata": {},
   "outputs": [],
   "source": [
    "# Lime for Blackbox Explanations \n",
    "import lime\n",
    "from lime.lime_text import LimeTextExplainer\n",
    "import torch.nn.functional as F\n",
    "\n",
    "tokenizer = BertTokenizer.from_pretrained(r'C:\\Users\\Bob\\Desktop\\nonprofit\\human-rights-first-police-ds-a\\app\\saved_model')\n",
    "model = BertForSequenceClassification.from_pretrained(r'C:\\Users\\Bob\\Desktop\\nonprofit\\human-rights-first-police-ds-a\\app\\saved_model')\n",
    "class_names = target_names\n",
    "\n",
    "def predictor(texts):\n",
    "    outputs = model(**tokenizer(texts, return_tensors=\"pt\", padding=True))\n",
    "    probas = F.softmax(outputs.logits).detach().numpy()\n",
    "    return probas\n",
    "\n",
    "explainer = LimeTextExplainer(class_names=class_names)\n",
    "\n",
    "str_to_predict = tweetss[105]\n",
    "exp = explainer.explain_instance(str_to_predict, predictor, num_features=10, num_samples=500, top_labels=2)\n",
    "exp.show_in_notebook(text=str_to_predict)"
   ]
  },
  {
   "cell_type": "code",
   "execution_count": null,
   "metadata": {},
   "outputs": [],
   "source": [
    "tweetss[105]"
   ]
  }
 ],
 "metadata": {
  "colab": {
   "collapsed_sections": [],
   "name": "FrankenBertPerformance.ipynb",
   "provenance": []
  },
  "kernelspec": {
   "display_name": "Python 3",
   "language": "python",
   "name": "python3"
  },
  "language_info": {
   "codemirror_mode": {
    "name": "ipython",
    "version": 3
   },
   "file_extension": ".py",
   "mimetype": "text/x-python",
   "name": "python",
   "nbconvert_exporter": "python",
   "pygments_lexer": "ipython3",
   "version": "3.8.8"
  }
 },
 "nbformat": 4,
 "nbformat_minor": 1
}
