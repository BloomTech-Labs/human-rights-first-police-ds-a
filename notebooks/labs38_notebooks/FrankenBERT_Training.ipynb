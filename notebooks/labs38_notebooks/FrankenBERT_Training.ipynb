{
  "nbformat": 4,
  "nbformat_minor": 0,
  "metadata": {
    "accelerator": "GPU",
    "colab": {
      "name": "FrankenBERT_Training.ipynb",
      "provenance": []
    },
    "kernelspec": {
      "display_name": "Python 3",
      "language": "python",
      "name": "python3"
    },
    "language_info": {
      "codemirror_mode": {
        "name": "ipython",
        "version": 3
      },
      "file_extension": ".py",
      "mimetype": "text/x-python",
      "name": "python",
      "nbconvert_exporter": "python",
      "pygments_lexer": "ipython3",
      "version": "3.8.8"
    }
  },
  "cells": [
    {
      "cell_type": "markdown",
      "metadata": {
        "id": "QcCv-prETPYc"
      },
      "source": [
        "# Imports & Installations"
      ]
    },
    {
      "cell_type": "code",
      "metadata": {
        "colab": {
          "base_uri": "https://localhost:8080/"
        },
        "id": "VEH0zNz2FO_K",
        "outputId": "74c0aea0-c769-44e9-ef74-19716aa12971"
      },
      "source": [
        "!pip install pyforest\n",
        "!pip install plotnine \n",
        "!pip install transformers\n",
        "!pip install psycopg2-binary\n",
        "!pip uninstall -y tensorflow-datasets\n",
        "!pip install lit_nlp tfds-nightly transformers==4.1.1"
      ],
      "execution_count": 1,
      "outputs": [
        {
          "output_type": "stream",
          "name": "stdout",
          "text": [
            "Requirement already satisfied: pyforest in /usr/local/lib/python3.7/dist-packages (1.1.0)\n",
            "Requirement already satisfied: plotnine in /usr/local/lib/python3.7/dist-packages (0.6.0)\n",
            "Requirement already satisfied: mizani>=0.6.0 in /usr/local/lib/python3.7/dist-packages (from plotnine) (0.6.0)\n",
            "Requirement already satisfied: descartes>=1.1.0 in /usr/local/lib/python3.7/dist-packages (from plotnine) (1.1.0)\n",
            "Requirement already satisfied: numpy>=1.16.0 in /usr/local/lib/python3.7/dist-packages (from plotnine) (1.19.5)\n",
            "Requirement already satisfied: patsy>=0.4.1 in /usr/local/lib/python3.7/dist-packages (from plotnine) (0.5.1)\n",
            "Requirement already satisfied: statsmodels>=0.9.0 in /usr/local/lib/python3.7/dist-packages (from plotnine) (0.10.2)\n",
            "Requirement already satisfied: pandas>=0.25.0 in /usr/local/lib/python3.7/dist-packages (from plotnine) (1.1.5)\n",
            "Requirement already satisfied: matplotlib>=3.1.1 in /usr/local/lib/python3.7/dist-packages (from plotnine) (3.2.2)\n",
            "Requirement already satisfied: scipy>=1.2.0 in /usr/local/lib/python3.7/dist-packages (from plotnine) (1.4.1)\n",
            "Requirement already satisfied: pyparsing!=2.0.4,!=2.1.2,!=2.1.6,>=2.0.1 in /usr/local/lib/python3.7/dist-packages (from matplotlib>=3.1.1->plotnine) (2.4.7)\n",
            "Requirement already satisfied: cycler>=0.10 in /usr/local/lib/python3.7/dist-packages (from matplotlib>=3.1.1->plotnine) (0.10.0)\n",
            "Requirement already satisfied: python-dateutil>=2.1 in /usr/local/lib/python3.7/dist-packages (from matplotlib>=3.1.1->plotnine) (2.8.2)\n",
            "Requirement already satisfied: kiwisolver>=1.0.1 in /usr/local/lib/python3.7/dist-packages (from matplotlib>=3.1.1->plotnine) (1.3.2)\n",
            "Requirement already satisfied: six in /usr/local/lib/python3.7/dist-packages (from cycler>=0.10->matplotlib>=3.1.1->plotnine) (1.15.0)\n",
            "Requirement already satisfied: palettable in /usr/local/lib/python3.7/dist-packages (from mizani>=0.6.0->plotnine) (3.3.0)\n",
            "Requirement already satisfied: pytz>=2017.2 in /usr/local/lib/python3.7/dist-packages (from pandas>=0.25.0->plotnine) (2018.9)\n",
            "Requirement already satisfied: transformers in /usr/local/lib/python3.7/dist-packages (4.1.1)\n",
            "Requirement already satisfied: numpy in /usr/local/lib/python3.7/dist-packages (from transformers) (1.19.5)\n",
            "Requirement already satisfied: sacremoses in /usr/local/lib/python3.7/dist-packages (from transformers) (0.0.45)\n",
            "Requirement already satisfied: tqdm>=4.27 in /usr/local/lib/python3.7/dist-packages (from transformers) (4.62.2)\n",
            "Requirement already satisfied: requests in /usr/local/lib/python3.7/dist-packages (from transformers) (2.23.0)\n",
            "Requirement already satisfied: tokenizers==0.9.4 in /usr/local/lib/python3.7/dist-packages (from transformers) (0.9.4)\n",
            "Requirement already satisfied: regex!=2019.12.17 in /usr/local/lib/python3.7/dist-packages (from transformers) (2019.12.20)\n",
            "Requirement already satisfied: filelock in /usr/local/lib/python3.7/dist-packages (from transformers) (3.0.12)\n",
            "Requirement already satisfied: packaging in /usr/local/lib/python3.7/dist-packages (from transformers) (21.0)\n",
            "Requirement already satisfied: pyparsing>=2.0.2 in /usr/local/lib/python3.7/dist-packages (from packaging->transformers) (2.4.7)\n",
            "Requirement already satisfied: idna<3,>=2.5 in /usr/local/lib/python3.7/dist-packages (from requests->transformers) (2.10)\n",
            "Requirement already satisfied: certifi>=2017.4.17 in /usr/local/lib/python3.7/dist-packages (from requests->transformers) (2021.5.30)\n",
            "Requirement already satisfied: chardet<4,>=3.0.2 in /usr/local/lib/python3.7/dist-packages (from requests->transformers) (3.0.4)\n",
            "Requirement already satisfied: urllib3!=1.25.0,!=1.25.1,<1.26,>=1.21.1 in /usr/local/lib/python3.7/dist-packages (from requests->transformers) (1.24.3)\n",
            "Requirement already satisfied: click in /usr/local/lib/python3.7/dist-packages (from sacremoses->transformers) (7.1.2)\n",
            "Requirement already satisfied: joblib in /usr/local/lib/python3.7/dist-packages (from sacremoses->transformers) (1.0.1)\n",
            "Requirement already satisfied: six in /usr/local/lib/python3.7/dist-packages (from sacremoses->transformers) (1.15.0)\n",
            "Requirement already satisfied: psycopg2-binary in /usr/local/lib/python3.7/dist-packages (2.9.1)\n",
            "\u001b[33mWARNING: Skipping tensorflow-datasets as it is not installed.\u001b[0m\n",
            "Requirement already satisfied: lit_nlp in /usr/local/lib/python3.7/dist-packages (0.3)\n",
            "Requirement already satisfied: tfds-nightly in /usr/local/lib/python3.7/dist-packages (4.4.0.dev202109200107)\n",
            "Requirement already satisfied: transformers==4.1.1 in /usr/local/lib/python3.7/dist-packages (4.1.1)\n",
            "Requirement already satisfied: numpy in /usr/local/lib/python3.7/dist-packages (from transformers==4.1.1) (1.19.5)\n",
            "Requirement already satisfied: tqdm>=4.27 in /usr/local/lib/python3.7/dist-packages (from transformers==4.1.1) (4.62.2)\n",
            "Requirement already satisfied: packaging in /usr/local/lib/python3.7/dist-packages (from transformers==4.1.1) (21.0)\n",
            "Requirement already satisfied: regex!=2019.12.17 in /usr/local/lib/python3.7/dist-packages (from transformers==4.1.1) (2019.12.20)\n",
            "Requirement already satisfied: tokenizers==0.9.4 in /usr/local/lib/python3.7/dist-packages (from transformers==4.1.1) (0.9.4)\n",
            "Requirement already satisfied: filelock in /usr/local/lib/python3.7/dist-packages (from transformers==4.1.1) (3.0.12)\n",
            "Requirement already satisfied: requests in /usr/local/lib/python3.7/dist-packages (from transformers==4.1.1) (2.23.0)\n",
            "Requirement already satisfied: sacremoses in /usr/local/lib/python3.7/dist-packages (from transformers==4.1.1) (0.0.45)\n",
            "Requirement already satisfied: scikit-learn in /usr/local/lib/python3.7/dist-packages (from lit_nlp) (0.22.2.post1)\n",
            "Requirement already satisfied: Werkzeug in /usr/local/lib/python3.7/dist-packages (from lit_nlp) (1.0.1)\n",
            "Requirement already satisfied: ml-collections in /usr/local/lib/python3.7/dist-packages (from lit_nlp) (0.1.0)\n",
            "Requirement already satisfied: pandas in /usr/local/lib/python3.7/dist-packages (from lit_nlp) (1.1.5)\n",
            "Requirement already satisfied: sacrebleu in /usr/local/lib/python3.7/dist-packages (from lit_nlp) (2.0.0)\n",
            "Requirement already satisfied: scipy in /usr/local/lib/python3.7/dist-packages (from lit_nlp) (1.4.1)\n",
            "Requirement already satisfied: umap-learn in /usr/local/lib/python3.7/dist-packages (from lit_nlp) (0.5.1)\n",
            "Requirement already satisfied: absl-py in /usr/local/lib/python3.7/dist-packages (from lit_nlp) (0.12.0)\n",
            "Requirement already satisfied: attrs in /usr/local/lib/python3.7/dist-packages (from lit_nlp) (21.2.0)\n",
            "Requirement already satisfied: portpicker in /usr/local/lib/python3.7/dist-packages (from lit_nlp) (1.3.9)\n",
            "Requirement already satisfied: future in /usr/local/lib/python3.7/dist-packages (from tfds-nightly) (0.16.0)\n",
            "Requirement already satisfied: dill in /usr/local/lib/python3.7/dist-packages (from tfds-nightly) (0.3.4)\n",
            "Requirement already satisfied: importlib-resources in /usr/local/lib/python3.7/dist-packages (from tfds-nightly) (5.2.2)\n",
            "Requirement already satisfied: tensorflow-metadata in /usr/local/lib/python3.7/dist-packages (from tfds-nightly) (1.2.0)\n",
            "Requirement already satisfied: typing-extensions in /usr/local/lib/python3.7/dist-packages (from tfds-nightly) (3.7.4.3)\n",
            "Requirement already satisfied: six in /usr/local/lib/python3.7/dist-packages (from tfds-nightly) (1.15.0)\n",
            "Requirement already satisfied: promise in /usr/local/lib/python3.7/dist-packages (from tfds-nightly) (2.3)\n",
            "Requirement already satisfied: protobuf>=3.12.2 in /usr/local/lib/python3.7/dist-packages (from tfds-nightly) (3.17.3)\n",
            "Requirement already satisfied: termcolor in /usr/local/lib/python3.7/dist-packages (from tfds-nightly) (1.1.0)\n",
            "Requirement already satisfied: urllib3!=1.25.0,!=1.25.1,<1.26,>=1.21.1 in /usr/local/lib/python3.7/dist-packages (from requests->transformers==4.1.1) (1.24.3)\n",
            "Requirement already satisfied: chardet<4,>=3.0.2 in /usr/local/lib/python3.7/dist-packages (from requests->transformers==4.1.1) (3.0.4)\n",
            "Requirement already satisfied: idna<3,>=2.5 in /usr/local/lib/python3.7/dist-packages (from requests->transformers==4.1.1) (2.10)\n",
            "Requirement already satisfied: certifi>=2017.4.17 in /usr/local/lib/python3.7/dist-packages (from requests->transformers==4.1.1) (2021.5.30)\n",
            "Requirement already satisfied: zipp>=3.1.0 in /usr/local/lib/python3.7/dist-packages (from importlib-resources->tfds-nightly) (3.5.0)\n",
            "Requirement already satisfied: PyYAML in /usr/local/lib/python3.7/dist-packages (from ml-collections->lit_nlp) (5.4.1)\n",
            "Requirement already satisfied: contextlib2 in /usr/local/lib/python3.7/dist-packages (from ml-collections->lit_nlp) (0.5.5)\n",
            "Requirement already satisfied: pyparsing>=2.0.2 in /usr/local/lib/python3.7/dist-packages (from packaging->transformers==4.1.1) (2.4.7)\n",
            "Requirement already satisfied: python-dateutil>=2.7.3 in /usr/local/lib/python3.7/dist-packages (from pandas->lit_nlp) (2.8.2)\n",
            "Requirement already satisfied: pytz>=2017.2 in /usr/local/lib/python3.7/dist-packages (from pandas->lit_nlp) (2018.9)\n",
            "Requirement already satisfied: tabulate>=0.8.9 in /usr/local/lib/python3.7/dist-packages (from sacrebleu->lit_nlp) (0.8.9)\n",
            "Requirement already satisfied: colorama in /usr/local/lib/python3.7/dist-packages (from sacrebleu->lit_nlp) (0.4.4)\n",
            "Requirement already satisfied: portalocker in /usr/local/lib/python3.7/dist-packages (from sacrebleu->lit_nlp) (2.3.2)\n",
            "Requirement already satisfied: click in /usr/local/lib/python3.7/dist-packages (from sacremoses->transformers==4.1.1) (7.1.2)\n",
            "Requirement already satisfied: joblib in /usr/local/lib/python3.7/dist-packages (from sacremoses->transformers==4.1.1) (1.0.1)\n",
            "Requirement already satisfied: googleapis-common-protos<2,>=1.52.0 in /usr/local/lib/python3.7/dist-packages (from tensorflow-metadata->tfds-nightly) (1.53.0)\n",
            "Requirement already satisfied: numba>=0.49 in /usr/local/lib/python3.7/dist-packages (from umap-learn->lit_nlp) (0.51.2)\n",
            "Requirement already satisfied: pynndescent>=0.5 in /usr/local/lib/python3.7/dist-packages (from umap-learn->lit_nlp) (0.5.4)\n",
            "Requirement already satisfied: setuptools in /usr/local/lib/python3.7/dist-packages (from numba>=0.49->umap-learn->lit_nlp) (57.4.0)\n",
            "Requirement already satisfied: llvmlite<0.35,>=0.34.0.dev0 in /usr/local/lib/python3.7/dist-packages (from numba>=0.49->umap-learn->lit_nlp) (0.34.0)\n"
          ]
        }
      ]
    },
    {
      "cell_type": "code",
      "metadata": {
        "colab": {
          "base_uri": "https://localhost:8080/",
          "height": 17
        },
        "id": "WP4yh9fRFSrq",
        "outputId": "a6ce50ca-9ecd-4a2e-cff7-843e3bc2dcb2"
      },
      "source": [
        "# Automatic library importer (doesn't quite import everything yet)\n",
        "from pyforest import *\n",
        "# Expands Dataframe to view entire pandas dataframe\n",
        "pd.options.display.max_colwidth = 750\n",
        "# For tracking the duration of executed code cells\n",
        "from time import time\n",
        "# To connect to Blue Witness Labeler's DB\n",
        "import psycopg2\n",
        "# For visualizations\n",
        "from plotnine import *\n",
        "from plotnine.data import mpg\n",
        "import plotly.graph_objects as go\n",
        "from plotly.subplots import make_subplots\n",
        "# For BERT model\n",
        "import torch\n",
        "from torch.utils.data import TensorDataset, DataLoader, RandomSampler\n",
        "from transformers import BertTokenizer, BertForSequenceClassification, AdamW\n",
        "from transformers import get_linear_schedule_with_warmup\n",
        "from tensorflow.keras.preprocessing.sequence import pad_sequences"
      ],
      "execution_count": 2,
      "outputs": [
        {
          "output_type": "display_data",
          "data": {
            "application/javascript": [
              "\n",
              "        if (window._pyforest_update_imports_cell) { window._pyforest_update_imports_cell('import pandas as pd'); }\n",
              "    "
            ],
            "text/plain": [
              "<IPython.core.display.Javascript object>"
            ]
          },
          "metadata": {}
        }
      ]
    },
    {
      "cell_type": "markdown",
      "metadata": {
        "id": "SwVmV4rPJCa7"
      },
      "source": [
        "# Reading in our Tweets\n",
        "\n"
      ]
    },
    {
      "cell_type": "code",
      "metadata": {
        "colab": {
          "base_uri": "https://localhost:8080/",
          "height": 17
        },
        "id": "shLM9DYMFvcV",
        "outputId": "70bdff79-e73a-4ec0-f7dd-b55a7b602227"
      },
      "source": [
        "def get_df(db_url) -> pd.DataFrame:\n",
        "    '''\n",
        "    Connects to our Blue Witness Data Labeler and retrieves manually labelled text before converting them all into a pandas dataframe.\n",
        "    \n",
        "    Parameters\n",
        "    ----------\n",
        "    db_url: psycopg2 database\n",
        "    \n",
        "    Returns\n",
        "    -------\n",
        "    df: pandas datafarme \n",
        "        Contains thousands of text with appropriate police (non-)violence labels\n",
        "    '''\n",
        "    conn = psycopg2.connect(db_url)\n",
        "    curs = conn.cursor()\n",
        "    curs.execute(\"SELECT * FROM training;\")\n",
        "    cols = [k[0] for k in curs.description]\n",
        "    rows = curs.fetchall()\n",
        "    df = pd.DataFrame(rows, columns=cols)\n",
        "    curs.close()\n",
        "    conn.close()\n",
        "    return df"
      ],
      "execution_count": 3,
      "outputs": [
        {
          "output_type": "display_data",
          "data": {
            "application/javascript": [
              "\n",
              "        if (window._pyforest_update_imports_cell) { window._pyforest_update_imports_cell('import pandas as pd'); }\n",
              "    "
            ],
            "text/plain": [
              "<IPython.core.display.Javascript object>"
            ]
          },
          "metadata": {}
        }
      ]
    },
    {
      "cell_type": "code",
      "metadata": {
        "id": "p5m3e5dbF6bd"
      },
      "source": [
        "# ALWAYS REMEMBER TO REMOVE THE PostgreSQL URL ASSIGNED TO THIS VARIABLE WHEN COMITTING TO OUR REPO\n",
        "db_url = \"\""
      ],
      "execution_count": 4,
      "outputs": []
    },
    {
      "cell_type": "code",
      "metadata": {
        "colab": {
          "base_uri": "https://localhost:8080/",
          "height": 436
        },
        "id": "2XU_-M33HvQK",
        "outputId": "1fc679db-0e9c-41cc-cf7b-c672df5442ce"
      },
      "source": [
        "data_labeler_df = get_df(db_url)\n",
        "data_labeler_df"
      ],
      "execution_count": 5,
      "outputs": [
        {
          "output_type": "display_data",
          "data": {
            "application/javascript": [
              "\n",
              "        if (window._pyforest_update_imports_cell) { window._pyforest_update_imports_cell('import pandas as pd'); }\n",
              "    "
            ],
            "text/plain": [
              "<IPython.core.display.Javascript object>"
            ]
          },
          "metadata": {}
        },
        {
          "output_type": "execute_result",
          "data": {
            "text/html": [
              "<div>\n",
              "<style scoped>\n",
              "    .dataframe tbody tr th:only-of-type {\n",
              "        vertical-align: middle;\n",
              "    }\n",
              "\n",
              "    .dataframe tbody tr th {\n",
              "        vertical-align: top;\n",
              "    }\n",
              "\n",
              "    .dataframe thead th {\n",
              "        text-align: right;\n",
              "    }\n",
              "</style>\n",
              "<table border=\"1\" class=\"dataframe\">\n",
              "  <thead>\n",
              "    <tr style=\"text-align: right;\">\n",
              "      <th></th>\n",
              "      <th>id</th>\n",
              "      <th>tweets</th>\n",
              "      <th>labels</th>\n",
              "    </tr>\n",
              "  </thead>\n",
              "  <tbody>\n",
              "    <tr>\n",
              "      <th>0</th>\n",
              "      <td>6</td>\n",
              "      <td>A New Mexico State Police officer killed two people in crisis within five weeks, and demands for accountability are mounting https://t.co/mFYfC7kTFQ</td>\n",
              "      <td>5</td>\n",
              "    </tr>\n",
              "    <tr>\n",
              "      <th>1</th>\n",
              "      <td>7</td>\n",
              "      <td>I found some police badge stickers at work and I’ve started asking every officer I see if they want one with their name on it. I think it’s funny every time and so do they so I will continue this</td>\n",
              "      <td>0</td>\n",
              "    </tr>\n",
              "    <tr>\n",
              "      <th>2</th>\n",
              "      <td>8</td>\n",
              "      <td>According to media reports, police said they arrested Sharma after a complaint from animal welfare organisation People for Animals. | via @philstarlife https://t.co/DO5ZZlNJHs</td>\n",
              "      <td>1</td>\n",
              "    </tr>\n",
              "    <tr>\n",
              "      <th>3</th>\n",
              "      <td>9</td>\n",
              "      <td>The male who has the knife is now running northbound, per caller.</td>\n",
              "      <td>0</td>\n",
              "    </tr>\n",
              "    <tr>\n",
              "      <th>4</th>\n",
              "      <td>10</td>\n",
              "      <td>Changing the assignments of already existing cops and diverting already existing resources means you wouldn’t have increase the police budget.</td>\n",
              "      <td>0</td>\n",
              "    </tr>\n",
              "    <tr>\n",
              "      <th>...</th>\n",
              "      <td>...</td>\n",
              "      <td>...</td>\n",
              "      <td>...</td>\n",
              "    </tr>\n",
              "    <tr>\n",
              "      <th>6255</th>\n",
              "      <td>6262</td>\n",
              "      <td>A carjacking suspect stopped at a roadblock dragged a state trooper through an intersection and crashed into four cars Tuesday, killing Hickerson, police said.</td>\n",
              "      <td>1</td>\n",
              "    </tr>\n",
              "    <tr>\n",
              "      <th>6256</th>\n",
              "      <td>6263</td>\n",
              "      <td>Adam Wheeler was wanted on three open felony warrants when he slammed his Donahoe Avenue apartment door in the face of a police officer investigating a drug complaint. The incident touched off a shootout with Cincinnati police that ended in Wheeler’s death.</td>\n",
              "      <td>5</td>\n",
              "    </tr>\n",
              "    <tr>\n",
              "      <th>6257</th>\n",
              "      <td>6264</td>\n",
              "      <td>The funny thing is they were goading @blackking136 when he revealed he’d contacted the police the other day. Now they’re deleting tweets and evidence quicker than a Trump staffer! 🤣🤣🤣🤣🤣🤣🤣🤣🤣</td>\n",
              "      <td>0</td>\n",
              "    </tr>\n",
              "    <tr>\n",
              "      <th>6258</th>\n",
              "      <td>6261</td>\n",
              "      <td>Police responded to the Sun Villa Motel for a report of a woman screaming. He rushed at them from the bathroom and was shot and killed.</td>\n",
              "      <td>0</td>\n",
              "    </tr>\n",
              "    <tr>\n",
              "      <th>6259</th>\n",
              "      <td>6265</td>\n",
              "      <td>Cops gave me a speeding ticket for walking too fast</td>\n",
              "      <td>1</td>\n",
              "    </tr>\n",
              "  </tbody>\n",
              "</table>\n",
              "<p>6260 rows × 3 columns</p>\n",
              "</div>"
            ],
            "text/plain": [
              "        id  ... labels\n",
              "0        6  ...      5\n",
              "1        7  ...      0\n",
              "2        8  ...      1\n",
              "3        9  ...      0\n",
              "4       10  ...      0\n",
              "...    ...  ...    ...\n",
              "6255  6262  ...      1\n",
              "6256  6263  ...      5\n",
              "6257  6264  ...      0\n",
              "6258  6261  ...      0\n",
              "6259  6265  ...      1\n",
              "\n",
              "[6260 rows x 3 columns]"
            ]
          },
          "metadata": {},
          "execution_count": 5
        }
      ]
    },
    {
      "cell_type": "code",
      "metadata": {
        "id": "suBn1jFAFVbW"
      },
      "source": [
        "def rank_wrangle():\n",
        "  '''\n",
        "  Loads in both synthetic tweets generated from GPT-2 and authentic tweets scraped and manually labelled from Twitter.\n",
        "  Combines both sets of tweets together into a single dataframe.\n",
        "  Drops any null values and duplicates.\n",
        "  \n",
        "  rank2_syn.txt, rank3_syn.txt, and rank4_syn.txt can be found in notebooks/labs37_notebooks/synthetic_tweets\n",
        "  \n",
        "  Parameters \n",
        "  ----------\n",
        "  None\n",
        "\n",
        "  Returns\n",
        "  -------\n",
        "  df: pandas dataframe\n",
        "      Contains fully concatenated dataframe\n",
        "  '''\n",
        "  # Supplying our dataframes with proper labels\n",
        "  column_headers = ['tweets', 'labels']\n",
        "  # Reading in our three police force rank datasets\n",
        "  synthetic_tweets_cop_shot = pd.read_csv(\"/content/cop_shot_syn.txt\", sep = '/', names=column_headers)\n",
        "  synthetic_tweets_run_over = pd.read_csv(\"/content/run_over_syn.txt\", sep = '/', names=column_headers)\n",
        "  synthetic_tweets_rank2 = pd.read_csv(\"/content/rank2_syn.txt\", sep = '/', names=column_headers)\n",
        "  synthetic_tweets_rank3 = pd.read_csv(\"/content/rank3_syn.txt\", sep = '/', names=column_headers)\n",
        "  synthetic_tweets_rank4 = pd.read_csv(\"/content/rank4_syn.txt\", sep = '/', names=column_headers)\n",
        "  # Concatenating all of our datasets into one\n",
        "  compiled = pd.concat([data_labeler_df, synthetic_tweets_cop_shot, synthetic_tweets_run_over, synthetic_tweets_rank2, synthetic_tweets_rank3, synthetic_tweets_rank4])\n",
        "  # Dropping unnecessary column\n",
        "  compiled.drop('id', axis=1, inplace=True)\n",
        "  # Discarding generated duplicates from GPT-2 while keeping the original Tweets\n",
        "  compiled.drop_duplicates(subset='tweets', keep='first', inplace=True)\n",
        "  # Dropping any possible NaNs\n",
        "  if compiled.isnull().values.any():\n",
        "      compiled.dropna(how='any', inplace=True)\n",
        "\n",
        "  return compiled"
      ],
      "execution_count": 6,
      "outputs": []
    },
    {
      "cell_type": "code",
      "metadata": {
        "colab": {
          "base_uri": "https://localhost:8080/",
          "height": 504
        },
        "id": "JIxVazavHLaJ",
        "outputId": "df1d5e68-7d5b-4d50-e56c-c11ed2f65245"
      },
      "source": [
        "# Applying our function above to view the contents of our dataframe\n",
        "force_ranks = rank_wrangle()\n",
        "force_ranks"
      ],
      "execution_count": 7,
      "outputs": [
        {
          "output_type": "display_data",
          "data": {
            "application/javascript": [
              "\n",
              "        if (window._pyforest_update_imports_cell) { window._pyforest_update_imports_cell('import pandas as pd'); }\n",
              "    "
            ],
            "text/plain": [
              "<IPython.core.display.Javascript object>"
            ]
          },
          "metadata": {}
        },
        {
          "output_type": "display_data",
          "data": {
            "application/javascript": [
              "\n",
              "        if (window._pyforest_update_imports_cell) { window._pyforest_update_imports_cell('import pandas as pd'); }\n",
              "    "
            ],
            "text/plain": [
              "<IPython.core.display.Javascript object>"
            ]
          },
          "metadata": {}
        },
        {
          "output_type": "display_data",
          "data": {
            "application/javascript": [
              "\n",
              "        if (window._pyforest_update_imports_cell) { window._pyforest_update_imports_cell('import pandas as pd'); }\n",
              "    "
            ],
            "text/plain": [
              "<IPython.core.display.Javascript object>"
            ]
          },
          "metadata": {}
        },
        {
          "output_type": "display_data",
          "data": {
            "application/javascript": [
              "\n",
              "        if (window._pyforest_update_imports_cell) { window._pyforest_update_imports_cell('import pandas as pd'); }\n",
              "    "
            ],
            "text/plain": [
              "<IPython.core.display.Javascript object>"
            ]
          },
          "metadata": {}
        },
        {
          "output_type": "display_data",
          "data": {
            "application/javascript": [
              "\n",
              "        if (window._pyforest_update_imports_cell) { window._pyforest_update_imports_cell('import pandas as pd'); }\n",
              "    "
            ],
            "text/plain": [
              "<IPython.core.display.Javascript object>"
            ]
          },
          "metadata": {}
        },
        {
          "output_type": "display_data",
          "data": {
            "application/javascript": [
              "\n",
              "        if (window._pyforest_update_imports_cell) { window._pyforest_update_imports_cell('import pandas as pd'); }\n",
              "    "
            ],
            "text/plain": [
              "<IPython.core.display.Javascript object>"
            ]
          },
          "metadata": {}
        },
        {
          "output_type": "execute_result",
          "data": {
            "text/html": [
              "<div>\n",
              "<style scoped>\n",
              "    .dataframe tbody tr th:only-of-type {\n",
              "        vertical-align: middle;\n",
              "    }\n",
              "\n",
              "    .dataframe tbody tr th {\n",
              "        vertical-align: top;\n",
              "    }\n",
              "\n",
              "    .dataframe thead th {\n",
              "        text-align: right;\n",
              "    }\n",
              "</style>\n",
              "<table border=\"1\" class=\"dataframe\">\n",
              "  <thead>\n",
              "    <tr style=\"text-align: right;\">\n",
              "      <th></th>\n",
              "      <th>tweets</th>\n",
              "      <th>labels</th>\n",
              "    </tr>\n",
              "  </thead>\n",
              "  <tbody>\n",
              "    <tr>\n",
              "      <th>0</th>\n",
              "      <td>A New Mexico State Police officer killed two people in crisis within five weeks, and demands for accountability are mounting https://t.co/mFYfC7kTFQ</td>\n",
              "      <td>5</td>\n",
              "    </tr>\n",
              "    <tr>\n",
              "      <th>1</th>\n",
              "      <td>I found some police badge stickers at work and I’ve started asking every officer I see if they want one with their name on it. I think it’s funny every time and so do they so I will continue this</td>\n",
              "      <td>0</td>\n",
              "    </tr>\n",
              "    <tr>\n",
              "      <th>2</th>\n",
              "      <td>According to media reports, police said they arrested Sharma after a complaint from animal welfare organisation People for Animals. | via @philstarlife https://t.co/DO5ZZlNJHs</td>\n",
              "      <td>1</td>\n",
              "    </tr>\n",
              "    <tr>\n",
              "      <th>3</th>\n",
              "      <td>The male who has the knife is now running northbound, per caller.</td>\n",
              "      <td>0</td>\n",
              "    </tr>\n",
              "    <tr>\n",
              "      <th>4</th>\n",
              "      <td>Changing the assignments of already existing cops and diverting already existing resources means you wouldn’t have increase the police budget.</td>\n",
              "      <td>0</td>\n",
              "    </tr>\n",
              "    <tr>\n",
              "      <th>...</th>\n",
              "      <td>...</td>\n",
              "      <td>...</td>\n",
              "    </tr>\n",
              "    <tr>\n",
              "      <th>917</th>\n",
              "      <td>Following the death of an unarmed driver at the hands of police, protesters gathered outside the Miami Police Department. Footage shows a woman screaming and in sufficient pain that another protester is needed to carry her away quickly. Other protesters come to aid her and are summarily pepper-sprayed.</td>\n",
              "      <td>4</td>\n",
              "    </tr>\n",
              "    <tr>\n",
              "      <th>920</th>\n",
              "      <td>At a protest outside the ICE facility in Portland, protesters built a barricade and threw objects at ICE agents and officers. Federal agents then deployed tear gas and stun grenades against the crowd.</td>\n",
              "      <td>4</td>\n",
              "    </tr>\n",
              "    <tr>\n",
              "      <th>921</th>\n",
              "      <td>Following the death of an unarmed driver at the hands of police, protesters gathered outside the Brooklyn Center police precinct. Around 9pm, police fired tear gas and rubber bullets into the crowd.</td>\n",
              "      <td>4</td>\n",
              "    </tr>\n",
              "    <tr>\n",
              "      <th>922</th>\n",
              "      <td>A journalist with Mill City Citizen Media is shot to death outside a Shake Shack restaurant after refusing to leave the building. The man was wearing a press jacket and held a sign above his head saying he was not allowed to be on the internet. Police said the man’s name was James Borden and he was receiving medical attention while hospitalized. He was shot once through the head and died shortly afterward. Mill City is about an hour away from Portland./4\\r\\nFollowing the death of an unarmed driver at the hands of police, protesters gathered outside the Brooklyn Center police precinct. Police there had been called to the precinct multiple times about a large fight and other protesters disruptive behavior. Police had deployed tear gas and...</td>\n",
              "      <td>4</td>\n",
              "    </tr>\n",
              "    <tr>\n",
              "      <th>923</th>\n",
              "      <td>Video shows sound cannon deployed alongside APC. The LRAD can be heard with its characteristic alarm. The use of LRADs is a subject of much contention, with frequent reports of permanent nerve and hearing damage caused by their use. The ACLU’s position is that due to the high risk of damage and lack of research on lasting effects, use is illegal under most circumstances.</td>\n",
              "      <td>4</td>\n",
              "    </tr>\n",
              "  </tbody>\n",
              "</table>\n",
              "<p>7708 rows × 2 columns</p>\n",
              "</div>"
            ],
            "text/plain": [
              "                                                                                                                                                                                                                                                                                                                                                                                                                                                                                                                                                                                                                                                                                                                                                                            tweets  labels\n",
              "0                                                                                                                                                                                                                                                                                                                                                                                                                                                                                                                                                                                                                             A New Mexico State Police officer killed two people in crisis within five weeks, and demands for accountability are mounting https://t.co/mFYfC7kTFQ       5\n",
              "1                                                                                                                                                                                                                                                                                                                                                                                                                                                                                                                                                                              I found some police badge stickers at work and I’ve started asking every officer I see if they want one with their name on it. I think it’s funny every time and so do they so I will continue this       0\n",
              "2                                                                                                                                                                                                                                                                                                                                                                                                                                                                                                                                                                                                  According to media reports, police said they arrested Sharma after a complaint from animal welfare organisation People for Animals. | via @philstarlife https://t.co/DO5ZZlNJHs       1\n",
              "3                                                                                                                                                                                                                                                                                                                                                                                                                                                                                                                                                                                                                                                                                                                The male who has the knife is now running northbound, per caller.       0\n",
              "4                                                                                                                                                                                                                                                                                                                                                                                                                                                                                                                                                                                                                                   Changing the assignments of already existing cops and diverting already existing resources means you wouldn’t have increase the police budget.       0\n",
              "..                                                                                                                                                                                                                                                                                                                                                                                                                                                                                                                                                                                                                                                                                                                                                                             ...     ...\n",
              "917                                                                                                                                                                                                                                                                                                                                                                                                                                                                Following the death of an unarmed driver at the hands of police, protesters gathered outside the Miami Police Department. Footage shows a woman screaming and in sufficient pain that another protester is needed to carry her away quickly. Other protesters come to aid her and are summarily pepper-sprayed.       4\n",
              "920                                                                                                                                                                                                                                                                                                                                                                                                                                                                                                                                                                       At a protest outside the ICE facility in Portland, protesters built a barricade and threw objects at ICE agents and officers. Federal agents then deployed tear gas and stun grenades against the crowd.       4\n",
              "921                                                                                                                                                                                                                                                                                                                                                                                                                                                                                                                                                                         Following the death of an unarmed driver at the hands of police, protesters gathered outside the Brooklyn Center police precinct. Around 9pm, police fired tear gas and rubber bullets into the crowd.       4\n",
              "922  A journalist with Mill City Citizen Media is shot to death outside a Shake Shack restaurant after refusing to leave the building. The man was wearing a press jacket and held a sign above his head saying he was not allowed to be on the internet. Police said the man’s name was James Borden and he was receiving medical attention while hospitalized. He was shot once through the head and died shortly afterward. Mill City is about an hour away from Portland./4\\r\\nFollowing the death of an unarmed driver at the hands of police, protesters gathered outside the Brooklyn Center police precinct. Police there had been called to the precinct multiple times about a large fight and other protesters disruptive behavior. Police had deployed tear gas and...       4\n",
              "923                                                                                                                                                                                                                                                                                                                                                                                          Video shows sound cannon deployed alongside APC. The LRAD can be heard with its characteristic alarm. The use of LRADs is a subject of much contention, with frequent reports of permanent nerve and hearing damage caused by their use. The ACLU’s position is that due to the high risk of damage and lack of research on lasting effects, use is illegal under most circumstances.       4\n",
              "\n",
              "[7708 rows x 2 columns]"
            ]
          },
          "metadata": {},
          "execution_count": 7
        }
      ]
    },
    {
      "cell_type": "markdown",
      "metadata": {
        "id": "YGUMT3M6IVaN"
      },
      "source": [
        "# Visualizations"
      ]
    },
    {
      "cell_type": "code",
      "metadata": {
        "colab": {
          "base_uri": "https://localhost:8080/",
          "height": 490
        },
        "id": "nVmHBfCsPE8c",
        "outputId": "fc4d3d3b-b23e-411c-ba7a-d5ff8263a094"
      },
      "source": [
        "%matplotlib inline\n",
        "\n",
        "(ggplot(force_ranks)         # defining what dataframe to use\n",
        " + aes(x='labels')          # defining what variable/column to use\n",
        " + geom_bar(size=20)       # defining the type of plot to use and its size\n",
        " + labs(title='Number of Tweets Reporting Police Violence per Force Rank', x='Force Rank', y='Number of Tweets')\n",
        ")"
      ],
      "execution_count": 8,
      "outputs": [
        {
          "output_type": "display_data",
          "data": {
            "image/png": "[encoded data removed]",
            "text/plain": [
              "<Figure size 640x480 with 1 Axes>"
            ]
          },
          "metadata": {}
        },
        {
          "output_type": "execute_result",
          "data": {
            "text/plain": [
              "<ggplot: (8769373768393)>"
            ]
          },
          "metadata": {},
          "execution_count": 8
        }
      ]
    },
    {
      "cell_type": "code",
      "metadata": {
        "colab": {
          "base_uri": "https://localhost:8080/",
          "height": 542
        },
        "id": "o01Ee1pNWXP-",
        "outputId": "bc198d08-0e37-40fe-f430-10ed76bbcff3"
      },
      "source": [
        "# Creating custom donut chart with Plotly\n",
        "labels = ['0 - No Police Presence', '5 - Lethal Force (Guns & Explosives)', '1 - Non-violent Police Presence', '3 - Blunt Force Trauma (Batons & Shields)', '4 - Chemical & Electric Weapons (Tasers & Pepper Spray)', '2 - Open Handed (Arm Holds & Pushing)']\n",
        "values = force_ranks.labels.value_counts()\n",
        "\n",
        "bw_colors = ['rgb(138, 138, 144)', 'rgb(34, 53, 101)', 'rgb(37, 212, 247)', 'rgb(59, 88, 181)', 'rgb(56, 75, 126)',\n",
        "                'rgb(99, 133, 242)']\n",
        "\n",
        "# Using 'pull' on Rank 5 to accentuate the frequency of the most excessive use of force by police\n",
        "# 'hole' determines the size of the donut chart\n",
        "fig = go.Figure(data=[go.Pie(labels=labels,\n",
        "                             values=values, pull=[0, 0.2, 0, 0, 0, 0],\n",
        "                             hole=.3,\n",
        "                             name='Blue Witness',\n",
        "                             marker_colors=bw_colors)])\n",
        "\n",
        "# Displaying our donut chart\n",
        "fig.update(layout_title_text='Percentage of Tweets Reporting Police Violence per Force Rank')\n",
        "fig = go.Figure(fig)\n",
        "fig.show()"
      ],
      "execution_count": 9,
      "outputs": [
        {
          "output_type": "display_data",
          "data": {
            "text/html": [
              "<html>\n",
              "<head><meta charset=\"utf-8\" /></head>\n",
              "<body>\n",
              "    <div>\n",
              "            <script src=\"https://cdnjs.cloudflare.com/ajax/libs/mathjax/2.7.5/MathJax.js?config=TeX-AMS-MML_SVG\"></script><script type=\"text/javascript\">if (window.MathJax) {MathJax.Hub.Config({SVG: {font: \"STIX-Web\"}});}</script>\n",
              "                <script type=\"text/javascript\">window.PlotlyConfig = {MathJaxConfig: 'local'};</script>\n",
              "        <script src=\"https://cdn.plot.ly/plotly-latest.min.js\"></script>    \n",
              "            <div id=\"ce75f294-3726-4a26-9f87-06717ed0eaec\" class=\"plotly-graph-div\" style=\"height:525px; width:100%;\"></div>\n",
              "            <script type=\"text/javascript\">\n",
              "                \n",
              "                    window.PLOTLYENV=window.PLOTLYENV || {};\n",
              "                    \n",
              "                if (document.getElementById(\"ce75f294-3726-4a26-9f87-06717ed0eaec\")) {\n",
              "                    Plotly.newPlot(\n",
              "                        'ce75f294-3726-4a26-9f87-06717ed0eaec',\n",
              "                        [{\"hole\": 0.3, \"labels\": [\"0 - No Police Presence\", \"5 - Lethal Force (Guns & Explosives)\", \"1 - Non-violent Police Presence\", \"3 - Blunt Force Trauma (Batons & Shields)\", \"4 - Chemical & Electric Weapons (Tasers & Pepper Spray)\", \"2 - Open Handed (Arm Holds & Pushing)\"], \"marker\": {\"colors\": [\"rgb(138, 138, 144)\", \"rgb(34, 53, 101)\", \"rgb(37, 212, 247)\", \"rgb(59, 88, 181)\", \"rgb(56, 75, 126)\", \"rgb(99, 133, 242)\"]}, \"name\": \"Blue Witness\", \"pull\": [0, 0.2, 0, 0, 0, 0], \"type\": \"pie\", \"values\": [2559, 1551, 1141, 888, 837, 732]}],\n",
              "                        {\"template\": {\"data\": {\"bar\": [{\"error_x\": {\"color\": \"#2a3f5f\"}, \"error_y\": {\"color\": \"#2a3f5f\"}, \"marker\": {\"line\": {\"color\": \"#E5ECF6\", \"width\": 0.5}}, \"type\": \"bar\"}], \"barpolar\": [{\"marker\": {\"line\": {\"color\": \"#E5ECF6\", \"width\": 0.5}}, \"type\": \"barpolar\"}], \"carpet\": [{\"aaxis\": {\"endlinecolor\": \"#2a3f5f\", \"gridcolor\": \"white\", \"linecolor\": \"white\", \"minorgridcolor\": \"white\", \"startlinecolor\": \"#2a3f5f\"}, \"baxis\": {\"endlinecolor\": \"#2a3f5f\", \"gridcolor\": \"white\", \"linecolor\": \"white\", \"minorgridcolor\": \"white\", \"startlinecolor\": \"#2a3f5f\"}, \"type\": \"carpet\"}], \"choropleth\": [{\"colorbar\": {\"outlinewidth\": 0, \"ticks\": \"\"}, \"type\": \"choropleth\"}], \"contour\": [{\"colorbar\": {\"outlinewidth\": 0, \"ticks\": \"\"}, \"colorscale\": [[0.0, \"#0d0887\"], [0.1111111111111111, \"#46039f\"], [0.2222222222222222, \"#7201a8\"], [0.3333333333333333, \"#9c179e\"], [0.4444444444444444, \"#bd3786\"], [0.5555555555555556, \"#d8576b\"], [0.6666666666666666, \"#ed7953\"], [0.7777777777777778, \"#fb9f3a\"], [0.8888888888888888, \"#fdca26\"], [1.0, \"#f0f921\"]], \"type\": \"contour\"}], \"contourcarpet\": [{\"colorbar\": {\"outlinewidth\": 0, \"ticks\": \"\"}, \"type\": \"contourcarpet\"}], \"heatmap\": [{\"colorbar\": {\"outlinewidth\": 0, \"ticks\": \"\"}, \"colorscale\": [[0.0, \"#0d0887\"], [0.1111111111111111, \"#46039f\"], [0.2222222222222222, \"#7201a8\"], [0.3333333333333333, \"#9c179e\"], [0.4444444444444444, \"#bd3786\"], [0.5555555555555556, \"#d8576b\"], [0.6666666666666666, \"#ed7953\"], [0.7777777777777778, \"#fb9f3a\"], [0.8888888888888888, \"#fdca26\"], [1.0, \"#f0f921\"]], \"type\": \"heatmap\"}], \"heatmapgl\": [{\"colorbar\": {\"outlinewidth\": 0, \"ticks\": \"\"}, \"colorscale\": [[0.0, \"#0d0887\"], [0.1111111111111111, \"#46039f\"], [0.2222222222222222, \"#7201a8\"], [0.3333333333333333, \"#9c179e\"], [0.4444444444444444, \"#bd3786\"], [0.5555555555555556, \"#d8576b\"], [0.6666666666666666, \"#ed7953\"], [0.7777777777777778, \"#fb9f3a\"], [0.8888888888888888, \"#fdca26\"], [1.0, \"#f0f921\"]], \"type\": \"heatmapgl\"}], \"histogram\": [{\"marker\": {\"colorbar\": {\"outlinewidth\": 0, \"ticks\": \"\"}}, \"type\": \"histogram\"}], \"histogram2d\": [{\"colorbar\": {\"outlinewidth\": 0, \"ticks\": \"\"}, \"colorscale\": [[0.0, \"#0d0887\"], [0.1111111111111111, \"#46039f\"], [0.2222222222222222, \"#7201a8\"], [0.3333333333333333, \"#9c179e\"], [0.4444444444444444, \"#bd3786\"], [0.5555555555555556, \"#d8576b\"], [0.6666666666666666, \"#ed7953\"], [0.7777777777777778, \"#fb9f3a\"], [0.8888888888888888, \"#fdca26\"], [1.0, \"#f0f921\"]], \"type\": \"histogram2d\"}], \"histogram2dcontour\": [{\"colorbar\": {\"outlinewidth\": 0, \"ticks\": \"\"}, \"colorscale\": [[0.0, \"#0d0887\"], [0.1111111111111111, \"#46039f\"], [0.2222222222222222, \"#7201a8\"], [0.3333333333333333, \"#9c179e\"], [0.4444444444444444, \"#bd3786\"], [0.5555555555555556, \"#d8576b\"], [0.6666666666666666, \"#ed7953\"], [0.7777777777777778, \"#fb9f3a\"], [0.8888888888888888, \"#fdca26\"], [1.0, \"#f0f921\"]], \"type\": \"histogram2dcontour\"}], \"mesh3d\": [{\"colorbar\": {\"outlinewidth\": 0, \"ticks\": \"\"}, \"type\": \"mesh3d\"}], \"parcoords\": [{\"line\": {\"colorbar\": {\"outlinewidth\": 0, \"ticks\": \"\"}}, \"type\": \"parcoords\"}], \"pie\": [{\"automargin\": true, \"type\": \"pie\"}], \"scatter\": [{\"marker\": {\"colorbar\": {\"outlinewidth\": 0, \"ticks\": \"\"}}, \"type\": \"scatter\"}], \"scatter3d\": [{\"line\": {\"colorbar\": {\"outlinewidth\": 0, \"ticks\": \"\"}}, \"marker\": {\"colorbar\": {\"outlinewidth\": 0, \"ticks\": \"\"}}, \"type\": \"scatter3d\"}], \"scattercarpet\": [{\"marker\": {\"colorbar\": {\"outlinewidth\": 0, \"ticks\": \"\"}}, \"type\": \"scattercarpet\"}], \"scattergeo\": [{\"marker\": {\"colorbar\": {\"outlinewidth\": 0, \"ticks\": \"\"}}, \"type\": \"scattergeo\"}], \"scattergl\": [{\"marker\": {\"colorbar\": {\"outlinewidth\": 0, \"ticks\": \"\"}}, \"type\": \"scattergl\"}], \"scattermapbox\": [{\"marker\": {\"colorbar\": {\"outlinewidth\": 0, \"ticks\": \"\"}}, \"type\": \"scattermapbox\"}], \"scatterpolar\": [{\"marker\": {\"colorbar\": {\"outlinewidth\": 0, \"ticks\": \"\"}}, \"type\": \"scatterpolar\"}], \"scatterpolargl\": [{\"marker\": {\"colorbar\": {\"outlinewidth\": 0, \"ticks\": \"\"}}, \"type\": \"scatterpolargl\"}], \"scatterternary\": [{\"marker\": {\"colorbar\": {\"outlinewidth\": 0, \"ticks\": \"\"}}, \"type\": \"scatterternary\"}], \"surface\": [{\"colorbar\": {\"outlinewidth\": 0, \"ticks\": \"\"}, \"colorscale\": [[0.0, \"#0d0887\"], [0.1111111111111111, \"#46039f\"], [0.2222222222222222, \"#7201a8\"], [0.3333333333333333, \"#9c179e\"], [0.4444444444444444, \"#bd3786\"], [0.5555555555555556, \"#d8576b\"], [0.6666666666666666, \"#ed7953\"], [0.7777777777777778, \"#fb9f3a\"], [0.8888888888888888, \"#fdca26\"], [1.0, \"#f0f921\"]], \"type\": \"surface\"}], \"table\": [{\"cells\": {\"fill\": {\"color\": \"#EBF0F8\"}, \"line\": {\"color\": \"white\"}}, \"header\": {\"fill\": {\"color\": \"#C8D4E3\"}, \"line\": {\"color\": \"white\"}}, \"type\": \"table\"}]}, \"layout\": {\"annotationdefaults\": {\"arrowcolor\": \"#2a3f5f\", \"arrowhead\": 0, \"arrowwidth\": 1}, \"coloraxis\": {\"colorbar\": {\"outlinewidth\": 0, \"ticks\": \"\"}}, \"colorscale\": {\"diverging\": [[0, \"#8e0152\"], [0.1, \"#c51b7d\"], [0.2, \"#de77ae\"], [0.3, \"#f1b6da\"], [0.4, \"#fde0ef\"], [0.5, \"#f7f7f7\"], [0.6, \"#e6f5d0\"], [0.7, \"#b8e186\"], [0.8, \"#7fbc41\"], [0.9, \"#4d9221\"], [1, \"#276419\"]], \"sequential\": [[0.0, \"#0d0887\"], [0.1111111111111111, \"#46039f\"], [0.2222222222222222, \"#7201a8\"], [0.3333333333333333, \"#9c179e\"], [0.4444444444444444, \"#bd3786\"], [0.5555555555555556, \"#d8576b\"], [0.6666666666666666, \"#ed7953\"], [0.7777777777777778, \"#fb9f3a\"], [0.8888888888888888, \"#fdca26\"], [1.0, \"#f0f921\"]], \"sequentialminus\": [[0.0, \"#0d0887\"], [0.1111111111111111, \"#46039f\"], [0.2222222222222222, \"#7201a8\"], [0.3333333333333333, \"#9c179e\"], [0.4444444444444444, \"#bd3786\"], [0.5555555555555556, \"#d8576b\"], [0.6666666666666666, \"#ed7953\"], [0.7777777777777778, \"#fb9f3a\"], [0.8888888888888888, \"#fdca26\"], [1.0, \"#f0f921\"]]}, \"colorway\": [\"#636efa\", \"#EF553B\", \"#00cc96\", \"#ab63fa\", \"#FFA15A\", \"#19d3f3\", \"#FF6692\", \"#B6E880\", \"#FF97FF\", \"#FECB52\"], \"font\": {\"color\": \"#2a3f5f\"}, \"geo\": {\"bgcolor\": \"white\", \"lakecolor\": \"white\", \"landcolor\": \"#E5ECF6\", \"showlakes\": true, \"showland\": true, \"subunitcolor\": \"white\"}, \"hoverlabel\": {\"align\": \"left\"}, \"hovermode\": \"closest\", \"mapbox\": {\"style\": \"light\"}, \"paper_bgcolor\": \"white\", \"plot_bgcolor\": \"#E5ECF6\", \"polar\": {\"angularaxis\": {\"gridcolor\": \"white\", \"linecolor\": \"white\", \"ticks\": \"\"}, \"bgcolor\": \"#E5ECF6\", \"radialaxis\": {\"gridcolor\": \"white\", \"linecolor\": \"white\", \"ticks\": \"\"}}, \"scene\": {\"xaxis\": {\"backgroundcolor\": \"#E5ECF6\", \"gridcolor\": \"white\", \"gridwidth\": 2, \"linecolor\": \"white\", \"showbackground\": true, \"ticks\": \"\", \"zerolinecolor\": \"white\"}, \"yaxis\": {\"backgroundcolor\": \"#E5ECF6\", \"gridcolor\": \"white\", \"gridwidth\": 2, \"linecolor\": \"white\", \"showbackground\": true, \"ticks\": \"\", \"zerolinecolor\": \"white\"}, \"zaxis\": {\"backgroundcolor\": \"#E5ECF6\", \"gridcolor\": \"white\", \"gridwidth\": 2, \"linecolor\": \"white\", \"showbackground\": true, \"ticks\": \"\", \"zerolinecolor\": \"white\"}}, \"shapedefaults\": {\"line\": {\"color\": \"#2a3f5f\"}}, \"ternary\": {\"aaxis\": {\"gridcolor\": \"white\", \"linecolor\": \"white\", \"ticks\": \"\"}, \"baxis\": {\"gridcolor\": \"white\", \"linecolor\": \"white\", \"ticks\": \"\"}, \"bgcolor\": \"#E5ECF6\", \"caxis\": {\"gridcolor\": \"white\", \"linecolor\": \"white\", \"ticks\": \"\"}}, \"title\": {\"x\": 0.05}, \"xaxis\": {\"automargin\": true, \"gridcolor\": \"white\", \"linecolor\": \"white\", \"ticks\": \"\", \"title\": {\"standoff\": 15}, \"zerolinecolor\": \"white\", \"zerolinewidth\": 2}, \"yaxis\": {\"automargin\": true, \"gridcolor\": \"white\", \"linecolor\": \"white\", \"ticks\": \"\", \"title\": {\"standoff\": 15}, \"zerolinecolor\": \"white\", \"zerolinewidth\": 2}}}, \"title\": {\"text\": \"Percentage of Tweets Reporting Police Violence per Force Rank\"}},\n",
              "                        {\"responsive\": true}\n",
              "                    ).then(function(){\n",
              "                            \n",
              "var gd = document.getElementById('ce75f294-3726-4a26-9f87-06717ed0eaec');\n",
              "var x = new MutationObserver(function (mutations, observer) {{\n",
              "        var display = window.getComputedStyle(gd).display;\n",
              "        if (!display || display === 'none') {{\n",
              "            console.log([gd, 'removed!']);\n",
              "            Plotly.purge(gd);\n",
              "            observer.disconnect();\n",
              "        }}\n",
              "}});\n",
              "\n",
              "// Listen for the removal of the full notebook cells\n",
              "var notebookContainer = gd.closest('#notebook-container');\n",
              "if (notebookContainer) {{\n",
              "    x.observe(notebookContainer, {childList: true});\n",
              "}}\n",
              "\n",
              "// Listen for the clearing of the current output cell\n",
              "var outputEl = gd.closest('.output');\n",
              "if (outputEl) {{\n",
              "    x.observe(outputEl, {childList: true});\n",
              "}}\n",
              "\n",
              "                        })\n",
              "                };\n",
              "                \n",
              "            </script>\n",
              "        </div>\n",
              "</body>\n",
              "</html>"
            ]
          },
          "metadata": {}
        }
      ]
    },
    {
      "cell_type": "markdown",
      "metadata": {
        "id": "X3iuUK_pIsCa"
      },
      "source": [
        "# Preparing Data for BERT\n",
        "\n",
        "Splitting dataframe into training and testing sets before converting to parquet for later reference/resource."
      ]
    },
    {
      "cell_type": "code",
      "metadata": {
        "id": "ePZCtrYc4WNR"
      },
      "source": [
        "def parquet_and_split():\n",
        "  '''\n",
        "  Splits our data into a format amicable to NLP modeling.\n",
        "  Saves our original dataframe as well as the two split dataframes into parquet files for later reference/use.\n",
        "  \n",
        "  -----\n",
        "  Parameters \n",
        "  ------\n",
        "  None\n",
        "  Returns\n",
        "  -------\n",
        "  df: pandas dataframes\n",
        "    Contains two split dataframes ready to be fit to and tested against a model\n",
        "  '''\n",
        "  # Splitting dataframe into training and testing sets for modeling\n",
        "  # 20% of our data will be reserved for testing\n",
        "  training, testing = train_test_split(force_ranks, test_size=0.2)\n",
        "  # Sanity Check\n",
        "  if force_ranks.shape[0] == training.shape[0] + testing.shape[0]:\n",
        "      print(\"Sanity Check - Succesful!\")\n",
        "  else:\n",
        "      print(\"Sanity Check - Unsuccessful!\")\n",
        "  # Converting dataframes to parquet format for later reference\n",
        "  # Using parquet as our new dataset storage format as they cannot be edited like CSVs can. They are immutable.\n",
        "  # For viewing in vscode, install the parquet-viewer extension: https://marketplace.visualstudio.com/items?itemName=dvirtz.parquet-viewer\n",
        "  training.to_parquet('synthetic_training.parquet')\n",
        "  testing.to_parquet('synthetic_testing.parquet')\n",
        "  force_ranks.to_parquet('synthetic_complete.parquet')\n",
        "\n",
        "  return training, testing"
      ],
      "execution_count": 10,
      "outputs": []
    },
    {
      "cell_type": "code",
      "metadata": {
        "colab": {
          "base_uri": "https://localhost:8080/",
          "height": 34
        },
        "id": "x5sipZb28x75",
        "outputId": "fb4cd158-0f1a-4136-e1a7-c061822fe551"
      },
      "source": [
        "training, testing = parquet_and_split()"
      ],
      "execution_count": 11,
      "outputs": [
        {
          "output_type": "display_data",
          "data": {
            "application/javascript": [
              "\n",
              "        if (window._pyforest_update_imports_cell) { window._pyforest_update_imports_cell('import pandas as pd\\nfrom sklearn.model_selection import train_test_split'); }\n",
              "    "
            ],
            "text/plain": [
              "<IPython.core.display.Javascript object>"
            ]
          },
          "metadata": {}
        },
        {
          "output_type": "stream",
          "name": "stdout",
          "text": [
            "Sanity Check - Succesful!\n"
          ]
        }
      ]
    },
    {
      "cell_type": "markdown",
      "metadata": {
        "id": "zb31wbWNJ17v"
      },
      "source": [
        "# BERT"
      ]
    },
    {
      "cell_type": "markdown",
      "metadata": {
        "id": "G-RT8OK10XMQ"
      },
      "source": [
        "## Training our NLP Multi-Class Classification Model"
      ]
    },
    {
      "cell_type": "code",
      "metadata": {
        "id": "NQNUUmx_Jz1j"
      },
      "source": [
        "def bert_trainer(df, output_dir: str, epochs: int):\n",
        "    start = time()\n",
        "    max_len = 280\n",
        "    if torch.cuda.is_available():\n",
        "        print(\"CUDA Active\")\n",
        "        device = torch.device(\"cuda\")\n",
        "    else:\n",
        "        print(\"CPU Active\")\n",
        "        device = torch.device(\"cpu\")\n",
        "    sentences = df[\"tweets\"].values\n",
        "    labels = df[\"labels\"].values\n",
        "    tokenizer = BertTokenizer.from_pretrained(\n",
        "        'bert-base-uncased',\n",
        "        do_lower_case=True,\n",
        "    )\n",
        "    inputs = [\n",
        "        tokenizer.encode(sent, add_special_tokens=True) for sent in sentences\n",
        "    ]\n",
        "    inputs_ids = pad_sequences(\n",
        "        inputs,\n",
        "        maxlen=max_len,\n",
        "        dtype=\"long\",\n",
        "        value=0,\n",
        "        truncating=\"post\",\n",
        "        padding=\"post\",\n",
        "    )\n",
        "    attention_masks = [\n",
        "        [int(token_id != 0) for token_id in sent] for sent in inputs_ids\n",
        "    ]\n",
        "    train_inputs = torch.tensor(inputs_ids)\n",
        "    train_labels = torch.tensor(labels)\n",
        "    train_masks = torch.tensor(attention_masks)\n",
        "    batch_size = 32\n",
        "    train_data = TensorDataset(train_inputs, train_masks, train_labels)\n",
        "    train_sampler = RandomSampler(train_data)\n",
        "    train_dataloader = DataLoader(\n",
        "        train_data,\n",
        "        sampler=train_sampler,\n",
        "        batch_size=batch_size,\n",
        "    )\n",
        "    model = BertForSequenceClassification.from_pretrained(\n",
        "        'bert-base-uncased',\n",
        "        num_labels=6,\n",
        "        output_attentions=False,\n",
        "        output_hidden_states=False,\n",
        "    )\n",
        "    if torch.cuda.is_available():\n",
        "        model.cuda()\n",
        "    optimizer = AdamW(model.parameters(), lr=2e-5, eps=1e-8)\n",
        "    total_steps = len(train_dataloader) * epochs\n",
        "    scheduler = get_linear_schedule_with_warmup(\n",
        "        optimizer,\n",
        "        num_warmup_steps=0,\n",
        "        num_training_steps=total_steps,\n",
        "    )\n",
        "    loss_values = []\n",
        "    print('\\nTraining...')\n",
        "    for epoch_i in range(1, epochs + 1):\n",
        "        print(f\"\\nEpoch: {epoch_i}\")\n",
        "        total_loss = 0\n",
        "        model.train()\n",
        "        for step, batch in enumerate(train_dataloader):\n",
        "            b_input_ids = batch[0].to(device)\n",
        "            b_input_mask = batch[1].to(device)\n",
        "            b_labels = batch[2].to(device)\n",
        "            model.zero_grad()\n",
        "            outputs = model(\n",
        "                b_input_ids,\n",
        "                token_type_ids=None,\n",
        "                attention_mask=b_input_mask,\n",
        "                labels=b_labels,\n",
        "            )\n",
        "            loss = outputs[0]\n",
        "            total_loss += loss.item()\n",
        "            loss.backward()\n",
        "            torch.nn.utils.clip_grad_norm_(model.parameters(), 1.0)\n",
        "            optimizer.step()\n",
        "            scheduler.step()\n",
        "\n",
        "        avg_train_loss = total_loss / len(train_dataloader)\n",
        "        loss_values.append(avg_train_loss)\n",
        "        print(f\"Average Loss: {avg_train_loss}\")\n",
        "\n",
        "    if not os.path.exists(output_dir):\n",
        "        os.makedirs(output_dir)\n",
        "    print(f\"\\nSaving model to {output_dir}\")\n",
        "    model_to_save = model.module if hasattr(model, 'module') else model\n",
        "    model_to_save.save_pretrained(output_dir)\n",
        "    tokenizer.save_pretrained(output_dir)\n",
        "    end = time()\n",
        "    total_run_time_in_hours = (((end - start)/60)/60)\n",
        "    rounded_total_run_time_in_hours = np.round(total_run_time_in_hours, decimals=2)\n",
        "    print(f\"Finished training in {rounded_total_run_time_in_hours} hours!\")"
      ],
      "execution_count": 12,
      "outputs": []
    },
    {
      "cell_type": "code",
      "metadata": {
        "colab": {
          "base_uri": "https://localhost:8080/"
        },
        "id": "FoPQ64QlwtZD",
        "outputId": "bfaaec8f-3499-4218-b87a-45f5ab02d298"
      },
      "source": [
        "!nvidia-smi\n",
        "# If running on Colab, the best GPU to have in use is the NVIDIA Tesla P100"
      ],
      "execution_count": 13,
      "outputs": [
        {
          "output_type": "stream",
          "name": "stdout",
          "text": [
            "Mon Sep 20 21:42:31 2021       \n",
            "+-----------------------------------------------------------------------------+\n",
            "| NVIDIA-SMI 470.63.01    Driver Version: 460.32.03    CUDA Version: 11.2     |\n",
            "|-------------------------------+----------------------+----------------------+\n",
            "| GPU  Name        Persistence-M| Bus-Id        Disp.A | Volatile Uncorr. ECC |\n",
            "| Fan  Temp  Perf  Pwr:Usage/Cap|         Memory-Usage | GPU-Util  Compute M. |\n",
            "|                               |                      |               MIG M. |\n",
            "|===============================+======================+======================|\n",
            "|   0  Tesla T4            Off  | 00000000:00:04.0 Off |                    0 |\n",
            "| N/A   58C    P8    10W /  70W |      3MiB / 15109MiB |      0%      Default |\n",
            "|                               |                      |                  N/A |\n",
            "+-------------------------------+----------------------+----------------------+\n",
            "                                                                               \n",
            "+-----------------------------------------------------------------------------+\n",
            "| Processes:                                                                  |\n",
            "|  GPU   GI   CI        PID   Type   Process name                  GPU Memory |\n",
            "|        ID   ID                                                   Usage      |\n",
            "|=============================================================================|\n",
            "|  No running processes found                                                 |\n",
            "+-----------------------------------------------------------------------------+\n"
          ]
        }
      ]
    },
    {
      "cell_type": "code",
      "metadata": {
        "colab": {
          "base_uri": "https://localhost:8080/"
        },
        "id": "oeg_xN9tUryZ",
        "outputId": "da759a9b-d224-4e13-afc3-ecde3e2bbf74"
      },
      "source": [
        "from google.colab import drive\n",
        "drive.mount('/content/drive')"
      ],
      "execution_count": 14,
      "outputs": [
        {
          "output_type": "stream",
          "name": "stdout",
          "text": [
            "Drive already mounted at /content/drive; to attempt to forcibly remount, call drive.mount(\"/content/drive\", force_remount=True).\n"
          ]
        }
      ]
    },
    {
      "cell_type": "code",
      "metadata": {
        "colab": {
          "base_uri": "https://localhost:8080/",
          "height": 1000
        },
        "id": "hCnOUmjCKMil",
        "outputId": "11c21da9-5069-47fd-a91c-fe2891d5b4a8"
      },
      "source": [
        "# Colab notebook may crash the first time this code cell is run. \n",
        "# Running this cell again after runtime restart shouldn't produce any more issues.\n",
        "bert_trainer(training, 'saved_model', epochs=50)"
      ],
      "execution_count": 15,
      "outputs": [
        {
          "output_type": "stream",
          "name": "stdout",
          "text": [
            "CUDA Active\n"
          ]
        },
        {
          "output_type": "stream",
          "name": "stderr",
          "text": [
            "Token indices sequence length is longer than the specified maximum sequence length for this model (586 > 512). Running this sequence through the model will result in indexing errors\n",
            "Some weights of the model checkpoint at bert-base-uncased were not used when initializing BertForSequenceClassification: ['cls.predictions.bias', 'cls.predictions.transform.dense.weight', 'cls.predictions.transform.dense.bias', 'cls.predictions.decoder.weight', 'cls.seq_relationship.weight', 'cls.seq_relationship.bias', 'cls.predictions.transform.LayerNorm.weight', 'cls.predictions.transform.LayerNorm.bias']\n",
            "- This IS expected if you are initializing BertForSequenceClassification from the checkpoint of a model trained on another task or with another architecture (e.g. initializing a BertForSequenceClassification model from a BertForPreTraining model).\n",
            "- This IS NOT expected if you are initializing BertForSequenceClassification from the checkpoint of a model that you expect to be exactly identical (initializing a BertForSequenceClassification model from a BertForSequenceClassification model).\n",
            "Some weights of BertForSequenceClassification were not initialized from the model checkpoint at bert-base-uncased and are newly initialized: ['classifier.weight', 'classifier.bias']\n",
            "You should probably TRAIN this model on a down-stream task to be able to use it for predictions and inference.\n"
          ]
        },
        {
          "output_type": "stream",
          "name": "stdout",
          "text": [
            "\n",
            "Training...\n",
            "\n",
            "Epoch: 1\n",
            "Average Loss: 0.9867600659632312\n",
            "\n",
            "Epoch: 2\n",
            "Average Loss: 0.5368224644135935\n",
            "\n",
            "Epoch: 3\n",
            "Average Loss: 0.36541898069912904\n",
            "\n",
            "Epoch: 4\n",
            "Average Loss: 0.23342622747075373\n",
            "\n",
            "Epoch: 5\n",
            "Average Loss: 0.14578060786495556\n",
            "\n",
            "Epoch: 6\n",
            "Average Loss: 0.10112217858607442\n",
            "\n",
            "Epoch: 7\n",
            "Average Loss: 0.06938433699029947\n",
            "\n",
            "Epoch: 8\n",
            "Average Loss: 0.04572113623741261\n",
            "\n",
            "Epoch: 9\n",
            "Average Loss: 0.03439011470501557\n",
            "\n",
            "Epoch: 10\n",
            "Average Loss: 0.025774610291869702\n",
            "\n",
            "Epoch: 11\n",
            "Average Loss: 0.016303938032077248\n",
            "\n",
            "Epoch: 12\n",
            "Average Loss: 0.018726346491645403\n",
            "\n",
            "Epoch: 13\n",
            "Average Loss: 0.010810602327852168\n",
            "\n",
            "Epoch: 14\n",
            "Average Loss: 0.008389738373129044\n",
            "\n",
            "Epoch: 15\n",
            "Average Loss: 0.003082605297019744\n",
            "\n",
            "Epoch: 16\n",
            "Average Loss: 0.005666346531171337\n",
            "\n",
            "Epoch: 17\n",
            "Average Loss: 0.008038394296978519\n",
            "\n",
            "Epoch: 18\n",
            "Average Loss: 0.004799127399286863\n",
            "\n",
            "Epoch: 19\n",
            "Average Loss: 0.007756974010736141\n",
            "\n",
            "Epoch: 20\n",
            "Average Loss: 0.0072256915181256355\n",
            "\n",
            "Epoch: 21\n",
            "Average Loss: 0.0033441312797186616\n",
            "\n",
            "Epoch: 22\n",
            "Average Loss: 0.0009210900022570464\n",
            "\n",
            "Epoch: 23\n",
            "Average Loss: 0.003213291842408401\n",
            "\n",
            "Epoch: 24\n",
            "Average Loss: 0.004593521730559323\n",
            "\n",
            "Epoch: 25\n",
            "Average Loss: 0.005035649377551386\n",
            "\n",
            "Epoch: 26\n",
            "Average Loss: 0.004818845134113259\n",
            "\n",
            "Epoch: 27\n",
            "Average Loss: 0.001941355251533117\n",
            "\n",
            "Epoch: 28\n",
            "Average Loss: 0.002081229288013075\n",
            "\n",
            "Epoch: 29\n",
            "Average Loss: 0.004949033722915407\n",
            "\n",
            "Epoch: 30\n",
            "Average Loss: 0.001955792461553591\n",
            "\n",
            "Epoch: 31\n",
            "Average Loss: 0.00386127687891064\n",
            "\n",
            "Epoch: 32\n",
            "Average Loss: 0.005878755353346535\n",
            "\n",
            "Epoch: 33\n",
            "Average Loss: 0.003920821086076056\n",
            "\n",
            "Epoch: 34\n",
            "Average Loss: 0.0010564439077679142\n",
            "\n",
            "Epoch: 35\n",
            "Average Loss: 0.003447745284320451\n",
            "\n",
            "Epoch: 36\n",
            "Average Loss: 0.0008909749098816087\n",
            "\n",
            "Epoch: 37\n",
            "Average Loss: 0.00032136486624195624\n",
            "\n",
            "Epoch: 38\n",
            "Average Loss: 0.001043762448900518\n",
            "\n",
            "Epoch: 39\n",
            "Average Loss: 6.17938302841865e-05\n",
            "\n",
            "Epoch: 40\n",
            "Average Loss: 5.854269804585595e-05\n",
            "\n",
            "Epoch: 41\n",
            "Average Loss: 0.0009039086461800979\n",
            "\n",
            "Epoch: 42\n",
            "Average Loss: 6.602040220638907e-05\n",
            "\n",
            "Epoch: 43\n",
            "Average Loss: 0.0015564939642433316\n",
            "\n",
            "Epoch: 44\n",
            "Average Loss: 7.432103272403199e-05\n",
            "\n",
            "Epoch: 45\n",
            "Average Loss: 5.199246511273171e-05\n",
            "\n",
            "Epoch: 46\n",
            "Average Loss: 4.394605596978977e-05\n",
            "\n",
            "Epoch: 47\n",
            "Average Loss: 4.216938113240004e-05\n",
            "\n",
            "Epoch: 48\n",
            "Average Loss: 0.00030157453290951663\n",
            "\n",
            "Epoch: 49\n",
            "Average Loss: 4.007784638269153e-05\n",
            "\n",
            "Epoch: 50\n",
            "Average Loss: 4.160217267875512e-05\n"
          ]
        },
        {
          "output_type": "display_data",
          "data": {
            "application/javascript": [
              "\n",
              "        if (window._pyforest_update_imports_cell) { window._pyforest_update_imports_cell('import pandas as pd\\nimport os\\nfrom sklearn.model_selection import train_test_split'); }\n",
              "    "
            ],
            "text/plain": [
              "<IPython.core.display.Javascript object>"
            ]
          },
          "metadata": {}
        },
        {
          "output_type": "stream",
          "name": "stdout",
          "text": [
            "\n",
            "Saving model to saved_model\n"
          ]
        },
        {
          "output_type": "display_data",
          "data": {
            "application/javascript": [
              "\n",
              "        if (window._pyforest_update_imports_cell) { window._pyforest_update_imports_cell('import pandas as pd\\nimport numpy as np\\nimport os\\nfrom sklearn.model_selection import train_test_split'); }\n",
              "    "
            ],
            "text/plain": [
              "<IPython.core.display.Javascript object>"
            ]
          },
          "metadata": {}
        },
        {
          "output_type": "stream",
          "name": "stdout",
          "text": [
            "Finished training in 4.39 hours!\n"
          ]
        }
      ]
    },
    {
      "cell_type": "markdown",
      "metadata": {
        "id": "UIrDr82Xz_gV"
      },
      "source": [
        "## Making Predictions"
      ]
    },
    {
      "cell_type": "code",
      "metadata": {
        "id": "Yf8nVBS5zftG"
      },
      "source": [
        "class FrankenBert:\n",
        "    \"\"\"\n",
        "    Implements BertForSequenceClassification and BertTokenizer\n",
        "    for binary classification from a saved model\n",
        "    \"\"\"\n",
        "\n",
        "    def __init__(self, path: str):\n",
        "        \"\"\"\n",
        "        If there's a GPU available, tell PyTorch to use the GPU.\n",
        "        Loads model and tokenizer from saved model directory (path)\n",
        "        \"\"\"\n",
        "        if torch.cuda.is_available():\n",
        "            self.device = torch.device('cuda')\n",
        "        else:\n",
        "            self.device = torch.device('cpu')\n",
        "        self.model = BertForSequenceClassification.from_pretrained(path)\n",
        "        self.tokenizer = BertTokenizer.from_pretrained(path)\n",
        "        self.model.to(self.device)\n",
        "\n",
        "    def predict(self, text: str):\n",
        "        \"\"\"\n",
        "        Makes a binary classification prediction based on saved model\n",
        "        \"\"\"\n",
        "        inputs = self.tokenizer(\n",
        "            text,\n",
        "            padding=True,\n",
        "            truncation=True,\n",
        "            max_length=280,\n",
        "            return_tensors='pt',\n",
        "        ).to(self.device)\n",
        "        output = self.model(**inputs)\n",
        "        prediction = output[0].softmax(1)\n",
        "        tensors = prediction.detach().cpu().numpy()\n",
        "        result = np.argmax(tensors)\n",
        "        confidence = tensors[0][result]\n",
        "        return f\"Rank: {result}, {100 * confidence:.2f}%\""
      ],
      "execution_count": 16,
      "outputs": []
    },
    {
      "cell_type": "code",
      "metadata": {
        "id": "e5bd5ka_zhCm"
      },
      "source": [
        "model = FrankenBert('saved_model')"
      ],
      "execution_count": 17,
      "outputs": []
    },
    {
      "cell_type": "code",
      "metadata": {
        "colab": {
          "base_uri": "https://localhost:8080/",
          "height": 35
        },
        "id": "5ePlcC02zmXH",
        "outputId": "6db0e7ec-668f-46cf-a001-3ddca290febc"
      },
      "source": [
        "model.predict(\"Mickey Mouse is in the house\")"
      ],
      "execution_count": 18,
      "outputs": [
        {
          "output_type": "display_data",
          "data": {
            "application/javascript": [
              "\n",
              "        if (window._pyforest_update_imports_cell) { window._pyforest_update_imports_cell('import pandas as pd\\nimport numpy as np\\nimport os\\nfrom sklearn.model_selection import train_test_split'); }\n",
              "    "
            ],
            "text/plain": [
              "<IPython.core.display.Javascript object>"
            ]
          },
          "metadata": {}
        },
        {
          "output_type": "execute_result",
          "data": {
            "application/vnd.google.colaboratory.intrinsic+json": {
              "type": "string"
            },
            "text/plain": [
              "'Rank: 0, 100.00%'"
            ]
          },
          "metadata": {},
          "execution_count": 18
        }
      ]
    },
    {
      "cell_type": "code",
      "metadata": {
        "colab": {
          "base_uri": "https://localhost:8080/",
          "height": 35
        },
        "id": "Y_gU3i_3zokR",
        "outputId": "de43724b-c79c-4d63-fe8a-052db5fe11ff"
      },
      "source": [
        "model.predict(\"Cops gave me a speeding ticket for walking too fast\")"
      ],
      "execution_count": 19,
      "outputs": [
        {
          "output_type": "display_data",
          "data": {
            "application/javascript": [
              "\n",
              "        if (window._pyforest_update_imports_cell) { window._pyforest_update_imports_cell('import pandas as pd\\nimport numpy as np\\nimport os\\nfrom sklearn.model_selection import train_test_split'); }\n",
              "    "
            ],
            "text/plain": [
              "<IPython.core.display.Javascript object>"
            ]
          },
          "metadata": {}
        },
        {
          "output_type": "execute_result",
          "data": {
            "application/vnd.google.colaboratory.intrinsic+json": {
              "type": "string"
            },
            "text/plain": [
              "'Rank: 1, 100.00%'"
            ]
          },
          "metadata": {},
          "execution_count": 19
        }
      ]
    },
    {
      "cell_type": "code",
      "metadata": {
        "colab": {
          "base_uri": "https://localhost:8080/",
          "height": 35
        },
        "id": "Rav_B9D9zqTK",
        "outputId": "7e8d8ee8-f3fb-4cde-ac33-7902be5a3639"
      },
      "source": [
        "model.predict(\"Officer Kelly was shot and killed\")"
      ],
      "execution_count": 20,
      "outputs": [
        {
          "output_type": "display_data",
          "data": {
            "application/javascript": [
              "\n",
              "        if (window._pyforest_update_imports_cell) { window._pyforest_update_imports_cell('import pandas as pd\\nimport numpy as np\\nimport os\\nfrom sklearn.model_selection import train_test_split'); }\n",
              "    "
            ],
            "text/plain": [
              "<IPython.core.display.Javascript object>"
            ]
          },
          "metadata": {}
        },
        {
          "output_type": "execute_result",
          "data": {
            "application/vnd.google.colaboratory.intrinsic+json": {
              "type": "string"
            },
            "text/plain": [
              "'Rank: 1, 100.00%'"
            ]
          },
          "metadata": {},
          "execution_count": 20
        }
      ]
    },
    {
      "cell_type": "code",
      "metadata": {
        "colab": {
          "base_uri": "https://localhost:8080/",
          "height": 35
        },
        "id": "MgSwUbk5zrqw",
        "outputId": "b43585ab-83d5-4915-ab1b-5a4f70987070"
      },
      "source": [
        "model.predict(\"A Texas Department of Public Safety (DPS) trooper ran over and killed a man who was in the road near the State Capitol early Thursday morning, according to the Austin Police Department (APD). The crash happened at around 3:45 a.m. Thursday just west of the Texas State Capitol building. The trooper was heading northbound on Colorado Street and as he was turning left on 13th Street, the trooper hit the pedestrian. DPS said the crash happened while the trooper was patrolling the area.\")"
      ],
      "execution_count": 21,
      "outputs": [
        {
          "output_type": "display_data",
          "data": {
            "application/javascript": [
              "\n",
              "        if (window._pyforest_update_imports_cell) { window._pyforest_update_imports_cell('import pandas as pd\\nimport numpy as np\\nimport os\\nfrom sklearn.model_selection import train_test_split'); }\n",
              "    "
            ],
            "text/plain": [
              "<IPython.core.display.Javascript object>"
            ]
          },
          "metadata": {}
        },
        {
          "output_type": "execute_result",
          "data": {
            "application/vnd.google.colaboratory.intrinsic+json": {
              "type": "string"
            },
            "text/plain": [
              "'Rank: 5, 100.00%'"
            ]
          },
          "metadata": {},
          "execution_count": 21
        }
      ]
    },
    {
      "cell_type": "code",
      "metadata": {
        "colab": {
          "base_uri": "https://localhost:8080/",
          "height": 35
        },
        "id": "QqDel3fYzuca",
        "outputId": "c799f005-52c2-4369-801d-35b4e25d1bec"
      },
      "source": [
        "model.predict(\"Cop ran me over with his SUV\")"
      ],
      "execution_count": 22,
      "outputs": [
        {
          "output_type": "display_data",
          "data": {
            "application/javascript": [
              "\n",
              "        if (window._pyforest_update_imports_cell) { window._pyforest_update_imports_cell('import pandas as pd\\nimport numpy as np\\nimport os\\nfrom sklearn.model_selection import train_test_split'); }\n",
              "    "
            ],
            "text/plain": [
              "<IPython.core.display.Javascript object>"
            ]
          },
          "metadata": {}
        },
        {
          "output_type": "execute_result",
          "data": {
            "application/vnd.google.colaboratory.intrinsic+json": {
              "type": "string"
            },
            "text/plain": [
              "'Rank: 5, 100.00%'"
            ]
          },
          "metadata": {},
          "execution_count": 22
        }
      ]
    },
    {
      "cell_type": "code",
      "metadata": {
        "colab": {
          "base_uri": "https://localhost:8080/",
          "height": 35
        },
        "id": "0XB29yAmzv79",
        "outputId": "ef29265a-0261-4745-c3f1-47477734347a"
      },
      "source": [
        "model.predict(\"Cops hit her with a baton\")"
      ],
      "execution_count": 23,
      "outputs": [
        {
          "output_type": "display_data",
          "data": {
            "application/javascript": [
              "\n",
              "        if (window._pyforest_update_imports_cell) { window._pyforest_update_imports_cell('import pandas as pd\\nimport numpy as np\\nimport os\\nfrom sklearn.model_selection import train_test_split'); }\n",
              "    "
            ],
            "text/plain": [
              "<IPython.core.display.Javascript object>"
            ]
          },
          "metadata": {}
        },
        {
          "output_type": "execute_result",
          "data": {
            "application/vnd.google.colaboratory.intrinsic+json": {
              "type": "string"
            },
            "text/plain": [
              "'Rank: 3, 100.00%'"
            ]
          },
          "metadata": {},
          "execution_count": 23
        }
      ]
    },
    {
      "cell_type": "code",
      "metadata": {
        "colab": {
          "base_uri": "https://localhost:8080/",
          "height": 35
        },
        "id": "YVfH1xu-zweT",
        "outputId": "e6a5cfb4-b017-4a2b-83a9-5f2aa14f0d3c"
      },
      "source": [
        "model.predict(\"Cops sprayed my mom with pepper spray\")"
      ],
      "execution_count": 24,
      "outputs": [
        {
          "output_type": "display_data",
          "data": {
            "application/javascript": [
              "\n",
              "        if (window._pyforest_update_imports_cell) { window._pyforest_update_imports_cell('import pandas as pd\\nimport numpy as np\\nimport os\\nfrom sklearn.model_selection import train_test_split'); }\n",
              "    "
            ],
            "text/plain": [
              "<IPython.core.display.Javascript object>"
            ]
          },
          "metadata": {}
        },
        {
          "output_type": "execute_result",
          "data": {
            "application/vnd.google.colaboratory.intrinsic+json": {
              "type": "string"
            },
            "text/plain": [
              "'Rank: 4, 100.00%'"
            ]
          },
          "metadata": {},
          "execution_count": 24
        }
      ]
    },
    {
      "cell_type": "code",
      "metadata": {
        "colab": {
          "base_uri": "https://localhost:8080/",
          "height": 35
        },
        "id": "3tNyT44TzzAR",
        "outputId": "e77fe3bc-3a28-4c33-b7ac-0373069359a8"
      },
      "source": [
        "model.predict(\"Cops shot rubber bullets at the crowd\")"
      ],
      "execution_count": 25,
      "outputs": [
        {
          "output_type": "display_data",
          "data": {
            "application/javascript": [
              "\n",
              "        if (window._pyforest_update_imports_cell) { window._pyforest_update_imports_cell('import pandas as pd\\nimport numpy as np\\nimport os\\nfrom sklearn.model_selection import train_test_split'); }\n",
              "    "
            ],
            "text/plain": [
              "<IPython.core.display.Javascript object>"
            ]
          },
          "metadata": {}
        },
        {
          "output_type": "execute_result",
          "data": {
            "application/vnd.google.colaboratory.intrinsic+json": {
              "type": "string"
            },
            "text/plain": [
              "'Rank: 4, 99.98%'"
            ]
          },
          "metadata": {},
          "execution_count": 25
        }
      ]
    },
    {
      "cell_type": "code",
      "metadata": {
        "colab": {
          "base_uri": "https://localhost:8080/",
          "height": 35
        },
        "id": "9A1gAyIDzzne",
        "outputId": "2bc6a912-cccd-43d2-ecd8-452dc7d8998e"
      },
      "source": [
        "model.predict(\"Police used tear gas on a pedestrian for no reason\")"
      ],
      "execution_count": 26,
      "outputs": [
        {
          "output_type": "display_data",
          "data": {
            "application/javascript": [
              "\n",
              "        if (window._pyforest_update_imports_cell) { window._pyforest_update_imports_cell('import pandas as pd\\nimport numpy as np\\nimport os\\nfrom sklearn.model_selection import train_test_split'); }\n",
              "    "
            ],
            "text/plain": [
              "<IPython.core.display.Javascript object>"
            ]
          },
          "metadata": {}
        },
        {
          "output_type": "execute_result",
          "data": {
            "application/vnd.google.colaboratory.intrinsic+json": {
              "type": "string"
            },
            "text/plain": [
              "'Rank: 4, 100.00%'"
            ]
          },
          "metadata": {},
          "execution_count": 26
        }
      ]
    },
    {
      "cell_type": "code",
      "metadata": {
        "colab": {
          "base_uri": "https://localhost:8080/",
          "height": 35
        },
        "id": "7ubFcbPUz0xp",
        "outputId": "2cdf2bc3-5f35-4274-db53-86a2eab7c07a"
      },
      "source": [
        "model.predict(\"Cops killed that woman\")"
      ],
      "execution_count": 27,
      "outputs": [
        {
          "output_type": "display_data",
          "data": {
            "application/javascript": [
              "\n",
              "        if (window._pyforest_update_imports_cell) { window._pyforest_update_imports_cell('import pandas as pd\\nimport numpy as np\\nimport os\\nfrom sklearn.model_selection import train_test_split'); }\n",
              "    "
            ],
            "text/plain": [
              "<IPython.core.display.Javascript object>"
            ]
          },
          "metadata": {}
        },
        {
          "output_type": "execute_result",
          "data": {
            "application/vnd.google.colaboratory.intrinsic+json": {
              "type": "string"
            },
            "text/plain": [
              "'Rank: 5, 99.99%'"
            ]
          },
          "metadata": {},
          "execution_count": 27
        }
      ]
    },
    {
      "cell_type": "code",
      "metadata": {
        "colab": {
          "base_uri": "https://localhost:8080/",
          "height": 35
        },
        "id": "juCXoIYZz31x",
        "outputId": "b5b73aba-696d-48e7-a2a4-620e85fcece9"
      },
      "source": [
        "model.predict(\"Yesterday I saw a policeman hit a poor person behind my house. I wonder whats going on\")"
      ],
      "execution_count": 28,
      "outputs": [
        {
          "output_type": "display_data",
          "data": {
            "application/javascript": [
              "\n",
              "        if (window._pyforest_update_imports_cell) { window._pyforest_update_imports_cell('import pandas as pd\\nimport numpy as np\\nimport os\\nfrom sklearn.model_selection import train_test_split'); }\n",
              "    "
            ],
            "text/plain": [
              "<IPython.core.display.Javascript object>"
            ]
          },
          "metadata": {}
        },
        {
          "output_type": "execute_result",
          "data": {
            "application/vnd.google.colaboratory.intrinsic+json": {
              "type": "string"
            },
            "text/plain": [
              "'Rank: 2, 99.99%'"
            ]
          },
          "metadata": {},
          "execution_count": 28
        }
      ]
    },
    {
      "cell_type": "code",
      "metadata": {
        "colab": {
          "base_uri": "https://localhost:8080/",
          "height": 35
        },
        "id": "FV3x8hN0z5cc",
        "outputId": "f925bddf-29eb-4b15-9432-c7cf5719e4a9"
      },
      "source": [
        "model.predict(\"Man ran up to me and pepper sprayed me. I've called the cops, but they have not gotten themselves involved yet.\")"
      ],
      "execution_count": 29,
      "outputs": [
        {
          "output_type": "display_data",
          "data": {
            "application/javascript": [
              "\n",
              "        if (window._pyforest_update_imports_cell) { window._pyforest_update_imports_cell('import pandas as pd\\nimport numpy as np\\nimport os\\nfrom sklearn.model_selection import train_test_split'); }\n",
              "    "
            ],
            "text/plain": [
              "<IPython.core.display.Javascript object>"
            ]
          },
          "metadata": {}
        },
        {
          "output_type": "execute_result",
          "data": {
            "application/vnd.google.colaboratory.intrinsic+json": {
              "type": "string"
            },
            "text/plain": [
              "'Rank: 4, 100.00%'"
            ]
          },
          "metadata": {},
          "execution_count": 29
        }
      ]
    },
    {
      "cell_type": "markdown",
      "metadata": {
        "id": "LEHQbiIO3QlR"
      },
      "source": [
        "## Saving Trained Model "
      ]
    },
    {
      "cell_type": "code",
      "metadata": {
        "colab": {
          "base_uri": "https://localhost:8080/"
        },
        "id": "LIBP7bVIzHXp",
        "outputId": "4bc3dcc5-565e-4f66-f89a-04cde8a399fe"
      },
      "source": [
        "from google.colab import drive\n",
        "drive.mount('/content/gdrive')\n"
      ],
      "execution_count": 32,
      "outputs": [
        {
          "output_type": "stream",
          "name": "stdout",
          "text": [
            "Mounted at /content/gdrive\n"
          ]
        }
      ]
    },
    {
      "cell_type": "code",
      "metadata": {
        "colab": {
          "base_uri": "https://localhost:8080/"
        },
        "id": "0Q1lTL_b2pVu",
        "outputId": "2ab0abd6-24bf-46b2-8c1c-c46a8f3860a3"
      },
      "source": [
        "#path that contains folder you want to copy\n",
        "%cd /content/gdrive/MyDrive/ColabNotebooks/Labs/saved_model\n",
        "\n",
        "# copy local folder to folder on Google Drive \n",
        "%cp -av /content/saved_model saved_model"
      ],
      "execution_count": 33,
      "outputs": [
        {
          "output_type": "stream",
          "name": "stdout",
          "text": [
            "/content/gdrive/MyDrive/ColabNotebooks/Labs/saved_model\n",
            "'/content/saved_model' -> 'saved_model'\n",
            "'/content/saved_model/.ipynb_checkpoints' -> 'saved_model/.ipynb_checkpoints'\n",
            "'/content/saved_model/config.json' -> 'saved_model/config.json'\n",
            "'/content/saved_model/pytorch_model.bin' -> 'saved_model/pytorch_model.bin'\n",
            "'/content/saved_model/tokenizer_config.json' -> 'saved_model/tokenizer_config.json'\n",
            "'/content/saved_model/special_tokens_map.json' -> 'saved_model/special_tokens_map.json'\n",
            "'/content/saved_model/vocab.txt' -> 'saved_model/vocab.txt'\n"
          ]
        }
      ]
    }
  ]
}