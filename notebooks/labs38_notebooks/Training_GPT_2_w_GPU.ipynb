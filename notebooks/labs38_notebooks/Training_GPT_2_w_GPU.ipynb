{
  "nbformat": 4,
  "nbformat_minor": 0,
  "metadata": {
    "accelerator": "GPU",
    "colab": {
      "name": "Training_GPT_2_w_GPU.ipynb",
      "provenance": [],
      "collapsed_sections": []
    },
    "kernelspec": {
      "display_name": "Python 3",
      "language": "python",
      "name": "python3"
    },
    "language_info": {
      "codemirror_mode": {
        "name": "ipython",
        "version": 3
      },
      "file_extension": ".py",
      "mimetype": "text/x-python",
      "name": "python",
      "nbconvert_exporter": "python",
      "pygments_lexer": "ipython3",
      "version": "3.8.8"
    }
  },
  "cells": [
    {
      "cell_type": "markdown",
      "metadata": {
        "id": "w_XQvKmy5x20"
      },
      "source": [
        "***This notebook is meant to be run in Google Colab***"
      ]
    },
    {
      "cell_type": "markdown",
      "metadata": {
        "id": "H7LoMj4GA4n_"
      },
      "source": [
        "#  Training a GPT-2 Text-Generating Model w/ GPU\n",
        "\n",
        "[GPT-2 info from OpenAI](https://https://openai.com/blog/better-language-models/)\n",
        "\n",
        "[GPT-2 Simple - Github Repo](https://github.com/minimaxir/gpt-2-simple)\n",
        "\n",
        "*As of Labs37*\n",
        "\n",
        "The BERT model we've inherited from prior cohorts has been suffering from a major class imbalance.\n",
        "\n",
        "The data they collected for the training of this NLP classification model were unlabelled, prompting the creation of [this](http://bw-labeler-dev.us-east-1.elasticbeanstalk.com/). Ranks 2, 3, & 4 have but a few hundred samples among them, while Ranks 0, 1, & 5 contain thousands. Extreme cases of police activity are plenty, ranging from their complete absence to their murdering of innocent civillians. Rare is the opportunity to rank 'moderate' examples of police misconduct.\n",
        "\n",
        "To alleviate this imbalance while side-stepping an otherwise [mundane task](https://www.kdnuggets.com/2017/06/acquiring-quality-labeled-training-data.html), Labs37 has decided to generate these tweets themselves. And what better way to fulfill this task than to use one of the most robust, open source, text-generating models around?"
      ]
    },
    {
      "cell_type": "code",
      "metadata": {
        "colab": {
          "base_uri": "https://localhost:8080/"
        },
        "id": "g5D1SIbdJaDa",
        "outputId": "c64093dd-4a21-481e-e018-a038786892a7"
      },
      "source": [
        "from google.colab import drive\n",
        "drive.mount('/content/drive')"
      ],
      "execution_count": 1,
      "outputs": [
        {
          "output_type": "stream",
          "name": "stdout",
          "text": [
            "Drive already mounted at /content/drive; to attempt to forcibly remount, call drive.mount(\"/content/drive\", force_remount=True).\n"
          ]
        }
      ]
    },
    {
      "cell_type": "code",
      "metadata": {
        "colab": {
          "base_uri": "https://localhost:8080/"
        },
        "id": "KBkpRgBCBS2_",
        "outputId": "90ab26c8-3d20-4de8-9880-db9140744972"
      },
      "source": [
        "%tensorflow_version 1.x\n",
        "!pip install -q gpt-2-simple\n",
        "import gpt_2_simple as gpt2\n",
        "from datetime import datetime\n",
        "from google.colab import files\n",
        "from time import time\n",
        "import pandas as pd\n",
        "!pip install psycopg2\n",
        "import psycopg2"
      ],
      "execution_count": 2,
      "outputs": [
        {
          "output_type": "stream",
          "name": "stdout",
          "text": [
            "TensorFlow 1.x selected.\n",
            "WARNING:tensorflow:\n",
            "The TensorFlow contrib module will not be included in TensorFlow 2.0.\n",
            "For more information, please see:\n",
            "  * https://github.com/tensorflow/community/blob/master/rfcs/20180907-contrib-sunset.md\n",
            "  * https://github.com/tensorflow/addons\n",
            "  * https://github.com/tensorflow/io (for I/O related ops)\n",
            "If you depend on functionality not listed there, please file an issue.\n",
            "\n",
            "Requirement already satisfied: psycopg2 in /usr/local/lib/python3.7/dist-packages (2.7.6.1)\n"
          ]
        },
        {
          "output_type": "stream",
          "name": "stderr",
          "text": [
            "/usr/local/lib/python3.7/dist-packages/psycopg2/__init__.py:144: UserWarning: The psycopg2 wheel package will be renamed from release 2.8; in order to keep installing from binary please use \"pip install psycopg2-binary\" instead. For details see: <http://initd.org/psycopg/docs/install.html#binary-install-from-pypi>.\n",
            "  \"\"\")\n"
          ]
        }
      ]
    },
    {
      "cell_type": "markdown",
      "metadata": {
        "id": "Bj2IJLHP3KwE"
      },
      "source": [
        "## GPU\n",
        "\n",
        "Colab uses either a Nvidia T4 GPU or an Nvidia K80 GPU. The T4 is slightly faster than the old K80 for training GPT-2, and has more memory allowing you to train the larger GPT-2 models and generate more text.\n",
        "\n",
        "You can verify which GPU is active by running the cell below."
      ]
    },
    {
      "cell_type": "code",
      "metadata": {
        "colab": {
          "base_uri": "https://localhost:8080/"
        },
        "id": "sUmTooTW3osf",
        "outputId": "394a1417-c2db-43af-8a49-4ebfff6f2342"
      },
      "source": [
        "!nvidia-smi"
      ],
      "execution_count": 3,
      "outputs": [
        {
          "output_type": "stream",
          "name": "stdout",
          "text": [
            "Fri Sep 17 03:55:40 2021       \n",
            "+-----------------------------------------------------------------------------+\n",
            "| NVIDIA-SMI 470.63.01    Driver Version: 460.32.03    CUDA Version: 11.2     |\n",
            "|-------------------------------+----------------------+----------------------+\n",
            "| GPU  Name        Persistence-M| Bus-Id        Disp.A | Volatile Uncorr. ECC |\n",
            "| Fan  Temp  Perf  Pwr:Usage/Cap|         Memory-Usage | GPU-Util  Compute M. |\n",
            "|                               |                      |               MIG M. |\n",
            "|===============================+======================+======================|\n",
            "|   0  Tesla T4            Off  | 00000000:00:04.0 Off |                    0 |\n",
            "| N/A   50C    P8    10W /  70W |      0MiB / 15109MiB |      0%      Default |\n",
            "|                               |                      |                  N/A |\n",
            "+-------------------------------+----------------------+----------------------+\n",
            "                                                                               \n",
            "+-----------------------------------------------------------------------------+\n",
            "| Processes:                                                                  |\n",
            "|  GPU   GI   CI        PID   Type   Process name                  GPU Memory |\n",
            "|        ID   ID                                                   Usage      |\n",
            "|=============================================================================|\n",
            "|  No running processes found                                                 |\n",
            "+-----------------------------------------------------------------------------+\n"
          ]
        }
      ]
    },
    {
      "cell_type": "markdown",
      "metadata": {
        "id": "Ir6-8n0L7Zr0"
      },
      "source": [
        "Don't let   `0  Tesla T4            Off` fool you. It's on. Colab, for whatever reason, doesn't display whether their GPUs are enabled or not with the `nvidia-smi` shell command. \n",
        "\n",
        "If you're wondering if it's even on at all, try running that shell command again after changing your runtime back to **CPU**. It won't appear, but it will with a **GPU** runtime.\n",
        "\n",
        "It's a shame it'll never display  `0  Tesla T4            On`."
      ]
    },
    {
      "cell_type": "markdown",
      "metadata": {
        "id": "0wXB05bPDYxS"
      },
      "source": [
        "## Downloading GPT-2\n",
        "\n",
        "If you're retraining a model on new text, you need to download the GPT-2 model first. \n",
        "\n",
        "There are three released sizes of GPT-2:\n",
        "\n",
        "* `124M` (default): the \"small\" model, 500MB on disk.\n",
        "* `355M`: the \"medium\" model, 1.5GB on disk.\n",
        "* `774M`: the \"large\" model, cannot currently be finetuned with Colaboratory but can be used to generate text from the pretrained model (see later in Notebook)\n",
        "* `1558M`: the \"extra large\", true model. Will not work if a K80/P4 GPU is attached to the notebook. (like `774M`, it cannot be finetuned).\n",
        "\n",
        "Larger models have more knowledge, but take longer to finetune and longer to generate text. You can specify which base model to use by changing `model_name` in the cells below.\n",
        "\n",
        "The next cell downloads it from Google Cloud Storage and saves it in the Colaboratory VM at `/models/<model_name>`.\n",
        "\n",
        "This model isn't permanently saved in the Colaboratory VM; you'll have to redownload it if you want to retrain it at a later time."
      ]
    },
    {
      "cell_type": "code",
      "metadata": {
        "colab": {
          "base_uri": "https://localhost:8080/"
        },
        "id": "P8wSlgXoDPCR",
        "outputId": "674c7167-d050-4d96-e8c9-ce98ab3542e3"
      },
      "source": [
        "gpt2.download_gpt2(model_name=\"355M\")"
      ],
      "execution_count": 4,
      "outputs": [
        {
          "output_type": "stream",
          "name": "stderr",
          "text": [
            "Fetching checkpoint: 1.05Mit [00:00, 198Mit/s]                                                      \n",
            "Fetching encoder.json: 1.05Mit [00:00, 3.41Mit/s]\n",
            "Fetching hparams.json: 1.05Mit [00:00, 326Mit/s]                                                    \n",
            "Fetching model.ckpt.data-00000-of-00001: 1.42Git [00:56, 24.9Mit/s]\n",
            "Fetching model.ckpt.index: 1.05Mit [00:00, 218Mit/s]                                                \n",
            "Fetching model.ckpt.meta: 1.05Mit [00:00, 3.27Mit/s]\n",
            "Fetching vocab.bpe: 1.05Mit [00:00, 4.15Mit/s]\n"
          ]
        }
      ]
    },
    {
      "cell_type": "markdown",
      "metadata": {
        "id": "N8KXuKWzQSsN"
      },
      "source": [
        "## Mounting Google Drive\n",
        "\n",
        "The best way to get input text to-be-trained into the Colab VM, and to get the trained model *out* of Colab, is to route it through Google Drive *first*.\n",
        "\n",
        "Running this cell (which will only work in Colab) will mount your personal Google Drive in the VM, which later cells can use to get data in/out. (it will ask for an auth code; that auth is not saved anywhere)"
      ]
    },
    {
      "cell_type": "code",
      "metadata": {
        "colab": {
          "base_uri": "https://localhost:8080/"
        },
        "id": "puq4iC6vUAHc",
        "outputId": "4fccf9b0-39ba-43f0-d9b2-9c0287bfa2c0"
      },
      "source": [
        "gpt2.mount_gdrive()"
      ],
      "execution_count": 5,
      "outputs": [
        {
          "output_type": "stream",
          "name": "stdout",
          "text": [
            "Drive already mounted at /content/drive; to attempt to forcibly remount, call drive.mount(\"/content/drive\", force_remount=True).\n"
          ]
        }
      ]
    },
    {
      "cell_type": "markdown",
      "metadata": {
        "id": "jGaAHj1V2QRo"
      },
      "source": [
        "# Gathering Our Text Data\n",
        "\n",
        "The tweets we'll be using to train our GPT-2 model must come in the form a of .txt file.\n",
        "\n",
        "To do that we'll read in a .CSV file containing 5k tweets and isolate them from all other columns contained within their dataset.\n",
        "\n",
        "We also want to train GPT-2 on each rank, **separately**, so as to ensure each batch of texts it'll generate only contains that rank, ensuring a simple labelling and compilation of our synthetic tweets."
      ]
    },
    {
      "cell_type": "code",
      "metadata": {
        "id": "nke-yIiirAKG"
      },
      "source": [
        "def get_df(db_url) -> pd.DataFrame:\n",
        "    '''\n",
        "    Connects to our Blue Witness Data Labeler and retrieves manually labelled text before converting them all into a pandas dataframe.\n",
        "    \n",
        "    Parameters\n",
        "    ----------\n",
        "    db_url: psycopg2 database\n",
        "    \n",
        "    Returns\n",
        "    -------\n",
        "    df: pandas datafarme \n",
        "        Contains thousands of text with appropriate police (non-)violence labels\n",
        "    '''\n",
        "    conn = psycopg2.connect(db_url)\n",
        "    curs = conn.cursor()\n",
        "    curs.execute(\"SELECT * FROM training;\")\n",
        "    cols = [k[0] for k in curs.description]\n",
        "    rows = curs.fetchall()\n",
        "    df = pd.DataFrame(rows, columns=cols)\n",
        "    curs.close()\n",
        "    conn.close()\n",
        "    return df"
      ],
      "execution_count": null,
      "outputs": []
    },
    {
      "cell_type": "code",
      "metadata": {
        "id": "ZIG_DapjrIFa"
      },
      "source": [
        "# ALWAYS REMEMBER TO REMOVE THE PostgreSQL URL ASSIGNED TO THIS VARIABLE WHEN COMITTING TO OUR REPO\n",
        "db_url = \"\""
      ],
      "execution_count": null,
      "outputs": []
    },
    {
      "cell_type": "code",
      "metadata": {
        "colab": {
          "base_uri": "https://localhost:8080/",
          "height": 206
        },
        "id": "UnwNn3sSrT_3",
        "outputId": "23b46885-97d6-47fe-95a6-80b7533a2a89"
      },
      "source": [
        "data_labeler_df = get_df(db_url)\n",
        "data_labeler_df.head()"
      ],
      "execution_count": null,
      "outputs": [
        {
          "data": {
            "text/html": [
              "<div>\n",
              "<style scoped>\n",
              "    .dataframe tbody tr th:only-of-type {\n",
              "        vertical-align: middle;\n",
              "    }\n",
              "\n",
              "    .dataframe tbody tr th {\n",
              "        vertical-align: top;\n",
              "    }\n",
              "\n",
              "    .dataframe thead th {\n",
              "        text-align: right;\n",
              "    }\n",
              "</style>\n",
              "<table border=\"1\" class=\"dataframe\">\n",
              "  <thead>\n",
              "    <tr style=\"text-align: right;\">\n",
              "      <th></th>\n",
              "      <th>id</th>\n",
              "      <th>tweets</th>\n",
              "      <th>labels</th>\n",
              "    </tr>\n",
              "  </thead>\n",
              "  <tbody>\n",
              "    <tr>\n",
              "      <th>0</th>\n",
              "      <td>6</td>\n",
              "      <td>A New Mexico State Police officer killed two p...</td>\n",
              "      <td>5</td>\n",
              "    </tr>\n",
              "    <tr>\n",
              "      <th>1</th>\n",
              "      <td>7</td>\n",
              "      <td>I found some police badge stickers at work and...</td>\n",
              "      <td>0</td>\n",
              "    </tr>\n",
              "    <tr>\n",
              "      <th>2</th>\n",
              "      <td>8</td>\n",
              "      <td>According to media reports, police said they a...</td>\n",
              "      <td>1</td>\n",
              "    </tr>\n",
              "    <tr>\n",
              "      <th>3</th>\n",
              "      <td>9</td>\n",
              "      <td>The male who has the knife is now running nort...</td>\n",
              "      <td>0</td>\n",
              "    </tr>\n",
              "    <tr>\n",
              "      <th>4</th>\n",
              "      <td>10</td>\n",
              "      <td>Changing the assignments of already existing c...</td>\n",
              "      <td>0</td>\n",
              "    </tr>\n",
              "  </tbody>\n",
              "</table>\n",
              "</div>"
            ],
            "text/plain": [
              "   id                                             tweets  labels\n",
              "0   6  A New Mexico State Police officer killed two p...       5\n",
              "1   7  I found some police badge stickers at work and...       0\n",
              "2   8  According to media reports, police said they a...       1\n",
              "3   9  The male who has the knife is now running nort...       0\n",
              "4  10  Changing the assignments of already existing c...       0"
            ]
          },
          "execution_count": 7,
          "metadata": {
            "tags": []
          },
          "output_type": "execute_result"
        }
      ]
    },
    {
      "cell_type": "code",
      "metadata": {
        "id": "FHqN_fzfhESm"
      },
      "source": [
        "rank2 = pd.DataFrame(data_labeler_df[data_labeler_df['labels'] == 2])\n",
        "rank2 = rank2['tweets']\n",
        "rank3 = pd.DataFrame(data_labeler_df[data_labeler_df['labels'] == 3])\n",
        "rank3 = rank3['tweets']\n",
        "rank4 = pd.DataFrame(data_labeler_df[data_labeler_df['labels'] == 4])\n",
        "rank4 = rank4['tweets']"
      ],
      "execution_count": null,
      "outputs": []
    },
    {
      "cell_type": "code",
      "metadata": {
        "colab": {
          "base_uri": "https://localhost:8080/"
        },
        "id": "GhZDYxq2nJUw",
        "outputId": "e6f0b855-d458-448a-874e-261455d928fb"
      },
      "source": [
        "rank2.head()"
      ],
      "execution_count": null,
      "outputs": [
        {
          "data": {
            "text/plain": [
              "119    UPDATE: Vacaville Police K9 Punched in the Fac...\n",
              "131    New York police department,made in Israel!! Wa...\n",
              "175    Bank holiday brawl between police and pub punt...\n",
              "187    5 Bangladeshi nationals arrested in Bengaluru ...\n",
              "200    4 volunteers with Black Protest Legal Support ...\n",
              "Name: tweets, dtype: object"
            ]
          },
          "execution_count": 9,
          "metadata": {
            "tags": []
          },
          "output_type": "execute_result"
        }
      ]
    },
    {
      "cell_type": "markdown",
      "metadata": {
        "id": "OZOjvpZx4u9W"
      },
      "source": [
        "# Exporting our Isolated Tweets\n",
        "\n",
        "Now that we've rittled down our dataframe to the sole column we need, it's time to export them. Pandas lacks a `.to_txt` method but can still get the job done by specifying the **type**(*in this instance, just adding .txt at the end*) of the file being exported with `.to_csv`."
      ]
    },
    {
      "cell_type": "code",
      "metadata": {
        "id": "zPZXBABGkanm"
      },
      "source": [
        "rank2.to_csv('rank2tweets.txt', sep='\\t')\n",
        "rank3.to_csv('rank3tweets.txt', sep='\\t')\n",
        "rank4.to_csv('rank4tweets.txt', sep='\\t')"
      ],
      "execution_count": null,
      "outputs": []
    },
    {
      "cell_type": "markdown",
      "metadata": {
        "id": "BT__brhBCvJu"
      },
      "source": [
        "## Uploading a Text File to be Trained to Colab\n",
        "\n",
        "In the Colaboratory Notebook sidebar on the left of the screen, select *Files*. From there you can upload files:\n",
        "\n",
        "![alt text](https://i.imgur.com/TGcZT4h.png)\n",
        "\n",
        "Upload **any smaller text file**  (<10 MB) and update the file name in the cell below, then run the cell."
      ]
    },
    {
      "cell_type": "code",
      "metadata": {
        "id": "6OFnPCLADfll"
      },
      "source": [
        "file_name = \"Run_over_by_cops.txt\""
      ],
      "execution_count": 8,
      "outputs": []
    },
    {
      "cell_type": "markdown",
      "metadata": {
        "id": "HeeSKtNWUedE"
      },
      "source": [
        "If your text file is larger than 10MB, it is recommended to upload that file to Google Drive first, then copy that file from Google Drive to the Colaboratory VM."
      ]
    },
    {
      "cell_type": "code",
      "metadata": {
        "id": "-Z6okFD8VKtS"
      },
      "source": [
        "gpt2.copy_file_from_gdrive(file_name)"
      ],
      "execution_count": 11,
      "outputs": []
    },
    {
      "cell_type": "markdown",
      "metadata": {
        "id": "LdpZQXknFNY3"
      },
      "source": [
        "## Finetune GPT-2\n",
        "\n",
        "The next cell will start the actual finetuning of GPT-2. It creates a persistent TensorFlow session which stores the training config, then runs the training for the specified number of `steps`. (to have the finetuning run indefinitely, set `steps = -1`)\n",
        "\n",
        "The model checkpoints will be saved in `/checkpoint/run1` by default. The checkpoints are saved every 500 steps (can be changed) and when the cell is stopped.\n",
        "\n",
        "The training might time out after 4ish hours; make sure you end training and save the results so you don't lose them!\n",
        "\n",
        "**IMPORTANT NOTE:** If you want to rerun this cell, **restart the VM first** (Runtime -> Restart Runtime). You will need to rerun imports but not recopy files.\n",
        "\n",
        "Other optional-but-helpful parameters for `gpt2.finetune`:\n",
        "\n",
        "\n",
        "*  **`restore_from`**: Set to `fresh` to start training from the base GPT-2, or set to `latest` to restart training from an existing checkpoint.\n",
        "* **`sample_every`**: Number of steps to print example output\n",
        "* **`print_every`**: Number of steps to print training progress.\n",
        "* **`learning_rate`**:  Learning rate for the training. (default `1e-4`, can lower to `1e-5` if you have <1MB input data)\n",
        "*  **`run_name`**: subfolder within `checkpoint` to save the model. This is useful if you want to work with multiple models (will also need to specify  `run_name` when loading the model)\n",
        "* **`overwrite`**: Set to `True` if you want to continue finetuning an existing model (w/ `restore_from='latest'`) without creating duplicate copies. "
      ]
    },
    {
      "cell_type": "code",
      "metadata": {
        "colab": {
          "base_uri": "https://localhost:8080/"
        },
        "id": "aeXshJM-Cuaf",
        "outputId": "5e272239-5189-456e-8cae-73f703ad2c09"
      },
      "source": [
        "sess = gpt2.start_tf_sess()\n",
        "\n",
        "gpt2.finetune(sess,\n",
        "              dataset=file_name,\n",
        "              model_name='355M',\n",
        "              steps=1000,\n",
        "              restore_from='fresh',\n",
        "              run_name='run5',\n",
        "              print_every=5,\n",
        "              sample_every=200,\n",
        "              save_every=500\n",
        "              )"
      ],
      "execution_count": 12,
      "outputs": [
        {
          "output_type": "stream",
          "name": "stdout",
          "text": [
            "WARNING:tensorflow:From /usr/local/lib/python3.7/dist-packages/gpt_2_simple/src/sample.py:17: where (from tensorflow.python.ops.array_ops) is deprecated and will be removed in a future version.\n",
            "Instructions for updating:\n",
            "Use tf.where in 2.0, which has the same broadcast rule as np.where\n",
            "WARNING:tensorflow:From /usr/local/lib/python3.7/dist-packages/gpt_2_simple/src/memory_saving_gradients.py:62: get_backward_walk_ops (from tensorflow.contrib.graph_editor.select) is deprecated and will be removed after 2019-06-06.\n",
            "Instructions for updating:\n",
            "Please use tensorflow.python.ops.op_selector.get_backward_walk_ops.\n",
            "Loading checkpoint models/355M/model.ckpt\n",
            "INFO:tensorflow:Restoring parameters from models/355M/model.ckpt\n",
            "Loading dataset...\n"
          ]
        },
        {
          "output_type": "stream",
          "name": "stderr",
          "text": [
            "100%|██████████| 1/1 [00:00<00:00, 3512.82it/s]"
          ]
        },
        {
          "output_type": "stream",
          "name": "stdout",
          "text": [
            "dataset has 2412 tokens\n",
            "Training...\n"
          ]
        },
        {
          "output_type": "stream",
          "name": "stderr",
          "text": [
            "\n"
          ]
        },
        {
          "output_type": "stream",
          "name": "stdout",
          "text": [
            "[5 | 15.59] loss=1.57 avg=1.57\n",
            "[10 | 23.17] loss=0.74 avg=1.16\n",
            "[15 | 30.84] loss=0.57 avg=0.96\n",
            "[20 | 38.65] loss=0.23 avg=0.77\n",
            "[25 | 46.56] loss=0.11 avg=0.64\n",
            "[30 | 54.61] loss=0.02 avg=0.53\n",
            "[35 | 62.75] loss=0.04 avg=0.46\n",
            "[40 | 71.00] loss=0.27 avg=0.43\n",
            "[45 | 79.42] loss=0.14 avg=0.40\n",
            "[50 | 88.12] loss=0.05 avg=0.36\n",
            "[55 | 97.02] loss=0.01 avg=0.33\n",
            "[60 | 106.10] loss=0.01 avg=0.30\n",
            "[65 | 115.11] loss=0.02 avg=0.28\n",
            "[70 | 123.90] loss=0.02 avg=0.26\n",
            "[75 | 132.54] loss=0.01 avg=0.24\n",
            "[80 | 141.13] loss=0.06 avg=0.23\n",
            "[85 | 149.67] loss=0.02 avg=0.22\n",
            "[90 | 158.19] loss=0.02 avg=0.20\n",
            "[95 | 166.78] loss=0.01 avg=0.19\n",
            "[100 | 175.43] loss=0.02 avg=0.18\n",
            "[105 | 184.17] loss=0.02 avg=0.17\n",
            "[110 | 192.97] loss=0.01 avg=0.17\n",
            "[115 | 201.75] loss=0.02 avg=0.16\n",
            "[120 | 210.49] loss=0.02 avg=0.15\n",
            "[125 | 219.25] loss=0.02 avg=0.15\n",
            "[130 | 227.96] loss=0.14 avg=0.15\n",
            "[135 | 236.64] loss=0.07 avg=0.14\n",
            "[140 | 245.32] loss=0.02 avg=0.14\n",
            "[145 | 253.97] loss=0.01 avg=0.13\n",
            "[150 | 262.64] loss=0.01 avg=0.13\n",
            "[155 | 271.31] loss=0.02 avg=0.12\n",
            "[160 | 279.97] loss=0.10 avg=0.12\n",
            "[165 | 288.68] loss=0.04 avg=0.12\n",
            "[170 | 297.38] loss=0.02 avg=0.12\n",
            "[175 | 306.10] loss=0.01 avg=0.11\n",
            "[180 | 314.78] loss=0.01 avg=0.11\n",
            "[185 | 323.47] loss=0.04 avg=0.11\n",
            "[190 | 332.18] loss=0.01 avg=0.10\n",
            "[195 | 340.93] loss=0.01 avg=0.10\n",
            "[200 | 349.70] loss=0.03 avg=0.10\n",
            "======== SAMPLE 1 ========\n",
            " the police department by issuing a statement saying the officer had stopped a \"man who was walking across the road\" and had given him a ticket. The statement said the officer was responding to a call about a crime in progress and that the man was \"in possession of a weapon.\" It did not identify the man who was in the car or the officer who hit him. Police said the victim is between 30 and 40 years old and will be identified by the Solano County Coroner’s Office./5\n",
            "A pedestrian died early Thursday morning after being struck by a Washington County Sheriff's Office deputy near the Nike World Headquarters in Beaverton. Prior to 2 a.m., Beaverton police officers were called out to a crash at the intersection of Southwest Murray Boulevard and Southwest Bowerman Drive. According to police, officers learned an on-duty deputy was traveling southbound on SW Murray in their patrol vehicle when they struck a man near the intersection of SW Bowerman. The deputy, along with responding officers and paramedics, attempted life-saving efforts, but the man was pronounced dead at the scene. The man's identity has not yet been released./5\n",
            "Officer Cornacchia was the driver of the vehicle when he allegedly struck the 22-year old victim causing injuries. He was charged with conduct after an accident based on the fact he left the scene of a crash without notifying authorities./5\n",
            "New Jersey's Attorney General’s Office on Friday launched an investigation after a Clifton police officer responding to a call struck and killed a pedestrian. The accident occurred Thursday evening at the intersection of Allwood Road and Brookwood Road. According to the preliminary investigation, the officer was responding to a report of a crime in progress and had activated the emergency lights on his patrol vehicle when he hit the woman./5\n",
            "Fredi Morales was looking forward to turning 21 on Friday, and he’d planned to celebrate reaching legal drinking age with an evening of fun with friends at a nightclub, his brother said. Instead, friends and relatives are mourning his death after he was hit by a police SUV while he crossed a street on foot in north suburban Wheeling./5\n",
            "A Prince George’s County police officer driving in Langley Park, Maryland, on Monday struck and killed a pedestrian. Police say the on-duty officer was traveling westbound on University Boulevard at 15th Avenue about 9 p.m. when they hit a man walking. Police said the victim, a man, was in the roadway. It's unclear whether the man was in the crosswalk. He died at the scene./5\n",
            "According to Jupiter Police, one of the department's officers hit and killed a pedestrian with his patrol car on I-95 early Sunday. Jupiter Police Department spokesman Adam Brown says Officer Andrew Borrows was driving home from work when the pedestrian got out of his car and ran across the interstate./5\n",
            "A Redwood City police officer slammed into a pedestrian, killing the man while responding to a possible home invasion on Wednesday. A call came in at 9:47 a.m. reporting the home invasion in the 300 block of Poplar Avenue involving four masked male suspects, police said. A K-9 officer with 12 years on the force, was headed to the scene and leaving the area of James Avenue and El Camino Real when she lost control of her car on the wet roadway. The patrol car struck a man standing on the center median and collided with two other vehicles, before coming to a rest on the sidewalk. The victim, who has been identified to his family members, was transported to a local hospital. He died from his injuries a few days later./5\n",
            "Little Rock police are investigating after an officer hit and killed a 73-year-old man who was walking across the road. Police say it happened late Friday night. It’s unclear why the man was crossing in the first place, and it is unknown how fast the officer was going when he struck the man, or whether he was responding to a call./5\n",
            "A pedestrian died after being struck by an on-duty CHP motorcycle officer in Long Beach Sunday morning, authorities said.The crash happened on Del Amo Boulevard near Cherry Avenue around 5 a.m., authorities said.The officer, identified by CHP as Alfredo Gutierrez of Lakewood, was driving on Del Amo Boulevard when he hit the pedestrian who was in the road, police said. The pedestrian, identified by CHP as Cezanine Mount of Long Beach, died at the scene. The officer was taken to the hospital for injuries, according to police./5 \n",
            "A Saudi Arabian police officer who hit and killed a pedestrian with his patrol car has been praised by the force./5\n",
            "A Redwood City police officer slammed into a pedestrian, killing the man while responding to a possible home invasion on Wednesday. A call came in at 9:47 a.m. reporting the home invasion involving four masked male suspects, police said. A K-9 officer with 12 years on the force,\n",
            "\n",
            "[205 | 381.43] loss=0.01 avg=0.10\n",
            "[210 | 390.21] loss=0.02 avg=0.09\n",
            "[215 | 398.97] loss=0.02 avg=0.09\n",
            "[220 | 407.74] loss=0.02 avg=0.09\n",
            "[225 | 416.47] loss=0.01 avg=0.09\n",
            "[230 | 425.23] loss=0.00 avg=0.09\n",
            "[235 | 433.98] loss=0.01 avg=0.08\n",
            "[240 | 442.70] loss=0.03 avg=0.08\n",
            "[245 | 451.45] loss=0.02 avg=0.08\n",
            "[250 | 460.19] loss=0.01 avg=0.08\n",
            "[255 | 468.93] loss=0.01 avg=0.08\n",
            "[260 | 477.65] loss=0.01 avg=0.08\n",
            "[265 | 486.40] loss=0.01 avg=0.07\n",
            "[270 | 495.15] loss=0.01 avg=0.07\n",
            "[275 | 503.91] loss=0.02 avg=0.07\n",
            "[280 | 512.64] loss=0.03 avg=0.07\n",
            "[285 | 521.37] loss=0.02 avg=0.07\n",
            "[290 | 530.10] loss=0.00 avg=0.07\n",
            "[295 | 538.85] loss=0.01 avg=0.07\n",
            "[300 | 547.62] loss=0.01 avg=0.06\n",
            "[305 | 556.35] loss=0.01 avg=0.06\n",
            "[310 | 565.11] loss=0.03 avg=0.06\n",
            "[315 | 573.88] loss=0.01 avg=0.06\n",
            "[320 | 582.67] loss=0.02 avg=0.06\n",
            "[325 | 591.45] loss=0.01 avg=0.06\n",
            "[330 | 600.25] loss=0.00 avg=0.06\n",
            "[335 | 609.02] loss=0.01 avg=0.06\n",
            "[340 | 617.81] loss=0.01 avg=0.06\n",
            "[345 | 626.59] loss=0.01 avg=0.06\n",
            "[350 | 635.35] loss=0.01 avg=0.05\n",
            "[355 | 644.14] loss=0.02 avg=0.05\n",
            "[360 | 652.94] loss=0.02 avg=0.05\n",
            "[365 | 661.76] loss=0.01 avg=0.05\n",
            "[370 | 670.56] loss=0.01 avg=0.05\n",
            "[375 | 679.32] loss=0.01 avg=0.05\n",
            "[380 | 688.12] loss=0.02 avg=0.05\n",
            "[385 | 696.89] loss=0.01 avg=0.05\n",
            "[390 | 705.66] loss=0.01 avg=0.05\n",
            "[395 | 714.41] loss=0.03 avg=0.05\n",
            "[400 | 723.15] loss=0.01 avg=0.05\n",
            "======== SAMPLE 1 ========\n",
            " heard of it. We don't know whether he was hit by the officer./5\n",
            "A police officer in Arizona was caught on video ramming his marked SUV into a crowd and running over a pedestrian Saturday night. The disturbing incident happened in downtown Phoenix, where some 100 people had gathered to watch cars race at around 6 p.m./5\n",
            "The Caddo Parish Coroner’s Office has released the name of a woman who was reportedly struck and killed by an SPD officer driving a marked police unit. Valerie Parker, 48, died in the incident. Her identity was confirmed by fingerprint comparison. It happened around 10:40 p.m. on Sunday, Aug. 22 in the 4100 block of Greenwood Road. That’s near the A&W Food Mart convenience store, in the Country Club neighborhood./5\n",
            "A 44-year-old man is dead after a sheriff's deputy struck and hit him with a car on the roadway in Stafford early Friday morning, according to Stafford County Sheriff’s Office.The fatal pedestrian crash happened around 12:09 a.m. in the area of Garrisonville Road and Center Street, police said.The Stafford County Sheriff's Deputy was driving eastbound on Garrisonville Road when he hit a pedestrian crossing the roadway on Center Street./5\n",
            "On-duty officer struck jaywalking pedestrian while backing up his truck, traffic court trial hears Evangelos Lagoudis, now 72, required multiple surgeries after being run over twice by Const. Laurence Mooney's vehicle/5\n",
            "On-duty officer struck jaywalking pedestrian while backing up his truck, traffic court trial hears Evangelos Lagoudis, now 72, required multiple surgeries after being run over twice by Const. Laurence Mooney's vehicl  Newly released video allegedly shows a man being hit by a Marsville Police Department patrol vehicle. The incident happened in May 2020 in the parking lot near a Dollar General. CBS13 received surveillance video footage showing the moments just before Brandon Dix was reportedly hit by the officer./5\n",
            "At least one person was injured after a police car plowed through a crowd of pedestrians Saturday night who were watching a downtown street race, the Tacoma News-Tribune reported. The incident happened just before 7 p.m. when a crowd of about 100 people watched several cars spinning in circles in a downtown street, police told the newspaper./5\n",
            "A pedestrian was struck and killed early Thursday in Beaverton by a Washington County sheriff’s deputy in a patrol vehicle, police said. Oliver Sevin Frazier-Savoy, 24, died at the scene after an on-duty sheriff’s deputy hit him just before 2 a.m. near Southwest Murray Boulevard and Southwest Bowerman Drive, next to the Nike headquarters. The pedestrian suffered major injuries, police said, and despite efforts to save him by the deputy and emergency crews, he died at the scene./5\n",
            "A Texas Department of Public Safety (DPS) trooper ran over and killed a man who was in the road near the State Capitol early Thursday morning, according to the Austin Police Department (APD). The crash happened at around 3:45 a.m. Thursday just west of the Texas State Capitol building. The trooper was heading northbound on Colorado Street and as he was turning left on 13th Street, the trooper hit the pedestrian. DPS said the crash happened while the trooper was patrolling the area./5\n",
            "An on-duty police officer driving his patrol car hit and killed a pedestrian early Wednesday morning, police said. Police released a statement about the fatality but did not immediately identify the man who died or the officer who hit him. Police said the victim is between 30 and 40 years old and will be identified by the Solano County Coroner’s Office./5\n",
            "A pedestrian died early Thursday morning after being struck by a Washington County Sheriff's Office deputy near the Nike World Headquarters in Beaverton. Prior to 2 a.m., Beaverton police officers were called out to a crash at the intersection of Southwest Murray Boulevard and Southwest Bowerman Drive. According to police, officers learned an on-duty deputy was traveling southbound on SW Murray in their patrol vehicle when they struck a man near the intersection of SW Bowerman. The deputy, along with responding officers and paramedics, attempted life-saving efforts, but the man was pronounced dead at the scene. The man's identity has not yet been released./5\n",
            "Officer Cornacchia was the driver of the vehicle when he allegedly struck the 22-year old victim causing injuries. He was charged with conduct after an accident based on the fact he left the scene of a crash without notifying authorities./5\n",
            "New Jersey's Attorney General’s Office on Friday launched an investigation after a Clifton police officer responding to a call struck and killed a pedestrian. The accident occurred Thursday evening at the intersection of Allwood Road and Brookwood Road. According to the preliminary investigation, the officer was responding to a report of a crime in progress and had activated the emergency\n",
            "\n",
            "[405 | 752.62] loss=0.02 avg=0.05\n",
            "[410 | 761.40] loss=0.02 avg=0.05\n",
            "[415 | 770.12] loss=0.02 avg=0.05\n",
            "[420 | 778.84] loss=0.01 avg=0.05\n",
            "[425 | 787.54] loss=0.00 avg=0.04\n",
            "[430 | 796.26] loss=0.01 avg=0.04\n",
            "[435 | 804.98] loss=0.01 avg=0.04\n",
            "[440 | 813.69] loss=0.02 avg=0.04\n",
            "[445 | 822.44] loss=0.01 avg=0.04\n",
            "[450 | 831.16] loss=0.01 avg=0.04\n",
            "[455 | 839.90] loss=0.01 avg=0.04\n",
            "[460 | 848.68] loss=0.01 avg=0.04\n",
            "[465 | 857.43] loss=0.02 avg=0.04\n",
            "[470 | 866.20] loss=0.01 avg=0.04\n",
            "[475 | 875.00] loss=0.00 avg=0.04\n",
            "[480 | 883.77] loss=0.01 avg=0.04\n",
            "[485 | 892.55] loss=0.02 avg=0.04\n",
            "[490 | 901.38] loss=0.02 avg=0.04\n",
            "[495 | 910.20] loss=0.01 avg=0.04\n",
            "[500 | 919.01] loss=0.01 avg=0.04\n",
            "Saving checkpoint/run5/model-500\n",
            "[505 | 935.44] loss=0.01 avg=0.04\n",
            "[510 | 944.29] loss=0.01 avg=0.04\n",
            "[515 | 953.31] loss=0.01 avg=0.04\n",
            "[520 | 962.30] loss=0.01 avg=0.04\n",
            "[525 | 971.18] loss=0.01 avg=0.04\n",
            "[530 | 979.95] loss=0.01 avg=0.03\n",
            "[535 | 988.63] loss=0.02 avg=0.03\n",
            "[540 | 997.31] loss=0.01 avg=0.03\n",
            "[545 | 1006.00] loss=0.01 avg=0.03\n",
            "[550 | 1014.72] loss=0.00 avg=0.03\n",
            "[555 | 1023.47] loss=0.00 avg=0.03\n",
            "[560 | 1032.24] loss=0.02 avg=0.03\n",
            "[565 | 1041.04] loss=0.01 avg=0.03\n",
            "[570 | 1049.88] loss=0.02 avg=0.03\n",
            "[575 | 1058.69] loss=0.01 avg=0.03\n",
            "[580 | 1067.49] loss=0.01 avg=0.03\n",
            "[585 | 1076.30] loss=0.01 avg=0.03\n",
            "[590 | 1085.12] loss=0.00 avg=0.03\n",
            "[595 | 1093.94] loss=0.01 avg=0.03\n",
            "[600 | 1102.74] loss=0.00 avg=0.03\n",
            "======== SAMPLE 1 ========\n",
            " dragged the vehicle. Police said it happened around 10:40 p.m. on Sunday, Aug. 22 in the 4100 block of Greenwood Road. That’s near the A&W Food Mart convenience store, in the Country Club neighborhood./5\n",
            "A 44-year-old man is dead after a sheriff's deputy struck and hit him with a car on the roadway in Stafford early Friday morning, according to Stafford County Sheriff’s Office.The fatal pedestrian crash happened around 12:09 a.m. in the area of Garrisonville Road and Center Street, police said.The Stafford County Sheriff's Deputy was driving eastbound on Garrisonville Road when he hit a pedestrian crossing the roadway on Center Street./5\n",
            "On-duty officer struck jaywalking pedestrian while backing up his truck, traffic court trial hears Evangelos Lagoudis, now 72, required multiple surgeries after being run over twice by Const. Laurence Mooney's vehicle/5\n",
            "On-duty officer struck jaywalking pedestrian while backing up his truck, traffic court trial hears Evangelos Lagoudis, now 72, required multiple surgeries after being run over twice by Const. Laurence Mooney's vehicl  Newly released video allegedly shows a man being hit by a Marsville Police Department patrol vehicle. The incident happened in May 2020 in the parking lot near a Dollar General. CBS13 received surveillance video footage showing the moments just before Brandon Dix was reportedly hit by the officer./5\n",
            "At least one person was injured after a police car plowed through a crowd of pedestrians Saturday night who were watching a downtown street race, the Tacoma News-Tribune reported. The incident happened just before 7 p.m. when a crowd of about 100 people watched several cars spinning in circles in a downtown street, police told the newspaper./5\n",
            "A pedestrian was struck and killed early Thursday in Beaverton by a Washington County sheriff’s deputy in a patrol vehicle, police said. Oliver Sevin Frazier-Savoy, 24, died at the scene after an on-duty sheriff’s deputy hit him just before 2 a.m. near Southwest Murray Boulevard and Southwest Bowerman Drive, next to the Nike headquarters. The pedestrian suffered major injuries, police said, and despite efforts to save him by the deputy and emergency crews, he died at the scene./5\n",
            "A Texas Department of Public Safety (DPS) trooper ran over and killed a man who was in the road near the State Capitol early Thursday morning, according to the Austin Police Department (APD). The crash happened at around 3:45 a.m. Thursday just west of the Texas State Capitol building. The trooper was heading northbound on Colorado Street and as he was turning left on 13th Street, the trooper hit the pedestrian. DPS said the crash happened while the trooper was patrolling the area./5\n",
            "An on-duty police officer driving his patrol car hit and killed a pedestrian early Wednesday morning, police said. Police released a statement about the fatality but did not immediately identify the man who died or the officer who hit him. Police said the victim is between 30 and 40 years old and will be identified by the Solano County Coroner’s Office./5\n",
            "A pedestrian died early Thursday morning after being struck by a Washington County Sheriff's Office deputy near the Nike World Headquarters in Beaverton. Prior to 2 a.m., Beaverton police officers were called out to a crash at the intersection of Southwest Murray Boulevard and Southwest Bowerman Drive. According to police, officers learned an on-duty deputy was traveling southbound on SW Murray in their patrol vehicle when they struck a man near the intersection of SW Bowerman. The deputy, along with responding officers and paramedics, attempted life-saving efforts, but the man was pronounced dead at the scene. The man's identity has not yet been released./5\n",
            "Officer Cornacchia was the driver of the vehicle when he allegedly struck the 22-year old victim causing injuries. He was charged with conduct after an accident based on the fact he left the scene of a crash without notifying authorities./5\n",
            "New Jersey's Attorney General’s Office on Friday launched an investigation after a Clifton police officer responding to a call struck and killed a pedestrian. The accident occurred Thursday evening at the intersection of Allwood Road and Brookwood Road. According to the preliminary investigation, the officer was responding to a report of a crime in progress and had activated the emergency lights on his patrol vehicle when he hit the woman./5\n",
            "Fredi Morales was looking forward to turning 21 on Friday, and he’d planned to celebrate reaching legal drinking age with an evening of fun with friends at a nightclub, his brother said. Instead, friends and relatives are mourning his death after he was hit by a police SUV while he crossed a street on foot in north suburban Wheeling./5\n",
            "A Prince George’s County police officer driving in Langley Park, Maryland, on Monday struck and killed a pedestrian. Police say the on-duty officer\n",
            "\n",
            "[605 | 1132.06] loss=0.03 avg=0.03\n",
            "[610 | 1140.74] loss=0.01 avg=0.03\n",
            "[615 | 1149.44] loss=0.02 avg=0.03\n",
            "[620 | 1158.15] loss=0.00 avg=0.03\n",
            "[625 | 1166.90] loss=0.01 avg=0.03\n",
            "[630 | 1175.70] loss=0.01 avg=0.03\n",
            "[635 | 1184.49] loss=0.00 avg=0.03\n",
            "[640 | 1193.32] loss=0.01 avg=0.03\n",
            "[645 | 1202.14] loss=0.01 avg=0.03\n",
            "[650 | 1210.96] loss=0.01 avg=0.03\n",
            "[655 | 1219.75] loss=0.01 avg=0.03\n",
            "[660 | 1228.53] loss=0.01 avg=0.03\n",
            "[665 | 1237.29] loss=0.01 avg=0.03\n",
            "[670 | 1246.01] loss=0.01 avg=0.03\n",
            "[675 | 1254.73] loss=0.00 avg=0.03\n",
            "[680 | 1263.42] loss=0.04 avg=0.03\n",
            "[685 | 1272.14] loss=0.00 avg=0.03\n",
            "[690 | 1280.87] loss=0.01 avg=0.03\n",
            "[695 | 1289.57] loss=0.01 avg=0.03\n",
            "[700 | 1298.29] loss=0.01 avg=0.03\n",
            "[705 | 1307.05] loss=0.03 avg=0.03\n",
            "[710 | 1315.77] loss=0.01 avg=0.03\n",
            "[715 | 1324.51] loss=0.02 avg=0.03\n",
            "[720 | 1333.24] loss=0.02 avg=0.03\n",
            "[725 | 1341.99] loss=0.01 avg=0.02\n",
            "[730 | 1350.73] loss=0.00 avg=0.02\n",
            "[735 | 1359.48] loss=0.02 avg=0.02\n",
            "[740 | 1368.26] loss=0.02 avg=0.02\n",
            "[745 | 1377.04] loss=0.01 avg=0.02\n",
            "[750 | 1385.81] loss=0.01 avg=0.02\n",
            "[755 | 1394.53] loss=0.02 avg=0.02\n",
            "[760 | 1403.31] loss=0.01 avg=0.02\n",
            "[765 | 1412.08] loss=0.03 avg=0.02\n",
            "[770 | 1420.84] loss=0.01 avg=0.02\n",
            "[775 | 1429.60] loss=0.02 avg=0.02\n",
            "[780 | 1438.36] loss=0.01 avg=0.02\n",
            "[785 | 1447.11] loss=0.01 avg=0.02\n",
            "[790 | 1455.90] loss=0.01 avg=0.02\n",
            "[795 | 1464.67] loss=0.01 avg=0.02\n",
            "[800 | 1473.42] loss=0.03 avg=0.02\n",
            "======== SAMPLE 1 ========\n",
            " killed, an officer and paramedic with him. The man died shortly afterwards./5 \n",
            "A Texas Department of Public Safety (DPS) trooper ran over and killed a man who was in the road near the State Capitol early Thursday morning, according to the Austin Police Department (APD). The crash happened at around 3:45 a.m. Thursday just west of the Texas State Capitol building. The trooper was heading northbound on Colorado Street and as he was turning left on 13th Street, the trooper hit the pedestrian. DPS said the crash happened while the trooper was patrolling the area./5\n",
            "An on-duty police officer driving his patrol car hit and killed a pedestrian early Wednesday morning, police said. Police released a statement about the fatality but did not immediately identify the man who died or the officer who hit him. Police said the victim is between 30 and 40 years old and will be identified by the Solano County Coroner’s Office./5\n",
            "A pedestrian died early Thursday morning after being struck by a Washington County Sheriff's Office deputy near the Nike World Headquarters in Beaverton. Prior to 2 a.m., Beaverton police officers were called out to a crash at the intersection of Southwest Murray Boulevard and Southwest Bowerman Drive. According to police, officers learned an on-duty deputy was traveling southbound on SW Murray in their patrol vehicle when they struck a man near the intersection of SW Bowerman. The deputy, along with responding officers and paramedics, attempted life-saving efforts, but the man was pronounced dead at the scene. The man's identity has not yet been released./5\n",
            "Officer Cornacchia was the driver of the vehicle when he allegedly struck the 22-year old victim causing injuries. He was charged with conduct after an accident based on the fact he left the scene of a crash without notifying authorities./5\n",
            "New Jersey's Attorney General’s Office on Friday launched an investigation after a Clifton police officer responding to a call struck and killed a pedestrian. The accident occurred Thursday evening at the intersection of Allwood Road and Brookwood Road. According to the preliminary investigation, the officer was responding to a report of a crime in progress and had activated the emergency lights on his patrol vehicle when he hit the woman./5\n",
            "Fredi Morales was looking forward to turning 21 on Friday, and he’d planned to celebrate reaching legal drinking age with an evening of fun with friends at a nightclub, his brother said. Instead, friends and relatives are mourning his death after he was hit by a police SUV while he crossed a street on foot in north suburban Wheeling./5\n",
            "A Prince George’s County police officer driving in Langley Park, Maryland, on Monday struck and killed a pedestrian. Police say the on-duty officer was traveling westbound on University Boulevard at 15th Avenue about 9 p.m. when they hit a man walking. Police said the victim, a man, was in the roadway. It's unclear whether the man was in the crosswalk. He died at the scene./5\n",
            "According to Jupiter Police, one of the department's officers hit and killed a pedestrian with his patrol car on I-95 early Sunday. Jupiter Police Department spokesman Adam Brown says Officer Andrew Borrows was driving home from work when the pedestrian got out of his car and ran across the interstate./5\n",
            "A Redwood City police officer slammed into a pedestrian, killing the man while responding to a possible home invasion on Wednesday. A call came in at 9:47 a.m. reporting the home invasion in the 300 block of Poplar Avenue involving four masked male suspects, police said. A K-9 officer with 12 years on the force, was headed to the scene and leaving the area of James Avenue and El Camino Real when she lost control of her car on the wet roadway. The patrol car struck a man standing on the center median and collided with two other vehicles, before coming to a rest on the sidewalk. The victim, who has been identified to his family members, was transported to a local hospital. He died from his injuries a few days later./5\n",
            "Little Rock police are investigating after an officer hit and killed a 73-year-old man who was walking across the road. Police say it happened late Friday night. It’s unclear why the man was crossing in the first place, and it has been established that he was in the roadway at the time of the crash. He died at the scene./5\n",
            "A pedestrian died after being struck by an on-duty CHP motorcycle officer in Long Beach Sunday morning, authorities said.The crash happened on Del Amo Boulevard near Cherry Avenue around 5 a.m., authorities said.The officer, identified by CHP as Alfredo Gutierrez of Lakewood, was driving on Del Amo Boulevard when he hit the pedestrian who was in the road, police said. The pedestrian, identified by CHP as Cezanine Mount of Long Beach, died at the scene. The officer was taken to the hospital for injuries,\n",
            "\n",
            "[805 | 1502.81] loss=0.03 avg=0.02\n",
            "[810 | 1511.58] loss=0.01 avg=0.02\n",
            "[815 | 1520.33] loss=0.01 avg=0.02\n",
            "[820 | 1529.09] loss=0.05 avg=0.02\n",
            "[825 | 1537.79] loss=0.05 avg=0.02\n",
            "[830 | 1546.50] loss=0.02 avg=0.02\n",
            "[835 | 1555.22] loss=0.02 avg=0.02\n",
            "[840 | 1563.94] loss=0.02 avg=0.02\n",
            "[845 | 1572.71] loss=0.01 avg=0.02\n",
            "[850 | 1581.47] loss=0.03 avg=0.02\n",
            "[855 | 1590.26] loss=0.03 avg=0.02\n",
            "[860 | 1599.01] loss=0.04 avg=0.02\n",
            "[865 | 1607.81] loss=0.01 avg=0.02\n",
            "[870 | 1616.60] loss=0.01 avg=0.02\n",
            "[875 | 1625.40] loss=0.01 avg=0.02\n",
            "[880 | 1634.13] loss=0.04 avg=0.02\n",
            "[885 | 1642.91] loss=0.01 avg=0.02\n",
            "[890 | 1651.73] loss=0.01 avg=0.02\n",
            "[895 | 1660.51] loss=0.00 avg=0.02\n",
            "[900 | 1669.33] loss=0.01 avg=0.02\n",
            "[905 | 1678.15] loss=0.01 avg=0.02\n",
            "[910 | 1686.95] loss=0.01 avg=0.02\n",
            "[915 | 1695.74] loss=0.01 avg=0.02\n",
            "[920 | 1704.55] loss=0.01 avg=0.02\n",
            "[925 | 1713.38] loss=0.01 avg=0.02\n",
            "[930 | 1722.21] loss=0.02 avg=0.02\n",
            "[935 | 1730.99] loss=0.01 avg=0.02\n",
            "[940 | 1739.82] loss=0.01 avg=0.02\n",
            "[945 | 1748.64] loss=0.01 avg=0.02\n",
            "[950 | 1757.48] loss=0.02 avg=0.02\n",
            "[955 | 1766.30] loss=0.01 avg=0.02\n",
            "[960 | 1775.09] loss=0.01 avg=0.02\n",
            "[965 | 1783.90] loss=0.01 avg=0.02\n",
            "[970 | 1792.72] loss=0.02 avg=0.02\n",
            "[975 | 1801.54] loss=0.00 avg=0.02\n",
            "[980 | 1810.33] loss=0.01 avg=0.02\n",
            "[985 | 1819.18] loss=0.02 avg=0.02\n",
            "[990 | 1827.99] loss=0.01 avg=0.02\n",
            "[995 | 1836.78] loss=0.01 avg=0.02\n",
            "[1000 | 1845.58] loss=0.00 avg=0.02\n",
            "Saving checkpoint/run5/model-1000\n",
            "WARNING:tensorflow:From /tensorflow-1.15.2/python3.7/tensorflow_core/python/training/saver.py:963: remove_checkpoint (from tensorflow.python.training.checkpoint_management) is deprecated and will be removed in a future version.\n",
            "Instructions for updating:\n",
            "Use standard file APIs to delete files with this prefix.\n"
          ]
        }
      ]
    },
    {
      "cell_type": "markdown",
      "metadata": {
        "id": "IXSuTNERaw6K"
      },
      "source": [
        "After the model is trained, you can copy the checkpoint folder to your own Google Drive.\n",
        "\n",
        "If you want to download it to your personal computer, it's strongly recommended you copy it there first, then download from Google Drive. The checkpoint folder is copied as a `.rar` compressed file; you can download it and uncompress it locally."
      ]
    },
    {
      "cell_type": "code",
      "metadata": {
        "id": "VHdTL8NDbAh3"
      },
      "source": [
        "gpt2.copy_checkpoint_to_gdrive(run_name='run5')"
      ],
      "execution_count": 13,
      "outputs": []
    },
    {
      "cell_type": "markdown",
      "metadata": {
        "id": "qQJgV_b4bmzd"
      },
      "source": [
        "You're done! Feel free to go to the **Generate Text From The Trained Model** section to generate text based on your retrained model."
      ]
    },
    {
      "cell_type": "markdown",
      "metadata": {
        "id": "pel-uBULXO2L"
      },
      "source": [
        "## Load a Trained Model Checkpoint\n",
        "\n",
        "Running the next cell will copy the `.rar` checkpoint file from your Google Drive into the Colaboratory VM."
      ]
    },
    {
      "cell_type": "code",
      "metadata": {
        "id": "DCcx5u7sbPTD"
      },
      "source": [
        "gpt2.copy_checkpoint_from_gdrive(run_name='run5')"
      ],
      "execution_count": 7,
      "outputs": []
    },
    {
      "cell_type": "markdown",
      "metadata": {
        "id": "RTa6zf3e_9gV"
      },
      "source": [
        "The next cell will allow you to load the retrained model checkpoint + metadata necessary to generate text.\n",
        "\n",
        "**IMPORTANT NOTE:** If you want to rerun this cell, **restart the VM first** (Runtime -> Restart Runtime). You will need to rerun imports but not recopy files."
      ]
    },
    {
      "cell_type": "code",
      "metadata": {
        "colab": {
          "base_uri": "https://localhost:8080/"
        },
        "id": "-fxL77nvAMAX",
        "outputId": "f729f68b-50af-4479-c5ac-4725c57a003b"
      },
      "source": [
        "sess = gpt2.start_tf_sess()\n",
        "gpt2.load_gpt2(sess, run_name='run5')"
      ],
      "execution_count": 6,
      "outputs": [
        {
          "output_type": "stream",
          "name": "stdout",
          "text": [
            "Loading checkpoint checkpoint/run5/model-1000\n",
            "INFO:tensorflow:Restoring parameters from checkpoint/run5/model-1000\n"
          ]
        }
      ]
    },
    {
      "cell_type": "markdown",
      "metadata": {
        "id": "ClJwpF_ACONp"
      },
      "source": [
        "## Generate Text From The Trained Model\n",
        "\n",
        "After you've trained the model or loaded a retrained model from checkpoint, you can now generate text. `generate` generates a single text from the loaded model."
      ]
    },
    {
      "cell_type": "code",
      "metadata": {
        "colab": {
          "base_uri": "https://localhost:8080/"
        },
        "id": "4RNY6RBI9LmL",
        "outputId": "d48ab83d-becf-4a75-9e19-db91fe39335c"
      },
      "source": [
        "gpt2.generate(sess, run_name='run5')"
      ],
      "execution_count": 8,
      "outputs": [
        {
          "output_type": "stream",
          "name": "stdout",
          "text": [
            "The body camera released by authorities show Saulters driving behind Patmon as he runs down a street. Saulters can then be seen turning his steering wheel to the right as the car strikes Patmon and he slides onto the windscreen then onto the road. \"We got him,\" says Saulters as his partner handcuffs the suspect./5\n",
            "The dramatic dashcam video of a Marana patrol officer ramming an armed robbery suspect with his squad car has gone viral./5\n",
            "Video footage shows a pedestrian in Little Rock being hit by a police vehicle and injured while crossing the street. Traffic camera footage from the intersection of West 12th and Peyton Street shows a man walking across the road around 3:12 p.m on May 22. Little Rock Police Officer Rashaud Williams turned into the lane the man was crossing and struck him./5\n",
            "A police officer in Washington state was caught on video ramming his marked SUV into a crowd and running over a pedestrian Saturday night. The disturbing incident happened in downtown Tacoma, where some 100 people had gathered to watch cars race at around 6 p.m./5\n",
            "The Caddo Parish Coroner’s Office has released the name of a woman who was reportedly struck and killed by an SPD officer driving a marked police unit. Valerie Parker, 48, died in the incident. Her identity was confirmed by fingerprint comparison. It happened around 10:40 p.m. on Sunday, Aug. 22 in the 4100 block of Greenwood Road. That’s near the A&W Food Mart convenience store, in the Country Club neighborhood./5\n",
            "A 44-year-old man is dead after a sheriff's deputy struck and hit him with a car on the roadway in Stafford early Friday morning, according to Stafford County Sheriff’s Office.The fatal pedestrian crash happened around 12:09 a.m. in the area of Garrisonville Road and Center Street, police said.The Stafford County Sheriff's Deputy was driving eastbound on Garrisonville Road when he hit a pedestrian crossing the roadway on Center Street./5\n",
            "On-duty officer struck jaywalking pedestrian while backing up his truck, traffic court trial hears Evangelos Lagoudis, now 72, required multiple surgeries after being run over twice by Const. Laurence Mooney's vehicle/5\n",
            "On-duty officer struck jaywalking pedestrian while backing up his truck, traffic court trial hears Evangelos Lagoudis, now 72, required multiple surgeries after being run over twice by Const. Laurence Mooney's vehicl  Newly released video allegedly shows a man being hit by a Marsville Police Department patrol vehicle. The incident happened in May 2020 in the parking lot near a Dollar General. CBS13 received surveillance video footage showing the moments just before Brandon Dix was reportedly hit by the officer./5\n",
            "At least one person was injured after a police car plowed through a crowd of pedestrians Saturday night who were watching a downtown street race, the Tacoma News-Tribune reported. The incident happened just before 7 p.m. when a crowd of about 100 people watched several cars spinning in circles in a downtown street, police told the newspaper./5\n",
            "A pedestrian was struck and killed early Thursday in Beaverton by a Washington County sheriff’s deputy in a patrol vehicle, police said. Oliver Sevin Frazier-Savoy, 24, died at the scene after an on-duty sheriff’s deputy hit him just before 2 a.m. near Southwest Murray Boulevard and Southwest Bowerman Drive, next to the Nike headquarters. The pedestrian suffered major injuries, police said, and despite efforts to save him by the deputy and emergency crews, he died at the scene./5\n",
            "A Texas Department of Public Safety (DPS) trooper ran over and killed a man who was in the road near the State Capitol early Thursday morning, according to the Austin Police Department (APD). The crash happened at around 3:45 a.m. Thursday just west of the Texas State Capitol building. The trooper was heading northbound on Colorado Street and as he was turning left on 13th Street, the trooper hit the pedestrian. DPS said the crash happened while the trooper was patrolling the area./5\n",
            "An on-duty police officer driving his patrol car hit and killed a pedestrian early Wednesday morning, police said. Police released a statement about the fatality but did not immediately identify the man who died or the officer who hit him. Police said the victim is between 30 and 40 years old and will be identified by the Solano County Coroner’s Office./5\n",
            "A pedestrian died early Thursday morning after being struck by a Washington County Sheriff's Office deputy near the Nike World Headquarters in Beaverton. Prior to 2 a.m., Beaverton police officers were called out to a crash at the intersection of Southwest Murray Boulevard and Southwest Bowerman Drive. According to police, officers learned an on-duty deputy was traveling southbound on SW Murray in their patrol vehicle when they struck a man near the intersection of SW Bowerman. The deputy, along with responding officers and\n"
          ]
        }
      ]
    },
    {
      "cell_type": "markdown",
      "metadata": {
        "id": "ca70Ymup9eQW"
      },
      "source": [
        "# Analysis of Generated Tweets\n",
        "\n",
        "Some of the tweets it's generating are actually the exact same tweets its been trained on.\n",
        "\n",
        "\"*Villanueva’s garment factory co-workers called police for help with his epileptic seizure. They arrived and found him uncooperative and combative. Wrestled to the ground and handcuffed by four officers, witnesses described police shouting for him to speak English, and taking his foaming at the mouth as a sign of drug use. He died of \"\"mechanical asphyxia following physical restraint\"\". The four were charged with manslaughter.*\"\n",
        "\n",
        "I found this tweet with a Google Search, while the tweet below was original:\n",
        "\n",
        "\"*According to police, officers responded at about 8 p.m. to a report that a man was breaking up an apartment. \"\"He was covered with blood when the officers arrived,\"\" said sheriff’s Capt. Mike McCabe. Officers alleged that Custer confronted them, then went into apparent cardiac arrest as they tried to restrain him. Custer died at a hospital at about 9 p.m. Custer’s family said the cause of his death was positional asphyxiation.*\"\n",
        "\n",
        "Considering the realism of both tweets, both the regurgitated training tweets and authentically generated tweets are nearly indistiguishable.\n",
        "\n",
        "## Possible Solution:\n",
        "A `unique()` function will be needed to check for duplicates before compiling these tweets with our already established dataset.\n",
        "\n",
        "---"
      ]
    },
    {
      "cell_type": "markdown",
      "metadata": {
        "id": "oF4-PqF0Fl7R"
      },
      "source": [
        "You also pass in a `prefix` to the generate function to force the text to start with a given character sequence and generate text from there (good if you add an indicator when the text starts).\n",
        "\n",
        "You can also generate multiple texts at a time by specifing `nsamples`. Unique to GPT-2, you can pass a `batch_size` to generate multiple samples in parallel, giving a massive speedup (in Colaboratory, set a maximum of 20 for `batch_size`).\n",
        "\n",
        "Other optional-but-helpful parameters for `gpt2.generate` and friends:\n",
        "\n",
        "*  **`length`**: Number of tokens to generate (default 1023, the maximum)\n",
        "* **`temperature`**: The higher the temperature, the crazier the text (default 0.7, recommended to keep between 0.7 and 1.0)\n",
        "* **`top_k`**: Limits the generated guesses to the top *k* guesses (default 0 which disables the behavior; if the generated output is super crazy, you may want to set `top_k=40`)\n",
        "* **`top_p`**: Nucleus sampling: limits the generated guesses to a cumulative probability. (gets good results on a dataset with `top_p=0.9`)\n",
        "* **`truncate`**: Truncates the input text until a given sequence, excluding that sequence (e.g. if `truncate='<|endoftext|>'`, the returned text will include everything before the first `<|endoftext|>`). It may be useful to combine this with a smaller `length` if the input texts are short.\n",
        "*  **`include_prefix`**: If using `truncate` and `include_prefix=False`, the specified `prefix` will not be included in the returned text."
      ]
    },
    {
      "cell_type": "code",
      "metadata": {
        "colab": {
          "base_uri": "https://localhost:8080/"
        },
        "id": "8DKMc0fiej4N",
        "outputId": "af122907-8a21-4bf6-e3e0-b3578a294c78"
      },
      "source": [
        "gpt2.generate(sess,\n",
        "              run_name='run5',\n",
        "              temperature=0.7,\n",
        "              nsamples=5,\n",
        "              batch_size=5\n",
        "              )"
      ],
      "execution_count": 9,
      "outputs": [
        {
          "output_type": "stream",
          "name": "stdout",
          "text": [
            "The first lady of a Texas Department of Public Safety (DPS) trooper collided with a pedestrian early Wednesday morning, according to the Austin Police Department (APD). The crash happened at around 3:45 a.m. Thursday just west of the Texas State Capitol building. The trooper was heading northbound on Colorado Street and as he was turning left on 13th Street, the trooper hit the pedestrian. DPS said the crash happened while the trooper was patrolling the area./5\n",
            "An on-duty police officer driving his patrol car hit and killed a pedestrian early Wednesday morning, police said. Police released a statement about the fatality but did not immediately identify the man who died or the officer who hit him. Police said the victim is between 30 and 40 years old and will be identified by the Solano County Coroner’s Office./5\n",
            "A pedestrian died early Thursday morning after being struck by a Washington County Sheriff's Office (DPS) Office. Prior to 2 a.m., Solano County Sheriff's Office (DPS) Office received a call reporting the crash at the intersection of Southwest Murray Boulevard and Southwest Bowerman Drive. According to police, officers learned an on-duty deputy was traveling southbound on SW Murray in their patrol vehicle when they struck a man near the intersection of SW Bowerman. The deputy, along with responding officers and paramedics, attempted life-saving efforts, but the man was pronounced dead at the scene. The man's identity has not yet been released./5\n",
            "Officer Cornacchia was the driver of the vehicle when he allegedly struck the 22-year old victim causing injuries. He was charged with conduct after an accident based on the fact he left the scene of a crash without notifying authorities./5\n",
            "New Jersey's Attorney General’s Office on Friday launched an investigation after a Clifton police officer responding to a call struck and killed a pedestrian. The accident occurred Thursday evening at the intersection of Allwood Road and Brookwood Road. According to the preliminary investigation, the officer was responding to a report of a crime in progress and had activated the emergency lights on his patrol vehicle when he hit the woman./5\n",
            "Fredi Morales was looking forward to turning 21 on Friday, and he’d planned to celebrate reaching legal drinking age with an evening of fun with friends at a nightclub, his brother said. Instead, friends and relatives are mourning his death after he was hit by a police SUV while he crossed a street on foot in north suburban Wheeling./5\n",
            "A Prince George’s County police officer driving in Langley Park, Maryland, on Monday struck and killed a pedestrian. Police say the on-duty officer was traveling westbound on University Boulevard at 15th Avenue about 9 p.m. when they hit a man walking. Police said the victim, a man, was in the roadway. It's unclear whether the man was in the crosswalk. He died at the scene./5\n",
            "According to Jupiter Police, one of the department's officers hit and killed a pedestrian with his patrol car on I-95 early Sunday. Jupiter Police Department spokesman Adam Brown says Officer Andrew Borrows was driving home from work when the pedestrian got out of his car and ran across the interstate./5\n",
            "A Redwood City police officer slammed into a pedestrian, killing the man while responding to a possible home invasion on Wednesday. A call came in at 9:47 a.m. reporting the home invasion in the 300 block of Poplar Avenue involving four masked male suspects, police said. A K-9 officer with 12 years on the force, was headed to the scene and leaving the area of James Avenue and El Camino Real when she lost control of her car on the wet roadway. The patrol car struck a man standing on the center median and collided with two other vehicles, before coming to a rest on the sidewalk. The victim, who has been identified to his family members, was transported to a local hospital. He died from his injuries a few days later./5\n",
            "Little Rock police are investigating after an officer hit and killed a 73-year-old man who was walking across the road. Police say it happened late Friday night. It’s unclear why the man was crossing in the first place, and it is unknown how fast the officer was going when he struck the man, or whether he was responding to a call./5\n",
            "A pedestrian died after being struck by an on-duty CHP motorcycle officer in Long Beach Sunday morning, authorities said.The crash happened on Del Amo Boulevard near Cherry Avenue around 5 a.m., authorities said.The officer, identified by CHP as Alfredo Gutierrez of Lakewood, was driving on Del Amo Boulevard when he hit the pedestrian who was in the road, police said. The pedestrian, identified by CHP as Cezanine Mount of Long Beach, died at the scene. The officer was taken to the hospital for injuries, according to police./5 \n",
            "A police officer is under investigation in the US after his vehicle ploug\n",
            "====================\n",
            "The Camborne County Sheriff's Office has released the name of a woman who was reportedly struck and killed by an SPD officer driving a marked police unit. Valerie Parker, 48, died in the incident. Her identity was confirmed by fingerprint comparison. It happened around 10:40 p.m. on Sunday, Aug. 22 in the 4100 block of Greenwood Road. That’s near the A&W Food Mart convenience store, in the Country Club neighborhood./5\n",
            "A 44-year-old man is dead after a sheriff's deputy struck and hit him with a car on the roadway in Stafford early Friday morning, according to Stafford County Sheriff’s Office.The fatal pedestrian crash happened around 12:09 a.m. in the area of Garrisonville Road and Center Street, police said.The Stafford County Sheriff's Deputy was driving eastbound on Garrisonville Road when he hit a pedestrian crossing the roadway on Center Street./5\n",
            "On-duty officer struck jaywalking pedestrian while backing up his truck, traffic court trial hears Evangelos Lagoudis, now 72, required multiple surgeries after being run over twice by Const. Laurence Mooney's vehicle/5\n",
            "On-duty officer struck jaywalking pedestrian while backing up his truck, traffic court trial hears Evangelos Lagoudis, now 72, required multiple surgeries after being run over twice by Const. Laurence Mooney's vehicl  Newly released video allegedly shows a man being hit by a Marsville Police Department patrol vehicle. The incident happened in May 2020 in the parking lot near a Dollar General. CBS13 received surveillance video footage showing the moments just before Brandon Dix was reportedly hit by the officer./5\n",
            "At least one person was injured after a police car plowed through a crowd of pedestrians Saturday night who were watching a downtown street race, the Tacoma News-Tribune reported. The incident happened just before 7 p.m. when a crowd of about 100 people watched several cars spinning in circles in a downtown street, police told the newspaper./5\n",
            "A pedestrian was struck and killed early Thursday in Beaverton by a Washington County sheriff’s deputy in a patrol vehicle, police said. Oliver Sevin Frazier-Savoy, 24, died at the scene after an on-duty sheriff’s deputy hit him just before 2 a.m. near Southwest Murray Boulevard and Southwest Bowerman Drive, next to the Nike headquarters. The pedestrian suffered major injuries, police said, and despite efforts to save him by the deputy and emergency crews, he died at the scene./5\n",
            "A Texas Department of Public Safety (DPS) trooper ran over and killed a man who was in the road near the State Capitol early Thursday morning, according to the Austin Police Department (APD). The crash happened at around 3:45 a.m. Thursday just west of the Texas State Capitol building. The trooper was heading northbound on Colorado Street and as he was turning left on 13th Street, the trooper hit the pedestrian. DPS said the crash happened while the trooper was patrolling the area./5\n",
            "An on-duty police officer driving his patrol car hit and killed a pedestrian early Wednesday morning, police said. Police released a statement about the fatality but did not immediately identify the man who died or the officer who hit him. Police said the victim is between 30 and 40 years old and will be identified by the Solano County Coroner’s Office./5\n",
            "A pedestrian died early Thursday morning after being struck by a Washington County Sheriff's Office deputy near the Nike World Headquarters in Beaverton. Prior to 2 a.m., Beaverton police officers were called out to a crash at the intersection of Southwest Murray Boulevard and Southwest Bowerman Drive. According to police, officers learned an on-duty deputy was traveling southbound on SW Murray in their patrol vehicle when they struck a man near the intersection of SW Bowerman. The deputy, along with responding officers and paramedics, attempted life-saving efforts, but the man was pronounced dead at the scene. The man's identity has not yet been released./5\n",
            "Officer Cornacchia was the driver of the vehicle when he allegedly struck the 22-year old victim causing injuries. He was charged with conduct after an accident based on the fact he left the scene of a crash without notifying authorities./5\n",
            "New Jersey's Attorney General’s Office on Friday launched an investigation after a Clifton police officer responding to a call struck and killed a pedestrian. The accident occurred Thursday evening at the intersection of Allwood Road and Brookwood Road. According to the preliminary investigation, the officer was responding to a report of a crime in progress and had activated the emergency lights on his patrol vehicle when he hit the woman./5\n",
            "Fredi Morales was looking forward to turning 21 on Friday, and he’d planned to celebrate reaching legal drinking age with an evening of fun with friends at a nightclub, his brother said. Instead, friends and relatives are mourning his death after he was hit by a police SUV while he crossed a\n",
            "====================\n",
            "The dramatic dashcam video captured a horrific scene: a Kansas sheriff’s deputy in a patrol truck mowing down a Black man who was running, shirtless, across a field in the summer darkness after fleeing a traffic stop. The incident happened in May 2020 in the parking lot near a Dollar General. CBS13 received surveillance video footage showing the moments just before Brandon Dix was reportedly hit by the deputy. The incident happened in the parking lot near a Dollar General. CBS13 received surveillance video footage showing the moments just before Brandon Dix was reportedly hit by the deputy. The incident happened in the parking lot near a Dollar General. CBS13 received surveillance video footage showing the moments just before Brandon Dix was reportedly hit by the deputy. The incident happened in May 2020 in the parking lot near a Dollar General. CBS13 received surveillance video footage showing the moments just before Brandon Dix was reportedly hit by the deputy. The incident happened in the parking lot near a Dollar General. CBS13 received surveillance video footage showing the moments just before Brandon Dix was reportedly hit by the deputy. The incident happened in May 2020 in the parking lot near a Dollar General. CBS13 received surveillance video footage showing the moments just before Brandon Dix was reportedly hit by the deputy. The incident happened in May 2020 in the parking lot near a Dollar General. CBS13 received surveillance video footage showing the moments just before Brandon Dix was reportedly hit by the deputy. The incident happened in May 2020 in the parking lot near a Dollar General. CBS13 received surveillance video footage showing the moments just before Brandon Dix was reportedly hit by the deputy. The incident happened in May 2020 in the parking lot near a Dollar General. CBS13 received surveillance video footage showing the moments just before Brandon Dix was reportedly hit by the deputy. The incident happened in May 2020 in the parking lot near a Dollar General. CBS13 received surveillance video footage showing the moments just before Brandon Dix was reportedly hit by the deputy. The incident happened in May 2020 in the parking lot near a Dollar General. CBS13 received surveillance video footage showing the moments just before Brandon Dix was reportedly hit by the deputy. The incident happened in May 2020 in the parking lot near a Dollar General. CBS13 received surveillance video footage showing the moments just before Brandon Dix was reportedly hit by the deputy. The incident happened in May 2020 in the parking lot near a Dollar General. CBS13 received surveillance video footage showing the moments just before Brandon Dix was reportedly hit by the deputy. The incident happened in May 2020 in the parking lot near a Dollar General. CBS13 received surveillance video footage showing the moments just before Brandon Dix was reportedly hit by the deputy. The incident happened in May 2020 in the parking lot near a Dollar General. CBS13 received surveillance video footage showing the moments just before Brandon Dix was reportedly hit by the deputy. The incident happened in May 2020 in the parking lot near a Dollar General. CBS13 received surveillance video footage showing the moments just before Brandon Dix was reportedly hit by the deputy. The incident happened in May 2020 in the parking lot near a Dollar General. CBS13 received surveillance video footage showing the moments just before Brandon Dix was reportedly hit by the deputy. The incident happened in May 2020 in the parking lot near a Dollar General. CBS13 received surveillance video footage showing the moments just before Brandon Dix was reportedly hit by the deputy. The incident happened in May 2020 in the parking lot near a Dollar General. CBS13 received surveillance video footage showing the moments just before Brandon Dix was reportedly hit by the deputy. The incident happened in May 2020 in the parking lot near a Dollar General. CBS13 received surveillance video footage showing the moments just before Brandon Dix was reportedly hit by the deputy. The incident happened in May 2020 in the parking lot near a Dollar General. CBS13 received surveillance video footage showing the moments just before Brandon Dix was reportedly hit by the deputy. The incident happened in May 2020 in the parking lot near a Dollar General. CBS13 received surveillance video footage showing the moments just before Brandon Dix was reportedly hit by the deputy. The incident happened in May 2020 in the parking lot near a Dollar General. CBS13 received surveillance video footage showing the moments just before Brandon Dix was reportedly hit by the deputy. The incident happened in May 2020 in the parking lot near a Dollar General. CBS13 received surveillance video footage showing the moments just before Brandon Dix was reportedly hit by the deputy. The incident happened in May 2020 in the parking lot near a Dollar General. CBS13 received surveillance video footage showing the moments just before Brandon Dix was reportedly hit by the deputy. The incident happened in May 2020 in the parking lot near a Dollar General. CBS13 received surveillance video footage showing the moments just before Brandon Dix was reportedly hit by the deputy. The incident happened in May 2020 in the parking lot near a Dollar General. CBS13 received surveillance video footage showing the moments just before Brandon Dix was reportedly hit by the deputy. The incident happened in May 2020 in the parking lot near a Dollar\n",
            "====================\n",
            "The Caddo Parish Coroner’s Office has released the name of a woman who was reportedly struck and killed by an SPD officer driving a marked police unit. Valerie Parker, 48, died in the incident. Her identity was confirmed by fingerprint comparison. It happened around 10:40 p.m. on Sunday, Aug. 22 in the 4100 block of Greenwood Road. That’s near the A&W Food Mart convenience store, in the Country Club neighborhood./5\n",
            "A 44-year-old man is dead after a sheriff's deputy struck and hit him with a car on the roadway in Stafford early Friday morning, according to Stafford County Sheriff’s Office.The fatal pedestrian crash happened around 12:09 a.m. in the area of Garrisonville Road and Center Street, police said.The Stafford County Sheriff's Deputy was driving eastbound on Garrisonville Road when he hit a pedestrian crossing the roadway on Center Street./5\n",
            "On-duty officer struck jaywalking pedestrian while backing up his truck, traffic court trial hears Evangelos Lagoudis, now 72, required multiple surgeries after being run over twice by Const. Laurence Mooney's vehicle/5\n",
            "On-duty officer struck jaywalking pedestrian while backing up his truck, traffic court trial hears Evangelos Lagoudis, now 72, required multiple surgeries after being run over twice by Const. Laurence Mooney's vehicl  Newly released video allegedly shows a man being hit by a Marsville Police Department patrol vehicle. The incident happened in May 2020 in the parking lot near a Dollar General. CBS13 received surveillance video footage showing the moments just before Brandon Dix was reportedly hit by the officer./5\n",
            "At least one person was injured after a police car plowed through a crowd of pedestrians Saturday night who were watching a downtown street race, the Tacoma News-Tribune reported. The incident happened just before 7 p.m. when a crowd of about 100 people watched several cars spinning in circles in a downtown street, police told the newspaper./5\n",
            "A pedestrian was struck and killed early Thursday in Beaverton by a Washington County sheriff’s deputy in a patrol vehicle, police said. Oliver Sevin Frazier-Savoy, 24, died at the scene after an on-duty sheriff’s deputy hit him just before 2 a.m. near Southwest Murray Boulevard and Southwest Bowerman Drive, next to the Nike headquarters. The pedestrian suffered major injuries, police said, and despite efforts to save him by the deputy and emergency crews, he died at the scene./5\n",
            "A Texas Department of Public Safety (DPS) trooper ran over and killed a man who was in the road near the State Capitol early Thursday morning, according to the Austin Police Department (APD). The crash happened at around 3:45 a.m. Thursday just west of the Texas State Capitol building. The trooper was heading northbound on Colorado Street and as he was turning left on 13th Street, the trooper hit the pedestrian. DPS said the crash happened while the trooper was patrolling the area./5\n",
            "An on-duty police officer driving his patrol car hit and killed a pedestrian early Wednesday morning, police said. Police released a statement about the fatality but did not immediately identify the man who died or the officer who hit him. Police said the victim is between 30 and 40 years old and will be identified by the Solano County Coroner’s Office./5\n",
            "A pedestrian died early Thursday morning after being struck by a Washington County Sheriff's Office deputy near the Nike World Headquarters in Beaverton. Prior to 2 a.m., Beaverton police officers were called out to a crash at the intersection of Southwest Murray Boulevard and Southwest Bowerman Drive. According to police, officers learned an on-duty deputy was traveling southbound on SW Murray in their patrol vehicle when they struck a man near the intersection of SW Bowerman. The deputy, along with responding officers and paramedics, attempted life-saving efforts, but the man was pronounced dead at the scene. The man's identity has not yet been released./5\n",
            "Officer Cornacchia was the driver of the vehicle when he allegedly struck the 22-year old victim causing injuries. He was charged with conduct after an accident based on the fact he left the scene of a crash without notifying authorities./5\n",
            "New Jersey's Attorney General’s Office on Friday launched an investigation after a Clifton police officer responding to a call struck and killed a pedestrian. The accident occurred Thursday evening at the intersection of Allwood Road and Brookwood Road. According to the preliminary investigation, the officer was responding to a report of a crime in progress and had activated the emergency lights on his patrol vehicle when he hit the woman./5\n",
            "Fredi Morales was looking forward to turning 21 on Friday, and he’d planned to celebrate reaching legal drinking age with an evening of fun with friends at a nightclub, his brother said. Instead, friends and relatives are mourning his death after he was hit by a police SUV\n",
            "====================\n",
            "Heavily armed officers with rifles and handguns surrounded the vehicle as it ran over a man, in handcuffs, and on the ground. The incident happened in May 2020 in the parking lot near a Dollar General. CBS13 received surveillance video footage showing the moments just before Brandon Dix was reportedly hit by the officer./5\n",
            "At least one person was injured after a police car plowed through a crowd of pedestrians Saturday night who were watching a downtown street race, the Tacoma News-Tribune reported. The incident happened just before 7 p.m. when a crowd of about 100 people watched several cars spinning in circles in a downtown street, police told the newspaper./5\n",
            "A pedestrian was struck and killed early Thursday in Beaverton by a Washington County sheriff’s deputy in a patrol vehicle, police said. Oliver Sevin Frazier-Savoy, 24, died at the scene after an on-duty sheriff’s deputy hit him just before 2 a.m. near Southwest Murray Boulevard and Southwest Bowerman Drive, next to the Nike headquarters. The pedestrian suffered major injuries, police said, and despite efforts to save him by the deputy and emergency crews, he died at the scene./5\n",
            "A Texas Department of Public Safety (DPS) trooper ran over and killed a man who was in the road near the State Capitol early Thursday morning, according to the Austin Police Department (APD). The crash happened at around 3:45 a.m. Thursday just west of the Texas State Capitol building. The trooper was heading northbound on Colorado Street and as he was turning left on 13th Street, the trooper hit the pedestrian. DPS said the crash happened while the trooper was patrolling the area./5\n",
            "An on-duty police officer driving his patrol car hit and killed a pedestrian early Wednesday morning, police said. Police released a statement about the fatality but did not immediately identify the man who died or the officer who hit him. Police said the victim is between 30 and 40 years old and will be identified by the Solano County Coroner’s Office./5\n",
            "A pedestrian died early Thursday morning after being struck by a Washington County Sheriff's Office deputy near the Nike World Headquarters in Beaverton. Prior to 2 a.m., Beaverton police officers were called out to a crash at the intersection of Southwest Murray Boulevard and Southwest Bowerman Drive. According to police, officers learned an on-duty deputy was traveling southbound on SW Murray in their patrol vehicle when they struck a man near the intersection of SW Bowerman. The deputy, along with responding officers and paramedics, attempted life-saving efforts, but the man was pronounced dead at the scene. The man's identity has not yet been released./5\n",
            "Officer Cornacchia was the driver of the vehicle when he allegedly struck the 22-year old victim causing injuries. He was charged with conduct after an accident based on the fact he left the scene of a crash without notifying authorities./5\n",
            "New Jersey's Attorney General’s Office on Friday launched an investigation after a Clifton police officer responding to a call struck and killed a pedestrian. The accident occurred Thursday evening at the intersection of Allwood Road and Brookwood Road. According to the preliminary investigation, the officer was responding to a report of a crime in progress and had activated the emergency lights on his patrol vehicle when he hit the woman./5\n",
            "Fredi Morales was looking forward to turning 21 on Friday, and he’d planned to celebrate reaching legal drinking age with an evening of fun with friends at a nightclub, his brother said. Instead, friends and relatives are mourning his death after he was hit by a police SUV while he crossed a street on foot in north suburban Wheeling./5\n",
            "A Prince George’s County police officer driving in Langley Park, Maryland, on Monday struck and killed a pedestrian. Police say the on-duty officer was traveling westbound on University Boulevard at 15th Avenue about 9 p.m. when they hit a man walking. Police said the victim, a man, was in the roadway. It's unclear whether the man was in the crosswalk. He died at the scene./5\n",
            "According to Jupiter Police, one of the department's officers hit and killed a pedestrian with his patrol car on I-95 early Sunday. Jupiter Police Department spokesman Adam Brown says Officer Andrew Borrows was driving home from work when the pedestrian got out of his car and ran across the interstate./5\n",
            "A Redwood City police officer slammed into a pedestrian, killing the man while responding to a possible home invasion on Wednesday. A call came in at 9:47 a.m. reporting the home invasion in the 300 block of Poplar Avenue involving four masked male suspects, police said. A K-9 officer with 12 years on the force, was headed to the scene and leaving the area of James Avenue and El Camino Real when she lost control of her car on the wet roadway. The patrol car struck a man standing on the center median and collided with two other vehicles, before\n",
            "====================\n"
          ]
        }
      ]
    },
    {
      "cell_type": "markdown",
      "metadata": {
        "id": "zjjEN2Tafhl2"
      },
      "source": [
        "For bulk generation, you can generate a large amount of text to a file and sort out the samples locally on your computer. The next cell will generate a generated text file with a unique timestamp.\n",
        "\n",
        "You can rerun the cells as many times as you want for even more generated texts!"
      ]
    },
    {
      "cell_type": "code",
      "metadata": {
        "id": "Fa6p6arifSL0"
      },
      "source": [
        "gen_file = 'gpt2_gentext_{:%Y%m%d_%H%M%S}.txt'.format(datetime.utcnow())\n",
        "\n",
        "gpt2.generate_to_file(sess,\n",
        "                      run_name='run5',\n",
        "                      destination_path=gen_file,\n",
        "                      temperature=1.0,\n",
        "                      nsamples=60,\n",
        "                      batch_size=5\n",
        "                      )"
      ],
      "execution_count": 10,
      "outputs": []
    },
    {
      "cell_type": "code",
      "metadata": {
        "id": "0-LRex8lfv1g",
        "colab": {
          "base_uri": "https://localhost:8080/",
          "height": 17
        },
        "outputId": "6b2165b2-9f18-4176-c68f-ec2bce1e8fba"
      },
      "source": [
        "# may have to run twice to get file to download\n",
        "files.download(gen_file)"
      ],
      "execution_count": 11,
      "outputs": [
        {
          "output_type": "display_data",
          "data": {
            "application/javascript": [
              "\n",
              "    async function download(id, filename, size) {\n",
              "      if (!google.colab.kernel.accessAllowed) {\n",
              "        return;\n",
              "      }\n",
              "      const div = document.createElement('div');\n",
              "      const label = document.createElement('label');\n",
              "      label.textContent = `Downloading \"${filename}\": `;\n",
              "      div.appendChild(label);\n",
              "      const progress = document.createElement('progress');\n",
              "      progress.max = size;\n",
              "      div.appendChild(progress);\n",
              "      document.body.appendChild(div);\n",
              "\n",
              "      const buffers = [];\n",
              "      let downloaded = 0;\n",
              "\n",
              "      const channel = await google.colab.kernel.comms.open(id);\n",
              "      // Send a message to notify the kernel that we're ready.\n",
              "      channel.send({})\n",
              "\n",
              "      for await (const message of channel.messages) {\n",
              "        // Send a message to notify the kernel that we're ready.\n",
              "        channel.send({})\n",
              "        if (message.buffers) {\n",
              "          for (const buffer of message.buffers) {\n",
              "            buffers.push(buffer);\n",
              "            downloaded += buffer.byteLength;\n",
              "            progress.value = downloaded;\n",
              "          }\n",
              "        }\n",
              "      }\n",
              "      const blob = new Blob(buffers, {type: 'application/binary'});\n",
              "      const a = document.createElement('a');\n",
              "      a.href = window.URL.createObjectURL(blob);\n",
              "      a.download = filename;\n",
              "      div.appendChild(a);\n",
              "      a.click();\n",
              "      div.remove();\n",
              "    }\n",
              "  "
            ],
            "text/plain": [
              "<IPython.core.display.Javascript object>"
            ]
          },
          "metadata": {}
        },
        {
          "output_type": "display_data",
          "data": {
            "application/javascript": [
              "download(\"download_35e09e15-a466-4137-b153-88e9dd155289\", \"gpt2_gentext_20210917_035955.txt\", 295682)"
            ],
            "text/plain": [
              "<IPython.core.display.Javascript object>"
            ]
          },
          "metadata": {}
        }
      ]
    },
    {
      "cell_type": "markdown",
      "metadata": {
        "id": "ig-KVgkCDCKD"
      },
      "source": [
        "# Etc\n",
        "\n",
        "If the notebook has errors (e.g. GPU Sync Fail), force-kill the Colaboratory virtual machine and restart it with the command below:"
      ]
    },
    {
      "cell_type": "code",
      "metadata": {
        "id": "rIHiVP53FnsX"
      },
      "source": [
        "!kill -9 -1"
      ],
      "execution_count": null,
      "outputs": []
    }
  ]
}