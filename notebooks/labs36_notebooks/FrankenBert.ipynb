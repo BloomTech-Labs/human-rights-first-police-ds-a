{
  "nbformat": 4,
  "nbformat_minor": 0,
  "metadata": {
    "colab": {
      "name": "FrankenBert.ipynb",
      "provenance": [],
      "collapsed_sections": [],
      "machine_shape": "hm"
    },
    "kernelspec": {
      "display_name": "Python 3",
      "name": "python3"
    },
    "language_info": {
      "name": "python"
    },
    "accelerator": "GPU",
    "widgets": {
      "application/vnd.jupyter.widget-state+json": {
        "ac2d012e60da48308bd16635af031c57": {
          "model_module": "@jupyter-widgets/controls",
          "model_name": "HBoxModel",
          "state": {
            "_view_name": "HBoxView",
            "_dom_classes": [],
            "_model_name": "HBoxModel",
            "_view_module": "@jupyter-widgets/controls",
            "_model_module_version": "1.5.0",
            "_view_count": null,
            "_view_module_version": "1.5.0",
            "box_style": "",
            "layout": "IPY_MODEL_e3caa6e5e49643b698b4845d5aa0314a",
            "_model_module": "@jupyter-widgets/controls",
            "children": [
              "IPY_MODEL_48f9967be1964dd5b433e1ec5e4cf9e8",
              "IPY_MODEL_384d10a5094c4e1cbbfdda4f925613f9"
            ]
          }
        },
        "e3caa6e5e49643b698b4845d5aa0314a": {
          "model_module": "@jupyter-widgets/base",
          "model_name": "LayoutModel",
          "state": {
            "_view_name": "LayoutView",
            "grid_template_rows": null,
            "right": null,
            "justify_content": null,
            "_view_module": "@jupyter-widgets/base",
            "overflow": null,
            "_model_module_version": "1.2.0",
            "_view_count": null,
            "flex_flow": null,
            "width": null,
            "min_width": null,
            "border": null,
            "align_items": null,
            "bottom": null,
            "_model_module": "@jupyter-widgets/base",
            "top": null,
            "grid_column": null,
            "overflow_y": null,
            "overflow_x": null,
            "grid_auto_flow": null,
            "grid_area": null,
            "grid_template_columns": null,
            "flex": null,
            "_model_name": "LayoutModel",
            "justify_items": null,
            "grid_row": null,
            "max_height": null,
            "align_content": null,
            "visibility": null,
            "align_self": null,
            "height": null,
            "min_height": null,
            "padding": null,
            "grid_auto_rows": null,
            "grid_gap": null,
            "max_width": null,
            "order": null,
            "_view_module_version": "1.2.0",
            "grid_template_areas": null,
            "object_position": null,
            "object_fit": null,
            "grid_auto_columns": null,
            "margin": null,
            "display": null,
            "left": null
          }
        },
        "48f9967be1964dd5b433e1ec5e4cf9e8": {
          "model_module": "@jupyter-widgets/controls",
          "model_name": "FloatProgressModel",
          "state": {
            "_view_name": "ProgressView",
            "style": "IPY_MODEL_7048a8d49169432eb5a344d83d9f3b41",
            "_dom_classes": [],
            "description": "Downloading: 100%",
            "_model_name": "FloatProgressModel",
            "bar_style": "success",
            "max": 231508,
            "_view_module": "@jupyter-widgets/controls",
            "_model_module_version": "1.5.0",
            "value": 231508,
            "_view_count": null,
            "_view_module_version": "1.5.0",
            "orientation": "horizontal",
            "min": 0,
            "description_tooltip": null,
            "_model_module": "@jupyter-widgets/controls",
            "layout": "IPY_MODEL_5d7dc05dca094e00b97742b340c17531"
          }
        },
        "384d10a5094c4e1cbbfdda4f925613f9": {
          "model_module": "@jupyter-widgets/controls",
          "model_name": "HTMLModel",
          "state": {
            "_view_name": "HTMLView",
            "style": "IPY_MODEL_54292f0dd57d4e97aaaa3766942fdd70",
            "_dom_classes": [],
            "description": "",
            "_model_name": "HTMLModel",
            "placeholder": "​",
            "_view_module": "@jupyter-widgets/controls",
            "_model_module_version": "1.5.0",
            "value": " 232k/232k [00:05&lt;00:00, 45.7kB/s]",
            "_view_count": null,
            "_view_module_version": "1.5.0",
            "description_tooltip": null,
            "_model_module": "@jupyter-widgets/controls",
            "layout": "IPY_MODEL_d617484fa84044279f7d56528ae4b58e"
          }
        },
        "7048a8d49169432eb5a344d83d9f3b41": {
          "model_module": "@jupyter-widgets/controls",
          "model_name": "ProgressStyleModel",
          "state": {
            "_view_name": "StyleView",
            "_model_name": "ProgressStyleModel",
            "description_width": "initial",
            "_view_module": "@jupyter-widgets/base",
            "_model_module_version": "1.5.0",
            "_view_count": null,
            "_view_module_version": "1.2.0",
            "bar_color": null,
            "_model_module": "@jupyter-widgets/controls"
          }
        },
        "5d7dc05dca094e00b97742b340c17531": {
          "model_module": "@jupyter-widgets/base",
          "model_name": "LayoutModel",
          "state": {
            "_view_name": "LayoutView",
            "grid_template_rows": null,
            "right": null,
            "justify_content": null,
            "_view_module": "@jupyter-widgets/base",
            "overflow": null,
            "_model_module_version": "1.2.0",
            "_view_count": null,
            "flex_flow": null,
            "width": null,
            "min_width": null,
            "border": null,
            "align_items": null,
            "bottom": null,
            "_model_module": "@jupyter-widgets/base",
            "top": null,
            "grid_column": null,
            "overflow_y": null,
            "overflow_x": null,
            "grid_auto_flow": null,
            "grid_area": null,
            "grid_template_columns": null,
            "flex": null,
            "_model_name": "LayoutModel",
            "justify_items": null,
            "grid_row": null,
            "max_height": null,
            "align_content": null,
            "visibility": null,
            "align_self": null,
            "height": null,
            "min_height": null,
            "padding": null,
            "grid_auto_rows": null,
            "grid_gap": null,
            "max_width": null,
            "order": null,
            "_view_module_version": "1.2.0",
            "grid_template_areas": null,
            "object_position": null,
            "object_fit": null,
            "grid_auto_columns": null,
            "margin": null,
            "display": null,
            "left": null
          }
        },
        "54292f0dd57d4e97aaaa3766942fdd70": {
          "model_module": "@jupyter-widgets/controls",
          "model_name": "DescriptionStyleModel",
          "state": {
            "_view_name": "StyleView",
            "_model_name": "DescriptionStyleModel",
            "description_width": "",
            "_view_module": "@jupyter-widgets/base",
            "_model_module_version": "1.5.0",
            "_view_count": null,
            "_view_module_version": "1.2.0",
            "_model_module": "@jupyter-widgets/controls"
          }
        },
        "d617484fa84044279f7d56528ae4b58e": {
          "model_module": "@jupyter-widgets/base",
          "model_name": "LayoutModel",
          "state": {
            "_view_name": "LayoutView",
            "grid_template_rows": null,
            "right": null,
            "justify_content": null,
            "_view_module": "@jupyter-widgets/base",
            "overflow": null,
            "_model_module_version": "1.2.0",
            "_view_count": null,
            "flex_flow": null,
            "width": null,
            "min_width": null,
            "border": null,
            "align_items": null,
            "bottom": null,
            "_model_module": "@jupyter-widgets/base",
            "top": null,
            "grid_column": null,
            "overflow_y": null,
            "overflow_x": null,
            "grid_auto_flow": null,
            "grid_area": null,
            "grid_template_columns": null,
            "flex": null,
            "_model_name": "LayoutModel",
            "justify_items": null,
            "grid_row": null,
            "max_height": null,
            "align_content": null,
            "visibility": null,
            "align_self": null,
            "height": null,
            "min_height": null,
            "padding": null,
            "grid_auto_rows": null,
            "grid_gap": null,
            "max_width": null,
            "order": null,
            "_view_module_version": "1.2.0",
            "grid_template_areas": null,
            "object_position": null,
            "object_fit": null,
            "grid_auto_columns": null,
            "margin": null,
            "display": null,
            "left": null
          }
        },
        "8dcc3c2bbafe46b6a1e97f4339cab795": {
          "model_module": "@jupyter-widgets/controls",
          "model_name": "HBoxModel",
          "state": {
            "_view_name": "HBoxView",
            "_dom_classes": [],
            "_model_name": "HBoxModel",
            "_view_module": "@jupyter-widgets/controls",
            "_model_module_version": "1.5.0",
            "_view_count": null,
            "_view_module_version": "1.5.0",
            "box_style": "",
            "layout": "IPY_MODEL_d2cd500b5bd440e9ac854a93dda33c8c",
            "_model_module": "@jupyter-widgets/controls",
            "children": [
              "IPY_MODEL_a0c409dd48e44b06ac4534f84a1b884b",
              "IPY_MODEL_2aff8e98feb549e0ab40633c4ae1b6cd"
            ]
          }
        },
        "d2cd500b5bd440e9ac854a93dda33c8c": {
          "model_module": "@jupyter-widgets/base",
          "model_name": "LayoutModel",
          "state": {
            "_view_name": "LayoutView",
            "grid_template_rows": null,
            "right": null,
            "justify_content": null,
            "_view_module": "@jupyter-widgets/base",
            "overflow": null,
            "_model_module_version": "1.2.0",
            "_view_count": null,
            "flex_flow": null,
            "width": null,
            "min_width": null,
            "border": null,
            "align_items": null,
            "bottom": null,
            "_model_module": "@jupyter-widgets/base",
            "top": null,
            "grid_column": null,
            "overflow_y": null,
            "overflow_x": null,
            "grid_auto_flow": null,
            "grid_area": null,
            "grid_template_columns": null,
            "flex": null,
            "_model_name": "LayoutModel",
            "justify_items": null,
            "grid_row": null,
            "max_height": null,
            "align_content": null,
            "visibility": null,
            "align_self": null,
            "height": null,
            "min_height": null,
            "padding": null,
            "grid_auto_rows": null,
            "grid_gap": null,
            "max_width": null,
            "order": null,
            "_view_module_version": "1.2.0",
            "grid_template_areas": null,
            "object_position": null,
            "object_fit": null,
            "grid_auto_columns": null,
            "margin": null,
            "display": null,
            "left": null
          }
        },
        "a0c409dd48e44b06ac4534f84a1b884b": {
          "model_module": "@jupyter-widgets/controls",
          "model_name": "FloatProgressModel",
          "state": {
            "_view_name": "ProgressView",
            "style": "IPY_MODEL_62aa9f83d9494c419c1c25ce3c15e999",
            "_dom_classes": [],
            "description": "Downloading: 100%",
            "_model_name": "FloatProgressModel",
            "bar_style": "success",
            "max": 28,
            "_view_module": "@jupyter-widgets/controls",
            "_model_module_version": "1.5.0",
            "value": 28,
            "_view_count": null,
            "_view_module_version": "1.5.0",
            "orientation": "horizontal",
            "min": 0,
            "description_tooltip": null,
            "_model_module": "@jupyter-widgets/controls",
            "layout": "IPY_MODEL_447d6a5888e344a9b205dbb3989b7e1b"
          }
        },
        "2aff8e98feb549e0ab40633c4ae1b6cd": {
          "model_module": "@jupyter-widgets/controls",
          "model_name": "HTMLModel",
          "state": {
            "_view_name": "HTMLView",
            "style": "IPY_MODEL_0992c41d063d46a9a154393e5c320ab7",
            "_dom_classes": [],
            "description": "",
            "_model_name": "HTMLModel",
            "placeholder": "​",
            "_view_module": "@jupyter-widgets/controls",
            "_model_module_version": "1.5.0",
            "value": " 28.0/28.0 [00:01&lt;00:00, 19.0B/s]",
            "_view_count": null,
            "_view_module_version": "1.5.0",
            "description_tooltip": null,
            "_model_module": "@jupyter-widgets/controls",
            "layout": "IPY_MODEL_f3269125cb13444a9c32a45770328aaf"
          }
        },
        "62aa9f83d9494c419c1c25ce3c15e999": {
          "model_module": "@jupyter-widgets/controls",
          "model_name": "ProgressStyleModel",
          "state": {
            "_view_name": "StyleView",
            "_model_name": "ProgressStyleModel",
            "description_width": "initial",
            "_view_module": "@jupyter-widgets/base",
            "_model_module_version": "1.5.0",
            "_view_count": null,
            "_view_module_version": "1.2.0",
            "bar_color": null,
            "_model_module": "@jupyter-widgets/controls"
          }
        },
        "447d6a5888e344a9b205dbb3989b7e1b": {
          "model_module": "@jupyter-widgets/base",
          "model_name": "LayoutModel",
          "state": {
            "_view_name": "LayoutView",
            "grid_template_rows": null,
            "right": null,
            "justify_content": null,
            "_view_module": "@jupyter-widgets/base",
            "overflow": null,
            "_model_module_version": "1.2.0",
            "_view_count": null,
            "flex_flow": null,
            "width": null,
            "min_width": null,
            "border": null,
            "align_items": null,
            "bottom": null,
            "_model_module": "@jupyter-widgets/base",
            "top": null,
            "grid_column": null,
            "overflow_y": null,
            "overflow_x": null,
            "grid_auto_flow": null,
            "grid_area": null,
            "grid_template_columns": null,
            "flex": null,
            "_model_name": "LayoutModel",
            "justify_items": null,
            "grid_row": null,
            "max_height": null,
            "align_content": null,
            "visibility": null,
            "align_self": null,
            "height": null,
            "min_height": null,
            "padding": null,
            "grid_auto_rows": null,
            "grid_gap": null,
            "max_width": null,
            "order": null,
            "_view_module_version": "1.2.0",
            "grid_template_areas": null,
            "object_position": null,
            "object_fit": null,
            "grid_auto_columns": null,
            "margin": null,
            "display": null,
            "left": null
          }
        },
        "0992c41d063d46a9a154393e5c320ab7": {
          "model_module": "@jupyter-widgets/controls",
          "model_name": "DescriptionStyleModel",
          "state": {
            "_view_name": "StyleView",
            "_model_name": "DescriptionStyleModel",
            "description_width": "",
            "_view_module": "@jupyter-widgets/base",
            "_model_module_version": "1.5.0",
            "_view_count": null,
            "_view_module_version": "1.2.0",
            "_model_module": "@jupyter-widgets/controls"
          }
        },
        "f3269125cb13444a9c32a45770328aaf": {
          "model_module": "@jupyter-widgets/base",
          "model_name": "LayoutModel",
          "state": {
            "_view_name": "LayoutView",
            "grid_template_rows": null,
            "right": null,
            "justify_content": null,
            "_view_module": "@jupyter-widgets/base",
            "overflow": null,
            "_model_module_version": "1.2.0",
            "_view_count": null,
            "flex_flow": null,
            "width": null,
            "min_width": null,
            "border": null,
            "align_items": null,
            "bottom": null,
            "_model_module": "@jupyter-widgets/base",
            "top": null,
            "grid_column": null,
            "overflow_y": null,
            "overflow_x": null,
            "grid_auto_flow": null,
            "grid_area": null,
            "grid_template_columns": null,
            "flex": null,
            "_model_name": "LayoutModel",
            "justify_items": null,
            "grid_row": null,
            "max_height": null,
            "align_content": null,
            "visibility": null,
            "align_self": null,
            "height": null,
            "min_height": null,
            "padding": null,
            "grid_auto_rows": null,
            "grid_gap": null,
            "max_width": null,
            "order": null,
            "_view_module_version": "1.2.0",
            "grid_template_areas": null,
            "object_position": null,
            "object_fit": null,
            "grid_auto_columns": null,
            "margin": null,
            "display": null,
            "left": null
          }
        },
        "6a2333422e51405ea1aa85e2efca4da4": {
          "model_module": "@jupyter-widgets/controls",
          "model_name": "HBoxModel",
          "state": {
            "_view_name": "HBoxView",
            "_dom_classes": [],
            "_model_name": "HBoxModel",
            "_view_module": "@jupyter-widgets/controls",
            "_model_module_version": "1.5.0",
            "_view_count": null,
            "_view_module_version": "1.5.0",
            "box_style": "",
            "layout": "IPY_MODEL_5ee4e59cb87940b4be8f43e78f5a5e4f",
            "_model_module": "@jupyter-widgets/controls",
            "children": [
              "IPY_MODEL_063e54ca828e4f8991b10b7be793733e",
              "IPY_MODEL_eb32f1b28f5341b3b8560905f0f26919"
            ]
          }
        },
        "5ee4e59cb87940b4be8f43e78f5a5e4f": {
          "model_module": "@jupyter-widgets/base",
          "model_name": "LayoutModel",
          "state": {
            "_view_name": "LayoutView",
            "grid_template_rows": null,
            "right": null,
            "justify_content": null,
            "_view_module": "@jupyter-widgets/base",
            "overflow": null,
            "_model_module_version": "1.2.0",
            "_view_count": null,
            "flex_flow": null,
            "width": null,
            "min_width": null,
            "border": null,
            "align_items": null,
            "bottom": null,
            "_model_module": "@jupyter-widgets/base",
            "top": null,
            "grid_column": null,
            "overflow_y": null,
            "overflow_x": null,
            "grid_auto_flow": null,
            "grid_area": null,
            "grid_template_columns": null,
            "flex": null,
            "_model_name": "LayoutModel",
            "justify_items": null,
            "grid_row": null,
            "max_height": null,
            "align_content": null,
            "visibility": null,
            "align_self": null,
            "height": null,
            "min_height": null,
            "padding": null,
            "grid_auto_rows": null,
            "grid_gap": null,
            "max_width": null,
            "order": null,
            "_view_module_version": "1.2.0",
            "grid_template_areas": null,
            "object_position": null,
            "object_fit": null,
            "grid_auto_columns": null,
            "margin": null,
            "display": null,
            "left": null
          }
        },
        "063e54ca828e4f8991b10b7be793733e": {
          "model_module": "@jupyter-widgets/controls",
          "model_name": "FloatProgressModel",
          "state": {
            "_view_name": "ProgressView",
            "style": "IPY_MODEL_95e6afa7fb604ba49873054f5b44a172",
            "_dom_classes": [],
            "description": "Downloading: 100%",
            "_model_name": "FloatProgressModel",
            "bar_style": "success",
            "max": 466062,
            "_view_module": "@jupyter-widgets/controls",
            "_model_module_version": "1.5.0",
            "value": 466062,
            "_view_count": null,
            "_view_module_version": "1.5.0",
            "orientation": "horizontal",
            "min": 0,
            "description_tooltip": null,
            "_model_module": "@jupyter-widgets/controls",
            "layout": "IPY_MODEL_f8903040822047059d2fa7890ec44370"
          }
        },
        "eb32f1b28f5341b3b8560905f0f26919": {
          "model_module": "@jupyter-widgets/controls",
          "model_name": "HTMLModel",
          "state": {
            "_view_name": "HTMLView",
            "style": "IPY_MODEL_ec7545f32a6e4a2d97391e09402afa17",
            "_dom_classes": [],
            "description": "",
            "_model_name": "HTMLModel",
            "placeholder": "​",
            "_view_module": "@jupyter-widgets/controls",
            "_model_module_version": "1.5.0",
            "value": " 466k/466k [00:00&lt;00:00, 1.22MB/s]",
            "_view_count": null,
            "_view_module_version": "1.5.0",
            "description_tooltip": null,
            "_model_module": "@jupyter-widgets/controls",
            "layout": "IPY_MODEL_31de7bb1a417442986243ee2fd93192e"
          }
        },
        "95e6afa7fb604ba49873054f5b44a172": {
          "model_module": "@jupyter-widgets/controls",
          "model_name": "ProgressStyleModel",
          "state": {
            "_view_name": "StyleView",
            "_model_name": "ProgressStyleModel",
            "description_width": "initial",
            "_view_module": "@jupyter-widgets/base",
            "_model_module_version": "1.5.0",
            "_view_count": null,
            "_view_module_version": "1.2.0",
            "bar_color": null,
            "_model_module": "@jupyter-widgets/controls"
          }
        },
        "f8903040822047059d2fa7890ec44370": {
          "model_module": "@jupyter-widgets/base",
          "model_name": "LayoutModel",
          "state": {
            "_view_name": "LayoutView",
            "grid_template_rows": null,
            "right": null,
            "justify_content": null,
            "_view_module": "@jupyter-widgets/base",
            "overflow": null,
            "_model_module_version": "1.2.0",
            "_view_count": null,
            "flex_flow": null,
            "width": null,
            "min_width": null,
            "border": null,
            "align_items": null,
            "bottom": null,
            "_model_module": "@jupyter-widgets/base",
            "top": null,
            "grid_column": null,
            "overflow_y": null,
            "overflow_x": null,
            "grid_auto_flow": null,
            "grid_area": null,
            "grid_template_columns": null,
            "flex": null,
            "_model_name": "LayoutModel",
            "justify_items": null,
            "grid_row": null,
            "max_height": null,
            "align_content": null,
            "visibility": null,
            "align_self": null,
            "height": null,
            "min_height": null,
            "padding": null,
            "grid_auto_rows": null,
            "grid_gap": null,
            "max_width": null,
            "order": null,
            "_view_module_version": "1.2.0",
            "grid_template_areas": null,
            "object_position": null,
            "object_fit": null,
            "grid_auto_columns": null,
            "margin": null,
            "display": null,
            "left": null
          }
        },
        "ec7545f32a6e4a2d97391e09402afa17": {
          "model_module": "@jupyter-widgets/controls",
          "model_name": "DescriptionStyleModel",
          "state": {
            "_view_name": "StyleView",
            "_model_name": "DescriptionStyleModel",
            "description_width": "",
            "_view_module": "@jupyter-widgets/base",
            "_model_module_version": "1.5.0",
            "_view_count": null,
            "_view_module_version": "1.2.0",
            "_model_module": "@jupyter-widgets/controls"
          }
        },
        "31de7bb1a417442986243ee2fd93192e": {
          "model_module": "@jupyter-widgets/base",
          "model_name": "LayoutModel",
          "state": {
            "_view_name": "LayoutView",
            "grid_template_rows": null,
            "right": null,
            "justify_content": null,
            "_view_module": "@jupyter-widgets/base",
            "overflow": null,
            "_model_module_version": "1.2.0",
            "_view_count": null,
            "flex_flow": null,
            "width": null,
            "min_width": null,
            "border": null,
            "align_items": null,
            "bottom": null,
            "_model_module": "@jupyter-widgets/base",
            "top": null,
            "grid_column": null,
            "overflow_y": null,
            "overflow_x": null,
            "grid_auto_flow": null,
            "grid_area": null,
            "grid_template_columns": null,
            "flex": null,
            "_model_name": "LayoutModel",
            "justify_items": null,
            "grid_row": null,
            "max_height": null,
            "align_content": null,
            "visibility": null,
            "align_self": null,
            "height": null,
            "min_height": null,
            "padding": null,
            "grid_auto_rows": null,
            "grid_gap": null,
            "max_width": null,
            "order": null,
            "_view_module_version": "1.2.0",
            "grid_template_areas": null,
            "object_position": null,
            "object_fit": null,
            "grid_auto_columns": null,
            "margin": null,
            "display": null,
            "left": null
          }
        },
        "775126a6cf964cada5c50a6c5a90d237": {
          "model_module": "@jupyter-widgets/controls",
          "model_name": "HBoxModel",
          "state": {
            "_view_name": "HBoxView",
            "_dom_classes": [],
            "_model_name": "HBoxModel",
            "_view_module": "@jupyter-widgets/controls",
            "_model_module_version": "1.5.0",
            "_view_count": null,
            "_view_module_version": "1.5.0",
            "box_style": "",
            "layout": "IPY_MODEL_4cba010eea7644c3ac456035b63904ad",
            "_model_module": "@jupyter-widgets/controls",
            "children": [
              "IPY_MODEL_3229e024f1ff47d0a88f33d0b5e8868c",
              "IPY_MODEL_714ceebf70974040a15af3258f557753"
            ]
          }
        },
        "4cba010eea7644c3ac456035b63904ad": {
          "model_module": "@jupyter-widgets/base",
          "model_name": "LayoutModel",
          "state": {
            "_view_name": "LayoutView",
            "grid_template_rows": null,
            "right": null,
            "justify_content": null,
            "_view_module": "@jupyter-widgets/base",
            "overflow": null,
            "_model_module_version": "1.2.0",
            "_view_count": null,
            "flex_flow": null,
            "width": null,
            "min_width": null,
            "border": null,
            "align_items": null,
            "bottom": null,
            "_model_module": "@jupyter-widgets/base",
            "top": null,
            "grid_column": null,
            "overflow_y": null,
            "overflow_x": null,
            "grid_auto_flow": null,
            "grid_area": null,
            "grid_template_columns": null,
            "flex": null,
            "_model_name": "LayoutModel",
            "justify_items": null,
            "grid_row": null,
            "max_height": null,
            "align_content": null,
            "visibility": null,
            "align_self": null,
            "height": null,
            "min_height": null,
            "padding": null,
            "grid_auto_rows": null,
            "grid_gap": null,
            "max_width": null,
            "order": null,
            "_view_module_version": "1.2.0",
            "grid_template_areas": null,
            "object_position": null,
            "object_fit": null,
            "grid_auto_columns": null,
            "margin": null,
            "display": null,
            "left": null
          }
        },
        "3229e024f1ff47d0a88f33d0b5e8868c": {
          "model_module": "@jupyter-widgets/controls",
          "model_name": "FloatProgressModel",
          "state": {
            "_view_name": "ProgressView",
            "style": "IPY_MODEL_84b4d37d236c46a8a54a0fca5680ff93",
            "_dom_classes": [],
            "description": "Downloading: 100%",
            "_model_name": "FloatProgressModel",
            "bar_style": "success",
            "max": 570,
            "_view_module": "@jupyter-widgets/controls",
            "_model_module_version": "1.5.0",
            "value": 570,
            "_view_count": null,
            "_view_module_version": "1.5.0",
            "orientation": "horizontal",
            "min": 0,
            "description_tooltip": null,
            "_model_module": "@jupyter-widgets/controls",
            "layout": "IPY_MODEL_b043e7318a7c440aa2d548c0ed39b69e"
          }
        },
        "714ceebf70974040a15af3258f557753": {
          "model_module": "@jupyter-widgets/controls",
          "model_name": "HTMLModel",
          "state": {
            "_view_name": "HTMLView",
            "style": "IPY_MODEL_40fd32ae0fdb4ace875566a488eef9c2",
            "_dom_classes": [],
            "description": "",
            "_model_name": "HTMLModel",
            "placeholder": "​",
            "_view_module": "@jupyter-widgets/controls",
            "_model_module_version": "1.5.0",
            "value": " 570/570 [00:09&lt;00:00, 61.7B/s]",
            "_view_count": null,
            "_view_module_version": "1.5.0",
            "description_tooltip": null,
            "_model_module": "@jupyter-widgets/controls",
            "layout": "IPY_MODEL_0f9a17f89bb24233a7f562afae0079ae"
          }
        },
        "84b4d37d236c46a8a54a0fca5680ff93": {
          "model_module": "@jupyter-widgets/controls",
          "model_name": "ProgressStyleModel",
          "state": {
            "_view_name": "StyleView",
            "_model_name": "ProgressStyleModel",
            "description_width": "initial",
            "_view_module": "@jupyter-widgets/base",
            "_model_module_version": "1.5.0",
            "_view_count": null,
            "_view_module_version": "1.2.0",
            "bar_color": null,
            "_model_module": "@jupyter-widgets/controls"
          }
        },
        "b043e7318a7c440aa2d548c0ed39b69e": {
          "model_module": "@jupyter-widgets/base",
          "model_name": "LayoutModel",
          "state": {
            "_view_name": "LayoutView",
            "grid_template_rows": null,
            "right": null,
            "justify_content": null,
            "_view_module": "@jupyter-widgets/base",
            "overflow": null,
            "_model_module_version": "1.2.0",
            "_view_count": null,
            "flex_flow": null,
            "width": null,
            "min_width": null,
            "border": null,
            "align_items": null,
            "bottom": null,
            "_model_module": "@jupyter-widgets/base",
            "top": null,
            "grid_column": null,
            "overflow_y": null,
            "overflow_x": null,
            "grid_auto_flow": null,
            "grid_area": null,
            "grid_template_columns": null,
            "flex": null,
            "_model_name": "LayoutModel",
            "justify_items": null,
            "grid_row": null,
            "max_height": null,
            "align_content": null,
            "visibility": null,
            "align_self": null,
            "height": null,
            "min_height": null,
            "padding": null,
            "grid_auto_rows": null,
            "grid_gap": null,
            "max_width": null,
            "order": null,
            "_view_module_version": "1.2.0",
            "grid_template_areas": null,
            "object_position": null,
            "object_fit": null,
            "grid_auto_columns": null,
            "margin": null,
            "display": null,
            "left": null
          }
        },
        "40fd32ae0fdb4ace875566a488eef9c2": {
          "model_module": "@jupyter-widgets/controls",
          "model_name": "DescriptionStyleModel",
          "state": {
            "_view_name": "StyleView",
            "_model_name": "DescriptionStyleModel",
            "description_width": "",
            "_view_module": "@jupyter-widgets/base",
            "_model_module_version": "1.5.0",
            "_view_count": null,
            "_view_module_version": "1.2.0",
            "_model_module": "@jupyter-widgets/controls"
          }
        },
        "0f9a17f89bb24233a7f562afae0079ae": {
          "model_module": "@jupyter-widgets/base",
          "model_name": "LayoutModel",
          "state": {
            "_view_name": "LayoutView",
            "grid_template_rows": null,
            "right": null,
            "justify_content": null,
            "_view_module": "@jupyter-widgets/base",
            "overflow": null,
            "_model_module_version": "1.2.0",
            "_view_count": null,
            "flex_flow": null,
            "width": null,
            "min_width": null,
            "border": null,
            "align_items": null,
            "bottom": null,
            "_model_module": "@jupyter-widgets/base",
            "top": null,
            "grid_column": null,
            "overflow_y": null,
            "overflow_x": null,
            "grid_auto_flow": null,
            "grid_area": null,
            "grid_template_columns": null,
            "flex": null,
            "_model_name": "LayoutModel",
            "justify_items": null,
            "grid_row": null,
            "max_height": null,
            "align_content": null,
            "visibility": null,
            "align_self": null,
            "height": null,
            "min_height": null,
            "padding": null,
            "grid_auto_rows": null,
            "grid_gap": null,
            "max_width": null,
            "order": null,
            "_view_module_version": "1.2.0",
            "grid_template_areas": null,
            "object_position": null,
            "object_fit": null,
            "grid_auto_columns": null,
            "margin": null,
            "display": null,
            "left": null
          }
        },
        "847cfb648abf4466ba53fb53715854a5": {
          "model_module": "@jupyter-widgets/controls",
          "model_name": "HBoxModel",
          "state": {
            "_view_name": "HBoxView",
            "_dom_classes": [],
            "_model_name": "HBoxModel",
            "_view_module": "@jupyter-widgets/controls",
            "_model_module_version": "1.5.0",
            "_view_count": null,
            "_view_module_version": "1.5.0",
            "box_style": "",
            "layout": "IPY_MODEL_9efcb40f7a3f4206a8f908d53d31d0b4",
            "_model_module": "@jupyter-widgets/controls",
            "children": [
              "IPY_MODEL_e7a4fcd62c544ba4b6876976218da9e7",
              "IPY_MODEL_71cbe00a3b8c43a3a59646d6fde4e1d6"
            ]
          }
        },
        "9efcb40f7a3f4206a8f908d53d31d0b4": {
          "model_module": "@jupyter-widgets/base",
          "model_name": "LayoutModel",
          "state": {
            "_view_name": "LayoutView",
            "grid_template_rows": null,
            "right": null,
            "justify_content": null,
            "_view_module": "@jupyter-widgets/base",
            "overflow": null,
            "_model_module_version": "1.2.0",
            "_view_count": null,
            "flex_flow": null,
            "width": null,
            "min_width": null,
            "border": null,
            "align_items": null,
            "bottom": null,
            "_model_module": "@jupyter-widgets/base",
            "top": null,
            "grid_column": null,
            "overflow_y": null,
            "overflow_x": null,
            "grid_auto_flow": null,
            "grid_area": null,
            "grid_template_columns": null,
            "flex": null,
            "_model_name": "LayoutModel",
            "justify_items": null,
            "grid_row": null,
            "max_height": null,
            "align_content": null,
            "visibility": null,
            "align_self": null,
            "height": null,
            "min_height": null,
            "padding": null,
            "grid_auto_rows": null,
            "grid_gap": null,
            "max_width": null,
            "order": null,
            "_view_module_version": "1.2.0",
            "grid_template_areas": null,
            "object_position": null,
            "object_fit": null,
            "grid_auto_columns": null,
            "margin": null,
            "display": null,
            "left": null
          }
        },
        "e7a4fcd62c544ba4b6876976218da9e7": {
          "model_module": "@jupyter-widgets/controls",
          "model_name": "FloatProgressModel",
          "state": {
            "_view_name": "ProgressView",
            "style": "IPY_MODEL_42a37d35424a44178935a64c4d9070d3",
            "_dom_classes": [],
            "description": "Downloading: 100%",
            "_model_name": "FloatProgressModel",
            "bar_style": "success",
            "max": 440473133,
            "_view_module": "@jupyter-widgets/controls",
            "_model_module_version": "1.5.0",
            "value": 440473133,
            "_view_count": null,
            "_view_module_version": "1.5.0",
            "orientation": "horizontal",
            "min": 0,
            "description_tooltip": null,
            "_model_module": "@jupyter-widgets/controls",
            "layout": "IPY_MODEL_78d163e3605941b192fd22350fab2ade"
          }
        },
        "71cbe00a3b8c43a3a59646d6fde4e1d6": {
          "model_module": "@jupyter-widgets/controls",
          "model_name": "HTMLModel",
          "state": {
            "_view_name": "HTMLView",
            "style": "IPY_MODEL_504c239023e14fa290eee405cb52bc17",
            "_dom_classes": [],
            "description": "",
            "_model_name": "HTMLModel",
            "placeholder": "​",
            "_view_module": "@jupyter-widgets/controls",
            "_model_module_version": "1.5.0",
            "value": " 440M/440M [00:07&lt;00:00, 57.7MB/s]",
            "_view_count": null,
            "_view_module_version": "1.5.0",
            "description_tooltip": null,
            "_model_module": "@jupyter-widgets/controls",
            "layout": "IPY_MODEL_8430524fd3314013936f3180348380f1"
          }
        },
        "42a37d35424a44178935a64c4d9070d3": {
          "model_module": "@jupyter-widgets/controls",
          "model_name": "ProgressStyleModel",
          "state": {
            "_view_name": "StyleView",
            "_model_name": "ProgressStyleModel",
            "description_width": "initial",
            "_view_module": "@jupyter-widgets/base",
            "_model_module_version": "1.5.0",
            "_view_count": null,
            "_view_module_version": "1.2.0",
            "bar_color": null,
            "_model_module": "@jupyter-widgets/controls"
          }
        },
        "78d163e3605941b192fd22350fab2ade": {
          "model_module": "@jupyter-widgets/base",
          "model_name": "LayoutModel",
          "state": {
            "_view_name": "LayoutView",
            "grid_template_rows": null,
            "right": null,
            "justify_content": null,
            "_view_module": "@jupyter-widgets/base",
            "overflow": null,
            "_model_module_version": "1.2.0",
            "_view_count": null,
            "flex_flow": null,
            "width": null,
            "min_width": null,
            "border": null,
            "align_items": null,
            "bottom": null,
            "_model_module": "@jupyter-widgets/base",
            "top": null,
            "grid_column": null,
            "overflow_y": null,
            "overflow_x": null,
            "grid_auto_flow": null,
            "grid_area": null,
            "grid_template_columns": null,
            "flex": null,
            "_model_name": "LayoutModel",
            "justify_items": null,
            "grid_row": null,
            "max_height": null,
            "align_content": null,
            "visibility": null,
            "align_self": null,
            "height": null,
            "min_height": null,
            "padding": null,
            "grid_auto_rows": null,
            "grid_gap": null,
            "max_width": null,
            "order": null,
            "_view_module_version": "1.2.0",
            "grid_template_areas": null,
            "object_position": null,
            "object_fit": null,
            "grid_auto_columns": null,
            "margin": null,
            "display": null,
            "left": null
          }
        },
        "504c239023e14fa290eee405cb52bc17": {
          "model_module": "@jupyter-widgets/controls",
          "model_name": "DescriptionStyleModel",
          "state": {
            "_view_name": "StyleView",
            "_model_name": "DescriptionStyleModel",
            "description_width": "",
            "_view_module": "@jupyter-widgets/base",
            "_model_module_version": "1.5.0",
            "_view_count": null,
            "_view_module_version": "1.2.0",
            "_model_module": "@jupyter-widgets/controls"
          }
        },
        "8430524fd3314013936f3180348380f1": {
          "model_module": "@jupyter-widgets/base",
          "model_name": "LayoutModel",
          "state": {
            "_view_name": "LayoutView",
            "grid_template_rows": null,
            "right": null,
            "justify_content": null,
            "_view_module": "@jupyter-widgets/base",
            "overflow": null,
            "_model_module_version": "1.2.0",
            "_view_count": null,
            "flex_flow": null,
            "width": null,
            "min_width": null,
            "border": null,
            "align_items": null,
            "bottom": null,
            "_model_module": "@jupyter-widgets/base",
            "top": null,
            "grid_column": null,
            "overflow_y": null,
            "overflow_x": null,
            "grid_auto_flow": null,
            "grid_area": null,
            "grid_template_columns": null,
            "flex": null,
            "_model_name": "LayoutModel",
            "justify_items": null,
            "grid_row": null,
            "max_height": null,
            "align_content": null,
            "visibility": null,
            "align_self": null,
            "height": null,
            "min_height": null,
            "padding": null,
            "grid_auto_rows": null,
            "grid_gap": null,
            "max_width": null,
            "order": null,
            "_view_module_version": "1.2.0",
            "grid_template_areas": null,
            "object_position": null,
            "object_fit": null,
            "grid_auto_columns": null,
            "margin": null,
            "display": null,
            "left": null
          }
        }
      }
    }
  },
  "cells": [
    {
      "cell_type": "code",
      "metadata": {
        "id": "rfCJevP7Nvt-",
        "outputId": "1b84d0a4-7d15-459e-a36b-1ac73079de18",
        "colab": {
          "base_uri": "https://localhost:8080/"
        }
      },
      "source": [
        "!pip install transformers\n",
        "!pip install psycopg2-binary"
      ],
      "execution_count": 1,
      "outputs": [
        {
          "output_type": "stream",
          "text": [
            "Collecting transformers\n",
            "\u001b[?25l  Downloading https://files.pythonhosted.org/packages/fd/1a/41c644c963249fd7f3836d926afa1e3f1cc234a1c40d80c5f03ad8f6f1b2/transformers-4.8.2-py3-none-any.whl (2.5MB)\n",
            "\r\u001b[K     |▏                               | 10kB 17.3MB/s eta 0:00:01\r\u001b[K     |▎                               | 20kB 22.6MB/s eta 0:00:01\r\u001b[K     |▍                               | 30kB 25.7MB/s eta 0:00:01\r\u001b[K     |▌                               | 40kB 28.1MB/s eta 0:00:01\r\u001b[K     |▋                               | 51kB 30.3MB/s eta 0:00:01\r\u001b[K     |▉                               | 61kB 31.0MB/s eta 0:00:01\r\u001b[K     |█                               | 71kB 32.2MB/s eta 0:00:01\r\u001b[K     |█                               | 81kB 33.2MB/s eta 0:00:01\r\u001b[K     |█▏                              | 92kB 34.4MB/s eta 0:00:01\r\u001b[K     |█▎                              | 102kB 34.8MB/s eta 0:00:01\r\u001b[K     |█▍                              | 112kB 34.8MB/s eta 0:00:01\r\u001b[K     |█▋                              | 122kB 34.8MB/s eta 0:00:01\r\u001b[K     |█▊                              | 133kB 34.8MB/s eta 0:00:01\r\u001b[K     |█▉                              | 143kB 34.8MB/s eta 0:00:01\r\u001b[K     |██                              | 153kB 34.8MB/s eta 0:00:01\r\u001b[K     |██                              | 163kB 34.8MB/s eta 0:00:01\r\u001b[K     |██▎                             | 174kB 34.8MB/s eta 0:00:01\r\u001b[K     |██▍                             | 184kB 34.8MB/s eta 0:00:01\r\u001b[K     |██▌                             | 194kB 34.8MB/s eta 0:00:01\r\u001b[K     |██▋                             | 204kB 34.8MB/s eta 0:00:01\r\u001b[K     |██▊                             | 215kB 34.8MB/s eta 0:00:01\r\u001b[K     |██▉                             | 225kB 34.8MB/s eta 0:00:01\r\u001b[K     |███                             | 235kB 34.8MB/s eta 0:00:01\r\u001b[K     |███▏                            | 245kB 34.8MB/s eta 0:00:01\r\u001b[K     |███▎                            | 256kB 34.8MB/s eta 0:00:01\r\u001b[K     |███▍                            | 266kB 34.8MB/s eta 0:00:01\r\u001b[K     |███▌                            | 276kB 34.8MB/s eta 0:00:01\r\u001b[K     |███▊                            | 286kB 34.8MB/s eta 0:00:01\r\u001b[K     |███▉                            | 296kB 34.8MB/s eta 0:00:01\r\u001b[K     |████                            | 307kB 34.8MB/s eta 0:00:01\r\u001b[K     |████                            | 317kB 34.8MB/s eta 0:00:01\r\u001b[K     |████▏                           | 327kB 34.8MB/s eta 0:00:01\r\u001b[K     |████▎                           | 337kB 34.8MB/s eta 0:00:01\r\u001b[K     |████▌                           | 348kB 34.8MB/s eta 0:00:01\r\u001b[K     |████▋                           | 358kB 34.8MB/s eta 0:00:01\r\u001b[K     |████▊                           | 368kB 34.8MB/s eta 0:00:01\r\u001b[K     |████▉                           | 378kB 34.8MB/s eta 0:00:01\r\u001b[K     |█████                           | 389kB 34.8MB/s eta 0:00:01\r\u001b[K     |█████▏                          | 399kB 34.8MB/s eta 0:00:01\r\u001b[K     |█████▎                          | 409kB 34.8MB/s eta 0:00:01\r\u001b[K     |█████▍                          | 419kB 34.8MB/s eta 0:00:01\r\u001b[K     |█████▌                          | 430kB 34.8MB/s eta 0:00:01\r\u001b[K     |█████▋                          | 440kB 34.8MB/s eta 0:00:01\r\u001b[K     |█████▊                          | 450kB 34.8MB/s eta 0:00:01\r\u001b[K     |██████                          | 460kB 34.8MB/s eta 0:00:01\r\u001b[K     |██████                          | 471kB 34.8MB/s eta 0:00:01\r\u001b[K     |██████▏                         | 481kB 34.8MB/s eta 0:00:01\r\u001b[K     |██████▎                         | 491kB 34.8MB/s eta 0:00:01\r\u001b[K     |██████▍                         | 501kB 34.8MB/s eta 0:00:01\r\u001b[K     |██████▌                         | 512kB 34.8MB/s eta 0:00:01\r\u001b[K     |██████▊                         | 522kB 34.8MB/s eta 0:00:01\r\u001b[K     |██████▉                         | 532kB 34.8MB/s eta 0:00:01\r\u001b[K     |███████                         | 542kB 34.8MB/s eta 0:00:01\r\u001b[K     |███████                         | 552kB 34.8MB/s eta 0:00:01\r\u001b[K     |███████▏                        | 563kB 34.8MB/s eta 0:00:01\r\u001b[K     |███████▍                        | 573kB 34.8MB/s eta 0:00:01\r\u001b[K     |███████▌                        | 583kB 34.8MB/s eta 0:00:01\r\u001b[K     |███████▋                        | 593kB 34.8MB/s eta 0:00:01\r\u001b[K     |███████▊                        | 604kB 34.8MB/s eta 0:00:01\r\u001b[K     |███████▉                        | 614kB 34.8MB/s eta 0:00:01\r\u001b[K     |████████                        | 624kB 34.8MB/s eta 0:00:01\r\u001b[K     |████████▏                       | 634kB 34.8MB/s eta 0:00:01\r\u001b[K     |████████▎                       | 645kB 34.8MB/s eta 0:00:01\r\u001b[K     |████████▍                       | 655kB 34.8MB/s eta 0:00:01\r\u001b[K     |████████▌                       | 665kB 34.8MB/s eta 0:00:01\r\u001b[K     |████████▋                       | 675kB 34.8MB/s eta 0:00:01\r\u001b[K     |████████▉                       | 686kB 34.8MB/s eta 0:00:01\r\u001b[K     |█████████                       | 696kB 34.8MB/s eta 0:00:01\r\u001b[K     |█████████                       | 706kB 34.8MB/s eta 0:00:01\r\u001b[K     |█████████▏                      | 716kB 34.8MB/s eta 0:00:01\r\u001b[K     |█████████▎                      | 727kB 34.8MB/s eta 0:00:01\r\u001b[K     |█████████▍                      | 737kB 34.8MB/s eta 0:00:01\r\u001b[K     |█████████▋                      | 747kB 34.8MB/s eta 0:00:01\r\u001b[K     |█████████▊                      | 757kB 34.8MB/s eta 0:00:01\r\u001b[K     |█████████▉                      | 768kB 34.8MB/s eta 0:00:01\r\u001b[K     |██████████                      | 778kB 34.8MB/s eta 0:00:01\r\u001b[K     |██████████                      | 788kB 34.8MB/s eta 0:00:01\r\u001b[K     |██████████▎                     | 798kB 34.8MB/s eta 0:00:01\r\u001b[K     |██████████▍                     | 808kB 34.8MB/s eta 0:00:01\r\u001b[K     |██████████▌                     | 819kB 34.8MB/s eta 0:00:01\r\u001b[K     |██████████▋                     | 829kB 34.8MB/s eta 0:00:01\r\u001b[K     |██████████▊                     | 839kB 34.8MB/s eta 0:00:01\r\u001b[K     |██████████▉                     | 849kB 34.8MB/s eta 0:00:01\r\u001b[K     |███████████                     | 860kB 34.8MB/s eta 0:00:01\r\u001b[K     |███████████▏                    | 870kB 34.8MB/s eta 0:00:01\r\u001b[K     |███████████▎                    | 880kB 34.8MB/s eta 0:00:01\r\u001b[K     |███████████▍                    | 890kB 34.8MB/s eta 0:00:01\r\u001b[K     |███████████▌                    | 901kB 34.8MB/s eta 0:00:01\r\u001b[K     |███████████▊                    | 911kB 34.8MB/s eta 0:00:01\r\u001b[K     |███████████▉                    | 921kB 34.8MB/s eta 0:00:01\r\u001b[K     |████████████                    | 931kB 34.8MB/s eta 0:00:01\r\u001b[K     |████████████                    | 942kB 34.8MB/s eta 0:00:01\r\u001b[K     |████████████▏                   | 952kB 34.8MB/s eta 0:00:01\r\u001b[K     |████████████▎                   | 962kB 34.8MB/s eta 0:00:01\r\u001b[K     |████████████▌                   | 972kB 34.8MB/s eta 0:00:01\r\u001b[K     |████████████▋                   | 983kB 34.8MB/s eta 0:00:01\r\u001b[K     |████████████▊                   | 993kB 34.8MB/s eta 0:00:01\r\u001b[K     |████████████▉                   | 1.0MB 34.8MB/s eta 0:00:01\r\u001b[K     |█████████████                   | 1.0MB 34.8MB/s eta 0:00:01\r\u001b[K     |█████████████                   | 1.0MB 34.8MB/s eta 0:00:01\r\u001b[K     |█████████████▎                  | 1.0MB 34.8MB/s eta 0:00:01\r\u001b[K     |█████████████▍                  | 1.0MB 34.8MB/s eta 0:00:01\r\u001b[K     |█████████████▌                  | 1.1MB 34.8MB/s eta 0:00:01\r\u001b[K     |█████████████▋                  | 1.1MB 34.8MB/s eta 0:00:01\r\u001b[K     |█████████████▊                  | 1.1MB 34.8MB/s eta 0:00:01\r\u001b[K     |██████████████                  | 1.1MB 34.8MB/s eta 0:00:01\r\u001b[K     |██████████████                  | 1.1MB 34.8MB/s eta 0:00:01\r\u001b[K     |██████████████▏                 | 1.1MB 34.8MB/s eta 0:00:01\r\u001b[K     |██████████████▎                 | 1.1MB 34.8MB/s eta 0:00:01\r\u001b[K     |██████████████▍                 | 1.1MB 34.8MB/s eta 0:00:01\r\u001b[K     |██████████████▌                 | 1.1MB 34.8MB/s eta 0:00:01\r\u001b[K     |██████████████▊                 | 1.1MB 34.8MB/s eta 0:00:01\r\u001b[K     |██████████████▉                 | 1.2MB 34.8MB/s eta 0:00:01\r\u001b[K     |███████████████                 | 1.2MB 34.8MB/s eta 0:00:01\r\u001b[K     |███████████████                 | 1.2MB 34.8MB/s eta 0:00:01\r\u001b[K     |███████████████▏                | 1.2MB 34.8MB/s eta 0:00:01\r\u001b[K     |███████████████▍                | 1.2MB 34.8MB/s eta 0:00:01\r\u001b[K     |███████████████▌                | 1.2MB 34.8MB/s eta 0:00:01\r\u001b[K     |███████████████▋                | 1.2MB 34.8MB/s eta 0:00:01\r\u001b[K     |███████████████▊                | 1.2MB 34.8MB/s eta 0:00:01\r\u001b[K     |███████████████▉                | 1.2MB 34.8MB/s eta 0:00:01\r\u001b[K     |████████████████                | 1.2MB 34.8MB/s eta 0:00:01\r\u001b[K     |████████████████▏               | 1.3MB 34.8MB/s eta 0:00:01\r\u001b[K     |████████████████▎               | 1.3MB 34.8MB/s eta 0:00:01\r\u001b[K     |████████████████▍               | 1.3MB 34.8MB/s eta 0:00:01\r\u001b[K     |████████████████▌               | 1.3MB 34.8MB/s eta 0:00:01\r\u001b[K     |████████████████▋               | 1.3MB 34.8MB/s eta 0:00:01\r\u001b[K     |████████████████▉               | 1.3MB 34.8MB/s eta 0:00:01\r\u001b[K     |█████████████████               | 1.3MB 34.8MB/s eta 0:00:01\r\u001b[K     |█████████████████               | 1.3MB 34.8MB/s eta 0:00:01\r\u001b[K     |█████████████████▏              | 1.3MB 34.8MB/s eta 0:00:01\r\u001b[K     |█████████████████▎              | 1.4MB 34.8MB/s eta 0:00:01\r\u001b[K     |█████████████████▍              | 1.4MB 34.8MB/s eta 0:00:01\r\u001b[K     |█████████████████▋              | 1.4MB 34.8MB/s eta 0:00:01\r\u001b[K     |█████████████████▊              | 1.4MB 34.8MB/s eta 0:00:01\r\u001b[K     |█████████████████▉              | 1.4MB 34.8MB/s eta 0:00:01\r\u001b[K     |██████████████████              | 1.4MB 34.8MB/s eta 0:00:01\r\u001b[K     |██████████████████              | 1.4MB 34.8MB/s eta 0:00:01\r\u001b[K     |██████████████████▎             | 1.4MB 34.8MB/s eta 0:00:01\r\u001b[K     |██████████████████▍             | 1.4MB 34.8MB/s eta 0:00:01\r\u001b[K     |██████████████████▌             | 1.4MB 34.8MB/s eta 0:00:01\r\u001b[K     |██████████████████▋             | 1.5MB 34.8MB/s eta 0:00:01\r\u001b[K     |██████████████████▊             | 1.5MB 34.8MB/s eta 0:00:01\r\u001b[K     |██████████████████▉             | 1.5MB 34.8MB/s eta 0:00:01\r\u001b[K     |███████████████████             | 1.5MB 34.8MB/s eta 0:00:01\r\u001b[K     |███████████████████▏            | 1.5MB 34.8MB/s eta 0:00:01\r\u001b[K     |███████████████████▎            | 1.5MB 34.8MB/s eta 0:00:01\r\u001b[K     |███████████████████▍            | 1.5MB 34.8MB/s eta 0:00:01\r\u001b[K     |███████████████████▌            | 1.5MB 34.8MB/s eta 0:00:01\r\u001b[K     |███████████████████▋            | 1.5MB 34.8MB/s eta 0:00:01\r\u001b[K     |███████████████████▉            | 1.5MB 34.8MB/s eta 0:00:01\r\u001b[K     |████████████████████            | 1.6MB 34.8MB/s eta 0:00:01\r\u001b[K     |████████████████████            | 1.6MB 34.8MB/s eta 0:00:01\r\u001b[K     |████████████████████▏           | 1.6MB 34.8MB/s eta 0:00:01\r\u001b[K     |████████████████████▎           | 1.6MB 34.8MB/s eta 0:00:01\r\u001b[K     |████████████████████▌           | 1.6MB 34.8MB/s eta 0:00:01\r\u001b[K     |████████████████████▋           | 1.6MB 34.8MB/s eta 0:00:01\r\u001b[K     |████████████████████▊           | 1.6MB 34.8MB/s eta 0:00:01\r\u001b[K     |████████████████████▉           | 1.6MB 34.8MB/s eta 0:00:01\r\u001b[K     |█████████████████████           | 1.6MB 34.8MB/s eta 0:00:01\r\u001b[K     |█████████████████████           | 1.6MB 34.8MB/s eta 0:00:01\r\u001b[K     |█████████████████████▎          | 1.7MB 34.8MB/s eta 0:00:01\r\u001b[K     |█████████████████████▍          | 1.7MB 34.8MB/s eta 0:00:01\r\u001b[K     |█████████████████████▌          | 1.7MB 34.8MB/s eta 0:00:01\r\u001b[K     |█████████████████████▋          | 1.7MB 34.8MB/s eta 0:00:01\r\u001b[K     |█████████████████████▊          | 1.7MB 34.8MB/s eta 0:00:01\r\u001b[K     |██████████████████████          | 1.7MB 34.8MB/s eta 0:00:01\r\u001b[K     |██████████████████████          | 1.7MB 34.8MB/s eta 0:00:01\r\u001b[K     |██████████████████████▏         | 1.7MB 34.8MB/s eta 0:00:01\r\u001b[K     |██████████████████████▎         | 1.7MB 34.8MB/s eta 0:00:01\r\u001b[K     |██████████████████████▍         | 1.8MB 34.8MB/s eta 0:00:01\r\u001b[K     |██████████████████████▌         | 1.8MB 34.8MB/s eta 0:00:01\r\u001b[K     |██████████████████████▊         | 1.8MB 34.8MB/s eta 0:00:01\r\u001b[K     |██████████████████████▉         | 1.8MB 34.8MB/s eta 0:00:01\r\u001b[K     |███████████████████████         | 1.8MB 34.8MB/s eta 0:00:01\r\u001b[K     |███████████████████████         | 1.8MB 34.8MB/s eta 0:00:01\r\u001b[K     |███████████████████████▏        | 1.8MB 34.8MB/s eta 0:00:01\r\u001b[K     |███████████████████████▍        | 1.8MB 34.8MB/s eta 0:00:01\r\u001b[K     |███████████████████████▌        | 1.8MB 34.8MB/s eta 0:00:01\r\u001b[K     |███████████████████████▋        | 1.8MB 34.8MB/s eta 0:00:01\r\u001b[K     |███████████████████████▊        | 1.9MB 34.8MB/s eta 0:00:01\r\u001b[K     |███████████████████████▉        | 1.9MB 34.8MB/s eta 0:00:01\r\u001b[K     |████████████████████████        | 1.9MB 34.8MB/s eta 0:00:01\r\u001b[K     |████████████████████████▏       | 1.9MB 34.8MB/s eta 0:00:01\r\u001b[K     |████████████████████████▎       | 1.9MB 34.8MB/s eta 0:00:01\r\u001b[K     |████████████████████████▍       | 1.9MB 34.8MB/s eta 0:00:01\r\u001b[K     |████████████████████████▌       | 1.9MB 34.8MB/s eta 0:00:01\r\u001b[K     |████████████████████████▋       | 1.9MB 34.8MB/s eta 0:00:01\r\u001b[K     |████████████████████████▉       | 1.9MB 34.8MB/s eta 0:00:01\r\u001b[K     |█████████████████████████       | 1.9MB 34.8MB/s eta 0:00:01\r\u001b[K     |█████████████████████████       | 2.0MB 34.8MB/s eta 0:00:01\r\u001b[K     |█████████████████████████▏      | 2.0MB 34.8MB/s eta 0:00:01\r\u001b[K     |█████████████████████████▎      | 2.0MB 34.8MB/s eta 0:00:01\r\u001b[K     |█████████████████████████▍      | 2.0MB 34.8MB/s eta 0:00:01\r\u001b[K     |█████████████████████████▋      | 2.0MB 34.8MB/s eta 0:00:01\r\u001b[K     |█████████████████████████▊      | 2.0MB 34.8MB/s eta 0:00:01\r\u001b[K     |█████████████████████████▉      | 2.0MB 34.8MB/s eta 0:00:01\r\u001b[K     |██████████████████████████      | 2.0MB 34.8MB/s eta 0:00:01\r\u001b[K     |██████████████████████████      | 2.0MB 34.8MB/s eta 0:00:01\r\u001b[K     |██████████████████████████▏     | 2.0MB 34.8MB/s eta 0:00:01\r\u001b[K     |██████████████████████████▍     | 2.1MB 34.8MB/s eta 0:00:01\r\u001b[K     |██████████████████████████▌     | 2.1MB 34.8MB/s eta 0:00:01\r\u001b[K     |██████████████████████████▋     | 2.1MB 34.8MB/s eta 0:00:01\r\u001b[K     |██████████████████████████▊     | 2.1MB 34.8MB/s eta 0:00:01\r\u001b[K     |██████████████████████████▉     | 2.1MB 34.8MB/s eta 0:00:01\r\u001b[K     |███████████████████████████     | 2.1MB 34.8MB/s eta 0:00:01\r\u001b[K     |███████████████████████████▏    | 2.1MB 34.8MB/s eta 0:00:01\r\u001b[K     |███████████████████████████▎    | 2.1MB 34.8MB/s eta 0:00:01\r\u001b[K     |███████████████████████████▍    | 2.1MB 34.8MB/s eta 0:00:01\r\u001b[K     |███████████████████████████▌    | 2.2MB 34.8MB/s eta 0:00:01\r\u001b[K     |███████████████████████████▋    | 2.2MB 34.8MB/s eta 0:00:01\r\u001b[K     |███████████████████████████▉    | 2.2MB 34.8MB/s eta 0:00:01\r\u001b[K     |████████████████████████████    | 2.2MB 34.8MB/s eta 0:00:01\r\u001b[K     |████████████████████████████    | 2.2MB 34.8MB/s eta 0:00:01\r\u001b[K     |████████████████████████████▏   | 2.2MB 34.8MB/s eta 0:00:01\r\u001b[K     |████████████████████████████▎   | 2.2MB 34.8MB/s eta 0:00:01\r\u001b[K     |████████████████████████████▌   | 2.2MB 34.8MB/s eta 0:00:01\r\u001b[K     |████████████████████████████▋   | 2.2MB 34.8MB/s eta 0:00:01\r\u001b[K     |████████████████████████████▊   | 2.2MB 34.8MB/s eta 0:00:01\r\u001b[K     |████████████████████████████▉   | 2.3MB 34.8MB/s eta 0:00:01\r\u001b[K     |█████████████████████████████   | 2.3MB 34.8MB/s eta 0:00:01\r\u001b[K     |█████████████████████████████   | 2.3MB 34.8MB/s eta 0:00:01\r\u001b[K     |█████████████████████████████▎  | 2.3MB 34.8MB/s eta 0:00:01\r\u001b[K     |█████████████████████████████▍  | 2.3MB 34.8MB/s eta 0:00:01\r\u001b[K     |█████████████████████████████▌  | 2.3MB 34.8MB/s eta 0:00:01\r\u001b[K     |█████████████████████████████▋  | 2.3MB 34.8MB/s eta 0:00:01\r\u001b[K     |█████████████████████████████▊  | 2.3MB 34.8MB/s eta 0:00:01\r\u001b[K     |██████████████████████████████  | 2.3MB 34.8MB/s eta 0:00:01\r\u001b[K     |██████████████████████████████  | 2.3MB 34.8MB/s eta 0:00:01\r\u001b[K     |██████████████████████████████▏ | 2.4MB 34.8MB/s eta 0:00:01\r\u001b[K     |██████████████████████████████▎ | 2.4MB 34.8MB/s eta 0:00:01\r\u001b[K     |██████████████████████████████▍ | 2.4MB 34.8MB/s eta 0:00:01\r\u001b[K     |██████████████████████████████▌ | 2.4MB 34.8MB/s eta 0:00:01\r\u001b[K     |██████████████████████████████▊ | 2.4MB 34.8MB/s eta 0:00:01\r\u001b[K     |██████████████████████████████▉ | 2.4MB 34.8MB/s eta 0:00:01\r\u001b[K     |███████████████████████████████ | 2.4MB 34.8MB/s eta 0:00:01\r\u001b[K     |███████████████████████████████ | 2.4MB 34.8MB/s eta 0:00:01\r\u001b[K     |███████████████████████████████▏| 2.4MB 34.8MB/s eta 0:00:01\r\u001b[K     |███████████████████████████████▍| 2.4MB 34.8MB/s eta 0:00:01\r\u001b[K     |███████████████████████████████▌| 2.5MB 34.8MB/s eta 0:00:01\r\u001b[K     |███████████████████████████████▋| 2.5MB 34.8MB/s eta 0:00:01\r\u001b[K     |███████████████████████████████▊| 2.5MB 34.8MB/s eta 0:00:01\r\u001b[K     |███████████████████████████████▉| 2.5MB 34.8MB/s eta 0:00:01\r\u001b[K     |████████████████████████████████| 2.5MB 34.8MB/s eta 0:00:01\r\u001b[K     |████████████████████████████████| 2.5MB 34.8MB/s \n",
            "\u001b[?25hRequirement already satisfied: pyyaml in /usr/local/lib/python3.7/dist-packages (from transformers) (3.13)\n",
            "Requirement already satisfied: importlib-metadata; python_version < \"3.8\" in /usr/local/lib/python3.7/dist-packages (from transformers) (4.6.0)\n",
            "Requirement already satisfied: regex!=2019.12.17 in /usr/local/lib/python3.7/dist-packages (from transformers) (2019.12.20)\n",
            "Requirement already satisfied: requests in /usr/local/lib/python3.7/dist-packages (from transformers) (2.23.0)\n",
            "Requirement already satisfied: packaging in /usr/local/lib/python3.7/dist-packages (from transformers) (20.9)\n",
            "Collecting tokenizers<0.11,>=0.10.1\n",
            "\u001b[?25l  Downloading https://files.pythonhosted.org/packages/d4/e2/df3543e8ffdab68f5acc73f613de9c2b155ac47f162e725dcac87c521c11/tokenizers-0.10.3-cp37-cp37m-manylinux_2_5_x86_64.manylinux1_x86_64.manylinux_2_12_x86_64.manylinux2010_x86_64.whl (3.3MB)\n",
            "\u001b[K     |████████████████████████████████| 3.3MB 44.1MB/s \n",
            "\u001b[?25hCollecting sacremoses\n",
            "\u001b[?25l  Downloading https://files.pythonhosted.org/packages/75/ee/67241dc87f266093c533a2d4d3d69438e57d7a90abb216fa076e7d475d4a/sacremoses-0.0.45-py3-none-any.whl (895kB)\n",
            "\u001b[K     |████████████████████████████████| 901kB 45.6MB/s \n",
            "\u001b[?25hRequirement already satisfied: tqdm>=4.27 in /usr/local/lib/python3.7/dist-packages (from transformers) (4.41.1)\n",
            "Collecting huggingface-hub==0.0.12\n",
            "  Downloading https://files.pythonhosted.org/packages/2f/ee/97e253668fda9b17e968b3f97b2f8e53aa0127e8807d24a547687423fe0b/huggingface_hub-0.0.12-py3-none-any.whl\n",
            "Requirement already satisfied: filelock in /usr/local/lib/python3.7/dist-packages (from transformers) (3.0.12)\n",
            "Requirement already satisfied: numpy>=1.17 in /usr/local/lib/python3.7/dist-packages (from transformers) (1.19.5)\n",
            "Requirement already satisfied: typing-extensions>=3.6.4; python_version < \"3.8\" in /usr/local/lib/python3.7/dist-packages (from importlib-metadata; python_version < \"3.8\"->transformers) (3.7.4.3)\n",
            "Requirement already satisfied: zipp>=0.5 in /usr/local/lib/python3.7/dist-packages (from importlib-metadata; python_version < \"3.8\"->transformers) (3.4.1)\n",
            "Requirement already satisfied: certifi>=2017.4.17 in /usr/local/lib/python3.7/dist-packages (from requests->transformers) (2021.5.30)\n",
            "Requirement already satisfied: idna<3,>=2.5 in /usr/local/lib/python3.7/dist-packages (from requests->transformers) (2.10)\n",
            "Requirement already satisfied: chardet<4,>=3.0.2 in /usr/local/lib/python3.7/dist-packages (from requests->transformers) (3.0.4)\n",
            "Requirement already satisfied: urllib3!=1.25.0,!=1.25.1,<1.26,>=1.21.1 in /usr/local/lib/python3.7/dist-packages (from requests->transformers) (1.24.3)\n",
            "Requirement already satisfied: pyparsing>=2.0.2 in /usr/local/lib/python3.7/dist-packages (from packaging->transformers) (2.4.7)\n",
            "Requirement already satisfied: six in /usr/local/lib/python3.7/dist-packages (from sacremoses->transformers) (1.15.0)\n",
            "Requirement already satisfied: click in /usr/local/lib/python3.7/dist-packages (from sacremoses->transformers) (7.1.2)\n",
            "Requirement already satisfied: joblib in /usr/local/lib/python3.7/dist-packages (from sacremoses->transformers) (1.0.1)\n",
            "Installing collected packages: tokenizers, sacremoses, huggingface-hub, transformers\n",
            "Successfully installed huggingface-hub-0.0.12 sacremoses-0.0.45 tokenizers-0.10.3 transformers-4.8.2\n",
            "Collecting psycopg2-binary\n",
            "\u001b[?25l  Downloading https://files.pythonhosted.org/packages/5b/62/5f8eae172230141a53305150637fbdda7a535618d5dfa976dc013396837f/psycopg2_binary-2.9.1-cp37-cp37m-manylinux_2_17_x86_64.manylinux2014_x86_64.whl (3.4MB)\n",
            "\u001b[K     |████████████████████████████████| 3.4MB 28.7MB/s \n",
            "\u001b[?25hInstalling collected packages: psycopg2-binary\n",
            "Successfully installed psycopg2-binary-2.9.1\n"
          ],
          "name": "stdout"
        }
      ]
    },
    {
      "cell_type": "code",
      "metadata": {
        "id": "sorGmKtE1HCL"
      },
      "source": [
        "import os\n",
        "\n",
        "import pandas as pd\n",
        "import torch\n",
        "from torch.utils.data import TensorDataset, DataLoader, RandomSampler\n",
        "from transformers import BertTokenizer, BertForSequenceClassification, AdamW\n",
        "from transformers import get_linear_schedule_with_warmup\n",
        "from tensorflow.keras.preprocessing.sequence import pad_sequences\n",
        "import psycopg2"
      ],
      "execution_count": null,
      "outputs": []
    },
    {
      "cell_type": "code",
      "metadata": {
        "id": "e-gBxsCcL-KI"
      },
      "source": [
        "def get_df(db_url) -> pd.DataFrame:\n",
        "    conn = psycopg2.connect(db_url)\n",
        "    curs = conn.cursor()\n",
        "    curs.execute(\"SELECT * FROM training;\")\n",
        "    cols = [k[0] for k in curs.description]\n",
        "    rows = curs.fetchall()\n",
        "    df = pd.DataFrame(rows, columns=cols)\n",
        "    curs.close()\n",
        "    conn.close()\n",
        "    return df"
      ],
      "execution_count": null,
      "outputs": []
    },
    {
      "cell_type": "code",
      "metadata": {
        "colab": {
          "base_uri": "https://localhost:8080/",
          "height": 419
        },
        "id": "eG6SknMZMK-P",
        "outputId": "a157a5f1-ed31-46c3-9719-0c33308af531"
      },
      "source": [
        "df = get_df(db_url)\n",
        "df"
      ],
      "execution_count": null,
      "outputs": [
        {
          "output_type": "execute_result",
          "data": {
            "text/html": [
              "<div>\n",
              "<style scoped>\n",
              "    .dataframe tbody tr th:only-of-type {\n",
              "        vertical-align: middle;\n",
              "    }\n",
              "\n",
              "    .dataframe tbody tr th {\n",
              "        vertical-align: top;\n",
              "    }\n",
              "\n",
              "    .dataframe thead th {\n",
              "        text-align: right;\n",
              "    }\n",
              "</style>\n",
              "<table border=\"1\" class=\"dataframe\">\n",
              "  <thead>\n",
              "    <tr style=\"text-align: right;\">\n",
              "      <th></th>\n",
              "      <th>id</th>\n",
              "      <th>tweets</th>\n",
              "      <th>labels</th>\n",
              "    </tr>\n",
              "  </thead>\n",
              "  <tbody>\n",
              "    <tr>\n",
              "      <th>0</th>\n",
              "      <td>6</td>\n",
              "      <td>A New Mexico State Police officer killed two p...</td>\n",
              "      <td>5</td>\n",
              "    </tr>\n",
              "    <tr>\n",
              "      <th>1</th>\n",
              "      <td>7</td>\n",
              "      <td>I found some police badge stickers at work and...</td>\n",
              "      <td>0</td>\n",
              "    </tr>\n",
              "    <tr>\n",
              "      <th>2</th>\n",
              "      <td>8</td>\n",
              "      <td>According to media reports, police said they a...</td>\n",
              "      <td>1</td>\n",
              "    </tr>\n",
              "    <tr>\n",
              "      <th>3</th>\n",
              "      <td>9</td>\n",
              "      <td>The male who has the knife is now running nort...</td>\n",
              "      <td>0</td>\n",
              "    </tr>\n",
              "    <tr>\n",
              "      <th>4</th>\n",
              "      <td>10</td>\n",
              "      <td>Changing the assignments of already existing c...</td>\n",
              "      <td>0</td>\n",
              "    </tr>\n",
              "    <tr>\n",
              "      <th>...</th>\n",
              "      <td>...</td>\n",
              "      <td>...</td>\n",
              "      <td>...</td>\n",
              "    </tr>\n",
              "    <tr>\n",
              "      <th>1223</th>\n",
              "      <td>1229</td>\n",
              "      <td>Officers Beau Tribolet and Curtis Walker tried...</td>\n",
              "      <td>5</td>\n",
              "    </tr>\n",
              "    <tr>\n",
              "      <th>1224</th>\n",
              "      <td>1230</td>\n",
              "      <td>fuck the police (and abolish them)</td>\n",
              "      <td>0</td>\n",
              "    </tr>\n",
              "    <tr>\n",
              "      <th>1225</th>\n",
              "      <td>1231</td>\n",
              "      <td>Two Humvees laden with explosives were detonat...</td>\n",
              "      <td>0</td>\n",
              "    </tr>\n",
              "    <tr>\n",
              "      <th>1226</th>\n",
              "      <td>1232</td>\n",
              "      <td>Footage shows a protester speaking to other pr...</td>\n",
              "      <td>4</td>\n",
              "    </tr>\n",
              "    <tr>\n",
              "      <th>1227</th>\n",
              "      <td>1233</td>\n",
              "      <td>A rookie officer with less than a month’s expe...</td>\n",
              "      <td>5</td>\n",
              "    </tr>\n",
              "  </tbody>\n",
              "</table>\n",
              "<p>1228 rows × 3 columns</p>\n",
              "</div>"
            ],
            "text/plain": [
              "        id                                             tweets  labels\n",
              "0        6  A New Mexico State Police officer killed two p...       5\n",
              "1        7  I found some police badge stickers at work and...       0\n",
              "2        8  According to media reports, police said they a...       1\n",
              "3        9  The male who has the knife is now running nort...       0\n",
              "4       10  Changing the assignments of already existing c...       0\n",
              "...    ...                                                ...     ...\n",
              "1223  1229  Officers Beau Tribolet and Curtis Walker tried...       5\n",
              "1224  1230                 fuck the police (and abolish them)       0\n",
              "1225  1231  Two Humvees laden with explosives were detonat...       0\n",
              "1226  1232  Footage shows a protester speaking to other pr...       4\n",
              "1227  1233  A rookie officer with less than a month’s expe...       5\n",
              "\n",
              "[1228 rows x 3 columns]"
            ]
          },
          "metadata": {
            "tags": []
          },
          "execution_count": 3
        }
      ]
    },
    {
      "cell_type": "code",
      "metadata": {
        "id": "2Ry2hhiwNf4E"
      },
      "source": [
        "df.to_csv('training.csv')"
      ],
      "execution_count": null,
      "outputs": []
    },
    {
      "cell_type": "code",
      "metadata": {
        "id": "6xHUfJiX1FNo"
      },
      "source": [
        "def bert_trainer(path: str, output_dir: str, epochs: int):\n",
        "    max_len = 280\n",
        "    if torch.cuda.is_available():\n",
        "        print(\"CUDA Active\")\n",
        "        device = torch.device(\"cuda\")\n",
        "    else:\n",
        "        print(\"CPU Active\")\n",
        "        device = torch.device(\"cpu\")\n",
        "    df = pd.read_csv(path)\n",
        "    sentences = df[\"tweets\"].values\n",
        "    labels = df[\"labels\"].values\n",
        "    tokenizer = BertTokenizer.from_pretrained(\n",
        "        'bert-base-uncased',\n",
        "        do_lower_case=True,\n",
        "    )\n",
        "    inputs = [\n",
        "        tokenizer.encode(sent, add_special_tokens=True) for sent in sentences\n",
        "    ]\n",
        "    inputs_ids = pad_sequences(\n",
        "        inputs,\n",
        "        maxlen=max_len,\n",
        "        dtype=\"long\",\n",
        "        value=0,\n",
        "        truncating=\"post\",\n",
        "        padding=\"post\",\n",
        "    )\n",
        "    attention_masks = [\n",
        "        [int(token_id != 0) for token_id in sent] for sent in inputs_ids\n",
        "    ]\n",
        "    train_inputs = torch.tensor(inputs_ids)\n",
        "    train_labels = torch.tensor(labels)\n",
        "    train_masks = torch.tensor(attention_masks)\n",
        "    batch_size = 32\n",
        "    train_data = TensorDataset(train_inputs, train_masks, train_labels)\n",
        "    train_sampler = RandomSampler(train_data)\n",
        "    train_dataloader = DataLoader(\n",
        "        train_data,\n",
        "        sampler=train_sampler,\n",
        "        batch_size=batch_size,\n",
        "    )\n",
        "    model = BertForSequenceClassification.from_pretrained(\n",
        "        'bert-base-uncased',\n",
        "        num_labels=12,\n",
        "        output_attentions=False,\n",
        "        output_hidden_states=False,\n",
        "    )\n",
        "    if torch.cuda.is_available():\n",
        "        model.cuda()\n",
        "    optimizer = AdamW(model.parameters(), lr=2e-5, eps=1e-8)\n",
        "    total_steps = len(train_dataloader) * epochs\n",
        "    scheduler = get_linear_schedule_with_warmup(\n",
        "        optimizer,\n",
        "        num_warmup_steps=0,\n",
        "        num_training_steps=total_steps,\n",
        "    )\n",
        "    loss_values = []\n",
        "    print('\\nTraining...')\n",
        "    for epoch_i in range(1, epochs + 1):\n",
        "        print(f\"\\nEpoch: {epoch_i}\")\n",
        "        total_loss = 0\n",
        "        model.train()\n",
        "        for step, batch in enumerate(train_dataloader):\n",
        "            b_input_ids = batch[0].to(device)\n",
        "            b_input_mask = batch[1].to(device)\n",
        "            b_labels = batch[2].to(device)\n",
        "            model.zero_grad()\n",
        "            outputs = model(\n",
        "                b_input_ids,\n",
        "                token_type_ids=None,\n",
        "                attention_mask=b_input_mask,\n",
        "                labels=b_labels,\n",
        "            )\n",
        "            loss = outputs[0]\n",
        "            total_loss += loss.item()\n",
        "            loss.backward()\n",
        "            torch.nn.utils.clip_grad_norm_(model.parameters(), 1.0)\n",
        "            optimizer.step()\n",
        "            scheduler.step()\n",
        "\n",
        "        avg_train_loss = total_loss / len(train_dataloader)\n",
        "        loss_values.append(avg_train_loss)\n",
        "        print(f\"Average Loss: {avg_train_loss}\")\n",
        "\n",
        "    if not os.path.exists(output_dir):\n",
        "        os.makedirs(output_dir)\n",
        "    print(f\"\\nSaving model to {output_dir}\")\n",
        "    model_to_save = model.module if hasattr(model, 'module') else model\n",
        "    model_to_save.save_pretrained(output_dir)\n",
        "    tokenizer.save_pretrained(output_dir)\n",
        "    print(\"Finished!\")"
      ],
      "execution_count": null,
      "outputs": []
    },
    {
      "cell_type": "code",
      "metadata": {
        "id": "I2vsAdEsNQki",
        "colab": {
          "base_uri": "https://localhost:8080/",
          "height": 1000,
          "referenced_widgets": [
            "ac2d012e60da48308bd16635af031c57",
            "e3caa6e5e49643b698b4845d5aa0314a",
            "48f9967be1964dd5b433e1ec5e4cf9e8",
            "384d10a5094c4e1cbbfdda4f925613f9",
            "7048a8d49169432eb5a344d83d9f3b41",
            "5d7dc05dca094e00b97742b340c17531",
            "54292f0dd57d4e97aaaa3766942fdd70",
            "d617484fa84044279f7d56528ae4b58e",
            "8dcc3c2bbafe46b6a1e97f4339cab795",
            "d2cd500b5bd440e9ac854a93dda33c8c",
            "a0c409dd48e44b06ac4534f84a1b884b",
            "2aff8e98feb549e0ab40633c4ae1b6cd",
            "62aa9f83d9494c419c1c25ce3c15e999",
            "447d6a5888e344a9b205dbb3989b7e1b",
            "0992c41d063d46a9a154393e5c320ab7",
            "f3269125cb13444a9c32a45770328aaf",
            "6a2333422e51405ea1aa85e2efca4da4",
            "5ee4e59cb87940b4be8f43e78f5a5e4f",
            "063e54ca828e4f8991b10b7be793733e",
            "eb32f1b28f5341b3b8560905f0f26919",
            "95e6afa7fb604ba49873054f5b44a172",
            "f8903040822047059d2fa7890ec44370",
            "ec7545f32a6e4a2d97391e09402afa17",
            "31de7bb1a417442986243ee2fd93192e",
            "775126a6cf964cada5c50a6c5a90d237",
            "4cba010eea7644c3ac456035b63904ad",
            "3229e024f1ff47d0a88f33d0b5e8868c",
            "714ceebf70974040a15af3258f557753",
            "84b4d37d236c46a8a54a0fca5680ff93",
            "b043e7318a7c440aa2d548c0ed39b69e",
            "40fd32ae0fdb4ace875566a488eef9c2",
            "0f9a17f89bb24233a7f562afae0079ae",
            "847cfb648abf4466ba53fb53715854a5",
            "9efcb40f7a3f4206a8f908d53d31d0b4",
            "e7a4fcd62c544ba4b6876976218da9e7",
            "71cbe00a3b8c43a3a59646d6fde4e1d6",
            "42a37d35424a44178935a64c4d9070d3",
            "78d163e3605941b192fd22350fab2ade",
            "504c239023e14fa290eee405cb52bc17",
            "8430524fd3314013936f3180348380f1"
          ]
        },
        "outputId": "b35635fc-ed82-4133-da66-5b631c73e998"
      },
      "source": [
        "bert_trainer(\"training.csv\", 'saved_model', epochs=50)"
      ],
      "execution_count": null,
      "outputs": [
        {
          "output_type": "stream",
          "text": [
            "CUDA Active\n"
          ],
          "name": "stdout"
        },
        {
          "output_type": "display_data",
          "data": {
            "application/vnd.jupyter.widget-view+json": {
              "model_id": "ac2d012e60da48308bd16635af031c57",
              "version_minor": 0,
              "version_major": 2
            },
            "text/plain": [
              "HBox(children=(FloatProgress(value=0.0, description='Downloading', max=231508.0, style=ProgressStyle(descripti…"
            ]
          },
          "metadata": {
            "tags": []
          }
        },
        {
          "output_type": "stream",
          "text": [
            "\n"
          ],
          "name": "stdout"
        },
        {
          "output_type": "display_data",
          "data": {
            "application/vnd.jupyter.widget-view+json": {
              "model_id": "8dcc3c2bbafe46b6a1e97f4339cab795",
              "version_minor": 0,
              "version_major": 2
            },
            "text/plain": [
              "HBox(children=(FloatProgress(value=0.0, description='Downloading', max=28.0, style=ProgressStyle(description_w…"
            ]
          },
          "metadata": {
            "tags": []
          }
        },
        {
          "output_type": "stream",
          "text": [
            "\n"
          ],
          "name": "stdout"
        },
        {
          "output_type": "display_data",
          "data": {
            "application/vnd.jupyter.widget-view+json": {
              "model_id": "6a2333422e51405ea1aa85e2efca4da4",
              "version_minor": 0,
              "version_major": 2
            },
            "text/plain": [
              "HBox(children=(FloatProgress(value=0.0, description='Downloading', max=466062.0, style=ProgressStyle(descripti…"
            ]
          },
          "metadata": {
            "tags": []
          }
        },
        {
          "output_type": "stream",
          "text": [
            "\n"
          ],
          "name": "stdout"
        },
        {
          "output_type": "display_data",
          "data": {
            "application/vnd.jupyter.widget-view+json": {
              "model_id": "775126a6cf964cada5c50a6c5a90d237",
              "version_minor": 0,
              "version_major": 2
            },
            "text/plain": [
              "HBox(children=(FloatProgress(value=0.0, description='Downloading', max=570.0, style=ProgressStyle(description_…"
            ]
          },
          "metadata": {
            "tags": []
          }
        },
        {
          "output_type": "stream",
          "text": [
            "\n"
          ],
          "name": "stdout"
        },
        {
          "output_type": "display_data",
          "data": {
            "application/vnd.jupyter.widget-view+json": {
              "model_id": "847cfb648abf4466ba53fb53715854a5",
              "version_minor": 0,
              "version_major": 2
            },
            "text/plain": [
              "HBox(children=(FloatProgress(value=0.0, description='Downloading', max=440473133.0, style=ProgressStyle(descri…"
            ]
          },
          "metadata": {
            "tags": []
          }
        },
        {
          "output_type": "stream",
          "text": [
            "\n"
          ],
          "name": "stdout"
        },
        {
          "output_type": "stream",
          "text": [
            "Some weights of the model checkpoint at bert-base-uncased were not used when initializing BertForSequenceClassification: ['cls.predictions.transform.dense.bias', 'cls.predictions.bias', 'cls.seq_relationship.weight', 'cls.predictions.transform.dense.weight', 'cls.predictions.transform.LayerNorm.weight', 'cls.seq_relationship.bias', 'cls.predictions.transform.LayerNorm.bias', 'cls.predictions.decoder.weight']\n",
            "- This IS expected if you are initializing BertForSequenceClassification from the checkpoint of a model trained on another task or with another architecture (e.g. initializing a BertForSequenceClassification model from a BertForPreTraining model).\n",
            "- This IS NOT expected if you are initializing BertForSequenceClassification from the checkpoint of a model that you expect to be exactly identical (initializing a BertForSequenceClassification model from a BertForSequenceClassification model).\n",
            "Some weights of BertForSequenceClassification were not initialized from the model checkpoint at bert-base-uncased and are newly initialized: ['classifier.weight', 'classifier.bias']\n",
            "You should probably TRAIN this model on a down-stream task to be able to use it for predictions and inference.\n"
          ],
          "name": "stderr"
        },
        {
          "output_type": "stream",
          "text": [
            "\n",
            "Training...\n",
            "\n",
            "Epoch: 1\n",
            "Average Loss: 1.7270801311884172\n",
            "\n",
            "Epoch: 2\n",
            "Average Loss: 1.0277408682383025\n",
            "\n",
            "Epoch: 3\n",
            "Average Loss: 0.8157347119771517\n",
            "\n",
            "Epoch: 4\n",
            "Average Loss: 0.6354136497546465\n",
            "\n",
            "Epoch: 5\n",
            "Average Loss: 0.4619215524349457\n",
            "\n",
            "Epoch: 6\n",
            "Average Loss: 0.3125769988848613\n",
            "\n",
            "Epoch: 7\n",
            "Average Loss: 0.22088987705035087\n",
            "\n",
            "Epoch: 8\n",
            "Average Loss: 0.1508576955932837\n",
            "\n",
            "Epoch: 9\n",
            "Average Loss: 0.0907790563427485\n",
            "\n",
            "Epoch: 10\n",
            "Average Loss: 0.06024135739948505\n",
            "\n",
            "Epoch: 11\n",
            "Average Loss: 0.03337203326802223\n",
            "\n",
            "Epoch: 12\n",
            "Average Loss: 0.020315636510554798\n",
            "\n",
            "Epoch: 13\n",
            "Average Loss: 0.013276399017717594\n",
            "\n",
            "Epoch: 14\n",
            "Average Loss: 0.010350581407785798\n",
            "\n",
            "Epoch: 15\n",
            "Average Loss: 0.006738486138578408\n",
            "\n",
            "Epoch: 16\n",
            "Average Loss: 0.005453948689720187\n",
            "\n",
            "Epoch: 17\n",
            "Average Loss: 0.004561087167344223\n",
            "\n",
            "Epoch: 18\n",
            "Average Loss: 0.004553920261036509\n",
            "\n",
            "Epoch: 19\n",
            "Average Loss: 0.003694614914890665\n",
            "\n",
            "Epoch: 20\n",
            "Average Loss: 0.003202843157431254\n",
            "\n",
            "Epoch: 21\n",
            "Average Loss: 0.002895827381274639\n",
            "\n",
            "Epoch: 22\n",
            "Average Loss: 0.002691035702203711\n",
            "\n",
            "Epoch: 23\n",
            "Average Loss: 0.0025031590052187825\n",
            "\n",
            "Epoch: 24\n",
            "Average Loss: 0.002338717575185001\n",
            "\n",
            "Epoch: 25\n",
            "Average Loss: 0.002206493712340792\n",
            "\n",
            "Epoch: 26\n",
            "Average Loss: 0.002071019659081522\n",
            "\n",
            "Epoch: 27\n",
            "Average Loss: 0.0019522339004115798\n",
            "\n",
            "Epoch: 28\n",
            "Average Loss: 0.0021518075104373004\n",
            "\n",
            "Epoch: 29\n",
            "Average Loss: 0.001799916432131655\n",
            "\n",
            "Epoch: 30\n",
            "Average Loss: 0.0017132501652201589\n",
            "\n",
            "Epoch: 31\n",
            "Average Loss: 0.0016295010259804817\n",
            "\n",
            "Epoch: 32\n",
            "Average Loss: 0.0015625819826546388\n",
            "\n",
            "Epoch: 33\n",
            "Average Loss: 0.0014819052497235437\n",
            "\n",
            "Epoch: 34\n",
            "Average Loss: 0.001466205677925012\n",
            "\n",
            "Epoch: 35\n",
            "Average Loss: 0.0013736261619040025\n",
            "\n",
            "Epoch: 36\n",
            "Average Loss: 0.001392903970554471\n",
            "\n",
            "Epoch: 37\n",
            "Average Loss: 0.0013352007611105458\n",
            "\n",
            "Epoch: 38\n",
            "Average Loss: 0.0012896424666859019\n",
            "\n",
            "Epoch: 39\n",
            "Average Loss: 0.0022940448431584696\n",
            "\n",
            "Epoch: 40\n",
            "Average Loss: 0.0012518173928420322\n",
            "\n",
            "Epoch: 41\n",
            "Average Loss: 0.0012101430404119384\n",
            "\n",
            "Epoch: 42\n",
            "Average Loss: 0.00117568171565206\n",
            "\n",
            "Epoch: 43\n",
            "Average Loss: 0.0011723648311976248\n",
            "\n",
            "Epoch: 44\n",
            "Average Loss: 0.001143353604651892\n",
            "\n",
            "Epoch: 45\n",
            "Average Loss: 0.001205265133952101\n",
            "\n",
            "Epoch: 46\n",
            "Average Loss: 0.0011297099647494273\n",
            "\n",
            "Epoch: 47\n",
            "Average Loss: 0.0011445666284252626\n",
            "\n",
            "Epoch: 48\n",
            "Average Loss: 0.0011187567933796882\n",
            "\n",
            "Epoch: 49\n",
            "Average Loss: 0.001108918061408286\n",
            "\n",
            "Epoch: 50\n",
            "Average Loss: 0.0011202333441290718\n",
            "\n",
            "Saving model to saved_model\n",
            "Finished!\n"
          ],
          "name": "stdout"
        }
      ]
    },
    {
      "cell_type": "code",
      "metadata": {
        "id": "dxZeb6pIILAi"
      },
      "source": [
        "import numpy as np\n",
        "import torch\n",
        "from transformers import BertTokenizer, BertForSequenceClassification\n",
        "\n",
        "\n",
        "class FrankenBert:\n",
        "    \"\"\"\n",
        "    Implements BertForSequenceClassification and BertTokenizer\n",
        "    for binary classification from a saved model\n",
        "    \"\"\"\n",
        "\n",
        "    def __init__(self, path: str):\n",
        "        \"\"\"\n",
        "        If there's a GPU available, tell PyTorch to use the GPU.\n",
        "        Loads model and tokenizer from saved model directory (path)\n",
        "        \"\"\"\n",
        "        if torch.cuda.is_available():\n",
        "            self.device = torch.device('cuda')\n",
        "        else:\n",
        "            self.device = torch.device('cpu')\n",
        "        self.model = BertForSequenceClassification.from_pretrained(path)\n",
        "        self.tokenizer = BertTokenizer.from_pretrained(path)\n",
        "        self.model.to(self.device)\n",
        "\n",
        "    def predict(self, text: str):\n",
        "        \"\"\"\n",
        "        Makes a binary classification prediction based on saved model\n",
        "        \"\"\"\n",
        "        inputs = self.tokenizer(\n",
        "            text,\n",
        "            padding=True,\n",
        "            truncation=True,\n",
        "            max_length=280,\n",
        "            return_tensors='pt',\n",
        "        ).to(self.device)\n",
        "        output = self.model(**inputs)\n",
        "        prediction = output[0].softmax(1)\n",
        "        tensors = prediction.detach().cpu().numpy()\n",
        "        result = np.argmax(tensors)\n",
        "        confidence = tensors[0][result]\n",
        "        return f\"Rank: {result}, {100 * confidence:.2f}%\""
      ],
      "execution_count": null,
      "outputs": []
    },
    {
      "cell_type": "code",
      "metadata": {
        "id": "razu_pYJN2f0"
      },
      "source": [
        "model = FrankenBert('saved_model')"
      ],
      "execution_count": null,
      "outputs": []
    },
    {
      "cell_type": "code",
      "metadata": {
        "colab": {
          "base_uri": "https://localhost:8080/",
          "height": 35
        },
        "id": "e4hWOfBFYTtK",
        "outputId": "39123906-8a4e-41ae-f2ad-f10e840084c2"
      },
      "source": [
        "model.predict(\"Mickey Mouse is in the house\")"
      ],
      "execution_count": null,
      "outputs": [
        {
          "output_type": "execute_result",
          "data": {
            "application/vnd.google.colaboratory.intrinsic+json": {
              "type": "string"
            },
            "text/plain": [
              "'Rank: 0, 98.96%'"
            ]
          },
          "metadata": {
            "tags": []
          },
          "execution_count": 20
        }
      ]
    },
    {
      "cell_type": "code",
      "metadata": {
        "colab": {
          "base_uri": "https://localhost:8080/",
          "height": 35
        },
        "id": "gyGsix-1XLSM",
        "outputId": "0b344e1d-df85-4885-f523-a2ae9a7e78d4"
      },
      "source": [
        "model.predict(\"Cops gave me a speeding ticket for walking too fast\")"
      ],
      "execution_count": null,
      "outputs": [
        {
          "output_type": "execute_result",
          "data": {
            "application/vnd.google.colaboratory.intrinsic+json": {
              "type": "string"
            },
            "text/plain": [
              "'Rank: 0, 99.71%'"
            ]
          },
          "metadata": {
            "tags": []
          },
          "execution_count": 12
        }
      ]
    },
    {
      "cell_type": "code",
      "metadata": {
        "colab": {
          "base_uri": "https://localhost:8080/",
          "height": 35
        },
        "id": "yaI95U10lINo",
        "outputId": "1c439fb1-43a3-4b06-c3ff-b19eb734ed33"
      },
      "source": [
        "model.predict(\"The cops showed up but didn't do anything\")"
      ],
      "execution_count": null,
      "outputs": [
        {
          "output_type": "execute_result",
          "data": {
            "application/vnd.google.colaboratory.intrinsic+json": {
              "type": "string"
            },
            "text/plain": [
              "'Rank: 1, 98.62%'"
            ]
          },
          "metadata": {
            "tags": []
          },
          "execution_count": 36
        }
      ]
    },
    {
      "cell_type": "code",
      "metadata": {
        "colab": {
          "base_uri": "https://localhost:8080/",
          "height": 35
        },
        "id": "OBlDKpw6Xih4",
        "outputId": "80cd511d-ad22-4487-bb89-da96656b2823"
      },
      "source": [
        "model.predict(\"Cops held that guy with a neck hold\")"
      ],
      "execution_count": null,
      "outputs": [
        {
          "output_type": "execute_result",
          "data": {
            "application/vnd.google.colaboratory.intrinsic+json": {
              "type": "string"
            },
            "text/plain": [
              "'Rank: 2, 59.83%'"
            ]
          },
          "metadata": {
            "tags": []
          },
          "execution_count": 18
        }
      ]
    },
    {
      "cell_type": "code",
      "metadata": {
        "colab": {
          "base_uri": "https://localhost:8080/",
          "height": 35
        },
        "id": "zZXsY6lNXmYV",
        "outputId": "0d936fef-b430-4649-8f9b-e7c925c40238"
      },
      "source": [
        "model.predict(\"Cops punched me and pushed me to the ground\")"
      ],
      "execution_count": null,
      "outputs": [
        {
          "output_type": "execute_result",
          "data": {
            "application/vnd.google.colaboratory.intrinsic+json": {
              "type": "string"
            },
            "text/plain": [
              "'Rank: 2, 98.90%'"
            ]
          },
          "metadata": {
            "tags": []
          },
          "execution_count": 19
        }
      ]
    },
    {
      "cell_type": "code",
      "metadata": {
        "colab": {
          "base_uri": "https://localhost:8080/",
          "height": 35
        },
        "id": "21QWoykgXbys",
        "outputId": "86d446a8-8a5f-4492-e2a6-84acc3d2fa14"
      },
      "source": [
        "model.predict(\"Cops hit her with a baton\")"
      ],
      "execution_count": null,
      "outputs": [
        {
          "output_type": "execute_result",
          "data": {
            "application/vnd.google.colaboratory.intrinsic+json": {
              "type": "string"
            },
            "text/plain": [
              "'Rank: 3, 92.43%'"
            ]
          },
          "metadata": {
            "tags": []
          },
          "execution_count": 16
        }
      ]
    },
    {
      "cell_type": "code",
      "metadata": {
        "colab": {
          "base_uri": "https://localhost:8080/",
          "height": 35
        },
        "id": "9beof_qAUEok",
        "outputId": "49db64cd-c30f-4a39-e740-597688ce528c"
      },
      "source": [
        "model.predict(\"Cops sprayed my mom with pepper spray\")"
      ],
      "execution_count": null,
      "outputs": [
        {
          "output_type": "execute_result",
          "data": {
            "application/vnd.google.colaboratory.intrinsic+json": {
              "type": "string"
            },
            "text/plain": [
              "'Rank: 4, 99.70%'"
            ]
          },
          "metadata": {
            "tags": []
          },
          "execution_count": 10
        }
      ]
    },
    {
      "cell_type": "code",
      "metadata": {
        "colab": {
          "base_uri": "https://localhost:8080/",
          "height": 35
        },
        "id": "F1-Z2K-wXS54",
        "outputId": "64cbd963-e905-4cfe-ad82-91af8a4682cf"
      },
      "source": [
        "model.predict(\"Cops shot rubber bullets at the crowd\")"
      ],
      "execution_count": null,
      "outputs": [
        {
          "output_type": "execute_result",
          "data": {
            "application/vnd.google.colaboratory.intrinsic+json": {
              "type": "string"
            },
            "text/plain": [
              "'Rank: 4, 94.11%'"
            ]
          },
          "metadata": {
            "tags": []
          },
          "execution_count": 14
        }
      ]
    },
    {
      "cell_type": "code",
      "metadata": {
        "colab": {
          "base_uri": "https://localhost:8080/",
          "height": 35
        },
        "id": "vkqvWG8FYYtr",
        "outputId": "9125cede-93d9-468e-eebb-be7e9138d9e4"
      },
      "source": [
        "model.predict(\"Police used tear gas on a pedestrian for no reason\")"
      ],
      "execution_count": null,
      "outputs": [
        {
          "output_type": "execute_result",
          "data": {
            "application/vnd.google.colaboratory.intrinsic+json": {
              "type": "string"
            },
            "text/plain": [
              "'Rank: 4, 99.66%'"
            ]
          },
          "metadata": {
            "tags": []
          },
          "execution_count": 35
        }
      ]
    },
    {
      "cell_type": "code",
      "metadata": {
        "colab": {
          "base_uri": "https://localhost:8080/",
          "height": 35
        },
        "id": "nuhLHryZXQfO",
        "outputId": "7a9239ac-99d9-40ae-d9f3-4b7e178bdf87"
      },
      "source": [
        "model.predict(\"Cops killed that women\")"
      ],
      "execution_count": null,
      "outputs": [
        {
          "output_type": "execute_result",
          "data": {
            "application/vnd.google.colaboratory.intrinsic+json": {
              "type": "string"
            },
            "text/plain": [
              "'Rank: 5, 99.48%'"
            ]
          },
          "metadata": {
            "tags": []
          },
          "execution_count": 13
        }
      ]
    },
    {
      "cell_type": "code",
      "metadata": {
        "colab": {
          "base_uri": "https://localhost:8080/",
          "height": 35
        },
        "id": "3efg3pbha3H7",
        "outputId": "ff48678e-13f4-4f92-e85b-ea68820ef59c"
      },
      "source": [
        "model.predict(\"Yesterday I saw a policeman hit a poor person behind my house. I wonder whats going on\")"
      ],
      "execution_count": null,
      "outputs": [
        {
          "output_type": "execute_result",
          "data": {
            "application/vnd.google.colaboratory.intrinsic+json": {
              "type": "string"
            },
            "text/plain": [
              "'Rank: 1, 99.83%'"
            ]
          },
          "metadata": {
            "tags": []
          },
          "execution_count": 39
        }
      ]
    },
    {
      "cell_type": "code",
      "metadata": {
        "colab": {
          "base_uri": "https://localhost:8080/",
          "height": 35
        },
        "id": "ht94-N2Xxi7d",
        "outputId": "a0f57964-ea6b-4aea-c800-9123c5fc1e3d"
      },
      "source": [
        "model.predict(\"Man ran up to me and pepper sprayed me. I've called the cops, but they have not gotten themselves involved yet.\")"
      ],
      "execution_count": null,
      "outputs": [
        {
          "output_type": "execute_result",
          "data": {
            "application/vnd.google.colaboratory.intrinsic+json": {
              "type": "string"
            },
            "text/plain": [
              "'Rank: 4, 72.70%'"
            ]
          },
          "metadata": {
            "tags": []
          },
          "execution_count": 38
        }
      ]
    },
    {
      "cell_type": "code",
      "metadata": {
        "id": "vtJKWPxuxu98"
      },
      "source": [
        ""
      ],
      "execution_count": null,
      "outputs": []
    }
  ]
}