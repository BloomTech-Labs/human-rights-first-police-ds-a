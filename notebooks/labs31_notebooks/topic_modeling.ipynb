{
 "cells": [
  {
   "cell_type": "markdown",
   "metadata": {},
   "source": [
    "# Topic modeling\n",
    "## Lab31 - HRF-Police\n",
    "\n",
    "Author: Micah Swain\n",
    "\n",
    "## Guiding Quesitons\n",
    "Can I cluster twitter topics to isolate police prutatility incidents on twitter?\n",
    "\n",
    "## Approach\n",
    "- apply NLP of the twitter data\n",
    "- Estimate topic model on the data\n",
    "- Create visualizations relating to the topics."
   ]
  },
  {
   "cell_type": "markdown",
   "metadata": {},
   "source": [
    "# Import Data"
   ]
  },
  {
   "cell_type": "code",
   "execution_count": 48,
   "metadata": {},
   "outputs": [],
   "source": [
    "import pandas as pd"
   ]
  },
  {
   "cell_type": "code",
   "execution_count": 49,
   "metadata": {},
   "outputs": [],
   "source": [
    "df = pd.read_csv(\"../static/combined_tweets.csv\")"
   ]
  },
  {
   "cell_type": "code",
   "execution_count": 50,
   "metadata": {},
   "outputs": [],
   "source": [
    "df.dropna(inplace=True)"
   ]
  },
  {
   "cell_type": "code",
   "execution_count": 51,
   "metadata": {},
   "outputs": [
    {
     "data": {
      "text/plain": [
       "(6539, 3)"
      ]
     },
     "execution_count": 51,
     "metadata": {},
     "output_type": "execute_result"
    }
   ],
   "source": [
    "df.shape"
   ]
  },
  {
   "cell_type": "code",
   "execution_count": 52,
   "metadata": {},
   "outputs": [
    {
     "data": {
      "text/html": [
       "<div>\n",
       "<style scoped>\n",
       "    .dataframe tbody tr th:only-of-type {\n",
       "        vertical-align: middle;\n",
       "    }\n",
       "\n",
       "    .dataframe tbody tr th {\n",
       "        vertical-align: top;\n",
       "    }\n",
       "\n",
       "    .dataframe thead th {\n",
       "        text-align: right;\n",
       "    }\n",
       "</style>\n",
       "<table border=\"1\" class=\"dataframe\">\n",
       "  <thead>\n",
       "    <tr style=\"text-align: right;\">\n",
       "      <th></th>\n",
       "      <th>ids</th>\n",
       "      <th>text</th>\n",
       "      <th>reddit</th>\n",
       "    </tr>\n",
       "  </thead>\n",
       "  <tbody>\n",
       "    <tr>\n",
       "      <th>0</th>\n",
       "      <td>1266136557871869952</td>\n",
       "      <td>Police in NYC made several arrests during a pr...</td>\n",
       "      <td>1</td>\n",
       "    </tr>\n",
       "    <tr>\n",
       "      <th>1</th>\n",
       "      <td>1266159669262893057</td>\n",
       "      <td>Calls for justice for George Floyd. Protesters...</td>\n",
       "      <td>1</td>\n",
       "    </tr>\n",
       "    <tr>\n",
       "      <th>2</th>\n",
       "      <td>1266555286678048770</td>\n",
       "      <td>NYPD just casually slamming a dude with a car ...</td>\n",
       "      <td>1</td>\n",
       "    </tr>\n",
       "    <tr>\n",
       "      <th>3</th>\n",
       "      <td>1266540710188195843</td>\n",
       "      <td>Update: Got her permission with a fuck yeah. T...</td>\n",
       "      <td>1</td>\n",
       "    </tr>\n",
       "    <tr>\n",
       "      <th>4</th>\n",
       "      <td>1266529475757510656</td>\n",
       "      <td>NYPD officer just called a female protester a ...</td>\n",
       "      <td>1</td>\n",
       "    </tr>\n",
       "  </tbody>\n",
       "</table>\n",
       "</div>"
      ],
      "text/plain": [
       "                   ids                                               text  \\\n",
       "0  1266136557871869952  Police in NYC made several arrests during a pr...   \n",
       "1  1266159669262893057  Calls for justice for George Floyd. Protesters...   \n",
       "2  1266555286678048770  NYPD just casually slamming a dude with a car ...   \n",
       "3  1266540710188195843  Update: Got her permission with a fuck yeah. T...   \n",
       "4  1266529475757510656  NYPD officer just called a female protester a ...   \n",
       "\n",
       "   reddit  \n",
       "0       1  \n",
       "1       1  \n",
       "2       1  \n",
       "3       1  \n",
       "4       1  "
      ]
     },
     "execution_count": 52,
     "metadata": {},
     "output_type": "execute_result"
    }
   ],
   "source": [
    "df.head()"
   ]
  },
  {
   "cell_type": "code",
   "execution_count": 53,
   "metadata": {},
   "outputs": [
    {
     "data": {
      "text/plain": [
       "'Police in NYC made several arrests during a protest in NYC.'"
      ]
     },
     "execution_count": 53,
     "metadata": {},
     "output_type": "execute_result"
    }
   ],
   "source": [
    "df['text'][0]"
   ]
  },
  {
   "cell_type": "markdown",
   "metadata": {},
   "source": [
    "# Apply NLP\n",
    "\n",
    "-To do later, figure out what unit of analysis works best(lemmas, adjs, keywords, nouns, spacy tokens, etc)"
   ]
  },
  {
   "cell_type": "code",
   "execution_count": 54,
   "metadata": {},
   "outputs": [],
   "source": [
    "import spacy\n",
    "\n",
    "nlp = spacy.load(\"en_core_web_sm\")"
   ]
  },
  {
   "cell_type": "code",
   "execution_count": 126,
   "metadata": {},
   "outputs": [],
   "source": [
    "# NOT USING\n",
    "\n",
    "def get_lemmas(text):\n",
    "    \n",
    "    stop_words = ['police', 'officer', 'cop']\n",
    "    \n",
    "    lemmas = []\n",
    "    \n",
    "    doc = nlp(text.lower())\n",
    "    \n",
    "    for token in doc:\n",
    "        conditions = (token.is_stop == False) and \\\n",
    "                    (token.is_punct == False) and \\\n",
    "                    (token.pos_ != 'PRON') and \\\n",
    "                    (not token.lemma_ in stop_words) and \\\n",
    "                    (token.prefix_ != \"@\") and \\\n",
    "                    (token.prefix != \" \")\n",
    "        if conditions:\n",
    "            lemmas.append(token.lemma_)\n",
    "    \n",
    "    return lemmas"
   ]
  },
  {
   "cell_type": "code",
   "execution_count": 99,
   "metadata": {},
   "outputs": [],
   "source": [
    "# NOT USING\n",
    "df['lemmas'] = df['text'].apply(tokenize)\n"
   ]
  },
  {
   "cell_type": "code",
   "execution_count": 125,
   "metadata": {},
   "outputs": [],
   "source": [
    "# spacy.load('en')\n",
    "# from spacy.lang.en import English\n",
    "parser = English()\n",
    "def tokenize(text):\n",
    "    lda_tokens = []\n",
    "    tokens = nlp(text)\n",
    "    for token in tokens:\n",
    "        if token.orth_.isspace():\n",
    "            continue\n",
    "        elif token.pos_ == 'PROPN':\n",
    "            continue\n",
    "        elif token.like_url:\n",
    "            lda_tokens.append('URL')\n",
    "        elif token.orth_.startswith('@'):\n",
    "            lda_tokens.append('SCREEN_NAME')\n",
    "        else:\n",
    "            lda_tokens.append(token.lower_)\n",
    "    return lda_tokens"
   ]
  },
  {
   "cell_type": "code",
   "execution_count": 113,
   "metadata": {},
   "outputs": [
    {
     "name": "stderr",
     "output_type": "stream",
     "text": [
      "[nltk_data] Downloading package wordnet to\n",
      "[nltk_data]     /Users/micahswain/nltk_data...\n",
      "[nltk_data]   Package wordnet is already up-to-date!\n"
     ]
    }
   ],
   "source": [
    "import nltk\n",
    "\n",
    "nltk.download('wordnet')\n",
    "from nltk.corpus import wordnet as wn\n",
    "def get_lemma(word):\n",
    "    lemma = wn.morphy(word)\n",
    "    if lemma is None:\n",
    "        return word\n",
    "    else:\n",
    "        return lemma\n",
    "    \n",
    "from nltk.stem.wordnet import WordNetLemmatizer\n",
    "def get_lemma2(word):\n",
    "    return WordNetLemmatizer().lemmatize(word)"
   ]
  },
  {
   "cell_type": "code",
   "execution_count": 114,
   "metadata": {},
   "outputs": [
    {
     "name": "stderr",
     "output_type": "stream",
     "text": [
      "[nltk_data] Downloading package stopwords to\n",
      "[nltk_data]     /Users/micahswain/nltk_data...\n",
      "[nltk_data]   Package stopwords is already up-to-date!\n"
     ]
    }
   ],
   "source": [
    "nltk.download('stopwords')\n",
    "en_stop = set(nltk.corpus.stopwords.words('english'))"
   ]
  },
  {
   "cell_type": "code",
   "execution_count": 115,
   "metadata": {},
   "outputs": [],
   "source": [
    "more_stop = ['police', 'officer', 'cop', 'SCREEN_NAME']"
   ]
  },
  {
   "cell_type": "code",
   "execution_count": 127,
   "metadata": {},
   "outputs": [],
   "source": [
    "def prepare_text_for_lda(text):\n",
    "    tokens = tokenize(text)\n",
    "    tokens = [token for token in tokens if len(token) > 4]\n",
    "    tokens = [token for token in tokens if token not in en_stop]\n",
    "    tokens = [get_lemma(token) for token in tokens]\n",
    "    tokens = [token for token in tokens if token not in more_stop]\n",
    "    return tokens"
   ]
  },
  {
   "cell_type": "code",
   "execution_count": 128,
   "metadata": {},
   "outputs": [],
   "source": [
    "df['lemmas'] = df['text'].apply(prepare_text_for_lda)"
   ]
  },
  {
   "cell_type": "code",
   "execution_count": 129,
   "metadata": {},
   "outputs": [
    {
     "data": {
      "text/html": [
       "<div>\n",
       "<style scoped>\n",
       "    .dataframe tbody tr th:only-of-type {\n",
       "        vertical-align: middle;\n",
       "    }\n",
       "\n",
       "    .dataframe tbody tr th {\n",
       "        vertical-align: top;\n",
       "    }\n",
       "\n",
       "    .dataframe thead th {\n",
       "        text-align: right;\n",
       "    }\n",
       "</style>\n",
       "<table border=\"1\" class=\"dataframe\">\n",
       "  <thead>\n",
       "    <tr style=\"text-align: right;\">\n",
       "      <th></th>\n",
       "      <th>ids</th>\n",
       "      <th>text</th>\n",
       "      <th>reddit</th>\n",
       "      <th>lemmas</th>\n",
       "    </tr>\n",
       "  </thead>\n",
       "  <tbody>\n",
       "    <tr>\n",
       "      <th>0</th>\n",
       "      <td>1266136557871869952</td>\n",
       "      <td>Police in NYC made several arrests during a pr...</td>\n",
       "      <td>1</td>\n",
       "      <td>[several, arrest, protest]</td>\n",
       "    </tr>\n",
       "    <tr>\n",
       "      <th>1</th>\n",
       "      <td>1266159669262893057</td>\n",
       "      <td>Calls for justice for George Floyd. Protesters...</td>\n",
       "      <td>1</td>\n",
       "      <td>[call, justice, protester, street, rally]</td>\n",
       "    </tr>\n",
       "    <tr>\n",
       "      <th>2</th>\n",
       "      <td>1266555286678048770</td>\n",
       "      <td>NYPD just casually slamming a dude with a car ...</td>\n",
       "      <td>1</td>\n",
       "      <td>[casually, slam]</td>\n",
       "    </tr>\n",
       "    <tr>\n",
       "      <th>3</th>\n",
       "      <td>1266540710188195843</td>\n",
       "      <td>Update: Got her permission with a fuck yeah. T...</td>\n",
       "      <td>1</td>\n",
       "      <td>[update, permission, push, fling]</td>\n",
       "    </tr>\n",
       "    <tr>\n",
       "      <th>4</th>\n",
       "      <td>1266529475757510656</td>\n",
       "      <td>NYPD officer just called a female protester a ...</td>\n",
       "      <td>1</td>\n",
       "      <td>[call, female, protester, stupid, fucking, bit...</td>\n",
       "    </tr>\n",
       "    <tr>\n",
       "      <th>...</th>\n",
       "      <td>...</td>\n",
       "      <td>...</td>\n",
       "      <td>...</td>\n",
       "      <td>...</td>\n",
       "    </tr>\n",
       "    <tr>\n",
       "      <th>6555</th>\n",
       "      <td>1364030259171971076</td>\n",
       "      <td>@narsheviking @heghapoghagan @Raz_Libar @n0cla...</td>\n",
       "      <td>0</td>\n",
       "      <td>[proxy]</td>\n",
       "    </tr>\n",
       "    <tr>\n",
       "      <th>6556</th>\n",
       "      <td>1364030261483208710</td>\n",
       "      <td>@Lauren_Southern This is a reminder that the p...</td>\n",
       "      <td>0</td>\n",
       "      <td>[reminder, follow, order, tyrant]</td>\n",
       "    </tr>\n",
       "    <tr>\n",
       "      <th>6557</th>\n",
       "      <td>1364030261906857984</td>\n",
       "      <td>@nytimes Pelosi set the attack up days earlier...</td>\n",
       "      <td>0</td>\n",
       "      <td>[attack, earlier, stand, anarchist]</td>\n",
       "    </tr>\n",
       "    <tr>\n",
       "      <th>6558</th>\n",
       "      <td>1364030277463519234</td>\n",
       "      <td>So i started playing and then some time in Dec...</td>\n",
       "      <td>0</td>\n",
       "      <td>[start, playing, start, faith]</td>\n",
       "    </tr>\n",
       "    <tr>\n",
       "      <th>6559</th>\n",
       "      <td>1364030282026913795</td>\n",
       "      <td>@ljhinco Thank you for missing me. 🤗Those cops...</td>\n",
       "      <td>0</td>\n",
       "      <td>[thank, miss, laugh, using, carotid, chokehold]</td>\n",
       "    </tr>\n",
       "  </tbody>\n",
       "</table>\n",
       "<p>6539 rows × 4 columns</p>\n",
       "</div>"
      ],
      "text/plain": [
       "                      ids                                               text  \\\n",
       "0     1266136557871869952  Police in NYC made several arrests during a pr...   \n",
       "1     1266159669262893057  Calls for justice for George Floyd. Protesters...   \n",
       "2     1266555286678048770  NYPD just casually slamming a dude with a car ...   \n",
       "3     1266540710188195843  Update: Got her permission with a fuck yeah. T...   \n",
       "4     1266529475757510656  NYPD officer just called a female protester a ...   \n",
       "...                   ...                                                ...   \n",
       "6555  1364030259171971076  @narsheviking @heghapoghagan @Raz_Libar @n0cla...   \n",
       "6556  1364030261483208710  @Lauren_Southern This is a reminder that the p...   \n",
       "6557  1364030261906857984  @nytimes Pelosi set the attack up days earlier...   \n",
       "6558  1364030277463519234  So i started playing and then some time in Dec...   \n",
       "6559  1364030282026913795  @ljhinco Thank you for missing me. 🤗Those cops...   \n",
       "\n",
       "      reddit                                             lemmas  \n",
       "0          1                         [several, arrest, protest]  \n",
       "1          1          [call, justice, protester, street, rally]  \n",
       "2          1                                   [casually, slam]  \n",
       "3          1                  [update, permission, push, fling]  \n",
       "4          1  [call, female, protester, stupid, fucking, bit...  \n",
       "...      ...                                                ...  \n",
       "6555       0                                            [proxy]  \n",
       "6556       0                  [reminder, follow, order, tyrant]  \n",
       "6557       0                [attack, earlier, stand, anarchist]  \n",
       "6558       0                     [start, playing, start, faith]  \n",
       "6559       0    [thank, miss, laugh, using, carotid, chokehold]  \n",
       "\n",
       "[6539 rows x 4 columns]"
      ]
     },
     "execution_count": 129,
     "metadata": {},
     "output_type": "execute_result"
    }
   ],
   "source": [
    "df"
   ]
  },
  {
   "cell_type": "code",
   "execution_count": null,
   "metadata": {},
   "outputs": [],
   "source": []
  },
  {
   "cell_type": "markdown",
   "metadata": {},
   "source": [
    "## Topic Modeling w/ Gensim\n",
    "* Learn a Vocabulary\n",
    "* Create a BAs of Words (BoW) representation of reach document\n",
    "* Estimate our LDS model\n",
    "* Clean up results\n",
    "* Add topic information back to dataframe"
   ]
  },
  {
   "cell_type": "code",
   "execution_count": 130,
   "metadata": {},
   "outputs": [],
   "source": [
    "import gensim\n",
    "from gensim import corpora\n",
    "from gensim.models.ldamulticore import LdaMulticore"
   ]
  },
  {
   "cell_type": "code",
   "execution_count": 131,
   "metadata": {},
   "outputs": [],
   "source": [
    "id2word = corpora.Dictionary(df['lemmas'])"
   ]
  },
  {
   "cell_type": "code",
   "execution_count": 132,
   "metadata": {},
   "outputs": [
    {
     "data": {
      "text/plain": [
       "5551"
      ]
     },
     "execution_count": 132,
     "metadata": {},
     "output_type": "execute_result"
    }
   ],
   "source": [
    "len(id2word.keys())"
   ]
  },
  {
   "cell_type": "code",
   "execution_count": 133,
   "metadata": {},
   "outputs": [],
   "source": [
    "corpus = [id2word.doc2bow(doc) for doc in df['lemmas']]"
   ]
  },
  {
   "cell_type": "code",
   "execution_count": 141,
   "metadata": {},
   "outputs": [],
   "source": [
    "lda = LdaMulticore(corpus=corpus,\n",
    "                  id2word=id2word,\n",
    "                  num_topics = 5,\n",
    "                  passes = 200,\n",
    "                  workers = 4,\n",
    "                  random_state = 42)"
   ]
  },
  {
   "cell_type": "code",
   "execution_count": 142,
   "metadata": {},
   "outputs": [
    {
     "data": {
      "text/plain": [
       "[(0,\n",
       "  '0.014*\"protester\" + 0.011*\"people\" + 0.008*\"department\" + 0.008*\"crowd\" + 0.007*\"watch\" + 0.007*\"look\" + 0.007*\"arrest\" + 0.007*\"black\" + 0.006*\"criminal\" + 0.006*\"today\"'),\n",
       " (1,\n",
       "  '0.018*\"kill\" + 0.011*\"people\" + 0.010*\"worker\" + 0.009*\"defund\" + 0.008*\"social\" + 0.008*\"still\" + 0.007*\"thought\" + 0.007*\"would\" + 0.007*\"custody\" + 0.006*\"health\"'),\n",
       " (2,\n",
       "  '0.017*\"think\" + 0.012*\"arrest\" + 0.009*\"really\" + 0.008*\"protest\" + 0.007*\"involve\" + 0.007*\"going\" + 0.006*\"peaceful\" + 0.006*\"attack\" + 0.006*\"protester\" + 0.006*\"little\"'),\n",
       " (3,\n",
       "  '0.018*\"death\" + 0.017*\"black\" + 0.014*\"report\" + 0.012*\"would\" + 0.012*\"video\" + 0.012*\"could\" + 0.009*\"brutality\" + 0.007*\"force\" + 0.007*\"legal\" + 0.007*\"charge\"'),\n",
       " (4,\n",
       "  '0.022*\"people\" + 0.017*\"arrest\" + 0.013*\"right\" + 0.010*\"charge\" + 0.008*\"attack\" + 0.008*\"woman\" + 0.007*\"call\" + 0.007*\"murder\" + 0.007*\"chief\" + 0.006*\"former\"')]"
      ]
     },
     "execution_count": 142,
     "metadata": {},
     "output_type": "execute_result"
    }
   ],
   "source": [
    "lda.print_topics()"
   ]
  },
  {
   "cell_type": "code",
   "execution_count": 143,
   "metadata": {},
   "outputs": [],
   "source": [
    "import re\n",
    "\n",
    "words = [re.findall(r'\"([^\"]*)\"', t[1]) for t in lda.print_topics()]"
   ]
  },
  {
   "cell_type": "code",
   "execution_count": 144,
   "metadata": {},
   "outputs": [],
   "source": [
    "topics = [' '.join(t[0:5]) for t in words]"
   ]
  },
  {
   "cell_type": "code",
   "execution_count": 145,
   "metadata": {},
   "outputs": [
    {
     "name": "stdout",
     "output_type": "stream",
     "text": [
      "----- Topic 0 ------\n",
      "protester people department crowd watch\n",
      "\n",
      "----- Topic 1 ------\n",
      "kill people worker defund social\n",
      "\n",
      "----- Topic 2 ------\n",
      "think arrest really protest involve\n",
      "\n",
      "----- Topic 3 ------\n",
      "death black report would video\n",
      "\n",
      "----- Topic 4 ------\n",
      "people arrest right charge attack\n",
      "\n"
     ]
    }
   ],
   "source": [
    "for id, t in enumerate(topics):\n",
    "    print(f\"----- Topic {id} ------\")\n",
    "    print(t, end=\"\\n\\n\")"
   ]
  },
  {
   "cell_type": "markdown",
   "metadata": {},
   "source": [
    "## Analyzing the Rusults of LDA\n",
    "- How good are the topcis themselves:\n",
    "    * Using intertopic distance visualization\n",
    "    * Looking at some fo the token distributions\n",
    "- Using the LDA topics analysis:\n",
    "    * Score each review with a top topic\n",
    "    * Summary visualization of top versus sentiment"
   ]
  },
  {
   "cell_type": "code",
   "execution_count": 146,
   "metadata": {},
   "outputs": [],
   "source": [
    "import pyLDAvis.gensim\n",
    "import warnings\n",
    "\n",
    "warnings.filterwarnings(\"ignore\")\n",
    "\n",
    "pyLDAvis.enable_notebook()"
   ]
  },
  {
   "cell_type": "code",
   "execution_count": 147,
   "metadata": {},
   "outputs": [
    {
     "data": {
      "text/html": [
       "\n",
       "<link rel=\"stylesheet\" type=\"text/css\" href=\"https://cdn.jsdelivr.net/gh/bmabey/pyLDAvis@3.2.2/pyLDAvis/js/ldavis.v1.0.0.css\">\n",
       "\n",
       "\n",
       "<div id=\"ldavis_el596381404719864521764515172401\"></div>\n",
       "<script type=\"text/javascript\">\n",
       "\n",
       "var ldavis_el596381404719864521764515172401_data = {\"mdsDat\": {\"x\": [0.023380280192491224, 0.21856098827542975, -0.05000834835212653, -0.08042369174383965, -0.1115092283719549], \"y\": [-0.08001158665261329, 0.0522496025971142, -0.1678752246552369, 0.12453251330992063, 0.07110469540081546], \"topics\": [1, 2, 3, 4, 5], \"cluster\": [1, 1, 1, 1, 1], \"Freq\": [25.17310260338683, 20.35444256750051, 19.311279700568605, 17.82803496406958, 17.33314016447447]}, \"tinfo\": {\"Term\": [\"death\", \"kill\", \"think\", \"right\", \"arrest\", \"black\", \"report\", \"people\", \"could\", \"worker\", \"charge\", \"protester\", \"attack\", \"brutality\", \"social\", \"crowd\", \"defund\", \"legal\", \"really\", \"department\", \"basis\", \"look\", \"involve\", \"custody\", \"video\", \"abolish\", \"investigation\", \"paramedic\", \"thought\", \"health\", \"right\", \"threaten\", \"bullet\", \"fault\", \"rubber\", \"overall\", \"talking\", \"inside\", \"horny\", \"digital\", \"database\", \"forget\", \"track\", \"heart\", \"innovation\", \"recount\", \"share\", \"bypass\", \"assets\", \"obviously\", \"inaction\", \"anybody\", \"seize\", \"firearm\", \"label\", \"facing\", \"totally\", \"assume\", \"election\", \"burn\", \"least\", \"former\", \"shoot\", \"friend\", \"treatment\", \"suffer\", \"female\", \"take\", \"charge\", \"people\", \"attack\", \"arrest\", \"chief\", \"fatal\", \"call\", \"woman\", \"investigation\", \"break\", \"problem\", \"military\", \"spray\", \"pepper\", \"murder\", \"protest\", \"press\", \"every\", \"government\", \"family\", \"try\", \"station\", \"video\", \"would\", \"protester\", \"legal\", \"basis\", \"abolish\", \"paramedic\", \"find\", \"frisk\", \"might\", \"towards\", \"independent\", \"allege\", \"choke\", \"rescue\", \"motel\", \"shock\", \"receive\", \"online\", \"accuse\", \"flag\", \"rape\", \"lead\", \"grow\", \"rioter\", \"player\", \"inject\", \"wrongdoing\", \"direct\", \"restrain\", \"example\", \"fully\", \"trash\", \"death\", \"could\", \"brutality\", \"report\", \"life\", \"release\", \"black\", \"miss\", \"video\", \"probe\", \"would\", \"force\", \"person\", \"walking\", \"state\", \"charge\", \"become\", \"shooting\", \"investigation\", \"someone\", \"crowd\", \"blacklivesmatter\", \"look\", \"push\", \"running\", \"justice\", \"flash\", \"uniform\", \"yesterday\", \"earlier\", \"light\", \"sidewalk\", \"expect\", \"serve\", \"witness\", \"tryna\", \"american\", \"end\", \"angle\", \"canister\", \"bang\", \"apprehend\", \"simply\", \"grenade\", \"bottle\", \"spot\", \"75-year\", \"surly\", \"steps\", \"mention\", \"remember\", \"protect\", \"mayor\", \"criminal\", \"watch\", \"department\", \"protester\", \"teargas\", \"truck\", \"today\", \"federal\", \"chase\", \"group\", \"crime\", \"people\", \"station\", \"another\", \"black\", \"everyone\", \"arrest\", \"try\", \"times\", \"first\", \"murder\", \"pepper\", \"reason\", \"would\", \"spray\", \"state\", \"worker\", \"social\", \"custody\", \"respond\", \"alive\", \"security\", \"shootout\", \"reveal\", \"exactly\", \"budget\", \"kidnapping\", \"funding\", \"gender\", \"increase\", \"suicide\", \"device\", \"explode\", \"playing\", \"putting\", \"funny\", \"justify\", \"accord\", \"visit\", \"decision\", \"stealing\", \"film\", \"expectant\", \"behavior\", \"instructor\", \"fear\", \"kill\", \"hours\", \"defund\", \"support\", \"thought\", \"speak\", \"father\", \"health\", \"crisis\", \"found\", \"party\", \"mental\", \"still\", \"local\", \"guess\", \"night\", \"money\", \"suspect\", \"people\", \"please\", \"getting\", \"want\", \"would\", \"every\", \"going\", \"department\", \"really\", \"think\", \"little\", \"journalist\", \"arm\", \"training\", \"kneel\", \"bitch\", \"surround\", \"servant\", \"participate\", \"crazy\", \"know\", \"within\", \"spend\", \"incident\", \"horrifically\", \"except\", \"12/12/12\", \"2/22/2021\", \"mind\", \"teens\", \"raise\", \"rollerblade\", \"remind\", \"choice\", \"ignore\", \"leading\", \"council\", \"neighbor\", \"instant\", \"service\", \"involve\", \"course\", \"absolutely\", \"place\", \"house\", \"disgust\", \"really\", \"fucking\", \"harass\", \"brutal\", \"pull\", \"school\", \"change\", \"going\", \"arrest\", \"protest\", \"peaceful\", \"union\", \"attack\", \"never\", \"today\", \"protester\", \"defunding\", \"nothing\", \"public\", \"would\", \"happen\", \"getting\", \"kill\", \"video\"], \"Freq\": [110.0, 110.0, 80.0, 89.0, 216.0, 149.0, 103.0, 273.0, 82.0, 52.0, 112.0, 126.0, 90.0, 65.0, 41.0, 42.0, 55.0, 41.0, 71.0, 61.0, 40.0, 38.0, 46.0, 33.0, 123.0, 35.0, 69.0, 34.0, 45.0, 46.0, 88.74795048935712, 37.76985603719807, 36.934322169851455, 35.26217148050652, 30.250352233579957, 26.072663266248984, 22.725463102600127, 21.052581173482803, 16.03838989597468, 15.205949483683053, 14.37353197375566, 13.534174229523265, 11.864544436127414, 11.863479476190452, 11.03057692690621, 11.02950869520293, 11.025210412200833, 10.19450812576638, 10.193909392529932, 10.190914090464531, 9.359429033938163, 9.355555262616006, 8.522505483847391, 7.687860718998075, 7.687294703424821, 7.686695970188373, 7.686181484934648, 7.684336208730513, 7.683277792326191, 6.852091284476468, 20.928229515098625, 43.415733781523265, 37.152879431752964, 27.85472240156116, 27.791452984476816, 11.875131053995377, 17.67744503311584, 20.016501117822923, 72.60586032400626, 153.1844655116219, 59.41768438011576, 119.08347334376342, 45.99013946876612, 28.342362812634498, 52.152213600600284, 54.11110843370911, 42.66036800430064, 20.64182727091511, 19.00469102472027, 28.31537074049954, 32.07221894970014, 33.812477998515796, 48.64239356381251, 38.83353671352832, 19.546807980894595, 28.537602195977716, 25.175428793768177, 24.313526125770448, 28.537147420459323, 25.10896122510663, 28.221084978707385, 29.168438003551753, 25.400776606665573, 41.05895636622476, 39.39198021222017, 35.213444677396595, 33.54521191963408, 31.880452679206623, 31.046067783943407, 31.04076359334416, 29.372739828627694, 26.87250046355643, 25.200561386078427, 17.69040950349461, 16.856708465223864, 16.856609259664026, 16.854987579445904, 16.852805057129505, 15.18609609676607, 14.35292547755525, 14.352514105167128, 14.349707249194159, 14.349994283947286, 14.347782661333335, 13.497446834789239, 12.681416290836536, 11.845575057954921, 11.015742375147394, 11.015370684983207, 11.01023514383568, 11.009335018722766, 10.18083433589864, 9.34112408618341, 100.30336062500889, 66.99583729029783, 53.692276478911865, 81.52882747265996, 31.035641940975008, 26.061258241291828, 98.75429358572174, 26.075853363254947, 68.79242616959895, 27.609198305419238, 69.46532028633824, 42.11778127458005, 29.514680498159883, 31.344520435636543, 34.26340461773542, 39.6563802248143, 21.6311255020562, 28.19979942616311, 26.163672770303638, 21.4671916212787, 41.93478027358575, 26.061323246126793, 37.416833042085486, 21.885043813148602, 21.88440127850164, 20.21213583750633, 18.545928042489315, 16.03458388473904, 16.033748087717797, 15.201118561491615, 15.198771804089624, 14.366733359540628, 13.529274783858373, 13.527547971994663, 13.527478949718134, 12.693638396276487, 12.693427564595453, 12.692168849261659, 11.859563167094642, 11.858034637407142, 11.026887207700614, 10.189691544144411, 10.18820003549614, 9.354131708541948, 9.32005164576807, 8.520343235545319, 8.518501595712474, 7.685334950679847, 7.683183965553103, 7.6807211252314955, 28.38700500971661, 31.410240959315583, 17.950752716830088, 33.127118635007875, 39.61990363364895, 42.886773159989964, 73.95091885548175, 16.612468502652476, 13.873427384335502, 32.72879986181165, 15.592424671392479, 15.824855305178595, 18.212310751311495, 28.684498551260045, 56.90988099825605, 25.85714280264881, 25.815117020895947, 35.80248733070197, 18.98534267913098, 36.66206817348705, 26.37034476280108, 17.65778201682503, 21.071386628314556, 24.624364785423143, 20.83344425200997, 18.564798732892378, 21.64992633037978, 18.395943890542, 18.072023601741286, 51.78907520052414, 40.96261192419597, 32.63336957549063, 24.307039849862626, 20.148286788432273, 20.142767402457558, 15.153689685974067, 14.32027398940528, 13.48511002385332, 12.653814494441066, 11.823356604839837, 11.820644412865278, 10.990583909785737, 10.154764198544926, 10.15330209419982, 9.324894278797217, 9.323896178247843, 9.321406430040525, 9.320591961455257, 9.3199744482889, 7.657963249388899, 7.655812380358242, 7.655360541456029, 6.825726388930372, 6.825032989999669, 7.492595424705095, 5.994623759972525, 5.991601652853499, 5.161843534270055, 5.159566961339679, 91.97426932943213, 23.27527382659049, 46.043306350190036, 27.31068413620726, 33.23185221413492, 12.555108548410919, 12.497467807224117, 31.939671735976102, 17.2789996960636, 31.759323134561395, 15.013306814740654, 21.908062602316146, 40.75580873433739, 19.595678542536668, 17.351721429532695, 28.352260856463836, 18.513101496868856, 26.24621656202785, 52.286839472181505, 21.38014329746192, 19.765852658722594, 19.575605309665576, 33.213709144369176, 22.22280431310674, 22.51397625305989, 18.246195623087065, 17.6604409387497, 80.04355124512752, 26.80937186520935, 25.981557704904006, 24.312617584714467, 15.982392354928365, 15.152614878777197, 14.318457957985432, 13.48983278941331, 11.824749464092443, 11.824607537645758, 11.823238961195571, 11.819483542360244, 10.989299435675317, 10.988847749126737, 10.985964164178196, 10.160112193318303, 10.15509407966762, 9.32731371137339, 9.327308642571722, 8.492846467279547, 8.490267010431047, 8.489155816465525, 7.661485272207422, 7.659180657049331, 7.658098749493442, 7.657762518982841, 7.655626300680143, 6.82491391222144, 6.8242515888035715, 5.99486328398042, 15.765867790903688, 35.652364956467885, 10.84552681878203, 15.80808640319129, 21.062468163594, 21.48043028508056, 12.612299316753045, 45.49255353734891, 26.184348069210884, 15.011974781314336, 11.83736740104305, 19.552679404556507, 16.53838920982076, 16.079119733946353, 33.465316710649255, 60.15124410645216, 38.28461393753308, 31.438902168870285, 17.00013338730921, 31.064889937040824, 24.77965021194252, 21.690461150969167, 27.222382330667084, 15.165606780650817, 17.22862482887033, 17.89660165019798, 26.701534799336883, 17.51449059970445, 16.776564315367274, 18.269976339417724, 16.02240547529048], \"Total\": [110.0, 110.0, 80.0, 89.0, 216.0, 149.0, 103.0, 273.0, 82.0, 52.0, 112.0, 126.0, 90.0, 65.0, 41.0, 42.0, 55.0, 41.0, 71.0, 61.0, 40.0, 38.0, 46.0, 33.0, 123.0, 35.0, 69.0, 34.0, 45.0, 46.0, 89.42160944717075, 38.44125011090212, 37.605615938808214, 35.933970870978214, 30.919864393365767, 26.741307850403558, 23.397672712929896, 21.72591231240554, 16.711524408817535, 15.876272855711614, 15.040991409823672, 14.204514419266506, 12.533466751830707, 12.53320622791802, 11.697964940399158, 11.697677006379497, 11.697155003908424, 10.862157599565206, 10.862107644167976, 10.86149019659155, 10.02656403496093, 10.025821506790118, 9.190596598563214, 8.355005261861182, 8.35492566217222, 8.354816154052, 8.354695328679707, 8.354480787364801, 8.354173748345993, 7.519237558308028, 23.39017634261987, 49.28734441436672, 42.617945795064955, 33.419123495115, 33.418627084556434, 13.36715932875159, 21.72391289166984, 25.066773933006445, 112.76744870301575, 273.87031509126786, 90.98575861715801, 216.23343514423368, 68.48164367561618, 38.42810506887606, 86.85009866580103, 94.34664012028729, 69.32747841434596, 26.72027191621102, 24.23060848917321, 42.58114549481124, 50.97063859502036, 55.14849410344003, 102.72066833796828, 104.28045301045508, 25.90265846011269, 65.92162340242976, 48.39728199831055, 46.748489388154404, 88.50144762893972, 59.29567299917367, 123.49857982571213, 180.19892856397584, 126.90945514840178, 41.7282385349752, 40.059409491818506, 35.88533101573101, 34.216437815618626, 32.54803401386546, 31.713463627323385, 31.712438137301447, 30.043655636794917, 27.54037684500618, 25.870784037856865, 18.359664763815537, 17.525135368172673, 17.52513041223195, 17.524835394496066, 17.524422026329155, 15.855729182022042, 15.02135365045287, 15.021171719444398, 15.020711102187564, 15.021013003226896, 15.020551924223684, 14.185835987818548, 13.351665225390345, 12.51697877991628, 11.683179107478653, 11.683095206660523, 11.682254783108768, 11.682061368897427, 10.848580668952337, 10.013107451801638, 110.17674403988087, 82.64238474076953, 65.11020927852863, 103.51615303103594, 36.726468149175275, 30.881927867224398, 149.39272565744585, 31.700944263484217, 123.49857982571213, 40.07289845284963, 180.19892856397584, 90.94187827798167, 50.10041030325891, 59.27521351893881, 79.29474044934473, 112.76744870301575, 32.55263621414763, 71.77566950478383, 69.32747841434596, 60.92832902218161, 42.60543391430999, 26.731803556193526, 38.42770486907706, 22.55478174777203, 22.554594510758747, 20.88351860846631, 19.213385331360996, 16.706212204584965, 16.70609263254815, 15.87105422199446, 15.870681108392853, 15.035746883422922, 14.1999824902876, 14.199742365268811, 14.199907547396455, 13.364428538513007, 13.364483084463945, 13.364334323028713, 12.529304608833982, 12.52906819359016, 11.694340562522708, 10.85854067667165, 10.858317005549361, 10.023112295482827, 10.022326552718159, 9.18788028776524, 9.18760388884624, 8.352534208756893, 8.352100059474857, 8.351727254054467, 32.56814345243513, 38.42931850256786, 21.715150437917476, 45.07580498144498, 55.96878967394878, 61.7592360917644, 126.90945514840178, 20.884072876730055, 16.69856002195317, 60.917806047324206, 20.048584791489972, 20.869043075875148, 27.569329212757314, 64.29149293584223, 273.87031509126786, 59.29567299917367, 65.11800175434368, 149.39272565744585, 33.40358473194938, 216.23343514423368, 88.50144762893972, 28.38663279371514, 52.595779264131075, 102.72066833796828, 55.14849410344003, 42.551112705611246, 180.19892856397584, 50.97063859502036, 79.29474044934473, 52.45930094464572, 41.634200682237044, 33.30739489071274, 24.980249261920687, 20.817576713609483, 20.816710493146726, 15.821774070510287, 14.988987180237938, 14.155857324695695, 13.323432768093998, 12.491103547170301, 12.490621053987308, 11.658435133239893, 10.825255460736445, 10.824935543562598, 9.993015460701741, 9.99280387516724, 9.9923084276363, 9.992219731174421, 9.99208168008207, 8.327385960155798, 8.326974489783366, 8.3268523934693, 7.494694965706432, 7.494567177720793, 8.326983900142077, 6.662363630644929, 6.661716968666485, 5.829597010361416, 5.829118295254152, 110.74977190457174, 27.49067805342754, 55.82072912611417, 34.159446090400046, 45.0009346216724, 14.9881063410154, 14.988171606585455, 46.63275379511316, 22.483062173450747, 48.33825831964008, 19.163688409151987, 33.309091977944874, 81.7083406476229, 29.172800785461824, 24.986690314184514, 58.34985007953151, 29.153895504250436, 56.69677157713932, 273.87031509126786, 44.197209418078536, 40.81190442186545, 41.69491048093671, 180.19892856397584, 65.92162340242976, 75.85074866679076, 61.7592360917644, 71.64802082808919, 80.78674156153278, 27.483981819594423, 26.651593780754826, 24.985444615004397, 16.656772822165205, 15.824193941481713, 14.991032512165908, 14.158988711472647, 12.493426920268302, 12.493350612145877, 12.493068864306728, 12.49252218107383, 11.660068183797742, 11.660004947794214, 11.659633875170732, 10.827864545874176, 10.82691545006352, 9.995021287661515, 9.9950164488238, 9.161864289923347, 9.16137288036418, 9.161328854485237, 8.329208966309306, 8.328786747482292, 8.32861586497725, 8.328502529995793, 8.328359142550482, 7.495774904519982, 7.4956416394089995, 6.663134497289737, 18.321248480760737, 46.660634956917455, 12.495023251616558, 19.163056904741904, 26.66716403196719, 27.488515072883978, 14.990079907963647, 71.64802082808919, 39.18254245036719, 19.163781792901453, 14.163240547509943, 30.012514177484377, 24.17379150006818, 23.32755319950856, 75.85074866679076, 216.23343514423368, 104.28045301045508, 80.93385602058454, 26.669467567431315, 90.98575861715801, 61.736251352363325, 60.917806047324206, 126.90945514840178, 24.982907588371244, 37.52804250617362, 42.49359093471417, 180.19892856397584, 50.87961380365949, 40.81190442186545, 110.74977190457174, 123.49857982571213], \"Category\": [\"Default\", \"Default\", \"Default\", \"Default\", \"Default\", \"Default\", \"Default\", \"Default\", \"Default\", \"Default\", \"Default\", \"Default\", \"Default\", \"Default\", \"Default\", \"Default\", \"Default\", \"Default\", \"Default\", \"Default\", \"Default\", \"Default\", \"Default\", \"Default\", \"Default\", \"Default\", \"Default\", \"Default\", \"Default\", \"Default\", \"Topic1\", \"Topic1\", \"Topic1\", \"Topic1\", \"Topic1\", \"Topic1\", \"Topic1\", \"Topic1\", \"Topic1\", \"Topic1\", \"Topic1\", \"Topic1\", \"Topic1\", \"Topic1\", \"Topic1\", \"Topic1\", \"Topic1\", \"Topic1\", \"Topic1\", \"Topic1\", \"Topic1\", \"Topic1\", \"Topic1\", \"Topic1\", \"Topic1\", \"Topic1\", \"Topic1\", \"Topic1\", \"Topic1\", \"Topic1\", \"Topic1\", \"Topic1\", \"Topic1\", \"Topic1\", \"Topic1\", \"Topic1\", \"Topic1\", \"Topic1\", \"Topic1\", \"Topic1\", \"Topic1\", \"Topic1\", \"Topic1\", \"Topic1\", \"Topic1\", \"Topic1\", \"Topic1\", \"Topic1\", \"Topic1\", \"Topic1\", \"Topic1\", \"Topic1\", \"Topic1\", \"Topic1\", \"Topic1\", \"Topic1\", \"Topic1\", \"Topic1\", \"Topic1\", \"Topic1\", \"Topic1\", \"Topic1\", \"Topic1\", \"Topic2\", \"Topic2\", \"Topic2\", \"Topic2\", \"Topic2\", \"Topic2\", \"Topic2\", \"Topic2\", \"Topic2\", \"Topic2\", \"Topic2\", \"Topic2\", \"Topic2\", \"Topic2\", \"Topic2\", \"Topic2\", \"Topic2\", \"Topic2\", \"Topic2\", \"Topic2\", \"Topic2\", \"Topic2\", \"Topic2\", \"Topic2\", \"Topic2\", \"Topic2\", \"Topic2\", \"Topic2\", \"Topic2\", \"Topic2\", \"Topic2\", \"Topic2\", \"Topic2\", \"Topic2\", \"Topic2\", \"Topic2\", \"Topic2\", \"Topic2\", \"Topic2\", \"Topic2\", \"Topic2\", \"Topic2\", \"Topic2\", \"Topic2\", \"Topic2\", \"Topic2\", \"Topic2\", \"Topic2\", \"Topic2\", \"Topic2\", \"Topic3\", \"Topic3\", \"Topic3\", \"Topic3\", \"Topic3\", \"Topic3\", \"Topic3\", \"Topic3\", \"Topic3\", \"Topic3\", \"Topic3\", \"Topic3\", \"Topic3\", \"Topic3\", \"Topic3\", \"Topic3\", \"Topic3\", \"Topic3\", \"Topic3\", \"Topic3\", \"Topic3\", \"Topic3\", \"Topic3\", \"Topic3\", \"Topic3\", \"Topic3\", \"Topic3\", \"Topic3\", \"Topic3\", \"Topic3\", \"Topic3\", \"Topic3\", \"Topic3\", \"Topic3\", \"Topic3\", \"Topic3\", \"Topic3\", \"Topic3\", \"Topic3\", \"Topic3\", \"Topic3\", \"Topic3\", \"Topic3\", \"Topic3\", \"Topic3\", \"Topic3\", \"Topic3\", \"Topic3\", \"Topic3\", \"Topic3\", \"Topic3\", \"Topic3\", \"Topic3\", \"Topic3\", \"Topic3\", \"Topic3\", \"Topic3\", \"Topic3\", \"Topic3\", \"Topic4\", \"Topic4\", \"Topic4\", \"Topic4\", \"Topic4\", \"Topic4\", \"Topic4\", \"Topic4\", \"Topic4\", \"Topic4\", \"Topic4\", \"Topic4\", \"Topic4\", \"Topic4\", \"Topic4\", \"Topic4\", \"Topic4\", \"Topic4\", \"Topic4\", \"Topic4\", \"Topic4\", \"Topic4\", \"Topic4\", \"Topic4\", \"Topic4\", \"Topic4\", \"Topic4\", \"Topic4\", \"Topic4\", \"Topic4\", \"Topic4\", \"Topic4\", \"Topic4\", \"Topic4\", \"Topic4\", \"Topic4\", \"Topic4\", \"Topic4\", \"Topic4\", \"Topic4\", \"Topic4\", \"Topic4\", \"Topic4\", \"Topic4\", \"Topic4\", \"Topic4\", \"Topic4\", \"Topic4\", \"Topic4\", \"Topic4\", \"Topic4\", \"Topic4\", \"Topic4\", \"Topic4\", \"Topic4\", \"Topic4\", \"Topic4\", \"Topic5\", \"Topic5\", \"Topic5\", \"Topic5\", \"Topic5\", \"Topic5\", \"Topic5\", \"Topic5\", \"Topic5\", \"Topic5\", \"Topic5\", \"Topic5\", \"Topic5\", \"Topic5\", \"Topic5\", \"Topic5\", \"Topic5\", \"Topic5\", \"Topic5\", \"Topic5\", \"Topic5\", \"Topic5\", \"Topic5\", \"Topic5\", \"Topic5\", \"Topic5\", \"Topic5\", \"Topic5\", \"Topic5\", \"Topic5\", \"Topic5\", \"Topic5\", \"Topic5\", \"Topic5\", \"Topic5\", \"Topic5\", \"Topic5\", \"Topic5\", \"Topic5\", \"Topic5\", \"Topic5\", \"Topic5\", \"Topic5\", \"Topic5\", \"Topic5\", \"Topic5\", \"Topic5\", \"Topic5\", \"Topic5\", \"Topic5\", \"Topic5\", \"Topic5\", \"Topic5\", \"Topic5\", \"Topic5\", \"Topic5\", \"Topic5\", \"Topic5\", \"Topic5\", \"Topic5\", \"Topic5\"], \"logprob\": [30.0, 29.0, 28.0, 27.0, 26.0, 25.0, 24.0, 23.0, 22.0, 21.0, 20.0, 19.0, 18.0, 17.0, 16.0, 15.0, 14.0, 13.0, 12.0, 11.0, 10.0, 9.0, 8.0, 7.0, 6.0, 5.0, 4.0, 3.0, 2.0, 1.0, -4.3716, -5.2259, -5.2482, -5.2946, -5.4479, -5.5965, -5.7339, -5.8104, -6.0824, -6.1357, -6.192, -6.2522, -6.3838, -6.3839, -6.4567, -6.4568, -6.4572, -6.5355, -6.5356, -6.5359, -6.621, -6.6214, -6.7147, -6.8177, -6.8178, -6.8179, -6.818, -6.8182, -6.8183, -6.9328, -5.8163, -5.0866, -5.2423, -5.5304, -5.5327, -6.3829, -5.9851, -5.8608, -4.5723, -3.8257, -4.7728, -4.0776, -5.029, -5.513, -4.9032, -4.8663, -5.1041, -5.8301, -5.9127, -5.514, -5.3894, -5.3366, -4.9729, -5.1981, -5.8846, -5.5062, -5.6315, -5.6663, -5.5062, -5.6342, -5.5173, -5.4843, -5.6226, -4.9299, -4.9713, -5.0835, -5.132, -5.1829, -5.2094, -5.2096, -5.2648, -5.3538, -5.418, -5.7719, -5.8202, -5.8202, -5.8203, -5.8204, -5.9245, -5.981, -5.981, -5.9812, -5.9812, -5.9813, -6.0424, -6.1048, -6.173, -6.2456, -6.2456, -6.2461, -6.2462, -6.3244, -6.4105, -4.0367, -4.4403, -4.6616, -4.2439, -5.2098, -5.3845, -4.0523, -5.3839, -4.4138, -5.3268, -4.4041, -4.9044, -5.26, -5.1999, -5.1108, -4.9647, -5.5708, -5.3056, -5.3805, -5.5784, -4.8562, -5.3318, -4.9702, -5.5065, -5.5065, -5.586, -5.672, -5.8175, -5.8176, -5.8709, -5.8711, -5.9274, -5.9874, -5.9876, -5.9876, -6.0512, -6.0512, -6.0513, -6.1192, -6.1193, -6.192, -6.2709, -6.2711, -6.3565, -6.3601, -6.4498, -6.4501, -6.553, -6.5533, -6.5536, -5.2464, -5.1452, -5.7047, -5.0919, -4.913, -4.8337, -4.2889, -5.7821, -5.9623, -5.104, -5.8455, -5.8307, -5.6902, -5.2359, -4.5508, -5.3397, -5.3413, -5.0143, -5.6486, -4.9906, -5.3201, -5.7211, -5.5444, -5.3886, -5.5557, -5.671, -5.5173, -5.6802, -5.6979, -4.5652, -4.7997, -5.027, -5.3216, -5.5093, -5.5095, -5.7941, -5.8507, -5.9108, -5.9744, -6.0423, -6.0425, -6.1153, -6.1944, -6.1946, -6.2797, -6.2798, -6.2801, -6.2802, -6.2802, -6.4766, -6.4769, -6.477, -6.5917, -6.5918, -6.4985, -6.7215, -6.722, -6.8711, -6.8715, -3.9909, -5.365, -4.6828, -5.2051, -5.0089, -5.9823, -5.9869, -5.0485, -5.6629, -5.0542, -5.8034, -5.4255, -4.8048, -5.5371, -5.6587, -5.1677, -5.5939, -5.2449, -4.5556, -5.4499, -5.5284, -5.5381, -5.0094, -5.4113, -5.3982, -5.6084, -5.6411, -4.1017, -5.1955, -5.2268, -5.2932, -5.7127, -5.7661, -5.8227, -5.8823, -6.014, -6.014, -6.0142, -6.0145, -6.0873, -6.0873, -6.0876, -6.1658, -6.1663, -6.2513, -6.2513, -6.345, -6.3453, -6.3454, -6.448, -6.4483, -6.4485, -6.4485, -6.4488, -6.5636, -6.5637, -6.6933, -5.7264, -4.9104, -6.1005, -5.7237, -5.4367, -5.4171, -5.9496, -4.6667, -5.2191, -5.7754, -6.013, -5.5111, -5.6785, -5.7067, -4.9737, -4.3874, -4.8392, -5.0362, -5.651, -5.0481, -5.2742, -5.4074, -5.1802, -5.7652, -5.6377, -5.5996, -5.1995, -5.6212, -5.6642, -5.579, -5.7102], \"loglift\": [30.0, 29.0, 28.0, 27.0, 26.0, 25.0, 24.0, 23.0, 22.0, 21.0, 20.0, 19.0, 18.0, 17.0, 16.0, 15.0, 14.0, 13.0, 12.0, 11.0, 10.0, 9.0, 8.0, 7.0, 6.0, 5.0, 4.0, 3.0, 2.0, 1.0, 1.3718, 1.3618, 1.3614, 1.3605, 1.3575, 1.3541, 1.3502, 1.3479, 1.3383, 1.3363, 1.334, 1.3311, 1.3245, 1.3245, 1.3207, 1.3206, 1.3202, 1.316, 1.3159, 1.3157, 1.3105, 1.3102, 1.3039, 1.2962, 1.2961, 1.296, 1.296, 1.2958, 1.2957, 1.2865, 1.2682, 1.2525, 1.2422, 1.1973, 1.195, 1.261, 1.1733, 1.1544, 0.9391, 0.7984, 0.9533, 0.7829, 0.9813, 1.075, 0.8694, 0.8235, 0.8938, 1.1213, 1.1365, 0.9714, 0.9161, 0.8902, 0.6319, 0.3916, 1.0979, 0.5422, 0.7258, 0.7256, 0.2476, 0.5201, -0.0968, -0.4416, -0.2293, 1.5757, 1.5751, 1.573, 1.5721, 1.5711, 1.5706, 1.5705, 1.5693, 1.5673, 1.5656, 1.5547, 1.553, 1.553, 1.5529, 1.5528, 1.5487, 1.5464, 1.5463, 1.5462, 1.5462, 1.546, 1.5421, 1.5404, 1.5367, 1.533, 1.533, 1.5326, 1.5326, 1.5283, 1.5224, 1.498, 1.382, 1.3991, 1.3531, 1.4235, 1.4221, 1.1779, 1.3965, 1.0067, 1.2193, 0.6386, 0.8221, 1.0627, 0.9547, 0.7528, 0.5468, 1.1831, 0.6576, 0.6174, 0.5487, 1.6286, 1.6191, 1.6178, 1.6143, 1.6143, 1.6118, 1.6091, 1.6034, 1.6034, 1.6014, 1.6012, 1.599, 1.5961, 1.596, 1.596, 1.593, 1.593, 1.5929, 1.5895, 1.5894, 1.5857, 1.5809, 1.5808, 1.5754, 1.5718, 1.5691, 1.5689, 1.5612, 1.561, 1.5607, 1.5071, 1.4428, 1.4541, 1.3365, 1.299, 1.2798, 1.1044, 1.4156, 1.4591, 1.0232, 1.3931, 1.3678, 1.2299, 0.8374, 0.0733, 0.8145, 0.7192, 0.2159, 1.0795, -0.1301, 0.4337, 1.1697, 0.7298, 0.2162, 0.671, 0.815, -0.4746, 0.6254, 0.1657, 1.7115, 1.7081, 1.704, 1.6971, 1.6917, 1.6915, 1.6813, 1.6788, 1.6759, 1.6728, 1.6695, 1.6693, 1.6654, 1.6605, 1.6603, 1.6552, 1.6551, 1.6549, 1.6548, 1.6548, 1.6406, 1.6404, 1.6403, 1.6309, 1.6308, 1.6188, 1.6188, 1.6184, 1.6027, 1.6024, 1.5386, 1.5579, 1.5318, 1.5006, 1.4212, 1.5473, 1.5427, 1.3459, 1.4611, 1.3044, 1.4803, 1.3054, 1.0288, 1.3265, 1.3597, 1.0026, 1.2703, 0.9542, 0.0685, 0.9982, 0.9994, 0.9683, 0.0333, 0.6371, 0.5098, 0.5051, 0.324, 1.7433, 1.7277, 1.7271, 1.7253, 1.7112, 1.7092, 1.7066, 1.7041, 1.6975, 1.6975, 1.6974, 1.6972, 1.6933, 1.6933, 1.693, 1.6889, 1.6885, 1.6834, 1.6834, 1.6767, 1.6765, 1.6763, 1.669, 1.6687, 1.6686, 1.6686, 1.6683, 1.6588, 1.6587, 1.6469, 1.6023, 1.4835, 1.611, 1.5601, 1.5166, 1.5059, 1.5798, 1.2983, 1.3495, 1.5084, 1.5732, 1.324, 1.373, 1.3804, 0.9343, 0.4731, 0.7505, 0.807, 1.3023, 0.6779, 0.8397, 0.7199, 0.2131, 1.2534, 0.974, 0.8878, -0.1568, 0.6861, 0.8636, -0.0495, -0.2897]}, \"token.table\": {\"Topic\": [5, 5, 3, 2, 3, 5, 4, 2, 4, 2, 3, 3, 1, 2, 3, 4, 1, 3, 5, 1, 3, 5, 1, 1, 1, 5, 3, 2, 1, 2, 3, 5, 4, 5, 2, 3, 4, 3, 3, 1, 4, 3, 5, 1, 2, 4, 1, 1, 1, 1, 2, 3, 4, 5, 3, 2, 4, 5, 1, 2, 3, 5, 1, 3, 4, 5, 2, 1, 2, 5, 3, 5, 5, 1, 3, 5, 3, 5, 4, 5, 3, 4, 1, 1, 2, 4, 1, 2, 3, 4, 4, 5, 3, 4, 4, 1, 2, 4, 5, 3, 1, 3, 1, 2, 3, 4, 1, 3, 4, 4, 2, 5, 3, 4, 4, 1, 1, 2, 5, 1, 2, 4, 5, 1, 4, 1, 3, 1, 3, 4, 2, 1, 1, 2, 3, 5, 2, 3, 1, 2, 4, 5, 1, 1, 5, 1, 2, 4, 1, 2, 2, 1, 3, 5, 2, 4, 4, 4, 2, 4, 5, 1, 4, 5, 1, 3, 4, 5, 3, 1, 3, 2, 1, 2, 4, 5, 1, 2, 3, 4, 5, 2, 3, 5, 4, 5, 1, 1, 5, 1, 4, 1, 4, 5, 5, 1, 5, 4, 2, 2, 1, 1, 5, 4, 1, 2, 2, 5, 5, 3, 4, 4, 4, 5, 5, 5, 1, 2, 5, 1, 4, 2, 1, 2, 3, 5, 1, 3, 4, 1, 3, 2, 3, 4, 5, 3, 2, 1, 2, 4, 5, 5, 2, 4, 2, 4, 5, 2, 1, 2, 3, 4, 5, 1, 2, 3, 5, 1, 4, 5, 1, 3, 4, 5, 1, 2, 1, 2, 5, 1, 4, 1, 2, 3, 5, 1, 3, 4, 5, 1, 3, 1, 2, 1, 5, 2, 4, 1, 2, 4, 1, 3, 1, 2, 3, 1, 3, 1, 3, 1, 3, 4, 5, 1, 3, 5, 1, 2, 4, 5, 3, 5, 3, 4, 5, 2, 1, 4, 5, 1, 2, 3, 4, 2, 1, 2, 3, 3, 5, 5, 1, 2, 2, 4, 2, 4, 1, 2, 5, 1, 3, 3, 5, 4, 1, 5, 3, 4, 5, 1, 2, 1, 3, 1, 2, 3, 4, 5, 4, 3, 3, 4, 1, 2, 3, 4, 4, 5, 5, 3, 1, 3, 1, 2, 3, 4, 1, 3, 4, 4, 3, 1, 3, 4, 5, 1, 2, 4, 3, 4, 3, 5, 1, 2, 3, 4, 5, 1, 3, 1, 1, 3, 5, 5, 3, 4, 1, 1, 3, 4, 1, 2, 3, 5, 1, 2, 1, 5, 2, 1, 2, 3, 5, 1, 2, 3, 5, 3, 3, 2, 5, 1, 2, 4, 5, 4, 1, 2, 3, 4, 1, 2, 4, 1, 2, 3, 5, 3, 1, 2, 3, 4, 4, 1, 2, 3, 4, 5, 2, 3], \"Freq\": [0.9004483073097771, 0.9004487432393479, 0.9795807599983722, 0.9753288881369685, 0.15655122326843632, 0.8349398574316603, 0.960733098175749, 0.9320065505266846, 0.9607266145883833, 0.9663410263646188, 0.9727274835726604, 0.9577546699231186, 0.18428083904155648, 0.2917779951491311, 0.3992751512567057, 0.12285389269437098, 0.897682049685867, 0.920934064508675, 0.9605592523891845, 0.5503311729780536, 0.1711113731108234, 0.27747790234187575, 0.9206316423653881, 0.9575699799440662, 0.6484531304317095, 0.3407126617522541, 0.940625932791124, 0.9735540412288186, 0.06143895649012857, 0.6758285213914142, 0.21503634771545, 0.030719478245064286, 0.9006687057137246, 0.9338916441304733, 0.6626828686893682, 0.24097558861431573, 0.09371272890556723, 0.9726242355980513, 0.8979950865359807, 0.7859201457923575, 0.22454861308353072, 0.14121062148814684, 0.8472637289288809, 0.16894431951438169, 0.8293630230706011, 0.9757245168175779, 0.9838955984714179, 0.9309454510139368, 0.92062740835212, 0.598732768284995, 0.10362682528009529, 0.1381691003734604, 0.046056366791153464, 0.10362682528009529, 0.9577727421213311, 0.2143388103003162, 0.08573552412012649, 0.6858841929610119, 0.6473499297856133, 0.3547122902934868, 0.766685848595338, 0.23958932768604313, 0.6717128493278108, 0.16062698570882433, 0.16062698570882433, 0.9605437601751912, 0.9804100582204317, 0.1815049268852975, 0.8107220067543289, 0.9338594193615621, 0.08003186387593347, 0.8803505026352682, 0.9605326065467029, 0.3421914625929474, 0.45107056432706705, 0.21775820346823926, 0.7321000703943974, 0.24403335679813246, 0.7561247604463126, 0.2223896354253861, 0.9857897488961698, 0.990770971679972, 0.9307897078417469, 0.08168693019955513, 0.9076325577728347, 0.9339939826810812, 0.14331593523126201, 0.017914491903907752, 0.017914491903907752, 0.8240666275797566, 0.3602462991212927, 0.6004104985354878, 0.6962521352451452, 0.2914543821956422, 0.9006290478978195, 0.9448061353142865, 0.9415313155822704, 0.13342157028379, 0.867240206844635, 0.9451168013283369, 0.9576051732924379, 0.9727383112228111, 0.43991635070884966, 0.1668648226826671, 0.060678117339151676, 0.3337296453653342, 0.2993690671299522, 0.5688012275469092, 0.11974762685198087, 0.9183477695357075, 0.941614639115545, 0.9236240964587316, 0.9859167086702831, 0.9005812850565151, 0.9006481176284845, 0.9575315425845825, 0.5133855727556698, 0.2780838519093211, 0.19251958978337616, 0.7286333778315274, 0.2602262063684026, 0.8006313455023079, 0.13343855758371798, 0.974008692934837, 0.8577626575310389, 0.1995153294659422, 0.7980613178637688, 0.8285800117943856, 0.18412889150986345, 0.8406405108914122, 0.9831623005668484, 0.9575098697445823, 0.17111639234020745, 0.28519398723367906, 0.3992715821271507, 0.1330905273757169, 0.9320178386535235, 0.9888939232893696, 0.25290878564984104, 0.4618334346649271, 0.12095637574557613, 0.1649405123803311, 0.9856021534260186, 0.8724349122665649, 0.10144592003099592, 0.12412528313131566, 0.2068754718855261, 0.6620015100336835, 0.8378436377630569, 0.1496149353148316, 0.9775028159740746, 0.12760785000956834, 0.20417256001530934, 0.6635608200497554, 0.9217795677750824, 0.9607208439142672, 0.90071321353791, 0.9435228548501678, 0.09801061863354149, 0.49005309316770745, 0.4165451291925513, 0.2636757098846734, 0.3032270663673744, 0.43506492130971114, 0.5165579339945723, 0.06198695207934867, 0.12397390415869734, 0.2892724430369605, 0.8979246899245139, 0.3264497271785408, 0.6528994543570816, 0.9320562966412814, 0.04002130684079905, 0.0800426136815981, 0.6803622162935838, 0.20010653420399524, 0.3144677957215392, 0.0393084744651924, 0.11792542339557721, 0.1572338978607696, 0.35377627018673163, 0.05218176719014901, 0.15654530157044702, 0.7827265078522352, 0.6862129596848602, 0.30021816986212635, 0.95745651845014, 0.9574231296073678, 0.9235431379505368, 0.1455038683376993, 0.8366472429417708, 0.07275765877848012, 0.14551531755696023, 0.7639554171740413, 0.9605568313376067, 0.8976155708594215, 0.9434258500538832, 0.9237657287876786, 0.980378741799818, 0.9586977984858629, 0.9403344988675147, 0.9665877178381576, 0.9004770956432787, 0.8576922197388762, 0.6202446848420495, 0.37503166990449505, 0.2357447559416301, 0.7715282921726077, 0.9755514140687022, 0.9576930197908256, 0.9606856267114017, 0.960683734202047, 0.8307014851396027, 0.16252855144035705, 0.9479155813857183, 0.9605746402579936, 0.9575189922060967, 0.9320276866142412, 0.9605733690238141, 0.8978128121990827, 0.08550598211419835, 0.9825480643194461, 0.13614159629210845, 0.8440778970110724, 0.9451390206604042, 0.982390403880657, 0.034278505082664085, 0.2742280406613127, 0.6855701016532817, 0.02602289164567578, 0.9628469908900039, 0.13815239312188277, 0.8289143587312966, 0.6604803281508538, 0.3302401640754269, 0.9578856871931832, 0.9775344256339771, 0.6575680309824442, 0.11742286267543646, 0.07045371760526188, 0.14090743521052376, 0.8731847304045727, 0.8201648437945415, 0.15772400842202722, 0.17150366746944795, 0.6517139363839022, 0.20580440096333752, 0.9700355774890311, 0.4770218184210188, 0.18496764387753792, 0.2433784787862341, 0.09735139151449364, 0.9338760224604229, 0.27536495377685777, 0.17817732303208444, 0.14578144611715999, 0.40494846143655555, 0.29134607847027555, 0.4798641292451597, 0.2227940600066813, 0.23982066206942285, 0.1865271816095511, 0.10658696091974348, 0.45299458390890984, 0.9206839778889737, 0.9460302851922883, 0.9722785491812671, 0.9936744491993895, 0.9605109447848004, 0.20872808587775427, 0.7827303220415784, 0.27182691004373455, 0.13591345502186727, 0.19769229821362513, 0.38302882778889874, 0.5586585751325858, 0.2081277044611594, 0.18987088828035595, 0.0401649955977676, 0.6165172876022224, 0.38079008940137266, 0.3991983274975105, 0.5987974912462657, 0.1874965029654546, 0.7874853124549093, 0.9736613209323436, 0.9006927743651492, 0.271510354567578, 0.24888449168694649, 0.47514312049326146, 0.7721215191405102, 0.23163645574215308, 0.22459069215044514, 0.6987265978013849, 0.07486356405014838, 0.7841321858875163, 0.20635057523355693, 0.18215259267562234, 0.8066757675634704, 0.37399147082809364, 0.1342533485023926, 0.12466382360936455, 0.3644019459350656, 0.19699083863189082, 0.5830928823503968, 0.21275010572244207, 0.09413184228523956, 0.11766480285654946, 0.37652736914095825, 0.42359329028357806, 0.3331943448943734, 0.6663886897887468, 0.9754029210312872, 0.9007007694117429, 0.873235763836087, 0.9320464194242501, 0.11165695726885518, 0.25122815385492414, 0.6280703846373104, 0.09400459225764306, 0.11750574032205383, 0.4465218132238045, 0.35251722096616145, 0.9700747890263514, 0.9403576448555548, 0.8419163502934774, 0.1295255923528427, 0.8597358348317651, 0.12281940497596644, 0.9605240526080607, 0.20286688970854466, 0.7921469026714602, 0.9700353031722443, 0.960759027996772, 0.941599049517801, 0.93401907891803, 0.9952851503145911, 0.9164070422894476, 0.9604753623494238, 0.9702500508519974, 0.9754110183406667, 0.28956980124446996, 0.703240945879427, 0.9607665921368507, 0.979261781700547, 0.960505078116893, 0.9859333810339149, 0.10916286638982126, 0.87330293111857, 0.9403996096764144, 0.9700519073257089, 0.8681788694818909, 0.11732146884890418, 0.3204428486517573, 0.3901043374890959, 0.06966148883733855, 0.08359378660480626, 0.1253906799072094, 0.9480605609176302, 0.931114370875394, 0.9209530348846233, 0.984767314567237, 0.26260362390990616, 0.34466725638175183, 0.19695271793242963, 0.19695271793242963, 0.8673544011644162, 0.1334391386406794, 0.9433958260953337, 0.9795512912792926, 0.6278124206810758, 0.3531444866331051, 0.18916765368041452, 0.4287800150089396, 0.22700118441649741, 0.1513341229443316, 0.421615924661963, 0.4384805616484415, 0.13491709589182815, 0.9340099079782753, 0.9578429308835417, 0.25701170570291026, 0.11014787387267584, 0.5017847587533011, 0.1346251791777149, 0.8977225231533711, 0.07481021026278092, 0.9237930295064738, 0.17564687624388037, 0.7904109430974616, 0.9577931439793096, 0.9181446687266902, 0.2469276399795034, 0.08818844284982265, 0.08818844284982265, 0.45857990281907773, 0.1234638199897517, 0.7978689261510905, 0.19946723153777263, 0.9830037492271555, 0.19153352047803732, 0.8140174620316586, 0.8732315674156892, 0.9902615014998032, 0.24443936759265467, 0.733318102777964, 0.9885214422104088, 0.17613924259121747, 0.6341012733283828, 0.17613924259121747, 0.09849336982587455, 0.016415561637645758, 0.54171353404231, 0.36114235602820666, 0.9575453903792134, 0.9652620290482649, 0.9574366165089331, 0.9605702239457071, 0.8988218735614036, 0.8378560833499795, 0.1496171577410678, 0.8383956449894217, 0.11977080642706024, 0.32767825585846216, 0.22598500404031877, 0.2937805052524144, 0.1468902526262072, 0.9727314536897097, 0.9577275688865519, 0.3374645548226383, 0.6374330479983168, 0.22672325495171777, 0.558710878273876, 0.08097259105418492, 0.12955614568669588, 0.960747185367949, 0.2530568699715844, 0.5229841979412744, 0.15183412198295063, 0.05061137399431688, 0.2398374258309558, 0.28780491099714695, 0.4796748516619116, 0.17867100679246237, 0.10720260407547742, 0.7146840271698495, 0.9433907097803303, 0.9859219120456099, 0.5723574250355146, 0.21198423149463502, 0.042396846298927, 0.169587385195708, 0.9912446232341074, 0.1609332543267823, 0.38291015684648205, 0.12208729638583485, 0.18313094457875229, 0.14983440920079732, 0.9415245541308757, 0.9577344237172202], \"Term\": [\"12/12/12\", \"2/22/2021\", \"75-year\", \"abolish\", \"absolutely\", \"absolutely\", \"accord\", \"accuse\", \"alive\", \"allege\", \"american\", \"angle\", \"another\", \"another\", \"another\", \"another\", \"anybody\", \"apprehend\", \"arm\", \"arrest\", \"arrest\", \"arrest\", \"assets\", \"assume\", \"attack\", \"attack\", \"bang\", \"basis\", \"become\", \"become\", \"become\", \"become\", \"behavior\", \"bitch\", \"black\", \"black\", \"black\", \"blacklivesmatter\", \"bottle\", \"break\", \"break\", \"brutal\", \"brutal\", \"brutality\", \"brutality\", \"budget\", \"bullet\", \"burn\", \"bypass\", \"call\", \"call\", \"call\", \"call\", \"call\", \"canister\", \"change\", \"change\", \"change\", \"charge\", \"charge\", \"chase\", \"chase\", \"chief\", \"chief\", \"chief\", \"choice\", \"choke\", \"could\", \"could\", \"council\", \"course\", \"course\", \"crazy\", \"crime\", \"crime\", \"crime\", \"criminal\", \"criminal\", \"crisis\", \"crisis\", \"crowd\", \"custody\", \"database\", \"death\", \"death\", \"decision\", \"defund\", \"defund\", \"defund\", \"defund\", \"defunding\", \"defunding\", \"department\", \"department\", \"device\", \"digital\", \"direct\", \"disgust\", \"disgust\", \"earlier\", \"election\", \"end\", \"every\", \"every\", \"every\", \"every\", \"everyone\", \"everyone\", \"everyone\", \"exactly\", \"example\", \"except\", \"expect\", \"expectant\", \"explode\", \"facing\", \"family\", \"family\", \"family\", \"fatal\", \"fatal\", \"father\", \"father\", \"fault\", \"fear\", \"federal\", \"federal\", \"female\", \"female\", \"film\", \"find\", \"firearm\", \"first\", \"first\", \"first\", \"first\", \"flag\", \"flash\", \"force\", \"force\", \"force\", \"force\", \"forget\", \"former\", \"former\", \"found\", \"found\", \"found\", \"friend\", \"friend\", \"frisk\", \"fucking\", \"fucking\", \"fucking\", \"fully\", \"funding\", \"funny\", \"gender\", \"getting\", \"getting\", \"getting\", \"going\", \"going\", \"going\", \"government\", \"government\", \"government\", \"government\", \"grenade\", \"group\", \"group\", \"grow\", \"guess\", \"guess\", \"guess\", \"guess\", \"happen\", \"happen\", \"happen\", \"happen\", \"happen\", \"harass\", \"harass\", \"harass\", \"health\", \"health\", \"heart\", \"horny\", \"horrifically\", \"hours\", \"hours\", \"house\", \"house\", \"house\", \"ignore\", \"inaction\", \"incident\", \"increase\", \"independent\", \"inject\", \"innovation\", \"inside\", \"instant\", \"instructor\", \"investigation\", \"investigation\", \"involve\", \"involve\", \"journalist\", \"justice\", \"justify\", \"kidnapping\", \"kill\", \"kill\", \"kneel\", \"know\", \"label\", \"lead\", \"leading\", \"least\", \"least\", \"legal\", \"life\", \"life\", \"light\", \"little\", \"local\", \"local\", \"local\", \"look\", \"look\", \"mayor\", \"mayor\", \"mental\", \"mental\", \"mention\", \"might\", \"military\", \"military\", \"military\", \"military\", \"mind\", \"miss\", \"miss\", \"money\", \"money\", \"money\", \"motel\", \"murder\", \"murder\", \"murder\", \"murder\", \"neighbor\", \"never\", \"never\", \"never\", \"never\", \"night\", \"night\", \"night\", \"nothing\", \"nothing\", \"nothing\", \"nothing\", \"obviously\", \"online\", \"overall\", \"paramedic\", \"participate\", \"party\", \"party\", \"peaceful\", \"peaceful\", \"peaceful\", \"peaceful\", \"people\", \"people\", \"people\", \"people\", \"pepper\", \"pepper\", \"person\", \"person\", \"place\", \"place\", \"player\", \"playing\", \"please\", \"please\", \"please\", \"press\", \"press\", \"probe\", \"probe\", \"probe\", \"problem\", \"problem\", \"protect\", \"protect\", \"protest\", \"protest\", \"protest\", \"protest\", \"protester\", \"protester\", \"protester\", \"public\", \"public\", \"public\", \"public\", \"pull\", \"pull\", \"push\", \"putting\", \"raise\", \"rape\", \"really\", \"really\", \"really\", \"reason\", \"reason\", \"reason\", \"reason\", \"receive\", \"recount\", \"release\", \"release\", \"remember\", \"remember\", \"remind\", \"report\", \"report\", \"rescue\", \"respond\", \"restrain\", \"reveal\", \"right\", \"rioter\", \"rollerblade\", \"rubber\", \"running\", \"school\", \"school\", \"security\", \"seize\", \"servant\", \"serve\", \"service\", \"service\", \"share\", \"shock\", \"shoot\", \"shoot\", \"shooting\", \"shooting\", \"shooting\", \"shooting\", \"shooting\", \"shootout\", \"sidewalk\", \"simply\", \"social\", \"someone\", \"someone\", \"someone\", \"someone\", \"speak\", \"speak\", \"spend\", \"spot\", \"spray\", \"spray\", \"state\", \"state\", \"state\", \"state\", \"station\", \"station\", \"station\", \"stealing\", \"steps\", \"still\", \"still\", \"still\", \"still\", \"suffer\", \"suffer\", \"suicide\", \"support\", \"support\", \"surly\", \"surround\", \"suspect\", \"suspect\", \"suspect\", \"suspect\", \"suspect\", \"take\", \"take\", \"talking\", \"teargas\", \"teargas\", \"teens\", \"think\", \"thought\", \"thought\", \"threaten\", \"times\", \"times\", \"times\", \"today\", \"today\", \"today\", \"today\", \"totally\", \"towards\", \"track\", \"training\", \"trash\", \"treatment\", \"treatment\", \"truck\", \"truck\", \"try\", \"try\", \"try\", \"try\", \"tryna\", \"uniform\", \"union\", \"union\", \"video\", \"video\", \"video\", \"video\", \"visit\", \"walking\", \"walking\", \"walking\", \"walking\", \"want\", \"want\", \"want\", \"watch\", \"watch\", \"watch\", \"within\", \"witness\", \"woman\", \"woman\", \"woman\", \"woman\", \"worker\", \"would\", \"would\", \"would\", \"would\", \"would\", \"wrongdoing\", \"yesterday\"]}, \"R\": 30, \"lambda.step\": 0.01, \"plot.opts\": {\"xlab\": \"PC1\", \"ylab\": \"PC2\"}, \"topic.order\": [5, 4, 1, 2, 3]};\n",
       "\n",
       "function LDAvis_load_lib(url, callback){\n",
       "  var s = document.createElement('script');\n",
       "  s.src = url;\n",
       "  s.async = true;\n",
       "  s.onreadystatechange = s.onload = callback;\n",
       "  s.onerror = function(){console.warn(\"failed to load library \" + url);};\n",
       "  document.getElementsByTagName(\"head\")[0].appendChild(s);\n",
       "}\n",
       "\n",
       "if(typeof(LDAvis) !== \"undefined\"){\n",
       "   // already loaded: just create the visualization\n",
       "   !function(LDAvis){\n",
       "       new LDAvis(\"#\" + \"ldavis_el596381404719864521764515172401\", ldavis_el596381404719864521764515172401_data);\n",
       "   }(LDAvis);\n",
       "}else if(typeof define === \"function\" && define.amd){\n",
       "   // require.js is available: use it to load d3/LDAvis\n",
       "   require.config({paths: {d3: \"https://d3js.org/d3.v5\"}});\n",
       "   require([\"d3\"], function(d3){\n",
       "      window.d3 = d3;\n",
       "      LDAvis_load_lib(\"https://cdn.jsdelivr.net/gh/bmabey/pyLDAvis@3.2.2/pyLDAvis/js/ldavis.v3.0.0.js\", function(){\n",
       "        new LDAvis(\"#\" + \"ldavis_el596381404719864521764515172401\", ldavis_el596381404719864521764515172401_data);\n",
       "      });\n",
       "    });\n",
       "}else{\n",
       "    // require.js not available: dynamically load d3 & LDAvis\n",
       "    LDAvis_load_lib(\"https://d3js.org/d3.v5.js\", function(){\n",
       "         LDAvis_load_lib(\"https://cdn.jsdelivr.net/gh/bmabey/pyLDAvis@3.2.2/pyLDAvis/js/ldavis.v3.0.0.js\", function(){\n",
       "                 new LDAvis(\"#\" + \"ldavis_el596381404719864521764515172401\", ldavis_el596381404719864521764515172401_data);\n",
       "            })\n",
       "         });\n",
       "}\n",
       "</script>"
      ],
      "text/plain": [
       "PreparedData(topic_coordinates=              x         y  topics  cluster       Freq\n",
       "topic                                                \n",
       "4      0.023380 -0.080012       1        1  25.173103\n",
       "3      0.218561  0.052250       2        1  20.354443\n",
       "0     -0.050008 -0.167875       3        1  19.311280\n",
       "1     -0.080424  0.124533       4        1  17.828035\n",
       "2     -0.111509  0.071105       5        1  17.333140, topic_info=         Term        Freq       Total Category  logprob  loglift\n",
       "100     death  110.000000  110.000000  Default  30.0000  30.0000\n",
       "1433     kill  110.000000  110.000000  Default  29.0000  29.0000\n",
       "92      think   80.000000   80.000000  Default  28.0000  28.0000\n",
       "357     right   89.000000   89.000000  Default  27.0000  27.0000\n",
       "0      arrest  216.000000  216.000000  Default  26.0000  26.0000\n",
       "...       ...         ...         ...      ...      ...      ...\n",
       "239     would   26.701535  180.198929   Topic5  -5.1995  -0.1568\n",
       "114    happen   17.514491   50.879614   Topic5  -5.6212   0.6861\n",
       "272   getting   16.776564   40.811904   Topic5  -5.6642   0.8636\n",
       "1433     kill   18.269976  110.749772   Topic5  -5.5790  -0.0495\n",
       "28      video   16.022405  123.498580   Topic5  -5.7102  -0.2897\n",
       "\n",
       "[320 rows x 6 columns], token_table=      Topic      Freq        Term\n",
       "term                             \n",
       "2671      5  0.900448    12/12/12\n",
       "3942      5  0.900449   2/22/2021\n",
       "2730      3  0.979581     75-year\n",
       "1518      2  0.975329     abolish\n",
       "251       3  0.156551  absolutely\n",
       "...     ...       ...         ...\n",
       "239       3  0.122087       would\n",
       "239       4  0.183131       would\n",
       "239       5  0.149834       would\n",
       "2533      2  0.941525  wrongdoing\n",
       "143       3  0.957734   yesterday\n",
       "\n",
       "[460 rows x 3 columns], R=30, lambda_step=0.01, plot_opts={'xlab': 'PC1', 'ylab': 'PC2'}, topic_order=[5, 4, 1, 2, 3])"
      ]
     },
     "execution_count": 147,
     "metadata": {},
     "output_type": "execute_result"
    }
   ],
   "source": [
    "pyLDAvis.gensim.prepare(lda, corpus, id2word)"
   ]
  },
  {
   "cell_type": "code",
   "execution_count": null,
   "metadata": {},
   "outputs": [],
   "source": []
  }
 ],
 "metadata": {
  "kernelspec": {
   "display_name": "Python 3",
   "language": "python",
   "name": "python3"
  },
  "language_info": {
   "codemirror_mode": {
    "name": "ipython",
    "version": 3
   },
   "file_extension": ".py",
   "mimetype": "text/x-python",
   "name": "python",
   "nbconvert_exporter": "python",
   "pygments_lexer": "ipython3",
   "version": "3.9.0"
  }
 },
 "nbformat": 4,
 "nbformat_minor": 4
}