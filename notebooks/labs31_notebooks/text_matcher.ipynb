{
 "cells": [
  {
   "cell_type": "code",
   "execution_count": 1,
   "metadata": {},
   "outputs": [],
   "source": [
    "from sklearn.feature_extraction.text import TfidfVectorizer\n",
    "from sklearn.neighbors import NearestNeighbors\n",
    "import spacy\n",
    "import en_core_web_sm\n",
    "import pandas as pd"
   ]
  },
  {
   "cell_type": "code",
   "execution_count": 2,
   "metadata": {},
   "outputs": [],
   "source": [
    "ranked_reports = {\n",
    "    \"Rank 1 - Police Presence\": [\n",
    "        \"policeman, policewoman, law enforcement\",\n",
    "        \"police officer, cop, five-o, fuzz, DHS\",\n",
    "    ],\n",
    "    \"Rank 2 - Empty-hand\": [\n",
    "        \"policeman, policewoman, law enforcement\",\n",
    "        \"police officer, cop, five-o, fuzz, DHS\",\n",
    "        \"pushed and shoved with shields\",\n",
    "        \"grabs, holds and joint locks\",\n",
    "        \"punch and kick\",\n",
    "    ],\n",
    "    \"Rank 3 - Blunt Force\": [\n",
    "        \"policeman, policewoman, law enforcement\",\n",
    "        \"police officer, cop, five-o, fuzz, DHS\",\n",
    "        \"rubber bullets\",\n",
    "        \"riot rounds\",\n",
    "        \"batons\",\n",
    "    ],\n",
    "    \"Rank 4 - Chemical & Electric\": [\n",
    "        \"policeman, policewoman, law enforcement\",\n",
    "        \"police officer, cop, five-o, fuzz, DHS\",\n",
    "        \"tear gas\",\n",
    "        \"pepper spray\",\n",
    "        \"flashbangs, stun grenade\",\n",
    "        \"chemical sprays\",\n",
    "        \"Conducted energy devices, CED or tazor\",\n",
    "    ],\n",
    "    \"Rank 5 - Lethal Force\": [\n",
    "        \"policeman, policewoman, law enforcement\",\n",
    "        \"police officer, cop, five-o, fuzz, DHS\",\n",
    "        \"shoot and kill\",\n",
    "        \"open fire\",\n",
    "        \"deadly force\",\n",
    "        \"fatal\",\n",
    "        \"dies\",\n",
    "    ],\n",
    "}"
   ]
  },
  {
   "cell_type": "code",
   "execution_count": 6,
   "metadata": {},
   "outputs": [],
   "source": [
    "ranked_reports1 = {\n",
    "    \"Rank 1 - Police Presence\": [\n",
    "        \"policeman\", \"policewoman\", \"law enforcement\",\n",
    "        \"police officer, cop, five-o, fuzz, DHS\", \n",
    "        \"protester\", \"FPS\", \"officer\",\n",
    "        \"Federal Protective Services\",\n",
    "    ],\n",
    "    \"Rank 2 - Empty-hand\": [\n",
    "        \"policeman\", \"policewoman\", \"law enforcement\",\n",
    "        \"police officer\", \"cop\", \"five-o\", \"fuzz, DHS\",\n",
    "        \"pushed and shoved with shields\", \"officer\",\n",
    "        \"grabs, holds and joint locks\",\n",
    "        \"punch and kick\", \"thrown to the ground\", \"hit\",\n",
    "        \"charge a protester\", \"tackle to the ground\", \n",
    "        \"kneel on\", \"arrest\", \"protester\",\n",
    "        \"FPS\", \"Federal Protective Services\", \"zip-ties\",\n",
    "        \"police chase and attack\", \"kicking him\", \n",
    "        \"threw him to the ground\", \"handcuff him\", \n",
    "        \"kneeling on a protester\", \"pinning down\", \n",
    "        \"tackle\", \"shoved to the ground\", \"violent\",\n",
    "        \"officer shove\"\n",
    "\n",
    "    ],\n",
    "    \"Rank 3 - Blunt Force\": [\n",
    "        \"policeman\", \"policewoman\", \"law enforcement\",\n",
    "        \"police officer\", \"cop\", \"five-o\", \"fuzz\", \"DHS\",\n",
    "        \"rubber bullets\", \"officer\",\n",
    "        \"riot rounds\",\n",
    "        \"batons\", \"blood\", \"hit\", \"arrest\",\n",
    "        \"protester\", \"FPS\", \n",
    "        \"Federal Protective Services\", \n",
    "        \"strike with baton\", \"violent\",\n",
    "\n",
    "\n",
    "    ],\n",
    "    \"Rank 4 - Chemical & Electric\": [\n",
    "        \"policeman\", \"policewoman\", \"law enforcement\",\n",
    "        \"police officer\", \"cop\", \"five-o\", \"fuzz\", \"DHS\",\n",
    "        \"tear gas\", \"officer\",\n",
    "        \"pepper spray\",\n",
    "        \"flashbangs\", \"stun grenade\",\n",
    "        \"chemical sprays\",\n",
    "        \"Conducted energy devices, CED or tazor\",\n",
    "        \"blood\", \"arrest\", \"protester\", \"FPS\", \n",
    "        \"Federal Protective Services\", \"pepper balls\",\n",
    "        \"using munitions on prosters\", \"struck by a round\",\n",
    "        \"fire pepper balls and tear gas\", \n",
    "        \"struck in chest by projectile\", \"violent\", \n",
    "        \"munition\", \"firing a riot gun\", \"paintball gun\",\n",
    "        \"shots are fired\", \"fire explosives\", \n",
    "        \"fire impact munitions\",\n",
    "\n",
    "\n",
    "    ],\n",
    "    \"Rank 5 - Lethal Force\": [\n",
    "        \"policeman\", \"policewoman\", \"law enforcement\",\n",
    "        \"police officer\", \"cop\", \"five-o\", \"fuzz\", \"DHS\",\n",
    "        \"shoot and kill\", \"protester\",\n",
    "        \"open fire\", \"FPS\", \"officer\",\n",
    "        \"Federal Protective Services\",\n",
    "        \"deadly force\", \"fatal\",\n",
    "        \"dies\", 'kill', \"arrest\", \"violent\", \n",
    "        \"shot and killed\",\n",
    "\n",
    "    ],\n",
    "}"
   ]
  },
  {
   "cell_type": "code",
   "execution_count": 3,
   "metadata": {},
   "outputs": [],
   "source": [
    "class TextMatcher:\n",
    "    \"\"\" Generic NLP Text Matching Model \"\"\"\n",
    "\n",
    "    class Tokenizer:\n",
    "        \"\"\" Standard SpaCy Tokenizer \"\"\"\n",
    "        nlp = en_core_web_sm.load()\n",
    "\n",
    "        def __call__(self, text: str) -> list:\n",
    "            return [\n",
    "                token.lemma_ for token in self.nlp(text)\n",
    "                if not token.is_stop and not token.is_punct\n",
    "            ]\n",
    "\n",
    "    def __init__(self, train_data: dict, ngram_range=(1, 3), max_features=8000):\n",
    "        \"\"\" Model training on live data at init \"\"\"\n",
    "        self.lookup = {k: ' '.join(v) for k, v in train_data.items()}\n",
    "        self.name_index = list(self.lookup.keys())\n",
    "        self.tfidf = TfidfVectorizer(\n",
    "            ngram_range=ngram_range,\n",
    "            tokenizer=self.Tokenizer(),\n",
    "            max_features=max_features,\n",
    "        )\n",
    "        self.knn = NearestNeighbors(\n",
    "            n_neighbors=1,\n",
    "            n_jobs=-1,\n",
    "        ).fit(self.tfidf.fit_transform(self.lookup.values()).todense())\n",
    "        self.baseline, _ = self._worker('')\n",
    "\n",
    "    def _worker(self, user_input: str):\n",
    "        \"\"\" Prediction worker method - internal only \"\"\"\n",
    "        vec = self.tfidf.transform([user_input]).todense()\n",
    "        return (itm[0][0] for itm in self.knn.kneighbors(vec))\n",
    "\n",
    "    def __call__(self, user_input: str) -> str:\n",
    "        \"\"\" Callable object for making predictions \"\"\"\n",
    "        dist, idx = self._worker(user_input)\n",
    "        if dist != self.baseline:\n",
    "            return self.name_index[int(idx)]\n",
    "        else:\n",
    "            return 'Rank 0 - No Police Presence'"
   ]
  },
  {
   "cell_type": "code",
   "execution_count": 4,
   "metadata": {},
   "outputs": [],
   "source": [
    "textmatcher = TextMatcher(ranked_reports)"
   ]
  },
  {
   "cell_type": "code",
   "execution_count": 7,
   "metadata": {},
   "outputs": [],
   "source": [
    "textmatcher1 = TextMatcher(ranked_reports1)"
   ]
  },
  {
   "cell_type": "code",
   "execution_count": 12,
   "metadata": {},
   "outputs": [],
   "source": [
    "text = \"\"\"\n",
    "During a protest at which both pro-police and Black Lives Matter protesters were present near West 7th and Lincoln, members of the two protests appear to exchange words in an intersection. Police charge a protester, a 14 year old girl according to the poster, tackle her to the ground, kneel on her and arrest her.\n",
    "\"\"\""
   ]
  },
  {
   "cell_type": "code",
   "execution_count": 13,
   "metadata": {},
   "outputs": [
    {
     "data": {
      "text/plain": [
       "'Rank 1 - Police Presence'"
      ]
     },
     "execution_count": 13,
     "metadata": {},
     "output_type": "execute_result"
    }
   ],
   "source": [
    "textmatcher(text)"
   ]
  },
  {
   "cell_type": "code",
   "execution_count": 14,
   "metadata": {},
   "outputs": [
    {
     "data": {
      "text/plain": [
       "'Rank 2 - Empty-hand'"
      ]
     },
     "execution_count": 14,
     "metadata": {},
     "output_type": "execute_result"
    }
   ],
   "source": [
    "textmatcher1(text)"
   ]
  },
  {
   "cell_type": "code",
   "execution_count": 17,
   "metadata": {},
   "outputs": [],
   "source": [
    "df = pd.read_csv(\"../static/reddit_data.csv\")"
   ]
  },
  {
   "cell_type": "code",
   "execution_count": 18,
   "metadata": {},
   "outputs": [
    {
     "data": {
      "text/html": [
       "<div>\n",
       "<style scoped>\n",
       "    .dataframe tbody tr th:only-of-type {\n",
       "        vertical-align: middle;\n",
       "    }\n",
       "\n",
       "    .dataframe tbody tr th {\n",
       "        vertical-align: top;\n",
       "    }\n",
       "\n",
       "    .dataframe thead th {\n",
       "        text-align: right;\n",
       "    }\n",
       "</style>\n",
       "<table border=\"1\" class=\"dataframe\">\n",
       "  <thead>\n",
       "    <tr style=\"text-align: right;\">\n",
       "      <th></th>\n",
       "      <th>Unnamed: 0</th>\n",
       "      <th>id</th>\n",
       "      <th>dates</th>\n",
       "      <th>added_on</th>\n",
       "      <th>links</th>\n",
       "      <th>case_id</th>\n",
       "      <th>city</th>\n",
       "      <th>state</th>\n",
       "      <th>lat</th>\n",
       "      <th>long</th>\n",
       "      <th>title</th>\n",
       "      <th>description</th>\n",
       "      <th>tags</th>\n",
       "      <th>force_rank</th>\n",
       "    </tr>\n",
       "  </thead>\n",
       "  <tbody>\n",
       "    <tr>\n",
       "      <th>0</th>\n",
       "      <td>0</td>\n",
       "      <td>1</td>\n",
       "      <td>2020-05-30 00:00:00.000000</td>\n",
       "      <td>2021-02-26 20:45:37.445121</td>\n",
       "      <td>['https://www.youtube.com/watch?v=dPTr54DdTdY'...</td>\n",
       "      <td>or-eugene-2</td>\n",
       "      <td>Eugene</td>\n",
       "      <td>Oregon</td>\n",
       "      <td>44.049913</td>\n",
       "      <td>-123.097391</td>\n",
       "      <td>Peaceful protester tear gassed</td>\n",
       "      <td>Footage shows a small cluster of protesters ch...</td>\n",
       "      <td>['less-lethal', 'protester', 'tear-gas']</td>\n",
       "      <td>Rank 4 - Chemical &amp; Electric</td>\n",
       "    </tr>\n",
       "    <tr>\n",
       "      <th>1</th>\n",
       "      <td>1</td>\n",
       "      <td>2</td>\n",
       "      <td>2020-05-30 00:00:00.000000</td>\n",
       "      <td>2021-02-26 20:45:37.446934</td>\n",
       "      <td>['https://twitter.com/IwriteOK/status/12669077...</td>\n",
       "      <td>or-portland-1</td>\n",
       "      <td>Portland</td>\n",
       "      <td>Oregon</td>\n",
       "      <td>45.515586</td>\n",
       "      <td>-122.676994</td>\n",
       "      <td>Police violently break up peaceful protest</td>\n",
       "      <td>The Police try to break up the peaceful protes...</td>\n",
       "      <td>['baton', 'beat', 'protester', 'strike']</td>\n",
       "      <td>Rank 1 - Police Presence</td>\n",
       "    </tr>\n",
       "    <tr>\n",
       "      <th>2</th>\n",
       "      <td>2</td>\n",
       "      <td>3</td>\n",
       "      <td>2020-05-30 00:00:00.000000</td>\n",
       "      <td>2021-02-26 20:45:37.447560</td>\n",
       "      <td>['https://www.youtube.com/watch?v=01oWE24O9Zw&amp;...</td>\n",
       "      <td>or-portland-2</td>\n",
       "      <td>Portland</td>\n",
       "      <td>Oregon</td>\n",
       "      <td>45.515468</td>\n",
       "      <td>-122.676571</td>\n",
       "      <td>Officer pepper-sprays protester</td>\n",
       "      <td>An officer shoves and pepper-sprays a proteste...</td>\n",
       "      <td>['less-lethal', 'pepper-spray', 'protester', '...</td>\n",
       "      <td>Rank 4 - Chemical &amp; Electric</td>\n",
       "    </tr>\n",
       "    <tr>\n",
       "      <th>3</th>\n",
       "      <td>3</td>\n",
       "      <td>4</td>\n",
       "      <td>2020-05-31 00:00:00.000000</td>\n",
       "      <td>2021-02-26 20:45:37.448138</td>\n",
       "      <td>['https://www.youtube.com/watch?v=R7fqWI41vQY'...</td>\n",
       "      <td>or-eugene-3</td>\n",
       "      <td>Eugene</td>\n",
       "      <td>Oregon</td>\n",
       "      <td>44.044728</td>\n",
       "      <td>-123.079238</td>\n",
       "      <td>Reporter shot with tear gas canister</td>\n",
       "      <td>Footage shows police giving curfew dispersal o...</td>\n",
       "      <td>['journalist', 'less-lethal', 'rubber-bullet',...</td>\n",
       "      <td>Rank 4 - Chemical &amp; Electric</td>\n",
       "    </tr>\n",
       "    <tr>\n",
       "      <th>4</th>\n",
       "      <td>4</td>\n",
       "      <td>5</td>\n",
       "      <td>2020-06-01 00:00:00.000000</td>\n",
       "      <td>2021-02-26 20:45:37.448824</td>\n",
       "      <td>['https://www.reddit.com/r/Eugene/comments/gur...</td>\n",
       "      <td>or-eugene-1</td>\n",
       "      <td>Eugene</td>\n",
       "      <td>Oregon</td>\n",
       "      <td>0.000000</td>\n",
       "      <td>0.000000</td>\n",
       "      <td>Officer shoots projectile from moving vehicle</td>\n",
       "      <td>An officer shoots a projectile out of a moving...</td>\n",
       "      <td>['less-lethal', 'projectile', 'protester', 'sh...</td>\n",
       "      <td>Rank 5 - Lethal Force</td>\n",
       "    </tr>\n",
       "  </tbody>\n",
       "</table>\n",
       "</div>"
      ],
      "text/plain": [
       "   Unnamed: 0  id                       dates                    added_on  \\\n",
       "0           0   1  2020-05-30 00:00:00.000000  2021-02-26 20:45:37.445121   \n",
       "1           1   2  2020-05-30 00:00:00.000000  2021-02-26 20:45:37.446934   \n",
       "2           2   3  2020-05-30 00:00:00.000000  2021-02-26 20:45:37.447560   \n",
       "3           3   4  2020-05-31 00:00:00.000000  2021-02-26 20:45:37.448138   \n",
       "4           4   5  2020-06-01 00:00:00.000000  2021-02-26 20:45:37.448824   \n",
       "\n",
       "                                               links        case_id      city  \\\n",
       "0  ['https://www.youtube.com/watch?v=dPTr54DdTdY'...    or-eugene-2    Eugene   \n",
       "1  ['https://twitter.com/IwriteOK/status/12669077...  or-portland-1  Portland   \n",
       "2  ['https://www.youtube.com/watch?v=01oWE24O9Zw&...  or-portland-2  Portland   \n",
       "3  ['https://www.youtube.com/watch?v=R7fqWI41vQY'...    or-eugene-3    Eugene   \n",
       "4  ['https://www.reddit.com/r/Eugene/comments/gur...    or-eugene-1    Eugene   \n",
       "\n",
       "    state        lat        long  \\\n",
       "0  Oregon  44.049913 -123.097391   \n",
       "1  Oregon  45.515586 -122.676994   \n",
       "2  Oregon  45.515468 -122.676571   \n",
       "3  Oregon  44.044728 -123.079238   \n",
       "4  Oregon   0.000000    0.000000   \n",
       "\n",
       "                                           title  \\\n",
       "0                 Peaceful protester tear gassed   \n",
       "1     Police violently break up peaceful protest   \n",
       "2                Officer pepper-sprays protester   \n",
       "3           Reporter shot with tear gas canister   \n",
       "4  Officer shoots projectile from moving vehicle   \n",
       "\n",
       "                                         description  \\\n",
       "0  Footage shows a small cluster of protesters ch...   \n",
       "1  The Police try to break up the peaceful protes...   \n",
       "2  An officer shoves and pepper-sprays a proteste...   \n",
       "3  Footage shows police giving curfew dispersal o...   \n",
       "4  An officer shoots a projectile out of a moving...   \n",
       "\n",
       "                                                tags  \\\n",
       "0           ['less-lethal', 'protester', 'tear-gas']   \n",
       "1           ['baton', 'beat', 'protester', 'strike']   \n",
       "2  ['less-lethal', 'pepper-spray', 'protester', '...   \n",
       "3  ['journalist', 'less-lethal', 'rubber-bullet',...   \n",
       "4  ['less-lethal', 'projectile', 'protester', 'sh...   \n",
       "\n",
       "                     force_rank  \n",
       "0  Rank 4 - Chemical & Electric  \n",
       "1      Rank 1 - Police Presence  \n",
       "2  Rank 4 - Chemical & Electric  \n",
       "3  Rank 4 - Chemical & Electric  \n",
       "4         Rank 5 - Lethal Force  "
      ]
     },
     "execution_count": 18,
     "metadata": {},
     "output_type": "execute_result"
    }
   ],
   "source": [
    "df.head()"
   ]
  },
  {
   "cell_type": "code",
   "execution_count": 22,
   "metadata": {},
   "outputs": [],
   "source": [
    "df[\"force_rank1\"] = df['description'].apply(lambda x:textmatcher(x))"
   ]
  },
  {
   "cell_type": "code",
   "execution_count": 24,
   "metadata": {},
   "outputs": [
    {
     "data": {
      "text/plain": [
       "Rank 4 - Chemical & Electric    486\n",
       "Rank 1 - Police Presence        245\n",
       "Rank 2 - Empty-hand             233\n",
       "Rank 3 - Blunt Force            200\n",
       "Rank 5 - Lethal Force           113\n",
       "Rank 0 - No Police Presence      19\n",
       "Name: force_rank1, dtype: int64"
      ]
     },
     "execution_count": 24,
     "metadata": {},
     "output_type": "execute_result"
    }
   ],
   "source": [
    "df['force_rank1'].value_counts()"
   ]
  },
  {
   "cell_type": "code",
   "execution_count": 25,
   "metadata": {},
   "outputs": [
    {
     "data": {
      "text/plain": [
       "Rank 4 - Chemical & Electric    387\n",
       "Rank 1 - Police Presence        359\n",
       "Rank 2 - Empty-hand             205\n",
       "Rank 5 - Lethal Force           160\n",
       "Rank 3 - Blunt Force            106\n",
       "Rank 0 - No Police Presence      79\n",
       "Name: force_rank, dtype: int64"
      ]
     },
     "execution_count": 25,
     "metadata": {},
     "output_type": "execute_result"
    }
   ],
   "source": [
    "df['force_rank'].value_counts()"
   ]
  },
  {
   "cell_type": "code",
   "execution_count": 36,
   "metadata": {},
   "outputs": [
    {
     "data": {
      "text/plain": [
       "9       During a protest at which both pro-police and Black Lives Matter protesters were present near West 7th and Lincoln, members of the two protests appear to exchange words in an intersection. Police charge a protester, a 14 year old girl according to the poster, tackle her to the ground, kneel on her and arrest her.                                                                                                                                                                                                                   \n",
       "21      Body cam footage from a police officer shows police approaching person on a bike, believed to be a protester leaving the protest. The two officers pull the protester from the bike to make an arrest, throwing the bike aside. An officer then tells passersby at a convenience store to go home.                                                                                                                                                                                                                                           \n",
       "22      First-person footage from a livestream around 2:30 AM on June 7th shows police passing by. A scuffle seems to happen over an umbrella. Then an officer walks over and maces the filmer, a journalist. The journalist then shouts: \"He maced me.\"                                                                                                                                                                                                                                                                                             \n",
       "23      Footage from Salmon between 4th and 5th shows a squad car pulling up next to two individuals and a police officer on foot. One officer can be heard saying, \"You were standing there taking photos,\" as he arrests the individuals. Another officer then shouts: \"Leave the area or you will be arrested.\" The filmer states that he is press and the officer reiterates that he will be arrested if he remains.                                                                                                                             \n",
       "27      A reporter with a press pass is told that his pass does not matter and press is not permitted at the scene. Later, a second officer states the same thing. After asking the second officer for his name, the officer lets the reporter film his badge number but does not give his name. After asking again, the officer threatens the journalist, saying: \"Do you want to go to jail?\" before grabbing the journalist and arresting them.\\n\\nReports on the Portland curfew state explicitly that media are exempt from curfew restrictions.\n",
       "                                                                                                                                                                                                                                                                            ...                                                                                                                                                                                                                                                                      \n",
       "1274    Police and protesters face off in the street. Police charge without warning, tackling a protester facing the other direction. The protester is then arrested.                                                                                                                                                                                                                                                                                                                                                                                \n",
       "1279    At a protest in West Philadelphia, several police officers arrest a protester for unknown cause. One officer grabs the protester around the waist, lifts them up, and slams them to the ground.\\n\\nLocation is approximate.                                                                                                                                                                                                                                                                                                                  \n",
       "1287    Police charge protesters at Colfax and Williams. One officer tackles a fleeing protester to the ground. Police arrest at least one protester. An arrestee was seen beaten and dragged across the pavement by officers.                                                                                                                                                                                                                                                                                                                       \n",
       "1291    During a small protest on December 4th, police made several arrests, mostly for obstructing the legal system. During one of these arrests at Chicago and 38th, an officer singled out a black protester watching the arrest. The officer approaches the protester, who begins to step away. The officer then chases the protester and throws him to the ground, allegedly dislocating his shoulder.                                                                                                                                          \n",
       "1294    A protester is filming and asking \"why?\", referring to protesters being arrested. An officer then pushs the protester that is filming, knocking the camera to the ground.\\n\\nThe incident appears to have occurred near the junction of I-45 and I-10 by White Oak Bayou Greenway.                                                                                                                                                                                                                                                           \n",
       "Name: description, Length: 245, dtype: object"
      ]
     },
     "execution_count": 36,
     "metadata": {},
     "output_type": "execute_result"
    }
   ],
   "source": [
    "df['description'][df['force_rank1'] == \"Rank 1 - Police Presence\"]"
   ]
  },
  {
   "cell_type": "code",
   "execution_count": 34,
   "metadata": {},
   "outputs": [
    {
     "name": "stderr",
     "output_type": "stream",
     "text": [
      "<ipython-input-34-0891b765a168>:1: FutureWarning: Passing a negative integer is deprecated in version 1.0 and will not be supported in future version. Instead, use None to not limit the column width.\n",
      "  pd.set_option('display.max_colwidth', -1)\n"
     ]
    }
   ],
   "source": [
    "pd.set_option('display.max_colwidth', -1)"
   ]
  },
  {
   "cell_type": "code",
   "execution_count": null,
   "metadata": {},
   "outputs": [],
   "source": []
  }
 ],
 "metadata": {
  "kernelspec": {
   "display_name": "Python 3",
   "language": "python",
   "name": "python3"
  },
  "language_info": {
   "codemirror_mode": {
    "name": "ipython",
    "version": 3
   },
   "file_extension": ".py",
   "mimetype": "text/x-python",
   "name": "python",
   "nbconvert_exporter": "python",
   "pygments_lexer": "ipython3",
   "version": "3.9.0"
  }
 },
 "nbformat": 4,
 "nbformat_minor": 4
}