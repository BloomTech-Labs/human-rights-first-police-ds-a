{
 "cells": [
  {
   "cell_type": "code",
   "execution_count": 10,
   "metadata": {},
   "outputs": [],
   "source": [
    "import tweepy\n",
    "import pandas as pd"
   ]
  },
  {
   "cell_type": "code",
   "execution_count": 96,
   "metadata": {},
   "outputs": [
    {
     "output_type": "stream",
     "name": "stdout",
     "text": [
      "Authentication OK\n"
     ]
    }
   ],
   "source": [
    "CONSUMER_KEY = CONSUMER_KEY\n",
    "CONSUMER_SECRET = CONSUMER_SECRET\n",
    "ACCESS_KEY = ACCESS_KEY\n",
    "ACCESS_SECRET = ACCESS_SECRET"
   ]
  },
  {
   "cell_type": "code",
   "execution_count": 109,
   "outputs": [
    {
     "name": "stdout",
     "output_type": "stream",
     "text": [
      "Authentication OK\n"
     ]
    }
   ],
   "source": [
    "CONSUMER_KEY = \"LU6eEdt9a4PwQWIqnJtyVnIp9\"\n",
    "CONSUMER_SECRET = \"jTCDms0tUgq91AQXXHKSzsuLorSSpSCPb4TTWOxfurrmk6q3gm\"\n",
    "ACCESS_KEY = \"1372271424241602564-xIh4fpuVRXwrllCDSYdZyH8vDutziy\"\n",
    "ACCESS_SECRET = \"OM6t5cBI5yOCVJd9uG3sFFmBmFpHQgvV2LWVP9mKkQDvN\"\n",
    "\n",
    "auth = tweepy.OAuthHandler(CONSUMER_KEY, CONSUMER_SECRET)\n",
    "auth.set_access_token(ACCESS_KEY, ACCESS_SECRET)\n",
    "\n",
    "api = tweepy.API(auth)\n",
    "\n",
    "try:\n",
    "    api.verify_credentials()\n",
    "    print('Authentication OK')\n",
    "except:\n",
    "    print('Error during authentication')"
   ],
   "metadata": {
    "collapsed": false,
    "pycharm": {
     "name": "#%%\n"
    }
   }
  },
  {
   "cell_type": "code",
   "execution_count": 3,
   "metadata": {},
   "outputs": [],
   "source": [
    "# A test tweet object selected by tweet ID\n",
    "tweet_by_id = api.get_status(\"1400703690290434049\",tweet_mode = 'extended')"
   ]
  },
  {
   "cell_type": "code",
   "execution_count": 17,
   "outputs": [
    {
     "data": {
      "text/plain": "{'created_at': 'Fri Jun 04 06:39:18 +0000 2021',\n 'id': 1400703690290434049,\n 'id_str': '1400703690290434049',\n 'full_text': 'TRIGGER WARNING ⛔️ \\n\\nwhat you’re watching is the execution of Malcolm Johnson. he was murdered on March 31st by a KCPD officer. \\n\\nas you will see, THE FEMALE COP SHOT THE OTHER COP in the leg and then twice into Malcolm. KCPD claimed Malcom shot him. \\n\\nabolish KCPD. https://t.co/0v6eXqF6Q0',\n 'truncated': False,\n 'display_text_range': [0, 266],\n 'entities': {'hashtags': [],\n  'symbols': [],\n  'user_mentions': [],\n  'urls': [],\n  'media': [{'id': 1400703621264777219,\n    'id_str': '1400703621264777219',\n    'indices': [267, 290],\n    'media_url': 'http://pbs.twimg.com/ext_tw_video_thumb/1400703621264777219/pu/img/Em-A8krtliRxVUAY.jpg',\n    'media_url_https': 'https://pbs.twimg.com/ext_tw_video_thumb/1400703621264777219/pu/img/Em-A8krtliRxVUAY.jpg',\n    'url': 'https://t.co/0v6eXqF6Q0',\n    'display_url': 'pic.twitter.com/0v6eXqF6Q0',\n    'expanded_url': 'https://twitter.com/lmakjgb/status/1400703690290434049/video/1',\n    'type': 'photo',\n    'sizes': {'thumb': {'w': 150, 'h': 150, 'resize': 'crop'},\n     'small': {'w': 528, 'h': 656, 'resize': 'fit'},\n     'medium': {'w': 528, 'h': 656, 'resize': 'fit'},\n     'large': {'w': 528, 'h': 656, 'resize': 'fit'}}}]},\n 'extended_entities': {'media': [{'id': 1400703621264777219,\n    'id_str': '1400703621264777219',\n    'indices': [267, 290],\n    'media_url': 'http://pbs.twimg.com/ext_tw_video_thumb/1400703621264777219/pu/img/Em-A8krtliRxVUAY.jpg',\n    'media_url_https': 'https://pbs.twimg.com/ext_tw_video_thumb/1400703621264777219/pu/img/Em-A8krtliRxVUAY.jpg',\n    'url': 'https://t.co/0v6eXqF6Q0',\n    'display_url': 'pic.twitter.com/0v6eXqF6Q0',\n    'expanded_url': 'https://twitter.com/lmakjgb/status/1400703690290434049/video/1',\n    'type': 'video',\n    'sizes': {'thumb': {'w': 150, 'h': 150, 'resize': 'crop'},\n     'small': {'w': 528, 'h': 656, 'resize': 'fit'},\n     'medium': {'w': 528, 'h': 656, 'resize': 'fit'},\n     'large': {'w': 528, 'h': 656, 'resize': 'fit'}},\n    'video_info': {'aspect_ratio': [33, 41],\n     'duration_millis': 51967,\n     'variants': [{'content_type': 'application/x-mpegURL',\n       'url': 'https://video.twimg.com/ext_tw_video/1400703621264777219/pu/pl/VfQSETJdL4aC5udc.m3u8?tag=12&container=fmp4'},\n      {'bitrate': 950000,\n       'content_type': 'video/mp4',\n       'url': 'https://video.twimg.com/ext_tw_video/1400703621264777219/pu/vid/528x656/trGjBi2_lABvmNTa.mp4?tag=12'},\n      {'bitrate': 632000,\n       'content_type': 'video/mp4',\n       'url': 'https://video.twimg.com/ext_tw_video/1400703621264777219/pu/vid/320x396/B9BQh9m_mJDvGXjf.mp4?tag=12'}]},\n    'additional_media_info': {'monetizable': False}}]},\n 'source': '<a href=\"https://mobile.twitter.com\" rel=\"nofollow\">Twitter Web App</a>',\n 'in_reply_to_status_id': None,\n 'in_reply_to_status_id_str': None,\n 'in_reply_to_user_id': None,\n 'in_reply_to_user_id_str': None,\n 'in_reply_to_screen_name': None,\n 'user': {'id': 1241928735068246018,\n  'id_str': '1241928735068246018',\n  'name': 'covered.',\n  'screen_name': 'lmakjgb',\n  'location': 'the pote',\n  'description': 'if you have an opinion, i do not care. | concerned nigga. | clothing designer ♥️.',\n  'url': 'https://t.co/IEMAyJmauO',\n  'entities': {'url': {'urls': [{'url': 'https://t.co/IEMAyJmauO',\n      'expanded_url': 'https://linktr.ee/Kjxtheactivist',\n      'display_url': 'linktr.ee/Kjxtheactivist',\n      'indices': [0, 23]}]},\n   'description': {'urls': []}},\n  'protected': False,\n  'followers_count': 66741,\n  'friends_count': 547,\n  'listed_count': 61,\n  'created_at': 'Mon Mar 23 03:24:23 +0000 2020',\n  'favourites_count': 6252,\n  'utc_offset': None,\n  'time_zone': None,\n  'geo_enabled': True,\n  'verified': False,\n  'statuses_count': 2306,\n  'lang': None,\n  'contributors_enabled': False,\n  'is_translator': False,\n  'is_translation_enabled': False,\n  'profile_background_color': 'F5F8FA',\n  'profile_background_image_url': None,\n  'profile_background_image_url_https': None,\n  'profile_background_tile': False,\n  'profile_image_url': 'http://pbs.twimg.com/profile_images/1376681732544532482/zud3OTKl_normal.jpg',\n  'profile_image_url_https': 'https://pbs.twimg.com/profile_images/1376681732544532482/zud3OTKl_normal.jpg',\n  'profile_banner_url': 'https://pbs.twimg.com/profile_banners/1241928735068246018/1617061709',\n  'profile_link_color': '1DA1F2',\n  'profile_sidebar_border_color': 'C0DEED',\n  'profile_sidebar_fill_color': 'DDEEF6',\n  'profile_text_color': '333333',\n  'profile_use_background_image': True,\n  'has_extended_profile': True,\n  'default_profile': True,\n  'default_profile_image': False,\n  'following': False,\n  'follow_request_sent': False,\n  'notifications': False,\n  'translator_type': 'none',\n  'withheld_in_countries': []},\n 'geo': None,\n 'coordinates': None,\n 'place': None,\n 'contributors': None,\n 'is_quote_status': False,\n 'retweet_count': 1884,\n 'favorite_count': 2878,\n 'favorited': False,\n 'retweeted': False,\n 'possibly_sensitive': False,\n 'possibly_sensitive_appealable': False,\n 'lang': 'en'}"
     },
     "execution_count": 17,
     "metadata": {},
     "output_type": "execute_result"
    }
   ],
   "source": [
    "tweet_by_id._json['full_text']"
   ],
   "metadata": {
    "collapsed": false,
    "pycharm": {
     "name": "#%%\n"
    }
   }
  },
  {
   "cell_type": "markdown",
   "source": [
    "## Twitter bot will search for replies to a certain tweet"
   ],
   "metadata": {
    "collapsed": false,
    "pycharm": {
     "name": "#%% md\n"
    }
   }
  },
  {
   "cell_type": "code",
   "execution_count": 136,
   "outputs": [
    {
     "name": "stdout",
     "output_type": "stream",
     "text": [
      "Status(_api=<tweepy.api.API object at 0x000002408442CD00>, _json={'created_at': 'Thu Jun 10 00:39:25 +0000 2021', 'id': 1402787449214996482, 'id_str': '1402787449214996482', 'full_text': 'What city did this take place?', 'truncated': False, 'display_text_range': [0, 30], 'entities': {'hashtags': [], 'symbols': [], 'user_mentions': [], 'urls': []}, 'metadata': {'iso_language_code': 'en', 'result_type': 'recent'}, 'source': '<a href=\"https://help.twitter.com/en/using-twitter/how-to-tweet#source-labels\" rel=\"nofollow\">twitter_apidemo33</a>', 'in_reply_to_status_id': 1402778894953062400, 'in_reply_to_status_id_str': '1402778894953062400', 'in_reply_to_user_id': 1372271424241602564, 'in_reply_to_user_id_str': '1372271424241602564', 'in_reply_to_screen_name': 'NathanFleck8', 'user': {'id': 1372271424241602564, 'id_str': '1372271424241602564', 'name': 'Nathan Fleck', 'screen_name': 'NathanFleck8', 'location': '', 'description': 'Love databases and numbers. Quant in the making.', 'url': None, 'entities': {'description': {'urls': []}}, 'protected': False, 'followers_count': 0, 'friends_count': 0, 'listed_count': 0, 'created_at': 'Wed Mar 17 19:39:42 +0000 2021', 'favourites_count': 0, 'utc_offset': None, 'time_zone': None, 'geo_enabled': False, 'verified': False, 'statuses_count': 5, 'lang': None, 'contributors_enabled': False, 'is_translator': False, 'is_translation_enabled': False, 'profile_background_color': 'F5F8FA', 'profile_background_image_url': None, 'profile_background_image_url_https': None, 'profile_background_tile': False, 'profile_image_url': 'http://abs.twimg.com/sticky/default_profile_images/default_profile_normal.png', 'profile_image_url_https': 'https://abs.twimg.com/sticky/default_profile_images/default_profile_normal.png', 'profile_link_color': '1DA1F2', 'profile_sidebar_border_color': 'C0DEED', 'profile_sidebar_fill_color': 'DDEEF6', 'profile_text_color': '333333', 'profile_use_background_image': True, 'has_extended_profile': True, 'default_profile': True, 'default_profile_image': True, 'following': False, 'follow_request_sent': False, 'notifications': False, 'translator_type': 'none', 'withheld_in_countries': []}, 'geo': None, 'coordinates': None, 'place': None, 'contributors': None, 'is_quote_status': False, 'retweet_count': 0, 'favorite_count': 0, 'favorited': False, 'retweeted': False, 'lang': 'en'}, created_at=datetime.datetime(2021, 6, 10, 0, 39, 25), id=1402787449214996482, id_str='1402787449214996482', full_text='What city did this take place?', truncated=False, display_text_range=[0, 30], entities={'hashtags': [], 'symbols': [], 'user_mentions': [], 'urls': []}, metadata={'iso_language_code': 'en', 'result_type': 'recent'}, source='twitter_apidemo33', source_url='https://help.twitter.com/en/using-twitter/how-to-tweet#source-labels', in_reply_to_status_id=1402778894953062400, in_reply_to_status_id_str='1402778894953062400', in_reply_to_user_id=1372271424241602564, in_reply_to_user_id_str='1372271424241602564', in_reply_to_screen_name='NathanFleck8', author=User(_api=<tweepy.api.API object at 0x000002408442CD00>, _json={'id': 1372271424241602564, 'id_str': '1372271424241602564', 'name': 'Nathan Fleck', 'screen_name': 'NathanFleck8', 'location': '', 'description': 'Love databases and numbers. Quant in the making.', 'url': None, 'entities': {'description': {'urls': []}}, 'protected': False, 'followers_count': 0, 'friends_count': 0, 'listed_count': 0, 'created_at': 'Wed Mar 17 19:39:42 +0000 2021', 'favourites_count': 0, 'utc_offset': None, 'time_zone': None, 'geo_enabled': False, 'verified': False, 'statuses_count': 5, 'lang': None, 'contributors_enabled': False, 'is_translator': False, 'is_translation_enabled': False, 'profile_background_color': 'F5F8FA', 'profile_background_image_url': None, 'profile_background_image_url_https': None, 'profile_background_tile': False, 'profile_image_url': 'http://abs.twimg.com/sticky/default_profile_images/default_profile_normal.png', 'profile_image_url_https': 'https://abs.twimg.com/sticky/default_profile_images/default_profile_normal.png', 'profile_link_color': '1DA1F2', 'profile_sidebar_border_color': 'C0DEED', 'profile_sidebar_fill_color': 'DDEEF6', 'profile_text_color': '333333', 'profile_use_background_image': True, 'has_extended_profile': True, 'default_profile': True, 'default_profile_image': True, 'following': False, 'follow_request_sent': False, 'notifications': False, 'translator_type': 'none', 'withheld_in_countries': []}, id=1372271424241602564, id_str='1372271424241602564', name='Nathan Fleck', screen_name='NathanFleck8', location='', description='Love databases and numbers. Quant in the making.', url=None, entities={'description': {'urls': []}}, protected=False, followers_count=0, friends_count=0, listed_count=0, created_at=datetime.datetime(2021, 3, 17, 19, 39, 42), favourites_count=0, utc_offset=None, time_zone=None, geo_enabled=False, verified=False, statuses_count=5, lang=None, contributors_enabled=False, is_translator=False, is_translation_enabled=False, profile_background_color='F5F8FA', profile_background_image_url=None, profile_background_image_url_https=None, profile_background_tile=False, profile_image_url='http://abs.twimg.com/sticky/default_profile_images/default_profile_normal.png', profile_image_url_https='https://abs.twimg.com/sticky/default_profile_images/default_profile_normal.png', profile_link_color='1DA1F2', profile_sidebar_border_color='C0DEED', profile_sidebar_fill_color='DDEEF6', profile_text_color='333333', profile_use_background_image=True, has_extended_profile=True, default_profile=True, default_profile_image=True, following=False, follow_request_sent=False, notifications=False, translator_type='none', withheld_in_countries=[]), user=User(_api=<tweepy.api.API object at 0x000002408442CD00>, _json={'id': 1372271424241602564, 'id_str': '1372271424241602564', 'name': 'Nathan Fleck', 'screen_name': 'NathanFleck8', 'location': '', 'description': 'Love databases and numbers. Quant in the making.', 'url': None, 'entities': {'description': {'urls': []}}, 'protected': False, 'followers_count': 0, 'friends_count': 0, 'listed_count': 0, 'created_at': 'Wed Mar 17 19:39:42 +0000 2021', 'favourites_count': 0, 'utc_offset': None, 'time_zone': None, 'geo_enabled': False, 'verified': False, 'statuses_count': 5, 'lang': None, 'contributors_enabled': False, 'is_translator': False, 'is_translation_enabled': False, 'profile_background_color': 'F5F8FA', 'profile_background_image_url': None, 'profile_background_image_url_https': None, 'profile_background_tile': False, 'profile_image_url': 'http://abs.twimg.com/sticky/default_profile_images/default_profile_normal.png', 'profile_image_url_https': 'https://abs.twimg.com/sticky/default_profile_images/default_profile_normal.png', 'profile_link_color': '1DA1F2', 'profile_sidebar_border_color': 'C0DEED', 'profile_sidebar_fill_color': 'DDEEF6', 'profile_text_color': '333333', 'profile_use_background_image': True, 'has_extended_profile': True, 'default_profile': True, 'default_profile_image': True, 'following': False, 'follow_request_sent': False, 'notifications': False, 'translator_type': 'none', 'withheld_in_countries': []}, id=1372271424241602564, id_str='1372271424241602564', name='Nathan Fleck', screen_name='NathanFleck8', location='', description='Love databases and numbers. Quant in the making.', url=None, entities={'description': {'urls': []}}, protected=False, followers_count=0, friends_count=0, listed_count=0, created_at=datetime.datetime(2021, 3, 17, 19, 39, 42), favourites_count=0, utc_offset=None, time_zone=None, geo_enabled=False, verified=False, statuses_count=5, lang=None, contributors_enabled=False, is_translator=False, is_translation_enabled=False, profile_background_color='F5F8FA', profile_background_image_url=None, profile_background_image_url_https=None, profile_background_tile=False, profile_image_url='http://abs.twimg.com/sticky/default_profile_images/default_profile_normal.png', profile_image_url_https='https://abs.twimg.com/sticky/default_profile_images/default_profile_normal.png', profile_link_color='1DA1F2', profile_sidebar_border_color='C0DEED', profile_sidebar_fill_color='DDEEF6', profile_text_color='333333', profile_use_background_image=True, has_extended_profile=True, default_profile=True, default_profile_image=True, following=False, follow_request_sent=False, notifications=False, translator_type='none', withheld_in_countries=[]), geo=None, coordinates=None, place=None, contributors=None, is_quote_status=False, retweet_count=0, favorite_count=0, favorited=False, retweeted=False, lang='en')\n"
     ]
    }
   ],
   "source": [
    "def get_tweet_comments(input_tweet):\n",
    "\n",
    "    \"\"\"\n",
    "\n",
    "    Args:\n",
    "        input_tweet: A Twitter API response object\n",
    "\n",
    "    Returns: A list of the text for all found replies.\n",
    "\n",
    "    \"\"\"\n",
    "    comments = []\n",
    "    name = input_tweet._json['user']['screen_name']\n",
    "    tweet_id = input_tweet._json['id']\n",
    "    for tweet in tweepy.Cursor(api.search,q=f\"to:{name}\", result_type = 'recent',tweet_mode = 'extended').items(100):\n",
    "        if hasattr(tweet, 'in_reply_to_status_id_str'):\n",
    "            if str(tweet.in_reply_to_status_id_str) == str(tweet_id):\n",
    "                comments.append(tweet._json['full_text'])\n",
    "                return tweet\n",
    "    return comments\n",
    "\n",
    "comments = get_tweet_comments(tweet_by_id)\n",
    "print(comments)"
   ],
   "metadata": {
    "collapsed": false,
    "pycharm": {
     "name": "#%%\n"
    }
   }
  },
  {
   "cell_type": "code",
   "execution_count": 8,
   "outputs": [
    {
     "name": "stdout",
     "output_type": "stream",
     "text": [
      "@lmakjgb Now show the video of him killing the dude in 2016 or shooting at his gf earlier that day\n",
      "@lmakjgb We need people to clean this trash off our streets\n",
      "@lmakjgb @Chewyweeks This was spooky!!!\n",
      "@lmakjgb Still don’t deserve to die\n",
      "@lmakjgb @miguelmyers81 Then they panic and the Cover Up begins..\n",
      "@lmakjgb What police said  the film doesn’t disrobe  The video shows the man attempting to flee police who tackle him off screen. Authorities said that Johnson shot an officer in the leg and another officer returned fire killing Johnson.\n",
      "In both videos, it is unclear who fired the shots.\n",
      "@lmakjgb What reason does she even have her weapon out for at that point?  If u need to pull a weapon and fumble that badly for it u should not be licensed to carry a weapon. So sick of this bullshit and I’m as white as Powder.\n",
      "@lmakjgb smh\n",
      "@lmakjgb This is frigging crazy eight cops and they cannot take down a suspect without murdering him. People are becoming so acclimated to cops killing people that the cameraman is not even surprised and acts like they expect that to happen.\n",
      "@lmakjgb i CAN believe those cops tried to get away with shooting #malcomjohnson by having one officer fire their weapon in order to make the shooting look justifiable. I mean.., nice try, didn't work. #DamnThoseKindaCopsMan #DamnThemStraightToHell\n"
     ]
    }
   ],
   "source": [
    "# A test to print out up to 10 reply tweets\n",
    "for x in comments[:10]:\n",
    "    print(x)"
   ],
   "metadata": {
    "collapsed": false,
    "pycharm": {
     "name": "#%%\n"
    }
   }
  },
  {
   "source": [
    "## Twitter bot will reply to the tweet"
   ],
   "cell_type": "markdown",
   "metadata": {}
  },
  {
   "cell_type": "code",
   "execution_count": 100,
   "metadata": {},
   "outputs": [],
   "source": [
    "def twitter_reply(status_id, text):\n",
    "    if text == \"\":\n",
    "        reply_text = '''\n",
    "        ------- test -------\n",
    "        We noticed that you are reporting a police incident.\n",
    "        '''\n",
    "    else:\n",
    "        reply_text = text\n",
    "\n",
    "    api.update_status(status = reply_text, in_reply_to_status_id=status_id)\n",
    "    return 'done!'\n",
    "\n",
    "#twitter_reply(1395143654331744256)"
   ]
  },
  {
   "cell_type": "code",
   "execution_count": 12,
   "metadata": {},
   "outputs": [
    {
     "data": {
      "text/plain": "          username                   id  \\\n0         ksmoola1  1402755452027523075   \n1    NJ_Bronco_Fan  1402755451129942019   \n2   oneiriclillies  1402755447891939332   \n3  Alejand14092042  1402755446444789771   \n4       victor2exl  1402755445257760773   \n\n                                               tweet  \n0  @patriotcanuck65 Not a gun in sight except fro...  \n1  RT @MacFarlaneNews: FLASH:  Georgia roofing co...  \n2  RT @hotties4dwt: what's happening in Venezuela...  \n3  @DailyYaeContent Dunno... if you kissed her......  \n4  RT @MaziNnamdiKanu: It’s pathetic that Nigeria...  ",
      "text/html": "<div>\n<style scoped>\n    .dataframe tbody tr th:only-of-type {\n        vertical-align: middle;\n    }\n\n    .dataframe tbody tr th {\n        vertical-align: top;\n    }\n\n    .dataframe thead th {\n        text-align: right;\n    }\n</style>\n<table border=\"1\" class=\"dataframe\">\n  <thead>\n    <tr style=\"text-align: right;\">\n      <th></th>\n      <th>username</th>\n      <th>id</th>\n      <th>tweet</th>\n    </tr>\n  </thead>\n  <tbody>\n    <tr>\n      <th>0</th>\n      <td>ksmoola1</td>\n      <td>1402755452027523075</td>\n      <td>@patriotcanuck65 Not a gun in sight except fro...</td>\n    </tr>\n    <tr>\n      <th>1</th>\n      <td>NJ_Bronco_Fan</td>\n      <td>1402755451129942019</td>\n      <td>RT @MacFarlaneNews: FLASH:  Georgia roofing co...</td>\n    </tr>\n    <tr>\n      <th>2</th>\n      <td>oneiriclillies</td>\n      <td>1402755447891939332</td>\n      <td>RT @hotties4dwt: what's happening in Venezuela...</td>\n    </tr>\n    <tr>\n      <th>3</th>\n      <td>Alejand14092042</td>\n      <td>1402755446444789771</td>\n      <td>@DailyYaeContent Dunno... if you kissed her......</td>\n    </tr>\n    <tr>\n      <th>4</th>\n      <td>victor2exl</td>\n      <td>1402755445257760773</td>\n      <td>RT @MaziNnamdiKanu: It’s pathetic that Nigeria...</td>\n    </tr>\n  </tbody>\n</table>\n</div>"
     },
     "execution_count": 12,
     "metadata": {},
     "output_type": "execute_result"
    }
   ],
   "source": [
    "df_data = []\n",
    "for tweet in api.search(q='police', lang='en', rpp=5)[:5]:\n",
    "    test_data = [tweet.user.screen_name, tweet.id, tweet.text]\n",
    "    df_data.append(test_data)\n",
    "df = pd.DataFrame(data=df_data, columns=['username', 'id', 'tweet'])\n",
    "df"
   ]
  },
  {
   "source": [
    "## Twitter bot will reply to the user through DM"
   ],
   "cell_type": "markdown",
   "metadata": {}
  },
  {
   "cell_type": "code",
   "execution_count": 80,
   "metadata": {},
   "outputs": [
    {
     "output_type": "execute_result",
     "data": {
      "text/plain": [
       "'direct message sent'"
      ]
     },
     "metadata": {},
     "execution_count": 80
    }
   ],
   "source": [
    "def direct_message(username):\n",
    "    user = api.get_user(username)\n",
    "    message = '''\n",
    "    Just testing some features.\n",
    "    This sends a direct message to the person\n",
    "    '''\n",
    "    api.send_direct_message(user.id, message)\n",
    "    return 'direct message sent'\n",
    "\n",
    "direct_message('@JoanVillar14')"
   ]
  },
  {
   "source": [
    "Improvements:\n",
    "\n",
    "1. Depending on the reply, gather more information such as:\n",
    "- did it really happen?\n",
    "- where did it happen\n",
    "\n",
    "2. They pin the place of incident on a map\n",
    "- If tweet's geolocation is on, get the coordinates\n",
    "\n",
    "-------\n",
    "\n",
    "\n",
    "* There are a few things to keep in mind in designing a model that replies to specific replies. This might be another project in the future.\n",
    "* Since the incidents are already identified, it might be best to just get the location from the user."
   ],
   "cell_type": "markdown",
   "metadata": {}
  },
  {
   "cell_type": "code",
   "execution_count": 154,
   "metadata": {},
   "outputs": [],
   "source": [
    "class tweet_reachout:\n",
    "\n",
    "    def __init__(self, tweet, open = True,  responded = True):\n",
    "        self.initial_tweet_id = tweet.id\n",
    "        self.open = open\n",
    "        self.response = tweet\n",
    "        self.conversation_log = [[\"Initial Tweet:\", tweet._json['full_text']]]\n",
    "        self.responded = responded\n",
    "\n",
    "    # def respond(self):\n",
    "    #     if self.responded:\n",
    "    #         self.send_response()\n",
    "    #         self.responded = False\n",
    "    #     else:\n",
    "    #         return \"No response received\"\n",
    "\n",
    "    def send_response(self, text, id):\n",
    "        #response_tweet_id = self.response.id\n",
    "        twitter_reply(id,text)\n",
    "        self.responded = True\n",
    "        self.conversation_log.append([\"Bot Response:\", text])\n",
    "        return \"Response sent\"\n",
    "\n",
    "    def did_respond(self, tweet):\n",
    "        self.response = tweet\n",
    "        self.conversation_log.append([self.response.user.screen_name, self.response.full_text])\n",
    "        self.responded = False\n",
    "\n",
    "    def print_log(self):\n",
    "        for i, x in enumerate(self.conversation_log):\n",
    "            if i == 0 or x[0] == \"Bot Response:\":\n",
    "                print(f\"{x[0]}   {x[1]}\")\n",
    "            else:\n",
    "                print(f\"{x[0]} responded:   {x[1]}\")"
   ]
  },
  {
   "cell_type": "code",
   "execution_count": 155,
   "outputs": [
    {
     "name": "stdout",
     "output_type": "stream",
     "text": [
      "1402778894953062400\n"
     ]
    }
   ],
   "source": [
    "tweet_by_id = api.get_status(\"1402778894953062400\",tweet_mode = 'extended')\n",
    "print(tweet_by_id.id)"
   ],
   "metadata": {
    "collapsed": false,
    "pycharm": {
     "name": "#%%\n"
    }
   }
  },
  {
   "cell_type": "code",
   "execution_count": 156,
   "outputs": [
    {
     "name": "stdout",
     "output_type": "stream",
     "text": [
      "Initial Tweet:   test 1 2\n"
     ]
    }
   ],
   "source": [
    "test_ticket = tweet_reachout(tweet_by_id)\n",
    "test_ticket.print_log()"
   ],
   "metadata": {
    "collapsed": false,
    "pycharm": {
     "name": "#%%\n"
    }
   }
  },
  {
   "cell_type": "code",
   "execution_count": 157,
   "outputs": [
    {
     "data": {
      "text/plain": "'Response sent'"
     },
     "execution_count": 157,
     "metadata": {},
     "output_type": "execute_result"
    }
   ],
   "source": [
    "test_ticket.send_response(\"What city did this take place?\",tweet_by_id.id )"
   ],
   "metadata": {
    "collapsed": false,
    "pycharm": {
     "name": "#%%\n"
    }
   }
  },
  {
   "cell_type": "code",
   "execution_count": 158,
   "outputs": [
    {
     "name": "stdout",
     "output_type": "stream",
     "text": [
      "Initial Tweet:   test 1 2\n",
      "Bot Response:   What city did this take place?\n"
     ]
    }
   ],
   "source": [
    "test_ticket.print_log()"
   ],
   "metadata": {
    "collapsed": false,
    "pycharm": {
     "name": "#%%\n"
    }
   }
  },
  {
   "cell_type": "code",
   "execution_count": 150,
   "outputs": [],
   "source": [
    "response = get_tweet_comments(tweet_by_id)"
   ],
   "metadata": {
    "collapsed": false,
    "pycharm": {
     "name": "#%%\n"
    }
   }
  },
  {
   "cell_type": "code",
   "execution_count": 159,
   "outputs": [],
   "source": [
    "if response == []:\n",
    "    v = 0\n",
    "else:\n",
    "    test_ticket.did_respond(response)\n",
    "    test_ticket.send_response(\"Banana Town\", response.id)"
   ],
   "metadata": {
    "collapsed": false,
    "pycharm": {
     "name": "#%%\n"
    }
   }
  },
  {
   "cell_type": "code",
   "execution_count": 160,
   "outputs": [
    {
     "name": "stdout",
     "output_type": "stream",
     "text": [
      "Initial Tweet:   test 1 2\n",
      "Bot Response:   What city did this take place?\n",
      "NathanFleck8 responded:   Banana Town\n",
      "Bot Response:   Banana Town\n"
     ]
    }
   ],
   "source": [
    "test_ticket.print_log()"
   ],
   "metadata": {
    "collapsed": false,
    "pycharm": {
     "name": "#%%\n"
    }
   }
  },
  {
   "cell_type": "code",
   "execution_count": 162,
   "outputs": [
    {
     "ename": "TweepError",
     "evalue": "[{'code': 144, 'message': 'No status found with that ID.'}]",
     "output_type": "error",
     "traceback": [
      "\u001B[1;31m---------------------------------------------------------------------------\u001B[0m",
      "\u001B[1;31mTweepError\u001B[0m                                Traceback (most recent call last)",
      "\u001B[1;32m<ipython-input-162-f477848aa2a1>\u001B[0m in \u001B[0;36m<module>\u001B[1;34m\u001B[0m\n\u001B[1;32m----> 1\u001B[1;33m \u001B[0mresponse\u001B[0m \u001B[1;33m=\u001B[0m \u001B[0mget_tweet_comments\u001B[0m\u001B[1;33m(\u001B[0m\u001B[0mapi\u001B[0m\u001B[1;33m.\u001B[0m\u001B[0mget_status\u001B[0m\u001B[1;33m(\u001B[0m\u001B[0mstr\u001B[0m\u001B[1;33m(\u001B[0m\u001B[0mresponse\u001B[0m\u001B[1;33m.\u001B[0m\u001B[0mid\u001B[0m\u001B[1;33m)\u001B[0m\u001B[1;33m,\u001B[0m\u001B[0mtweet_mode\u001B[0m \u001B[1;33m=\u001B[0m \u001B[1;34m'extended'\u001B[0m\u001B[1;33m)\u001B[0m\u001B[1;33m)\u001B[0m\u001B[1;33m\u001B[0m\u001B[1;33m\u001B[0m\u001B[0m\n\u001B[0m\u001B[0;32m      2\u001B[0m \u001B[0mprint\u001B[0m\u001B[1;33m(\u001B[0m\u001B[0mresponse\u001B[0m\u001B[1;33m.\u001B[0m\u001B[0mid\u001B[0m\u001B[1;33m)\u001B[0m\u001B[1;33m\u001B[0m\u001B[1;33m\u001B[0m\u001B[0m\n",
      "\u001B[1;32mc:\\users\\nafleck\\.virtualenvs\\deprecated-labs34-human-rights-first-polic-tai8q-ib\\lib\\site-packages\\tweepy\\binder.py\u001B[0m in \u001B[0;36m_call\u001B[1;34m(*args, **kwargs)\u001B[0m\n\u001B[0;32m    251\u001B[0m                 \u001B[1;32mreturn\u001B[0m \u001B[0mmethod\u001B[0m\u001B[1;33m\u001B[0m\u001B[1;33m\u001B[0m\u001B[0m\n\u001B[0;32m    252\u001B[0m             \u001B[1;32melse\u001B[0m\u001B[1;33m:\u001B[0m\u001B[1;33m\u001B[0m\u001B[1;33m\u001B[0m\u001B[0m\n\u001B[1;32m--> 253\u001B[1;33m                 \u001B[1;32mreturn\u001B[0m \u001B[0mmethod\u001B[0m\u001B[1;33m.\u001B[0m\u001B[0mexecute\u001B[0m\u001B[1;33m(\u001B[0m\u001B[1;33m)\u001B[0m\u001B[1;33m\u001B[0m\u001B[1;33m\u001B[0m\u001B[0m\n\u001B[0m\u001B[0;32m    254\u001B[0m         \u001B[1;32mfinally\u001B[0m\u001B[1;33m:\u001B[0m\u001B[1;33m\u001B[0m\u001B[1;33m\u001B[0m\u001B[0m\n\u001B[0;32m    255\u001B[0m             \u001B[0mmethod\u001B[0m\u001B[1;33m.\u001B[0m\u001B[0msession\u001B[0m\u001B[1;33m.\u001B[0m\u001B[0mclose\u001B[0m\u001B[1;33m(\u001B[0m\u001B[1;33m)\u001B[0m\u001B[1;33m\u001B[0m\u001B[1;33m\u001B[0m\u001B[0m\n",
      "\u001B[1;32mc:\\users\\nafleck\\.virtualenvs\\deprecated-labs34-human-rights-first-polic-tai8q-ib\\lib\\site-packages\\tweepy\\binder.py\u001B[0m in \u001B[0;36mexecute\u001B[1;34m(self)\u001B[0m\n\u001B[0;32m    232\u001B[0m                     \u001B[1;32mraise\u001B[0m \u001B[0mRateLimitError\u001B[0m\u001B[1;33m(\u001B[0m\u001B[0merror_msg\u001B[0m\u001B[1;33m,\u001B[0m \u001B[0mresp\u001B[0m\u001B[1;33m)\u001B[0m\u001B[1;33m\u001B[0m\u001B[1;33m\u001B[0m\u001B[0m\n\u001B[0;32m    233\u001B[0m                 \u001B[1;32melse\u001B[0m\u001B[1;33m:\u001B[0m\u001B[1;33m\u001B[0m\u001B[1;33m\u001B[0m\u001B[0m\n\u001B[1;32m--> 234\u001B[1;33m                     \u001B[1;32mraise\u001B[0m \u001B[0mTweepError\u001B[0m\u001B[1;33m(\u001B[0m\u001B[0merror_msg\u001B[0m\u001B[1;33m,\u001B[0m \u001B[0mresp\u001B[0m\u001B[1;33m,\u001B[0m \u001B[0mapi_code\u001B[0m\u001B[1;33m=\u001B[0m\u001B[0mapi_error_code\u001B[0m\u001B[1;33m)\u001B[0m\u001B[1;33m\u001B[0m\u001B[1;33m\u001B[0m\u001B[0m\n\u001B[0m\u001B[0;32m    235\u001B[0m \u001B[1;33m\u001B[0m\u001B[0m\n\u001B[0;32m    236\u001B[0m             \u001B[1;31m# Parse the response payload\u001B[0m\u001B[1;33m\u001B[0m\u001B[1;33m\u001B[0m\u001B[1;33m\u001B[0m\u001B[0m\n",
      "\u001B[1;31mTweepError\u001B[0m: [{'code': 144, 'message': 'No status found with that ID.'}]"
     ]
    }
   ],
   "source": [
    "response = get_tweet_comments(api.get_status(str(response.id),tweet_mode = 'extended'))\n",
    "print(response.id)"
   ],
   "metadata": {
    "collapsed": false,
    "pycharm": {
     "name": "#%%\n"
    }
   }
  },
  {
   "cell_type": "code",
   "execution_count": 163,
   "outputs": [],
   "source": [
    "if response == []:\n",
    "    print(\"did not find response\")\n",
    "else:\n",
    "    test_ticket.did_respond(response)\n",
    "    test_ticket.send_response(\"Thank You\", response.id)"
   ],
   "metadata": {
    "collapsed": false,
    "pycharm": {
     "name": "#%%\n"
    }
   }
  },
  {
   "cell_type": "code",
   "execution_count": null,
   "outputs": [],
   "source": [
    "test_ticket.send_response(\"Hey man where is that at?\",\"1402778894953062400\")"
   ],
   "metadata": {
    "collapsed": false,
    "pycharm": {
     "name": "#%%\n"
    }
   }
  },
  {
   "cell_type": "code",
   "execution_count": null,
   "outputs": [],
   "source": [
    "test_ticket.did_respond(api.get_status(\"1402307146503495681\",tweet_mode = 'extended'))\n",
    "test_ticket.send_response(\"Bruh chill\")\n",
    "test_ticket.did_respond(api.get_status(\"1402725931114909697\",tweet_mode = 'extended'))"
   ],
   "metadata": {
    "collapsed": false,
    "pycharm": {
     "name": "#%%\n"
    }
   }
  },
  {
   "cell_type": "code",
   "execution_count": 153,
   "outputs": [
    {
     "name": "stdout",
     "output_type": "stream",
     "text": [
      "Initial Tweet:   test 1 2\n",
      "Bot Response:   What city did this take place?\n",
      "NathanFleck8 responded:   What city did this take place?\n",
      "Bot Response:   Banana Town\n",
      "NathanFleck8 responded:   What city did this take place?\n",
      "NathanFleck8 responded:   What city did this take place?\n",
      "NathanFleck8 responded:   Banana Town\n",
      "Bot Response:   Thank You\n"
     ]
    }
   ],
   "source": [
    "test_ticket.print_log()"
   ],
   "metadata": {
    "collapsed": false,
    "pycharm": {
     "name": "#%%\n"
    }
   }
  },
  {
   "cell_type": "code",
   "execution_count": null,
   "outputs": [],
   "source": [
    "1402787857274753026\n"
   ],
   "metadata": {
    "collapsed": false,
    "pycharm": {
     "name": "#%%\n"
    }
   }
  }
 ],
 "metadata": {
  "kernelspec": {
   "name": "python3",
   "language": "python",
   "display_name": "Python 3"
  },
  "language_info": {
   "codemirror_mode": {
    "name": "ipython",
    "version": 3
   },
   "file_extension": ".py",
   "mimetype": "text/x-python",
   "name": "python",
   "nbconvert_exporter": "python",
   "pygments_lexer": "ipython3",
   "version": "3.9.1"
  }
 },
 "nbformat": 4,
 "nbformat_minor": 4
}