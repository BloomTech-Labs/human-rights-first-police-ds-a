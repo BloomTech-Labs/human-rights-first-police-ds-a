{
 "cells": [
  {
   "cell_type": "code",
   "execution_count": 1,
   "metadata": {},
   "outputs": [],
   "source": [
    "import tweepy\n",
    "import pandas as pd"
   ]
  },
  {
   "cell_type": "code",
   "execution_count": 96,
   "metadata": {},
   "outputs": [
    {
     "output_type": "stream",
     "name": "stdout",
     "text": [
      "Authentication OK\n"
     ]
    }
   ],
   "source": [
    "CONSUMER_KEY = CONSUMER_KEY\n",
    "CONSUMER_SECRET = CONSUMER_SECRET\n",
    "ACCESS_KEY = ACCESS_KEY\n",
    "ACCESS_SECRET = ACCESS_SECRET"
   ]
  },
  {
   "cell_type": "code",
   "execution_count": 41,
   "outputs": [
    {
     "name": "stdout",
     "output_type": "stream",
     "text": [
      "Authentication OK\n"
     ]
    }
   ],
   "source": [
    "CONSUMER_KEY = \"LU6eEdt9a4PwQWIqnJtyVnIp9\"\n",
    "CONSUMER_SECRET = \"jTCDms0tUgq91AQXXHKSzsuLorSSpSCPb4TTWOxfurrmk6q3gm\"\n",
    "ACCESS_KEY = \"1372271424241602564-xIh4fpuVRXwrllCDSYdZyH8vDutziy\"\n",
    "ACCESS_SECRET = \"OM6t5cBI5yOCVJd9uG3sFFmBmFpHQgvV2LWVP9mKkQDvN\"\n",
    "\n",
    "auth = tweepy.OAuthHandler(CONSUMER_KEY, CONSUMER_SECRET)\n",
    "auth.set_access_token(ACCESS_KEY, ACCESS_SECRET)\n",
    "\n",
    "api = tweepy.API(auth)\n",
    "\n",
    "try:\n",
    "    api.verify_credentials()\n",
    "    print('Authentication OK')\n",
    "except:\n",
    "    print('Error during authentication')"
   ],
   "metadata": {
    "collapsed": false,
    "pycharm": {
     "name": "#%%\n"
    }
   }
  },
  {
   "cell_type": "code",
   "execution_count": 7,
   "outputs": [
    {
     "name": "stdout",
     "output_type": "stream",
     "text": [
      "Authentication OK\n"
     ]
    }
   ],
   "source": [
    "CONSUMER_KEY_2 = \"h5NYX5oP3kZvrIJ3WRqsMlRNa\"\n",
    "CONSUMER_SECRET_2 = \"CczI5sPvr8FHBIlfYvv4zCg4hYa5aeLcYXtrtmdsocecfML6Be\"\n",
    "ACCESS_KEY_2 = \"1372660123626266628-N660ClIBbE7tlEKQRq05fuPDNXsvMj\"\n",
    "ACCESS_SECRET_2 = \"baNSESwJ1wXy5JHugyEp5HqlsAMFXzELmFH9X3cKR146G\"\n",
    "\n",
    "auth_2 = tweepy.OAuthHandler(CONSUMER_KEY_2, CONSUMER_SECRET_2)\n",
    "auth_2.set_access_token(ACCESS_KEY_2, ACCESS_SECRET_2)\n",
    "\n",
    "api_2 = tweepy.API(auth_2)\n",
    "\n",
    "try:\n",
    "    api.verify_credentials()\n",
    "    print('Authentication OK')\n",
    "except:\n",
    "    print('Error during authentication')"
   ],
   "metadata": {
    "collapsed": false,
    "pycharm": {
     "name": "#%%\n"
    }
   }
  },
  {
   "cell_type": "code",
   "execution_count": 6,
   "metadata": {},
   "outputs": [
    {
     "data": {
      "text/plain": "{'created_at': 'Mon Mar 01 14:41:45 +0000 2021',\n 'id': 1366398255588921351,\n 'id_str': '1366398255588921351',\n 'full_text': 'People attend the funeral of a woman who was shot dead yesterday while police were trying to disperse an anti-coup demonstration in Mandalay, Myanmar, March 1, 2021. REUTERS/Stringer #WhatsHappeningInMyanmar https://t.co/ZRE1Xtfyen',\n 'truncated': False,\n 'display_text_range': [0, 207],\n 'entities': {'hashtags': [{'text': 'WhatsHappeningInMyanmar',\n    'indices': [183, 207]}],\n  'symbols': [],\n  'user_mentions': [],\n  'urls': [],\n  'media': [{'id': 1366398250849288195,\n    'id_str': '1366398250849288195',\n    'indices': [208, 231],\n    'media_url': 'http://pbs.twimg.com/media/EvZr-DuWQAMoQT9.jpg',\n    'media_url_https': 'https://pbs.twimg.com/media/EvZr-DuWQAMoQT9.jpg',\n    'url': 'https://t.co/ZRE1Xtfyen',\n    'display_url': 'pic.twitter.com/ZRE1Xtfyen',\n    'expanded_url': 'https://twitter.com/walone4/status/1366398255588921351/photo/1',\n    'type': 'photo',\n    'sizes': {'thumb': {'w': 150, 'h': 150, 'resize': 'crop'},\n     'small': {'w': 680, 'h': 454, 'resize': 'fit'},\n     'large': {'w': 1600, 'h': 1069, 'resize': 'fit'},\n     'medium': {'w': 1200, 'h': 802, 'resize': 'fit'}}}]},\n 'extended_entities': {'media': [{'id': 1366398250849288195,\n    'id_str': '1366398250849288195',\n    'indices': [208, 231],\n    'media_url': 'http://pbs.twimg.com/media/EvZr-DuWQAMoQT9.jpg',\n    'media_url_https': 'https://pbs.twimg.com/media/EvZr-DuWQAMoQT9.jpg',\n    'url': 'https://t.co/ZRE1Xtfyen',\n    'display_url': 'pic.twitter.com/ZRE1Xtfyen',\n    'expanded_url': 'https://twitter.com/walone4/status/1366398255588921351/photo/1',\n    'type': 'photo',\n    'sizes': {'thumb': {'w': 150, 'h': 150, 'resize': 'crop'},\n     'small': {'w': 680, 'h': 454, 'resize': 'fit'},\n     'large': {'w': 1600, 'h': 1069, 'resize': 'fit'},\n     'medium': {'w': 1200, 'h': 802, 'resize': 'fit'}}}]},\n 'source': '<a href=\"http://twitter.com/download/iphone\" rel=\"nofollow\">Twitter for iPhone</a>',\n 'in_reply_to_status_id': None,\n 'in_reply_to_status_id_str': None,\n 'in_reply_to_user_id': None,\n 'in_reply_to_user_id_str': None,\n 'in_reply_to_screen_name': None,\n 'user': {'id': 1647425833,\n  'id_str': '1647425833',\n  'name': 'Wa Lone',\n  'screen_name': 'walone4',\n  'location': 'Toronto, Ontario',\n  'description': 'Correspondent @Reuters, reporting mostly Myanmar Coup, Pulitzer win 2019 with Reuters Team, Children Books Author, Street Photographer',\n  'url': 'https://t.co/FK5BLibNHG',\n  'entities': {'url': {'urls': [{'url': 'https://t.co/FK5BLibNHG',\n      'expanded_url': 'https://www.reuters.com/investigates/section/myanmar-rohingya/',\n      'display_url': 'reuters.com/investigates/s…',\n      'indices': [0, 23]}]},\n   'description': {'urls': []}},\n  'protected': False,\n  'followers_count': 64946,\n  'friends_count': 715,\n  'listed_count': 243,\n  'created_at': 'Mon Aug 05 09:38:05 +0000 2013',\n  'favourites_count': 270,\n  'utc_offset': None,\n  'time_zone': None,\n  'geo_enabled': True,\n  'verified': True,\n  'statuses_count': 1392,\n  'lang': None,\n  'contributors_enabled': False,\n  'is_translator': False,\n  'is_translation_enabled': False,\n  'profile_background_color': 'C0DEED',\n  'profile_background_image_url': 'http://abs.twimg.com/images/themes/theme1/bg.png',\n  'profile_background_image_url_https': 'https://abs.twimg.com/images/themes/theme1/bg.png',\n  'profile_background_tile': False,\n  'profile_image_url': 'http://pbs.twimg.com/profile_images/1300356462711988224/EgxkNanY_normal.jpg',\n  'profile_image_url_https': 'https://pbs.twimg.com/profile_images/1300356462711988224/EgxkNanY_normal.jpg',\n  'profile_banner_url': 'https://pbs.twimg.com/profile_banners/1647425833/1613569119',\n  'profile_link_color': '1DA1F2',\n  'profile_sidebar_border_color': 'C0DEED',\n  'profile_sidebar_fill_color': 'DDEEF6',\n  'profile_text_color': '333333',\n  'profile_use_background_image': True,\n  'has_extended_profile': True,\n  'default_profile': True,\n  'default_profile_image': False,\n  'following': False,\n  'follow_request_sent': False,\n  'notifications': False,\n  'translator_type': 'none',\n  'withheld_in_countries': []},\n 'geo': None,\n 'coordinates': None,\n 'place': {'id': '3797791ff9c0e4c6',\n  'url': 'https://api.twitter.com/1.1/geo/id/3797791ff9c0e4c6.json',\n  'place_type': 'city',\n  'name': 'Toronto',\n  'full_name': 'Toronto, Ontario',\n  'country_code': 'CA',\n  'country': 'Canada',\n  'contained_within': [],\n  'bounding_box': {'type': 'Polygon',\n   'coordinates': [[[-79.639319, 43.403221],\n     [-78.90582, 43.403221],\n     [-78.90582, 43.855401],\n     [-79.639319, 43.855401]]]},\n  'attributes': {}},\n 'contributors': None,\n 'is_quote_status': False,\n 'retweet_count': 1240,\n 'favorite_count': 1222,\n 'favorited': False,\n 'retweeted': False,\n 'possibly_sensitive': False,\n 'possibly_sensitive_appealable': False,\n 'lang': 'en'}"
     },
     "execution_count": 6,
     "metadata": {},
     "output_type": "execute_result"
    }
   ],
   "source": [
    "tweet_by_id_test = api.get_status(\"1366398255588921351\",tweet_mode = 'extended')\n",
    "tweet_by_id_test._json"
   ]
  },
  {
   "cell_type": "code",
   "execution_count": 100,
   "outputs": [],
   "source": [
    "from app.twitter_bot import twitter_reply\n",
    "from app.tweet_reachout import TweetReachOut"
   ],
   "metadata": {
    "collapsed": false,
    "pycharm": {
     "name": "#%%\n"
    }
   }
  },
  {
   "cell_type": "code",
   "execution_count": 101,
   "outputs": [
    {
     "data": {
      "text/plain": "'Pejegordo'"
     },
     "execution_count": 101,
     "metadata": {},
     "output_type": "execute_result"
    }
   ],
   "source": [
    "# A test tweet object selected by tweet ID\n",
    "tweet_by_id = api.get_status(\"1404577752590733315\",tweet_mode = 'extended')\n",
    "ticket = TweetReachOut(tweet_by_id)\n",
    "xx = ticket.conversation_log[ticket.initial_tweet_id]['username']\n",
    "xx"
   ],
   "metadata": {
    "collapsed": false,
    "pycharm": {
     "name": "#%%\n"
    }
   }
  },
  {
   "cell_type": "code",
   "execution_count": 102,
   "outputs": [
    {
     "ename": "TypeError",
     "evalue": "twitter_reply() takes 2 positional arguments but 3 were given",
     "output_type": "error",
     "traceback": [
      "\u001B[1;31m---------------------------------------------------------------------------\u001B[0m",
      "\u001B[1;31mTypeError\u001B[0m                                 Traceback (most recent call last)",
      "\u001B[1;32m<ipython-input-102-ad337d40562a>\u001B[0m in \u001B[0;36m<module>\u001B[1;34m\u001B[0m\n\u001B[1;32m----> 1\u001B[1;33m \u001B[0mtwitter_reply\u001B[0m\u001B[1;33m(\u001B[0m\u001B[0mticket\u001B[0m\u001B[1;33m.\u001B[0m\u001B[0minitial_tweet_id\u001B[0m \u001B[1;33m,\u001B[0m\u001B[0mxx\u001B[0m\u001B[1;33m,\u001B[0m \u001B[1;34m\"What City is this\"\u001B[0m\u001B[1;33m)\u001B[0m\u001B[1;33m\u001B[0m\u001B[1;33m\u001B[0m\u001B[0m\n\u001B[0m",
      "\u001B[1;31mTypeError\u001B[0m: twitter_reply() takes 2 positional arguments but 3 were given"
     ]
    }
   ],
   "source": [
    "twitter_reply(ticket.initial_tweet_id ,xx, \"What City is this\")"
   ],
   "metadata": {
    "collapsed": false,
    "pycharm": {
     "name": "#%%\n"
    }
   }
  },
  {
   "cell_type": "code",
   "execution_count": 103,
   "outputs": [
    {
     "ename": "TypeError",
     "evalue": "send_response() takes 3 positional arguments but 4 were given",
     "output_type": "error",
     "traceback": [
      "\u001B[1;31m---------------------------------------------------------------------------\u001B[0m",
      "\u001B[1;31mTypeError\u001B[0m                                 Traceback (most recent call last)",
      "\u001B[1;32m<ipython-input-103-308db2f54931>\u001B[0m in \u001B[0;36m<module>\u001B[1;34m\u001B[0m\n\u001B[1;32m----> 1\u001B[1;33m \u001B[0mticket\u001B[0m\u001B[1;33m.\u001B[0m\u001B[0msend_response\u001B[0m\u001B[1;33m(\u001B[0m\u001B[0mticket\u001B[0m\u001B[1;33m.\u001B[0m\u001B[0minitial_tweet_id\u001B[0m \u001B[1;33m,\u001B[0m\u001B[0mxx\u001B[0m\u001B[1;33m,\u001B[0m \u001B[1;34m\"What City is this\"\u001B[0m\u001B[1;33m)\u001B[0m \u001B[1;31m#, \"What city is this?\")\u001B[0m\u001B[1;33m\u001B[0m\u001B[1;33m\u001B[0m\u001B[0m\n\u001B[0m\u001B[0;32m      2\u001B[0m \u001B[0mticket\u001B[0m\u001B[1;33m.\u001B[0m\u001B[0mconversation_log\u001B[0m\u001B[1;33m\u001B[0m\u001B[1;33m\u001B[0m\u001B[0m\n\u001B[0;32m      3\u001B[0m \u001B[1;33m\u001B[0m\u001B[0m\n\u001B[0;32m      4\u001B[0m \u001B[1;33m\u001B[0m\u001B[0m\n",
      "\u001B[1;31mTypeError\u001B[0m: send_response() takes 3 positional arguments but 4 were given"
     ]
    }
   ],
   "source": [
    "ticket.send_response(ticket.initial_tweet_id ,xx, \"What City is this\") #, \"What city is this?\")\n",
    "ticket.conversation_log\n"
   ],
   "metadata": {
    "collapsed": false,
    "pycharm": {
     "name": "#%%\n"
    }
   }
  },
  {
   "cell_type": "code",
   "execution_count": 99,
   "outputs": [
    {
     "data": {
      "text/plain": "Status(_api=<tweepy.api.API object at 0x00000219868C1AC0>, _json={'created_at': 'Mon Jun 14 23:38:56 +0000 2021', 'id': 1404584167426379777, 'id_str': '1404584167426379777', 'full_text': '@Pejegordo: reply_text', 'truncated': False, 'display_text_range': [10, 22], 'entities': {'hashtags': [], 'symbols': [], 'user_mentions': [{'screen_name': 'Pejegordo', 'name': 'Peje', 'id': 181271196, 'id_str': '181271196', 'indices': [0, 10]}], 'urls': []}, 'source': '<a href=\"https://help.twitter.com/en/using-twitter/how-to-tweet#source-labels\" rel=\"nofollow\">twitter_apidemo33</a>', 'in_reply_to_status_id': 1404577752590733315, 'in_reply_to_status_id_str': '1404577752590733315', 'in_reply_to_user_id': 181271196, 'in_reply_to_user_id_str': '181271196', 'in_reply_to_screen_name': 'Pejegordo', 'user': {'id': 1372271424241602564, 'id_str': '1372271424241602564', 'name': 'Nathan Fleck', 'screen_name': 'NathanFleck8', 'location': '', 'description': 'Love databases and numbers. Quant in the making.', 'url': None, 'entities': {'description': {'urls': []}}, 'protected': False, 'followers_count': 0, 'friends_count': 0, 'listed_count': 0, 'created_at': 'Wed Mar 17 19:39:42 +0000 2021', 'favourites_count': 0, 'utc_offset': None, 'time_zone': None, 'geo_enabled': False, 'verified': False, 'statuses_count': 7, 'lang': None, 'contributors_enabled': False, 'is_translator': False, 'is_translation_enabled': False, 'profile_background_color': 'F5F8FA', 'profile_background_image_url': None, 'profile_background_image_url_https': None, 'profile_background_tile': False, 'profile_image_url': 'http://abs.twimg.com/sticky/default_profile_images/default_profile_normal.png', 'profile_image_url_https': 'https://abs.twimg.com/sticky/default_profile_images/default_profile_normal.png', 'profile_link_color': '1DA1F2', 'profile_sidebar_border_color': 'C0DEED', 'profile_sidebar_fill_color': 'DDEEF6', 'profile_text_color': '333333', 'profile_use_background_image': True, 'has_extended_profile': True, 'default_profile': True, 'default_profile_image': True, 'following': False, 'follow_request_sent': False, 'notifications': False, 'translator_type': 'none', 'withheld_in_countries': []}, 'geo': None, 'coordinates': None, 'place': None, 'contributors': None, 'is_quote_status': False, 'retweet_count': 0, 'favorite_count': 0, 'favorited': False, 'retweeted': False, 'lang': 'en'}, created_at=datetime.datetime(2021, 6, 14, 23, 38, 56), id=1404584167426379777, id_str='1404584167426379777', full_text='@Pejegordo: reply_text', truncated=False, display_text_range=[10, 22], entities={'hashtags': [], 'symbols': [], 'user_mentions': [{'screen_name': 'Pejegordo', 'name': 'Peje', 'id': 181271196, 'id_str': '181271196', 'indices': [0, 10]}], 'urls': []}, source='twitter_apidemo33', source_url='https://help.twitter.com/en/using-twitter/how-to-tweet#source-labels', in_reply_to_status_id=1404577752590733315, in_reply_to_status_id_str='1404577752590733315', in_reply_to_user_id=181271196, in_reply_to_user_id_str='181271196', in_reply_to_screen_name='Pejegordo', author=User(_api=<tweepy.api.API object at 0x00000219868C1AC0>, _json={'id': 1372271424241602564, 'id_str': '1372271424241602564', 'name': 'Nathan Fleck', 'screen_name': 'NathanFleck8', 'location': '', 'description': 'Love databases and numbers. Quant in the making.', 'url': None, 'entities': {'description': {'urls': []}}, 'protected': False, 'followers_count': 0, 'friends_count': 0, 'listed_count': 0, 'created_at': 'Wed Mar 17 19:39:42 +0000 2021', 'favourites_count': 0, 'utc_offset': None, 'time_zone': None, 'geo_enabled': False, 'verified': False, 'statuses_count': 7, 'lang': None, 'contributors_enabled': False, 'is_translator': False, 'is_translation_enabled': False, 'profile_background_color': 'F5F8FA', 'profile_background_image_url': None, 'profile_background_image_url_https': None, 'profile_background_tile': False, 'profile_image_url': 'http://abs.twimg.com/sticky/default_profile_images/default_profile_normal.png', 'profile_image_url_https': 'https://abs.twimg.com/sticky/default_profile_images/default_profile_normal.png', 'profile_link_color': '1DA1F2', 'profile_sidebar_border_color': 'C0DEED', 'profile_sidebar_fill_color': 'DDEEF6', 'profile_text_color': '333333', 'profile_use_background_image': True, 'has_extended_profile': True, 'default_profile': True, 'default_profile_image': True, 'following': False, 'follow_request_sent': False, 'notifications': False, 'translator_type': 'none', 'withheld_in_countries': []}, id=1372271424241602564, id_str='1372271424241602564', name='Nathan Fleck', screen_name='NathanFleck8', location='', description='Love databases and numbers. Quant in the making.', url=None, entities={'description': {'urls': []}}, protected=False, followers_count=0, friends_count=0, listed_count=0, created_at=datetime.datetime(2021, 3, 17, 19, 39, 42), favourites_count=0, utc_offset=None, time_zone=None, geo_enabled=False, verified=False, statuses_count=7, lang=None, contributors_enabled=False, is_translator=False, is_translation_enabled=False, profile_background_color='F5F8FA', profile_background_image_url=None, profile_background_image_url_https=None, profile_background_tile=False, profile_image_url='http://abs.twimg.com/sticky/default_profile_images/default_profile_normal.png', profile_image_url_https='https://abs.twimg.com/sticky/default_profile_images/default_profile_normal.png', profile_link_color='1DA1F2', profile_sidebar_border_color='C0DEED', profile_sidebar_fill_color='DDEEF6', profile_text_color='333333', profile_use_background_image=True, has_extended_profile=True, default_profile=True, default_profile_image=True, following=False, follow_request_sent=False, notifications=False, translator_type='none', withheld_in_countries=[]), user=User(_api=<tweepy.api.API object at 0x00000219868C1AC0>, _json={'id': 1372271424241602564, 'id_str': '1372271424241602564', 'name': 'Nathan Fleck', 'screen_name': 'NathanFleck8', 'location': '', 'description': 'Love databases and numbers. Quant in the making.', 'url': None, 'entities': {'description': {'urls': []}}, 'protected': False, 'followers_count': 0, 'friends_count': 0, 'listed_count': 0, 'created_at': 'Wed Mar 17 19:39:42 +0000 2021', 'favourites_count': 0, 'utc_offset': None, 'time_zone': None, 'geo_enabled': False, 'verified': False, 'statuses_count': 7, 'lang': None, 'contributors_enabled': False, 'is_translator': False, 'is_translation_enabled': False, 'profile_background_color': 'F5F8FA', 'profile_background_image_url': None, 'profile_background_image_url_https': None, 'profile_background_tile': False, 'profile_image_url': 'http://abs.twimg.com/sticky/default_profile_images/default_profile_normal.png', 'profile_image_url_https': 'https://abs.twimg.com/sticky/default_profile_images/default_profile_normal.png', 'profile_link_color': '1DA1F2', 'profile_sidebar_border_color': 'C0DEED', 'profile_sidebar_fill_color': 'DDEEF6', 'profile_text_color': '333333', 'profile_use_background_image': True, 'has_extended_profile': True, 'default_profile': True, 'default_profile_image': True, 'following': False, 'follow_request_sent': False, 'notifications': False, 'translator_type': 'none', 'withheld_in_countries': []}, id=1372271424241602564, id_str='1372271424241602564', name='Nathan Fleck', screen_name='NathanFleck8', location='', description='Love databases and numbers. Quant in the making.', url=None, entities={'description': {'urls': []}}, protected=False, followers_count=0, friends_count=0, listed_count=0, created_at=datetime.datetime(2021, 3, 17, 19, 39, 42), favourites_count=0, utc_offset=None, time_zone=None, geo_enabled=False, verified=False, statuses_count=7, lang=None, contributors_enabled=False, is_translator=False, is_translation_enabled=False, profile_background_color='F5F8FA', profile_background_image_url=None, profile_background_image_url_https=None, profile_background_tile=False, profile_image_url='http://abs.twimg.com/sticky/default_profile_images/default_profile_normal.png', profile_image_url_https='https://abs.twimg.com/sticky/default_profile_images/default_profile_normal.png', profile_link_color='1DA1F2', profile_sidebar_border_color='C0DEED', profile_sidebar_fill_color='DDEEF6', profile_text_color='333333', profile_use_background_image=True, has_extended_profile=True, default_profile=True, default_profile_image=True, following=False, follow_request_sent=False, notifications=False, translator_type='none', withheld_in_countries=[]), geo=None, coordinates=None, place=None, contributors=None, is_quote_status=False, retweet_count=0, favorite_count=0, favorited=False, retweeted=False, lang='en')"
     },
     "execution_count": 99,
     "metadata": {},
     "output_type": "execute_result"
    }
   ],
   "source": [
    "username = xx\n",
    "reply_id = ticket.initial_tweet_id\n",
    "api.update_status(status = f\"@{username}: reply_text\", in_reply_to_status_id=reply_id,tweet_mode = 'extended')"
   ],
   "metadata": {
    "collapsed": false,
    "pycharm": {
     "name": "#%%\n"
    }
   }
  },
  {
   "cell_type": "code",
   "execution_count": 96,
   "outputs": [
    {
     "data": {
      "text/plain": "{'1404577752590733315': {'username': 'Pejegordo',\n  'tweet_text': 'This is bananas',\n  'replies': []}}"
     },
     "execution_count": 96,
     "metadata": {},
     "output_type": "execute_result"
    }
   ],
   "source": [
    "ticket.conversation_log"
   ],
   "metadata": {
    "collapsed": false,
    "pycharm": {
     "name": "#%%\n"
    }
   }
  },
  {
   "cell_type": "code",
   "execution_count": 90,
   "outputs": [
    {
     "data": {
      "text/plain": "'Pejegordo'"
     },
     "execution_count": 90,
     "metadata": {},
     "output_type": "execute_result"
    }
   ],
   "source": [],
   "metadata": {
    "collapsed": false,
    "pycharm": {
     "name": "#%%\n"
    }
   }
  },
  {
   "cell_type": "code",
   "execution_count": 49,
   "outputs": [
    {
     "data": {
      "text/plain": "{'created_at': 'Mon Jun 14 23:13:26 +0000 2021',\n 'id': 1404577752590733315,\n 'id_str': '1404577752590733315',\n 'full_text': 'This is bananas',\n 'truncated': False,\n 'display_text_range': [0, 15],\n 'entities': {'hashtags': [], 'symbols': [], 'user_mentions': [], 'urls': []},\n 'source': '<a href=\"https://mobile.twitter.com\" rel=\"nofollow\">Twitter Web App</a>',\n 'in_reply_to_status_id': None,\n 'in_reply_to_status_id_str': None,\n 'in_reply_to_user_id': None,\n 'in_reply_to_user_id_str': None,\n 'in_reply_to_screen_name': None,\n 'user': {'id': 181271196,\n  'id_str': '181271196',\n  'name': 'Peje',\n  'screen_name': 'Pejegordo',\n  'location': 'Puerto Rico',\n  'description': 'Mechanical Engineer. Into: fishing, growing, evolution, decentralization, human behavior, information distribution. Onto: politics, fragility, status-signaling.',\n  'url': None,\n  'entities': {'description': {'urls': []}},\n  'protected': False,\n  'followers_count': 68,\n  'friends_count': 1094,\n  'listed_count': 0,\n  'created_at': 'Sat Aug 21 19:21:34 +0000 2010',\n  'favourites_count': 12994,\n  'utc_offset': None,\n  'time_zone': None,\n  'geo_enabled': True,\n  'verified': False,\n  'statuses_count': 2807,\n  'lang': None,\n  'contributors_enabled': False,\n  'is_translator': False,\n  'is_translation_enabled': False,\n  'profile_background_color': 'C0DEED',\n  'profile_background_image_url': 'http://abs.twimg.com/images/themes/theme1/bg.png',\n  'profile_background_image_url_https': 'https://abs.twimg.com/images/themes/theme1/bg.png',\n  'profile_background_tile': False,\n  'profile_image_url': 'http://pbs.twimg.com/profile_images/1262714283005272071/VdOucEvE_normal.jpg',\n  'profile_image_url_https': 'https://pbs.twimg.com/profile_images/1262714283005272071/VdOucEvE_normal.jpg',\n  'profile_banner_url': 'https://pbs.twimg.com/profile_banners/181271196/1589889980',\n  'profile_link_color': '1DA1F2',\n  'profile_sidebar_border_color': 'C0DEED',\n  'profile_sidebar_fill_color': 'DDEEF6',\n  'profile_text_color': '333333',\n  'profile_use_background_image': True,\n  'has_extended_profile': True,\n  'default_profile': True,\n  'default_profile_image': False,\n  'following': False,\n  'follow_request_sent': False,\n  'notifications': False,\n  'translator_type': 'none',\n  'withheld_in_countries': []},\n 'geo': None,\n 'coordinates': None,\n 'place': None,\n 'contributors': None,\n 'is_quote_status': False,\n 'retweet_count': 0,\n 'favorite_count': 0,\n 'favorited': False,\n 'retweeted': False,\n 'lang': 'en'}"
     },
     "execution_count": 49,
     "metadata": {},
     "output_type": "execute_result"
    }
   ],
   "source": [
    "tweet_by_id._json"
   ],
   "metadata": {
    "collapsed": false,
    "pycharm": {
     "name": "#%%\n"
    }
   }
  },
  {
   "cell_type": "markdown",
   "source": [
    "## Twitter bot will search for mentions"
   ],
   "metadata": {
    "collapsed": false,
    "pycharm": {
     "name": "#%% md\n"
    }
   }
  },
  {
   "cell_type": "code",
   "execution_count": 46,
   "outputs": [],
   "source": [
    "dic = {}\n",
    "def get_mentions():\n",
    "    return api.mentions_timeline()\n",
    "\n",
    "mentions = get_mentions()"
   ],
   "metadata": {
    "collapsed": false,
    "pycharm": {
     "name": "#%%\n"
    }
   }
  },
  {
   "cell_type": "code",
   "execution_count": 47,
   "outputs": [
    {
     "name": "stdout",
     "output_type": "stream",
     "text": [
      "Status(_api=<tweepy.api.API object at 0x00000219868C1AC0>, _json={'created_at': 'Mon Jun 14 22:57:52 +0000 2021', 'id': 1404573832577495041, 'id_str': '1404573832577495041', 'text': '@NathanFleck8 YO', 'truncated': False, 'entities': {'hashtags': [], 'symbols': [], 'user_mentions': [{'screen_name': 'NathanFleck8', 'name': 'Nathan Fleck', 'id': 1372271424241602564, 'id_str': '1372271424241602564', 'indices': [0, 13]}], 'urls': []}, 'source': '<a href=\"https://mobile.twitter.com\" rel=\"nofollow\">Twitter Web App</a>', 'in_reply_to_status_id': 1404549544537464834, 'in_reply_to_status_id_str': '1404549544537464834', 'in_reply_to_user_id': 1372271424241602564, 'in_reply_to_user_id_str': '1372271424241602564', 'in_reply_to_screen_name': 'NathanFleck8', 'user': {'id': 181271196, 'id_str': '181271196', 'name': 'Peje', 'screen_name': 'Pejegordo', 'location': 'Puerto Rico', 'description': 'Mechanical Engineer. Into: fishing, growing, evolution, decentralization, human behavior, information distribution. Onto: politics, fragility, status-signaling.', 'url': None, 'entities': {'description': {'urls': []}}, 'protected': False, 'followers_count': 68, 'friends_count': 1094, 'listed_count': 0, 'created_at': 'Sat Aug 21 19:21:34 +0000 2010', 'favourites_count': 12994, 'utc_offset': None, 'time_zone': None, 'geo_enabled': True, 'verified': False, 'statuses_count': 2806, 'lang': None, 'contributors_enabled': False, 'is_translator': False, 'is_translation_enabled': False, 'profile_background_color': 'C0DEED', 'profile_background_image_url': 'http://abs.twimg.com/images/themes/theme1/bg.png', 'profile_background_image_url_https': 'https://abs.twimg.com/images/themes/theme1/bg.png', 'profile_background_tile': False, 'profile_image_url': 'http://pbs.twimg.com/profile_images/1262714283005272071/VdOucEvE_normal.jpg', 'profile_image_url_https': 'https://pbs.twimg.com/profile_images/1262714283005272071/VdOucEvE_normal.jpg', 'profile_banner_url': 'https://pbs.twimg.com/profile_banners/181271196/1589889980', 'profile_link_color': '1DA1F2', 'profile_sidebar_border_color': 'C0DEED', 'profile_sidebar_fill_color': 'DDEEF6', 'profile_text_color': '333333', 'profile_use_background_image': True, 'has_extended_profile': True, 'default_profile': True, 'default_profile_image': False, 'following': False, 'follow_request_sent': False, 'notifications': False, 'translator_type': 'none', 'withheld_in_countries': []}, 'geo': None, 'coordinates': None, 'place': None, 'contributors': None, 'is_quote_status': False, 'retweet_count': 0, 'favorite_count': 0, 'favorited': False, 'retweeted': False, 'lang': 'und'}, created_at=datetime.datetime(2021, 6, 14, 22, 57, 52), id=1404573832577495041, id_str='1404573832577495041', text='@NathanFleck8 YO', truncated=False, entities={'hashtags': [], 'symbols': [], 'user_mentions': [{'screen_name': 'NathanFleck8', 'name': 'Nathan Fleck', 'id': 1372271424241602564, 'id_str': '1372271424241602564', 'indices': [0, 13]}], 'urls': []}, source='Twitter Web App', source_url='https://mobile.twitter.com', in_reply_to_status_id=1404549544537464834, in_reply_to_status_id_str='1404549544537464834', in_reply_to_user_id=1372271424241602564, in_reply_to_user_id_str='1372271424241602564', in_reply_to_screen_name='NathanFleck8', author=User(_api=<tweepy.api.API object at 0x00000219868C1AC0>, _json={'id': 181271196, 'id_str': '181271196', 'name': 'Peje', 'screen_name': 'Pejegordo', 'location': 'Puerto Rico', 'description': 'Mechanical Engineer. Into: fishing, growing, evolution, decentralization, human behavior, information distribution. Onto: politics, fragility, status-signaling.', 'url': None, 'entities': {'description': {'urls': []}}, 'protected': False, 'followers_count': 68, 'friends_count': 1094, 'listed_count': 0, 'created_at': 'Sat Aug 21 19:21:34 +0000 2010', 'favourites_count': 12994, 'utc_offset': None, 'time_zone': None, 'geo_enabled': True, 'verified': False, 'statuses_count': 2806, 'lang': None, 'contributors_enabled': False, 'is_translator': False, 'is_translation_enabled': False, 'profile_background_color': 'C0DEED', 'profile_background_image_url': 'http://abs.twimg.com/images/themes/theme1/bg.png', 'profile_background_image_url_https': 'https://abs.twimg.com/images/themes/theme1/bg.png', 'profile_background_tile': False, 'profile_image_url': 'http://pbs.twimg.com/profile_images/1262714283005272071/VdOucEvE_normal.jpg', 'profile_image_url_https': 'https://pbs.twimg.com/profile_images/1262714283005272071/VdOucEvE_normal.jpg', 'profile_banner_url': 'https://pbs.twimg.com/profile_banners/181271196/1589889980', 'profile_link_color': '1DA1F2', 'profile_sidebar_border_color': 'C0DEED', 'profile_sidebar_fill_color': 'DDEEF6', 'profile_text_color': '333333', 'profile_use_background_image': True, 'has_extended_profile': True, 'default_profile': True, 'default_profile_image': False, 'following': False, 'follow_request_sent': False, 'notifications': False, 'translator_type': 'none', 'withheld_in_countries': []}, id=181271196, id_str='181271196', name='Peje', screen_name='Pejegordo', location='Puerto Rico', description='Mechanical Engineer. Into: fishing, growing, evolution, decentralization, human behavior, information distribution. Onto: politics, fragility, status-signaling.', url=None, entities={'description': {'urls': []}}, protected=False, followers_count=68, friends_count=1094, listed_count=0, created_at=datetime.datetime(2010, 8, 21, 19, 21, 34), favourites_count=12994, utc_offset=None, time_zone=None, geo_enabled=True, verified=False, statuses_count=2806, lang=None, contributors_enabled=False, is_translator=False, is_translation_enabled=False, profile_background_color='C0DEED', profile_background_image_url='http://abs.twimg.com/images/themes/theme1/bg.png', profile_background_image_url_https='https://abs.twimg.com/images/themes/theme1/bg.png', profile_background_tile=False, profile_image_url='http://pbs.twimg.com/profile_images/1262714283005272071/VdOucEvE_normal.jpg', profile_image_url_https='https://pbs.twimg.com/profile_images/1262714283005272071/VdOucEvE_normal.jpg', profile_banner_url='https://pbs.twimg.com/profile_banners/181271196/1589889980', profile_link_color='1DA1F2', profile_sidebar_border_color='C0DEED', profile_sidebar_fill_color='DDEEF6', profile_text_color='333333', profile_use_background_image=True, has_extended_profile=True, default_profile=True, default_profile_image=False, following=False, follow_request_sent=False, notifications=False, translator_type='none', withheld_in_countries=[]), user=User(_api=<tweepy.api.API object at 0x00000219868C1AC0>, _json={'id': 181271196, 'id_str': '181271196', 'name': 'Peje', 'screen_name': 'Pejegordo', 'location': 'Puerto Rico', 'description': 'Mechanical Engineer. Into: fishing, growing, evolution, decentralization, human behavior, information distribution. Onto: politics, fragility, status-signaling.', 'url': None, 'entities': {'description': {'urls': []}}, 'protected': False, 'followers_count': 68, 'friends_count': 1094, 'listed_count': 0, 'created_at': 'Sat Aug 21 19:21:34 +0000 2010', 'favourites_count': 12994, 'utc_offset': None, 'time_zone': None, 'geo_enabled': True, 'verified': False, 'statuses_count': 2806, 'lang': None, 'contributors_enabled': False, 'is_translator': False, 'is_translation_enabled': False, 'profile_background_color': 'C0DEED', 'profile_background_image_url': 'http://abs.twimg.com/images/themes/theme1/bg.png', 'profile_background_image_url_https': 'https://abs.twimg.com/images/themes/theme1/bg.png', 'profile_background_tile': False, 'profile_image_url': 'http://pbs.twimg.com/profile_images/1262714283005272071/VdOucEvE_normal.jpg', 'profile_image_url_https': 'https://pbs.twimg.com/profile_images/1262714283005272071/VdOucEvE_normal.jpg', 'profile_banner_url': 'https://pbs.twimg.com/profile_banners/181271196/1589889980', 'profile_link_color': '1DA1F2', 'profile_sidebar_border_color': 'C0DEED', 'profile_sidebar_fill_color': 'DDEEF6', 'profile_text_color': '333333', 'profile_use_background_image': True, 'has_extended_profile': True, 'default_profile': True, 'default_profile_image': False, 'following': False, 'follow_request_sent': False, 'notifications': False, 'translator_type': 'none', 'withheld_in_countries': []}, id=181271196, id_str='181271196', name='Peje', screen_name='Pejegordo', location='Puerto Rico', description='Mechanical Engineer. Into: fishing, growing, evolution, decentralization, human behavior, information distribution. Onto: politics, fragility, status-signaling.', url=None, entities={'description': {'urls': []}}, protected=False, followers_count=68, friends_count=1094, listed_count=0, created_at=datetime.datetime(2010, 8, 21, 19, 21, 34), favourites_count=12994, utc_offset=None, time_zone=None, geo_enabled=True, verified=False, statuses_count=2806, lang=None, contributors_enabled=False, is_translator=False, is_translation_enabled=False, profile_background_color='C0DEED', profile_background_image_url='http://abs.twimg.com/images/themes/theme1/bg.png', profile_background_image_url_https='https://abs.twimg.com/images/themes/theme1/bg.png', profile_background_tile=False, profile_image_url='http://pbs.twimg.com/profile_images/1262714283005272071/VdOucEvE_normal.jpg', profile_image_url_https='https://pbs.twimg.com/profile_images/1262714283005272071/VdOucEvE_normal.jpg', profile_banner_url='https://pbs.twimg.com/profile_banners/181271196/1589889980', profile_link_color='1DA1F2', profile_sidebar_border_color='C0DEED', profile_sidebar_fill_color='DDEEF6', profile_text_color='333333', profile_use_background_image=True, has_extended_profile=True, default_profile=True, default_profile_image=False, following=False, follow_request_sent=False, notifications=False, translator_type='none', withheld_in_countries=[]), geo=None, coordinates=None, place=None, contributors=None, is_quote_status=False, retweet_count=0, favorite_count=0, favorited=False, retweeted=False, lang='und')\n",
      "Status(_api=<tweepy.api.API object at 0x00000219868C1AC0>, _json={'created_at': 'Mon Jun 14 22:55:45 +0000 2021', 'id': 1404573303658979332, 'id_str': '1404573303658979332', 'text': '@NathanFleck8 test reply 3333', 'truncated': False, 'entities': {'hashtags': [], 'symbols': [], 'user_mentions': [{'screen_name': 'NathanFleck8', 'name': 'Nathan Fleck', 'id': 1372271424241602564, 'id_str': '1372271424241602564', 'indices': [0, 13]}], 'urls': []}, 'source': '<a href=\"https://mobile.twitter.com\" rel=\"nofollow\">Twitter Web App</a>', 'in_reply_to_status_id': 1404549544537464834, 'in_reply_to_status_id_str': '1404549544537464834', 'in_reply_to_user_id': 1372271424241602564, 'in_reply_to_user_id_str': '1372271424241602564', 'in_reply_to_screen_name': 'NathanFleck8', 'user': {'id': 1372271424241602564, 'id_str': '1372271424241602564', 'name': 'Nathan Fleck', 'screen_name': 'NathanFleck8', 'location': '', 'description': 'Love databases and numbers. Quant in the making.', 'url': None, 'entities': {'description': {'urls': []}}, 'protected': False, 'followers_count': 0, 'friends_count': 0, 'listed_count': 0, 'created_at': 'Wed Mar 17 19:39:42 +0000 2021', 'favourites_count': 0, 'utc_offset': None, 'time_zone': None, 'geo_enabled': False, 'verified': False, 'statuses_count': 6, 'lang': None, 'contributors_enabled': False, 'is_translator': False, 'is_translation_enabled': False, 'profile_background_color': 'F5F8FA', 'profile_background_image_url': None, 'profile_background_image_url_https': None, 'profile_background_tile': False, 'profile_image_url': 'http://abs.twimg.com/sticky/default_profile_images/default_profile_normal.png', 'profile_image_url_https': 'https://abs.twimg.com/sticky/default_profile_images/default_profile_normal.png', 'profile_link_color': '1DA1F2', 'profile_sidebar_border_color': 'C0DEED', 'profile_sidebar_fill_color': 'DDEEF6', 'profile_text_color': '333333', 'profile_use_background_image': True, 'has_extended_profile': True, 'default_profile': True, 'default_profile_image': True, 'following': False, 'follow_request_sent': False, 'notifications': False, 'translator_type': 'none', 'withheld_in_countries': []}, 'geo': None, 'coordinates': None, 'place': None, 'contributors': None, 'is_quote_status': False, 'retweet_count': 0, 'favorite_count': 0, 'favorited': False, 'retweeted': False, 'lang': 'en'}, created_at=datetime.datetime(2021, 6, 14, 22, 55, 45), id=1404573303658979332, id_str='1404573303658979332', text='@NathanFleck8 test reply 3333', truncated=False, entities={'hashtags': [], 'symbols': [], 'user_mentions': [{'screen_name': 'NathanFleck8', 'name': 'Nathan Fleck', 'id': 1372271424241602564, 'id_str': '1372271424241602564', 'indices': [0, 13]}], 'urls': []}, source='Twitter Web App', source_url='https://mobile.twitter.com', in_reply_to_status_id=1404549544537464834, in_reply_to_status_id_str='1404549544537464834', in_reply_to_user_id=1372271424241602564, in_reply_to_user_id_str='1372271424241602564', in_reply_to_screen_name='NathanFleck8', author=User(_api=<tweepy.api.API object at 0x00000219868C1AC0>, _json={'id': 1372271424241602564, 'id_str': '1372271424241602564', 'name': 'Nathan Fleck', 'screen_name': 'NathanFleck8', 'location': '', 'description': 'Love databases and numbers. Quant in the making.', 'url': None, 'entities': {'description': {'urls': []}}, 'protected': False, 'followers_count': 0, 'friends_count': 0, 'listed_count': 0, 'created_at': 'Wed Mar 17 19:39:42 +0000 2021', 'favourites_count': 0, 'utc_offset': None, 'time_zone': None, 'geo_enabled': False, 'verified': False, 'statuses_count': 6, 'lang': None, 'contributors_enabled': False, 'is_translator': False, 'is_translation_enabled': False, 'profile_background_color': 'F5F8FA', 'profile_background_image_url': None, 'profile_background_image_url_https': None, 'profile_background_tile': False, 'profile_image_url': 'http://abs.twimg.com/sticky/default_profile_images/default_profile_normal.png', 'profile_image_url_https': 'https://abs.twimg.com/sticky/default_profile_images/default_profile_normal.png', 'profile_link_color': '1DA1F2', 'profile_sidebar_border_color': 'C0DEED', 'profile_sidebar_fill_color': 'DDEEF6', 'profile_text_color': '333333', 'profile_use_background_image': True, 'has_extended_profile': True, 'default_profile': True, 'default_profile_image': True, 'following': False, 'follow_request_sent': False, 'notifications': False, 'translator_type': 'none', 'withheld_in_countries': []}, id=1372271424241602564, id_str='1372271424241602564', name='Nathan Fleck', screen_name='NathanFleck8', location='', description='Love databases and numbers. Quant in the making.', url=None, entities={'description': {'urls': []}}, protected=False, followers_count=0, friends_count=0, listed_count=0, created_at=datetime.datetime(2021, 3, 17, 19, 39, 42), favourites_count=0, utc_offset=None, time_zone=None, geo_enabled=False, verified=False, statuses_count=6, lang=None, contributors_enabled=False, is_translator=False, is_translation_enabled=False, profile_background_color='F5F8FA', profile_background_image_url=None, profile_background_image_url_https=None, profile_background_tile=False, profile_image_url='http://abs.twimg.com/sticky/default_profile_images/default_profile_normal.png', profile_image_url_https='https://abs.twimg.com/sticky/default_profile_images/default_profile_normal.png', profile_link_color='1DA1F2', profile_sidebar_border_color='C0DEED', profile_sidebar_fill_color='DDEEF6', profile_text_color='333333', profile_use_background_image=True, has_extended_profile=True, default_profile=True, default_profile_image=True, following=False, follow_request_sent=False, notifications=False, translator_type='none', withheld_in_countries=[]), user=User(_api=<tweepy.api.API object at 0x00000219868C1AC0>, _json={'id': 1372271424241602564, 'id_str': '1372271424241602564', 'name': 'Nathan Fleck', 'screen_name': 'NathanFleck8', 'location': '', 'description': 'Love databases and numbers. Quant in the making.', 'url': None, 'entities': {'description': {'urls': []}}, 'protected': False, 'followers_count': 0, 'friends_count': 0, 'listed_count': 0, 'created_at': 'Wed Mar 17 19:39:42 +0000 2021', 'favourites_count': 0, 'utc_offset': None, 'time_zone': None, 'geo_enabled': False, 'verified': False, 'statuses_count': 6, 'lang': None, 'contributors_enabled': False, 'is_translator': False, 'is_translation_enabled': False, 'profile_background_color': 'F5F8FA', 'profile_background_image_url': None, 'profile_background_image_url_https': None, 'profile_background_tile': False, 'profile_image_url': 'http://abs.twimg.com/sticky/default_profile_images/default_profile_normal.png', 'profile_image_url_https': 'https://abs.twimg.com/sticky/default_profile_images/default_profile_normal.png', 'profile_link_color': '1DA1F2', 'profile_sidebar_border_color': 'C0DEED', 'profile_sidebar_fill_color': 'DDEEF6', 'profile_text_color': '333333', 'profile_use_background_image': True, 'has_extended_profile': True, 'default_profile': True, 'default_profile_image': True, 'following': False, 'follow_request_sent': False, 'notifications': False, 'translator_type': 'none', 'withheld_in_countries': []}, id=1372271424241602564, id_str='1372271424241602564', name='Nathan Fleck', screen_name='NathanFleck8', location='', description='Love databases and numbers. Quant in the making.', url=None, entities={'description': {'urls': []}}, protected=False, followers_count=0, friends_count=0, listed_count=0, created_at=datetime.datetime(2021, 3, 17, 19, 39, 42), favourites_count=0, utc_offset=None, time_zone=None, geo_enabled=False, verified=False, statuses_count=6, lang=None, contributors_enabled=False, is_translator=False, is_translation_enabled=False, profile_background_color='F5F8FA', profile_background_image_url=None, profile_background_image_url_https=None, profile_background_tile=False, profile_image_url='http://abs.twimg.com/sticky/default_profile_images/default_profile_normal.png', profile_image_url_https='https://abs.twimg.com/sticky/default_profile_images/default_profile_normal.png', profile_link_color='1DA1F2', profile_sidebar_border_color='C0DEED', profile_sidebar_fill_color='DDEEF6', profile_text_color='333333', profile_use_background_image=True, has_extended_profile=True, default_profile=True, default_profile_image=True, following=False, follow_request_sent=False, notifications=False, translator_type='none', withheld_in_countries=[]), geo=None, coordinates=None, place=None, contributors=None, is_quote_status=False, retweet_count=0, favorite_count=0, favorited=False, retweeted=False, lang='en')\n",
      "Status(_api=<tweepy.api.API object at 0x00000219868C1AC0>, _json={'created_at': 'Thu Jun 10 18:38:36 +0000 2021', 'id': 1403059035318927364, 'id_str': '1403059035318927364', 'text': '@NathanFleck8 last reply', 'truncated': False, 'entities': {'hashtags': [], 'symbols': [], 'user_mentions': [{'screen_name': 'NathanFleck8', 'name': 'Nathan Fleck', 'id': 1372271424241602564, 'id_str': '1372271424241602564', 'indices': [0, 13]}], 'urls': []}, 'source': '<a href=\"https://mobile.twitter.com\" rel=\"nofollow\">Twitter Web App</a>', 'in_reply_to_status_id': 1402778894953062400, 'in_reply_to_status_id_str': '1402778894953062400', 'in_reply_to_user_id': 1372271424241602564, 'in_reply_to_user_id_str': '1372271424241602564', 'in_reply_to_screen_name': 'NathanFleck8', 'user': {'id': 1372660123626266628, 'id_str': '1372660123626266628', 'name': 'Justin', 'screen_name': 'JustinA30904098', 'location': '', 'description': 'Data Analyst', 'url': None, 'entities': {'description': {'urls': []}}, 'protected': False, 'followers_count': 1, 'friends_count': 14, 'listed_count': 0, 'created_at': 'Thu Mar 18 21:24:16 +0000 2021', 'favourites_count': 0, 'utc_offset': None, 'time_zone': None, 'geo_enabled': False, 'verified': False, 'statuses_count': 3, 'lang': None, 'contributors_enabled': False, 'is_translator': False, 'is_translation_enabled': False, 'profile_background_color': 'F5F8FA', 'profile_background_image_url': None, 'profile_background_image_url_https': None, 'profile_background_tile': False, 'profile_image_url': 'http://pbs.twimg.com/profile_images/1372660880387739653/odwaOS0q_normal.jpg', 'profile_image_url_https': 'https://pbs.twimg.com/profile_images/1372660880387739653/odwaOS0q_normal.jpg', 'profile_link_color': '1DA1F2', 'profile_sidebar_border_color': 'C0DEED', 'profile_sidebar_fill_color': 'DDEEF6', 'profile_text_color': '333333', 'profile_use_background_image': True, 'has_extended_profile': True, 'default_profile': True, 'default_profile_image': False, 'following': False, 'follow_request_sent': False, 'notifications': False, 'translator_type': 'none', 'withheld_in_countries': []}, 'geo': None, 'coordinates': None, 'place': None, 'contributors': None, 'is_quote_status': False, 'retweet_count': 0, 'favorite_count': 0, 'favorited': False, 'retweeted': False, 'lang': 'en'}, created_at=datetime.datetime(2021, 6, 10, 18, 38, 36), id=1403059035318927364, id_str='1403059035318927364', text='@NathanFleck8 last reply', truncated=False, entities={'hashtags': [], 'symbols': [], 'user_mentions': [{'screen_name': 'NathanFleck8', 'name': 'Nathan Fleck', 'id': 1372271424241602564, 'id_str': '1372271424241602564', 'indices': [0, 13]}], 'urls': []}, source='Twitter Web App', source_url='https://mobile.twitter.com', in_reply_to_status_id=1402778894953062400, in_reply_to_status_id_str='1402778894953062400', in_reply_to_user_id=1372271424241602564, in_reply_to_user_id_str='1372271424241602564', in_reply_to_screen_name='NathanFleck8', author=User(_api=<tweepy.api.API object at 0x00000219868C1AC0>, _json={'id': 1372660123626266628, 'id_str': '1372660123626266628', 'name': 'Justin', 'screen_name': 'JustinA30904098', 'location': '', 'description': 'Data Analyst', 'url': None, 'entities': {'description': {'urls': []}}, 'protected': False, 'followers_count': 1, 'friends_count': 14, 'listed_count': 0, 'created_at': 'Thu Mar 18 21:24:16 +0000 2021', 'favourites_count': 0, 'utc_offset': None, 'time_zone': None, 'geo_enabled': False, 'verified': False, 'statuses_count': 3, 'lang': None, 'contributors_enabled': False, 'is_translator': False, 'is_translation_enabled': False, 'profile_background_color': 'F5F8FA', 'profile_background_image_url': None, 'profile_background_image_url_https': None, 'profile_background_tile': False, 'profile_image_url': 'http://pbs.twimg.com/profile_images/1372660880387739653/odwaOS0q_normal.jpg', 'profile_image_url_https': 'https://pbs.twimg.com/profile_images/1372660880387739653/odwaOS0q_normal.jpg', 'profile_link_color': '1DA1F2', 'profile_sidebar_border_color': 'C0DEED', 'profile_sidebar_fill_color': 'DDEEF6', 'profile_text_color': '333333', 'profile_use_background_image': True, 'has_extended_profile': True, 'default_profile': True, 'default_profile_image': False, 'following': False, 'follow_request_sent': False, 'notifications': False, 'translator_type': 'none', 'withheld_in_countries': []}, id=1372660123626266628, id_str='1372660123626266628', name='Justin', screen_name='JustinA30904098', location='', description='Data Analyst', url=None, entities={'description': {'urls': []}}, protected=False, followers_count=1, friends_count=14, listed_count=0, created_at=datetime.datetime(2021, 3, 18, 21, 24, 16), favourites_count=0, utc_offset=None, time_zone=None, geo_enabled=False, verified=False, statuses_count=3, lang=None, contributors_enabled=False, is_translator=False, is_translation_enabled=False, profile_background_color='F5F8FA', profile_background_image_url=None, profile_background_image_url_https=None, profile_background_tile=False, profile_image_url='http://pbs.twimg.com/profile_images/1372660880387739653/odwaOS0q_normal.jpg', profile_image_url_https='https://pbs.twimg.com/profile_images/1372660880387739653/odwaOS0q_normal.jpg', profile_link_color='1DA1F2', profile_sidebar_border_color='C0DEED', profile_sidebar_fill_color='DDEEF6', profile_text_color='333333', profile_use_background_image=True, has_extended_profile=True, default_profile=True, default_profile_image=False, following=False, follow_request_sent=False, notifications=False, translator_type='none', withheld_in_countries=[]), user=User(_api=<tweepy.api.API object at 0x00000219868C1AC0>, _json={'id': 1372660123626266628, 'id_str': '1372660123626266628', 'name': 'Justin', 'screen_name': 'JustinA30904098', 'location': '', 'description': 'Data Analyst', 'url': None, 'entities': {'description': {'urls': []}}, 'protected': False, 'followers_count': 1, 'friends_count': 14, 'listed_count': 0, 'created_at': 'Thu Mar 18 21:24:16 +0000 2021', 'favourites_count': 0, 'utc_offset': None, 'time_zone': None, 'geo_enabled': False, 'verified': False, 'statuses_count': 3, 'lang': None, 'contributors_enabled': False, 'is_translator': False, 'is_translation_enabled': False, 'profile_background_color': 'F5F8FA', 'profile_background_image_url': None, 'profile_background_image_url_https': None, 'profile_background_tile': False, 'profile_image_url': 'http://pbs.twimg.com/profile_images/1372660880387739653/odwaOS0q_normal.jpg', 'profile_image_url_https': 'https://pbs.twimg.com/profile_images/1372660880387739653/odwaOS0q_normal.jpg', 'profile_link_color': '1DA1F2', 'profile_sidebar_border_color': 'C0DEED', 'profile_sidebar_fill_color': 'DDEEF6', 'profile_text_color': '333333', 'profile_use_background_image': True, 'has_extended_profile': True, 'default_profile': True, 'default_profile_image': False, 'following': False, 'follow_request_sent': False, 'notifications': False, 'translator_type': 'none', 'withheld_in_countries': []}, id=1372660123626266628, id_str='1372660123626266628', name='Justin', screen_name='JustinA30904098', location='', description='Data Analyst', url=None, entities={'description': {'urls': []}}, protected=False, followers_count=1, friends_count=14, listed_count=0, created_at=datetime.datetime(2021, 3, 18, 21, 24, 16), favourites_count=0, utc_offset=None, time_zone=None, geo_enabled=False, verified=False, statuses_count=3, lang=None, contributors_enabled=False, is_translator=False, is_translation_enabled=False, profile_background_color='F5F8FA', profile_background_image_url=None, profile_background_image_url_https=None, profile_background_tile=False, profile_image_url='http://pbs.twimg.com/profile_images/1372660880387739653/odwaOS0q_normal.jpg', profile_image_url_https='https://pbs.twimg.com/profile_images/1372660880387739653/odwaOS0q_normal.jpg', profile_link_color='1DA1F2', profile_sidebar_border_color='C0DEED', profile_sidebar_fill_color='DDEEF6', profile_text_color='333333', profile_use_background_image=True, has_extended_profile=True, default_profile=True, default_profile_image=False, following=False, follow_request_sent=False, notifications=False, translator_type='none', withheld_in_countries=[]), geo=None, coordinates=None, place=None, contributors=None, is_quote_status=False, retweet_count=0, favorite_count=0, favorited=False, retweeted=False, lang='en')\n",
      "Status(_api=<tweepy.api.API object at 0x00000219868C1AC0>, _json={'created_at': 'Thu Jun 10 18:36:45 +0000 2021', 'id': 1403058569239531526, 'id_str': '1403058569239531526', 'text': '@NathanFleck8 It aint safe in bananatown', 'truncated': False, 'entities': {'hashtags': [], 'symbols': [], 'user_mentions': [{'screen_name': 'NathanFleck8', 'name': 'Nathan Fleck', 'id': 1372271424241602564, 'id_str': '1372271424241602564', 'indices': [0, 13]}], 'urls': []}, 'source': '<a href=\"https://mobile.twitter.com\" rel=\"nofollow\">Twitter Web App</a>', 'in_reply_to_status_id': 1402789426565201920, 'in_reply_to_status_id_str': '1402789426565201920', 'in_reply_to_user_id': 1372271424241602564, 'in_reply_to_user_id_str': '1372271424241602564', 'in_reply_to_screen_name': 'NathanFleck8', 'user': {'id': 1372660123626266628, 'id_str': '1372660123626266628', 'name': 'Justin', 'screen_name': 'JustinA30904098', 'location': '', 'description': 'Data Analyst', 'url': None, 'entities': {'description': {'urls': []}}, 'protected': False, 'followers_count': 1, 'friends_count': 14, 'listed_count': 0, 'created_at': 'Thu Mar 18 21:24:16 +0000 2021', 'favourites_count': 0, 'utc_offset': None, 'time_zone': None, 'geo_enabled': False, 'verified': False, 'statuses_count': 3, 'lang': None, 'contributors_enabled': False, 'is_translator': False, 'is_translation_enabled': False, 'profile_background_color': 'F5F8FA', 'profile_background_image_url': None, 'profile_background_image_url_https': None, 'profile_background_tile': False, 'profile_image_url': 'http://pbs.twimg.com/profile_images/1372660880387739653/odwaOS0q_normal.jpg', 'profile_image_url_https': 'https://pbs.twimg.com/profile_images/1372660880387739653/odwaOS0q_normal.jpg', 'profile_link_color': '1DA1F2', 'profile_sidebar_border_color': 'C0DEED', 'profile_sidebar_fill_color': 'DDEEF6', 'profile_text_color': '333333', 'profile_use_background_image': True, 'has_extended_profile': True, 'default_profile': True, 'default_profile_image': False, 'following': False, 'follow_request_sent': False, 'notifications': False, 'translator_type': 'none', 'withheld_in_countries': []}, 'geo': None, 'coordinates': None, 'place': None, 'contributors': None, 'is_quote_status': False, 'retweet_count': 0, 'favorite_count': 0, 'favorited': False, 'retweeted': False, 'lang': 'en'}, created_at=datetime.datetime(2021, 6, 10, 18, 36, 45), id=1403058569239531526, id_str='1403058569239531526', text='@NathanFleck8 It aint safe in bananatown', truncated=False, entities={'hashtags': [], 'symbols': [], 'user_mentions': [{'screen_name': 'NathanFleck8', 'name': 'Nathan Fleck', 'id': 1372271424241602564, 'id_str': '1372271424241602564', 'indices': [0, 13]}], 'urls': []}, source='Twitter Web App', source_url='https://mobile.twitter.com', in_reply_to_status_id=1402789426565201920, in_reply_to_status_id_str='1402789426565201920', in_reply_to_user_id=1372271424241602564, in_reply_to_user_id_str='1372271424241602564', in_reply_to_screen_name='NathanFleck8', author=User(_api=<tweepy.api.API object at 0x00000219868C1AC0>, _json={'id': 1372660123626266628, 'id_str': '1372660123626266628', 'name': 'Justin', 'screen_name': 'JustinA30904098', 'location': '', 'description': 'Data Analyst', 'url': None, 'entities': {'description': {'urls': []}}, 'protected': False, 'followers_count': 1, 'friends_count': 14, 'listed_count': 0, 'created_at': 'Thu Mar 18 21:24:16 +0000 2021', 'favourites_count': 0, 'utc_offset': None, 'time_zone': None, 'geo_enabled': False, 'verified': False, 'statuses_count': 3, 'lang': None, 'contributors_enabled': False, 'is_translator': False, 'is_translation_enabled': False, 'profile_background_color': 'F5F8FA', 'profile_background_image_url': None, 'profile_background_image_url_https': None, 'profile_background_tile': False, 'profile_image_url': 'http://pbs.twimg.com/profile_images/1372660880387739653/odwaOS0q_normal.jpg', 'profile_image_url_https': 'https://pbs.twimg.com/profile_images/1372660880387739653/odwaOS0q_normal.jpg', 'profile_link_color': '1DA1F2', 'profile_sidebar_border_color': 'C0DEED', 'profile_sidebar_fill_color': 'DDEEF6', 'profile_text_color': '333333', 'profile_use_background_image': True, 'has_extended_profile': True, 'default_profile': True, 'default_profile_image': False, 'following': False, 'follow_request_sent': False, 'notifications': False, 'translator_type': 'none', 'withheld_in_countries': []}, id=1372660123626266628, id_str='1372660123626266628', name='Justin', screen_name='JustinA30904098', location='', description='Data Analyst', url=None, entities={'description': {'urls': []}}, protected=False, followers_count=1, friends_count=14, listed_count=0, created_at=datetime.datetime(2021, 3, 18, 21, 24, 16), favourites_count=0, utc_offset=None, time_zone=None, geo_enabled=False, verified=False, statuses_count=3, lang=None, contributors_enabled=False, is_translator=False, is_translation_enabled=False, profile_background_color='F5F8FA', profile_background_image_url=None, profile_background_image_url_https=None, profile_background_tile=False, profile_image_url='http://pbs.twimg.com/profile_images/1372660880387739653/odwaOS0q_normal.jpg', profile_image_url_https='https://pbs.twimg.com/profile_images/1372660880387739653/odwaOS0q_normal.jpg', profile_link_color='1DA1F2', profile_sidebar_border_color='C0DEED', profile_sidebar_fill_color='DDEEF6', profile_text_color='333333', profile_use_background_image=True, has_extended_profile=True, default_profile=True, default_profile_image=False, following=False, follow_request_sent=False, notifications=False, translator_type='none', withheld_in_countries=[]), user=User(_api=<tweepy.api.API object at 0x00000219868C1AC0>, _json={'id': 1372660123626266628, 'id_str': '1372660123626266628', 'name': 'Justin', 'screen_name': 'JustinA30904098', 'location': '', 'description': 'Data Analyst', 'url': None, 'entities': {'description': {'urls': []}}, 'protected': False, 'followers_count': 1, 'friends_count': 14, 'listed_count': 0, 'created_at': 'Thu Mar 18 21:24:16 +0000 2021', 'favourites_count': 0, 'utc_offset': None, 'time_zone': None, 'geo_enabled': False, 'verified': False, 'statuses_count': 3, 'lang': None, 'contributors_enabled': False, 'is_translator': False, 'is_translation_enabled': False, 'profile_background_color': 'F5F8FA', 'profile_background_image_url': None, 'profile_background_image_url_https': None, 'profile_background_tile': False, 'profile_image_url': 'http://pbs.twimg.com/profile_images/1372660880387739653/odwaOS0q_normal.jpg', 'profile_image_url_https': 'https://pbs.twimg.com/profile_images/1372660880387739653/odwaOS0q_normal.jpg', 'profile_link_color': '1DA1F2', 'profile_sidebar_border_color': 'C0DEED', 'profile_sidebar_fill_color': 'DDEEF6', 'profile_text_color': '333333', 'profile_use_background_image': True, 'has_extended_profile': True, 'default_profile': True, 'default_profile_image': False, 'following': False, 'follow_request_sent': False, 'notifications': False, 'translator_type': 'none', 'withheld_in_countries': []}, id=1372660123626266628, id_str='1372660123626266628', name='Justin', screen_name='JustinA30904098', location='', description='Data Analyst', url=None, entities={'description': {'urls': []}}, protected=False, followers_count=1, friends_count=14, listed_count=0, created_at=datetime.datetime(2021, 3, 18, 21, 24, 16), favourites_count=0, utc_offset=None, time_zone=None, geo_enabled=False, verified=False, statuses_count=3, lang=None, contributors_enabled=False, is_translator=False, is_translation_enabled=False, profile_background_color='F5F8FA', profile_background_image_url=None, profile_background_image_url_https=None, profile_background_tile=False, profile_image_url='http://pbs.twimg.com/profile_images/1372660880387739653/odwaOS0q_normal.jpg', profile_image_url_https='https://pbs.twimg.com/profile_images/1372660880387739653/odwaOS0q_normal.jpg', profile_link_color='1DA1F2', profile_sidebar_border_color='C0DEED', profile_sidebar_fill_color='DDEEF6', profile_text_color='333333', profile_use_background_image=True, has_extended_profile=True, default_profile=True, default_profile_image=False, following=False, follow_request_sent=False, notifications=False, translator_type='none', withheld_in_countries=[]), geo=None, coordinates=None, place=None, contributors=None, is_quote_status=False, retweet_count=0, favorite_count=0, favorited=False, retweeted=False, lang='en')\n",
      "Status(_api=<tweepy.api.API object at 0x00000219868C1AC0>, _json={'created_at': 'Thu Jun 10 18:36:34 +0000 2021', 'id': 1403058525643890694, 'id_str': '1403058525643890694', 'text': '@NathanFleck8 welcome to bananatown bucko', 'truncated': False, 'entities': {'hashtags': [], 'symbols': [], 'user_mentions': [{'screen_name': 'NathanFleck8', 'name': 'Nathan Fleck', 'id': 1372271424241602564, 'id_str': '1372271424241602564', 'indices': [0, 13]}], 'urls': []}, 'source': '<a href=\"https://mobile.twitter.com\" rel=\"nofollow\">Twitter Web App</a>', 'in_reply_to_status_id': 1402778894953062400, 'in_reply_to_status_id_str': '1402778894953062400', 'in_reply_to_user_id': 1372271424241602564, 'in_reply_to_user_id_str': '1372271424241602564', 'in_reply_to_screen_name': 'NathanFleck8', 'user': {'id': 1372660123626266628, 'id_str': '1372660123626266628', 'name': 'Justin', 'screen_name': 'JustinA30904098', 'location': '', 'description': 'Data Analyst', 'url': None, 'entities': {'description': {'urls': []}}, 'protected': False, 'followers_count': 1, 'friends_count': 14, 'listed_count': 0, 'created_at': 'Thu Mar 18 21:24:16 +0000 2021', 'favourites_count': 0, 'utc_offset': None, 'time_zone': None, 'geo_enabled': False, 'verified': False, 'statuses_count': 3, 'lang': None, 'contributors_enabled': False, 'is_translator': False, 'is_translation_enabled': False, 'profile_background_color': 'F5F8FA', 'profile_background_image_url': None, 'profile_background_image_url_https': None, 'profile_background_tile': False, 'profile_image_url': 'http://pbs.twimg.com/profile_images/1372660880387739653/odwaOS0q_normal.jpg', 'profile_image_url_https': 'https://pbs.twimg.com/profile_images/1372660880387739653/odwaOS0q_normal.jpg', 'profile_link_color': '1DA1F2', 'profile_sidebar_border_color': 'C0DEED', 'profile_sidebar_fill_color': 'DDEEF6', 'profile_text_color': '333333', 'profile_use_background_image': True, 'has_extended_profile': True, 'default_profile': True, 'default_profile_image': False, 'following': False, 'follow_request_sent': False, 'notifications': False, 'translator_type': 'none', 'withheld_in_countries': []}, 'geo': None, 'coordinates': None, 'place': None, 'contributors': None, 'is_quote_status': False, 'retweet_count': 0, 'favorite_count': 0, 'favorited': False, 'retweeted': False, 'lang': 'en'}, created_at=datetime.datetime(2021, 6, 10, 18, 36, 34), id=1403058525643890694, id_str='1403058525643890694', text='@NathanFleck8 welcome to bananatown bucko', truncated=False, entities={'hashtags': [], 'symbols': [], 'user_mentions': [{'screen_name': 'NathanFleck8', 'name': 'Nathan Fleck', 'id': 1372271424241602564, 'id_str': '1372271424241602564', 'indices': [0, 13]}], 'urls': []}, source='Twitter Web App', source_url='https://mobile.twitter.com', in_reply_to_status_id=1402778894953062400, in_reply_to_status_id_str='1402778894953062400', in_reply_to_user_id=1372271424241602564, in_reply_to_user_id_str='1372271424241602564', in_reply_to_screen_name='NathanFleck8', author=User(_api=<tweepy.api.API object at 0x00000219868C1AC0>, _json={'id': 1372660123626266628, 'id_str': '1372660123626266628', 'name': 'Justin', 'screen_name': 'JustinA30904098', 'location': '', 'description': 'Data Analyst', 'url': None, 'entities': {'description': {'urls': []}}, 'protected': False, 'followers_count': 1, 'friends_count': 14, 'listed_count': 0, 'created_at': 'Thu Mar 18 21:24:16 +0000 2021', 'favourites_count': 0, 'utc_offset': None, 'time_zone': None, 'geo_enabled': False, 'verified': False, 'statuses_count': 3, 'lang': None, 'contributors_enabled': False, 'is_translator': False, 'is_translation_enabled': False, 'profile_background_color': 'F5F8FA', 'profile_background_image_url': None, 'profile_background_image_url_https': None, 'profile_background_tile': False, 'profile_image_url': 'http://pbs.twimg.com/profile_images/1372660880387739653/odwaOS0q_normal.jpg', 'profile_image_url_https': 'https://pbs.twimg.com/profile_images/1372660880387739653/odwaOS0q_normal.jpg', 'profile_link_color': '1DA1F2', 'profile_sidebar_border_color': 'C0DEED', 'profile_sidebar_fill_color': 'DDEEF6', 'profile_text_color': '333333', 'profile_use_background_image': True, 'has_extended_profile': True, 'default_profile': True, 'default_profile_image': False, 'following': False, 'follow_request_sent': False, 'notifications': False, 'translator_type': 'none', 'withheld_in_countries': []}, id=1372660123626266628, id_str='1372660123626266628', name='Justin', screen_name='JustinA30904098', location='', description='Data Analyst', url=None, entities={'description': {'urls': []}}, protected=False, followers_count=1, friends_count=14, listed_count=0, created_at=datetime.datetime(2021, 3, 18, 21, 24, 16), favourites_count=0, utc_offset=None, time_zone=None, geo_enabled=False, verified=False, statuses_count=3, lang=None, contributors_enabled=False, is_translator=False, is_translation_enabled=False, profile_background_color='F5F8FA', profile_background_image_url=None, profile_background_image_url_https=None, profile_background_tile=False, profile_image_url='http://pbs.twimg.com/profile_images/1372660880387739653/odwaOS0q_normal.jpg', profile_image_url_https='https://pbs.twimg.com/profile_images/1372660880387739653/odwaOS0q_normal.jpg', profile_link_color='1DA1F2', profile_sidebar_border_color='C0DEED', profile_sidebar_fill_color='DDEEF6', profile_text_color='333333', profile_use_background_image=True, has_extended_profile=True, default_profile=True, default_profile_image=False, following=False, follow_request_sent=False, notifications=False, translator_type='none', withheld_in_countries=[]), user=User(_api=<tweepy.api.API object at 0x00000219868C1AC0>, _json={'id': 1372660123626266628, 'id_str': '1372660123626266628', 'name': 'Justin', 'screen_name': 'JustinA30904098', 'location': '', 'description': 'Data Analyst', 'url': None, 'entities': {'description': {'urls': []}}, 'protected': False, 'followers_count': 1, 'friends_count': 14, 'listed_count': 0, 'created_at': 'Thu Mar 18 21:24:16 +0000 2021', 'favourites_count': 0, 'utc_offset': None, 'time_zone': None, 'geo_enabled': False, 'verified': False, 'statuses_count': 3, 'lang': None, 'contributors_enabled': False, 'is_translator': False, 'is_translation_enabled': False, 'profile_background_color': 'F5F8FA', 'profile_background_image_url': None, 'profile_background_image_url_https': None, 'profile_background_tile': False, 'profile_image_url': 'http://pbs.twimg.com/profile_images/1372660880387739653/odwaOS0q_normal.jpg', 'profile_image_url_https': 'https://pbs.twimg.com/profile_images/1372660880387739653/odwaOS0q_normal.jpg', 'profile_link_color': '1DA1F2', 'profile_sidebar_border_color': 'C0DEED', 'profile_sidebar_fill_color': 'DDEEF6', 'profile_text_color': '333333', 'profile_use_background_image': True, 'has_extended_profile': True, 'default_profile': True, 'default_profile_image': False, 'following': False, 'follow_request_sent': False, 'notifications': False, 'translator_type': 'none', 'withheld_in_countries': []}, id=1372660123626266628, id_str='1372660123626266628', name='Justin', screen_name='JustinA30904098', location='', description='Data Analyst', url=None, entities={'description': {'urls': []}}, protected=False, followers_count=1, friends_count=14, listed_count=0, created_at=datetime.datetime(2021, 3, 18, 21, 24, 16), favourites_count=0, utc_offset=None, time_zone=None, geo_enabled=False, verified=False, statuses_count=3, lang=None, contributors_enabled=False, is_translator=False, is_translation_enabled=False, profile_background_color='F5F8FA', profile_background_image_url=None, profile_background_image_url_https=None, profile_background_tile=False, profile_image_url='http://pbs.twimg.com/profile_images/1372660880387739653/odwaOS0q_normal.jpg', profile_image_url_https='https://pbs.twimg.com/profile_images/1372660880387739653/odwaOS0q_normal.jpg', profile_link_color='1DA1F2', profile_sidebar_border_color='C0DEED', profile_sidebar_fill_color='DDEEF6', profile_text_color='333333', profile_use_background_image=True, has_extended_profile=True, default_profile=True, default_profile_image=False, following=False, follow_request_sent=False, notifications=False, translator_type='none', withheld_in_countries=[]), geo=None, coordinates=None, place=None, contributors=None, is_quote_status=False, retweet_count=0, favorite_count=0, favorited=False, retweeted=False, lang='en')\n"
     ]
    }
   ],
   "source": [
    "for x in mentions:\n",
    "    print(x)"
   ],
   "metadata": {
    "collapsed": false,
    "pycharm": {
     "name": "#%%\n"
    }
   }
  },
  {
   "cell_type": "code",
   "execution_count": 23,
   "outputs": [
    {
     "data": {
      "text/plain": "{'1403059035318927364': '1402778894953062400',\n '1403058569239531526': '1402789426565201920',\n '1403058525643890694': '1402778894953062400'}"
     },
     "execution_count": 23,
     "metadata": {},
     "output_type": "execute_result"
    }
   ],
   "source": [
    "def update_mention_db():\n",
    "    for x in get_mentions():\n",
    "        str_id = x.id_str\n",
    "        if dic.get(str_id) == None:\n",
    "            dic[str_id] = x.in_reply_to_status_id_str\n",
    "        else:\n",
    "            break\n",
    "    return dic\n",
    "\n",
    "update_mention_db()"
   ],
   "metadata": {
    "collapsed": false,
    "pycharm": {
     "name": "#%%\n"
    }
   }
  },
  {
   "cell_type": "markdown",
   "source": [
    "## Twitter bot will search for replies to a certain tweet"
   ],
   "metadata": {
    "collapsed": false,
    "pycharm": {
     "name": "#%% md\n"
    }
   }
  },
  {
   "cell_type": "code",
   "execution_count": 6,
   "outputs": [
    {
     "name": "stdout",
     "output_type": "stream",
     "text": [
      "Status(_api=<tweepy.api.API object at 0x00000173C35AE8B0>, _json={'created_at': 'Thu Jun 10 16:47:13 +0000 2021', 'id': 1403031007406788612, 'id_str': '1403031007406788612', 'full_text': '@lmakjgb https://t.co/gIbSFosA8J', 'truncated': False, 'display_text_range': [8, 8], 'entities': {'hashtags': [], 'symbols': [], 'user_mentions': [{'screen_name': 'lmakjgb', 'name': 'covered.', 'id': 1241928735068246018, 'id_str': '1241928735068246018', 'indices': [0, 8]}], 'urls': [], 'media': [{'id': 1403031001782173698, 'id_str': '1403031001782173698', 'indices': [9, 32], 'media_url': 'http://pbs.twimg.com/media/E3iRQzYWQAIo6Ym.jpg', 'media_url_https': 'https://pbs.twimg.com/media/E3iRQzYWQAIo6Ym.jpg', 'url': 'https://t.co/gIbSFosA8J', 'display_url': 'pic.twitter.com/gIbSFosA8J', 'expanded_url': 'https://twitter.com/KCShade1/status/1403031007406788612/photo/1', 'type': 'photo', 'sizes': {'small': {'w': 680, 'h': 644, 'resize': 'fit'}, 'thumb': {'w': 150, 'h': 150, 'resize': 'crop'}, 'medium': {'w': 1200, 'h': 1137, 'resize': 'fit'}, 'large': {'w': 1242, 'h': 1177, 'resize': 'fit'}}}]}, 'extended_entities': {'media': [{'id': 1403031001782173698, 'id_str': '1403031001782173698', 'indices': [9, 32], 'media_url': 'http://pbs.twimg.com/media/E3iRQzYWQAIo6Ym.jpg', 'media_url_https': 'https://pbs.twimg.com/media/E3iRQzYWQAIo6Ym.jpg', 'url': 'https://t.co/gIbSFosA8J', 'display_url': 'pic.twitter.com/gIbSFosA8J', 'expanded_url': 'https://twitter.com/KCShade1/status/1403031007406788612/photo/1', 'type': 'photo', 'sizes': {'small': {'w': 680, 'h': 644, 'resize': 'fit'}, 'thumb': {'w': 150, 'h': 150, 'resize': 'crop'}, 'medium': {'w': 1200, 'h': 1137, 'resize': 'fit'}, 'large': {'w': 1242, 'h': 1177, 'resize': 'fit'}}}]}, 'metadata': {'iso_language_code': 'und', 'result_type': 'recent'}, 'source': '<a href=\"http://twitter.com/download/iphone\" rel=\"nofollow\">Twitter for iPhone</a>', 'in_reply_to_status_id': 1400703690290434049, 'in_reply_to_status_id_str': '1400703690290434049', 'in_reply_to_user_id': 1241928735068246018, 'in_reply_to_user_id_str': '1241928735068246018', 'in_reply_to_screen_name': 'lmakjgb', 'user': {'id': 1400659057837580288, 'id_str': '1400659057837580288', 'name': 'KC Shade', 'screen_name': 'KCShade1', 'location': 'Kansas City, MO', 'description': 'Kansas City Local Tea 🙄 | News From local Teens 📸‼️ |Real NEWS📽 |Real Advice ✍🏾|KC NEWS ✍🏾 BLM', 'url': 'https://t.co/qyoJKjGjg1', 'entities': {'url': {'urls': [{'url': 'https://t.co/qyoJKjGjg1', 'expanded_url': 'http://blacknewsmediakc.com', 'display_url': 'blacknewsmediakc.com', 'indices': [0, 23]}]}, 'description': {'urls': []}}, 'protected': False, 'followers_count': 13, 'friends_count': 49, 'listed_count': 0, 'created_at': 'Fri Jun 04 03:42:07 +0000 2021', 'favourites_count': 1, 'utc_offset': None, 'time_zone': None, 'geo_enabled': False, 'verified': False, 'statuses_count': 31, 'lang': None, 'contributors_enabled': False, 'is_translator': False, 'is_translation_enabled': False, 'profile_background_color': 'F5F8FA', 'profile_background_image_url': None, 'profile_background_image_url_https': None, 'profile_background_tile': False, 'profile_image_url': 'http://pbs.twimg.com/profile_images/1400659259348721664/a3m8dR3J_normal.jpg', 'profile_image_url_https': 'https://pbs.twimg.com/profile_images/1400659259348721664/a3m8dR3J_normal.jpg', 'profile_banner_url': 'https://pbs.twimg.com/profile_banners/1400659057837580288/1622778328', 'profile_link_color': '1DA1F2', 'profile_sidebar_border_color': 'C0DEED', 'profile_sidebar_fill_color': 'DDEEF6', 'profile_text_color': '333333', 'profile_use_background_image': True, 'has_extended_profile': True, 'default_profile': True, 'default_profile_image': False, 'following': False, 'follow_request_sent': False, 'notifications': False, 'translator_type': 'none', 'withheld_in_countries': []}, 'geo': None, 'coordinates': None, 'place': None, 'contributors': None, 'is_quote_status': False, 'retweet_count': 0, 'favorite_count': 0, 'favorited': False, 'retweeted': False, 'possibly_sensitive': False, 'lang': 'und'}, created_at=datetime.datetime(2021, 6, 10, 16, 47, 13), id=1403031007406788612, id_str='1403031007406788612', full_text='@lmakjgb https://t.co/gIbSFosA8J', truncated=False, display_text_range=[8, 8], entities={'hashtags': [], 'symbols': [], 'user_mentions': [{'screen_name': 'lmakjgb', 'name': 'covered.', 'id': 1241928735068246018, 'id_str': '1241928735068246018', 'indices': [0, 8]}], 'urls': [], 'media': [{'id': 1403031001782173698, 'id_str': '1403031001782173698', 'indices': [9, 32], 'media_url': 'http://pbs.twimg.com/media/E3iRQzYWQAIo6Ym.jpg', 'media_url_https': 'https://pbs.twimg.com/media/E3iRQzYWQAIo6Ym.jpg', 'url': 'https://t.co/gIbSFosA8J', 'display_url': 'pic.twitter.com/gIbSFosA8J', 'expanded_url': 'https://twitter.com/KCShade1/status/1403031007406788612/photo/1', 'type': 'photo', 'sizes': {'small': {'w': 680, 'h': 644, 'resize': 'fit'}, 'thumb': {'w': 150, 'h': 150, 'resize': 'crop'}, 'medium': {'w': 1200, 'h': 1137, 'resize': 'fit'}, 'large': {'w': 1242, 'h': 1177, 'resize': 'fit'}}}]}, extended_entities={'media': [{'id': 1403031001782173698, 'id_str': '1403031001782173698', 'indices': [9, 32], 'media_url': 'http://pbs.twimg.com/media/E3iRQzYWQAIo6Ym.jpg', 'media_url_https': 'https://pbs.twimg.com/media/E3iRQzYWQAIo6Ym.jpg', 'url': 'https://t.co/gIbSFosA8J', 'display_url': 'pic.twitter.com/gIbSFosA8J', 'expanded_url': 'https://twitter.com/KCShade1/status/1403031007406788612/photo/1', 'type': 'photo', 'sizes': {'small': {'w': 680, 'h': 644, 'resize': 'fit'}, 'thumb': {'w': 150, 'h': 150, 'resize': 'crop'}, 'medium': {'w': 1200, 'h': 1137, 'resize': 'fit'}, 'large': {'w': 1242, 'h': 1177, 'resize': 'fit'}}}]}, metadata={'iso_language_code': 'und', 'result_type': 'recent'}, source='Twitter for iPhone', source_url='http://twitter.com/download/iphone', in_reply_to_status_id=1400703690290434049, in_reply_to_status_id_str='1400703690290434049', in_reply_to_user_id=1241928735068246018, in_reply_to_user_id_str='1241928735068246018', in_reply_to_screen_name='lmakjgb', author=User(_api=<tweepy.api.API object at 0x00000173C35AE8B0>, _json={'id': 1400659057837580288, 'id_str': '1400659057837580288', 'name': 'KC Shade', 'screen_name': 'KCShade1', 'location': 'Kansas City, MO', 'description': 'Kansas City Local Tea 🙄 | News From local Teens 📸‼️ |Real NEWS📽 |Real Advice ✍🏾|KC NEWS ✍🏾 BLM', 'url': 'https://t.co/qyoJKjGjg1', 'entities': {'url': {'urls': [{'url': 'https://t.co/qyoJKjGjg1', 'expanded_url': 'http://blacknewsmediakc.com', 'display_url': 'blacknewsmediakc.com', 'indices': [0, 23]}]}, 'description': {'urls': []}}, 'protected': False, 'followers_count': 13, 'friends_count': 49, 'listed_count': 0, 'created_at': 'Fri Jun 04 03:42:07 +0000 2021', 'favourites_count': 1, 'utc_offset': None, 'time_zone': None, 'geo_enabled': False, 'verified': False, 'statuses_count': 31, 'lang': None, 'contributors_enabled': False, 'is_translator': False, 'is_translation_enabled': False, 'profile_background_color': 'F5F8FA', 'profile_background_image_url': None, 'profile_background_image_url_https': None, 'profile_background_tile': False, 'profile_image_url': 'http://pbs.twimg.com/profile_images/1400659259348721664/a3m8dR3J_normal.jpg', 'profile_image_url_https': 'https://pbs.twimg.com/profile_images/1400659259348721664/a3m8dR3J_normal.jpg', 'profile_banner_url': 'https://pbs.twimg.com/profile_banners/1400659057837580288/1622778328', 'profile_link_color': '1DA1F2', 'profile_sidebar_border_color': 'C0DEED', 'profile_sidebar_fill_color': 'DDEEF6', 'profile_text_color': '333333', 'profile_use_background_image': True, 'has_extended_profile': True, 'default_profile': True, 'default_profile_image': False, 'following': False, 'follow_request_sent': False, 'notifications': False, 'translator_type': 'none', 'withheld_in_countries': []}, id=1400659057837580288, id_str='1400659057837580288', name='KC Shade', screen_name='KCShade1', location='Kansas City, MO', description='Kansas City Local Tea 🙄 | News From local Teens 📸‼️ |Real NEWS📽 |Real Advice ✍🏾|KC NEWS ✍🏾 BLM', url='https://t.co/qyoJKjGjg1', entities={'url': {'urls': [{'url': 'https://t.co/qyoJKjGjg1', 'expanded_url': 'http://blacknewsmediakc.com', 'display_url': 'blacknewsmediakc.com', 'indices': [0, 23]}]}, 'description': {'urls': []}}, protected=False, followers_count=13, friends_count=49, listed_count=0, created_at=datetime.datetime(2021, 6, 4, 3, 42, 7), favourites_count=1, utc_offset=None, time_zone=None, geo_enabled=False, verified=False, statuses_count=31, lang=None, contributors_enabled=False, is_translator=False, is_translation_enabled=False, profile_background_color='F5F8FA', profile_background_image_url=None, profile_background_image_url_https=None, profile_background_tile=False, profile_image_url='http://pbs.twimg.com/profile_images/1400659259348721664/a3m8dR3J_normal.jpg', profile_image_url_https='https://pbs.twimg.com/profile_images/1400659259348721664/a3m8dR3J_normal.jpg', profile_banner_url='https://pbs.twimg.com/profile_banners/1400659057837580288/1622778328', profile_link_color='1DA1F2', profile_sidebar_border_color='C0DEED', profile_sidebar_fill_color='DDEEF6', profile_text_color='333333', profile_use_background_image=True, has_extended_profile=True, default_profile=True, default_profile_image=False, following=False, follow_request_sent=False, notifications=False, translator_type='none', withheld_in_countries=[]), user=User(_api=<tweepy.api.API object at 0x00000173C35AE8B0>, _json={'id': 1400659057837580288, 'id_str': '1400659057837580288', 'name': 'KC Shade', 'screen_name': 'KCShade1', 'location': 'Kansas City, MO', 'description': 'Kansas City Local Tea 🙄 | News From local Teens 📸‼️ |Real NEWS📽 |Real Advice ✍🏾|KC NEWS ✍🏾 BLM', 'url': 'https://t.co/qyoJKjGjg1', 'entities': {'url': {'urls': [{'url': 'https://t.co/qyoJKjGjg1', 'expanded_url': 'http://blacknewsmediakc.com', 'display_url': 'blacknewsmediakc.com', 'indices': [0, 23]}]}, 'description': {'urls': []}}, 'protected': False, 'followers_count': 13, 'friends_count': 49, 'listed_count': 0, 'created_at': 'Fri Jun 04 03:42:07 +0000 2021', 'favourites_count': 1, 'utc_offset': None, 'time_zone': None, 'geo_enabled': False, 'verified': False, 'statuses_count': 31, 'lang': None, 'contributors_enabled': False, 'is_translator': False, 'is_translation_enabled': False, 'profile_background_color': 'F5F8FA', 'profile_background_image_url': None, 'profile_background_image_url_https': None, 'profile_background_tile': False, 'profile_image_url': 'http://pbs.twimg.com/profile_images/1400659259348721664/a3m8dR3J_normal.jpg', 'profile_image_url_https': 'https://pbs.twimg.com/profile_images/1400659259348721664/a3m8dR3J_normal.jpg', 'profile_banner_url': 'https://pbs.twimg.com/profile_banners/1400659057837580288/1622778328', 'profile_link_color': '1DA1F2', 'profile_sidebar_border_color': 'C0DEED', 'profile_sidebar_fill_color': 'DDEEF6', 'profile_text_color': '333333', 'profile_use_background_image': True, 'has_extended_profile': True, 'default_profile': True, 'default_profile_image': False, 'following': False, 'follow_request_sent': False, 'notifications': False, 'translator_type': 'none', 'withheld_in_countries': []}, id=1400659057837580288, id_str='1400659057837580288', name='KC Shade', screen_name='KCShade1', location='Kansas City, MO', description='Kansas City Local Tea 🙄 | News From local Teens 📸‼️ |Real NEWS📽 |Real Advice ✍🏾|KC NEWS ✍🏾 BLM', url='https://t.co/qyoJKjGjg1', entities={'url': {'urls': [{'url': 'https://t.co/qyoJKjGjg1', 'expanded_url': 'http://blacknewsmediakc.com', 'display_url': 'blacknewsmediakc.com', 'indices': [0, 23]}]}, 'description': {'urls': []}}, protected=False, followers_count=13, friends_count=49, listed_count=0, created_at=datetime.datetime(2021, 6, 4, 3, 42, 7), favourites_count=1, utc_offset=None, time_zone=None, geo_enabled=False, verified=False, statuses_count=31, lang=None, contributors_enabled=False, is_translator=False, is_translation_enabled=False, profile_background_color='F5F8FA', profile_background_image_url=None, profile_background_image_url_https=None, profile_background_tile=False, profile_image_url='http://pbs.twimg.com/profile_images/1400659259348721664/a3m8dR3J_normal.jpg', profile_image_url_https='https://pbs.twimg.com/profile_images/1400659259348721664/a3m8dR3J_normal.jpg', profile_banner_url='https://pbs.twimg.com/profile_banners/1400659057837580288/1622778328', profile_link_color='1DA1F2', profile_sidebar_border_color='C0DEED', profile_sidebar_fill_color='DDEEF6', profile_text_color='333333', profile_use_background_image=True, has_extended_profile=True, default_profile=True, default_profile_image=False, following=False, follow_request_sent=False, notifications=False, translator_type='none', withheld_in_countries=[]), geo=None, coordinates=None, place=None, contributors=None, is_quote_status=False, retweet_count=0, favorite_count=0, favorited=False, retweeted=False, possibly_sensitive=False, lang='und')\n"
     ]
    }
   ],
   "source": [
    "def get_tweet_comments(input_tweet):\n",
    "\n",
    "    \"\"\"\n",
    "\n",
    "    Args:\n",
    "        input_tweet: A Twitter API response object\n",
    "\n",
    "    Returns: A list of the text for all found replies.\n",
    "\n",
    "    \"\"\"\n",
    "    comments = []\n",
    "    name = input_tweet._json['user']['screen_name']\n",
    "    tweet_id = input_tweet._json['id']\n",
    "    for tweet in tweepy.Cursor(api.search,q=f\"to:{name}\", result_type = 'recent',tweet_mode = 'extended').items(100):\n",
    "        if hasattr(tweet, 'in_reply_to_status_id_str'):\n",
    "            if str(tweet.in_reply_to_status_id_str) == str(tweet_id):\n",
    "                comments.append(tweet._json['full_text'])\n",
    "                return tweet\n",
    "    return comments\n",
    "\n",
    "comments = get_tweet_comments(tweet_by_id)\n",
    "print(comments)"
   ],
   "metadata": {
    "collapsed": false,
    "pycharm": {
     "name": "#%%\n"
    }
   }
  },
  {
   "cell_type": "code",
   "execution_count": 7,
   "outputs": [
    {
     "ename": "TypeError",
     "evalue": "'Status' object is not subscriptable",
     "output_type": "error",
     "traceback": [
      "\u001B[1;31m---------------------------------------------------------------------------\u001B[0m",
      "\u001B[1;31mTypeError\u001B[0m                                 Traceback (most recent call last)",
      "\u001B[1;32m<ipython-input-7-9d2fdc35e72c>\u001B[0m in \u001B[0;36m<module>\u001B[1;34m\u001B[0m\n\u001B[0;32m      1\u001B[0m \u001B[1;31m# A test to print out up to 10 reply tweets\u001B[0m\u001B[1;33m\u001B[0m\u001B[1;33m\u001B[0m\u001B[1;33m\u001B[0m\u001B[0m\n\u001B[1;32m----> 2\u001B[1;33m \u001B[1;32mfor\u001B[0m \u001B[0mx\u001B[0m \u001B[1;32min\u001B[0m \u001B[0mcomments\u001B[0m\u001B[1;33m[\u001B[0m\u001B[1;33m:\u001B[0m\u001B[1;36m10\u001B[0m\u001B[1;33m]\u001B[0m\u001B[1;33m:\u001B[0m\u001B[1;33m\u001B[0m\u001B[1;33m\u001B[0m\u001B[0m\n\u001B[0m\u001B[0;32m      3\u001B[0m     \u001B[0mprint\u001B[0m\u001B[1;33m(\u001B[0m\u001B[0mx\u001B[0m\u001B[1;33m)\u001B[0m\u001B[1;33m\u001B[0m\u001B[1;33m\u001B[0m\u001B[0m\n\u001B[0;32m      4\u001B[0m \u001B[1;33m\u001B[0m\u001B[0m\n",
      "\u001B[1;31mTypeError\u001B[0m: 'Status' object is not subscriptable"
     ]
    }
   ],
   "source": [
    "# A test to print out up to 10 reply tweets\n",
    "for x in comments[:10]:\n",
    "    print(x)"
   ],
   "metadata": {
    "collapsed": false,
    "pycharm": {
     "name": "#%%\n"
    }
   }
  },
  {
   "source": [
    "## Twitter bot will reply to the tweet"
   ],
   "cell_type": "markdown",
   "metadata": {}
  },
  {
   "cell_type": "code",
   "execution_count": 97,
   "metadata": {},
   "outputs": [],
   "source": [
    "def twitter_reply(status_id, text):\n",
    "    if text == \"\":\n",
    "        reply_text = '''\n",
    "        ------- test -------\n",
    "        We noticed that you are reporting a police incident.\n",
    "        '''\n",
    "    else:\n",
    "        reply_text = text\n",
    "\n",
    "    tweet = api.update_status(status = reply_text, in_reply_to_status_id=status_id,tweet_mode = 'extended')\n",
    "    return tweet\n",
    "\n",
    "#twitter_reply(1395143654331744256)"
   ]
  },
  {
   "cell_type": "code",
   "execution_count": 12,
   "metadata": {},
   "outputs": [
    {
     "data": {
      "text/plain": "          username                   id  \\\n0         ksmoola1  1402755452027523075   \n1    NJ_Bronco_Fan  1402755451129942019   \n2   oneiriclillies  1402755447891939332   \n3  Alejand14092042  1402755446444789771   \n4       victor2exl  1402755445257760773   \n\n                                               tweet  \n0  @patriotcanuck65 Not a gun in sight except fro...  \n1  RT @MacFarlaneNews: FLASH:  Georgia roofing co...  \n2  RT @hotties4dwt: what's happening in Venezuela...  \n3  @DailyYaeContent Dunno... if you kissed her......  \n4  RT @MaziNnamdiKanu: It’s pathetic that Nigeria...  ",
      "text/html": "<div>\n<style scoped>\n    .dataframe tbody tr th:only-of-type {\n        vertical-align: middle;\n    }\n\n    .dataframe tbody tr th {\n        vertical-align: top;\n    }\n\n    .dataframe thead th {\n        text-align: right;\n    }\n</style>\n<table border=\"1\" class=\"dataframe\">\n  <thead>\n    <tr style=\"text-align: right;\">\n      <th></th>\n      <th>username</th>\n      <th>id</th>\n      <th>tweet</th>\n    </tr>\n  </thead>\n  <tbody>\n    <tr>\n      <th>0</th>\n      <td>ksmoola1</td>\n      <td>1402755452027523075</td>\n      <td>@patriotcanuck65 Not a gun in sight except fro...</td>\n    </tr>\n    <tr>\n      <th>1</th>\n      <td>NJ_Bronco_Fan</td>\n      <td>1402755451129942019</td>\n      <td>RT @MacFarlaneNews: FLASH:  Georgia roofing co...</td>\n    </tr>\n    <tr>\n      <th>2</th>\n      <td>oneiriclillies</td>\n      <td>1402755447891939332</td>\n      <td>RT @hotties4dwt: what's happening in Venezuela...</td>\n    </tr>\n    <tr>\n      <th>3</th>\n      <td>Alejand14092042</td>\n      <td>1402755446444789771</td>\n      <td>@DailyYaeContent Dunno... if you kissed her......</td>\n    </tr>\n    <tr>\n      <th>4</th>\n      <td>victor2exl</td>\n      <td>1402755445257760773</td>\n      <td>RT @MaziNnamdiKanu: It’s pathetic that Nigeria...</td>\n    </tr>\n  </tbody>\n</table>\n</div>"
     },
     "execution_count": 12,
     "metadata": {},
     "output_type": "execute_result"
    }
   ],
   "source": [
    "df_data = []\n",
    "for tweet in api.search(q='police', lang='en', rpp=5)[:5]:\n",
    "    test_data = [tweet.user.screen_name, tweet.id, tweet.text]\n",
    "    df_data.append(test_data)\n",
    "df = pd.DataFrame(data=df_data, columns=['username', 'id', 'tweet'])\n",
    "df"
   ]
  },
  {
   "source": [
    "## Twitter bot will reply to the user through DM"
   ],
   "cell_type": "markdown",
   "metadata": {}
  },
  {
   "cell_type": "code",
   "execution_count": 80,
   "metadata": {},
   "outputs": [
    {
     "output_type": "execute_result",
     "data": {
      "text/plain": [
       "'direct message sent'"
      ]
     },
     "metadata": {},
     "execution_count": 80
    }
   ],
   "source": [
    "def direct_message(username):\n",
    "    user = api.get_user(username)\n",
    "    message = '''\n",
    "    Just testing some features.\n",
    "    This sends a direct message to the person\n",
    "    '''\n",
    "    api.send_direct_message(user.id, message)\n",
    "    return 'direct message sent'\n",
    "\n",
    "direct_message('@JoanVillar14')"
   ]
  },
  {
   "source": [
    "Improvements:\n",
    "\n",
    "1. Depending on the reply, gather more information such as:\n",
    "- did it really happen?\n",
    "- where did it happen\n",
    "\n",
    "2. They pin the place of incident on a map\n",
    "- If tweet's geolocation is on, get the coordinates\n",
    "\n",
    "-------\n",
    "\n",
    "\n",
    "* There are a few things to keep in mind in designing a model that replies to specific replies. This might be another project in the future.\n",
    "* Since the incidents are already identified, it might be best to just get the location from the user."
   ],
   "cell_type": "markdown",
   "metadata": {}
  },
  {
   "cell_type": "code",
   "execution_count": 21,
   "metadata": {},
   "outputs": [],
   "source": [
    "test_dic = {}\n",
    "test_dic[str(test_ticket.initial_tweet_id)] = test_ticket"
   ]
  },
  {
   "cell_type": "code",
   "execution_count": 23,
   "outputs": [],
   "source": [
    "test_dic[str(new_tweets[0].id)] = test_ticket"
   ],
   "metadata": {
    "collapsed": false,
    "pycharm": {
     "name": "#%%\n"
    }
   }
  },
  {
   "cell_type": "code",
   "execution_count": 29,
   "outputs": [
    {
     "name": "stdout",
     "output_type": "stream",
     "text": [
      "Initial Tweet:   TRIGGER WARNING ⛔️ \n",
      "\n",
      "what you’re watching is the execution of Malcolm Johnson. he was murdered on March 31st by a KCPD officer. \n",
      "\n",
      "as you will see, THE FEMALE COP SHOT THE OTHER COP in the leg and then twice into Malcolm. KCPD claimed Malcom shot him. \n",
      "\n",
      "abolish KCPD. https://t.co/0v6eXqF6Q0\n",
      "test responded:    sentence\n",
      "None\n",
      "Initial Tweet:   TRIGGER WARNING ⛔️ \n",
      "\n",
      "what you’re watching is the execution of Malcolm Johnson. he was murdered on March 31st by a KCPD officer. \n",
      "\n",
      "as you will see, THE FEMALE COP SHOT THE OTHER COP in the leg and then twice into Malcolm. KCPD claimed Malcom shot him. \n",
      "\n",
      "abolish KCPD. https://t.co/0v6eXqF6Q0\n",
      "test responded:    sentence\n",
      "None\n",
      "Initial Tweet:   TRIGGER WARNING ⛔️ \n",
      "\n",
      "what you’re watching is the execution of Malcolm Johnson. he was murdered on March 31st by a KCPD officer. \n",
      "\n",
      "as you will see, THE FEMALE COP SHOT THE OTHER COP in the leg and then twice into Malcolm. KCPD claimed Malcom shot him. \n",
      "\n",
      "abolish KCPD. https://t.co/0v6eXqF6Q0\n",
      "test responded:    sentence\n",
      "%%%%%%%%%%%%%%%%%%%% responded:    se&&&&&&&&&&&&&&&&&&&&&&&ntence\n",
      "None\n",
      "Initial Tweet:   TRIGGER WARNING ⛔️ \n",
      "\n",
      "what you’re watching is the execution of Malcolm Johnson. he was murdered on March 31st by a KCPD officer. \n",
      "\n",
      "as you will see, THE FEMALE COP SHOT THE OTHER COP in the leg and then twice into Malcolm. KCPD claimed Malcom shot him. \n",
      "\n",
      "abolish KCPD. https://t.co/0v6eXqF6Q0\n",
      "test responded:    sentence\n",
      "%%%%%%%%%%%%%%%%%%%% responded:    se&&&&&&&&&&&&&&&&&&&&&&&ntence\n",
      "None\n"
     ]
    }
   ],
   "source": [
    "for x in test_dic.keys():\n",
    "    print(test_dic[x].print_log())\n",
    "test_ticket.conversation_log.append([\"%%%%%%%%%%%%%%%%%%%%\",\" se&&&&&&&&&&&&&&&&&&&&&&&ntence\"])\n",
    "for x in test_dic.keys():\n",
    "    print(test_dic[x].print_log())"
   ],
   "metadata": {
    "collapsed": false,
    "pycharm": {
     "name": "#%%\n"
    }
   }
  },
  {
   "cell_type": "markdown",
   "source": [
    "## The original tweet id will contain the tweet object\n",
    "\n",
    "## The bot initial response tweet id will store the tweet id for the original tweet\n",
    "\n",
    "## When someone responds to the bot, store the tweet id as key and use the responded to id as value"
   ],
   "metadata": {
    "collapsed": false,
    "pycharm": {
     "name": "#%% md\n"
    }
   }
  },
  {
   "cell_type": "code",
   "execution_count": 9,
   "outputs": [
    {
     "data": {
      "text/plain": "Status(_api=<tweepy.api.API object at 0x00000173C35AE8B0>, _json={'created_at': 'Fri Jun 04 06:39:18 +0000 2021', 'id': 1400703690290434049, 'id_str': '1400703690290434049', 'full_text': 'TRIGGER WARNING ⛔️ \\n\\nwhat you’re watching is the execution of Malcolm Johnson. he was murdered on March 31st by a KCPD officer. \\n\\nas you will see, THE FEMALE COP SHOT THE OTHER COP in the leg and then twice into Malcolm. KCPD claimed Malcom shot him. \\n\\nabolish KCPD. https://t.co/0v6eXqF6Q0', 'truncated': False, 'display_text_range': [0, 266], 'entities': {'hashtags': [], 'symbols': [], 'user_mentions': [], 'urls': [], 'media': [{'id': 1400703621264777219, 'id_str': '1400703621264777219', 'indices': [267, 290], 'media_url': 'http://pbs.twimg.com/ext_tw_video_thumb/1400703621264777219/pu/img/Em-A8krtliRxVUAY.jpg', 'media_url_https': 'https://pbs.twimg.com/ext_tw_video_thumb/1400703621264777219/pu/img/Em-A8krtliRxVUAY.jpg', 'url': 'https://t.co/0v6eXqF6Q0', 'display_url': 'pic.twitter.com/0v6eXqF6Q0', 'expanded_url': 'https://twitter.com/lmakjgb/status/1400703690290434049/video/1', 'type': 'photo', 'sizes': {'thumb': {'w': 150, 'h': 150, 'resize': 'crop'}, 'small': {'w': 528, 'h': 656, 'resize': 'fit'}, 'medium': {'w': 528, 'h': 656, 'resize': 'fit'}, 'large': {'w': 528, 'h': 656, 'resize': 'fit'}}}]}, 'extended_entities': {'media': [{'id': 1400703621264777219, 'id_str': '1400703621264777219', 'indices': [267, 290], 'media_url': 'http://pbs.twimg.com/ext_tw_video_thumb/1400703621264777219/pu/img/Em-A8krtliRxVUAY.jpg', 'media_url_https': 'https://pbs.twimg.com/ext_tw_video_thumb/1400703621264777219/pu/img/Em-A8krtliRxVUAY.jpg', 'url': 'https://t.co/0v6eXqF6Q0', 'display_url': 'pic.twitter.com/0v6eXqF6Q0', 'expanded_url': 'https://twitter.com/lmakjgb/status/1400703690290434049/video/1', 'type': 'video', 'sizes': {'thumb': {'w': 150, 'h': 150, 'resize': 'crop'}, 'small': {'w': 528, 'h': 656, 'resize': 'fit'}, 'medium': {'w': 528, 'h': 656, 'resize': 'fit'}, 'large': {'w': 528, 'h': 656, 'resize': 'fit'}}, 'video_info': {'aspect_ratio': [33, 41], 'duration_millis': 51967, 'variants': [{'content_type': 'application/x-mpegURL', 'url': 'https://video.twimg.com/ext_tw_video/1400703621264777219/pu/pl/VfQSETJdL4aC5udc.m3u8?tag=12&container=fmp4'}, {'bitrate': 950000, 'content_type': 'video/mp4', 'url': 'https://video.twimg.com/ext_tw_video/1400703621264777219/pu/vid/528x656/trGjBi2_lABvmNTa.mp4?tag=12'}, {'bitrate': 632000, 'content_type': 'video/mp4', 'url': 'https://video.twimg.com/ext_tw_video/1400703621264777219/pu/vid/320x396/B9BQh9m_mJDvGXjf.mp4?tag=12'}]}, 'additional_media_info': {'monetizable': False}}]}, 'source': '<a href=\"https://mobile.twitter.com\" rel=\"nofollow\">Twitter Web App</a>', 'in_reply_to_status_id': None, 'in_reply_to_status_id_str': None, 'in_reply_to_user_id': None, 'in_reply_to_user_id_str': None, 'in_reply_to_screen_name': None, 'user': {'id': 1241928735068246018, 'id_str': '1241928735068246018', 'name': 'covered.', 'screen_name': 'lmakjgb', 'location': 'the pote', 'description': 'if you have an opinion, i do not care. | concerned nigga. | clothing designer ♥️.', 'url': 'https://t.co/IEMAyJmauO', 'entities': {'url': {'urls': [{'url': 'https://t.co/IEMAyJmauO', 'expanded_url': 'https://linktr.ee/Kjxtheactivist', 'display_url': 'linktr.ee/Kjxtheactivist', 'indices': [0, 23]}]}, 'description': {'urls': []}}, 'protected': False, 'followers_count': 66666, 'friends_count': 547, 'listed_count': 61, 'created_at': 'Mon Mar 23 03:24:23 +0000 2020', 'favourites_count': 6280, 'utc_offset': None, 'time_zone': None, 'geo_enabled': True, 'verified': False, 'statuses_count': 2318, 'lang': None, 'contributors_enabled': False, 'is_translator': False, 'is_translation_enabled': False, 'profile_background_color': 'F5F8FA', 'profile_background_image_url': None, 'profile_background_image_url_https': None, 'profile_background_tile': False, 'profile_image_url': 'http://pbs.twimg.com/profile_images/1376681732544532482/zud3OTKl_normal.jpg', 'profile_image_url_https': 'https://pbs.twimg.com/profile_images/1376681732544532482/zud3OTKl_normal.jpg', 'profile_banner_url': 'https://pbs.twimg.com/profile_banners/1241928735068246018/1617061709', 'profile_link_color': '1DA1F2', 'profile_sidebar_border_color': 'C0DEED', 'profile_sidebar_fill_color': 'DDEEF6', 'profile_text_color': '333333', 'profile_use_background_image': True, 'has_extended_profile': True, 'default_profile': True, 'default_profile_image': False, 'following': False, 'follow_request_sent': False, 'notifications': False, 'translator_type': 'none', 'withheld_in_countries': []}, 'geo': None, 'coordinates': None, 'place': None, 'contributors': None, 'is_quote_status': False, 'retweet_count': 1900, 'favorite_count': 2915, 'favorited': False, 'retweeted': False, 'possibly_sensitive': False, 'possibly_sensitive_appealable': False, 'lang': 'en'}, created_at=datetime.datetime(2021, 6, 4, 6, 39, 18), id=1400703690290434049, id_str='1400703690290434049', full_text='TRIGGER WARNING ⛔️ \\n\\nwhat you’re watching is the execution of Malcolm Johnson. he was murdered on March 31st by a KCPD officer. \\n\\nas you will see, THE FEMALE COP SHOT THE OTHER COP in the leg and then twice into Malcolm. KCPD claimed Malcom shot him. \\n\\nabolish KCPD. https://t.co/0v6eXqF6Q0', truncated=False, display_text_range=[0, 266], entities={'hashtags': [], 'symbols': [], 'user_mentions': [], 'urls': [], 'media': [{'id': 1400703621264777219, 'id_str': '1400703621264777219', 'indices': [267, 290], 'media_url': 'http://pbs.twimg.com/ext_tw_video_thumb/1400703621264777219/pu/img/Em-A8krtliRxVUAY.jpg', 'media_url_https': 'https://pbs.twimg.com/ext_tw_video_thumb/1400703621264777219/pu/img/Em-A8krtliRxVUAY.jpg', 'url': 'https://t.co/0v6eXqF6Q0', 'display_url': 'pic.twitter.com/0v6eXqF6Q0', 'expanded_url': 'https://twitter.com/lmakjgb/status/1400703690290434049/video/1', 'type': 'photo', 'sizes': {'thumb': {'w': 150, 'h': 150, 'resize': 'crop'}, 'small': {'w': 528, 'h': 656, 'resize': 'fit'}, 'medium': {'w': 528, 'h': 656, 'resize': 'fit'}, 'large': {'w': 528, 'h': 656, 'resize': 'fit'}}}]}, extended_entities={'media': [{'id': 1400703621264777219, 'id_str': '1400703621264777219', 'indices': [267, 290], 'media_url': 'http://pbs.twimg.com/ext_tw_video_thumb/1400703621264777219/pu/img/Em-A8krtliRxVUAY.jpg', 'media_url_https': 'https://pbs.twimg.com/ext_tw_video_thumb/1400703621264777219/pu/img/Em-A8krtliRxVUAY.jpg', 'url': 'https://t.co/0v6eXqF6Q0', 'display_url': 'pic.twitter.com/0v6eXqF6Q0', 'expanded_url': 'https://twitter.com/lmakjgb/status/1400703690290434049/video/1', 'type': 'video', 'sizes': {'thumb': {'w': 150, 'h': 150, 'resize': 'crop'}, 'small': {'w': 528, 'h': 656, 'resize': 'fit'}, 'medium': {'w': 528, 'h': 656, 'resize': 'fit'}, 'large': {'w': 528, 'h': 656, 'resize': 'fit'}}, 'video_info': {'aspect_ratio': [33, 41], 'duration_millis': 51967, 'variants': [{'content_type': 'application/x-mpegURL', 'url': 'https://video.twimg.com/ext_tw_video/1400703621264777219/pu/pl/VfQSETJdL4aC5udc.m3u8?tag=12&container=fmp4'}, {'bitrate': 950000, 'content_type': 'video/mp4', 'url': 'https://video.twimg.com/ext_tw_video/1400703621264777219/pu/vid/528x656/trGjBi2_lABvmNTa.mp4?tag=12'}, {'bitrate': 632000, 'content_type': 'video/mp4', 'url': 'https://video.twimg.com/ext_tw_video/1400703621264777219/pu/vid/320x396/B9BQh9m_mJDvGXjf.mp4?tag=12'}]}, 'additional_media_info': {'monetizable': False}}]}, source='Twitter Web App', source_url='https://mobile.twitter.com', in_reply_to_status_id=None, in_reply_to_status_id_str=None, in_reply_to_user_id=None, in_reply_to_user_id_str=None, in_reply_to_screen_name=None, author=User(_api=<tweepy.api.API object at 0x00000173C35AE8B0>, _json={'id': 1241928735068246018, 'id_str': '1241928735068246018', 'name': 'covered.', 'screen_name': 'lmakjgb', 'location': 'the pote', 'description': 'if you have an opinion, i do not care. | concerned nigga. | clothing designer ♥️.', 'url': 'https://t.co/IEMAyJmauO', 'entities': {'url': {'urls': [{'url': 'https://t.co/IEMAyJmauO', 'expanded_url': 'https://linktr.ee/Kjxtheactivist', 'display_url': 'linktr.ee/Kjxtheactivist', 'indices': [0, 23]}]}, 'description': {'urls': []}}, 'protected': False, 'followers_count': 66666, 'friends_count': 547, 'listed_count': 61, 'created_at': 'Mon Mar 23 03:24:23 +0000 2020', 'favourites_count': 6280, 'utc_offset': None, 'time_zone': None, 'geo_enabled': True, 'verified': False, 'statuses_count': 2318, 'lang': None, 'contributors_enabled': False, 'is_translator': False, 'is_translation_enabled': False, 'profile_background_color': 'F5F8FA', 'profile_background_image_url': None, 'profile_background_image_url_https': None, 'profile_background_tile': False, 'profile_image_url': 'http://pbs.twimg.com/profile_images/1376681732544532482/zud3OTKl_normal.jpg', 'profile_image_url_https': 'https://pbs.twimg.com/profile_images/1376681732544532482/zud3OTKl_normal.jpg', 'profile_banner_url': 'https://pbs.twimg.com/profile_banners/1241928735068246018/1617061709', 'profile_link_color': '1DA1F2', 'profile_sidebar_border_color': 'C0DEED', 'profile_sidebar_fill_color': 'DDEEF6', 'profile_text_color': '333333', 'profile_use_background_image': True, 'has_extended_profile': True, 'default_profile': True, 'default_profile_image': False, 'following': False, 'follow_request_sent': False, 'notifications': False, 'translator_type': 'none', 'withheld_in_countries': []}, id=1241928735068246018, id_str='1241928735068246018', name='covered.', screen_name='lmakjgb', location='the pote', description='if you have an opinion, i do not care. | concerned nigga. | clothing designer ♥️.', url='https://t.co/IEMAyJmauO', entities={'url': {'urls': [{'url': 'https://t.co/IEMAyJmauO', 'expanded_url': 'https://linktr.ee/Kjxtheactivist', 'display_url': 'linktr.ee/Kjxtheactivist', 'indices': [0, 23]}]}, 'description': {'urls': []}}, protected=False, followers_count=66666, friends_count=547, listed_count=61, created_at=datetime.datetime(2020, 3, 23, 3, 24, 23), favourites_count=6280, utc_offset=None, time_zone=None, geo_enabled=True, verified=False, statuses_count=2318, lang=None, contributors_enabled=False, is_translator=False, is_translation_enabled=False, profile_background_color='F5F8FA', profile_background_image_url=None, profile_background_image_url_https=None, profile_background_tile=False, profile_image_url='http://pbs.twimg.com/profile_images/1376681732544532482/zud3OTKl_normal.jpg', profile_image_url_https='https://pbs.twimg.com/profile_images/1376681732544532482/zud3OTKl_normal.jpg', profile_banner_url='https://pbs.twimg.com/profile_banners/1241928735068246018/1617061709', profile_link_color='1DA1F2', profile_sidebar_border_color='C0DEED', profile_sidebar_fill_color='DDEEF6', profile_text_color='333333', profile_use_background_image=True, has_extended_profile=True, default_profile=True, default_profile_image=False, following=False, follow_request_sent=False, notifications=False, translator_type='none', withheld_in_countries=[]), user=User(_api=<tweepy.api.API object at 0x00000173C35AE8B0>, _json={'id': 1241928735068246018, 'id_str': '1241928735068246018', 'name': 'covered.', 'screen_name': 'lmakjgb', 'location': 'the pote', 'description': 'if you have an opinion, i do not care. | concerned nigga. | clothing designer ♥️.', 'url': 'https://t.co/IEMAyJmauO', 'entities': {'url': {'urls': [{'url': 'https://t.co/IEMAyJmauO', 'expanded_url': 'https://linktr.ee/Kjxtheactivist', 'display_url': 'linktr.ee/Kjxtheactivist', 'indices': [0, 23]}]}, 'description': {'urls': []}}, 'protected': False, 'followers_count': 66666, 'friends_count': 547, 'listed_count': 61, 'created_at': 'Mon Mar 23 03:24:23 +0000 2020', 'favourites_count': 6280, 'utc_offset': None, 'time_zone': None, 'geo_enabled': True, 'verified': False, 'statuses_count': 2318, 'lang': None, 'contributors_enabled': False, 'is_translator': False, 'is_translation_enabled': False, 'profile_background_color': 'F5F8FA', 'profile_background_image_url': None, 'profile_background_image_url_https': None, 'profile_background_tile': False, 'profile_image_url': 'http://pbs.twimg.com/profile_images/1376681732544532482/zud3OTKl_normal.jpg', 'profile_image_url_https': 'https://pbs.twimg.com/profile_images/1376681732544532482/zud3OTKl_normal.jpg', 'profile_banner_url': 'https://pbs.twimg.com/profile_banners/1241928735068246018/1617061709', 'profile_link_color': '1DA1F2', 'profile_sidebar_border_color': 'C0DEED', 'profile_sidebar_fill_color': 'DDEEF6', 'profile_text_color': '333333', 'profile_use_background_image': True, 'has_extended_profile': True, 'default_profile': True, 'default_profile_image': False, 'following': False, 'follow_request_sent': False, 'notifications': False, 'translator_type': 'none', 'withheld_in_countries': []}, id=1241928735068246018, id_str='1241928735068246018', name='covered.', screen_name='lmakjgb', location='the pote', description='if you have an opinion, i do not care. | concerned nigga. | clothing designer ♥️.', url='https://t.co/IEMAyJmauO', entities={'url': {'urls': [{'url': 'https://t.co/IEMAyJmauO', 'expanded_url': 'https://linktr.ee/Kjxtheactivist', 'display_url': 'linktr.ee/Kjxtheactivist', 'indices': [0, 23]}]}, 'description': {'urls': []}}, protected=False, followers_count=66666, friends_count=547, listed_count=61, created_at=datetime.datetime(2020, 3, 23, 3, 24, 23), favourites_count=6280, utc_offset=None, time_zone=None, geo_enabled=True, verified=False, statuses_count=2318, lang=None, contributors_enabled=False, is_translator=False, is_translation_enabled=False, profile_background_color='F5F8FA', profile_background_image_url=None, profile_background_image_url_https=None, profile_background_tile=False, profile_image_url='http://pbs.twimg.com/profile_images/1376681732544532482/zud3OTKl_normal.jpg', profile_image_url_https='https://pbs.twimg.com/profile_images/1376681732544532482/zud3OTKl_normal.jpg', profile_banner_url='https://pbs.twimg.com/profile_banners/1241928735068246018/1617061709', profile_link_color='1DA1F2', profile_sidebar_border_color='C0DEED', profile_sidebar_fill_color='DDEEF6', profile_text_color='333333', profile_use_background_image=True, has_extended_profile=True, default_profile=True, default_profile_image=False, following=False, follow_request_sent=False, notifications=False, translator_type='none', withheld_in_countries=[]), geo=None, coordinates=None, place=None, contributors=None, is_quote_status=False, retweet_count=1900, favorite_count=2915, favorited=False, retweeted=False, possibly_sensitive=False, possibly_sensitive_appealable=False, lang='en')"
     },
     "execution_count": 9,
     "metadata": {},
     "output_type": "execute_result"
    }
   ],
   "source": [
    "class mongo_dic:\n",
    "\n",
    "    def __init__(self, dic):\n",
    "        self.dic = dic\n",
    "\n",
    "    def update(self, key, value):\n",
    "        self.dic[key] = value\n",
    "\n",
    "    def find_root(self, id):\n",
    "        temp_id = id\n",
    "        if  not isinstance(self.dic[temp_id], str):\n",
    "            return self.dic[temp_id]\n",
    "        else:\n",
    "            while isinstance(temp_id, str):\n",
    "                temp_id = self.dic[temp_id]\n",
    "        initial_tweet = temp_id # eventually find the tweet object so this converts the variable to avoid confusion\n",
    "        return initial_tweet"
   ],
   "metadata": {
    "collapsed": false,
    "pycharm": {
     "name": "#%%\n"
    }
   }
  },
  {
   "cell_type": "code",
   "execution_count": null,
   "outputs": [],
   "source": [
    "test_db = mongo_dic({})\n",
    "test_db.update(\"id_123\",False)\n",
    "test_db.update(\"id_234\",\"id_123\")\n",
    "test_db.update(\"id_345\",\"id_234\")\n",
    "test_db.find_root(\"id_345\")"
   ],
   "metadata": {
    "collapsed": false,
    "pycharm": {
     "name": "#%%\n"
    }
   }
  },
  {
   "cell_type": "code",
   "execution_count": 10,
   "outputs": [
    {
     "data": {
      "text/plain": "Status(_api=<tweepy.api.API object at 0x00000173C35AE8B0>, _json={'created_at': 'Fri Jun 04 06:39:18 +0000 2021', 'id': 1400703690290434049, 'id_str': '1400703690290434049', 'full_text': 'TRIGGER WARNING ⛔️ \\n\\nwhat you’re watching is the execution of Malcolm Johnson. he was murdered on March 31st by a KCPD officer. \\n\\nas you will see, THE FEMALE COP SHOT THE OTHER COP in the leg and then twice into Malcolm. KCPD claimed Malcom shot him. \\n\\nabolish KCPD. https://t.co/0v6eXqF6Q0', 'truncated': False, 'display_text_range': [0, 266], 'entities': {'hashtags': [], 'symbols': [], 'user_mentions': [], 'urls': [], 'media': [{'id': 1400703621264777219, 'id_str': '1400703621264777219', 'indices': [267, 290], 'media_url': 'http://pbs.twimg.com/ext_tw_video_thumb/1400703621264777219/pu/img/Em-A8krtliRxVUAY.jpg', 'media_url_https': 'https://pbs.twimg.com/ext_tw_video_thumb/1400703621264777219/pu/img/Em-A8krtliRxVUAY.jpg', 'url': 'https://t.co/0v6eXqF6Q0', 'display_url': 'pic.twitter.com/0v6eXqF6Q0', 'expanded_url': 'https://twitter.com/lmakjgb/status/1400703690290434049/video/1', 'type': 'photo', 'sizes': {'thumb': {'w': 150, 'h': 150, 'resize': 'crop'}, 'small': {'w': 528, 'h': 656, 'resize': 'fit'}, 'medium': {'w': 528, 'h': 656, 'resize': 'fit'}, 'large': {'w': 528, 'h': 656, 'resize': 'fit'}}}]}, 'extended_entities': {'media': [{'id': 1400703621264777219, 'id_str': '1400703621264777219', 'indices': [267, 290], 'media_url': 'http://pbs.twimg.com/ext_tw_video_thumb/1400703621264777219/pu/img/Em-A8krtliRxVUAY.jpg', 'media_url_https': 'https://pbs.twimg.com/ext_tw_video_thumb/1400703621264777219/pu/img/Em-A8krtliRxVUAY.jpg', 'url': 'https://t.co/0v6eXqF6Q0', 'display_url': 'pic.twitter.com/0v6eXqF6Q0', 'expanded_url': 'https://twitter.com/lmakjgb/status/1400703690290434049/video/1', 'type': 'video', 'sizes': {'thumb': {'w': 150, 'h': 150, 'resize': 'crop'}, 'small': {'w': 528, 'h': 656, 'resize': 'fit'}, 'medium': {'w': 528, 'h': 656, 'resize': 'fit'}, 'large': {'w': 528, 'h': 656, 'resize': 'fit'}}, 'video_info': {'aspect_ratio': [33, 41], 'duration_millis': 51967, 'variants': [{'content_type': 'application/x-mpegURL', 'url': 'https://video.twimg.com/ext_tw_video/1400703621264777219/pu/pl/VfQSETJdL4aC5udc.m3u8?tag=12&container=fmp4'}, {'bitrate': 950000, 'content_type': 'video/mp4', 'url': 'https://video.twimg.com/ext_tw_video/1400703621264777219/pu/vid/528x656/trGjBi2_lABvmNTa.mp4?tag=12'}, {'bitrate': 632000, 'content_type': 'video/mp4', 'url': 'https://video.twimg.com/ext_tw_video/1400703621264777219/pu/vid/320x396/B9BQh9m_mJDvGXjf.mp4?tag=12'}]}, 'additional_media_info': {'monetizable': False}}]}, 'source': '<a href=\"https://mobile.twitter.com\" rel=\"nofollow\">Twitter Web App</a>', 'in_reply_to_status_id': None, 'in_reply_to_status_id_str': None, 'in_reply_to_user_id': None, 'in_reply_to_user_id_str': None, 'in_reply_to_screen_name': None, 'user': {'id': 1241928735068246018, 'id_str': '1241928735068246018', 'name': 'covered.', 'screen_name': 'lmakjgb', 'location': 'the pote', 'description': 'if you have an opinion, i do not care. | concerned nigga. | clothing designer ♥️.', 'url': 'https://t.co/IEMAyJmauO', 'entities': {'url': {'urls': [{'url': 'https://t.co/IEMAyJmauO', 'expanded_url': 'https://linktr.ee/Kjxtheactivist', 'display_url': 'linktr.ee/Kjxtheactivist', 'indices': [0, 23]}]}, 'description': {'urls': []}}, 'protected': False, 'followers_count': 66666, 'friends_count': 547, 'listed_count': 61, 'created_at': 'Mon Mar 23 03:24:23 +0000 2020', 'favourites_count': 6280, 'utc_offset': None, 'time_zone': None, 'geo_enabled': True, 'verified': False, 'statuses_count': 2318, 'lang': None, 'contributors_enabled': False, 'is_translator': False, 'is_translation_enabled': False, 'profile_background_color': 'F5F8FA', 'profile_background_image_url': None, 'profile_background_image_url_https': None, 'profile_background_tile': False, 'profile_image_url': 'http://pbs.twimg.com/profile_images/1376681732544532482/zud3OTKl_normal.jpg', 'profile_image_url_https': 'https://pbs.twimg.com/profile_images/1376681732544532482/zud3OTKl_normal.jpg', 'profile_banner_url': 'https://pbs.twimg.com/profile_banners/1241928735068246018/1617061709', 'profile_link_color': '1DA1F2', 'profile_sidebar_border_color': 'C0DEED', 'profile_sidebar_fill_color': 'DDEEF6', 'profile_text_color': '333333', 'profile_use_background_image': True, 'has_extended_profile': True, 'default_profile': True, 'default_profile_image': False, 'following': False, 'follow_request_sent': False, 'notifications': False, 'translator_type': 'none', 'withheld_in_countries': []}, 'geo': None, 'coordinates': None, 'place': None, 'contributors': None, 'is_quote_status': False, 'retweet_count': 1900, 'favorite_count': 2915, 'favorited': False, 'retweeted': False, 'possibly_sensitive': False, 'possibly_sensitive_appealable': False, 'lang': 'en'}, created_at=datetime.datetime(2021, 6, 4, 6, 39, 18), id=1400703690290434049, id_str='1400703690290434049', full_text='TRIGGER WARNING ⛔️ \\n\\nwhat you’re watching is the execution of Malcolm Johnson. he was murdered on March 31st by a KCPD officer. \\n\\nas you will see, THE FEMALE COP SHOT THE OTHER COP in the leg and then twice into Malcolm. KCPD claimed Malcom shot him. \\n\\nabolish KCPD. https://t.co/0v6eXqF6Q0', truncated=False, display_text_range=[0, 266], entities={'hashtags': [], 'symbols': [], 'user_mentions': [], 'urls': [], 'media': [{'id': 1400703621264777219, 'id_str': '1400703621264777219', 'indices': [267, 290], 'media_url': 'http://pbs.twimg.com/ext_tw_video_thumb/1400703621264777219/pu/img/Em-A8krtliRxVUAY.jpg', 'media_url_https': 'https://pbs.twimg.com/ext_tw_video_thumb/1400703621264777219/pu/img/Em-A8krtliRxVUAY.jpg', 'url': 'https://t.co/0v6eXqF6Q0', 'display_url': 'pic.twitter.com/0v6eXqF6Q0', 'expanded_url': 'https://twitter.com/lmakjgb/status/1400703690290434049/video/1', 'type': 'photo', 'sizes': {'thumb': {'w': 150, 'h': 150, 'resize': 'crop'}, 'small': {'w': 528, 'h': 656, 'resize': 'fit'}, 'medium': {'w': 528, 'h': 656, 'resize': 'fit'}, 'large': {'w': 528, 'h': 656, 'resize': 'fit'}}}]}, extended_entities={'media': [{'id': 1400703621264777219, 'id_str': '1400703621264777219', 'indices': [267, 290], 'media_url': 'http://pbs.twimg.com/ext_tw_video_thumb/1400703621264777219/pu/img/Em-A8krtliRxVUAY.jpg', 'media_url_https': 'https://pbs.twimg.com/ext_tw_video_thumb/1400703621264777219/pu/img/Em-A8krtliRxVUAY.jpg', 'url': 'https://t.co/0v6eXqF6Q0', 'display_url': 'pic.twitter.com/0v6eXqF6Q0', 'expanded_url': 'https://twitter.com/lmakjgb/status/1400703690290434049/video/1', 'type': 'video', 'sizes': {'thumb': {'w': 150, 'h': 150, 'resize': 'crop'}, 'small': {'w': 528, 'h': 656, 'resize': 'fit'}, 'medium': {'w': 528, 'h': 656, 'resize': 'fit'}, 'large': {'w': 528, 'h': 656, 'resize': 'fit'}}, 'video_info': {'aspect_ratio': [33, 41], 'duration_millis': 51967, 'variants': [{'content_type': 'application/x-mpegURL', 'url': 'https://video.twimg.com/ext_tw_video/1400703621264777219/pu/pl/VfQSETJdL4aC5udc.m3u8?tag=12&container=fmp4'}, {'bitrate': 950000, 'content_type': 'video/mp4', 'url': 'https://video.twimg.com/ext_tw_video/1400703621264777219/pu/vid/528x656/trGjBi2_lABvmNTa.mp4?tag=12'}, {'bitrate': 632000, 'content_type': 'video/mp4', 'url': 'https://video.twimg.com/ext_tw_video/1400703621264777219/pu/vid/320x396/B9BQh9m_mJDvGXjf.mp4?tag=12'}]}, 'additional_media_info': {'monetizable': False}}]}, source='Twitter Web App', source_url='https://mobile.twitter.com', in_reply_to_status_id=None, in_reply_to_status_id_str=None, in_reply_to_user_id=None, in_reply_to_user_id_str=None, in_reply_to_screen_name=None, author=User(_api=<tweepy.api.API object at 0x00000173C35AE8B0>, _json={'id': 1241928735068246018, 'id_str': '1241928735068246018', 'name': 'covered.', 'screen_name': 'lmakjgb', 'location': 'the pote', 'description': 'if you have an opinion, i do not care. | concerned nigga. | clothing designer ♥️.', 'url': 'https://t.co/IEMAyJmauO', 'entities': {'url': {'urls': [{'url': 'https://t.co/IEMAyJmauO', 'expanded_url': 'https://linktr.ee/Kjxtheactivist', 'display_url': 'linktr.ee/Kjxtheactivist', 'indices': [0, 23]}]}, 'description': {'urls': []}}, 'protected': False, 'followers_count': 66666, 'friends_count': 547, 'listed_count': 61, 'created_at': 'Mon Mar 23 03:24:23 +0000 2020', 'favourites_count': 6280, 'utc_offset': None, 'time_zone': None, 'geo_enabled': True, 'verified': False, 'statuses_count': 2318, 'lang': None, 'contributors_enabled': False, 'is_translator': False, 'is_translation_enabled': False, 'profile_background_color': 'F5F8FA', 'profile_background_image_url': None, 'profile_background_image_url_https': None, 'profile_background_tile': False, 'profile_image_url': 'http://pbs.twimg.com/profile_images/1376681732544532482/zud3OTKl_normal.jpg', 'profile_image_url_https': 'https://pbs.twimg.com/profile_images/1376681732544532482/zud3OTKl_normal.jpg', 'profile_banner_url': 'https://pbs.twimg.com/profile_banners/1241928735068246018/1617061709', 'profile_link_color': '1DA1F2', 'profile_sidebar_border_color': 'C0DEED', 'profile_sidebar_fill_color': 'DDEEF6', 'profile_text_color': '333333', 'profile_use_background_image': True, 'has_extended_profile': True, 'default_profile': True, 'default_profile_image': False, 'following': False, 'follow_request_sent': False, 'notifications': False, 'translator_type': 'none', 'withheld_in_countries': []}, id=1241928735068246018, id_str='1241928735068246018', name='covered.', screen_name='lmakjgb', location='the pote', description='if you have an opinion, i do not care. | concerned nigga. | clothing designer ♥️.', url='https://t.co/IEMAyJmauO', entities={'url': {'urls': [{'url': 'https://t.co/IEMAyJmauO', 'expanded_url': 'https://linktr.ee/Kjxtheactivist', 'display_url': 'linktr.ee/Kjxtheactivist', 'indices': [0, 23]}]}, 'description': {'urls': []}}, protected=False, followers_count=66666, friends_count=547, listed_count=61, created_at=datetime.datetime(2020, 3, 23, 3, 24, 23), favourites_count=6280, utc_offset=None, time_zone=None, geo_enabled=True, verified=False, statuses_count=2318, lang=None, contributors_enabled=False, is_translator=False, is_translation_enabled=False, profile_background_color='F5F8FA', profile_background_image_url=None, profile_background_image_url_https=None, profile_background_tile=False, profile_image_url='http://pbs.twimg.com/profile_images/1376681732544532482/zud3OTKl_normal.jpg', profile_image_url_https='https://pbs.twimg.com/profile_images/1376681732544532482/zud3OTKl_normal.jpg', profile_banner_url='https://pbs.twimg.com/profile_banners/1241928735068246018/1617061709', profile_link_color='1DA1F2', profile_sidebar_border_color='C0DEED', profile_sidebar_fill_color='DDEEF6', profile_text_color='333333', profile_use_background_image=True, has_extended_profile=True, default_profile=True, default_profile_image=False, following=False, follow_request_sent=False, notifications=False, translator_type='none', withheld_in_countries=[]), user=User(_api=<tweepy.api.API object at 0x00000173C35AE8B0>, _json={'id': 1241928735068246018, 'id_str': '1241928735068246018', 'name': 'covered.', 'screen_name': 'lmakjgb', 'location': 'the pote', 'description': 'if you have an opinion, i do not care. | concerned nigga. | clothing designer ♥️.', 'url': 'https://t.co/IEMAyJmauO', 'entities': {'url': {'urls': [{'url': 'https://t.co/IEMAyJmauO', 'expanded_url': 'https://linktr.ee/Kjxtheactivist', 'display_url': 'linktr.ee/Kjxtheactivist', 'indices': [0, 23]}]}, 'description': {'urls': []}}, 'protected': False, 'followers_count': 66666, 'friends_count': 547, 'listed_count': 61, 'created_at': 'Mon Mar 23 03:24:23 +0000 2020', 'favourites_count': 6280, 'utc_offset': None, 'time_zone': None, 'geo_enabled': True, 'verified': False, 'statuses_count': 2318, 'lang': None, 'contributors_enabled': False, 'is_translator': False, 'is_translation_enabled': False, 'profile_background_color': 'F5F8FA', 'profile_background_image_url': None, 'profile_background_image_url_https': None, 'profile_background_tile': False, 'profile_image_url': 'http://pbs.twimg.com/profile_images/1376681732544532482/zud3OTKl_normal.jpg', 'profile_image_url_https': 'https://pbs.twimg.com/profile_images/1376681732544532482/zud3OTKl_normal.jpg', 'profile_banner_url': 'https://pbs.twimg.com/profile_banners/1241928735068246018/1617061709', 'profile_link_color': '1DA1F2', 'profile_sidebar_border_color': 'C0DEED', 'profile_sidebar_fill_color': 'DDEEF6', 'profile_text_color': '333333', 'profile_use_background_image': True, 'has_extended_profile': True, 'default_profile': True, 'default_profile_image': False, 'following': False, 'follow_request_sent': False, 'notifications': False, 'translator_type': 'none', 'withheld_in_countries': []}, id=1241928735068246018, id_str='1241928735068246018', name='covered.', screen_name='lmakjgb', location='the pote', description='if you have an opinion, i do not care. | concerned nigga. | clothing designer ♥️.', url='https://t.co/IEMAyJmauO', entities={'url': {'urls': [{'url': 'https://t.co/IEMAyJmauO', 'expanded_url': 'https://linktr.ee/Kjxtheactivist', 'display_url': 'linktr.ee/Kjxtheactivist', 'indices': [0, 23]}]}, 'description': {'urls': []}}, protected=False, followers_count=66666, friends_count=547, listed_count=61, created_at=datetime.datetime(2020, 3, 23, 3, 24, 23), favourites_count=6280, utc_offset=None, time_zone=None, geo_enabled=True, verified=False, statuses_count=2318, lang=None, contributors_enabled=False, is_translator=False, is_translation_enabled=False, profile_background_color='F5F8FA', profile_background_image_url=None, profile_background_image_url_https=None, profile_background_tile=False, profile_image_url='http://pbs.twimg.com/profile_images/1376681732544532482/zud3OTKl_normal.jpg', profile_image_url_https='https://pbs.twimg.com/profile_images/1376681732544532482/zud3OTKl_normal.jpg', profile_banner_url='https://pbs.twimg.com/profile_banners/1241928735068246018/1617061709', profile_link_color='1DA1F2', profile_sidebar_border_color='C0DEED', profile_sidebar_fill_color='DDEEF6', profile_text_color='333333', profile_use_background_image=True, has_extended_profile=True, default_profile=True, default_profile_image=False, following=False, follow_request_sent=False, notifications=False, translator_type='none', withheld_in_countries=[]), geo=None, coordinates=None, place=None, contributors=None, is_quote_status=False, retweet_count=1900, favorite_count=2915, favorited=False, retweeted=False, possibly_sensitive=False, possibly_sensitive_appealable=False, lang='en')"
     },
     "execution_count": 10,
     "metadata": {},
     "output_type": "execute_result"
    }
   ],
   "source": [
    "test_db.dic.keys()\n",
    "test_db.dic[\"id_123\"]"
   ],
   "metadata": {
    "collapsed": false,
    "pycharm": {
     "name": "#%%\n"
    }
   }
  },
  {
   "cell_type": "code",
   "execution_count": 78,
   "outputs": [
    {
     "data": {
      "text/plain": "{1223: ['23', '34']}"
     },
     "execution_count": 78,
     "metadata": {},
     "output_type": "execute_result"
    }
   ],
   "source": [
    "{1223:[\"23\",\"34\"]}"
   ],
   "metadata": {
    "collapsed": false,
    "pycharm": {
     "name": "#%%\n"
    }
   }
  },
  {
   "cell_type": "code",
   "execution_count": 106,
   "outputs": [],
   "source": [
    "class tweet_reachout:\n",
    "\n",
    "    def __init__(self, tweet, open = True,  responded = True):\n",
    "        self.initial_tweet_id = tweet.id_str\n",
    "\n",
    "        self.open = open\n",
    "        self.response = tweet\n",
    "        self.conversation_log = {tweet.id_str: {\"username\": tweet.user.screen_name, \"tweet_text\": tweet.full_text,\"replies\":[]}}\n",
    "        self.responded = responded\n",
    "\n",
    "    def send_response(self, text, id):\n",
    "        sent_tweet = twitter_reply(id,text)\n",
    "        self.responded = True\n",
    "        self.conversation_log[id]['replies'].append(sent_tweet.id_str)\n",
    "        self.conversation_log[sent_tweet.id_str] = {\"username\": sent_tweet.user.screen_name, \"tweet_text\": sent_tweet.full_text,\"replies\":[]}\n",
    "        return \"Response sent\"\n",
    "\n",
    "    def did_respond(self, tweet):\n",
    "        self.conversation_log[tweet.in_reply_to_status_id_str]['replies'].append(tweet.id_str)\n",
    "        self.conversation_log[tweet.id_str] = {\"username\": tweet.user.screen_name, \"tweet_text\": tweet.full_text,\"replies\":[]}\n",
    "        self.responded = False\n",
    "\n",
    "    def print_log(self):\n",
    "        conversation_queue = [self.conversation_log[self.initial_tweet_id]]\n",
    "        while len(conversation_queue) > 0:\n",
    "            current_tweet = conversation_queue.pop(0)\n",
    "            print(f\"The user: {current_tweet['username']} said: {current_tweet['tweet_text']}\")\n",
    "            for x in current_tweet['replies']:\n",
    "                conversation_queue.append(self.conversation_log[x])"
   ],
   "metadata": {
    "collapsed": false,
    "pycharm": {
     "name": "#%%\n"
    }
   }
  },
  {
   "cell_type": "code",
   "execution_count": 115,
   "outputs": [],
   "source": [
    "test_tweet = api.update_status(\"test tweet\",tweet_mode='extended')\n",
    "\n"
   ],
   "metadata": {
    "collapsed": false,
    "pycharm": {
     "name": "#%%\n"
    }
   }
  },
  {
   "cell_type": "code",
   "execution_count": 116,
   "outputs": [
    {
     "name": "stdout",
     "output_type": "stream",
     "text": [
      "The user: NathanFleck8 said: test tweet\n"
     ]
    }
   ],
   "source": [
    "test_ticket = tweet_reachout(test_tweet)\n",
    "test_ticket.print_log()"
   ],
   "metadata": {
    "collapsed": false,
    "pycharm": {
     "name": "#%%\n"
    }
   }
  },
  {
   "cell_type": "code",
   "execution_count": 117,
   "outputs": [
    {
     "name": "stdout",
     "output_type": "stream",
     "text": [
      "The user: NathanFleck8 said: test tweet\n",
      "The user: NathanFleck8 said: Here you go\n"
     ]
    }
   ],
   "source": [
    "test_ticket.send_response(\"Here you go\", test_ticket.initial_tweet_id)\n",
    "test_ticket.print_log()"
   ],
   "metadata": {
    "collapsed": false,
    "pycharm": {
     "name": "#%%\n"
    }
   }
  },
  {
   "cell_type": "code",
   "execution_count": 1,
   "outputs": [
    {
     "ename": "NameError",
     "evalue": "name 'test_ticket' is not defined",
     "output_type": "error",
     "traceback": [
      "\u001B[1;31m---------------------------------------------------------------------------\u001B[0m",
      "\u001B[1;31mNameError\u001B[0m                                 Traceback (most recent call last)",
      "\u001B[1;32m<ipython-input-1-cb61c79df53b>\u001B[0m in \u001B[0;36m<module>\u001B[1;34m\u001B[0m\n\u001B[1;32m----> 1\u001B[1;33m \u001B[0mtest_ticket\u001B[0m\u001B[1;33m.\u001B[0m\u001B[0mconversation_log\u001B[0m\u001B[1;33m\u001B[0m\u001B[1;33m\u001B[0m\u001B[0m\n\u001B[0m\u001B[0;32m      2\u001B[0m \u001B[0mtest_ticket\u001B[0m\u001B[1;33m.\u001B[0m\u001B[0mprint_log\u001B[0m\u001B[1;33m(\u001B[0m\u001B[1;33m)\u001B[0m\u001B[1;33m\u001B[0m\u001B[1;33m\u001B[0m\u001B[0m\n\u001B[0;32m      3\u001B[0m \u001B[1;33m\u001B[0m\u001B[0m\n",
      "\u001B[1;31mNameError\u001B[0m: name 'test_ticket' is not defined"
     ]
    }
   ],
   "source": [
    "test_ticket.conversation_log\n",
    "test_ticket.print_log()"
   ],
   "metadata": {
    "collapsed": false,
    "pycharm": {
     "name": "#%%\n"
    }
   }
  },
  {
   "cell_type": "code",
   "execution_count": 98,
   "outputs": [
    {
     "ename": "KeyError",
     "evalue": "1402778894953062400",
     "output_type": "error",
     "traceback": [
      "\u001B[1;31m---------------------------------------------------------------------------\u001B[0m",
      "\u001B[1;31mKeyError\u001B[0m                                  Traceback (most recent call last)",
      "\u001B[1;32m<ipython-input-98-915f655345f6>\u001B[0m in \u001B[0;36m<module>\u001B[1;34m\u001B[0m\n\u001B[1;32m----> 1\u001B[1;33m \u001B[0mtest_ticket\u001B[0m\u001B[1;33m.\u001B[0m\u001B[0msend_response\u001B[0m\u001B[1;33m(\u001B[0m\u001B[1;34m\"What city did this take place?\"\u001B[0m\u001B[1;33m,\u001B[0m\u001B[0mtweet_by_id\u001B[0m\u001B[1;33m.\u001B[0m\u001B[0mid\u001B[0m \u001B[1;33m)\u001B[0m\u001B[1;33m\u001B[0m\u001B[1;33m\u001B[0m\u001B[0m\n\u001B[0m\u001B[0;32m      2\u001B[0m \u001B[1;33m\u001B[0m\u001B[0m\n",
      "\u001B[1;32m<ipython-input-87-da7a51c71108>\u001B[0m in \u001B[0;36msend_response\u001B[1;34m(self, text, id)\u001B[0m\n\u001B[0;32m     12\u001B[0m         \u001B[0msent_tweet\u001B[0m \u001B[1;33m=\u001B[0m \u001B[0mtwitter_reply\u001B[0m\u001B[1;33m(\u001B[0m\u001B[0mid\u001B[0m\u001B[1;33m,\u001B[0m\u001B[0mtext\u001B[0m\u001B[1;33m)\u001B[0m\u001B[1;33m\u001B[0m\u001B[1;33m\u001B[0m\u001B[0m\n\u001B[0;32m     13\u001B[0m         \u001B[0mself\u001B[0m\u001B[1;33m.\u001B[0m\u001B[0mresponded\u001B[0m \u001B[1;33m=\u001B[0m \u001B[1;32mTrue\u001B[0m\u001B[1;33m\u001B[0m\u001B[1;33m\u001B[0m\u001B[0m\n\u001B[1;32m---> 14\u001B[1;33m         \u001B[0mself\u001B[0m\u001B[1;33m.\u001B[0m\u001B[0mconversation_log\u001B[0m\u001B[1;33m[\u001B[0m\u001B[0mid\u001B[0m\u001B[1;33m]\u001B[0m\u001B[1;33m[\u001B[0m\u001B[1;34m'replies'\u001B[0m\u001B[1;33m]\u001B[0m\u001B[1;33m.\u001B[0m\u001B[0mappend\u001B[0m\u001B[1;33m(\u001B[0m\u001B[0msent_tweet\u001B[0m\u001B[1;33m.\u001B[0m\u001B[0mid_str\u001B[0m\u001B[1;33m)\u001B[0m\u001B[1;33m\u001B[0m\u001B[1;33m\u001B[0m\u001B[0m\n\u001B[0m\u001B[0;32m     15\u001B[0m         \u001B[0mself\u001B[0m\u001B[1;33m.\u001B[0m\u001B[0mconversation_log\u001B[0m\u001B[1;33m[\u001B[0m\u001B[0msent_tweet\u001B[0m\u001B[1;33m.\u001B[0m\u001B[0mid_str\u001B[0m\u001B[1;33m]\u001B[0m \u001B[1;33m=\u001B[0m \u001B[1;33m{\u001B[0m\u001B[1;34m\"username\"\u001B[0m\u001B[1;33m:\u001B[0m \u001B[0msent_tweet\u001B[0m\u001B[1;33m.\u001B[0m\u001B[0muser\u001B[0m\u001B[1;33m.\u001B[0m\u001B[0mscreen_name\u001B[0m\u001B[1;33m,\u001B[0m \u001B[1;34m\"tweet_text\"\u001B[0m\u001B[1;33m:\u001B[0m \u001B[0msent_tweet\u001B[0m\u001B[1;33m.\u001B[0m\u001B[0mfull_text\u001B[0m\u001B[1;33m,\u001B[0m\u001B[1;34m\"replies\"\u001B[0m\u001B[1;33m:\u001B[0m\u001B[1;33m[\u001B[0m\u001B[1;33m]\u001B[0m\u001B[1;33m}\u001B[0m\u001B[1;33m\u001B[0m\u001B[1;33m\u001B[0m\u001B[0m\n\u001B[0;32m     16\u001B[0m         \u001B[1;32mreturn\u001B[0m \u001B[1;34m\"Response sent\"\u001B[0m\u001B[1;33m\u001B[0m\u001B[1;33m\u001B[0m\u001B[0m\n",
      "\u001B[1;31mKeyError\u001B[0m: 1402778894953062400"
     ]
    }
   ],
   "source": [
    "test_ticket.send_response(\"What city did this take place?\",tweet_by_id.id )"
   ],
   "metadata": {
    "collapsed": false,
    "pycharm": {
     "name": "#%%\n"
    }
   }
  },
  {
   "cell_type": "code",
   "execution_count": 92,
   "outputs": [],
   "source": [
    "tweet_by_id_2 = api.get_status(\"1403059035318927364\",tweet_mode = 'extended')\n",
    "test_ticket.did_respond(tweet_by_id_2)"
   ],
   "metadata": {
    "collapsed": false,
    "pycharm": {
     "name": "#%%\n"
    }
   }
  },
  {
   "cell_type": "code",
   "execution_count": 89,
   "outputs": [],
   "source": [
    "retweet_filter='-filter:retweets'\n",
    "searchQuery = \"@NathanFleck8\"\n",
    "tweetsPerQry = 100\n",
    "new_tweets = api.search(q=searchQuery, count=tweetsPerQry)"
   ],
   "metadata": {
    "collapsed": false,
    "pycharm": {
     "name": "#%%\n"
    }
   }
  },
  {
   "cell_type": "code",
   "execution_count": 90,
   "outputs": [
    {
     "name": "stdout",
     "output_type": "stream",
     "text": [
      "1403059035318927364\n",
      "1403058569239531526\n",
      "1403058525643890694\n"
     ]
    }
   ],
   "source": [
    "for x in new_tweets:\n",
    "    print(x._json['id'])\n"
   ],
   "metadata": {
    "collapsed": false,
    "pycharm": {
     "name": "#%%\n"
    }
   }
  },
  {
   "cell_type": "code",
   "execution_count": 113,
   "outputs": [],
   "source": [],
   "metadata": {
    "collapsed": false,
    "pycharm": {
     "name": "#%%\n"
    }
   }
  },
  {
   "cell_type": "code",
   "execution_count": 99,
   "outputs": [
    {
     "data": {
      "text/plain": "'Response sent'"
     },
     "execution_count": 99,
     "metadata": {},
     "output_type": "execute_result"
    }
   ],
   "source": [
    "test_ticket.send_response(\"Thank you for the test3\", \"1403059035318927364\")"
   ],
   "metadata": {
    "collapsed": false,
    "pycharm": {
     "name": "#%%\n"
    }
   }
  },
  {
   "cell_type": "code",
   "execution_count": 61,
   "outputs": [
    {
     "data": {
      "text/plain": "{'1402778894953062400': {'username': 'NathanFleck8',\n  'tweet': 'test 1 2',\n  'replies': [1403200669373325317]}}"
     },
     "execution_count": 61,
     "metadata": {},
     "output_type": "execute_result"
    }
   ],
   "source": [
    "test_ticket.conversation_log"
   ],
   "metadata": {
    "collapsed": false,
    "pycharm": {
     "name": "#%%\n"
    }
   }
  },
  {
   "cell_type": "code",
   "execution_count": null,
   "outputs": [],
   "source": [
    "tweet_by_id = api.get_status(\"1403059035318927364\",tweet_mode = 'extended')\n",
    "print(tweet_by_id.id)"
   ],
   "metadata": {
    "collapsed": false,
    "pycharm": {
     "name": "#%%\n"
    }
   }
  },
  {
   "cell_type": "code",
   "execution_count": 109,
   "outputs": [],
   "source": [
    "response = get_tweet_comments(api.get_status(str(1402778894953062400),tweet_mode = 'extended'))"
   ],
   "metadata": {
    "collapsed": false,
    "pycharm": {
     "name": "#%%\n"
    }
   }
  },
  {
   "cell_type": "code",
   "execution_count": 112,
   "outputs": [
    {
     "data": {
      "text/plain": "1403207057382203394"
     },
     "execution_count": 112,
     "metadata": {},
     "output_type": "execute_result"
    }
   ],
   "source": [
    "response.id\n",
    "1402789426565201920"
   ],
   "metadata": {
    "collapsed": false,
    "pycharm": {
     "name": "#%%\n"
    }
   }
  },
  {
   "cell_type": "code",
   "execution_count": 111,
   "outputs": [
    {
     "data": {
      "text/plain": "[]"
     },
     "execution_count": 111,
     "metadata": {},
     "output_type": "execute_result"
    }
   ],
   "source": [
    "response2 = get_tweet_comments(api.get_status(response.id_str,tweet_mode = 'extended'))\n",
    "response2"
   ],
   "metadata": {
    "collapsed": false,
    "pycharm": {
     "name": "#%%\n"
    }
   }
  },
  {
   "cell_type": "code",
   "execution_count": 150,
   "outputs": [],
   "source": [
    "response = get_tweet_comments(tweet_by_id)"
   ],
   "metadata": {
    "collapsed": false,
    "pycharm": {
     "name": "#%%\n"
    }
   }
  },
  {
   "cell_type": "code",
   "execution_count": 159,
   "outputs": [],
   "source": [
    "if response == []:\n",
    "    v = 0\n",
    "else:\n",
    "    test_ticket.did_respond(response)\n",
    "    test_ticket.send_response(\"Banana Town\", response.id)"
   ],
   "metadata": {
    "collapsed": false,
    "pycharm": {
     "name": "#%%\n"
    }
   }
  },
  {
   "cell_type": "code",
   "execution_count": 160,
   "outputs": [
    {
     "name": "stdout",
     "output_type": "stream",
     "text": [
      "Initial Tweet:   test 1 2\n",
      "Bot Response:   What city did this take place?\n",
      "NathanFleck8 responded:   Banana Town\n",
      "Bot Response:   Banana Town\n"
     ]
    }
   ],
   "source": [
    "test_ticket.print_log()"
   ],
   "metadata": {
    "collapsed": false,
    "pycharm": {
     "name": "#%%\n"
    }
   }
  },
  {
   "cell_type": "code",
   "execution_count": 162,
   "outputs": [
    {
     "ename": "TweepError",
     "evalue": "[{'code': 144, 'message': 'No status found with that ID.'}]",
     "output_type": "error",
     "traceback": [
      "\u001B[1;31m---------------------------------------------------------------------------\u001B[0m",
      "\u001B[1;31mTweepError\u001B[0m                                Traceback (most recent call last)",
      "\u001B[1;32m<ipython-input-162-f477848aa2a1>\u001B[0m in \u001B[0;36m<module>\u001B[1;34m\u001B[0m\n\u001B[1;32m----> 1\u001B[1;33m \u001B[0mresponse\u001B[0m \u001B[1;33m=\u001B[0m \u001B[0mget_tweet_comments\u001B[0m\u001B[1;33m(\u001B[0m\u001B[0mapi\u001B[0m\u001B[1;33m.\u001B[0m\u001B[0mget_status\u001B[0m\u001B[1;33m(\u001B[0m\u001B[0mstr\u001B[0m\u001B[1;33m(\u001B[0m\u001B[0mresponse\u001B[0m\u001B[1;33m.\u001B[0m\u001B[0mid\u001B[0m\u001B[1;33m)\u001B[0m\u001B[1;33m,\u001B[0m\u001B[0mtweet_mode\u001B[0m \u001B[1;33m=\u001B[0m \u001B[1;34m'extended'\u001B[0m\u001B[1;33m)\u001B[0m\u001B[1;33m)\u001B[0m\u001B[1;33m\u001B[0m\u001B[1;33m\u001B[0m\u001B[0m\n\u001B[0m\u001B[0;32m      2\u001B[0m \u001B[0mprint\u001B[0m\u001B[1;33m(\u001B[0m\u001B[0mresponse\u001B[0m\u001B[1;33m.\u001B[0m\u001B[0mid\u001B[0m\u001B[1;33m)\u001B[0m\u001B[1;33m\u001B[0m\u001B[1;33m\u001B[0m\u001B[0m\n",
      "\u001B[1;32mc:\\users\\nafleck\\.virtualenvs\\deprecated-labs34-human-rights-first-polic-tai8q-ib\\lib\\site-packages\\tweepy\\binder.py\u001B[0m in \u001B[0;36m_call\u001B[1;34m(*args, **kwargs)\u001B[0m\n\u001B[0;32m    251\u001B[0m                 \u001B[1;32mreturn\u001B[0m \u001B[0mmethod\u001B[0m\u001B[1;33m\u001B[0m\u001B[1;33m\u001B[0m\u001B[0m\n\u001B[0;32m    252\u001B[0m             \u001B[1;32melse\u001B[0m\u001B[1;33m:\u001B[0m\u001B[1;33m\u001B[0m\u001B[1;33m\u001B[0m\u001B[0m\n\u001B[1;32m--> 253\u001B[1;33m                 \u001B[1;32mreturn\u001B[0m \u001B[0mmethod\u001B[0m\u001B[1;33m.\u001B[0m\u001B[0mexecute\u001B[0m\u001B[1;33m(\u001B[0m\u001B[1;33m)\u001B[0m\u001B[1;33m\u001B[0m\u001B[1;33m\u001B[0m\u001B[0m\n\u001B[0m\u001B[0;32m    254\u001B[0m         \u001B[1;32mfinally\u001B[0m\u001B[1;33m:\u001B[0m\u001B[1;33m\u001B[0m\u001B[1;33m\u001B[0m\u001B[0m\n\u001B[0;32m    255\u001B[0m             \u001B[0mmethod\u001B[0m\u001B[1;33m.\u001B[0m\u001B[0msession\u001B[0m\u001B[1;33m.\u001B[0m\u001B[0mclose\u001B[0m\u001B[1;33m(\u001B[0m\u001B[1;33m)\u001B[0m\u001B[1;33m\u001B[0m\u001B[1;33m\u001B[0m\u001B[0m\n",
      "\u001B[1;32mc:\\users\\nafleck\\.virtualenvs\\deprecated-labs34-human-rights-first-polic-tai8q-ib\\lib\\site-packages\\tweepy\\binder.py\u001B[0m in \u001B[0;36mexecute\u001B[1;34m(self)\u001B[0m\n\u001B[0;32m    232\u001B[0m                     \u001B[1;32mraise\u001B[0m \u001B[0mRateLimitError\u001B[0m\u001B[1;33m(\u001B[0m\u001B[0merror_msg\u001B[0m\u001B[1;33m,\u001B[0m \u001B[0mresp\u001B[0m\u001B[1;33m)\u001B[0m\u001B[1;33m\u001B[0m\u001B[1;33m\u001B[0m\u001B[0m\n\u001B[0;32m    233\u001B[0m                 \u001B[1;32melse\u001B[0m\u001B[1;33m:\u001B[0m\u001B[1;33m\u001B[0m\u001B[1;33m\u001B[0m\u001B[0m\n\u001B[1;32m--> 234\u001B[1;33m                     \u001B[1;32mraise\u001B[0m \u001B[0mTweepError\u001B[0m\u001B[1;33m(\u001B[0m\u001B[0merror_msg\u001B[0m\u001B[1;33m,\u001B[0m \u001B[0mresp\u001B[0m\u001B[1;33m,\u001B[0m \u001B[0mapi_code\u001B[0m\u001B[1;33m=\u001B[0m\u001B[0mapi_error_code\u001B[0m\u001B[1;33m)\u001B[0m\u001B[1;33m\u001B[0m\u001B[1;33m\u001B[0m\u001B[0m\n\u001B[0m\u001B[0;32m    235\u001B[0m \u001B[1;33m\u001B[0m\u001B[0m\n\u001B[0;32m    236\u001B[0m             \u001B[1;31m# Parse the response payload\u001B[0m\u001B[1;33m\u001B[0m\u001B[1;33m\u001B[0m\u001B[1;33m\u001B[0m\u001B[0m\n",
      "\u001B[1;31mTweepError\u001B[0m: [{'code': 144, 'message': 'No status found with that ID.'}]"
     ]
    }
   ],
   "source": [
    "response = get_tweet_comments(api.get_status(str(response.id),tweet_mode = 'extended'))\n",
    "print(response.id)"
   ],
   "metadata": {
    "collapsed": false,
    "pycharm": {
     "name": "#%%\n"
    }
   }
  },
  {
   "cell_type": "code",
   "execution_count": 163,
   "outputs": [],
   "source": [
    "if response == []:\n",
    "    print(\"did not find response\")\n",
    "else:\n",
    "    test_ticket.did_respond(response)\n",
    "    test_ticket.send_response(\"Thank You\", response.id)"
   ],
   "metadata": {
    "collapsed": false,
    "pycharm": {
     "name": "#%%\n"
    }
   }
  },
  {
   "cell_type": "code",
   "execution_count": null,
   "outputs": [],
   "source": [
    "test_ticket.send_response(\"Hey man where is that at?\",\"1402778894953062400\")"
   ],
   "metadata": {
    "collapsed": false,
    "pycharm": {
     "name": "#%%\n"
    }
   }
  },
  {
   "cell_type": "code",
   "execution_count": null,
   "outputs": [],
   "source": [
    "test_ticket.did_respond(api.get_status(\"1402307146503495681\",tweet_mode = 'extended'))\n",
    "test_ticket.send_response(\"Bruh chill\")\n",
    "test_ticket.did_respond(api.get_status(\"1402725931114909697\",tweet_mode = 'extended'))"
   ],
   "metadata": {
    "collapsed": false,
    "pycharm": {
     "name": "#%%\n"
    }
   }
  },
  {
   "cell_type": "code",
   "execution_count": 153,
   "outputs": [
    {
     "name": "stdout",
     "output_type": "stream",
     "text": [
      "Initial Tweet:   test 1 2\n",
      "Bot Response:   What city did this take place?\n",
      "NathanFleck8 responded:   What city did this take place?\n",
      "Bot Response:   Banana Town\n",
      "NathanFleck8 responded:   What city did this take place?\n",
      "NathanFleck8 responded:   What city did this take place?\n",
      "NathanFleck8 responded:   Banana Town\n",
      "Bot Response:   Thank You\n"
     ]
    }
   ],
   "source": [
    "test_ticket.print_log()"
   ],
   "metadata": {
    "collapsed": false,
    "pycharm": {
     "name": "#%%\n"
    }
   }
  },
  {
   "cell_type": "code",
   "execution_count": 2,
   "outputs": [],
   "source": [
    "def test(list, s):\n",
    "    end_list = []\n",
    "    for i, x in enumerate(list):\n",
    "        temp = list[i]\n",
    "        for y in list[i:]:\n",
    "            sum = temp + y\n",
    "            if sum == s:\n",
    "                end_list.append([temp,y])\n",
    "    return end_list"
   ],
   "metadata": {
    "collapsed": false,
    "pycharm": {
     "name": "#%%\n"
    }
   }
  },
  {
   "cell_type": "code",
   "execution_count": 3,
   "outputs": [
    {
     "data": {
      "text/plain": "[[5, 2], [-4, 11]]"
     },
     "execution_count": 3,
     "metadata": {},
     "output_type": "execute_result"
    }
   ],
   "source": [
    "test([3, 5, 2, -4, 8, 11], 7)\n"
   ],
   "metadata": {
    "collapsed": false,
    "pycharm": {
     "name": "#%%\n"
    }
   }
  },
  {
   "cell_type": "code",
   "execution_count": null,
   "outputs": [],
   "source": [],
   "metadata": {
    "collapsed": false,
    "pycharm": {
     "name": "#%%\n"
    }
   }
  }
 ],
 "metadata": {
  "kernelspec": {
   "name": "python3",
   "language": "python",
   "display_name": "Python 3"
  },
  "language_info": {
   "codemirror_mode": {
    "name": "ipython",
    "version": 3
   },
   "file_extension": ".py",
   "mimetype": "text/x-python",
   "name": "python",
   "nbconvert_exporter": "python",
   "pygments_lexer": "ipython3",
   "version": "3.9.1"
  }
 },
 "nbformat": 4,
 "nbformat_minor": 4
}