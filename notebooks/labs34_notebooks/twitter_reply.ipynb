{
 "cells": [
  {
   "cell_type": "code",
   "execution_count": 91,
   "metadata": {},
   "outputs": [],
   "source": [
    "import tweepy"
   ]
  },
  {
   "cell_type": "code",
   "execution_count": 96,
   "metadata": {},
   "outputs": [
    {
     "output_type": "stream",
     "name": "stdout",
     "text": [
      "Authentication OK\n"
     ]
    }
   ],
   "source": [
    "CONSUMER_KEY = CONSUMER_KEY\n",
    "CONSUMER_SECRET = CONSUMER_SECRET\n",
    "ACCESS_KEY = ACCESS_KEY\n",
    "ACCESS_SECRET = ACCESS_SECRET\n",
    "\n",
    "auth = tweepy.OAuthHandler(CONSUMER_KEY, CONSUMER_SECRET)\n",
    "auth.set_access_token(ACCESS_KEY, ACCESS_SECRET)\n",
    "\n",
    "api = tweepy.API(auth)\n",
    "\n",
    "try:\n",
    "    api.verify_credentials()\n",
    "    print('Authentication OK')\n",
    "except:\n",
    "    print('Error during authentication')"
   ]
  },
  {
   "cell_type": "code",
   "execution_count": 97,
   "metadata": {},
   "outputs": [],
   "source": [
    "import pandas as pd"
   ]
  },
  {
   "source": [
    "## Twitter bot will reply to the tweet"
   ],
   "cell_type": "markdown",
   "metadata": {}
  },
  {
   "cell_type": "code",
   "execution_count": 99,
   "metadata": {},
   "outputs": [
    {
     "output_type": "execute_result",
     "data": {
      "text/plain": [
       "'done!'"
      ]
     },
     "metadata": {},
     "execution_count": 99
    }
   ],
   "source": [
    "def twitter_reply(status_id):\n",
    "    reply_text = '''\n",
    "    ------- test -------\n",
    "    We noticed that you are repoting a police incident. \n",
    "    '''\n",
    "\n",
    "    api.update_status(status = reply_text, in_reply_to_status_id=status_id)\n",
    "    return 'done!'\n",
    "\n",
    "twitter_reply(1395143654331744256)"
   ]
  },
  {
   "cell_type": "code",
   "execution_count": 54,
   "metadata": {},
   "outputs": [
    {
     "output_type": "execute_result",
     "data": {
      "text/plain": [
       "       username                   id  \\\n",
       "0  JoanVillar14  1395144910580314112   \n",
       "1  JoanVillar14  1395143654331744256   \n",
       "2  alvinSeven77  1394786090175795200   \n",
       "\n",
       "                                               tweet  \n",
       "0                           Joan Villar epic student  \n",
       "1                        Joan Villar test for tweepy  \n",
       "2  @AJemIlagan She has St. Joan of Arc's spirit b...  "
      ],
      "text/html": "<div>\n<style scoped>\n    .dataframe tbody tr th:only-of-type {\n        vertical-align: middle;\n    }\n\n    .dataframe tbody tr th {\n        vertical-align: top;\n    }\n\n    .dataframe thead th {\n        text-align: right;\n    }\n</style>\n<table border=\"1\" class=\"dataframe\">\n  <thead>\n    <tr style=\"text-align: right;\">\n      <th></th>\n      <th>username</th>\n      <th>id</th>\n      <th>tweet</th>\n    </tr>\n  </thead>\n  <tbody>\n    <tr>\n      <th>0</th>\n      <td>JoanVillar14</td>\n      <td>1395144910580314112</td>\n      <td>Joan Villar epic student</td>\n    </tr>\n    <tr>\n      <th>1</th>\n      <td>JoanVillar14</td>\n      <td>1395143654331744256</td>\n      <td>Joan Villar test for tweepy</td>\n    </tr>\n    <tr>\n      <th>2</th>\n      <td>alvinSeven77</td>\n      <td>1394786090175795200</td>\n      <td>@AJemIlagan She has St. Joan of Arc's spirit b...</td>\n    </tr>\n  </tbody>\n</table>\n</div>"
     },
     "metadata": {},
     "execution_count": 54
    }
   ],
   "source": [
    "df_data = []\n",
    "for tweet in api.search(q='Joan Villar', lang='en', rpp=5)[:5]:\n",
    "    test_data = [tweet.user.screen_name, tweet.id, tweet.text]\n",
    "    df_data.append(test_data)\n",
    "df = pd.DataFrame(data=df_data, columns=['username', 'id', 'tweet'])\n",
    "df"
   ]
  },
  {
   "source": [
    "## Twitter bot will reply to the user through DM"
   ],
   "cell_type": "markdown",
   "metadata": {}
  },
  {
   "cell_type": "code",
   "execution_count": 80,
   "metadata": {},
   "outputs": [
    {
     "output_type": "execute_result",
     "data": {
      "text/plain": [
       "'direct message sent'"
      ]
     },
     "metadata": {},
     "execution_count": 80
    }
   ],
   "source": [
    "def direct_message(username):\n",
    "    user = api.get_user(username)\n",
    "    message = '''\n",
    "    Just testing some features.\n",
    "    This sends a direct message to the person\n",
    "    '''\n",
    "    api.send_direct_message(user.id, message)\n",
    "    return 'direct message sent'\n",
    "\n",
    "direct_message('@JoanVillar14')"
   ]
  },
  {
   "source": [
    "Improvements:\n",
    "\n",
    "1. Depending on the reply, gather more information such as:\n",
    "- did it really happen?\n",
    "- where did it happen\n",
    "\n",
    "2. They pin the place of incident on a map\n",
    "- If tweet's geolocation is on, get the coordinates\n",
    "\n",
    "-------\n",
    "\n",
    "\n",
    "* There are a few things to keep in mind in designing a model that replies to specific replies. This might be another project in the future.\n",
    "* Since the incidents are already identified, it might be best to just get the location from the user."
   ],
   "cell_type": "markdown",
   "metadata": {}
  },
  {
   "cell_type": "code",
   "execution_count": null,
   "metadata": {},
   "outputs": [],
   "source": []
  }
 ],
 "metadata": {
  "kernelspec": {
   "name": "python391jvsc74a57bd07812ea015bdcee6f23a998adcdd2ef97c151c0c241b7b7070987d9313e41299d",
   "display_name": "Python 3.9.1 64-bit ('3.9')"
  },
  "language_info": {
   "codemirror_mode": {
    "name": "ipython",
    "version": 3
   },
   "file_extension": ".py",
   "mimetype": "text/x-python",
   "name": "python",
   "nbconvert_exporter": "python",
   "pygments_lexer": "ipython3",
   "version": "3.9.1"
  }
 },
 "nbformat": 4,
 "nbformat_minor": 4
}