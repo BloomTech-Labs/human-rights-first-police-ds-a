{
 "metadata": {
  "language_info": {
   "codemirror_mode": {
    "name": "ipython",
    "version": 3
   },
   "file_extension": ".py",
   "mimetype": "text/x-python",
   "name": "python",
   "nbconvert_exporter": "python",
   "pygments_lexer": "ipython3",
   "version": "3.9.1"
  },
  "orig_nbformat": 2,
  "kernelspec": {
   "name": "python391jvsc74a57bd07812ea015bdcee6f23a998adcdd2ef97c151c0c241b7b7070987d9313e41299d",
   "display_name": "Python 3.9.1 64-bit ('3.9')"
  }
 },
 "nbformat": 4,
 "nbformat_minor": 2,
 "cells": [
  {
   "cell_type": "code",
   "execution_count": 2,
   "metadata": {},
   "outputs": [
    {
     "output_type": "stream",
     "name": "stdout",
     "text": [
      "Authentication OK\n"
     ]
    }
   ],
   "source": [
    "import tweepy\n",
    "\n",
    "CONSUMER_KEY = CONSUMER_KEY\n",
    "CONSUMER_SECRET = CONSUMER_SECRET\n",
    "ACCESS_KEY = ACCESS_KEY\n",
    "ACCESS_SECRET = ACCESS_SECRET\n",
    "\n",
    "auth = tweepy.OAuthHandler(CONSUMER_KEY, CONSUMER_SECRET)\n",
    "auth.set_access_token(ACCESS_KEY, ACCESS_SECRET)\n",
    "\n",
    "api = tweepy.API(auth)\n",
    "\n",
    "try:\n",
    "    api.verify_credentials()\n",
    "    print('Authentication OK')\n",
    "except:\n",
    "    print('Error during authentication')"
   ]
  },
  {
   "source": [
    "The scraper uses the textmatcher to get data from the twitter api. If we will take out the `textmatcher.py` we need to change how the `scraper.py` gets data\n",
    "\n",
    "This might be a solution:\n",
    "* `scraper.py` takes all new potential incidents from the twitter api with geocode restriction within United States, mentioning keywords (police, cop, etc)\n",
    "* `BERT Model` decides if it's an incident or not\n",
    "* part of `textmatcher.py` will be used to rank the categories, make tags, etc\n",
    "* Manual review if it is a true incident\n",
    "* Twitter bot communicates with the twitter user\n"
   ],
   "cell_type": "markdown",
   "metadata": {}
  },
  {
   "cell_type": "code",
   "execution_count": 4,
   "metadata": {},
   "outputs": [],
   "source": [
    "import pandas as pd"
   ]
  },
  {
   "cell_type": "code",
   "execution_count": 5,
   "metadata": {},
   "outputs": [
    {
     "output_type": "execute_result",
     "data": {
      "text/plain": [
       "(100, 4)"
      ]
     },
     "metadata": {},
     "execution_count": 5
    }
   ],
   "source": [
    "tweet_lst=[]\n",
    "geoc = '39.828300,-98.579500,2000mi'\n",
    "for tweet in tweepy.Cursor(api.search,q='police cop',geocode=geoc).items(100):\n",
    "    tweetDate = tweet.created_at.date()\n",
    "    tweet_lst.append([tweetDate, tweet.id, tweet.user.name, tweet.text])\n",
    "tweet_df = pd.DataFrame(tweet_lst, columns=['tweet_dt', 'id','username', 'tweet'])\n",
    "tweet_df.shape"
   ]
  },
  {
   "cell_type": "code",
   "execution_count": 7,
   "metadata": {},
   "outputs": [
    {
     "output_type": "execute_result",
     "data": {
      "text/plain": [
       "     tweet_dt                   id      username  \\\n",
       "0  2021-05-19  1395160486241390595        Owlish   \n",
       "1  2021-05-19  1395160484417052680  NewsCommoner   \n",
       "2  2021-05-19  1395160475923488769  Cindy Barthi   \n",
       "3  2021-05-19  1395160433837821952         MattT   \n",
       "4  2021-05-19  1395160296377966598  Shadric Long   \n",
       "\n",
       "                                               tweet  \n",
       "0  RT @kylegriffin1: Rep. Tim Ryan: \"We have peop...  \n",
       "1  RT @d56432070: Realistic TV Cop Shows https://...  \n",
       "2  RT @kylegriffin1: Rep. Tim Ryan: \"We have peop...  \n",
       "3  RT @kylegriffin1: Rep. Tim Ryan: \"We have peop...  \n",
       "4  RT @AttorneyCrump: How Police Mislead the Publ...  "
      ],
      "text/html": "<div>\n<style scoped>\n    .dataframe tbody tr th:only-of-type {\n        vertical-align: middle;\n    }\n\n    .dataframe tbody tr th {\n        vertical-align: top;\n    }\n\n    .dataframe thead th {\n        text-align: right;\n    }\n</style>\n<table border=\"1\" class=\"dataframe\">\n  <thead>\n    <tr style=\"text-align: right;\">\n      <th></th>\n      <th>tweet_dt</th>\n      <th>id</th>\n      <th>username</th>\n      <th>tweet</th>\n    </tr>\n  </thead>\n  <tbody>\n    <tr>\n      <th>0</th>\n      <td>2021-05-19</td>\n      <td>1395160486241390595</td>\n      <td>Owlish</td>\n      <td>RT @kylegriffin1: Rep. Tim Ryan: \"We have peop...</td>\n    </tr>\n    <tr>\n      <th>1</th>\n      <td>2021-05-19</td>\n      <td>1395160484417052680</td>\n      <td>NewsCommoner</td>\n      <td>RT @d56432070: Realistic TV Cop Shows https://...</td>\n    </tr>\n    <tr>\n      <th>2</th>\n      <td>2021-05-19</td>\n      <td>1395160475923488769</td>\n      <td>Cindy Barthi</td>\n      <td>RT @kylegriffin1: Rep. Tim Ryan: \"We have peop...</td>\n    </tr>\n    <tr>\n      <th>3</th>\n      <td>2021-05-19</td>\n      <td>1395160433837821952</td>\n      <td>MattT</td>\n      <td>RT @kylegriffin1: Rep. Tim Ryan: \"We have peop...</td>\n    </tr>\n    <tr>\n      <th>4</th>\n      <td>2021-05-19</td>\n      <td>1395160296377966598</td>\n      <td>Shadric Long</td>\n      <td>RT @AttorneyCrump: How Police Mislead the Publ...</td>\n    </tr>\n  </tbody>\n</table>\n</div>"
     },
     "metadata": {},
     "execution_count": 7
    }
   ],
   "source": [
    "tweet_df.head()"
   ]
  },
  {
   "source": [
    "This needs more revisions and research on how to properly implement it to smoothly integrate with the original data format of the database"
   ],
   "cell_type": "markdown",
   "metadata": {}
  }
 ]
}