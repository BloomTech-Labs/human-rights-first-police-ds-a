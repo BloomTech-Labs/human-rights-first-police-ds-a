{
 "metadata": {
  "language_info": {
   "codemirror_mode": {
    "name": "ipython",
    "version": 3
   },
   "file_extension": ".py",
   "mimetype": "text/x-python",
   "name": "python",
   "nbconvert_exporter": "python",
   "pygments_lexer": "ipython3",
   "version": "3.9.0"
  },
  "orig_nbformat": 2,
  "kernelspec": {
   "name": "python390jvsc74a57bd0a2742fb1ec8ec3cbc3f5649403520b759ea743ffbc9612c8d68123df8c147a01",
   "display_name": "Python 3.9.0 64-bit"
  }
 },
 "nbformat": 4,
 "nbformat_minor": 2,
 "cells": [
  {
   "cell_type": "code",
   "execution_count": 25,
   "metadata": {},
   "outputs": [],
   "source": [
    "import pandas as pd"
   ]
  },
  {
   "cell_type": "code",
   "execution_count": 26,
   "metadata": {},
   "outputs": [],
   "source": [
    "df_confirmed01 = pd.read_csv('C:/Users/slups/Documents/Labs_34/human-rights-first-police-ds-a/notebooks/labs34_notebooks/confirmed_cases.csv')\n",
    "df_confirmed_fatals = pd.read_csv('C:/Users/slups/Documents/Labs_34/human-rights-first-police-ds-a/notebooks/labs34_notebooks/confirmed_fatals01_slupsha.csv')\n",
    "df_unconfirmed = pd.read_csv('C:/Users/slups/Documents/Labs_34/human-rights-first-police-ds-a/notebooks/labs34_notebooks/unconfirmed_clean.csv')"
   ]
  },
  {
   "cell_type": "code",
   "execution_count": 27,
   "metadata": {},
   "outputs": [
    {
     "output_type": "stream",
     "name": "stdout",
     "text": [
      "Joan: (1327, 2)\nStephen: (30158, 3)\nJames: (9482, 3)\n"
     ]
    }
   ],
   "source": [
    "print('Joan:',df_confirmed01.shape)\n",
    "print('Stephen:', df_confirmed_fatals.shape)\n",
    "print('James:',df_unconfirmed.shape)"
   ]
  },
  {
   "cell_type": "code",
   "execution_count": 28,
   "metadata": {},
   "outputs": [
    {
     "output_type": "execute_result",
     "data": {
      "text/plain": [
       "                                                 DSC  confirmed\n",
       "0  Down the street from the Portland ICE facility...          1\n",
       "1  On April 22, 2021, Albany police moved to disp...          1\n",
       "2  Police arrested a protester near Jefferson Squ...          1\n",
       "3  Police charged a group of protesters at H and ...          1\n",
       "4  Police and protesters face off on opposite sid...          1"
      ],
      "text/html": "<div>\n<style scoped>\n    .dataframe tbody tr th:only-of-type {\n        vertical-align: middle;\n    }\n\n    .dataframe tbody tr th {\n        vertical-align: top;\n    }\n\n    .dataframe thead th {\n        text-align: right;\n    }\n</style>\n<table border=\"1\" class=\"dataframe\">\n  <thead>\n    <tr style=\"text-align: right;\">\n      <th></th>\n      <th>DSC</th>\n      <th>confirmed</th>\n    </tr>\n  </thead>\n  <tbody>\n    <tr>\n      <th>0</th>\n      <td>Down the street from the Portland ICE facility...</td>\n      <td>1</td>\n    </tr>\n    <tr>\n      <th>1</th>\n      <td>On April 22, 2021, Albany police moved to disp...</td>\n      <td>1</td>\n    </tr>\n    <tr>\n      <th>2</th>\n      <td>Police arrested a protester near Jefferson Squ...</td>\n      <td>1</td>\n    </tr>\n    <tr>\n      <th>3</th>\n      <td>Police charged a group of protesters at H and ...</td>\n      <td>1</td>\n    </tr>\n    <tr>\n      <th>4</th>\n      <td>Police and protesters face off on opposite sid...</td>\n      <td>1</td>\n    </tr>\n  </tbody>\n</table>\n</div>"
     },
     "metadata": {},
     "execution_count": 28
    }
   ],
   "source": [
    "df_confirmed01.rename(columns = {'Brief Description':'DSC'}, inplace=True)\n",
    "df_confirmed01.rename(columns = {'Confirmed':'confirmed'}, inplace=True)\n",
    "df_confirmed01.head()"
   ]
  },
  {
   "cell_type": "code",
   "execution_count": 29,
   "metadata": {},
   "outputs": [
    {
     "output_type": "execute_result",
     "data": {
      "text/plain": [
       "                                                 DSC  confirmed\n",
       "0  Samuel Knapp was allegedly driving a stolen ve...          1\n",
       "1  Two Detroit men killed when their car crashed ...          1\n",
       "2  Two Detroit men killed when their car crashed ...          1\n",
       "3  A motorcycle was allegedly being driven errati...          1\n",
       "4  LaTanya Janelle McCoy's car was struck from be...          1"
      ],
      "text/html": "<div>\n<style scoped>\n    .dataframe tbody tr th:only-of-type {\n        vertical-align: middle;\n    }\n\n    .dataframe tbody tr th {\n        vertical-align: top;\n    }\n\n    .dataframe thead th {\n        text-align: right;\n    }\n</style>\n<table border=\"1\" class=\"dataframe\">\n  <thead>\n    <tr style=\"text-align: right;\">\n      <th></th>\n      <th>DSC</th>\n      <th>confirmed</th>\n    </tr>\n  </thead>\n  <tbody>\n    <tr>\n      <th>0</th>\n      <td>Samuel Knapp was allegedly driving a stolen ve...</td>\n      <td>1</td>\n    </tr>\n    <tr>\n      <th>1</th>\n      <td>Two Detroit men killed when their car crashed ...</td>\n      <td>1</td>\n    </tr>\n    <tr>\n      <th>2</th>\n      <td>Two Detroit men killed when their car crashed ...</td>\n      <td>1</td>\n    </tr>\n    <tr>\n      <th>3</th>\n      <td>A motorcycle was allegedly being driven errati...</td>\n      <td>1</td>\n    </tr>\n    <tr>\n      <th>4</th>\n      <td>LaTanya Janelle McCoy's car was struck from be...</td>\n      <td>1</td>\n    </tr>\n  </tbody>\n</table>\n</div>"
     },
     "metadata": {},
     "execution_count": 29
    }
   ],
   "source": [
    "df_confirmed_fatals.drop(['Unnamed: 0'], axis=1, inplace=True)\n",
    "df_confirmed_fatals.rename(columns = {'Brief description':'DSC'}, inplace=True)\n",
    "df_confirmed_fatals.head()"
   ]
  },
  {
   "cell_type": "code",
   "execution_count": 30,
   "metadata": {},
   "outputs": [
    {
     "output_type": "execute_result",
     "data": {
      "text/plain": [
       "                                                 DSC  confirmed\n",
       "0  Lmao when he needs training wheels  #acab #def...        0.0\n",
       "1  Unlawful Arrest For Offending People  via @use...        0.0\n",
       "2  @user @user They learned that shit from the go...        0.0\n",
       "3  @user You dont have to give the reasons honThe...        0.0\n",
       "4  @user @user Of course you would side with the ...        0.0"
      ],
      "text/html": "<div>\n<style scoped>\n    .dataframe tbody tr th:only-of-type {\n        vertical-align: middle;\n    }\n\n    .dataframe tbody tr th {\n        vertical-align: top;\n    }\n\n    .dataframe thead th {\n        text-align: right;\n    }\n</style>\n<table border=\"1\" class=\"dataframe\">\n  <thead>\n    <tr style=\"text-align: right;\">\n      <th></th>\n      <th>DSC</th>\n      <th>confirmed</th>\n    </tr>\n  </thead>\n  <tbody>\n    <tr>\n      <th>0</th>\n      <td>Lmao when he needs training wheels  #acab #def...</td>\n      <td>0.0</td>\n    </tr>\n    <tr>\n      <th>1</th>\n      <td>Unlawful Arrest For Offending People  via @use...</td>\n      <td>0.0</td>\n    </tr>\n    <tr>\n      <th>2</th>\n      <td>@user @user They learned that shit from the go...</td>\n      <td>0.0</td>\n    </tr>\n    <tr>\n      <th>3</th>\n      <td>@user You dont have to give the reasons honThe...</td>\n      <td>0.0</td>\n    </tr>\n    <tr>\n      <th>4</th>\n      <td>@user @user Of course you would side with the ...</td>\n      <td>0.0</td>\n    </tr>\n  </tbody>\n</table>\n</div>"
     },
     "metadata": {},
     "execution_count": 30
    }
   ],
   "source": [
    "df_unconfirmed.drop(['Unnamed: 0'], axis=1, inplace=True)\n",
    "\n",
    "df_unconfirmed.head()"
   ]
  },
  {
   "cell_type": "code",
   "execution_count": 31,
   "metadata": {},
   "outputs": [
    {
     "output_type": "stream",
     "name": "stdout",
     "text": [
      "(31485, 2)\n1    31485\nName: confirmed, dtype: int64\n"
     ]
    },
    {
     "output_type": "execute_result",
     "data": {
      "text/plain": [
       "                                                 DSC  confirmed\n",
       "0  Down the street from the Portland ICE facility...          1\n",
       "1  On April 22, 2021, Albany police moved to disp...          1\n",
       "2  Police arrested a protester near Jefferson Squ...          1\n",
       "3  Police charged a group of protesters at H and ...          1\n",
       "4  Police and protesters face off on opposite sid...          1"
      ],
      "text/html": "<div>\n<style scoped>\n    .dataframe tbody tr th:only-of-type {\n        vertical-align: middle;\n    }\n\n    .dataframe tbody tr th {\n        vertical-align: top;\n    }\n\n    .dataframe thead th {\n        text-align: right;\n    }\n</style>\n<table border=\"1\" class=\"dataframe\">\n  <thead>\n    <tr style=\"text-align: right;\">\n      <th></th>\n      <th>DSC</th>\n      <th>confirmed</th>\n    </tr>\n  </thead>\n  <tbody>\n    <tr>\n      <th>0</th>\n      <td>Down the street from the Portland ICE facility...</td>\n      <td>1</td>\n    </tr>\n    <tr>\n      <th>1</th>\n      <td>On April 22, 2021, Albany police moved to disp...</td>\n      <td>1</td>\n    </tr>\n    <tr>\n      <th>2</th>\n      <td>Police arrested a protester near Jefferson Squ...</td>\n      <td>1</td>\n    </tr>\n    <tr>\n      <th>3</th>\n      <td>Police charged a group of protesters at H and ...</td>\n      <td>1</td>\n    </tr>\n    <tr>\n      <th>4</th>\n      <td>Police and protesters face off on opposite sid...</td>\n      <td>1</td>\n    </tr>\n  </tbody>\n</table>\n</div>"
     },
     "metadata": {},
     "execution_count": 31
    }
   ],
   "source": [
    "#ok, combining our confirmed dataframes, then we can achieve shape agreement with james unconfirmed one.\n",
    "\n",
    "df_confirmed = pd.concat([df_confirmed01, df_confirmed_fatals], ignore_index=True)\n",
    "print(df_confirmed.shape)\n",
    "print(df_confirmed['confirmed'].value_counts())\n",
    "df_confirmed.head()"
   ]
  },
  {
   "cell_type": "code",
   "execution_count": 32,
   "metadata": {},
   "outputs": [
    {
     "output_type": "execute_result",
     "data": {
      "text/plain": [
       "(7491, 2)"
      ]
     },
     "metadata": {},
     "execution_count": 32
    }
   ],
   "source": [
    "df_confirmed = df_confirmed[:7491]\n",
    "df_confirmed.shape"
   ]
  },
  {
   "cell_type": "code",
   "execution_count": 33,
   "metadata": {},
   "outputs": [
    {
     "output_type": "stream",
     "name": "stdout",
     "text": [
      "(16973, 2)\n"
     ]
    },
    {
     "output_type": "execute_result",
     "data": {
      "text/plain": [
       "<bound method NDFrame.describe of                                                      DSC  confirmed\n",
       "0      Down the street from the Portland ICE facility...        1.0\n",
       "1      On April 22, 2021, Albany police moved to disp...        1.0\n",
       "2      Police arrested a protester near Jefferson Squ...        1.0\n",
       "3      Police charged a group of protesters at H and ...        1.0\n",
       "4      Police and protesters face off on opposite sid...        1.0\n",
       "...                                                  ...        ...\n",
       "16968                                                NaN        NaN\n",
       "16969                                                NaN        NaN\n",
       "16970                                                NaN        NaN\n",
       "16971                                                NaN        NaN\n",
       "16972                                                NaN        NaN\n",
       "\n",
       "[16973 rows x 2 columns]>"
      ]
     },
     "metadata": {},
     "execution_count": 33
    }
   ],
   "source": [
    "df_combined = pd.concat([df_confirmed, df_unconfirmed], ignore_index=True)\n",
    "print(df_combined.shape)\n",
    "df_combined.head()\n",
    "df_combined.describe"
   ]
  },
  {
   "cell_type": "code",
   "execution_count": 12,
   "metadata": {},
   "outputs": [],
   "source": [
    "#df_combined = pd.read_csv('combined_clean_18964x2.csv')\n"
   ]
  },
  {
   "cell_type": "code",
   "execution_count": 34,
   "metadata": {},
   "outputs": [
    {
     "output_type": "execute_result",
     "data": {
      "text/plain": [
       "                                                  DSC  confirmed\n",
       "0   Down the street from the Portland ICE facility...        1.0\n",
       "1   On April 22, 2021, Albany police moved to disp...        1.0\n",
       "2   Police arrested a protester near Jefferson Squ...        1.0\n",
       "3   Police charged a group of protesters at H and ...        1.0\n",
       "4   Police and protesters face off on opposite sid...        1.0\n",
       "5   Police behind a chain link fence throw stun gr...        1.0\n",
       "6   At a protest in Lents Park following the death...        1.0\n",
       "7   A still image from Brooklyn Center, Minnesota ...        1.0\n",
       "8   Police and protesters face off on opposite sid...        1.0\n",
       "9   At a protest following the death of Daunte Wri...        1.0\n",
       "10  As the curfew approached outside the Brooklyn ...        1.0\n",
       "11  At a protest outside the Brooklyn Center polic...        1.0\n",
       "12  At a protest near the LAPD Headquarters in Los...        1.0\n",
       "13  Following a protest at the Brooklyn Center pol...        1.0\n",
       "14  A journalist following the protests originatin...        1.0\n",
       "15  During the third day of protests following the...        1.0\n",
       "16  At a protest outside the Brooklyn Center Polic...        1.0\n",
       "17  During a protest following the death of Daunte...        1.0\n",
       "18  At a protest near the 40th precinct in the Bro...        1.0\n",
       "19  Following the death of an unarmed driver at th...        1.0\n",
       "20  At a protest outside the Salem capitol buildin...        1.0\n",
       "21  During a protest regarding the ferries on the ...        1.0\n",
       "22  During a second night of protests at Echo Park...        1.0\n",
       "23  During the second day of protests at Echo park...        1.0\n",
       "24  At a protest against the forced removal of a h...        1.0"
      ],
      "text/html": "<div>\n<style scoped>\n    .dataframe tbody tr th:only-of-type {\n        vertical-align: middle;\n    }\n\n    .dataframe tbody tr th {\n        vertical-align: top;\n    }\n\n    .dataframe thead th {\n        text-align: right;\n    }\n</style>\n<table border=\"1\" class=\"dataframe\">\n  <thead>\n    <tr style=\"text-align: right;\">\n      <th></th>\n      <th>DSC</th>\n      <th>confirmed</th>\n    </tr>\n  </thead>\n  <tbody>\n    <tr>\n      <th>0</th>\n      <td>Down the street from the Portland ICE facility...</td>\n      <td>1.0</td>\n    </tr>\n    <tr>\n      <th>1</th>\n      <td>On April 22, 2021, Albany police moved to disp...</td>\n      <td>1.0</td>\n    </tr>\n    <tr>\n      <th>2</th>\n      <td>Police arrested a protester near Jefferson Squ...</td>\n      <td>1.0</td>\n    </tr>\n    <tr>\n      <th>3</th>\n      <td>Police charged a group of protesters at H and ...</td>\n      <td>1.0</td>\n    </tr>\n    <tr>\n      <th>4</th>\n      <td>Police and protesters face off on opposite sid...</td>\n      <td>1.0</td>\n    </tr>\n    <tr>\n      <th>5</th>\n      <td>Police behind a chain link fence throw stun gr...</td>\n      <td>1.0</td>\n    </tr>\n    <tr>\n      <th>6</th>\n      <td>At a protest in Lents Park following the death...</td>\n      <td>1.0</td>\n    </tr>\n    <tr>\n      <th>7</th>\n      <td>A still image from Brooklyn Center, Minnesota ...</td>\n      <td>1.0</td>\n    </tr>\n    <tr>\n      <th>8</th>\n      <td>Police and protesters face off on opposite sid...</td>\n      <td>1.0</td>\n    </tr>\n    <tr>\n      <th>9</th>\n      <td>At a protest following the death of Daunte Wri...</td>\n      <td>1.0</td>\n    </tr>\n    <tr>\n      <th>10</th>\n      <td>As the curfew approached outside the Brooklyn ...</td>\n      <td>1.0</td>\n    </tr>\n    <tr>\n      <th>11</th>\n      <td>At a protest outside the Brooklyn Center polic...</td>\n      <td>1.0</td>\n    </tr>\n    <tr>\n      <th>12</th>\n      <td>At a protest near the LAPD Headquarters in Los...</td>\n      <td>1.0</td>\n    </tr>\n    <tr>\n      <th>13</th>\n      <td>Following a protest at the Brooklyn Center pol...</td>\n      <td>1.0</td>\n    </tr>\n    <tr>\n      <th>14</th>\n      <td>A journalist following the protests originatin...</td>\n      <td>1.0</td>\n    </tr>\n    <tr>\n      <th>15</th>\n      <td>During the third day of protests following the...</td>\n      <td>1.0</td>\n    </tr>\n    <tr>\n      <th>16</th>\n      <td>At a protest outside the Brooklyn Center Polic...</td>\n      <td>1.0</td>\n    </tr>\n    <tr>\n      <th>17</th>\n      <td>During a protest following the death of Daunte...</td>\n      <td>1.0</td>\n    </tr>\n    <tr>\n      <th>18</th>\n      <td>At a protest near the 40th precinct in the Bro...</td>\n      <td>1.0</td>\n    </tr>\n    <tr>\n      <th>19</th>\n      <td>Following the death of an unarmed driver at th...</td>\n      <td>1.0</td>\n    </tr>\n    <tr>\n      <th>20</th>\n      <td>At a protest outside the Salem capitol buildin...</td>\n      <td>1.0</td>\n    </tr>\n    <tr>\n      <th>21</th>\n      <td>During a protest regarding the ferries on the ...</td>\n      <td>1.0</td>\n    </tr>\n    <tr>\n      <th>22</th>\n      <td>During a second night of protests at Echo Park...</td>\n      <td>1.0</td>\n    </tr>\n    <tr>\n      <th>23</th>\n      <td>During the second day of protests at Echo park...</td>\n      <td>1.0</td>\n    </tr>\n    <tr>\n      <th>24</th>\n      <td>At a protest against the forced removal of a h...</td>\n      <td>1.0</td>\n    </tr>\n  </tbody>\n</table>\n</div>"
     },
     "metadata": {},
     "execution_count": 34
    }
   ],
   "source": [
    "#df_combined.drop(['Unnamed: 0'], axis=1, inplace=True)\n",
    "df_combined.head(25)"
   ]
  },
  {
   "cell_type": "code",
   "execution_count": 36,
   "metadata": {},
   "outputs": [
    {
     "output_type": "execute_result",
     "data": {
      "text/plain": [
       "<bound method NDFrame.describe of                                                      DSC  confirmed\n",
       "0      Down the street from the Portland ICE facility...        1.0\n",
       "1      On April 22, 2021, Albany police moved to disp...        1.0\n",
       "2      Police arrested a protester near Jefferson Squ...        1.0\n",
       "3      Police charged a group of protesters at H and ...        1.0\n",
       "4      Police and protesters face off on opposite sid...        1.0\n",
       "...                                                  ...        ...\n",
       "16968                                                NaN        NaN\n",
       "16969                                                NaN        NaN\n",
       "16970                                                NaN        NaN\n",
       "16971                                                NaN        NaN\n",
       "16972                                                NaN        NaN\n",
       "\n",
       "[16973 rows x 2 columns]>"
      ]
     },
     "metadata": {},
     "execution_count": 36
    }
   ],
   "source": [
    "df_combined.describe"
   ]
  },
  {
   "cell_type": "code",
   "execution_count": 37,
   "metadata": {},
   "outputs": [],
   "source": [
    "df_filtered_combined = df_combined[df_combined['DSC'].notnull()]"
   ]
  },
  {
   "cell_type": "code",
   "execution_count": 38,
   "metadata": {},
   "outputs": [
    {
     "output_type": "stream",
     "name": "stdout",
     "text": [
      "(14982, 2)\n"
     ]
    },
    {
     "output_type": "execute_result",
     "data": {
      "text/plain": [
       "                                                 DSC  confirmed\n",
       "0  Down the street from the Portland ICE facility...        1.0\n",
       "1  On April 22, 2021, Albany police moved to disp...        1.0\n",
       "2  Police arrested a protester near Jefferson Squ...        1.0\n",
       "3  Police charged a group of protesters at H and ...        1.0\n",
       "4  Police and protesters face off on opposite sid...        1.0"
      ],
      "text/html": "<div>\n<style scoped>\n    .dataframe tbody tr th:only-of-type {\n        vertical-align: middle;\n    }\n\n    .dataframe tbody tr th {\n        vertical-align: top;\n    }\n\n    .dataframe thead th {\n        text-align: right;\n    }\n</style>\n<table border=\"1\" class=\"dataframe\">\n  <thead>\n    <tr style=\"text-align: right;\">\n      <th></th>\n      <th>DSC</th>\n      <th>confirmed</th>\n    </tr>\n  </thead>\n  <tbody>\n    <tr>\n      <th>0</th>\n      <td>Down the street from the Portland ICE facility...</td>\n      <td>1.0</td>\n    </tr>\n    <tr>\n      <th>1</th>\n      <td>On April 22, 2021, Albany police moved to disp...</td>\n      <td>1.0</td>\n    </tr>\n    <tr>\n      <th>2</th>\n      <td>Police arrested a protester near Jefferson Squ...</td>\n      <td>1.0</td>\n    </tr>\n    <tr>\n      <th>3</th>\n      <td>Police charged a group of protesters at H and ...</td>\n      <td>1.0</td>\n    </tr>\n    <tr>\n      <th>4</th>\n      <td>Police and protesters face off on opposite sid...</td>\n      <td>1.0</td>\n    </tr>\n  </tbody>\n</table>\n</div>"
     },
     "metadata": {},
     "execution_count": 38
    }
   ],
   "source": [
    "print(df_filtered_combined.shape)\n",
    "df_filtered_combined.head()"
   ]
  },
  {
   "cell_type": "code",
   "execution_count": 39,
   "metadata": {},
   "outputs": [
    {
     "output_type": "execute_result",
     "data": {
      "text/plain": [
       "                                                     DSC  confirmed\n",
       "14977  Pretty sure one of my supervisors is an excop ...        0.0\n",
       "14978  Blue wall of silence takes hit in Chauvins mur...        0.0\n",
       "14979  Par for the course with this state #acab forev...        0.0\n",
       "14980  This Cant Be Reformed Fuck the policeAll of th...        0.0\n",
       "14981  @user @user If not because #ACAB then when@use...        0.0"
      ],
      "text/html": "<div>\n<style scoped>\n    .dataframe tbody tr th:only-of-type {\n        vertical-align: middle;\n    }\n\n    .dataframe tbody tr th {\n        vertical-align: top;\n    }\n\n    .dataframe thead th {\n        text-align: right;\n    }\n</style>\n<table border=\"1\" class=\"dataframe\">\n  <thead>\n    <tr style=\"text-align: right;\">\n      <th></th>\n      <th>DSC</th>\n      <th>confirmed</th>\n    </tr>\n  </thead>\n  <tbody>\n    <tr>\n      <th>14977</th>\n      <td>Pretty sure one of my supervisors is an excop ...</td>\n      <td>0.0</td>\n    </tr>\n    <tr>\n      <th>14978</th>\n      <td>Blue wall of silence takes hit in Chauvins mur...</td>\n      <td>0.0</td>\n    </tr>\n    <tr>\n      <th>14979</th>\n      <td>Par for the course with this state #acab forev...</td>\n      <td>0.0</td>\n    </tr>\n    <tr>\n      <th>14980</th>\n      <td>This Cant Be Reformed Fuck the policeAll of th...</td>\n      <td>0.0</td>\n    </tr>\n    <tr>\n      <th>14981</th>\n      <td>@user @user If not because #ACAB then when@use...</td>\n      <td>0.0</td>\n    </tr>\n  </tbody>\n</table>\n</div>"
     },
     "metadata": {},
     "execution_count": 39
    }
   ],
   "source": [
    "df_filtered_combined.tail()"
   ]
  },
  {
   "cell_type": "code",
   "execution_count": 40,
   "metadata": {},
   "outputs": [
    {
     "output_type": "execute_result",
     "data": {
      "text/plain": [
       "0.0    7491\n",
       "1.0    7491\n",
       "Name: confirmed, dtype: int64"
      ]
     },
     "metadata": {},
     "execution_count": 40
    }
   ],
   "source": [
    "df_filtered_combined['confirmed'].value_counts()"
   ]
  },
  {
   "cell_type": "code",
   "execution_count": 45,
   "metadata": {},
   "outputs": [],
   "source": [
    "df_filtered_combined.to_csv('combined_cleaned_14982x2.csv', index=False)"
   ]
  },
  {
   "cell_type": "code",
   "execution_count": 46,
   "metadata": {},
   "outputs": [
    {
     "output_type": "execute_result",
     "data": {
      "text/plain": [
       "                                                 DSC  confirmed\n",
       "0  Down the street from the Portland ICE facility...        1.0\n",
       "1  On April 22, 2021, Albany police moved to disp...        1.0\n",
       "2  Police arrested a protester near Jefferson Squ...        1.0\n",
       "3  Police charged a group of protesters at H and ...        1.0\n",
       "4  Police and protesters face off on opposite sid...        1.0"
      ],
      "text/html": "<div>\n<style scoped>\n    .dataframe tbody tr th:only-of-type {\n        vertical-align: middle;\n    }\n\n    .dataframe tbody tr th {\n        vertical-align: top;\n    }\n\n    .dataframe thead th {\n        text-align: right;\n    }\n</style>\n<table border=\"1\" class=\"dataframe\">\n  <thead>\n    <tr style=\"text-align: right;\">\n      <th></th>\n      <th>DSC</th>\n      <th>confirmed</th>\n    </tr>\n  </thead>\n  <tbody>\n    <tr>\n      <th>0</th>\n      <td>Down the street from the Portland ICE facility...</td>\n      <td>1.0</td>\n    </tr>\n    <tr>\n      <th>1</th>\n      <td>On April 22, 2021, Albany police moved to disp...</td>\n      <td>1.0</td>\n    </tr>\n    <tr>\n      <th>2</th>\n      <td>Police arrested a protester near Jefferson Squ...</td>\n      <td>1.0</td>\n    </tr>\n    <tr>\n      <th>3</th>\n      <td>Police charged a group of protesters at H and ...</td>\n      <td>1.0</td>\n    </tr>\n    <tr>\n      <th>4</th>\n      <td>Police and protesters face off on opposite sid...</td>\n      <td>1.0</td>\n    </tr>\n  </tbody>\n</table>\n</div>"
     },
     "metadata": {},
     "execution_count": 46
    }
   ],
   "source": [
    "df_test002 = pd.read_csv('combined_cleaned_14982x2.csv')\n",
    "df_test002.head()"
   ]
  }
 ]
}