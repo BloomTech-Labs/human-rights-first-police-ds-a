{
 "metadata": {
  "language_info": {
   "codemirror_mode": {
    "name": "ipython",
    "version": 3
   },
   "file_extension": ".py",
   "mimetype": "text/x-python",
   "name": "python",
   "nbconvert_exporter": "python",
   "pygments_lexer": "ipython3",
   "version": "3.9.0"
  },
  "orig_nbformat": 2,
  "kernelspec": {
   "name": "python390jvsc74a57bd0a2742fb1ec8ec3cbc3f5649403520b759ea743ffbc9612c8d68123df8c147a01",
   "display_name": "Python 3.9.0 64-bit"
  }
 },
 "nbformat": 4,
 "nbformat_minor": 2,
 "cells": [
  {
   "cell_type": "code",
   "execution_count": 3,
   "metadata": {},
   "outputs": [],
   "source": [
    "import pandas as pd"
   ]
  },
  {
   "cell_type": "code",
   "execution_count": 4,
   "metadata": {},
   "outputs": [],
   "source": [
    "df_confirmed01 = pd.read_csv('C:/Users/slups/Documents/Labs_34/human-rights-first-police-ds-a/notebooks/labs34_notebooks/confirmed_cases.csv')\n",
    "df_confirmed_fatals = pd.read_csv('C:/Users/slups/Documents/Labs_34/human-rights-first-police-ds-a/notebooks/labs34_notebooks/confirmed_fatals01_slupsha.csv')\n",
    "df_unconfirmed = pd.read_csv('C:/Users/slups/Documents/Labs_34/human-rights-first-police-ds-a/notebooks/labs34_notebooks/unconfirmed_clean.csv')"
   ]
  },
  {
   "cell_type": "code",
   "execution_count": 8,
   "metadata": {},
   "outputs": [
    {
     "output_type": "stream",
     "name": "stdout",
     "text": [
      "Joan: (1327, 2)\nStephen: (30158, 3)\nJames: (9482, 3)\n"
     ]
    }
   ],
   "source": [
    "print('Joan:',df_confirmed01.shape)\n",
    "print('Stephen:', df_confirmed_fatals.shape)\n",
    "print('James:',df_unconfirmed.shape)"
   ]
  },
  {
   "cell_type": "code",
   "execution_count": 23,
   "metadata": {},
   "outputs": [
    {
     "output_type": "execute_result",
     "data": {
      "text/plain": [
       "                                                 DSC  confirmed\n",
       "0  Down the street from the Portland ICE facility...          1\n",
       "1  On April 22, 2021, Albany police moved to disp...          1\n",
       "2  Police arrested a protester near Jefferson Squ...          1\n",
       "3  Police charged a group of protesters at H and ...          1\n",
       "4  Police and protesters face off on opposite sid...          1"
      ],
      "text/html": "<div>\n<style scoped>\n    .dataframe tbody tr th:only-of-type {\n        vertical-align: middle;\n    }\n\n    .dataframe tbody tr th {\n        vertical-align: top;\n    }\n\n    .dataframe thead th {\n        text-align: right;\n    }\n</style>\n<table border=\"1\" class=\"dataframe\">\n  <thead>\n    <tr style=\"text-align: right;\">\n      <th></th>\n      <th>DSC</th>\n      <th>confirmed</th>\n    </tr>\n  </thead>\n  <tbody>\n    <tr>\n      <th>0</th>\n      <td>Down the street from the Portland ICE facility...</td>\n      <td>1</td>\n    </tr>\n    <tr>\n      <th>1</th>\n      <td>On April 22, 2021, Albany police moved to disp...</td>\n      <td>1</td>\n    </tr>\n    <tr>\n      <th>2</th>\n      <td>Police arrested a protester near Jefferson Squ...</td>\n      <td>1</td>\n    </tr>\n    <tr>\n      <th>3</th>\n      <td>Police charged a group of protesters at H and ...</td>\n      <td>1</td>\n    </tr>\n    <tr>\n      <th>4</th>\n      <td>Police and protesters face off on opposite sid...</td>\n      <td>1</td>\n    </tr>\n  </tbody>\n</table>\n</div>"
     },
     "metadata": {},
     "execution_count": 23
    }
   ],
   "source": [
    "df_confirmed01.rename(columns = {'Brief Description':'DSC'}, inplace=True)\n",
    "df_confirmed01.rename(columns = {'Confirmed':'confirmed'}, inplace=True)\n",
    "df_confirmed01.head()"
   ]
  },
  {
   "cell_type": "code",
   "execution_count": 21,
   "metadata": {},
   "outputs": [
    {
     "output_type": "execute_result",
     "data": {
      "text/plain": [
       "                                                 DSC  confirmed\n",
       "0  Samuel Knapp was allegedly driving a stolen ve...          1\n",
       "1  Two Detroit men killed when their car crashed ...          1\n",
       "2  Two Detroit men killed when their car crashed ...          1\n",
       "3  A motorcycle was allegedly being driven errati...          1\n",
       "4  LaTanya Janelle McCoy's car was struck from be...          1"
      ],
      "text/html": "<div>\n<style scoped>\n    .dataframe tbody tr th:only-of-type {\n        vertical-align: middle;\n    }\n\n    .dataframe tbody tr th {\n        vertical-align: top;\n    }\n\n    .dataframe thead th {\n        text-align: right;\n    }\n</style>\n<table border=\"1\" class=\"dataframe\">\n  <thead>\n    <tr style=\"text-align: right;\">\n      <th></th>\n      <th>DSC</th>\n      <th>confirmed</th>\n    </tr>\n  </thead>\n  <tbody>\n    <tr>\n      <th>0</th>\n      <td>Samuel Knapp was allegedly driving a stolen ve...</td>\n      <td>1</td>\n    </tr>\n    <tr>\n      <th>1</th>\n      <td>Two Detroit men killed when their car crashed ...</td>\n      <td>1</td>\n    </tr>\n    <tr>\n      <th>2</th>\n      <td>Two Detroit men killed when their car crashed ...</td>\n      <td>1</td>\n    </tr>\n    <tr>\n      <th>3</th>\n      <td>A motorcycle was allegedly being driven errati...</td>\n      <td>1</td>\n    </tr>\n    <tr>\n      <th>4</th>\n      <td>LaTanya Janelle McCoy's car was struck from be...</td>\n      <td>1</td>\n    </tr>\n  </tbody>\n</table>\n</div>"
     },
     "metadata": {},
     "execution_count": 21
    }
   ],
   "source": [
    "#df_confirmed_fatals.drop(['Unnamed: 0'], axis=1, inplace=True)\n",
    "df_confirmed_fatals.rename(columns = {'Brief description':'DSC'}, inplace=True)\n",
    "df_confirmed_fatals.head()"
   ]
  },
  {
   "cell_type": "code",
   "execution_count": 20,
   "metadata": {},
   "outputs": [
    {
     "output_type": "execute_result",
     "data": {
      "text/plain": [
       "                                                 DSC  confirmed\n",
       "0  Lmao when he needs training wheels  #acab #def...        0.0\n",
       "1  Unlawful Arrest For Offending People  via @use...        0.0\n",
       "2  @user @user They learned that shit from the go...        0.0\n",
       "3  @user You dont have to give the reasons honThe...        0.0\n",
       "4  @user @user Of course you would side with the ...        0.0"
      ],
      "text/html": "<div>\n<style scoped>\n    .dataframe tbody tr th:only-of-type {\n        vertical-align: middle;\n    }\n\n    .dataframe tbody tr th {\n        vertical-align: top;\n    }\n\n    .dataframe thead th {\n        text-align: right;\n    }\n</style>\n<table border=\"1\" class=\"dataframe\">\n  <thead>\n    <tr style=\"text-align: right;\">\n      <th></th>\n      <th>DSC</th>\n      <th>confirmed</th>\n    </tr>\n  </thead>\n  <tbody>\n    <tr>\n      <th>0</th>\n      <td>Lmao when he needs training wheels  #acab #def...</td>\n      <td>0.0</td>\n    </tr>\n    <tr>\n      <th>1</th>\n      <td>Unlawful Arrest For Offending People  via @use...</td>\n      <td>0.0</td>\n    </tr>\n    <tr>\n      <th>2</th>\n      <td>@user @user They learned that shit from the go...</td>\n      <td>0.0</td>\n    </tr>\n    <tr>\n      <th>3</th>\n      <td>@user You dont have to give the reasons honThe...</td>\n      <td>0.0</td>\n    </tr>\n    <tr>\n      <th>4</th>\n      <td>@user @user Of course you would side with the ...</td>\n      <td>0.0</td>\n    </tr>\n  </tbody>\n</table>\n</div>"
     },
     "metadata": {},
     "execution_count": 20
    }
   ],
   "source": [
    "#df_unconfirmed.drop(['Unnamed: 0'], axis=1, inplace=True)\n",
    "\n",
    "df_unconfirmed.head()"
   ]
  },
  {
   "cell_type": "code",
   "execution_count": 29,
   "metadata": {},
   "outputs": [
    {
     "output_type": "stream",
     "name": "stdout",
     "text": [
      "(31485, 2)\n1    31485\nName: confirmed, dtype: int64\n"
     ]
    },
    {
     "output_type": "execute_result",
     "data": {
      "text/plain": [
       "                                                 DSC  confirmed\n",
       "0  Down the street from the Portland ICE facility...          1\n",
       "1  On April 22, 2021, Albany police moved to disp...          1\n",
       "2  Police arrested a protester near Jefferson Squ...          1\n",
       "3  Police charged a group of protesters at H and ...          1\n",
       "4  Police and protesters face off on opposite sid...          1"
      ],
      "text/html": "<div>\n<style scoped>\n    .dataframe tbody tr th:only-of-type {\n        vertical-align: middle;\n    }\n\n    .dataframe tbody tr th {\n        vertical-align: top;\n    }\n\n    .dataframe thead th {\n        text-align: right;\n    }\n</style>\n<table border=\"1\" class=\"dataframe\">\n  <thead>\n    <tr style=\"text-align: right;\">\n      <th></th>\n      <th>DSC</th>\n      <th>confirmed</th>\n    </tr>\n  </thead>\n  <tbody>\n    <tr>\n      <th>0</th>\n      <td>Down the street from the Portland ICE facility...</td>\n      <td>1</td>\n    </tr>\n    <tr>\n      <th>1</th>\n      <td>On April 22, 2021, Albany police moved to disp...</td>\n      <td>1</td>\n    </tr>\n    <tr>\n      <th>2</th>\n      <td>Police arrested a protester near Jefferson Squ...</td>\n      <td>1</td>\n    </tr>\n    <tr>\n      <th>3</th>\n      <td>Police charged a group of protesters at H and ...</td>\n      <td>1</td>\n    </tr>\n    <tr>\n      <th>4</th>\n      <td>Police and protesters face off on opposite sid...</td>\n      <td>1</td>\n    </tr>\n  </tbody>\n</table>\n</div>"
     },
     "metadata": {},
     "execution_count": 29
    }
   ],
   "source": [
    "#ok, combining our confirmed dataframes, then we can achieve shape agreement with james unconfirmed one.\n",
    "\n",
    "df_confirmed = pd.concat([df_confirmed01, df_confirmed_fatals], ignore_index=True)\n",
    "print(df_confirmed.shape)\n",
    "print(df_confirmed['confirmed'].value_counts())\n",
    "df_confirmed.head()"
   ]
  },
  {
   "cell_type": "code",
   "execution_count": 31,
   "metadata": {},
   "outputs": [
    {
     "output_type": "execute_result",
     "data": {
      "text/plain": [
       "(9482, 2)"
      ]
     },
     "metadata": {},
     "execution_count": 31
    }
   ],
   "source": [
    "df_confirmed = df_confirmed[:9482]\n",
    "df_confirmed.shape"
   ]
  },
  {
   "cell_type": "code",
   "execution_count": 32,
   "metadata": {},
   "outputs": [
    {
     "output_type": "stream",
     "name": "stdout",
     "text": [
      "(18964, 2)\n"
     ]
    },
    {
     "output_type": "execute_result",
     "data": {
      "text/plain": [
       "                                                 DSC  confirmed\n",
       "0  Down the street from the Portland ICE facility...        1.0\n",
       "1  On April 22, 2021, Albany police moved to disp...        1.0\n",
       "2  Police arrested a protester near Jefferson Squ...        1.0\n",
       "3  Police charged a group of protesters at H and ...        1.0\n",
       "4  Police and protesters face off on opposite sid...        1.0"
      ],
      "text/html": "<div>\n<style scoped>\n    .dataframe tbody tr th:only-of-type {\n        vertical-align: middle;\n    }\n\n    .dataframe tbody tr th {\n        vertical-align: top;\n    }\n\n    .dataframe thead th {\n        text-align: right;\n    }\n</style>\n<table border=\"1\" class=\"dataframe\">\n  <thead>\n    <tr style=\"text-align: right;\">\n      <th></th>\n      <th>DSC</th>\n      <th>confirmed</th>\n    </tr>\n  </thead>\n  <tbody>\n    <tr>\n      <th>0</th>\n      <td>Down the street from the Portland ICE facility...</td>\n      <td>1.0</td>\n    </tr>\n    <tr>\n      <th>1</th>\n      <td>On April 22, 2021, Albany police moved to disp...</td>\n      <td>1.0</td>\n    </tr>\n    <tr>\n      <th>2</th>\n      <td>Police arrested a protester near Jefferson Squ...</td>\n      <td>1.0</td>\n    </tr>\n    <tr>\n      <th>3</th>\n      <td>Police charged a group of protesters at H and ...</td>\n      <td>1.0</td>\n    </tr>\n    <tr>\n      <th>4</th>\n      <td>Police and protesters face off on opposite sid...</td>\n      <td>1.0</td>\n    </tr>\n  </tbody>\n</table>\n</div>"
     },
     "metadata": {},
     "execution_count": 32
    }
   ],
   "source": [
    "df_combined = pd.concat([df_confirmed, df_unconfirmed], ignore_index=True)\n",
    "print(df_combined.shape)\n",
    "df_combined.head()"
   ]
  },
  {
   "cell_type": "code",
   "execution_count": 33,
   "metadata": {},
   "outputs": [],
   "source": [
    "df_combined.to_csv('combined_clean_18964x2.csv')"
   ]
  }
 ]
}