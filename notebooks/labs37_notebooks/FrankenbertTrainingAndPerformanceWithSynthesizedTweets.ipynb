{
  "nbformat": 4,
  "nbformat_minor": 2,
  "metadata": {
    "colab": {
      "name": "FrankenbertTrainingAndPerformanceWithSynthesizedTweets.ipynb",
      "provenance": [],
      "machine_shape": "hm"
    },
    "kernelspec": {
      "name": "python3",
      "display_name": "Python 3"
    },
    "language_info": {
      "name": "python"
    },
    "accelerator": "GPU",
    "widgets": {
      "application/vnd.jupyter.widget-state+json": {
        "971fcdabcf6348ca9930db3114a6c593": {
          "model_module": "@jupyter-widgets/controls",
          "model_name": "HBoxModel",
          "model_module_version": "1.5.0",
          "state": {
            "_view_name": "HBoxView",
            "_dom_classes": [],
            "_model_name": "HBoxModel",
            "_view_module": "@jupyter-widgets/controls",
            "_model_module_version": "1.5.0",
            "_view_count": null,
            "_view_module_version": "1.5.0",
            "box_style": "",
            "layout": "IPY_MODEL_d8f954337103414e8204854db2743e9f",
            "_model_module": "@jupyter-widgets/controls",
            "children": [
              "IPY_MODEL_53c1b4e297cd4eaaa4d6a13622ae2d2a",
              "IPY_MODEL_503747a555114b51bcc46eb49c3cb3ac",
              "IPY_MODEL_bebf394232b54405abc4d7974e6fd82b"
            ]
          }
        },
        "d8f954337103414e8204854db2743e9f": {
          "model_module": "@jupyter-widgets/base",
          "model_name": "LayoutModel",
          "model_module_version": "1.2.0",
          "state": {
            "_view_name": "LayoutView",
            "grid_template_rows": null,
            "right": null,
            "justify_content": null,
            "_view_module": "@jupyter-widgets/base",
            "overflow": null,
            "_model_module_version": "1.2.0",
            "_view_count": null,
            "flex_flow": null,
            "width": null,
            "min_width": null,
            "border": null,
            "align_items": null,
            "bottom": null,
            "_model_module": "@jupyter-widgets/base",
            "top": null,
            "grid_column": null,
            "overflow_y": null,
            "overflow_x": null,
            "grid_auto_flow": null,
            "grid_area": null,
            "grid_template_columns": null,
            "flex": null,
            "_model_name": "LayoutModel",
            "justify_items": null,
            "grid_row": null,
            "max_height": null,
            "align_content": null,
            "visibility": null,
            "align_self": null,
            "height": null,
            "min_height": null,
            "padding": null,
            "grid_auto_rows": null,
            "grid_gap": null,
            "max_width": null,
            "order": null,
            "_view_module_version": "1.2.0",
            "grid_template_areas": null,
            "object_position": null,
            "object_fit": null,
            "grid_auto_columns": null,
            "margin": null,
            "display": null,
            "left": null
          }
        },
        "53c1b4e297cd4eaaa4d6a13622ae2d2a": {
          "model_module": "@jupyter-widgets/controls",
          "model_name": "HTMLModel",
          "model_module_version": "1.5.0",
          "state": {
            "_view_name": "HTMLView",
            "style": "IPY_MODEL_cd85cb5de4534e469048d34abba831aa",
            "_dom_classes": [],
            "description": "",
            "_model_name": "HTMLModel",
            "placeholder": "​",
            "_view_module": "@jupyter-widgets/controls",
            "_model_module_version": "1.5.0",
            "value": "Downloading: 100%",
            "_view_count": null,
            "_view_module_version": "1.5.0",
            "description_tooltip": null,
            "_model_module": "@jupyter-widgets/controls",
            "layout": "IPY_MODEL_c01423dfd60c4641a89cc5df2ab4f89f"
          }
        },
        "503747a555114b51bcc46eb49c3cb3ac": {
          "model_module": "@jupyter-widgets/controls",
          "model_name": "FloatProgressModel",
          "model_module_version": "1.5.0",
          "state": {
            "_view_name": "ProgressView",
            "style": "IPY_MODEL_ab03d86f790f4d69acc8df5c06684866",
            "_dom_classes": [],
            "description": "",
            "_model_name": "FloatProgressModel",
            "bar_style": "success",
            "max": 231508,
            "_view_module": "@jupyter-widgets/controls",
            "_model_module_version": "1.5.0",
            "value": 231508,
            "_view_count": null,
            "_view_module_version": "1.5.0",
            "orientation": "horizontal",
            "min": 0,
            "description_tooltip": null,
            "_model_module": "@jupyter-widgets/controls",
            "layout": "IPY_MODEL_548d9dcbb61e4e5bbba189108368819d"
          }
        },
        "bebf394232b54405abc4d7974e6fd82b": {
          "model_module": "@jupyter-widgets/controls",
          "model_name": "HTMLModel",
          "model_module_version": "1.5.0",
          "state": {
            "_view_name": "HTMLView",
            "style": "IPY_MODEL_0480198f181143029ddf9cf921ff025d",
            "_dom_classes": [],
            "description": "",
            "_model_name": "HTMLModel",
            "placeholder": "​",
            "_view_module": "@jupyter-widgets/controls",
            "_model_module_version": "1.5.0",
            "value": " 232k/232k [00:00&lt;00:00, 1.50MB/s]",
            "_view_count": null,
            "_view_module_version": "1.5.0",
            "description_tooltip": null,
            "_model_module": "@jupyter-widgets/controls",
            "layout": "IPY_MODEL_d52e458c14ef42939e6013fab5ab3930"
          }
        },
        "cd85cb5de4534e469048d34abba831aa": {
          "model_module": "@jupyter-widgets/controls",
          "model_name": "DescriptionStyleModel",
          "model_module_version": "1.5.0",
          "state": {
            "_view_name": "StyleView",
            "_model_name": "DescriptionStyleModel",
            "description_width": "",
            "_view_module": "@jupyter-widgets/base",
            "_model_module_version": "1.5.0",
            "_view_count": null,
            "_view_module_version": "1.2.0",
            "_model_module": "@jupyter-widgets/controls"
          }
        },
        "c01423dfd60c4641a89cc5df2ab4f89f": {
          "model_module": "@jupyter-widgets/base",
          "model_name": "LayoutModel",
          "model_module_version": "1.2.0",
          "state": {
            "_view_name": "LayoutView",
            "grid_template_rows": null,
            "right": null,
            "justify_content": null,
            "_view_module": "@jupyter-widgets/base",
            "overflow": null,
            "_model_module_version": "1.2.0",
            "_view_count": null,
            "flex_flow": null,
            "width": null,
            "min_width": null,
            "border": null,
            "align_items": null,
            "bottom": null,
            "_model_module": "@jupyter-widgets/base",
            "top": null,
            "grid_column": null,
            "overflow_y": null,
            "overflow_x": null,
            "grid_auto_flow": null,
            "grid_area": null,
            "grid_template_columns": null,
            "flex": null,
            "_model_name": "LayoutModel",
            "justify_items": null,
            "grid_row": null,
            "max_height": null,
            "align_content": null,
            "visibility": null,
            "align_self": null,
            "height": null,
            "min_height": null,
            "padding": null,
            "grid_auto_rows": null,
            "grid_gap": null,
            "max_width": null,
            "order": null,
            "_view_module_version": "1.2.0",
            "grid_template_areas": null,
            "object_position": null,
            "object_fit": null,
            "grid_auto_columns": null,
            "margin": null,
            "display": null,
            "left": null
          }
        },
        "ab03d86f790f4d69acc8df5c06684866": {
          "model_module": "@jupyter-widgets/controls",
          "model_name": "ProgressStyleModel",
          "model_module_version": "1.5.0",
          "state": {
            "_view_name": "StyleView",
            "_model_name": "ProgressStyleModel",
            "description_width": "",
            "_view_module": "@jupyter-widgets/base",
            "_model_module_version": "1.5.0",
            "_view_count": null,
            "_view_module_version": "1.2.0",
            "bar_color": null,
            "_model_module": "@jupyter-widgets/controls"
          }
        },
        "548d9dcbb61e4e5bbba189108368819d": {
          "model_module": "@jupyter-widgets/base",
          "model_name": "LayoutModel",
          "model_module_version": "1.2.0",
          "state": {
            "_view_name": "LayoutView",
            "grid_template_rows": null,
            "right": null,
            "justify_content": null,
            "_view_module": "@jupyter-widgets/base",
            "overflow": null,
            "_model_module_version": "1.2.0",
            "_view_count": null,
            "flex_flow": null,
            "width": null,
            "min_width": null,
            "border": null,
            "align_items": null,
            "bottom": null,
            "_model_module": "@jupyter-widgets/base",
            "top": null,
            "grid_column": null,
            "overflow_y": null,
            "overflow_x": null,
            "grid_auto_flow": null,
            "grid_area": null,
            "grid_template_columns": null,
            "flex": null,
            "_model_name": "LayoutModel",
            "justify_items": null,
            "grid_row": null,
            "max_height": null,
            "align_content": null,
            "visibility": null,
            "align_self": null,
            "height": null,
            "min_height": null,
            "padding": null,
            "grid_auto_rows": null,
            "grid_gap": null,
            "max_width": null,
            "order": null,
            "_view_module_version": "1.2.0",
            "grid_template_areas": null,
            "object_position": null,
            "object_fit": null,
            "grid_auto_columns": null,
            "margin": null,
            "display": null,
            "left": null
          }
        },
        "0480198f181143029ddf9cf921ff025d": {
          "model_module": "@jupyter-widgets/controls",
          "model_name": "DescriptionStyleModel",
          "model_module_version": "1.5.0",
          "state": {
            "_view_name": "StyleView",
            "_model_name": "DescriptionStyleModel",
            "description_width": "",
            "_view_module": "@jupyter-widgets/base",
            "_model_module_version": "1.5.0",
            "_view_count": null,
            "_view_module_version": "1.2.0",
            "_model_module": "@jupyter-widgets/controls"
          }
        },
        "d52e458c14ef42939e6013fab5ab3930": {
          "model_module": "@jupyter-widgets/base",
          "model_name": "LayoutModel",
          "model_module_version": "1.2.0",
          "state": {
            "_view_name": "LayoutView",
            "grid_template_rows": null,
            "right": null,
            "justify_content": null,
            "_view_module": "@jupyter-widgets/base",
            "overflow": null,
            "_model_module_version": "1.2.0",
            "_view_count": null,
            "flex_flow": null,
            "width": null,
            "min_width": null,
            "border": null,
            "align_items": null,
            "bottom": null,
            "_model_module": "@jupyter-widgets/base",
            "top": null,
            "grid_column": null,
            "overflow_y": null,
            "overflow_x": null,
            "grid_auto_flow": null,
            "grid_area": null,
            "grid_template_columns": null,
            "flex": null,
            "_model_name": "LayoutModel",
            "justify_items": null,
            "grid_row": null,
            "max_height": null,
            "align_content": null,
            "visibility": null,
            "align_self": null,
            "height": null,
            "min_height": null,
            "padding": null,
            "grid_auto_rows": null,
            "grid_gap": null,
            "max_width": null,
            "order": null,
            "_view_module_version": "1.2.0",
            "grid_template_areas": null,
            "object_position": null,
            "object_fit": null,
            "grid_auto_columns": null,
            "margin": null,
            "display": null,
            "left": null
          }
        },
        "46e9269b55f74e298cb2be95cf78706b": {
          "model_module": "@jupyter-widgets/controls",
          "model_name": "HBoxModel",
          "model_module_version": "1.5.0",
          "state": {
            "_view_name": "HBoxView",
            "_dom_classes": [],
            "_model_name": "HBoxModel",
            "_view_module": "@jupyter-widgets/controls",
            "_model_module_version": "1.5.0",
            "_view_count": null,
            "_view_module_version": "1.5.0",
            "box_style": "",
            "layout": "IPY_MODEL_0c6f6825fc754e549b614b30db1127c1",
            "_model_module": "@jupyter-widgets/controls",
            "children": [
              "IPY_MODEL_06ec50b84ad941f2821f4b5e2d739dfd",
              "IPY_MODEL_f86e18f8d8d14b28827d1bf55bc83d2e",
              "IPY_MODEL_3ca8d804c2b84340940ee6bc486e74ba"
            ]
          }
        },
        "0c6f6825fc754e549b614b30db1127c1": {
          "model_module": "@jupyter-widgets/base",
          "model_name": "LayoutModel",
          "model_module_version": "1.2.0",
          "state": {
            "_view_name": "LayoutView",
            "grid_template_rows": null,
            "right": null,
            "justify_content": null,
            "_view_module": "@jupyter-widgets/base",
            "overflow": null,
            "_model_module_version": "1.2.0",
            "_view_count": null,
            "flex_flow": null,
            "width": null,
            "min_width": null,
            "border": null,
            "align_items": null,
            "bottom": null,
            "_model_module": "@jupyter-widgets/base",
            "top": null,
            "grid_column": null,
            "overflow_y": null,
            "overflow_x": null,
            "grid_auto_flow": null,
            "grid_area": null,
            "grid_template_columns": null,
            "flex": null,
            "_model_name": "LayoutModel",
            "justify_items": null,
            "grid_row": null,
            "max_height": null,
            "align_content": null,
            "visibility": null,
            "align_self": null,
            "height": null,
            "min_height": null,
            "padding": null,
            "grid_auto_rows": null,
            "grid_gap": null,
            "max_width": null,
            "order": null,
            "_view_module_version": "1.2.0",
            "grid_template_areas": null,
            "object_position": null,
            "object_fit": null,
            "grid_auto_columns": null,
            "margin": null,
            "display": null,
            "left": null
          }
        },
        "06ec50b84ad941f2821f4b5e2d739dfd": {
          "model_module": "@jupyter-widgets/controls",
          "model_name": "HTMLModel",
          "model_module_version": "1.5.0",
          "state": {
            "_view_name": "HTMLView",
            "style": "IPY_MODEL_b410f9cf365241d4a0b534e7f13f6ac1",
            "_dom_classes": [],
            "description": "",
            "_model_name": "HTMLModel",
            "placeholder": "​",
            "_view_module": "@jupyter-widgets/controls",
            "_model_module_version": "1.5.0",
            "value": "Downloading: 100%",
            "_view_count": null,
            "_view_module_version": "1.5.0",
            "description_tooltip": null,
            "_model_module": "@jupyter-widgets/controls",
            "layout": "IPY_MODEL_8e2bebd8bbc543ee993fc06d09b06d59"
          }
        },
        "f86e18f8d8d14b28827d1bf55bc83d2e": {
          "model_module": "@jupyter-widgets/controls",
          "model_name": "FloatProgressModel",
          "model_module_version": "1.5.0",
          "state": {
            "_view_name": "ProgressView",
            "style": "IPY_MODEL_d001b11acaa54b75bd65315e8bdb3ce5",
            "_dom_classes": [],
            "description": "",
            "_model_name": "FloatProgressModel",
            "bar_style": "success",
            "max": 28,
            "_view_module": "@jupyter-widgets/controls",
            "_model_module_version": "1.5.0",
            "value": 28,
            "_view_count": null,
            "_view_module_version": "1.5.0",
            "orientation": "horizontal",
            "min": 0,
            "description_tooltip": null,
            "_model_module": "@jupyter-widgets/controls",
            "layout": "IPY_MODEL_1eb2961dab2641c0b2af56a2cacef242"
          }
        },
        "3ca8d804c2b84340940ee6bc486e74ba": {
          "model_module": "@jupyter-widgets/controls",
          "model_name": "HTMLModel",
          "model_module_version": "1.5.0",
          "state": {
            "_view_name": "HTMLView",
            "style": "IPY_MODEL_06fd75c7da31480a90eafb030d3c63da",
            "_dom_classes": [],
            "description": "",
            "_model_name": "HTMLModel",
            "placeholder": "​",
            "_view_module": "@jupyter-widgets/controls",
            "_model_module_version": "1.5.0",
            "value": " 28.0/28.0 [00:00&lt;00:00, 1.07kB/s]",
            "_view_count": null,
            "_view_module_version": "1.5.0",
            "description_tooltip": null,
            "_model_module": "@jupyter-widgets/controls",
            "layout": "IPY_MODEL_3d87f6d6996a41298c59179ba866f154"
          }
        },
        "b410f9cf365241d4a0b534e7f13f6ac1": {
          "model_module": "@jupyter-widgets/controls",
          "model_name": "DescriptionStyleModel",
          "model_module_version": "1.5.0",
          "state": {
            "_view_name": "StyleView",
            "_model_name": "DescriptionStyleModel",
            "description_width": "",
            "_view_module": "@jupyter-widgets/base",
            "_model_module_version": "1.5.0",
            "_view_count": null,
            "_view_module_version": "1.2.0",
            "_model_module": "@jupyter-widgets/controls"
          }
        },
        "8e2bebd8bbc543ee993fc06d09b06d59": {
          "model_module": "@jupyter-widgets/base",
          "model_name": "LayoutModel",
          "model_module_version": "1.2.0",
          "state": {
            "_view_name": "LayoutView",
            "grid_template_rows": null,
            "right": null,
            "justify_content": null,
            "_view_module": "@jupyter-widgets/base",
            "overflow": null,
            "_model_module_version": "1.2.0",
            "_view_count": null,
            "flex_flow": null,
            "width": null,
            "min_width": null,
            "border": null,
            "align_items": null,
            "bottom": null,
            "_model_module": "@jupyter-widgets/base",
            "top": null,
            "grid_column": null,
            "overflow_y": null,
            "overflow_x": null,
            "grid_auto_flow": null,
            "grid_area": null,
            "grid_template_columns": null,
            "flex": null,
            "_model_name": "LayoutModel",
            "justify_items": null,
            "grid_row": null,
            "max_height": null,
            "align_content": null,
            "visibility": null,
            "align_self": null,
            "height": null,
            "min_height": null,
            "padding": null,
            "grid_auto_rows": null,
            "grid_gap": null,
            "max_width": null,
            "order": null,
            "_view_module_version": "1.2.0",
            "grid_template_areas": null,
            "object_position": null,
            "object_fit": null,
            "grid_auto_columns": null,
            "margin": null,
            "display": null,
            "left": null
          }
        },
        "d001b11acaa54b75bd65315e8bdb3ce5": {
          "model_module": "@jupyter-widgets/controls",
          "model_name": "ProgressStyleModel",
          "model_module_version": "1.5.0",
          "state": {
            "_view_name": "StyleView",
            "_model_name": "ProgressStyleModel",
            "description_width": "",
            "_view_module": "@jupyter-widgets/base",
            "_model_module_version": "1.5.0",
            "_view_count": null,
            "_view_module_version": "1.2.0",
            "bar_color": null,
            "_model_module": "@jupyter-widgets/controls"
          }
        },
        "1eb2961dab2641c0b2af56a2cacef242": {
          "model_module": "@jupyter-widgets/base",
          "model_name": "LayoutModel",
          "model_module_version": "1.2.0",
          "state": {
            "_view_name": "LayoutView",
            "grid_template_rows": null,
            "right": null,
            "justify_content": null,
            "_view_module": "@jupyter-widgets/base",
            "overflow": null,
            "_model_module_version": "1.2.0",
            "_view_count": null,
            "flex_flow": null,
            "width": null,
            "min_width": null,
            "border": null,
            "align_items": null,
            "bottom": null,
            "_model_module": "@jupyter-widgets/base",
            "top": null,
            "grid_column": null,
            "overflow_y": null,
            "overflow_x": null,
            "grid_auto_flow": null,
            "grid_area": null,
            "grid_template_columns": null,
            "flex": null,
            "_model_name": "LayoutModel",
            "justify_items": null,
            "grid_row": null,
            "max_height": null,
            "align_content": null,
            "visibility": null,
            "align_self": null,
            "height": null,
            "min_height": null,
            "padding": null,
            "grid_auto_rows": null,
            "grid_gap": null,
            "max_width": null,
            "order": null,
            "_view_module_version": "1.2.0",
            "grid_template_areas": null,
            "object_position": null,
            "object_fit": null,
            "grid_auto_columns": null,
            "margin": null,
            "display": null,
            "left": null
          }
        },
        "06fd75c7da31480a90eafb030d3c63da": {
          "model_module": "@jupyter-widgets/controls",
          "model_name": "DescriptionStyleModel",
          "model_module_version": "1.5.0",
          "state": {
            "_view_name": "StyleView",
            "_model_name": "DescriptionStyleModel",
            "description_width": "",
            "_view_module": "@jupyter-widgets/base",
            "_model_module_version": "1.5.0",
            "_view_count": null,
            "_view_module_version": "1.2.0",
            "_model_module": "@jupyter-widgets/controls"
          }
        },
        "3d87f6d6996a41298c59179ba866f154": {
          "model_module": "@jupyter-widgets/base",
          "model_name": "LayoutModel",
          "model_module_version": "1.2.0",
          "state": {
            "_view_name": "LayoutView",
            "grid_template_rows": null,
            "right": null,
            "justify_content": null,
            "_view_module": "@jupyter-widgets/base",
            "overflow": null,
            "_model_module_version": "1.2.0",
            "_view_count": null,
            "flex_flow": null,
            "width": null,
            "min_width": null,
            "border": null,
            "align_items": null,
            "bottom": null,
            "_model_module": "@jupyter-widgets/base",
            "top": null,
            "grid_column": null,
            "overflow_y": null,
            "overflow_x": null,
            "grid_auto_flow": null,
            "grid_area": null,
            "grid_template_columns": null,
            "flex": null,
            "_model_name": "LayoutModel",
            "justify_items": null,
            "grid_row": null,
            "max_height": null,
            "align_content": null,
            "visibility": null,
            "align_self": null,
            "height": null,
            "min_height": null,
            "padding": null,
            "grid_auto_rows": null,
            "grid_gap": null,
            "max_width": null,
            "order": null,
            "_view_module_version": "1.2.0",
            "grid_template_areas": null,
            "object_position": null,
            "object_fit": null,
            "grid_auto_columns": null,
            "margin": null,
            "display": null,
            "left": null
          }
        },
        "7d1d9838123f43458317259d0793beef": {
          "model_module": "@jupyter-widgets/controls",
          "model_name": "HBoxModel",
          "model_module_version": "1.5.0",
          "state": {
            "_view_name": "HBoxView",
            "_dom_classes": [],
            "_model_name": "HBoxModel",
            "_view_module": "@jupyter-widgets/controls",
            "_model_module_version": "1.5.0",
            "_view_count": null,
            "_view_module_version": "1.5.0",
            "box_style": "",
            "layout": "IPY_MODEL_217fce0f2a1a4364b166ecac2b88b8b4",
            "_model_module": "@jupyter-widgets/controls",
            "children": [
              "IPY_MODEL_72575b2abe314c3c95493169a73af10b",
              "IPY_MODEL_6c22f26d503740929b0cf5d720ea41b4",
              "IPY_MODEL_1eec13610fcb4be081ec16f453ac2934"
            ]
          }
        },
        "217fce0f2a1a4364b166ecac2b88b8b4": {
          "model_module": "@jupyter-widgets/base",
          "model_name": "LayoutModel",
          "model_module_version": "1.2.0",
          "state": {
            "_view_name": "LayoutView",
            "grid_template_rows": null,
            "right": null,
            "justify_content": null,
            "_view_module": "@jupyter-widgets/base",
            "overflow": null,
            "_model_module_version": "1.2.0",
            "_view_count": null,
            "flex_flow": null,
            "width": null,
            "min_width": null,
            "border": null,
            "align_items": null,
            "bottom": null,
            "_model_module": "@jupyter-widgets/base",
            "top": null,
            "grid_column": null,
            "overflow_y": null,
            "overflow_x": null,
            "grid_auto_flow": null,
            "grid_area": null,
            "grid_template_columns": null,
            "flex": null,
            "_model_name": "LayoutModel",
            "justify_items": null,
            "grid_row": null,
            "max_height": null,
            "align_content": null,
            "visibility": null,
            "align_self": null,
            "height": null,
            "min_height": null,
            "padding": null,
            "grid_auto_rows": null,
            "grid_gap": null,
            "max_width": null,
            "order": null,
            "_view_module_version": "1.2.0",
            "grid_template_areas": null,
            "object_position": null,
            "object_fit": null,
            "grid_auto_columns": null,
            "margin": null,
            "display": null,
            "left": null
          }
        },
        "72575b2abe314c3c95493169a73af10b": {
          "model_module": "@jupyter-widgets/controls",
          "model_name": "HTMLModel",
          "model_module_version": "1.5.0",
          "state": {
            "_view_name": "HTMLView",
            "style": "IPY_MODEL_3f38d7df0c354a998752fff7fd50b30e",
            "_dom_classes": [],
            "description": "",
            "_model_name": "HTMLModel",
            "placeholder": "​",
            "_view_module": "@jupyter-widgets/controls",
            "_model_module_version": "1.5.0",
            "value": "Downloading: 100%",
            "_view_count": null,
            "_view_module_version": "1.5.0",
            "description_tooltip": null,
            "_model_module": "@jupyter-widgets/controls",
            "layout": "IPY_MODEL_d489cbe2e1ea4effa37efc0ee36c7f19"
          }
        },
        "6c22f26d503740929b0cf5d720ea41b4": {
          "model_module": "@jupyter-widgets/controls",
          "model_name": "FloatProgressModel",
          "model_module_version": "1.5.0",
          "state": {
            "_view_name": "ProgressView",
            "style": "IPY_MODEL_5cf8487284ce4c7bbf89c0a1d5ddddc3",
            "_dom_classes": [],
            "description": "",
            "_model_name": "FloatProgressModel",
            "bar_style": "success",
            "max": 466062,
            "_view_module": "@jupyter-widgets/controls",
            "_model_module_version": "1.5.0",
            "value": 466062,
            "_view_count": null,
            "_view_module_version": "1.5.0",
            "orientation": "horizontal",
            "min": 0,
            "description_tooltip": null,
            "_model_module": "@jupyter-widgets/controls",
            "layout": "IPY_MODEL_e4eb5139d60a4c078969d990c32b1762"
          }
        },
        "1eec13610fcb4be081ec16f453ac2934": {
          "model_module": "@jupyter-widgets/controls",
          "model_name": "HTMLModel",
          "model_module_version": "1.5.0",
          "state": {
            "_view_name": "HTMLView",
            "style": "IPY_MODEL_a7e1da4110714a008ab880668074c6ee",
            "_dom_classes": [],
            "description": "",
            "_model_name": "HTMLModel",
            "placeholder": "​",
            "_view_module": "@jupyter-widgets/controls",
            "_model_module_version": "1.5.0",
            "value": " 466k/466k [00:00&lt;00:00, 3.18MB/s]",
            "_view_count": null,
            "_view_module_version": "1.5.0",
            "description_tooltip": null,
            "_model_module": "@jupyter-widgets/controls",
            "layout": "IPY_MODEL_5df72b6924aa4a4a86e293f7fc3029db"
          }
        },
        "3f38d7df0c354a998752fff7fd50b30e": {
          "model_module": "@jupyter-widgets/controls",
          "model_name": "DescriptionStyleModel",
          "model_module_version": "1.5.0",
          "state": {
            "_view_name": "StyleView",
            "_model_name": "DescriptionStyleModel",
            "description_width": "",
            "_view_module": "@jupyter-widgets/base",
            "_model_module_version": "1.5.0",
            "_view_count": null,
            "_view_module_version": "1.2.0",
            "_model_module": "@jupyter-widgets/controls"
          }
        },
        "d489cbe2e1ea4effa37efc0ee36c7f19": {
          "model_module": "@jupyter-widgets/base",
          "model_name": "LayoutModel",
          "model_module_version": "1.2.0",
          "state": {
            "_view_name": "LayoutView",
            "grid_template_rows": null,
            "right": null,
            "justify_content": null,
            "_view_module": "@jupyter-widgets/base",
            "overflow": null,
            "_model_module_version": "1.2.0",
            "_view_count": null,
            "flex_flow": null,
            "width": null,
            "min_width": null,
            "border": null,
            "align_items": null,
            "bottom": null,
            "_model_module": "@jupyter-widgets/base",
            "top": null,
            "grid_column": null,
            "overflow_y": null,
            "overflow_x": null,
            "grid_auto_flow": null,
            "grid_area": null,
            "grid_template_columns": null,
            "flex": null,
            "_model_name": "LayoutModel",
            "justify_items": null,
            "grid_row": null,
            "max_height": null,
            "align_content": null,
            "visibility": null,
            "align_self": null,
            "height": null,
            "min_height": null,
            "padding": null,
            "grid_auto_rows": null,
            "grid_gap": null,
            "max_width": null,
            "order": null,
            "_view_module_version": "1.2.0",
            "grid_template_areas": null,
            "object_position": null,
            "object_fit": null,
            "grid_auto_columns": null,
            "margin": null,
            "display": null,
            "left": null
          }
        },
        "5cf8487284ce4c7bbf89c0a1d5ddddc3": {
          "model_module": "@jupyter-widgets/controls",
          "model_name": "ProgressStyleModel",
          "model_module_version": "1.5.0",
          "state": {
            "_view_name": "StyleView",
            "_model_name": "ProgressStyleModel",
            "description_width": "",
            "_view_module": "@jupyter-widgets/base",
            "_model_module_version": "1.5.0",
            "_view_count": null,
            "_view_module_version": "1.2.0",
            "bar_color": null,
            "_model_module": "@jupyter-widgets/controls"
          }
        },
        "e4eb5139d60a4c078969d990c32b1762": {
          "model_module": "@jupyter-widgets/base",
          "model_name": "LayoutModel",
          "model_module_version": "1.2.0",
          "state": {
            "_view_name": "LayoutView",
            "grid_template_rows": null,
            "right": null,
            "justify_content": null,
            "_view_module": "@jupyter-widgets/base",
            "overflow": null,
            "_model_module_version": "1.2.0",
            "_view_count": null,
            "flex_flow": null,
            "width": null,
            "min_width": null,
            "border": null,
            "align_items": null,
            "bottom": null,
            "_model_module": "@jupyter-widgets/base",
            "top": null,
            "grid_column": null,
            "overflow_y": null,
            "overflow_x": null,
            "grid_auto_flow": null,
            "grid_area": null,
            "grid_template_columns": null,
            "flex": null,
            "_model_name": "LayoutModel",
            "justify_items": null,
            "grid_row": null,
            "max_height": null,
            "align_content": null,
            "visibility": null,
            "align_self": null,
            "height": null,
            "min_height": null,
            "padding": null,
            "grid_auto_rows": null,
            "grid_gap": null,
            "max_width": null,
            "order": null,
            "_view_module_version": "1.2.0",
            "grid_template_areas": null,
            "object_position": null,
            "object_fit": null,
            "grid_auto_columns": null,
            "margin": null,
            "display": null,
            "left": null
          }
        },
        "a7e1da4110714a008ab880668074c6ee": {
          "model_module": "@jupyter-widgets/controls",
          "model_name": "DescriptionStyleModel",
          "model_module_version": "1.5.0",
          "state": {
            "_view_name": "StyleView",
            "_model_name": "DescriptionStyleModel",
            "description_width": "",
            "_view_module": "@jupyter-widgets/base",
            "_model_module_version": "1.5.0",
            "_view_count": null,
            "_view_module_version": "1.2.0",
            "_model_module": "@jupyter-widgets/controls"
          }
        },
        "5df72b6924aa4a4a86e293f7fc3029db": {
          "model_module": "@jupyter-widgets/base",
          "model_name": "LayoutModel",
          "model_module_version": "1.2.0",
          "state": {
            "_view_name": "LayoutView",
            "grid_template_rows": null,
            "right": null,
            "justify_content": null,
            "_view_module": "@jupyter-widgets/base",
            "overflow": null,
            "_model_module_version": "1.2.0",
            "_view_count": null,
            "flex_flow": null,
            "width": null,
            "min_width": null,
            "border": null,
            "align_items": null,
            "bottom": null,
            "_model_module": "@jupyter-widgets/base",
            "top": null,
            "grid_column": null,
            "overflow_y": null,
            "overflow_x": null,
            "grid_auto_flow": null,
            "grid_area": null,
            "grid_template_columns": null,
            "flex": null,
            "_model_name": "LayoutModel",
            "justify_items": null,
            "grid_row": null,
            "max_height": null,
            "align_content": null,
            "visibility": null,
            "align_self": null,
            "height": null,
            "min_height": null,
            "padding": null,
            "grid_auto_rows": null,
            "grid_gap": null,
            "max_width": null,
            "order": null,
            "_view_module_version": "1.2.0",
            "grid_template_areas": null,
            "object_position": null,
            "object_fit": null,
            "grid_auto_columns": null,
            "margin": null,
            "display": null,
            "left": null
          }
        },
        "0a166a7adc184863af190b826269d1f1": {
          "model_module": "@jupyter-widgets/controls",
          "model_name": "HBoxModel",
          "model_module_version": "1.5.0",
          "state": {
            "_view_name": "HBoxView",
            "_dom_classes": [],
            "_model_name": "HBoxModel",
            "_view_module": "@jupyter-widgets/controls",
            "_model_module_version": "1.5.0",
            "_view_count": null,
            "_view_module_version": "1.5.0",
            "box_style": "",
            "layout": "IPY_MODEL_4272fbbde3364407ad54d49456b718e2",
            "_model_module": "@jupyter-widgets/controls",
            "children": [
              "IPY_MODEL_755dd09655a54d25a8f8c73ef7df0c64",
              "IPY_MODEL_7c71ca10a72348859823d4c66b9e6b2b",
              "IPY_MODEL_eae84a3cb1c94472a6eb138803565bfc"
            ]
          }
        },
        "4272fbbde3364407ad54d49456b718e2": {
          "model_module": "@jupyter-widgets/base",
          "model_name": "LayoutModel",
          "model_module_version": "1.2.0",
          "state": {
            "_view_name": "LayoutView",
            "grid_template_rows": null,
            "right": null,
            "justify_content": null,
            "_view_module": "@jupyter-widgets/base",
            "overflow": null,
            "_model_module_version": "1.2.0",
            "_view_count": null,
            "flex_flow": null,
            "width": null,
            "min_width": null,
            "border": null,
            "align_items": null,
            "bottom": null,
            "_model_module": "@jupyter-widgets/base",
            "top": null,
            "grid_column": null,
            "overflow_y": null,
            "overflow_x": null,
            "grid_auto_flow": null,
            "grid_area": null,
            "grid_template_columns": null,
            "flex": null,
            "_model_name": "LayoutModel",
            "justify_items": null,
            "grid_row": null,
            "max_height": null,
            "align_content": null,
            "visibility": null,
            "align_self": null,
            "height": null,
            "min_height": null,
            "padding": null,
            "grid_auto_rows": null,
            "grid_gap": null,
            "max_width": null,
            "order": null,
            "_view_module_version": "1.2.0",
            "grid_template_areas": null,
            "object_position": null,
            "object_fit": null,
            "grid_auto_columns": null,
            "margin": null,
            "display": null,
            "left": null
          }
        },
        "755dd09655a54d25a8f8c73ef7df0c64": {
          "model_module": "@jupyter-widgets/controls",
          "model_name": "HTMLModel",
          "model_module_version": "1.5.0",
          "state": {
            "_view_name": "HTMLView",
            "style": "IPY_MODEL_ab986b2580d44cb18b273443798cac34",
            "_dom_classes": [],
            "description": "",
            "_model_name": "HTMLModel",
            "placeholder": "​",
            "_view_module": "@jupyter-widgets/controls",
            "_model_module_version": "1.5.0",
            "value": "Downloading: 100%",
            "_view_count": null,
            "_view_module_version": "1.5.0",
            "description_tooltip": null,
            "_model_module": "@jupyter-widgets/controls",
            "layout": "IPY_MODEL_0a01140c2fbe40a39cc434e097184c6f"
          }
        },
        "7c71ca10a72348859823d4c66b9e6b2b": {
          "model_module": "@jupyter-widgets/controls",
          "model_name": "FloatProgressModel",
          "model_module_version": "1.5.0",
          "state": {
            "_view_name": "ProgressView",
            "style": "IPY_MODEL_c77538ebc767449293a0818bec47f5e1",
            "_dom_classes": [],
            "description": "",
            "_model_name": "FloatProgressModel",
            "bar_style": "success",
            "max": 570,
            "_view_module": "@jupyter-widgets/controls",
            "_model_module_version": "1.5.0",
            "value": 570,
            "_view_count": null,
            "_view_module_version": "1.5.0",
            "orientation": "horizontal",
            "min": 0,
            "description_tooltip": null,
            "_model_module": "@jupyter-widgets/controls",
            "layout": "IPY_MODEL_bafdb9b78e07455282d517c76c1a388f"
          }
        },
        "eae84a3cb1c94472a6eb138803565bfc": {
          "model_module": "@jupyter-widgets/controls",
          "model_name": "HTMLModel",
          "model_module_version": "1.5.0",
          "state": {
            "_view_name": "HTMLView",
            "style": "IPY_MODEL_49ad3b96090b4a78a739be780f782185",
            "_dom_classes": [],
            "description": "",
            "_model_name": "HTMLModel",
            "placeholder": "​",
            "_view_module": "@jupyter-widgets/controls",
            "_model_module_version": "1.5.0",
            "value": " 570/570 [00:00&lt;00:00, 23.7kB/s]",
            "_view_count": null,
            "_view_module_version": "1.5.0",
            "description_tooltip": null,
            "_model_module": "@jupyter-widgets/controls",
            "layout": "IPY_MODEL_10b6335ba98445bbbe4c6230ba8ff08e"
          }
        },
        "ab986b2580d44cb18b273443798cac34": {
          "model_module": "@jupyter-widgets/controls",
          "model_name": "DescriptionStyleModel",
          "model_module_version": "1.5.0",
          "state": {
            "_view_name": "StyleView",
            "_model_name": "DescriptionStyleModel",
            "description_width": "",
            "_view_module": "@jupyter-widgets/base",
            "_model_module_version": "1.5.0",
            "_view_count": null,
            "_view_module_version": "1.2.0",
            "_model_module": "@jupyter-widgets/controls"
          }
        },
        "0a01140c2fbe40a39cc434e097184c6f": {
          "model_module": "@jupyter-widgets/base",
          "model_name": "LayoutModel",
          "model_module_version": "1.2.0",
          "state": {
            "_view_name": "LayoutView",
            "grid_template_rows": null,
            "right": null,
            "justify_content": null,
            "_view_module": "@jupyter-widgets/base",
            "overflow": null,
            "_model_module_version": "1.2.0",
            "_view_count": null,
            "flex_flow": null,
            "width": null,
            "min_width": null,
            "border": null,
            "align_items": null,
            "bottom": null,
            "_model_module": "@jupyter-widgets/base",
            "top": null,
            "grid_column": null,
            "overflow_y": null,
            "overflow_x": null,
            "grid_auto_flow": null,
            "grid_area": null,
            "grid_template_columns": null,
            "flex": null,
            "_model_name": "LayoutModel",
            "justify_items": null,
            "grid_row": null,
            "max_height": null,
            "align_content": null,
            "visibility": null,
            "align_self": null,
            "height": null,
            "min_height": null,
            "padding": null,
            "grid_auto_rows": null,
            "grid_gap": null,
            "max_width": null,
            "order": null,
            "_view_module_version": "1.2.0",
            "grid_template_areas": null,
            "object_position": null,
            "object_fit": null,
            "grid_auto_columns": null,
            "margin": null,
            "display": null,
            "left": null
          }
        },
        "c77538ebc767449293a0818bec47f5e1": {
          "model_module": "@jupyter-widgets/controls",
          "model_name": "ProgressStyleModel",
          "model_module_version": "1.5.0",
          "state": {
            "_view_name": "StyleView",
            "_model_name": "ProgressStyleModel",
            "description_width": "",
            "_view_module": "@jupyter-widgets/base",
            "_model_module_version": "1.5.0",
            "_view_count": null,
            "_view_module_version": "1.2.0",
            "bar_color": null,
            "_model_module": "@jupyter-widgets/controls"
          }
        },
        "bafdb9b78e07455282d517c76c1a388f": {
          "model_module": "@jupyter-widgets/base",
          "model_name": "LayoutModel",
          "model_module_version": "1.2.0",
          "state": {
            "_view_name": "LayoutView",
            "grid_template_rows": null,
            "right": null,
            "justify_content": null,
            "_view_module": "@jupyter-widgets/base",
            "overflow": null,
            "_model_module_version": "1.2.0",
            "_view_count": null,
            "flex_flow": null,
            "width": null,
            "min_width": null,
            "border": null,
            "align_items": null,
            "bottom": null,
            "_model_module": "@jupyter-widgets/base",
            "top": null,
            "grid_column": null,
            "overflow_y": null,
            "overflow_x": null,
            "grid_auto_flow": null,
            "grid_area": null,
            "grid_template_columns": null,
            "flex": null,
            "_model_name": "LayoutModel",
            "justify_items": null,
            "grid_row": null,
            "max_height": null,
            "align_content": null,
            "visibility": null,
            "align_self": null,
            "height": null,
            "min_height": null,
            "padding": null,
            "grid_auto_rows": null,
            "grid_gap": null,
            "max_width": null,
            "order": null,
            "_view_module_version": "1.2.0",
            "grid_template_areas": null,
            "object_position": null,
            "object_fit": null,
            "grid_auto_columns": null,
            "margin": null,
            "display": null,
            "left": null
          }
        },
        "49ad3b96090b4a78a739be780f782185": {
          "model_module": "@jupyter-widgets/controls",
          "model_name": "DescriptionStyleModel",
          "model_module_version": "1.5.0",
          "state": {
            "_view_name": "StyleView",
            "_model_name": "DescriptionStyleModel",
            "description_width": "",
            "_view_module": "@jupyter-widgets/base",
            "_model_module_version": "1.5.0",
            "_view_count": null,
            "_view_module_version": "1.2.0",
            "_model_module": "@jupyter-widgets/controls"
          }
        },
        "10b6335ba98445bbbe4c6230ba8ff08e": {
          "model_module": "@jupyter-widgets/base",
          "model_name": "LayoutModel",
          "model_module_version": "1.2.0",
          "state": {
            "_view_name": "LayoutView",
            "grid_template_rows": null,
            "right": null,
            "justify_content": null,
            "_view_module": "@jupyter-widgets/base",
            "overflow": null,
            "_model_module_version": "1.2.0",
            "_view_count": null,
            "flex_flow": null,
            "width": null,
            "min_width": null,
            "border": null,
            "align_items": null,
            "bottom": null,
            "_model_module": "@jupyter-widgets/base",
            "top": null,
            "grid_column": null,
            "overflow_y": null,
            "overflow_x": null,
            "grid_auto_flow": null,
            "grid_area": null,
            "grid_template_columns": null,
            "flex": null,
            "_model_name": "LayoutModel",
            "justify_items": null,
            "grid_row": null,
            "max_height": null,
            "align_content": null,
            "visibility": null,
            "align_self": null,
            "height": null,
            "min_height": null,
            "padding": null,
            "grid_auto_rows": null,
            "grid_gap": null,
            "max_width": null,
            "order": null,
            "_view_module_version": "1.2.0",
            "grid_template_areas": null,
            "object_position": null,
            "object_fit": null,
            "grid_auto_columns": null,
            "margin": null,
            "display": null,
            "left": null
          }
        },
        "47e8943d82c24462a1b5218ea6352242": {
          "model_module": "@jupyter-widgets/controls",
          "model_name": "HBoxModel",
          "model_module_version": "1.5.0",
          "state": {
            "_view_name": "HBoxView",
            "_dom_classes": [],
            "_model_name": "HBoxModel",
            "_view_module": "@jupyter-widgets/controls",
            "_model_module_version": "1.5.0",
            "_view_count": null,
            "_view_module_version": "1.5.0",
            "box_style": "",
            "layout": "IPY_MODEL_0b569e975d9f4c95b3db86d81a09dab9",
            "_model_module": "@jupyter-widgets/controls",
            "children": [
              "IPY_MODEL_a43572673be04f67a3a725f5c3b3fa95",
              "IPY_MODEL_801af068e8c34e62a87a9b811e584d7f",
              "IPY_MODEL_3bfdf413f74d44d49b44d4d4fe2bb154"
            ]
          }
        },
        "0b569e975d9f4c95b3db86d81a09dab9": {
          "model_module": "@jupyter-widgets/base",
          "model_name": "LayoutModel",
          "model_module_version": "1.2.0",
          "state": {
            "_view_name": "LayoutView",
            "grid_template_rows": null,
            "right": null,
            "justify_content": null,
            "_view_module": "@jupyter-widgets/base",
            "overflow": null,
            "_model_module_version": "1.2.0",
            "_view_count": null,
            "flex_flow": null,
            "width": null,
            "min_width": null,
            "border": null,
            "align_items": null,
            "bottom": null,
            "_model_module": "@jupyter-widgets/base",
            "top": null,
            "grid_column": null,
            "overflow_y": null,
            "overflow_x": null,
            "grid_auto_flow": null,
            "grid_area": null,
            "grid_template_columns": null,
            "flex": null,
            "_model_name": "LayoutModel",
            "justify_items": null,
            "grid_row": null,
            "max_height": null,
            "align_content": null,
            "visibility": null,
            "align_self": null,
            "height": null,
            "min_height": null,
            "padding": null,
            "grid_auto_rows": null,
            "grid_gap": null,
            "max_width": null,
            "order": null,
            "_view_module_version": "1.2.0",
            "grid_template_areas": null,
            "object_position": null,
            "object_fit": null,
            "grid_auto_columns": null,
            "margin": null,
            "display": null,
            "left": null
          }
        },
        "a43572673be04f67a3a725f5c3b3fa95": {
          "model_module": "@jupyter-widgets/controls",
          "model_name": "HTMLModel",
          "model_module_version": "1.5.0",
          "state": {
            "_view_name": "HTMLView",
            "style": "IPY_MODEL_91a3c34d782a4624a652c93f43d36300",
            "_dom_classes": [],
            "description": "",
            "_model_name": "HTMLModel",
            "placeholder": "​",
            "_view_module": "@jupyter-widgets/controls",
            "_model_module_version": "1.5.0",
            "value": "Downloading: 100%",
            "_view_count": null,
            "_view_module_version": "1.5.0",
            "description_tooltip": null,
            "_model_module": "@jupyter-widgets/controls",
            "layout": "IPY_MODEL_778fe134f5534a0faa0dcb0fc93e67b9"
          }
        },
        "801af068e8c34e62a87a9b811e584d7f": {
          "model_module": "@jupyter-widgets/controls",
          "model_name": "FloatProgressModel",
          "model_module_version": "1.5.0",
          "state": {
            "_view_name": "ProgressView",
            "style": "IPY_MODEL_64ce51f1bd3740f48090abdaaf59d856",
            "_dom_classes": [],
            "description": "",
            "_model_name": "FloatProgressModel",
            "bar_style": "success",
            "max": 440473133,
            "_view_module": "@jupyter-widgets/controls",
            "_model_module_version": "1.5.0",
            "value": 440473133,
            "_view_count": null,
            "_view_module_version": "1.5.0",
            "orientation": "horizontal",
            "min": 0,
            "description_tooltip": null,
            "_model_module": "@jupyter-widgets/controls",
            "layout": "IPY_MODEL_e1561da019674384aee79b172196ae53"
          }
        },
        "3bfdf413f74d44d49b44d4d4fe2bb154": {
          "model_module": "@jupyter-widgets/controls",
          "model_name": "HTMLModel",
          "model_module_version": "1.5.0",
          "state": {
            "_view_name": "HTMLView",
            "style": "IPY_MODEL_406e6e5fca16444bb584b82dbec64d58",
            "_dom_classes": [],
            "description": "",
            "_model_name": "HTMLModel",
            "placeholder": "​",
            "_view_module": "@jupyter-widgets/controls",
            "_model_module_version": "1.5.0",
            "value": " 440M/440M [00:17&lt;00:00, 28.8MB/s]",
            "_view_count": null,
            "_view_module_version": "1.5.0",
            "description_tooltip": null,
            "_model_module": "@jupyter-widgets/controls",
            "layout": "IPY_MODEL_db5620a3d2604ec9b9ce120ff70150d2"
          }
        },
        "91a3c34d782a4624a652c93f43d36300": {
          "model_module": "@jupyter-widgets/controls",
          "model_name": "DescriptionStyleModel",
          "model_module_version": "1.5.0",
          "state": {
            "_view_name": "StyleView",
            "_model_name": "DescriptionStyleModel",
            "description_width": "",
            "_view_module": "@jupyter-widgets/base",
            "_model_module_version": "1.5.0",
            "_view_count": null,
            "_view_module_version": "1.2.0",
            "_model_module": "@jupyter-widgets/controls"
          }
        },
        "778fe134f5534a0faa0dcb0fc93e67b9": {
          "model_module": "@jupyter-widgets/base",
          "model_name": "LayoutModel",
          "model_module_version": "1.2.0",
          "state": {
            "_view_name": "LayoutView",
            "grid_template_rows": null,
            "right": null,
            "justify_content": null,
            "_view_module": "@jupyter-widgets/base",
            "overflow": null,
            "_model_module_version": "1.2.0",
            "_view_count": null,
            "flex_flow": null,
            "width": null,
            "min_width": null,
            "border": null,
            "align_items": null,
            "bottom": null,
            "_model_module": "@jupyter-widgets/base",
            "top": null,
            "grid_column": null,
            "overflow_y": null,
            "overflow_x": null,
            "grid_auto_flow": null,
            "grid_area": null,
            "grid_template_columns": null,
            "flex": null,
            "_model_name": "LayoutModel",
            "justify_items": null,
            "grid_row": null,
            "max_height": null,
            "align_content": null,
            "visibility": null,
            "align_self": null,
            "height": null,
            "min_height": null,
            "padding": null,
            "grid_auto_rows": null,
            "grid_gap": null,
            "max_width": null,
            "order": null,
            "_view_module_version": "1.2.0",
            "grid_template_areas": null,
            "object_position": null,
            "object_fit": null,
            "grid_auto_columns": null,
            "margin": null,
            "display": null,
            "left": null
          }
        },
        "64ce51f1bd3740f48090abdaaf59d856": {
          "model_module": "@jupyter-widgets/controls",
          "model_name": "ProgressStyleModel",
          "model_module_version": "1.5.0",
          "state": {
            "_view_name": "StyleView",
            "_model_name": "ProgressStyleModel",
            "description_width": "",
            "_view_module": "@jupyter-widgets/base",
            "_model_module_version": "1.5.0",
            "_view_count": null,
            "_view_module_version": "1.2.0",
            "bar_color": null,
            "_model_module": "@jupyter-widgets/controls"
          }
        },
        "e1561da019674384aee79b172196ae53": {
          "model_module": "@jupyter-widgets/base",
          "model_name": "LayoutModel",
          "model_module_version": "1.2.0",
          "state": {
            "_view_name": "LayoutView",
            "grid_template_rows": null,
            "right": null,
            "justify_content": null,
            "_view_module": "@jupyter-widgets/base",
            "overflow": null,
            "_model_module_version": "1.2.0",
            "_view_count": null,
            "flex_flow": null,
            "width": null,
            "min_width": null,
            "border": null,
            "align_items": null,
            "bottom": null,
            "_model_module": "@jupyter-widgets/base",
            "top": null,
            "grid_column": null,
            "overflow_y": null,
            "overflow_x": null,
            "grid_auto_flow": null,
            "grid_area": null,
            "grid_template_columns": null,
            "flex": null,
            "_model_name": "LayoutModel",
            "justify_items": null,
            "grid_row": null,
            "max_height": null,
            "align_content": null,
            "visibility": null,
            "align_self": null,
            "height": null,
            "min_height": null,
            "padding": null,
            "grid_auto_rows": null,
            "grid_gap": null,
            "max_width": null,
            "order": null,
            "_view_module_version": "1.2.0",
            "grid_template_areas": null,
            "object_position": null,
            "object_fit": null,
            "grid_auto_columns": null,
            "margin": null,
            "display": null,
            "left": null
          }
        },
        "406e6e5fca16444bb584b82dbec64d58": {
          "model_module": "@jupyter-widgets/controls",
          "model_name": "DescriptionStyleModel",
          "model_module_version": "1.5.0",
          "state": {
            "_view_name": "StyleView",
            "_model_name": "DescriptionStyleModel",
            "description_width": "",
            "_view_module": "@jupyter-widgets/base",
            "_model_module_version": "1.5.0",
            "_view_count": null,
            "_view_module_version": "1.2.0",
            "_model_module": "@jupyter-widgets/controls"
          }
        },
        "db5620a3d2604ec9b9ce120ff70150d2": {
          "model_module": "@jupyter-widgets/base",
          "model_name": "LayoutModel",
          "model_module_version": "1.2.0",
          "state": {
            "_view_name": "LayoutView",
            "grid_template_rows": null,
            "right": null,
            "justify_content": null,
            "_view_module": "@jupyter-widgets/base",
            "overflow": null,
            "_model_module_version": "1.2.0",
            "_view_count": null,
            "flex_flow": null,
            "width": null,
            "min_width": null,
            "border": null,
            "align_items": null,
            "bottom": null,
            "_model_module": "@jupyter-widgets/base",
            "top": null,
            "grid_column": null,
            "overflow_y": null,
            "overflow_x": null,
            "grid_auto_flow": null,
            "grid_area": null,
            "grid_template_columns": null,
            "flex": null,
            "_model_name": "LayoutModel",
            "justify_items": null,
            "grid_row": null,
            "max_height": null,
            "align_content": null,
            "visibility": null,
            "align_self": null,
            "height": null,
            "min_height": null,
            "padding": null,
            "grid_auto_rows": null,
            "grid_gap": null,
            "max_width": null,
            "order": null,
            "_view_module_version": "1.2.0",
            "grid_template_areas": null,
            "object_position": null,
            "object_fit": null,
            "grid_auto_columns": null,
            "margin": null,
            "display": null,
            "left": null
          }
        }
      }
    }
  },
  "cells": [
    {
      "cell_type": "markdown",
      "source": [
        "A .CSV generated from GPT-2 Simple can't be read into a pandas dataframe. It must be cleaned manually or with pure python.\n",
        "\n",
        "The preparation of these generated tweets for conversion to .CSV isn't featured in this notebook."
      ],
      "metadata": {
        "id": "fGPwsmzdvPVa"
      }
    },
    {
      "cell_type": "markdown",
      "source": [
        "# **The Objective**\n",
        "\n",
        "In this notebook we will be using the synthesized tweets generated by GPT 2 for labels 2 ,3 and 4 and combining them with our current training data.\n",
        "\n",
        "We will train FrankenBert on this new training dataset and evaluate its performance on different evaluation metrics.\n",
        "\n",
        "In order to be able to have a fair comparison of our model and the older version , we will use the existing test.csv for our testing purposes"
      ],
      "metadata": {
        "id": "e4ewXOYFF662"
      }
    },
    {
      "cell_type": "markdown",
      "source": [
        "Installing and Importing Libraries"
      ],
      "metadata": {
        "id": "USc9I2NL4_Rr"
      }
    },
    {
      "cell_type": "code",
      "execution_count": 95,
      "source": [
        "!pip install transformers\n",
        "!pip install psycopg2-binary\n",
        "!pip install torchmetrics"
      ],
      "outputs": [
        {
          "output_type": "stream",
          "name": "stdout",
          "text": [
            "Collecting transformers\n",
            "  Downloading transformers-4.9.2-py3-none-any.whl (2.6 MB)\n",
            "\u001b[K     |████████████████████████████████| 2.6 MB 5.3 MB/s \n",
            "\u001b[?25hRequirement already satisfied: requests in /usr/local/lib/python3.7/dist-packages (from transformers) (2.23.0)\n",
            "Requirement already satisfied: filelock in /usr/local/lib/python3.7/dist-packages (from transformers) (3.0.12)\n",
            "Requirement already satisfied: importlib-metadata in /usr/local/lib/python3.7/dist-packages (from transformers) (4.6.4)\n",
            "Collecting huggingface-hub==0.0.12\n",
            "  Downloading huggingface_hub-0.0.12-py3-none-any.whl (37 kB)\n",
            "Collecting pyyaml>=5.1\n",
            "  Downloading PyYAML-5.4.1-cp37-cp37m-manylinux1_x86_64.whl (636 kB)\n",
            "\u001b[K     |████████████████████████████████| 636 kB 69.6 MB/s \n",
            "\u001b[?25hRequirement already satisfied: regex!=2019.12.17 in /usr/local/lib/python3.7/dist-packages (from transformers) (2019.12.20)\n",
            "Requirement already satisfied: numpy>=1.17 in /usr/local/lib/python3.7/dist-packages (from transformers) (1.19.5)\n",
            "Requirement already satisfied: packaging in /usr/local/lib/python3.7/dist-packages (from transformers) (21.0)\n",
            "Collecting tokenizers<0.11,>=0.10.1\n",
            "  Downloading tokenizers-0.10.3-cp37-cp37m-manylinux_2_5_x86_64.manylinux1_x86_64.manylinux_2_12_x86_64.manylinux2010_x86_64.whl (3.3 MB)\n",
            "\u001b[K     |████████████████████████████████| 3.3 MB 52.3 MB/s \n",
            "\u001b[?25hCollecting sacremoses\n",
            "  Downloading sacremoses-0.0.45-py3-none-any.whl (895 kB)\n",
            "\u001b[K     |████████████████████████████████| 895 kB 59.7 MB/s \n",
            "\u001b[?25hRequirement already satisfied: tqdm>=4.27 in /usr/local/lib/python3.7/dist-packages (from transformers) (4.62.0)\n",
            "Requirement already satisfied: typing-extensions in /usr/local/lib/python3.7/dist-packages (from huggingface-hub==0.0.12->transformers) (3.7.4.3)\n",
            "Requirement already satisfied: pyparsing>=2.0.2 in /usr/local/lib/python3.7/dist-packages (from packaging->transformers) (2.4.7)\n",
            "Requirement already satisfied: zipp>=0.5 in /usr/local/lib/python3.7/dist-packages (from importlib-metadata->transformers) (3.5.0)\n",
            "Requirement already satisfied: urllib3!=1.25.0,!=1.25.1,<1.26,>=1.21.1 in /usr/local/lib/python3.7/dist-packages (from requests->transformers) (1.24.3)\n",
            "Requirement already satisfied: idna<3,>=2.5 in /usr/local/lib/python3.7/dist-packages (from requests->transformers) (2.10)\n",
            "Requirement already satisfied: chardet<4,>=3.0.2 in /usr/local/lib/python3.7/dist-packages (from requests->transformers) (3.0.4)\n",
            "Requirement already satisfied: certifi>=2017.4.17 in /usr/local/lib/python3.7/dist-packages (from requests->transformers) (2021.5.30)\n",
            "Requirement already satisfied: six in /usr/local/lib/python3.7/dist-packages (from sacremoses->transformers) (1.15.0)\n",
            "Requirement already satisfied: click in /usr/local/lib/python3.7/dist-packages (from sacremoses->transformers) (7.1.2)\n",
            "Requirement already satisfied: joblib in /usr/local/lib/python3.7/dist-packages (from sacremoses->transformers) (1.0.1)\n",
            "Installing collected packages: tokenizers, sacremoses, pyyaml, huggingface-hub, transformers\n",
            "  Attempting uninstall: pyyaml\n",
            "    Found existing installation: PyYAML 3.13\n",
            "    Uninstalling PyYAML-3.13:\n",
            "      Successfully uninstalled PyYAML-3.13\n",
            "Successfully installed huggingface-hub-0.0.12 pyyaml-5.4.1 sacremoses-0.0.45 tokenizers-0.10.3 transformers-4.9.2\n",
            "Collecting psycopg2-binary\n",
            "  Downloading psycopg2_binary-2.9.1-cp37-cp37m-manylinux_2_17_x86_64.manylinux2014_x86_64.whl (3.4 MB)\n",
            "\u001b[K     |████████████████████████████████| 3.4 MB 5.1 MB/s \n",
            "\u001b[?25hInstalling collected packages: psycopg2-binary\n",
            "Successfully installed psycopg2-binary-2.9.1\n"
          ]
        }
      ],
      "metadata": {
        "colab": {
          "base_uri": "https://localhost:8080/"
        },
        "id": "1_FbicodOze5",
        "outputId": "44579a28-72b1-4b65-862e-58e6f1f06609"
      }
    },
    {
      "cell_type": "code",
      "execution_count": 96,
      "source": [
        "import os\n",
        "\n",
        "import pandas as pd\n",
        "import torch\n",
        "from torch.utils.data import TensorDataset, DataLoader, RandomSampler\n",
        "from transformers import BertTokenizer, BertForSequenceClassification, AdamW\n",
        "from transformers import get_linear_schedule_with_warmup\n",
        "from tensorflow.keras.preprocessing.sequence import pad_sequences\n",
        "# import psycopg2"
      ],
      "outputs": [],
      "metadata": {
        "id": "RhkXPkB3PSvF"
      }
    },
    {
      "cell_type": "code",
      "execution_count": 106,
      "source": [
        "import os\n",
        "os.environ[\"CUDA_VISIBLE_DEVICES\"]=\"\"\n",
        "import tensorflow \n",
        "import sklearn.metrics\n",
        "from sklearn.metrics import confusion_matrix, f1_score, classification_report\n",
        "from sklearn import model_selection\n",
        "import seaborn as sns\n",
        "%matplotlib inline\n",
        "import matplotlib.pyplot as plt\n",
        "from torchmetrics import Accuracy,F1"
      ],
      "outputs": [],
      "metadata": {
        "id": "ubP8kqzax_hb"
      }
    },
    {
      "cell_type": "code",
      "execution_count": 138,
      "source": [],
      "outputs": [
        {
          "output_type": "stream",
          "name": "stdout",
          "text": [
            "Collecting torchmetrics\n",
            "  Downloading torchmetrics-0.5.0-py3-none-any.whl (272 kB)\n",
            "\u001b[?25l\r\u001b[K     |█▏                              | 10 kB 35.0 MB/s eta 0:00:01\r\u001b[K     |██▍                             | 20 kB 22.3 MB/s eta 0:00:01\r\u001b[K     |███▋                            | 30 kB 12.2 MB/s eta 0:00:01\r\u001b[K     |████▉                           | 40 kB 9.6 MB/s eta 0:00:01\r\u001b[K     |██████                          | 51 kB 5.0 MB/s eta 0:00:01\r\u001b[K     |███████▎                        | 61 kB 5.5 MB/s eta 0:00:01\r\u001b[K     |████████▍                       | 71 kB 5.6 MB/s eta 0:00:01\r\u001b[K     |█████████▋                      | 81 kB 6.3 MB/s eta 0:00:01\r\u001b[K     |██████████▉                     | 92 kB 6.5 MB/s eta 0:00:01\r\u001b[K     |████████████                    | 102 kB 5.3 MB/s eta 0:00:01\r\u001b[K     |█████████████▎                  | 112 kB 5.3 MB/s eta 0:00:01\r\u001b[K     |██████████████▌                 | 122 kB 5.3 MB/s eta 0:00:01\r\u001b[K     |███████████████▋                | 133 kB 5.3 MB/s eta 0:00:01\r\u001b[K     |████████████████▉               | 143 kB 5.3 MB/s eta 0:00:01\r\u001b[K     |██████████████████              | 153 kB 5.3 MB/s eta 0:00:01\r\u001b[K     |███████████████████▎            | 163 kB 5.3 MB/s eta 0:00:01\r\u001b[K     |████████████████████▌           | 174 kB 5.3 MB/s eta 0:00:01\r\u001b[K     |█████████████████████▊          | 184 kB 5.3 MB/s eta 0:00:01\r\u001b[K     |██████████████████████▉         | 194 kB 5.3 MB/s eta 0:00:01\r\u001b[K     |████████████████████████        | 204 kB 5.3 MB/s eta 0:00:01\r\u001b[K     |█████████████████████████▎      | 215 kB 5.3 MB/s eta 0:00:01\r\u001b[K     |██████████████████████████▌     | 225 kB 5.3 MB/s eta 0:00:01\r\u001b[K     |███████████████████████████▊    | 235 kB 5.3 MB/s eta 0:00:01\r\u001b[K     |█████████████████████████████   | 245 kB 5.3 MB/s eta 0:00:01\r\u001b[K     |██████████████████████████████▏ | 256 kB 5.3 MB/s eta 0:00:01\r\u001b[K     |███████████████████████████████▎| 266 kB 5.3 MB/s eta 0:00:01\r\u001b[K     |████████████████████████████████| 272 kB 5.3 MB/s \n",
            "\u001b[?25hRequirement already satisfied: packaging in /usr/local/lib/python3.7/dist-packages (from torchmetrics) (21.0)\n",
            "Requirement already satisfied: numpy>=1.17.2 in /usr/local/lib/python3.7/dist-packages (from torchmetrics) (1.19.5)\n",
            "Requirement already satisfied: torch>=1.3.1 in /usr/local/lib/python3.7/dist-packages (from torchmetrics) (1.9.0+cu102)\n",
            "Requirement already satisfied: typing-extensions in /usr/local/lib/python3.7/dist-packages (from torch>=1.3.1->torchmetrics) (3.7.4.3)\n",
            "Requirement already satisfied: pyparsing>=2.0.2 in /usr/local/lib/python3.7/dist-packages (from packaging->torchmetrics) (2.4.7)\n",
            "Installing collected packages: torchmetrics\n",
            "Successfully installed torchmetrics-0.5.0\n"
          ]
        }
      ],
      "metadata": {
        "colab": {
          "base_uri": "https://localhost:8080/"
        },
        "id": "BmPQdmj2MM6s",
        "outputId": "ad938349-03f7-4070-e238-ce5f6e2628b7"
      }
    },
    {
      "cell_type": "markdown",
      "source": [
        "PART 1:\n",
        "\n",
        "In order to reuse this notebook, you would need to upload a few files \n",
        " - 3 files in folder 'synthetic_tweets'\n",
        " - training.csv and test.csv (found in 'notebooks/Labs37_notebooks')\n",
        "\n",
        "\n",
        "Compiling our training dataset using the generated tweets for ranks 2,3 and 4 and the existing training.csv"
      ],
      "metadata": {
        "id": "cwl4j310Gss7"
      }
    },
    {
      "cell_type": "code",
      "execution_count": 143,
      "source": [
        "# Rank 2 data\n",
        "column_headers = ['tweets', 'labels']\n",
        "\n",
        "df_rank2 = pd.read_csv(\"/content/rank2_syn.txt\",\n",
        "                       sep = '/',\n",
        "                       names=column_headers)\n",
        "df_rank2.shape"
      ],
      "outputs": [
        {
          "output_type": "execute_result",
          "data": {
            "text/plain": [
              "(1186, 2)"
            ]
          },
          "metadata": {},
          "execution_count": 143
        }
      ],
      "metadata": {
        "id": "hzNC4-88orwP",
        "colab": {
          "base_uri": "https://localhost:8080/"
        },
        "outputId": "02d06f69-b394-4dd6-cd6e-34e678da9895"
      }
    },
    {
      "cell_type": "code",
      "execution_count": 53,
      "source": [
        "df_rank2"
      ],
      "outputs": [
        {
          "output_type": "execute_result",
          "data": {
            "text/plain": [
              "                                                 tweets  labels\n",
              "0     Members of the Unified Command (Multinomah Cou...       2\n",
              "1     Footage taken at E 136th St and Brook Ave in t...       2\n",
              "2     Police approach protesters standing in the str...       2\n",
              "3     Police arrested two AL.com journalists coverin...       2\n",
              "4     Rayne Valentine, a hospital employee in Brookl...       2\n",
              "...                                                 ...     ...\n",
              "1181  Footage taken at E 136th St and Brook Ave in t...       2\n",
              "1182  Police approach protesters standing in the str...       2\n",
              "1183  Police arrested two AL.com journalists coverin...       2\n",
              "1184  Rayne Valentine, a hospital employee in Brookl...       2\n",
              "1185  Footage shows riot police suddenly charge into...       2\n",
              "\n",
              "[1186 rows x 2 columns]"
            ],
            "text/html": [
              "<div>\n",
              "<style scoped>\n",
              "    .dataframe tbody tr th:only-of-type {\n",
              "        vertical-align: middle;\n",
              "    }\n",
              "\n",
              "    .dataframe tbody tr th {\n",
              "        vertical-align: top;\n",
              "    }\n",
              "\n",
              "    .dataframe thead th {\n",
              "        text-align: right;\n",
              "    }\n",
              "</style>\n",
              "<table border=\"1\" class=\"dataframe\">\n",
              "  <thead>\n",
              "    <tr style=\"text-align: right;\">\n",
              "      <th></th>\n",
              "      <th>tweets</th>\n",
              "      <th>labels</th>\n",
              "    </tr>\n",
              "  </thead>\n",
              "  <tbody>\n",
              "    <tr>\n",
              "      <th>0</th>\n",
              "      <td>Members of the Unified Command (Multinomah Cou...</td>\n",
              "      <td>2</td>\n",
              "    </tr>\n",
              "    <tr>\n",
              "      <th>1</th>\n",
              "      <td>Footage taken at E 136th St and Brook Ave in t...</td>\n",
              "      <td>2</td>\n",
              "    </tr>\n",
              "    <tr>\n",
              "      <th>2</th>\n",
              "      <td>Police approach protesters standing in the str...</td>\n",
              "      <td>2</td>\n",
              "    </tr>\n",
              "    <tr>\n",
              "      <th>3</th>\n",
              "      <td>Police arrested two AL.com journalists coverin...</td>\n",
              "      <td>2</td>\n",
              "    </tr>\n",
              "    <tr>\n",
              "      <th>4</th>\n",
              "      <td>Rayne Valentine, a hospital employee in Brookl...</td>\n",
              "      <td>2</td>\n",
              "    </tr>\n",
              "    <tr>\n",
              "      <th>...</th>\n",
              "      <td>...</td>\n",
              "      <td>...</td>\n",
              "    </tr>\n",
              "    <tr>\n",
              "      <th>1181</th>\n",
              "      <td>Footage taken at E 136th St and Brook Ave in t...</td>\n",
              "      <td>2</td>\n",
              "    </tr>\n",
              "    <tr>\n",
              "      <th>1182</th>\n",
              "      <td>Police approach protesters standing in the str...</td>\n",
              "      <td>2</td>\n",
              "    </tr>\n",
              "    <tr>\n",
              "      <th>1183</th>\n",
              "      <td>Police arrested two AL.com journalists coverin...</td>\n",
              "      <td>2</td>\n",
              "    </tr>\n",
              "    <tr>\n",
              "      <th>1184</th>\n",
              "      <td>Rayne Valentine, a hospital employee in Brookl...</td>\n",
              "      <td>2</td>\n",
              "    </tr>\n",
              "    <tr>\n",
              "      <th>1185</th>\n",
              "      <td>Footage shows riot police suddenly charge into...</td>\n",
              "      <td>2</td>\n",
              "    </tr>\n",
              "  </tbody>\n",
              "</table>\n",
              "<p>1186 rows × 2 columns</p>\n",
              "</div>"
            ]
          },
          "metadata": {},
          "execution_count": 53
        }
      ],
      "metadata": {
        "colab": {
          "base_uri": "https://localhost:8080/",
          "height": 417
        },
        "id": "pGjSQYYjvULb",
        "outputId": "6cbb7f2a-c69f-4cf8-a54f-cab165fb1436"
      }
    },
    {
      "cell_type": "code",
      "execution_count": 54,
      "source": [
        "#Checking for null values\n",
        "df_rank2.isnull().sum()"
      ],
      "outputs": [
        {
          "output_type": "execute_result",
          "data": {
            "text/plain": [
              "tweets    0\n",
              "labels    0\n",
              "dtype: int64"
            ]
          },
          "metadata": {},
          "execution_count": 54
        }
      ],
      "metadata": {
        "colab": {
          "base_uri": "https://localhost:8080/"
        },
        "id": "Lj5856krrQQo",
        "outputId": "1c67021c-5246-4c10-ace3-eb13b92c417f"
      }
    },
    {
      "cell_type": "code",
      "execution_count": 144,
      "source": [
        "# Rank 3 data\n",
        "df_rank3 = pd.read_csv(\"/content/rank3_syn.txt\",\n",
        "                       sep = '/',\n",
        "                       names=column_headers)\n",
        "\n",
        "df_rank3.shape"
      ],
      "outputs": [
        {
          "output_type": "execute_result",
          "data": {
            "text/plain": [
              "(881, 2)"
            ]
          },
          "metadata": {},
          "execution_count": 144
        }
      ],
      "metadata": {
        "id": "kkLgHpClgTYa",
        "colab": {
          "base_uri": "https://localhost:8080/"
        },
        "outputId": "74cca451-fac1-4f9c-c7d5-16f4bf525307"
      }
    },
    {
      "cell_type": "code",
      "execution_count": 56,
      "source": [
        "df_rank3"
      ],
      "outputs": [
        {
          "output_type": "execute_result",
          "data": {
            "text/plain": [
              "                                                tweets  labels\n",
              "0    Police are seen kneeling on a protester to arr...       3\n",
              "1    Onaka was the driver of a car that was being p...       3\n",
              "2    After protesters broke a few of the vehicle wi...       3\n",
              "3    After protesters broke a few of the vehicle wi...       3\n",
              "4    A protester breaks a piece of District Courtho...       3\n",
              "..                                                 ...     ...\n",
              "876  A livestreamer uploaded first person footage f...       3\n",
              "877  Onaka was the driver of a car that was being p...       3\n",
              "878  After finding a retired couple, Frederick Gobi...       3\n",
              "879  Ofiara walked into Klein’s Pharmacy with an as...       3\n",
              "880  Footage taken around midnight the morning of J...       3\n",
              "\n",
              "[881 rows x 2 columns]"
            ],
            "text/html": [
              "<div>\n",
              "<style scoped>\n",
              "    .dataframe tbody tr th:only-of-type {\n",
              "        vertical-align: middle;\n",
              "    }\n",
              "\n",
              "    .dataframe tbody tr th {\n",
              "        vertical-align: top;\n",
              "    }\n",
              "\n",
              "    .dataframe thead th {\n",
              "        text-align: right;\n",
              "    }\n",
              "</style>\n",
              "<table border=\"1\" class=\"dataframe\">\n",
              "  <thead>\n",
              "    <tr style=\"text-align: right;\">\n",
              "      <th></th>\n",
              "      <th>tweets</th>\n",
              "      <th>labels</th>\n",
              "    </tr>\n",
              "  </thead>\n",
              "  <tbody>\n",
              "    <tr>\n",
              "      <th>0</th>\n",
              "      <td>Police are seen kneeling on a protester to arr...</td>\n",
              "      <td>3</td>\n",
              "    </tr>\n",
              "    <tr>\n",
              "      <th>1</th>\n",
              "      <td>Onaka was the driver of a car that was being p...</td>\n",
              "      <td>3</td>\n",
              "    </tr>\n",
              "    <tr>\n",
              "      <th>2</th>\n",
              "      <td>After protesters broke a few of the vehicle wi...</td>\n",
              "      <td>3</td>\n",
              "    </tr>\n",
              "    <tr>\n",
              "      <th>3</th>\n",
              "      <td>After protesters broke a few of the vehicle wi...</td>\n",
              "      <td>3</td>\n",
              "    </tr>\n",
              "    <tr>\n",
              "      <th>4</th>\n",
              "      <td>A protester breaks a piece of District Courtho...</td>\n",
              "      <td>3</td>\n",
              "    </tr>\n",
              "    <tr>\n",
              "      <th>...</th>\n",
              "      <td>...</td>\n",
              "      <td>...</td>\n",
              "    </tr>\n",
              "    <tr>\n",
              "      <th>876</th>\n",
              "      <td>A livestreamer uploaded first person footage f...</td>\n",
              "      <td>3</td>\n",
              "    </tr>\n",
              "    <tr>\n",
              "      <th>877</th>\n",
              "      <td>Onaka was the driver of a car that was being p...</td>\n",
              "      <td>3</td>\n",
              "    </tr>\n",
              "    <tr>\n",
              "      <th>878</th>\n",
              "      <td>After finding a retired couple, Frederick Gobi...</td>\n",
              "      <td>3</td>\n",
              "    </tr>\n",
              "    <tr>\n",
              "      <th>879</th>\n",
              "      <td>Ofiara walked into Klein’s Pharmacy with an as...</td>\n",
              "      <td>3</td>\n",
              "    </tr>\n",
              "    <tr>\n",
              "      <th>880</th>\n",
              "      <td>Footage taken around midnight the morning of J...</td>\n",
              "      <td>3</td>\n",
              "    </tr>\n",
              "  </tbody>\n",
              "</table>\n",
              "<p>881 rows × 2 columns</p>\n",
              "</div>"
            ]
          },
          "metadata": {},
          "execution_count": 56
        }
      ],
      "metadata": {
        "colab": {
          "base_uri": "https://localhost:8080/",
          "height": 417
        },
        "id": "px2gIcIKjvBC",
        "outputId": "01d52599-06ab-4a32-b017-0e6485f96294"
      }
    },
    {
      "cell_type": "code",
      "execution_count": 57,
      "source": [
        "# Checking for nul values\n",
        "df_rank3.isnull().sum()"
      ],
      "outputs": [
        {
          "output_type": "execute_result",
          "data": {
            "text/plain": [
              "tweets    1\n",
              "labels    0\n",
              "dtype: int64"
            ]
          },
          "metadata": {},
          "execution_count": 57
        }
      ],
      "metadata": {
        "colab": {
          "base_uri": "https://localhost:8080/"
        },
        "id": "-Xz7GVvhrW3v",
        "outputId": "dbc258e8-8ed0-4a9a-c772-d390c99dc94a"
      }
    },
    {
      "cell_type": "code",
      "execution_count": 58,
      "source": [
        "# Dropping null value as it is just 1 entry\n",
        "df_rank3.dropna(inplace=True)"
      ],
      "outputs": [],
      "metadata": {
        "id": "PIxRfcNHri3b"
      }
    },
    {
      "cell_type": "code",
      "execution_count": 145,
      "source": [
        "# Rank 4 Data\n",
        "df_rank4 = pd.read_csv(\"/content/rank4_syn.txt\",\n",
        "                       sep = '/',\n",
        "                       names=column_headers)\n",
        "\n",
        "print(df_rank4.shape)"
      ],
      "outputs": [
        {
          "output_type": "execute_result",
          "data": {
            "text/plain": [
              "(934, 2)"
            ]
          },
          "metadata": {},
          "execution_count": 145
        }
      ],
      "metadata": {
        "id": "OpgC8UqPkISa",
        "colab": {
          "base_uri": "https://localhost:8080/"
        },
        "outputId": "3cc16b6d-79ee-49f5-c01c-2c212aba9c9f"
      }
    },
    {
      "cell_type": "code",
      "execution_count": 60,
      "source": [
        "df_rank4"
      ],
      "outputs": [
        {
          "output_type": "execute_result",
          "data": {
            "text/plain": [
              "                                                tweets labels\n",
              "0    Police surrounded and shoved protesters down M...      4\n",
              "1    Officers dressed in swat gear threw a stun gre...      4\n",
              "2    After police declared the protest a riot, prot...      4\n",
              "3    Footage shows heavy tear gas usage as proteste...      4\n",
              "4    Canovas were again called into the police stat...      4\n",
              "..                                                 ...    ...\n",
              "929  Police fire tear gas at peaceful protesters, w...      4\n",
              "930             Police fire rubber bullets at a crowd.      4\n",
              "931  Peaceful protestors in the park find themselve...      4\n",
              "932  Man in Philly was shot by a rubber bullet whil...      4\n",
              "933  Portland cops disperse a crowd using rubber bu...      4\n",
              "\n",
              "[934 rows x 2 columns]"
            ],
            "text/html": [
              "<div>\n",
              "<style scoped>\n",
              "    .dataframe tbody tr th:only-of-type {\n",
              "        vertical-align: middle;\n",
              "    }\n",
              "\n",
              "    .dataframe tbody tr th {\n",
              "        vertical-align: top;\n",
              "    }\n",
              "\n",
              "    .dataframe thead th {\n",
              "        text-align: right;\n",
              "    }\n",
              "</style>\n",
              "<table border=\"1\" class=\"dataframe\">\n",
              "  <thead>\n",
              "    <tr style=\"text-align: right;\">\n",
              "      <th></th>\n",
              "      <th>tweets</th>\n",
              "      <th>labels</th>\n",
              "    </tr>\n",
              "  </thead>\n",
              "  <tbody>\n",
              "    <tr>\n",
              "      <th>0</th>\n",
              "      <td>Police surrounded and shoved protesters down M...</td>\n",
              "      <td>4</td>\n",
              "    </tr>\n",
              "    <tr>\n",
              "      <th>1</th>\n",
              "      <td>Officers dressed in swat gear threw a stun gre...</td>\n",
              "      <td>4</td>\n",
              "    </tr>\n",
              "    <tr>\n",
              "      <th>2</th>\n",
              "      <td>After police declared the protest a riot, prot...</td>\n",
              "      <td>4</td>\n",
              "    </tr>\n",
              "    <tr>\n",
              "      <th>3</th>\n",
              "      <td>Footage shows heavy tear gas usage as proteste...</td>\n",
              "      <td>4</td>\n",
              "    </tr>\n",
              "    <tr>\n",
              "      <th>4</th>\n",
              "      <td>Canovas were again called into the police stat...</td>\n",
              "      <td>4</td>\n",
              "    </tr>\n",
              "    <tr>\n",
              "      <th>...</th>\n",
              "      <td>...</td>\n",
              "      <td>...</td>\n",
              "    </tr>\n",
              "    <tr>\n",
              "      <th>929</th>\n",
              "      <td>Police fire tear gas at peaceful protesters, w...</td>\n",
              "      <td>4</td>\n",
              "    </tr>\n",
              "    <tr>\n",
              "      <th>930</th>\n",
              "      <td>Police fire rubber bullets at a crowd.</td>\n",
              "      <td>4</td>\n",
              "    </tr>\n",
              "    <tr>\n",
              "      <th>931</th>\n",
              "      <td>Peaceful protestors in the park find themselve...</td>\n",
              "      <td>4</td>\n",
              "    </tr>\n",
              "    <tr>\n",
              "      <th>932</th>\n",
              "      <td>Man in Philly was shot by a rubber bullet whil...</td>\n",
              "      <td>4</td>\n",
              "    </tr>\n",
              "    <tr>\n",
              "      <th>933</th>\n",
              "      <td>Portland cops disperse a crowd using rubber bu...</td>\n",
              "      <td>4</td>\n",
              "    </tr>\n",
              "  </tbody>\n",
              "</table>\n",
              "<p>934 rows × 2 columns</p>\n",
              "</div>"
            ]
          },
          "metadata": {},
          "execution_count": 60
        }
      ],
      "metadata": {
        "colab": {
          "base_uri": "https://localhost:8080/",
          "height": 417
        },
        "id": "JJ0zko6vrJwX",
        "outputId": "557a4aad-2523-4e0c-aa45-12de3dbe7490"
      }
    },
    {
      "cell_type": "code",
      "execution_count": 61,
      "source": [
        "#Checking for null values\n",
        "df_rank4.isnull().sum()"
      ],
      "outputs": [
        {
          "output_type": "execute_result",
          "data": {
            "text/plain": [
              "tweets     0\n",
              "labels    14\n",
              "dtype: int64"
            ]
          },
          "metadata": {},
          "execution_count": 61
        }
      ],
      "metadata": {
        "colab": {
          "base_uri": "https://localhost:8080/"
        },
        "id": "uWo7MS4VrZeV",
        "outputId": "295e374a-c8b5-4ecb-adc8-c16680a2fe13"
      }
    },
    {
      "cell_type": "markdown",
      "source": [
        "Quite a few missing labels. Considering all the labels for this dataset are uniform, these can be filled any which way."
      ],
      "metadata": {
        "id": "qKOHAR1PteTC"
      }
    },
    {
      "cell_type": "code",
      "execution_count": 62,
      "source": [
        "df_rank4.fillna(method='backfill', \n",
        "                inplace=True)"
      ],
      "outputs": [],
      "metadata": {
        "id": "P8w7R2SGrdNe"
      }
    },
    {
      "cell_type": "code",
      "execution_count": 63,
      "source": [
        "df_rank4.nunique()"
      ],
      "outputs": [
        {
          "output_type": "execute_result",
          "data": {
            "text/plain": [
              "tweets    679\n",
              "labels      5\n",
              "dtype: int64"
            ]
          },
          "metadata": {},
          "execution_count": 63
        }
      ],
      "metadata": {
        "colab": {
          "base_uri": "https://localhost:8080/"
        },
        "id": "D6HTIZnc7rjU",
        "outputId": "65675142-8e0a-4eaa-f189-6c87ddf4f32d"
      }
    },
    {
      "cell_type": "code",
      "execution_count": 64,
      "source": [
        "df_rank4.labels.value_counts()"
      ],
      "outputs": [
        {
          "output_type": "execute_result",
          "data": {
            "text/plain": [
              "4                                                                         927\n",
              "pushed                                                                      3\n",
              "covering their faces are pepper-sprayed directly in the face by a cop.      2\n",
              "pol                                                                         1\n",
              "80.                                                                         1\n",
              "Name: labels, dtype: int64"
            ]
          },
          "metadata": {},
          "execution_count": 64
        }
      ],
      "metadata": {
        "colab": {
          "base_uri": "https://localhost:8080/"
        },
        "id": "b9brGUdU70s-",
        "outputId": "d21865f2-bb78-4bc2-a33d-e994c126c494"
      }
    },
    {
      "cell_type": "markdown",
      "source": [
        "Some text were mistakenly made into labels."
      ],
      "metadata": {
        "id": "Uq68rW528Ddt"
      }
    },
    {
      "cell_type": "code",
      "execution_count": 65,
      "source": [
        "df_rank4=df_rank4[df_rank4.labels != 'covering their faces are pepper-sprayed directly in the face by a cop.']\n",
        "df_rank4=df_rank4[df_rank4.labels != 'pushed']\n",
        "df_rank4=df_rank4[df_rank4.labels != '80.']\n",
        "df_rank4=df_rank4[df_rank4.labels != 'pol']"
      ],
      "outputs": [],
      "metadata": {
        "id": "Yte6UtXQ7wVr"
      }
    },
    {
      "cell_type": "code",
      "execution_count": 66,
      "source": [
        "df_rank4.labels.value_counts()"
      ],
      "outputs": [
        {
          "output_type": "execute_result",
          "data": {
            "text/plain": [
              "4    927\n",
              "Name: labels, dtype: int64"
            ]
          },
          "metadata": {},
          "execution_count": 66
        }
      ],
      "metadata": {
        "colab": {
          "base_uri": "https://localhost:8080/"
        },
        "id": "TDjUp3hn9AXf",
        "outputId": "e4925b23-d5b6-4f87-b289-d7b918bec768"
      }
    },
    {
      "cell_type": "markdown",
      "source": [
        "Combining all 3 rank dataframes into one."
      ],
      "metadata": {
        "id": "lE_Kcohrv5TY"
      }
    },
    {
      "cell_type": "code",
      "execution_count": 67,
      "source": [
        "df_rank234 = pd.concat([df_rank2, df_rank3, df_rank4])\n",
        "df_rank234.tail()"
      ],
      "outputs": [
        {
          "output_type": "execute_result",
          "data": {
            "text/plain": [
              "                                                tweets labels\n",
              "929  Police fire tear gas at peaceful protesters, w...      4\n",
              "930             Police fire rubber bullets at a crowd.      4\n",
              "931  Peaceful protestors in the park find themselve...      4\n",
              "932  Man in Philly was shot by a rubber bullet whil...      4\n",
              "933  Portland cops disperse a crowd using rubber bu...      4"
            ],
            "text/html": [
              "<div>\n",
              "<style scoped>\n",
              "    .dataframe tbody tr th:only-of-type {\n",
              "        vertical-align: middle;\n",
              "    }\n",
              "\n",
              "    .dataframe tbody tr th {\n",
              "        vertical-align: top;\n",
              "    }\n",
              "\n",
              "    .dataframe thead th {\n",
              "        text-align: right;\n",
              "    }\n",
              "</style>\n",
              "<table border=\"1\" class=\"dataframe\">\n",
              "  <thead>\n",
              "    <tr style=\"text-align: right;\">\n",
              "      <th></th>\n",
              "      <th>tweets</th>\n",
              "      <th>labels</th>\n",
              "    </tr>\n",
              "  </thead>\n",
              "  <tbody>\n",
              "    <tr>\n",
              "      <th>929</th>\n",
              "      <td>Police fire tear gas at peaceful protesters, w...</td>\n",
              "      <td>4</td>\n",
              "    </tr>\n",
              "    <tr>\n",
              "      <th>930</th>\n",
              "      <td>Police fire rubber bullets at a crowd.</td>\n",
              "      <td>4</td>\n",
              "    </tr>\n",
              "    <tr>\n",
              "      <th>931</th>\n",
              "      <td>Peaceful protestors in the park find themselve...</td>\n",
              "      <td>4</td>\n",
              "    </tr>\n",
              "    <tr>\n",
              "      <th>932</th>\n",
              "      <td>Man in Philly was shot by a rubber bullet whil...</td>\n",
              "      <td>4</td>\n",
              "    </tr>\n",
              "    <tr>\n",
              "      <th>933</th>\n",
              "      <td>Portland cops disperse a crowd using rubber bu...</td>\n",
              "      <td>4</td>\n",
              "    </tr>\n",
              "  </tbody>\n",
              "</table>\n",
              "</div>"
            ]
          },
          "metadata": {},
          "execution_count": 67
        }
      ],
      "metadata": {
        "colab": {
          "base_uri": "https://localhost:8080/",
          "height": 203
        },
        "id": "frm7DKJarz2n",
        "outputId": "5ead44ec-5e4e-4c87-810e-535aeb60a6d3"
      }
    },
    {
      "cell_type": "code",
      "execution_count": 68,
      "source": [
        "df_rank234.describe"
      ],
      "outputs": [
        {
          "output_type": "execute_result",
          "data": {
            "text/plain": [
              "<bound method NDFrame.describe of                                                 tweets labels\n",
              "0    Members of the Unified Command (Multinomah Cou...      2\n",
              "1    Footage taken at E 136th St and Brook Ave in t...      2\n",
              "2    Police approach protesters standing in the str...      2\n",
              "3    Police arrested two AL.com journalists coverin...      2\n",
              "4    Rayne Valentine, a hospital employee in Brookl...      2\n",
              "..                                                 ...    ...\n",
              "929  Police fire tear gas at peaceful protesters, w...      4\n",
              "930             Police fire rubber bullets at a crowd.      4\n",
              "931  Peaceful protestors in the park find themselve...      4\n",
              "932  Man in Philly was shot by a rubber bullet whil...      4\n",
              "933  Portland cops disperse a crowd using rubber bu...      4\n",
              "\n",
              "[2993 rows x 2 columns]>"
            ]
          },
          "metadata": {},
          "execution_count": 68
        }
      ],
      "metadata": {
        "colab": {
          "base_uri": "https://localhost:8080/"
        },
        "id": "6c9UFpzPspwD",
        "outputId": "c809a21f-858a-46a0-90fc-e8beb1f1f121"
      }
    },
    {
      "cell_type": "code",
      "execution_count": 69,
      "source": [
        "df_rank234.nunique()"
      ],
      "outputs": [
        {
          "output_type": "execute_result",
          "data": {
            "text/plain": [
              "tweets    1780\n",
              "labels       3\n",
              "dtype: int64"
            ]
          },
          "metadata": {},
          "execution_count": 69
        }
      ],
      "metadata": {
        "colab": {
          "base_uri": "https://localhost:8080/"
        },
        "id": "U6BzLWDZuBmp",
        "outputId": "9bcc03bf-17cc-46cd-baa4-5366db7f82be"
      }
    },
    {
      "cell_type": "markdown",
      "source": [
        "Nearly half of the generated tweets are duplicates. \n",
        "\n",
        "Not only that, but the concatenation of these dataframes actually left some alphabetical characters as `labels`."
      ],
      "metadata": {
        "id": "3qo0XjlQuGwv"
      }
    },
    {
      "cell_type": "code",
      "execution_count": 70,
      "source": [
        "df_rank234.drop_duplicates(subset='tweets', inplace=True)"
      ],
      "outputs": [],
      "metadata": {
        "id": "LjLB6jsgue9B"
      }
    },
    {
      "cell_type": "code",
      "execution_count": 71,
      "source": [
        "df_rank234.describe"
      ],
      "outputs": [
        {
          "output_type": "execute_result",
          "data": {
            "text/plain": [
              "<bound method NDFrame.describe of                                                 tweets labels\n",
              "0    Members of the Unified Command (Multinomah Cou...      2\n",
              "1    Footage taken at E 136th St and Brook Ave in t...      2\n",
              "2    Police approach protesters standing in the str...      2\n",
              "3    Police arrested two AL.com journalists coverin...      2\n",
              "4    Rayne Valentine, a hospital employee in Brookl...      2\n",
              "..                                                 ...    ...\n",
              "927  A journalist with Mill City Citizen Media is s...      4\n",
              "930             Police fire rubber bullets at a crowd.      4\n",
              "931  Peaceful protestors in the park find themselve...      4\n",
              "932  Man in Philly was shot by a rubber bullet whil...      4\n",
              "933  Portland cops disperse a crowd using rubber bu...      4\n",
              "\n",
              "[1780 rows x 2 columns]>"
            ]
          },
          "metadata": {},
          "execution_count": 71
        }
      ],
      "metadata": {
        "colab": {
          "base_uri": "https://localhost:8080/"
        },
        "id": "pROX3dg4wZ8K",
        "outputId": "ae6d8183-03e0-4312-8a33-a883b08459ee"
      }
    },
    {
      "cell_type": "markdown",
      "source": [
        "Compiling it all"
      ],
      "metadata": {
        "id": "cn4uRmTw_h8C"
      }
    },
    {
      "cell_type": "code",
      "execution_count": 72,
      "source": [
        "train = pd.read_csv('/content/training.csv')\n",
        "compiled = pd.concat([train, df_rank234])"
      ],
      "outputs": [],
      "metadata": {
        "id": "qZyXXPlk_j8l"
      }
    },
    {
      "cell_type": "code",
      "execution_count": 73,
      "source": [
        "compiled.describe"
      ],
      "outputs": [
        {
          "output_type": "execute_result",
          "data": {
            "text/plain": [
              "<bound method NDFrame.describe of      Unnamed: 0    id  ... Unnamed: 4 Unnamed: 5\n",
              "0           0.0   6.0  ...        NaN        NaN\n",
              "1           1.0   7.0  ...        NaN        NaN\n",
              "2           2.0   8.0  ...        NaN        NaN\n",
              "3           3.0   9.0  ...        NaN        NaN\n",
              "4           4.0  10.0  ...        NaN        NaN\n",
              "..          ...   ...  ...        ...        ...\n",
              "927         NaN   NaN  ...        NaN        NaN\n",
              "930         NaN   NaN  ...        NaN        NaN\n",
              "931         NaN   NaN  ...        NaN        NaN\n",
              "932         NaN   NaN  ...        NaN        NaN\n",
              "933         NaN   NaN  ...        NaN        NaN\n",
              "\n",
              "[7882 rows x 6 columns]>"
            ]
          },
          "metadata": {},
          "execution_count": 73
        }
      ],
      "metadata": {
        "colab": {
          "base_uri": "https://localhost:8080/"
        },
        "id": "1QgZRlo8AQ8O",
        "outputId": "0f23f445-a15c-44d2-a6d4-b0bf3a8f5d5a"
      }
    },
    {
      "cell_type": "code",
      "execution_count": 74,
      "source": [
        "compiled.nunique()"
      ],
      "outputs": [
        {
          "output_type": "execute_result",
          "data": {
            "text/plain": [
              "Unnamed: 0    6102\n",
              "id            6102\n",
              "tweets        7045\n",
              "labels           7\n",
              "Unnamed: 4       1\n",
              "Unnamed: 5       1\n",
              "dtype: int64"
            ]
          },
          "metadata": {},
          "execution_count": 74
        }
      ],
      "metadata": {
        "colab": {
          "base_uri": "https://localhost:8080/"
        },
        "id": "6ldXNu6vAUDz",
        "outputId": "73bc7fed-7234-4a18-abfd-9f92aabf9372"
      }
    },
    {
      "cell_type": "code",
      "execution_count": 75,
      "source": [
        "compiled.labels.value_counts()"
      ],
      "outputs": [
        {
          "output_type": "execute_result",
          "data": {
            "text/plain": [
              "0.0    2591\n",
              "5.0    1677\n",
              "1.0    1207\n",
              "3.0     843\n",
              "4       670\n",
              "2.0     556\n",
              "4.0     337\n",
              "Name: labels, dtype: int64"
            ]
          },
          "metadata": {},
          "execution_count": 75
        }
      ],
      "metadata": {
        "colab": {
          "base_uri": "https://localhost:8080/"
        },
        "id": "lmc-CajdAjdT",
        "outputId": "e3c51224-3d9a-4e75-bf9c-e1aa36838d28"
      }
    },
    {
      "cell_type": "code",
      "execution_count": 78,
      "source": [
        "compiled.head()"
      ],
      "outputs": [
        {
          "output_type": "execute_result",
          "data": {
            "text/plain": [
              "                                              tweets  ... Unnamed: 5\n",
              "0  A New Mexico State Police officer killed two p...  ...        NaN\n",
              "1  I found some police badge stickers at work and...  ...        NaN\n",
              "2  According to media reports, police said they a...  ...        NaN\n",
              "3  The male who has the knife is now running nort...  ...        NaN\n",
              "4  Changing the assignments of already existing c...  ...        NaN\n",
              "\n",
              "[5 rows x 4 columns]"
            ],
            "text/html": [
              "<div>\n",
              "<style scoped>\n",
              "    .dataframe tbody tr th:only-of-type {\n",
              "        vertical-align: middle;\n",
              "    }\n",
              "\n",
              "    .dataframe tbody tr th {\n",
              "        vertical-align: top;\n",
              "    }\n",
              "\n",
              "    .dataframe thead th {\n",
              "        text-align: right;\n",
              "    }\n",
              "</style>\n",
              "<table border=\"1\" class=\"dataframe\">\n",
              "  <thead>\n",
              "    <tr style=\"text-align: right;\">\n",
              "      <th></th>\n",
              "      <th>tweets</th>\n",
              "      <th>labels</th>\n",
              "      <th>Unnamed: 4</th>\n",
              "      <th>Unnamed: 5</th>\n",
              "    </tr>\n",
              "  </thead>\n",
              "  <tbody>\n",
              "    <tr>\n",
              "      <th>0</th>\n",
              "      <td>A New Mexico State Police officer killed two p...</td>\n",
              "      <td>5</td>\n",
              "      <td>NaN</td>\n",
              "      <td>NaN</td>\n",
              "    </tr>\n",
              "    <tr>\n",
              "      <th>1</th>\n",
              "      <td>I found some police badge stickers at work and...</td>\n",
              "      <td>0</td>\n",
              "      <td>NaN</td>\n",
              "      <td>NaN</td>\n",
              "    </tr>\n",
              "    <tr>\n",
              "      <th>2</th>\n",
              "      <td>According to media reports, police said they a...</td>\n",
              "      <td>1</td>\n",
              "      <td>NaN</td>\n",
              "      <td>NaN</td>\n",
              "    </tr>\n",
              "    <tr>\n",
              "      <th>3</th>\n",
              "      <td>The male who has the knife is now running nort...</td>\n",
              "      <td>0</td>\n",
              "      <td>NaN</td>\n",
              "      <td>NaN</td>\n",
              "    </tr>\n",
              "    <tr>\n",
              "      <th>4</th>\n",
              "      <td>Changing the assignments of already existing c...</td>\n",
              "      <td>0</td>\n",
              "      <td>NaN</td>\n",
              "      <td>NaN</td>\n",
              "    </tr>\n",
              "  </tbody>\n",
              "</table>\n",
              "</div>"
            ]
          },
          "metadata": {},
          "execution_count": 78
        }
      ],
      "metadata": {
        "colab": {
          "base_uri": "https://localhost:8080/",
          "height": 203
        },
        "id": "RyFKjXNBnDPA",
        "outputId": "008e59a6-3161-4431-8fd1-01850de9f0af"
      }
    },
    {
      "cell_type": "code",
      "execution_count": null,
      "source": [
        "compiled.drop(['Unnamed: 4','Unnamed: 5'], axis=1, inplace=True)\n",
        "compiled.shape\n"
      ],
      "outputs": [],
      "metadata": {
        "id": "8fE9DxgmA39r"
      }
    },
    {
      "cell_type": "code",
      "execution_count": 80,
      "source": [
        "compiled"
      ],
      "outputs": [
        {
          "output_type": "execute_result",
          "data": {
            "text/plain": [
              "                                                tweets labels\n",
              "0    A New Mexico State Police officer killed two p...      5\n",
              "1    I found some police badge stickers at work and...      0\n",
              "2    According to media reports, police said they a...      1\n",
              "3    The male who has the knife is now running nort...      0\n",
              "4    Changing the assignments of already existing c...      0\n",
              "..                                                 ...    ...\n",
              "927  A journalist with Mill City Citizen Media is s...      4\n",
              "930             Police fire rubber bullets at a crowd.      4\n",
              "931  Peaceful protestors in the park find themselve...      4\n",
              "932  Man in Philly was shot by a rubber bullet whil...      4\n",
              "933  Portland cops disperse a crowd using rubber bu...      4\n",
              "\n",
              "[7882 rows x 2 columns]"
            ],
            "text/html": [
              "<div>\n",
              "<style scoped>\n",
              "    .dataframe tbody tr th:only-of-type {\n",
              "        vertical-align: middle;\n",
              "    }\n",
              "\n",
              "    .dataframe tbody tr th {\n",
              "        vertical-align: top;\n",
              "    }\n",
              "\n",
              "    .dataframe thead th {\n",
              "        text-align: right;\n",
              "    }\n",
              "</style>\n",
              "<table border=\"1\" class=\"dataframe\">\n",
              "  <thead>\n",
              "    <tr style=\"text-align: right;\">\n",
              "      <th></th>\n",
              "      <th>tweets</th>\n",
              "      <th>labels</th>\n",
              "    </tr>\n",
              "  </thead>\n",
              "  <tbody>\n",
              "    <tr>\n",
              "      <th>0</th>\n",
              "      <td>A New Mexico State Police officer killed two p...</td>\n",
              "      <td>5</td>\n",
              "    </tr>\n",
              "    <tr>\n",
              "      <th>1</th>\n",
              "      <td>I found some police badge stickers at work and...</td>\n",
              "      <td>0</td>\n",
              "    </tr>\n",
              "    <tr>\n",
              "      <th>2</th>\n",
              "      <td>According to media reports, police said they a...</td>\n",
              "      <td>1</td>\n",
              "    </tr>\n",
              "    <tr>\n",
              "      <th>3</th>\n",
              "      <td>The male who has the knife is now running nort...</td>\n",
              "      <td>0</td>\n",
              "    </tr>\n",
              "    <tr>\n",
              "      <th>4</th>\n",
              "      <td>Changing the assignments of already existing c...</td>\n",
              "      <td>0</td>\n",
              "    </tr>\n",
              "    <tr>\n",
              "      <th>...</th>\n",
              "      <td>...</td>\n",
              "      <td>...</td>\n",
              "    </tr>\n",
              "    <tr>\n",
              "      <th>927</th>\n",
              "      <td>A journalist with Mill City Citizen Media is s...</td>\n",
              "      <td>4</td>\n",
              "    </tr>\n",
              "    <tr>\n",
              "      <th>930</th>\n",
              "      <td>Police fire rubber bullets at a crowd.</td>\n",
              "      <td>4</td>\n",
              "    </tr>\n",
              "    <tr>\n",
              "      <th>931</th>\n",
              "      <td>Peaceful protestors in the park find themselve...</td>\n",
              "      <td>4</td>\n",
              "    </tr>\n",
              "    <tr>\n",
              "      <th>932</th>\n",
              "      <td>Man in Philly was shot by a rubber bullet whil...</td>\n",
              "      <td>4</td>\n",
              "    </tr>\n",
              "    <tr>\n",
              "      <th>933</th>\n",
              "      <td>Portland cops disperse a crowd using rubber bu...</td>\n",
              "      <td>4</td>\n",
              "    </tr>\n",
              "  </tbody>\n",
              "</table>\n",
              "<p>7882 rows × 2 columns</p>\n",
              "</div>"
            ]
          },
          "metadata": {},
          "execution_count": 80
        }
      ],
      "metadata": {
        "colab": {
          "base_uri": "https://localhost:8080/",
          "height": 417
        },
        "id": "mfJeSWHoBML5",
        "outputId": "1dea5942-a0f7-4627-e8f7-daa9b3db8529"
      }
    },
    {
      "cell_type": "code",
      "execution_count": 81,
      "source": [
        "#checking for null values in the combined training data\n",
        "compiled.labels.isnull().sum()"
      ],
      "outputs": [
        {
          "output_type": "execute_result",
          "data": {
            "text/plain": [
              "1"
            ]
          },
          "metadata": {},
          "execution_count": 81
        }
      ],
      "metadata": {
        "colab": {
          "base_uri": "https://localhost:8080/"
        },
        "id": "77pAeszbfeEx",
        "outputId": "288036e7-b2ac-43b5-8ca9-15a9c359e97d"
      }
    },
    {
      "cell_type": "code",
      "execution_count": 82,
      "source": [
        "#Only one null value - can be dropped\n",
        "compiled.dropna(inplace=True)"
      ],
      "outputs": [],
      "metadata": {
        "id": "hT50PvGKfwhJ"
      }
    },
    {
      "cell_type": "code",
      "execution_count": 83,
      "source": [
        "#Cleaning up labels value\n",
        "compiled.labels.value_counts()"
      ],
      "outputs": [
        {
          "output_type": "execute_result",
          "data": {
            "text/plain": [
              "0.0    2591\n",
              "5.0    1677\n",
              "1.0    1207\n",
              "3.0     843\n",
              "4       670\n",
              "2.0     556\n",
              "4.0     337\n",
              "Name: labels, dtype: int64"
            ]
          },
          "metadata": {},
          "execution_count": 83
        }
      ],
      "metadata": {
        "colab": {
          "base_uri": "https://localhost:8080/"
        },
        "id": "uS1znoLjBOlO",
        "outputId": "6999fa60-00b6-48f8-f229-0f2519635608"
      }
    },
    {
      "cell_type": "code",
      "execution_count": 86,
      "source": [
        "compiled.dtypes"
      ],
      "outputs": [
        {
          "output_type": "execute_result",
          "data": {
            "text/plain": [
              "tweets    object\n",
              "labels    object\n",
              "dtype: object"
            ]
          },
          "metadata": {},
          "execution_count": 86
        }
      ],
      "metadata": {
        "colab": {
          "base_uri": "https://localhost:8080/"
        },
        "id": "iCaObtZ7Cv05",
        "outputId": "0d5364e6-316f-4f58-a892-630a422c0953"
      }
    },
    {
      "cell_type": "code",
      "execution_count": 87,
      "source": [
        "#Converting labels to int type for uniformity\n",
        "compiled['labels'] = compiled['labels'].astype(int)"
      ],
      "outputs": [],
      "metadata": {
        "id": "1duU2cq2DDTv"
      }
    },
    {
      "cell_type": "code",
      "execution_count": 88,
      "source": [
        "compiled.nunique()"
      ],
      "outputs": [
        {
          "output_type": "execute_result",
          "data": {
            "text/plain": [
              "tweets    7044\n",
              "labels       6\n",
              "dtype: int64"
            ]
          },
          "metadata": {},
          "execution_count": 88
        }
      ],
      "metadata": {
        "colab": {
          "base_uri": "https://localhost:8080/"
        },
        "id": "c8hJtVExCSXL",
        "outputId": "4d19b585-5926-419f-a25d-b3bc938e3240"
      }
    },
    {
      "cell_type": "code",
      "execution_count": 89,
      "source": [
        "compiled.describe"
      ],
      "outputs": [
        {
          "output_type": "execute_result",
          "data": {
            "text/plain": [
              "<bound method NDFrame.describe of                                                 tweets  labels\n",
              "0    A New Mexico State Police officer killed two p...       5\n",
              "1    I found some police badge stickers at work and...       0\n",
              "2    According to media reports, police said they a...       1\n",
              "3    The male who has the knife is now running nort...       0\n",
              "4    Changing the assignments of already existing c...       0\n",
              "..                                                 ...     ...\n",
              "927  A journalist with Mill City Citizen Media is s...       4\n",
              "930             Police fire rubber bullets at a crowd.       4\n",
              "931  Peaceful protestors in the park find themselve...       4\n",
              "932  Man in Philly was shot by a rubber bullet whil...       4\n",
              "933  Portland cops disperse a crowd using rubber bu...       4\n",
              "\n",
              "[7881 rows x 2 columns]>"
            ]
          },
          "metadata": {},
          "execution_count": 89
        }
      ],
      "metadata": {
        "colab": {
          "base_uri": "https://localhost:8080/"
        },
        "id": "H5dc5fWuDjW5",
        "outputId": "d3bf3342-211e-4637-9d55-5c5bb67662fa"
      }
    },
    {
      "cell_type": "markdown",
      "source": [
        "So GPT-2 actually **is** outputting text that it's being trained on!"
      ],
      "metadata": {
        "id": "BdYTtVDBCVZ5"
      }
    },
    {
      "cell_type": "code",
      "execution_count": 90,
      "source": [
        "compiled.drop_duplicates(subset='tweets', keep='first', inplace=True)"
      ],
      "outputs": [],
      "metadata": {
        "id": "geOzCgmEDmA-"
      }
    },
    {
      "cell_type": "markdown",
      "source": [
        "Finally finished cleaning!\n",
        "\n",
        "# PART 2: Training our model - FRANKENBERT\n",
        "Here we will train our model with the newly compiled dataset ann evaluate its performance"
      ],
      "metadata": {
        "id": "CSIdCiRKvfAR"
      }
    },
    {
      "cell_type": "code",
      "execution_count": 91,
      "source": [
        "#Renaming compiled df as training.\n",
        "training = compiled"
      ],
      "outputs": [],
      "metadata": {
        "id": "XeLucAonN59T"
      }
    },
    {
      "cell_type": "code",
      "execution_count": 92,
      "source": [
        "training.head()"
      ],
      "outputs": [
        {
          "output_type": "execute_result",
          "data": {
            "text/plain": [
              "                                              tweets  labels\n",
              "0  A New Mexico State Police officer killed two p...       5\n",
              "1  I found some police badge stickers at work and...       0\n",
              "2  According to media reports, police said they a...       1\n",
              "3  The male who has the knife is now running nort...       0\n",
              "4  Changing the assignments of already existing c...       0"
            ],
            "text/html": [
              "<div>\n",
              "<style scoped>\n",
              "    .dataframe tbody tr th:only-of-type {\n",
              "        vertical-align: middle;\n",
              "    }\n",
              "\n",
              "    .dataframe tbody tr th {\n",
              "        vertical-align: top;\n",
              "    }\n",
              "\n",
              "    .dataframe thead th {\n",
              "        text-align: right;\n",
              "    }\n",
              "</style>\n",
              "<table border=\"1\" class=\"dataframe\">\n",
              "  <thead>\n",
              "    <tr style=\"text-align: right;\">\n",
              "      <th></th>\n",
              "      <th>tweets</th>\n",
              "      <th>labels</th>\n",
              "    </tr>\n",
              "  </thead>\n",
              "  <tbody>\n",
              "    <tr>\n",
              "      <th>0</th>\n",
              "      <td>A New Mexico State Police officer killed two p...</td>\n",
              "      <td>5</td>\n",
              "    </tr>\n",
              "    <tr>\n",
              "      <th>1</th>\n",
              "      <td>I found some police badge stickers at work and...</td>\n",
              "      <td>0</td>\n",
              "    </tr>\n",
              "    <tr>\n",
              "      <th>2</th>\n",
              "      <td>According to media reports, police said they a...</td>\n",
              "      <td>1</td>\n",
              "    </tr>\n",
              "    <tr>\n",
              "      <th>3</th>\n",
              "      <td>The male who has the knife is now running nort...</td>\n",
              "      <td>0</td>\n",
              "    </tr>\n",
              "    <tr>\n",
              "      <th>4</th>\n",
              "      <td>Changing the assignments of already existing c...</td>\n",
              "      <td>0</td>\n",
              "    </tr>\n",
              "  </tbody>\n",
              "</table>\n",
              "</div>"
            ]
          },
          "metadata": {},
          "execution_count": 92
        }
      ],
      "metadata": {
        "colab": {
          "base_uri": "https://localhost:8080/",
          "height": 203
        },
        "id": "B7f37gBBn3Sq",
        "outputId": "d127511b-e551-4615-a213-c6bdee2c078f"
      }
    },
    {
      "cell_type": "code",
      "execution_count": 93,
      "source": [
        "training.shape"
      ],
      "outputs": [
        {
          "output_type": "execute_result",
          "data": {
            "text/plain": [
              "(7044, 2)"
            ]
          },
          "metadata": {},
          "execution_count": 93
        }
      ],
      "metadata": {
        "colab": {
          "base_uri": "https://localhost:8080/"
        },
        "id": "iTpUrqDMn5el",
        "outputId": "84583674-77ea-4426-f8e0-289da92c63fc"
      }
    },
    {
      "cell_type": "code",
      "execution_count": 94,
      "source": [
        "training.isnull().sum()"
      ],
      "outputs": [
        {
          "output_type": "execute_result",
          "data": {
            "text/plain": [
              "tweets    0\n",
              "labels    0\n",
              "dtype: int64"
            ]
          },
          "metadata": {},
          "execution_count": 94
        }
      ],
      "metadata": {
        "colab": {
          "base_uri": "https://localhost:8080/"
        },
        "id": "X3hhdTTsOMNm",
        "outputId": "5a2167ef-21ad-4557-934e-a5a5d792c4ef"
      }
    },
    {
      "cell_type": "code",
      "execution_count": 97,
      "source": [
        "# Function to train our Bert Model\n",
        "\n",
        "def bert_trainer(df, output_dir: str, epochs: int):\n",
        "    max_len = 280\n",
        "    if torch.cuda.is_available():\n",
        "        print(\"CUDA Active\")\n",
        "        device = torch.device(\"cuda\")\n",
        "    else:\n",
        "        print(\"CPU Active\")\n",
        "        device = torch.device(\"cpu\")\n",
        "    \n",
        "    sentences = df[\"tweets\"].values\n",
        "    labels = df[\"labels\"].values\n",
        "    tokenizer = BertTokenizer.from_pretrained(\n",
        "        'bert-base-uncased',\n",
        "        do_lower_case=True,\n",
        "    )\n",
        "    inputs = [\n",
        "        tokenizer.encode(sent, add_special_tokens=True) for sent in sentences\n",
        "    ]\n",
        "    inputs_ids = pad_sequences(\n",
        "        inputs,\n",
        "        maxlen=max_len,\n",
        "        dtype=\"long\",\n",
        "        value=0,\n",
        "        truncating=\"post\",\n",
        "        padding=\"post\",\n",
        "    )\n",
        "    attention_masks = [\n",
        "        [int(token_id != 0) for token_id in sent] for sent in inputs_ids\n",
        "    ]\n",
        "    train_inputs = torch.tensor(inputs_ids)\n",
        "    train_labels = torch.tensor(labels)\n",
        "    train_masks = torch.tensor(attention_masks)\n",
        "    batch_size = 32\n",
        "    train_data = TensorDataset(train_inputs, train_masks, train_labels)\n",
        "    train_sampler = RandomSampler(train_data)\n",
        "    train_dataloader = DataLoader(\n",
        "        train_data,\n",
        "        sampler=train_sampler,\n",
        "        batch_size=batch_size,\n",
        "    )\n",
        "    model = BertForSequenceClassification.from_pretrained(\n",
        "        'bert-base-uncased',\n",
        "        num_labels=6,       \n",
        "        output_attentions=False,\n",
        "        output_hidden_states=False,\n",
        "    )\n",
        "    if torch.cuda.is_available():\n",
        "        model.cuda()\n",
        "    optimizer = AdamW(model.parameters(), lr=2e-5, eps=1e-8)\n",
        "    total_steps = len(train_dataloader) * epochs\n",
        "    scheduler = get_linear_schedule_with_warmup(\n",
        "        optimizer,\n",
        "        num_warmup_steps=0,\n",
        "        num_training_steps=total_steps,\n",
        "    )\n",
        "    loss_values = []\n",
        "    print('\\nTraining...')\n",
        "    for epoch_i in range(1, epochs + 1):\n",
        "        print(f\"\\nEpoch: {epoch_i}\")\n",
        "        total_loss = 0\n",
        "        model.train()\n",
        "        for step, batch in enumerate(train_dataloader):\n",
        "            b_input_ids = batch[0].to(device)\n",
        "            b_input_mask = batch[1].to(device)\n",
        "            b_labels = batch[2].to(device)\n",
        "            model.zero_grad()\n",
        "            outputs = model(\n",
        "                b_input_ids,\n",
        "                token_type_ids=None,\n",
        "                attention_mask=b_input_mask,\n",
        "                labels=b_labels,\n",
        "            )\n",
        "            loss = outputs[0]\n",
        "            total_loss += loss.item()\n",
        "            loss.backward()\n",
        "            torch.nn.utils.clip_grad_norm_(model.parameters(), 1.0)\n",
        "            optimizer.step()\n",
        "            scheduler.step()\n",
        "\n",
        "        avg_train_loss = total_loss / len(train_dataloader)\n",
        "        loss_values.append(avg_train_loss)\n",
        "        print(f\"Average Loss: {avg_train_loss}\")\n",
        "\n",
        "    if not os.path.exists(output_dir):\n",
        "        os.makedirs(output_dir)\n",
        "    print(f\"\\nSaving model to {output_dir}\")\n",
        "    model_to_save = model.module if hasattr(model, 'module') else model\n",
        "    model_to_save.save_pretrained(output_dir)\n",
        "    tokenizer.save_pretrained(output_dir)\n",
        "    print(\"Finished!\")"
      ],
      "outputs": [],
      "metadata": {
        "id": "Zyc3Fz4DPXYA"
      }
    },
    {
      "cell_type": "code",
      "execution_count": 98,
      "source": [
        "bert_trainer(training, 'saved_model', epochs=50)"
      ],
      "outputs": [
        {
          "output_type": "stream",
          "name": "stdout",
          "text": [
            "CUDA Active\n"
          ]
        },
        {
          "output_type": "display_data",
          "data": {
            "text/plain": [
              "Downloading:   0%|          | 0.00/232k [00:00<?, ?B/s]"
            ],
            "application/vnd.jupyter.widget-view+json": {
              "model_id": "971fcdabcf6348ca9930db3114a6c593",
              "version_minor": 0,
              "version_major": 2
            }
          },
          "metadata": {}
        },
        {
          "output_type": "display_data",
          "data": {
            "text/plain": [
              "Downloading:   0%|          | 0.00/28.0 [00:00<?, ?B/s]"
            ],
            "application/vnd.jupyter.widget-view+json": {
              "model_id": "46e9269b55f74e298cb2be95cf78706b",
              "version_minor": 0,
              "version_major": 2
            }
          },
          "metadata": {}
        },
        {
          "output_type": "display_data",
          "data": {
            "text/plain": [
              "Downloading:   0%|          | 0.00/466k [00:00<?, ?B/s]"
            ],
            "application/vnd.jupyter.widget-view+json": {
              "model_id": "7d1d9838123f43458317259d0793beef",
              "version_minor": 0,
              "version_major": 2
            }
          },
          "metadata": {}
        },
        {
          "output_type": "display_data",
          "data": {
            "text/plain": [
              "Downloading:   0%|          | 0.00/570 [00:00<?, ?B/s]"
            ],
            "application/vnd.jupyter.widget-view+json": {
              "model_id": "0a166a7adc184863af190b826269d1f1",
              "version_minor": 0,
              "version_major": 2
            }
          },
          "metadata": {}
        },
        {
          "output_type": "stream",
          "name": "stderr",
          "text": [
            "Token indices sequence length is longer than the specified maximum sequence length for this model (1277 > 512). Running this sequence through the model will result in indexing errors\n"
          ]
        },
        {
          "output_type": "display_data",
          "data": {
            "text/plain": [
              "Downloading:   0%|          | 0.00/440M [00:00<?, ?B/s]"
            ],
            "application/vnd.jupyter.widget-view+json": {
              "model_id": "47e8943d82c24462a1b5218ea6352242",
              "version_minor": 0,
              "version_major": 2
            }
          },
          "metadata": {}
        },
        {
          "output_type": "stream",
          "name": "stderr",
          "text": [
            "Some weights of the model checkpoint at bert-base-uncased were not used when initializing BertForSequenceClassification: ['cls.seq_relationship.weight', 'cls.predictions.transform.dense.bias', 'cls.predictions.bias', 'cls.predictions.transform.LayerNorm.bias', 'cls.predictions.decoder.weight', 'cls.seq_relationship.bias', 'cls.predictions.transform.LayerNorm.weight', 'cls.predictions.transform.dense.weight']\n",
            "- This IS expected if you are initializing BertForSequenceClassification from the checkpoint of a model trained on another task or with another architecture (e.g. initializing a BertForSequenceClassification model from a BertForPreTraining model).\n",
            "- This IS NOT expected if you are initializing BertForSequenceClassification from the checkpoint of a model that you expect to be exactly identical (initializing a BertForSequenceClassification model from a BertForSequenceClassification model).\n",
            "Some weights of BertForSequenceClassification were not initialized from the model checkpoint at bert-base-uncased and are newly initialized: ['classifier.bias', 'classifier.weight']\n",
            "You should probably TRAIN this model on a down-stream task to be able to use it for predictions and inference.\n"
          ]
        },
        {
          "output_type": "stream",
          "name": "stdout",
          "text": [
            "\n",
            "Training...\n",
            "\n",
            "Epoch: 1\n",
            "Average Loss: 0.8819048952193281\n",
            "\n",
            "Epoch: 2\n",
            "Average Loss: 0.5197818285334703\n",
            "\n",
            "Epoch: 3\n",
            "Average Loss: 0.3711525308330674\n",
            "\n",
            "Epoch: 4\n",
            "Average Loss: 0.25002114530399916\n",
            "\n",
            "Epoch: 5\n",
            "Average Loss: 0.16262520673554137\n",
            "\n",
            "Epoch: 6\n",
            "Average Loss: 0.10550093605305275\n",
            "\n",
            "Epoch: 7\n",
            "Average Loss: 0.07142075603381136\n",
            "\n",
            "Epoch: 8\n",
            "Average Loss: 0.05346184546165843\n",
            "\n",
            "Epoch: 9\n",
            "Average Loss: 0.030741919818696697\n",
            "\n",
            "Epoch: 10\n",
            "Average Loss: 0.02578602363308049\n",
            "\n",
            "Epoch: 11\n",
            "Average Loss: 0.02519251356729437\n",
            "\n",
            "Epoch: 12\n",
            "Average Loss: 0.0178760988263801\n",
            "\n",
            "Epoch: 13\n",
            "Average Loss: 0.014417853614376495\n",
            "\n",
            "Epoch: 14\n",
            "Average Loss: 0.008686618963588341\n",
            "\n",
            "Epoch: 15\n",
            "Average Loss: 0.005958924011792988\n",
            "\n",
            "Epoch: 16\n",
            "Average Loss: 0.005398164744008485\n",
            "\n",
            "Epoch: 17\n",
            "Average Loss: 0.0035118444727779033\n",
            "\n",
            "Epoch: 18\n",
            "Average Loss: 0.007612011750171812\n",
            "\n",
            "Epoch: 19\n",
            "Average Loss: 0.004712712245631691\n",
            "\n",
            "Epoch: 20\n",
            "Average Loss: 0.006926332542898473\n",
            "\n",
            "Epoch: 21\n",
            "Average Loss: 0.004127557636425637\n",
            "\n",
            "Epoch: 22\n",
            "Average Loss: 0.004563344240531523\n",
            "\n",
            "Epoch: 23\n",
            "Average Loss: 0.0025362850790614224\n",
            "\n",
            "Epoch: 24\n",
            "Average Loss: 0.004765665498656975\n",
            "\n",
            "Epoch: 25\n",
            "Average Loss: 0.0036534875467639813\n",
            "\n",
            "Epoch: 26\n",
            "Average Loss: 0.0010715983191065751\n",
            "\n",
            "Epoch: 27\n",
            "Average Loss: 0.0011266404772905592\n",
            "\n",
            "Epoch: 28\n",
            "Average Loss: 0.0037316263828191397\n",
            "\n",
            "Epoch: 29\n",
            "Average Loss: 0.0015380993987425973\n",
            "\n",
            "Epoch: 30\n",
            "Average Loss: 0.003460791317547979\n",
            "\n",
            "Epoch: 31\n",
            "Average Loss: 0.00396178858730667\n",
            "\n",
            "Epoch: 32\n",
            "Average Loss: 0.0038947339300681233\n",
            "\n",
            "Epoch: 33\n",
            "Average Loss: 0.00030501239438703476\n",
            "\n",
            "Epoch: 34\n",
            "Average Loss: 0.0004691601217878725\n",
            "\n",
            "Epoch: 35\n",
            "Average Loss: 0.00015130157918966642\n",
            "\n",
            "Epoch: 36\n",
            "Average Loss: 0.0006218300484481285\n",
            "\n",
            "Epoch: 37\n",
            "Average Loss: 0.0009736375562898415\n",
            "\n",
            "Epoch: 38\n",
            "Average Loss: 0.0010718710506161726\n",
            "\n",
            "Epoch: 39\n",
            "Average Loss: 0.0013721829033138048\n",
            "\n",
            "Epoch: 40\n",
            "Average Loss: 4.5752091819146014e-05\n",
            "\n",
            "Epoch: 41\n",
            "Average Loss: 0.00019912451566864655\n",
            "\n",
            "Epoch: 42\n",
            "Average Loss: 9.367038434009464e-05\n",
            "\n",
            "Epoch: 43\n",
            "Average Loss: 4.419444541361792e-05\n",
            "\n",
            "Epoch: 44\n",
            "Average Loss: 2.8997628727484792e-05\n",
            "\n",
            "Epoch: 45\n",
            "Average Loss: 0.0008970325114419478\n",
            "\n",
            "Epoch: 46\n",
            "Average Loss: 0.0003235152774681105\n",
            "\n",
            "Epoch: 47\n",
            "Average Loss: 0.00111035849773354\n",
            "\n",
            "Epoch: 48\n",
            "Average Loss: 3.269142010498094e-05\n",
            "\n",
            "Epoch: 49\n",
            "Average Loss: 4.872920498493174e-05\n",
            "\n",
            "Epoch: 50\n",
            "Average Loss: 0.0001307048706987839\n",
            "\n",
            "Saving model to saved_model\n",
            "Finished!\n"
          ]
        }
      ],
      "metadata": {
        "colab": {
          "base_uri": "https://localhost:8080/",
          "height": 1000,
          "referenced_widgets": [
            "971fcdabcf6348ca9930db3114a6c593",
            "d8f954337103414e8204854db2743e9f",
            "53c1b4e297cd4eaaa4d6a13622ae2d2a",
            "503747a555114b51bcc46eb49c3cb3ac",
            "bebf394232b54405abc4d7974e6fd82b",
            "cd85cb5de4534e469048d34abba831aa",
            "c01423dfd60c4641a89cc5df2ab4f89f",
            "ab03d86f790f4d69acc8df5c06684866",
            "548d9dcbb61e4e5bbba189108368819d",
            "0480198f181143029ddf9cf921ff025d",
            "d52e458c14ef42939e6013fab5ab3930",
            "46e9269b55f74e298cb2be95cf78706b",
            "0c6f6825fc754e549b614b30db1127c1",
            "06ec50b84ad941f2821f4b5e2d739dfd",
            "f86e18f8d8d14b28827d1bf55bc83d2e",
            "3ca8d804c2b84340940ee6bc486e74ba",
            "b410f9cf365241d4a0b534e7f13f6ac1",
            "8e2bebd8bbc543ee993fc06d09b06d59",
            "d001b11acaa54b75bd65315e8bdb3ce5",
            "1eb2961dab2641c0b2af56a2cacef242",
            "06fd75c7da31480a90eafb030d3c63da",
            "3d87f6d6996a41298c59179ba866f154",
            "7d1d9838123f43458317259d0793beef",
            "217fce0f2a1a4364b166ecac2b88b8b4",
            "72575b2abe314c3c95493169a73af10b",
            "6c22f26d503740929b0cf5d720ea41b4",
            "1eec13610fcb4be081ec16f453ac2934",
            "3f38d7df0c354a998752fff7fd50b30e",
            "d489cbe2e1ea4effa37efc0ee36c7f19",
            "5cf8487284ce4c7bbf89c0a1d5ddddc3",
            "e4eb5139d60a4c078969d990c32b1762",
            "a7e1da4110714a008ab880668074c6ee",
            "5df72b6924aa4a4a86e293f7fc3029db",
            "0a166a7adc184863af190b826269d1f1",
            "4272fbbde3364407ad54d49456b718e2",
            "755dd09655a54d25a8f8c73ef7df0c64",
            "7c71ca10a72348859823d4c66b9e6b2b",
            "eae84a3cb1c94472a6eb138803565bfc",
            "ab986b2580d44cb18b273443798cac34",
            "0a01140c2fbe40a39cc434e097184c6f",
            "c77538ebc767449293a0818bec47f5e1",
            "bafdb9b78e07455282d517c76c1a388f",
            "49ad3b96090b4a78a739be780f782185",
            "10b6335ba98445bbbe4c6230ba8ff08e",
            "47e8943d82c24462a1b5218ea6352242",
            "0b569e975d9f4c95b3db86d81a09dab9",
            "a43572673be04f67a3a725f5c3b3fa95",
            "801af068e8c34e62a87a9b811e584d7f",
            "3bfdf413f74d44d49b44d4d4fe2bb154",
            "91a3c34d782a4624a652c93f43d36300",
            "778fe134f5534a0faa0dcb0fc93e67b9",
            "64ce51f1bd3740f48090abdaaf59d856",
            "e1561da019674384aee79b172196ae53",
            "406e6e5fca16444bb584b82dbec64d58",
            "db5620a3d2604ec9b9ce120ff70150d2"
          ]
        },
        "id": "p54RiHr6PdRJ",
        "outputId": "5098f8be-b6bf-46d3-e6d5-c6456fa37c03"
      }
    },
    {
      "cell_type": "code",
      "execution_count": 99,
      "source": [
        "import numpy as np\n",
        "import torch\n",
        "from transformers import BertTokenizer, BertForSequenceClassification\n",
        "\n",
        "\n",
        "class FrankenBert:\n",
        "    \"\"\"\n",
        "    Implements BertForSequenceClassification and BertTokenizer\n",
        "    for binary classification from a saved model\n",
        "    \"\"\"\n",
        "\n",
        "    def __init__(self, path: str):\n",
        "        \"\"\"\n",
        "        If there's a GPU available, tell PyTorch to use the GPU.\n",
        "        Loads model and tokenizer from saved model directory (path)\n",
        "        \"\"\"\n",
        "        if torch.cuda.is_available():\n",
        "            self.device = torch.device('cuda')\n",
        "        else:\n",
        "            self.device = torch.device('cpu')\n",
        "        self.model = BertForSequenceClassification.from_pretrained(path)\n",
        "        self.tokenizer = BertTokenizer.from_pretrained(path)\n",
        "        self.model.to(self.device)\n",
        "\n",
        "    def predict(self, text: str):\n",
        "        \"\"\"\n",
        "        Makes a binary classification prediction based on saved model\n",
        "        \"\"\"\n",
        "        inputs = self.tokenizer(\n",
        "            text,\n",
        "            padding=True,\n",
        "            truncation=True,\n",
        "            max_length=280,\n",
        "            return_tensors='pt',\n",
        "        ).to(self.device)\n",
        "        output = self.model(**inputs)\n",
        "        prediction = output[0].softmax(1)\n",
        "        tensors = prediction.detach().cpu().numpy()\n",
        "        result = np.argmax(tensors)\n",
        "        confidence = tensors[0][result]\n",
        "        return f\"Rank: {result}, {100 * confidence:.2f}%\""
      ],
      "outputs": [],
      "metadata": {
        "id": "D_JcX-N7Pjj1"
      }
    },
    {
      "cell_type": "code",
      "execution_count": 100,
      "source": [
        "model = FrankenBert('/content/saved_model')"
      ],
      "outputs": [],
      "metadata": {
        "id": "vh96dELZTQEO"
      }
    },
    {
      "cell_type": "markdown",
      "source": [
        "Before we get down to using the testcases, a few sanity tests done do verify accuracy."
      ],
      "metadata": {
        "id": "R-px9l8Pfmbd"
      }
    },
    {
      "cell_type": "code",
      "execution_count": 101,
      "source": [
        "model.predict(\"Mickey Mouse is in the house\")"
      ],
      "outputs": [
        {
          "output_type": "execute_result",
          "data": {
            "text/plain": [
              "'Rank: 0, 100.00%'"
            ],
            "application/vnd.google.colaboratory.intrinsic+json": {
              "type": "string"
            }
          },
          "metadata": {},
          "execution_count": 101
        }
      ],
      "metadata": {
        "colab": {
          "base_uri": "https://localhost:8080/",
          "height": 35
        },
        "id": "JVkrgcImxWxe",
        "outputId": "3a193bf0-8bce-4b99-e96b-436ca4c74de8"
      }
    },
    {
      "cell_type": "code",
      "execution_count": 102,
      "source": [
        "model.predict(\"People gathered to protest. Cops show up and are using batons to disperse the gathering.\")"
      ],
      "outputs": [
        {
          "output_type": "execute_result",
          "data": {
            "text/plain": [
              "'Rank: 3, 99.92%'"
            ],
            "application/vnd.google.colaboratory.intrinsic+json": {
              "type": "string"
            }
          },
          "metadata": {},
          "execution_count": 102
        }
      ],
      "metadata": {
        "colab": {
          "base_uri": "https://localhost:8080/",
          "height": 35
        },
        "id": "_n7_Vyc1xdvF",
        "outputId": "acfdaca9-81cc-41dd-88fc-c7a6c4eb13c5"
      }
    },
    {
      "cell_type": "code",
      "execution_count": 103,
      "source": [
        "model.predict('This is a ’nipper’ handcuff, late 19th century...designed to drag a prisoner using pain compliance. Stuff that Changed the World, today @ 3pm with myself &amp; @tomhappens on @NewstalkFM #History #Police https://t.co/e4mOxx5IX6')"
      ],
      "outputs": [
        {
          "output_type": "execute_result",
          "data": {
            "text/plain": [
              "'Rank: 0, 100.00%'"
            ],
            "application/vnd.google.colaboratory.intrinsic+json": {
              "type": "string"
            }
          },
          "metadata": {},
          "execution_count": 103
        }
      ],
      "metadata": {
        "colab": {
          "base_uri": "https://localhost:8080/",
          "height": 35
        },
        "id": "uMvUgdwQxlUD",
        "outputId": "d9df1ccf-8c8e-4d40-81be-e891d0b2bfc5"
      }
    },
    {
      "cell_type": "code",
      "execution_count": 104,
      "source": [
        "model.predict('Shortly after midnight on August 23rd, police disperse protesters on the sidewalk. Police can be seen shoving two individuals obeying police direction. Officers then confront members of the Wall of Moms (noted by yellow shirts) sitting on the grass and shove them. This protest occurred on residential streets near Normandale Park.')"
      ],
      "outputs": [
        {
          "output_type": "execute_result",
          "data": {
            "text/plain": [
              "'Rank: 2, 99.99%'"
            ],
            "application/vnd.google.colaboratory.intrinsic+json": {
              "type": "string"
            }
          },
          "metadata": {},
          "execution_count": 104
        }
      ],
      "metadata": {
        "colab": {
          "base_uri": "https://localhost:8080/",
          "height": 35
        },
        "id": "QSc762MxxzhQ",
        "outputId": "d4b25020-5939-4586-a233-ba445ae2f8be"
      }
    },
    {
      "cell_type": "code",
      "execution_count": 105,
      "source": [
        "model.predict('People gather at a mall to protest and cops fire rubber bullets on the crowd in an attempt to disperse them.')"
      ],
      "outputs": [
        {
          "output_type": "execute_result",
          "data": {
            "text/plain": [
              "'Rank: 4, 100.00%'"
            ],
            "application/vnd.google.colaboratory.intrinsic+json": {
              "type": "string"
            }
          },
          "metadata": {},
          "execution_count": 105
        }
      ],
      "metadata": {
        "colab": {
          "base_uri": "https://localhost:8080/",
          "height": 35
        },
        "id": "e9N-Y32ENeug",
        "outputId": "c6a97e13-553e-4dc6-842d-3306df27d6ba"
      }
    },
    {
      "cell_type": "markdown",
      "source": [
        "# PART 3 : Model Performance Evaluation\n"
      ],
      "metadata": {
        "id": "d_9v8POIf2Tu"
      }
    },
    {
      "cell_type": "code",
      "execution_count": 108,
      "source": [
        "# Using the test.csv to create a testing dataframe\n",
        "testing = pd.read_csv('/content/test.csv')"
      ],
      "outputs": [],
      "metadata": {
        "id": "QCO9l66mNvgU"
      }
    },
    {
      "cell_type": "code",
      "execution_count": 109,
      "source": [
        "#Checking shape of testing dataframe\n",
        "testing.shape"
      ],
      "outputs": [
        {
          "output_type": "execute_result",
          "data": {
            "text/plain": [
              "(1030, 4)"
            ]
          },
          "metadata": {},
          "execution_count": 109
        }
      ],
      "metadata": {
        "colab": {
          "base_uri": "https://localhost:8080/"
        },
        "id": "G_D2qj9xC1pm",
        "outputId": "aaacdaa0-843d-42ad-9bad-72888e33c78e"
      }
    },
    {
      "cell_type": "code",
      "execution_count": 115,
      "source": [
        "testing.head()"
      ],
      "outputs": [
        {
          "output_type": "execute_result",
          "data": {
            "text/plain": [
              "   Unnamed: 0    id                                             tweets  labels\n",
              "0        5000  4994  Video shows sound cannon deployed alongside AP...       4\n",
              "1        5001  4995  BRING THIS MAN BEFORE CONGRESS ASAP The Man Wh...       0\n",
              "2        5002  4996  Five people killed in London over Bank Holiday...       0\n",
              "3        5003  4997  AREA CHECK at 2800 NE 11TH AVE, PORT [Portland...       0\n",
              "4        5004  4998  On the occasion of PM #Narendramodi led NDA go...       0"
            ],
            "text/html": [
              "<div>\n",
              "<style scoped>\n",
              "    .dataframe tbody tr th:only-of-type {\n",
              "        vertical-align: middle;\n",
              "    }\n",
              "\n",
              "    .dataframe tbody tr th {\n",
              "        vertical-align: top;\n",
              "    }\n",
              "\n",
              "    .dataframe thead th {\n",
              "        text-align: right;\n",
              "    }\n",
              "</style>\n",
              "<table border=\"1\" class=\"dataframe\">\n",
              "  <thead>\n",
              "    <tr style=\"text-align: right;\">\n",
              "      <th></th>\n",
              "      <th>Unnamed: 0</th>\n",
              "      <th>id</th>\n",
              "      <th>tweets</th>\n",
              "      <th>labels</th>\n",
              "    </tr>\n",
              "  </thead>\n",
              "  <tbody>\n",
              "    <tr>\n",
              "      <th>0</th>\n",
              "      <td>5000</td>\n",
              "      <td>4994</td>\n",
              "      <td>Video shows sound cannon deployed alongside AP...</td>\n",
              "      <td>4</td>\n",
              "    </tr>\n",
              "    <tr>\n",
              "      <th>1</th>\n",
              "      <td>5001</td>\n",
              "      <td>4995</td>\n",
              "      <td>BRING THIS MAN BEFORE CONGRESS ASAP The Man Wh...</td>\n",
              "      <td>0</td>\n",
              "    </tr>\n",
              "    <tr>\n",
              "      <th>2</th>\n",
              "      <td>5002</td>\n",
              "      <td>4996</td>\n",
              "      <td>Five people killed in London over Bank Holiday...</td>\n",
              "      <td>0</td>\n",
              "    </tr>\n",
              "    <tr>\n",
              "      <th>3</th>\n",
              "      <td>5003</td>\n",
              "      <td>4997</td>\n",
              "      <td>AREA CHECK at 2800 NE 11TH AVE, PORT [Portland...</td>\n",
              "      <td>0</td>\n",
              "    </tr>\n",
              "    <tr>\n",
              "      <th>4</th>\n",
              "      <td>5004</td>\n",
              "      <td>4998</td>\n",
              "      <td>On the occasion of PM #Narendramodi led NDA go...</td>\n",
              "      <td>0</td>\n",
              "    </tr>\n",
              "  </tbody>\n",
              "</table>\n",
              "</div>"
            ]
          },
          "metadata": {},
          "execution_count": 115
        }
      ],
      "metadata": {
        "colab": {
          "base_uri": "https://localhost:8080/",
          "height": 203
        },
        "id": "3IdDumMGOVXd",
        "outputId": "8566c1ee-ade6-40e8-e979-2526e9309d7c"
      }
    },
    {
      "cell_type": "code",
      "execution_count": 116,
      "source": [
        "#Cleaning up testing dataframe\n",
        "testing.drop(columns=['Unnamed: 0','id'], axis = 1,inplace=True)\n",
        "testing.head()"
      ],
      "outputs": [
        {
          "output_type": "execute_result",
          "data": {
            "text/plain": [
              "                                              tweets  labels\n",
              "0  Video shows sound cannon deployed alongside AP...       4\n",
              "1  BRING THIS MAN BEFORE CONGRESS ASAP The Man Wh...       0\n",
              "2  Five people killed in London over Bank Holiday...       0\n",
              "3  AREA CHECK at 2800 NE 11TH AVE, PORT [Portland...       0\n",
              "4  On the occasion of PM #Narendramodi led NDA go...       0"
            ],
            "text/html": [
              "<div>\n",
              "<style scoped>\n",
              "    .dataframe tbody tr th:only-of-type {\n",
              "        vertical-align: middle;\n",
              "    }\n",
              "\n",
              "    .dataframe tbody tr th {\n",
              "        vertical-align: top;\n",
              "    }\n",
              "\n",
              "    .dataframe thead th {\n",
              "        text-align: right;\n",
              "    }\n",
              "</style>\n",
              "<table border=\"1\" class=\"dataframe\">\n",
              "  <thead>\n",
              "    <tr style=\"text-align: right;\">\n",
              "      <th></th>\n",
              "      <th>tweets</th>\n",
              "      <th>labels</th>\n",
              "    </tr>\n",
              "  </thead>\n",
              "  <tbody>\n",
              "    <tr>\n",
              "      <th>0</th>\n",
              "      <td>Video shows sound cannon deployed alongside AP...</td>\n",
              "      <td>4</td>\n",
              "    </tr>\n",
              "    <tr>\n",
              "      <th>1</th>\n",
              "      <td>BRING THIS MAN BEFORE CONGRESS ASAP The Man Wh...</td>\n",
              "      <td>0</td>\n",
              "    </tr>\n",
              "    <tr>\n",
              "      <th>2</th>\n",
              "      <td>Five people killed in London over Bank Holiday...</td>\n",
              "      <td>0</td>\n",
              "    </tr>\n",
              "    <tr>\n",
              "      <th>3</th>\n",
              "      <td>AREA CHECK at 2800 NE 11TH AVE, PORT [Portland...</td>\n",
              "      <td>0</td>\n",
              "    </tr>\n",
              "    <tr>\n",
              "      <th>4</th>\n",
              "      <td>On the occasion of PM #Narendramodi led NDA go...</td>\n",
              "      <td>0</td>\n",
              "    </tr>\n",
              "  </tbody>\n",
              "</table>\n",
              "</div>"
            ]
          },
          "metadata": {},
          "execution_count": 116
        }
      ],
      "metadata": {
        "colab": {
          "base_uri": "https://localhost:8080/",
          "height": 203
        },
        "id": "7klxEr-8OYaQ",
        "outputId": "470d8fdd-e2db-439c-f055-70a6afc6eaf4"
      }
    },
    {
      "cell_type": "code",
      "execution_count": 121,
      "source": [
        "testing.shape"
      ],
      "outputs": [
        {
          "output_type": "execute_result",
          "data": {
            "text/plain": [
              "(1030, 2)"
            ]
          },
          "metadata": {},
          "execution_count": 121
        }
      ],
      "metadata": {
        "colab": {
          "base_uri": "https://localhost:8080/"
        },
        "id": "E4fwd59eO7jg",
        "outputId": "04677fca-20f4-486a-f101-cb58aa0dc5be"
      }
    },
    {
      "cell_type": "code",
      "execution_count": 122,
      "source": [
        "testing.labels.value_counts()"
      ],
      "outputs": [
        {
          "output_type": "execute_result",
          "data": {
            "text/plain": [
              "0    446\n",
              "5    262\n",
              "1    218\n",
              "4     63\n",
              "2     26\n",
              "3     15\n",
              "Name: labels, dtype: int64"
            ]
          },
          "metadata": {},
          "execution_count": 122
        }
      ],
      "metadata": {
        "colab": {
          "base_uri": "https://localhost:8080/"
        },
        "id": "odTvSX11O6tQ",
        "outputId": "e2efe876-c7e3-4dc0-e26f-0cab2467d4ae"
      }
    },
    {
      "cell_type": "code",
      "execution_count": 123,
      "source": [
        "testing.isnull().sum()"
      ],
      "outputs": [
        {
          "output_type": "execute_result",
          "data": {
            "text/plain": [
              "tweets    0\n",
              "labels    0\n",
              "dtype: int64"
            ]
          },
          "metadata": {},
          "execution_count": 123
        }
      ],
      "metadata": {
        "colab": {
          "base_uri": "https://localhost:8080/"
        },
        "id": "R4GSGd0-PDRL",
        "outputId": "82f945d0-6a34-4e8c-ec53-eebe83bd805b"
      }
    },
    {
      "cell_type": "code",
      "execution_count": 127,
      "source": [
        "# Generating predictions using the model\n",
        "predictions = []\n",
        "for tweet in testing.tweets:\n",
        "    y_pred = model.predict(tweet)\n",
        "    predictions.append(y_pred)"
      ],
      "outputs": [],
      "metadata": {
        "id": "2UdaQBATEnjY"
      }
    },
    {
      "cell_type": "code",
      "execution_count": 128,
      "source": [
        "predictions[:10]"
      ],
      "outputs": [
        {
          "output_type": "execute_result",
          "data": {
            "text/plain": [
              "['Rank: 4, 100.00%',\n",
              " 'Rank: 0, 100.00%',\n",
              " 'Rank: 0, 100.00%',\n",
              " 'Rank: 0, 100.00%',\n",
              " 'Rank: 0, 100.00%',\n",
              " 'Rank: 2, 100.00%',\n",
              " 'Rank: 0, 100.00%',\n",
              " 'Rank: 0, 100.00%',\n",
              " 'Rank: 5, 100.00%',\n",
              " 'Rank: 1, 100.00%']"
            ]
          },
          "metadata": {},
          "execution_count": 128
        }
      ],
      "metadata": {
        "colab": {
          "base_uri": "https://localhost:8080/"
        },
        "id": "aF4RuLjPGfAt",
        "outputId": "3b129046-58a0-45f3-d8ce-46134835fdf1"
      }
    },
    {
      "cell_type": "code",
      "execution_count": 130,
      "source": [
        "#Adding the predictions to the testing table\n",
        "testing['predictions'] = predictions\n",
        "# Feature Extraction - Extracting only the rank from the prediction\n",
        "testing['pred_ranks'] = testing['predictions'].str.replace(r'[^\\w\\s]+', '')\n",
        "testing['pred_ranks'] = testing['pred_ranks'].str.replace('Rank','')\n",
        "testing['pred_ranks'] = testing['pred_ranks'].str[0:2]\n",
        "testing['pred_ranks'] = testing['pred_ranks'].astype(int)\n",
        "testing['pred_ranks']"
      ],
      "outputs": [],
      "metadata": {
        "id": "mAdw3diiLFCS"
      }
    },
    {
      "cell_type": "code",
      "execution_count": 132,
      "source": [
        "testing.head()"
      ],
      "outputs": [
        {
          "output_type": "execute_result",
          "data": {
            "text/plain": [
              "                                              tweets  ...  pred_ranks\n",
              "0  Video shows sound cannon deployed alongside AP...  ...           4\n",
              "1  BRING THIS MAN BEFORE CONGRESS ASAP The Man Wh...  ...           0\n",
              "2  Five people killed in London over Bank Holiday...  ...           0\n",
              "3  AREA CHECK at 2800 NE 11TH AVE, PORT [Portland...  ...           0\n",
              "4  On the occasion of PM #Narendramodi led NDA go...  ...           0\n",
              "\n",
              "[5 rows x 4 columns]"
            ],
            "text/html": [
              "<div>\n",
              "<style scoped>\n",
              "    .dataframe tbody tr th:only-of-type {\n",
              "        vertical-align: middle;\n",
              "    }\n",
              "\n",
              "    .dataframe tbody tr th {\n",
              "        vertical-align: top;\n",
              "    }\n",
              "\n",
              "    .dataframe thead th {\n",
              "        text-align: right;\n",
              "    }\n",
              "</style>\n",
              "<table border=\"1\" class=\"dataframe\">\n",
              "  <thead>\n",
              "    <tr style=\"text-align: right;\">\n",
              "      <th></th>\n",
              "      <th>tweets</th>\n",
              "      <th>labels</th>\n",
              "      <th>predictions</th>\n",
              "      <th>pred_ranks</th>\n",
              "    </tr>\n",
              "  </thead>\n",
              "  <tbody>\n",
              "    <tr>\n",
              "      <th>0</th>\n",
              "      <td>Video shows sound cannon deployed alongside AP...</td>\n",
              "      <td>4</td>\n",
              "      <td>Rank: 4, 100.00%</td>\n",
              "      <td>4</td>\n",
              "    </tr>\n",
              "    <tr>\n",
              "      <th>1</th>\n",
              "      <td>BRING THIS MAN BEFORE CONGRESS ASAP The Man Wh...</td>\n",
              "      <td>0</td>\n",
              "      <td>Rank: 0, 100.00%</td>\n",
              "      <td>0</td>\n",
              "    </tr>\n",
              "    <tr>\n",
              "      <th>2</th>\n",
              "      <td>Five people killed in London over Bank Holiday...</td>\n",
              "      <td>0</td>\n",
              "      <td>Rank: 0, 100.00%</td>\n",
              "      <td>0</td>\n",
              "    </tr>\n",
              "    <tr>\n",
              "      <th>3</th>\n",
              "      <td>AREA CHECK at 2800 NE 11TH AVE, PORT [Portland...</td>\n",
              "      <td>0</td>\n",
              "      <td>Rank: 0, 100.00%</td>\n",
              "      <td>0</td>\n",
              "    </tr>\n",
              "    <tr>\n",
              "      <th>4</th>\n",
              "      <td>On the occasion of PM #Narendramodi led NDA go...</td>\n",
              "      <td>0</td>\n",
              "      <td>Rank: 0, 100.00%</td>\n",
              "      <td>0</td>\n",
              "    </tr>\n",
              "  </tbody>\n",
              "</table>\n",
              "</div>"
            ]
          },
          "metadata": {},
          "execution_count": 132
        }
      ],
      "metadata": {
        "colab": {
          "base_uri": "https://localhost:8080/",
          "height": 203
        },
        "id": "gJF943RqRPzo",
        "outputId": "0295d263-f5cb-4c8f-d1a8-0995ee6ca05f"
      }
    },
    {
      "cell_type": "markdown",
      "source": [
        " **Evaluation Metrics:**\n",
        " - F1 Score (using sklear and pytorch metrics libraries)\n",
        " - Accuracy (using pytorch metrics libraries)\n",
        " - Classification Report\n",
        " - Confusion Matrix\n"
      ],
      "metadata": {
        "id": "s8a6Ywec2Hht"
      }
    },
    {
      "cell_type": "code",
      "execution_count": 133,
      "source": [
        "#Preparing our true values and predicted values\n",
        "y_true = testing['labels']\n",
        "y_pred = testing['pred_ranks']"
      ],
      "outputs": [],
      "metadata": {
        "id": "kAsKzeCKUGyJ"
      }
    },
    {
      "cell_type": "code",
      "execution_count": 134,
      "source": [
        "#Using sklearn metrics library\n",
        "f1_score(y_true, y_pred, average='weighted')"
      ],
      "outputs": [
        {
          "output_type": "execute_result",
          "data": {
            "text/plain": [
              "0.9523305208579683"
            ]
          },
          "metadata": {},
          "execution_count": 134
        }
      ],
      "metadata": {
        "colab": {
          "base_uri": "https://localhost:8080/"
        },
        "id": "C3BPOB_LT61b",
        "outputId": "5e35fcda-bef2-49a4-f839-34ec126d8455"
      }
    },
    {
      "cell_type": "code",
      "execution_count": 141,
      "source": [
        "#Using Pytorch metrics library\n",
        "\n",
        "from torchmetrics import F1\n",
        "\n",
        "y_pred = torch.tensor(testing['pred_ranks'].to_list()) \n",
        "y_true = torch.tensor(testing['labels'].to_list())\n",
        "f1 = F1(num_classes=6)\n",
        "f1(y_pred, y_true)\n"
      ],
      "outputs": [
        {
          "output_type": "execute_result",
          "data": {
            "text/plain": [
              "tensor(0.9524)"
            ]
          },
          "metadata": {},
          "execution_count": 141
        }
      ],
      "metadata": {
        "colab": {
          "base_uri": "https://localhost:8080/"
        },
        "id": "XcW48A0ig5BS",
        "outputId": "fa348d7c-e196-4c42-d3e9-5a3225a71065"
      }
    },
    {
      "cell_type": "code",
      "execution_count": 140,
      "source": [
        "#Model Accuracy using Pytorch\n",
        "\n",
        "metric = Accuracy()\n",
        "y_pred = torch.tensor(testing['pred_ranks'].to_list()) \n",
        "y_true = torch.tensor(testing['labels'].to_list())\n",
        "\n",
        "acc = metric(y_pred, y_true)\n",
        "acc\n"
      ],
      "outputs": [
        {
          "output_type": "execute_result",
          "data": {
            "text/plain": [
              "tensor(0.9524)"
            ]
          },
          "metadata": {},
          "execution_count": 140
        }
      ],
      "metadata": {
        "colab": {
          "base_uri": "https://localhost:8080/"
        },
        "id": "Lj8rY_OBNRFN",
        "outputId": "ddd09f54-a576-4357-8d47-b110e8599092"
      }
    },
    {
      "cell_type": "code",
      "execution_count": 142,
      "source": [
        "# Classification Report\n",
        "\n",
        "target_names = ['class 0', 'class 1', 'class 2', 'class 3', 'class 4', 'class 5']\n",
        "report = classification_report(y_true, y_pred, target_names=target_names)\n",
        "print(report)"
      ],
      "outputs": [
        {
          "output_type": "stream",
          "name": "stdout",
          "text": [
            "              precision    recall  f1-score   support\n",
            "\n",
            "     class 0       0.98      0.98      0.98       446\n",
            "     class 1       0.94      0.91      0.92       218\n",
            "     class 2       0.92      0.85      0.88        26\n",
            "     class 3       0.82      0.93      0.87        15\n",
            "     class 4       0.94      0.92      0.93        63\n",
            "     class 5       0.93      0.96      0.95       262\n",
            "\n",
            "    accuracy                           0.95      1030\n",
            "   macro avg       0.92      0.92      0.92      1030\n",
            "weighted avg       0.95      0.95      0.95      1030\n",
            "\n"
          ]
        }
      ],
      "metadata": {
        "colab": {
          "base_uri": "https://localhost:8080/"
        },
        "id": "nJzAdtyNSr6Q",
        "outputId": "486b2c59-8d48-4cf8-bc33-223f9f11f111"
      }
    },
    {
      "cell_type": "code",
      "execution_count": 150,
      "source": [
        "# Classification Report for HeatMap generation\n",
        "\n",
        "target_names = ['class 0', 'class 1', 'class 2', 'class 3', 'class 4', 'class 5']\n",
        "report = classification_report(y_true, y_pred, target_names=target_names, output_dict=True)\n",
        "# .iloc[:-1, :] to exclude support\n",
        "sns.heatmap(pd.DataFrame(report).iloc[:-1, :].T, annot=True)"
      ],
      "outputs": [
        {
          "output_type": "execute_result",
          "data": {
            "text/plain": [
              "<matplotlib.axes._subplots.AxesSubplot at 0x7f17b4e11c90>"
            ]
          },
          "metadata": {},
          "execution_count": 150
        },
        {
          "output_type": "display_data",
          "data": {
            "text/plain": [
              "<Figure size 432x288 with 2 Axes>"
            ],
            "image/png": "[encoded data removed]"
          },
          "metadata": {
            "needs_background": "light"
          }
        }
      ],
      "metadata": {
        "colab": {
          "base_uri": "https://localhost:8080/",
          "height": 284
        },
        "id": "jDu2271pUR7E",
        "outputId": "59317fef-9dd9-4852-eb5f-b7b3e48e1589"
      }
    },
    {
      "cell_type": "code",
      "execution_count": 137,
      "source": [
        "# Confusion Matrix\n",
        "cm = confusion_matrix(y_true, y_pred)\n",
        "ax= plt.subplot()\n",
        "sns.heatmap(cm, annot=True, fmt='g', ax=ax);\n",
        "ax.set_xlabel('Predicted labels');ax.set_ylabel('True labels'); \n",
        "ax.set_title('Confusion Matrix'); \n",
        "ax.xaxis.set_ticklabels(['Rank0', 'Rank1','Rank2','Rank3','Rank4','Rank5']); ax.yaxis.set_ticklabels(['Rank0', 'Rank1','Rank2','Rank3','Rank4','Rank5']);"
      ],
      "outputs": [
        {
          "output_type": "display_data",
          "data": {
            "text/plain": [
              "<Figure size 432x288 with 2 Axes>"
            ],
            "image/png": "[encoded data removed]"
          },
          "metadata": {
            "needs_background": "light"
          }
        }
      ],
      "metadata": {
        "colab": {
          "base_uri": "https://localhost:8080/",
          "height": 295
        },
        "id": "o0CuklnJdeCo",
        "outputId": "c781f906-0db5-4d6d-be2a-5aa71199b39e"
      }
    },
    {
      "cell_type": "code",
      "execution_count": null,
      "source": [],
      "outputs": [],
      "metadata": {
        "id": "WjQrAfYbpA9g"
      }
    }
  ]
}