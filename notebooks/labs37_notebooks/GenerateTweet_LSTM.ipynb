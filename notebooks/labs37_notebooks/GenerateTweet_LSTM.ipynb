{
  "nbformat": 4,
  "nbformat_minor": 0,
  "metadata": {
    "colab": {
      "name": "GenerateTweet-LSTM.ipynb",
      "provenance": []
    },
    "kernelspec": {
      "name": "python3",
      "display_name": "Python 3"
    },
    "language_info": {
      "name": "python"
    }
  },
  "cells": [
    {
      "cell_type": "code",
      "metadata": {
        "id": "46uc-eAUt2Uc"
      },
      "source": [
        "%tensorflow_version 2.x\n",
        "import tensorflow as tf\n",
        "import string\n",
        "import requests\n",
        "import pandas as pd"
      ],
      "execution_count": 1,
      "outputs": []
    },
    {
      "cell_type": "code",
      "metadata": {
        "colab": {
          "base_uri": "https://localhost:8080/",
          "height": 417
        },
        "id": "9HprULMPuNCP",
        "outputId": "515e7d8b-0f63-49b0-be5a-7b5cf936740e"
      },
      "source": [
        "df = pd.read_csv('/content/training_labels2and3.csv')\n",
        "df"
      ],
      "execution_count": 2,
      "outputs": [
        {
          "output_type": "execute_result",
          "data": {
            "text/html": [
              "<div>\n",
              "<style scoped>\n",
              "    .dataframe tbody tr th:only-of-type {\n",
              "        vertical-align: middle;\n",
              "    }\n",
              "\n",
              "    .dataframe tbody tr th {\n",
              "        vertical-align: top;\n",
              "    }\n",
              "\n",
              "    .dataframe thead th {\n",
              "        text-align: right;\n",
              "    }\n",
              "</style>\n",
              "<table border=\"1\" class=\"dataframe\">\n",
              "  <thead>\n",
              "    <tr style=\"text-align: right;\">\n",
              "      <th></th>\n",
              "      <th>Unnamed: 0</th>\n",
              "      <th>id</th>\n",
              "      <th>tweets</th>\n",
              "      <th>labels</th>\n",
              "    </tr>\n",
              "  </thead>\n",
              "  <tbody>\n",
              "    <tr>\n",
              "      <th>0</th>\n",
              "      <td>0</td>\n",
              "      <td>123</td>\n",
              "      <td>UPDATE: Vacaville Police K9 Punched in the Fac...</td>\n",
              "      <td>2</td>\n",
              "    </tr>\n",
              "    <tr>\n",
              "      <th>1</th>\n",
              "      <td>1</td>\n",
              "      <td>134</td>\n",
              "      <td>New York police department,made in Israel!! Wa...</td>\n",
              "      <td>2</td>\n",
              "    </tr>\n",
              "    <tr>\n",
              "      <th>2</th>\n",
              "      <td>2</td>\n",
              "      <td>177</td>\n",
              "      <td>Bank holiday brawl between police and pub punt...</td>\n",
              "      <td>2</td>\n",
              "    </tr>\n",
              "    <tr>\n",
              "      <th>3</th>\n",
              "      <td>3</td>\n",
              "      <td>186</td>\n",
              "      <td>@PublicFreakout_ That’s attempted murder. Thre...</td>\n",
              "      <td>3</td>\n",
              "    </tr>\n",
              "    <tr>\n",
              "      <th>4</th>\n",
              "      <td>4</td>\n",
              "      <td>189</td>\n",
              "      <td>5 Bangladeshi nationals arrested in Bengaluru ...</td>\n",
              "      <td>2</td>\n",
              "    </tr>\n",
              "    <tr>\n",
              "      <th>...</th>\n",
              "      <td>...</td>\n",
              "      <td>...</td>\n",
              "      <td>...</td>\n",
              "      <td>...</td>\n",
              "    </tr>\n",
              "    <tr>\n",
              "      <th>314</th>\n",
              "      <td>314</td>\n",
              "      <td>6134</td>\n",
              "      <td>#SriLankan #Police arresting two old ladies at...</td>\n",
              "      <td>2</td>\n",
              "    </tr>\n",
              "    <tr>\n",
              "      <th>315</th>\n",
              "      <td>315</td>\n",
              "      <td>6135</td>\n",
              "      <td>The NYPD brutalized members of the community t...</td>\n",
              "      <td>2</td>\n",
              "    </tr>\n",
              "    <tr>\n",
              "      <th>316</th>\n",
              "      <td>316</td>\n",
              "      <td>6136</td>\n",
              "      <td>Police manhandle university professor during h...</td>\n",
              "      <td>2</td>\n",
              "    </tr>\n",
              "    <tr>\n",
              "      <th>317</th>\n",
              "      <td>317</td>\n",
              "      <td>6137</td>\n",
              "      <td>Police showed up and put this guy in a headlock</td>\n",
              "      <td>2</td>\n",
              "    </tr>\n",
              "    <tr>\n",
              "      <th>318</th>\n",
              "      <td>318</td>\n",
              "      <td>6138</td>\n",
              "      <td>Guy was getting agressive and police hit him w...</td>\n",
              "      <td>3</td>\n",
              "    </tr>\n",
              "  </tbody>\n",
              "</table>\n",
              "<p>319 rows × 4 columns</p>\n",
              "</div>"
            ],
            "text/plain": [
              "     Unnamed: 0  ...  labels\n",
              "0             0  ...       2\n",
              "1             1  ...       2\n",
              "2             2  ...       2\n",
              "3             3  ...       3\n",
              "4             4  ...       2\n",
              "..          ...  ...     ...\n",
              "314         314  ...       2\n",
              "315         315  ...       2\n",
              "316         316  ...       2\n",
              "317         317  ...       2\n",
              "318         318  ...       3\n",
              "\n",
              "[319 rows x 4 columns]"
            ]
          },
          "metadata": {
            "tags": []
          },
          "execution_count": 2
        }
      ]
    },
    {
      "cell_type": "code",
      "metadata": {
        "colab": {
          "base_uri": "https://localhost:8080/",
          "height": 52
        },
        "id": "_Q-1MSa1un8u",
        "outputId": "fc85b697-cb35-4d6a-9079-084eeb93386d"
      },
      "source": [
        "data = df['tweets']\n",
        "data[0]"
      ],
      "execution_count": 3,
      "outputs": [
        {
          "output_type": "execute_result",
          "data": {
            "application/vnd.google.colaboratory.intrinsic+json": {
              "type": "string"
            },
            "text/plain": [
              "'UPDATE: Vacaville Police K9 Punched in the Face by Officer: Isolated Incident or Collective Canine Crisis? https://t.co/KsP2a1uvip'"
            ]
          },
          "metadata": {
            "tags": []
          },
          "execution_count": 3
        }
      ]
    },
    {
      "cell_type": "code",
      "metadata": {
        "colab": {
          "base_uri": "https://localhost:8080/",
          "height": 170
        },
        "id": "3hVzx_K1vdZS",
        "outputId": "f74a49b3-71c0-462b-adc4-21a119202d1f"
      },
      "source": [
        "data = \" \".join(data)\n",
        "data"
      ],
      "execution_count": 4,
      "outputs": [
        {
          "output_type": "execute_result",
          "data": {
            "application/vnd.google.colaboratory.intrinsic+json": {
              "type": "string"
            },
            "text/plain": [
              "'UPDATE: Vacaville Police K9 Punched in the Face by Officer: Isolated Incident or Collective Canine Crisis? https://t.co/KsP2a1uvip New York police department,made in Israel!! Watch as officers of the NYPD brutally attack Palestinian supporters during a peacful march. #ethniccleansing #Palestine #SaveSheikhJarrah #SaveSilwan #FreePalestine 🇵🇸 #USA #nypd #Brutality #Israel #terrorism https://t.co/5ldIyunHvH Bank holiday brawl between police and pub punters goes viral https://t.co/MLQQ9gx0k8 @PublicFreakout_ That’s attempted murder. Three Police officers. ...smashing and kneeing the person’s head. Police brutality. Fxxcking disgusting 5 Bangladeshi nationals arrested in Bengaluru BY Bengaluru police for raping, assaulting woman. #WeWantNRC Gm39 4 volunteers with Black Protest Legal Support were arrested by the Met during the #KillTheBill protests in the Spring.The arrests were challenged by Liberty,as being a breach of the legal right to independently monitor police conduct at protests.The Met has now dropped charges https://t.co/WBSFyl0g7C During the an anti-ICE protest in NYC, protesters waited on the sidewalk during a red light. After the light turned green and the crosswalk was lit up, a protester began to cross the street before the rest of the march. Police charged the protester, allegedly a minor, and tackled them to the ground, arresting them. Police then pushed other protesters away. A protester steps off the sidewalk and an officer approaches, shouting, \"Move.\" The protester immediately steps back on the sidewalk. The officer then shoves the protester. City of Grand Rapids Police Department officers seen pushing, pulling, and shoving peaceful protesters, as they circle around an officer arresting a man. The arresting officer appears to force the man to his knees before the other officers finish encircling and view of the man is lost. Two different women, each in different videos, are shown falling or fallen over as a result of the shoving and pulling. A journalist is filming and asking the police why protesters are being arrested. The police tackle him and he states loudly, \"I’m with the press\" multiple times. The video ends with an officer confiscating his press badge and bag. Another officer off camera is heard saying to the journalist, \"Shh, you’ve been no help here\". The news article video has more context, the reddit video only shows the arrest. The protest began on Route 13 near the Delaware State Capitol before moving to an area near a WAWA in Camden, Delaware, where police and protesters clashed. First-person footage from a journalist shows him shouting, \"I’m press, I’m press,\" while police pepper-spray him and others indiscriminately. He states that shortly after this footage, he bumped into an officer and was shoved to the ground. Reddit link shows scuffle was instigated after a protester beat a lacross stick against his own homemade shield like a drum and an officer went to stop him. This protest occurred near the J.E.B. Stuart statue on Monument Avenue. Kalimah returned to her residence to investigate the sound of an alarm. Officer Joyce VanDertuin had already responded. Kalimah opened the backdoor of the residence. The door struck Officer VanDertuin’s .40-caliber Glock pistol, which she shot once. The bullet struck Kalimah fatally in the chest. McKinney Police Department raised funds for Kalimah’s children because they lost their mother. The most up-to-date reporting available showed that Officer McKinney continued to work at MPD, in spite of the objections of Kalimah’s husband Jeemil. The Police try to break up the peaceful protest by resorting to hitting individuals with batons. Footage taken by an off-duty journalist (at the protest to film but not on a mandate from their employer) at 137 Fourth Avenue in Manhattan shows a fire on a sidewalk. Police clear the area around the fire, then begin indiscriminately striking the filmer and protesters with batons. Another individual struck by police can be seen holding a camera and is heard stating he is press. Footage shows police charging across the street (N Lombard and N Denver) at a protester who begins jogging away. Police tackle the protester to arrest them and can be seen repeatedly punching the protester to subdue them. In what appears to be the early AM of June 6th, police walk protesters backwards across the park. Footage shows that straggling protesters are met with pushing, shoving and beatings with batons. Mildred and Gilbert Tuepker were held hostage at their home in Edmond by Douglas Eugene Gray and William Dale Davis who broke out of Mack Alford Correctional Center in Stringtown, where they were serving time for murder. They escaped by hiding in a mail cart that was loaded onto a pickup and hauled to the Stringtown post office. After a police standoff, Davis was found dead of an allegedly self-inflicted gunshot. Shortly after midnight on August 23rd, police disperse protesters on the sidewalk. Police can be seen shoving two individuals obeying police direction. Officers then confront members of the Wall of Moms (noted by yellow shirts) sitting on the grass and shove them. This protest occurred on residential streets near Normandale Park. According to the Colorado Highway Patrol, Archuleta fled the scene of a hit-and-run in northwest Westminster Colorado for unknown reasons. After speeding eastbound on US Hwy 36, she attempted to exit to northbound I-25, hit the guardrail, rolled her vehicle and died at the scene of the crash. Little is known of this death, According to Arrest-Related Deaths data, Robert J. Beck was pulled over by a trooper for a seat belt violation, and he stabbed himself to death. After attempting to arrest a protester near 15th and Glisan, an officer is seen walking through protesters. One protester steps in the officer’s path; the officer shoves the protester to the ground. At a protest in Seattle, police on bicycles shoved protesters walking away from them. Protesters were complying with direction to \"move back.\" Police charged and shoved protesters. Making multiple arrests. Police additionally fired impact munitions, believed to be pepper balls, into the crowd. Police also used mace to subdue the crowd. An independent journalist, Alissa Azar, was shot in the back of the neck. Prior to this incident, protesters allegedly damaged the windows of a Starbucks at East Olive Way. Footage is short, but it shows protesters chanting near police, asking why another protester is being arrested. A protester with a megaphone approaches an officer. He is shouting. Without warning police charge protesters. They slam one protester against a car, throw him on the ground and kneel on him to make an arrest. Pepper spray can be heard in the audio. While charging protesters near the Justic Center, police deploy pepper spray, then grab a protester around the waist and slam him to the ground in order to make an arrest. As a reporter tries to let the police pass by him, they pin him to the wall with a shield and an officer hits his knee with a baton. Justin Jones, a prominent activist in Nashville, states that protesters were arrested around 6:30 AM on June 29th and charged with \"camping on state property.\" Protesters had no intention of camping. He also shows footage of extremely tight zip-ties, stating that an arrestee has suffered ongoing numbness in their hands since release. At a protest near Pike Place Market, Seattle police pushed protesters down the street, shouting \"Move back.\" As protesters spread out, police snatched several for arrest. When protesters attempted to intervene, police shoved and pepper-sprayed them. Footage taken at West and Rector Streets in Manhattan shows a protester in the road with a bike. An officer attempts to take it, but the protester holds on. The officer then uses his baton to press against the protester’s neck before striking the protester in the legs. Other officers join to separate the protester from their bike. Local police observed a suspect hit his girlfriend in a Walgreens parking lot. Giving chase, the suspect lit out and started a two-minute, 100 MPH chase south on Reading Road that ended with a crash with Trapp’s car. Trapp was thrown from her vehicle and died at the scene. One of seven chase fatalities in the Cincinnati area within a four-month period. After a protester is pepper sprayed, other protesters gather around the protester while a medic treats them. The filmer is struck repeatedly by an officer with a baton and shoved to the ground, apparently injuring his knee. According to a news brief, officers arrested Powell around 9 a.m. in response to a report that he had been behaving erratically and breaking windows. Paramedics who responded learned that Powell had no pulse, then transported Powell to Doctor’s Hospital - Parkway, where he was pronounced dead. A freelance journalist on assignment with the Washington Post to cover protests in Atlanta was detained by police and zip tied on May 31st. His detention was captured live by CBS46. He did not have a physical press pass and police did not allow him to display his digital pass. After examining his business cards, which state he is a journalist, police released him, returning his phone and pen. Images posted by news outlets around the 9 PM for which this journalist was arrested place the protest in the vicinity of Centennial Olympic Park in Downtown Atlanta. Footage shows police approaching an individual outside the Penumbra Kelly building and arresting them. No justification is apparent. The individual is believed to be a reporter for the Daily Mail. The journalist recovered his gear from the precinct several days later, to find much of it had been rendered unusable. Footage from a pair of dueling protests in Beverly Hills shows police slashing at protesters with batons. Samuel Edwards was riding in a bike lane at about 11:30 p.m. when police said he cut in front of a sergeant’s car and was hit. Police said the sergeant could not avoid hitting Edwards. A neighbor said she saw Edwards on the ground with his bike, an old 10-speed with a baby seat on the back. The police car’s front bumper and hood were dented, she said. \"It looked like maybe he had hit a tree.\" Detective Scott Carpenter said he fired his rifle three times into Gregory’s 1994 Nissan Altima when it appeared about to run down another officer. That officer, detective Mike Hanafin, said he ran in front of the Altima to get away from Carpenter’s rifle, which was pointed in his direction. Carpenter shot immediately before or after the Altima broke free and drove over a median, according to officers’ statements. The car slowed then suddenly accelerated, \"like a slingshot,\" through a Mobil gas station into the intersection where it collided with three vehicles. One of Carpenter’s .223-caliber bullets hit Gregory in the head. Another hit the car. The third went over the Altima into a parked car. He was handcuffed behind his back and the police claimed he had a box cutter, so they felt that he was threatening their lives. A woman is walking on the sidewalk with a peaceful protest near the China Institute. Officers walk beside her. She turns to see them and an officer strikes her in the face. Other officers then pull her from the protest and surround her to make an arrest. At a protest in NYC, protesters are seen standing on the sidewalk. Police charge without warning, grabbing several protesters. The protesters passively resist by falling to the ground. This devolves into a scuffle between protesters and police, much of which is obfuscated by additional officers forming a line around the incident. Police arrest and zip-tie two protesters, one of whom is a minor. In another video, the minor alleges they were punched by police. Violent arrests made by MPD during an Election day protest at Black Lives Matter plaza. Somalian journalist Fardowso Mohamud Sahal was assaulted by police officers while she was covering protest by mothers of sons sent to military training reports @pressfreedom: https://t.co/5DJhCpNPXj #IFEXgender @IWMF @sjs_Somalia @womeninmedia Springfield police charge protesters in the street near 68th and Glacier, striking protesters with batons and shoving them with both their hands and metal barricades. One protester is dragged by the foot out of the crowd for arrest. One officer attempts to handcuff the protester while another officer continues dragging the protester. The officers then roll the protester on his stomach; one officer strikes him in the neck as he does so. A filmer and a journalist allege a taser was used. The alleged use of the taser can be heard [here at 0:06](https://twitter.com/mgbelka/status/1288685746476310530) During the second day of protests at Echo park, police brandished riot control firearms at protesters at close range. One officer fired rubber bullets at protesters. In addition, a photographer for AP uploaded images of alleged wounds sustained at the protest. And the arrested man probably has the cheek to now sue the police over the dog attacking him.... Footage shows a woman tackled by multiple officers and thrown into bushes before an officer kneels on her to make an arrest. Another protester is arrested in the background. As reporter is backing away, police yell at him to go him. Another officer is heard saying, \"Fuck him,\" before arresting the reporter. Members of the Unified Command (Multnomah County Sheriff’s Office, Portland Police Bureau and Oregon State Police) pushed protesters back (on the 600 block of SW Alder St). One officer strikes a protester repeatedly with their baton. That protester was later arrested. At an anti-ICE protest in the Portland Pearl District, several police officers on bicycles rode up to a clearly labeled photographer standing in the street at 12th Ave and Pettygrove st. The officers pushed the photographer before one officer punches him. Police arrived in a truck and both smashed and stole milk and water that protesters were freely distributing. When questioned about this, Mayor Fischer initially said that LMPD had found flammable liquids and chemicals among the materials. This was later walked back. To those coming to #Devon and #Cornwall this #halfterm - please respect us locals, we have the right to park outside our homes without being verbally and physically abused. @DC_Police, is spitting in someone’s direction while being verbally and physically aggressive an offence? First-person footage from a journalist shows a police officer shoving, threatening and harassing a journalist. Allegedly the officer began harassing the journalist, calling him a \"smartass,\" after the journalist displayed his press badge. Oliver had two outstanding warrants for writing bad checks. When he was pulled over for running a red light, he bolted on foot and into nearby residential backyards, jumping fences. The police narrative was that during a physical struggle Oliver tried to get ahold of the officer’s gun, and he was fatally shot two or three times. A protesters carrying a flag is seen yelling at federal officers. One officer repeatedly shoves him into a fence, while others shoot pepper balls at him. During a standoff around a statue of Andrew Jackson, footage shows multiple officers attempt to arrest a protester. The man appears to be passively resisting (e.g. locking his arms). Police respond by beating him with batons and kneeling on him. At one point, the man states he cannot breathe. Police do not acknowledge this. After police charge the protester shield line near Peninsula Park, an officer stomps on a protester trapped under their shield. Protesters on foot and in vehicles blocked I-5 near exit 168 for a short time. Police arrested 9 marchers, including one individual dragged from his car. A passenger in the car asked an officer why the driver was arrested. The officer refused to answer at that time, telling the filmer to come back later. Police give conflicting orders to press attempting to film an arrest near the north precinct. Police repeatedly shove members of the press, throwing one to the ground. Footage shows an individual, believed by the filmer to be an observer watching protests, walking down a street near 12th and Pine in front of several officers on bicycles. The officers dismount and arrest the individual for unclear reason. Two officers pin the individual against a concrete wall. At 0:21 in the video, the officers pull the individual back and slam their head into the wall. A livestreamer uploaded first person footage from July 27th, taken near 3rd and Salmon. He is sitting on the ground some distance from protesters when less lethal shots are fired. One strikes the filmer in the hand. He states that his hand is okay. Metro police grapple with counter-protesters at a WalkAway rally. Several Black Lives Matter protesters are pushed, tackled and arrested. It is unclear how the altercation began. 🇵🇸#Palestine||14years old Palestinian child Mohammad Hajj Yahya from Al Tayybeh town in1948-occupied Palestinian territories,he was detained and brutally beaten by Israeli occupation police during the larg Israeli detention campaign against Palestiniansin the occupied territories https://t.co/dnJh9GuL4L Onaka was the driver of a car that was being pursued by police when it crashed and burned in Mililani. He was wanted by federal authorities for violating terms of his supervised release. After finding a retired couple, Frederick Gobillot, 69, and Jeanne Gobillot, 67, dead in their split-level ranch, the police shot and killed their son, Steven Gobillot, during a fight with officers at the scene. Their bodies were found by Raritan Township police officers after a phone call reported a double homicide. Police pulled over a car with four home-invasion suspects inside. Three of the four got out, but the third tried to drive off while simultaneously reaching for a gun. He was shot and killed. Ofiara walked into Klein’s Pharmacy with an assault rifle, took hostages and demanded a bottle of the painkiller Vicodin. When his hostages were freed, Ofiara shot himself. Footage taken at E 136th St and Brook Ave in the Bronx shows police pointing out and attempting to apprehend protest organizer Shannon Jones. She retreats onto the sidewalk and the crowd of protesters protects her. Police then charge into the crowd. A white-shirted officer isolates Shannon, chokes, grabs, and shoves her. When another protester intervenes, the officer punches him and shoves him away. Jones is then arrested. In footage provided by a prominent Nashville activist, state troopers drag protesters down the steps of the Capitol building. Many troopers can be seen kneeling on protesters, both on the flat pavement and on the steps. Police responded to an east side Sunoco gas station at about 5:30 a.m. after a clerk reported a man was insisting that he needed to \"hide\" behind the counter and wouldn’t leave. Police said the first officer at the scene was unable to restrain the man, but two other officers arrived a couple of minutes later and they were able to forcibly remove him. According to police, the man became violent and began vomiting while officers tried to restrain him. He was pronounced dead at a hospital shortly before 6 a.m. William Robizine collapsed after being arrested on the South Side. According to police, Robinzine appeared to be on drugs and was holding his bleeding hand as police investigated a quarrel in a liquor store at about midnight. Robinzine allegedly became combative and tried to drive off in an ambulance. Robinzine was pulled from the ambulance and restrained by officers, police said. Robinzine was taken to a hospital, where he was pronounced dead. A San Francisco police officer has several bystanders to thank after they stepped in and rescued her after a man attacked and pinned her down on a street in the city’s Chinatown. https://t.co/MJOJc0ruM4 Police officers tell a man standing in an intersection to get on the ground then shoot him (apparently with rubber bullets). He falls to the ground. He attempts to get up; an officer tackles him. At least 5 cops pin him down. Several of them punch him repeatedly even though he appears to not be resisting. At one point a bystander says \"yeah, punch him again -- I’m filming you!\" An officer punches the man again. A Facebook Live video shows several officers struggling with a man on the ground, and one police officer stomping on the man’s leg. https://t.co/uZiqqMhd28 A legal observer is seen talking to police about events happening behind the police line. The officer shoves the legal observer. The observer then steps forward again and is thrown to the ground. This protest occurred on residential streets near Normandale Park. During a protest on September 23rd, police tore down a small cluster of tents in Chapman Square, which were occupied by houseless people unrelated to the protest. The tents did not appear to be blocking the police, and the houseless individuals were not protesting. Fred Trump and KKK members arrested in brawl with police-Daddy &amp; Donny Boy were sued by federal government for refusing to rent to blacks in 1973 https://t.co/or8zAHyu4e Members of the Unified Command (Multnomah County Sheriff’s Office, Portland Police Bureau and Oregon State Police) charged protesters at Harvey Milk and 10th Streets, knocking several protesters to the ground, as well as a 75 year old photojournalist. Footage taken around midnight the morning of July 2nd shows multiple officers arresting a protester, striking him with batons, punching him, and kneeling on his neck. The officer kneeling on the protester’s kneck has his badge covered. Protester was allegedly arrested for crossing a street at Broadway and Pine. Dressed all in black, Reed panicked and bolted away on foot from a traffic stop. Reportedly, he darted between two parked cars and directly into the path of a deputy’s vehicle, which struck and killed him. His family settled a wrongful death suit for $10,000. Following evictions of squatting families from CalTrans-owned homes by California State Police on November 25th, protesters gathered at 2970 Lowell Ave to bar the way in an attempt to prevent these evictions. Officers swing batons at protesters and make violent arrests. Several protesters were knelt on during arrests; some were also hog-tied and carried away to vans Las Vegas police spotted a stolen car and followed it until both of the people inside stopped and ran away. Three officers pursued Keith Alan Engel until one of the officers tackled him. Engel and the officer scuffled and Engel grabbed the officer’s handgun and tried to pull it out of her holster. Protesters camped out front of city hall demanding the resignation of Rochester mayor, Lovely Warren, and the arrests of the officers involved in the Daniel Prude case. Police assembled around 8:30 AM on Wednesday to disperse protesters. Police first pushed protesters off City Hall property, into the street. Police then gave a dispersal order, telling protesters to leave the street and sidewalk. Two officers suddenly charged at protesters, shoving one to the ground. Police chased several other protesters then returned to their line. Multiple police officers tackle a cyclist on a Black Lives Matter group ride. The man is repeatedly punched in the head by an officer and as the person filming shouts at him not to resist, he shouts \"I’m not!\" Footage shows police arresting a woman. A man who walked nearby with his hands up is thrown to the ground by two officers and arrested. Additional footage shows an officer grabbing the breast of the woman arrested. It should be noted that police use an \"open hand\" frisking technique to check along the breasts during an arrest. However the officer does not appear to be using an open hand and appears to be grabbing the woman, rather than frisking her. While having a male officer frisk a female protester without warning is a point of controversy, this incident appears to be outside police guidelines even discounting that fact. In an incident at 17 Battery Place in Manhattan, police are forcibly arresting several protesters on a paved pedestrian area. A protester argues with an officer. The officer shoves her and grabs her by the hair. Another officer joins in; the two grab her by the arms, force her to the ground, and one officer kneels on the protester to arrest her. Follow up : The attacker, who’s in police custody, walloped the 55-year-old woman in the head as she walked by him on Bayard St. near Mott St. at about 6:15 p.m. Several onlookers followed the suspect around the block, where police arrested him. A woman is seen being restrained by a police officer who stands behind her with his arms around her torso. She struggles with the officer and breaks free, after which she is repeatedly beaten on the thighs with batons and shot with what appear to be pepper balls by officers shouting \"Get on the ground!\" while she is standing still. Another woman walks towards the officers with her hands out, seeming to plead for restraint but not directly interfering. An officer yells at her to \"Back up!\" and then violently shoves her to the ground. Two IMPD officers have since been indicted for battery and other use of force charges. Alleged looters and the owner and employees at a liquor store stood off outside store. A crowd had assembled to help the employees. Seeing a police cruiser passing by, one black employee flagged down the officers to request help. The employee was arrested, along with her husband and others helping them, while the alleged looters ran off. The employee says she told police they had the wrong people and the criminals were getting away. She says the officer arresting her said, \"I don’t care about them.\" In addition, she says she was thrown against a wall when arrested. A police officer shoots a projectile at a protester for yelling out profanities. The same officer is seen excited about the protests yelling \"let’s get this motherfucker\". Another police officer caught sucker punching his civilian victim After protesters had gathered around a squad car near Bedford and Tilden Avenues in Brooklyn, police are seen shoving protesters and striking them with batons - knocking one protester to the ground - in an effort to clear the area around the car. Jerry Andrew Amaro III died April 21, 2000, from pneumonia caused by multiple rib fractures and a collapsed lung after he was beaten by police the month before. Bernard Kolas Jr., 35, was found semiconscious by passers-by and a resident. Hours earlier, according to his brothers, a police officer had chased him into a wooded area in Grandview Park. The Kolases, who live in Mount Washington, believe he was beaten, citing hospital reports that say Kolas’ injuries were consistent with an assault. Police said they believe Kolas fell down the steep slope while fleeing from the officer and then toppled off a garage roof to the ground. They said he was never in police custody that night. Virginia police lieutenant charged with abduction, rape, stalking https://t.co/7IXmZnG5gX A journalist working for The Asheville Blade was following protests in their car on August 9th. They state that police stopped them without warning, pulled them out of their car, zip-tied and arrested them. They state that because of the heat, their sweat made their hands slippery and their zip-ties fell off; an officer then replaced them with standard handcuffs, cuffing the journalist’s arms tightly behind their back. They state that after being removed from the police wagon, they were patted down. A female cop stood by while a male cop patted them down. The journalist states the male cop’s \"hands aggressively slid over my vagina and my ass.\" They were held in a cell for several hours, in and out of cuffs. Several police officers asked the journalist if they were going to behave now, and made other similar comments. Images taken after release show significant bruising on one of the journalist’s arms. Clifford Poe died after a scuffle with officers who restrained him for questioning about a vandalism. Footage shows a standoff between protesters and police. Police tape divides the two groups. Additional officers approach the line, then charge across at protesters without warning. One protester, Sean, is seen thrown to the ground and arrested with his hands held behind his back. Sean labels himself a \"protest observer;\" while not officially press, he focuses on filming protests, rather than participating. He can be heard screaming in pain during the arrest. He allegedly waited 20 minutes in handcuffs for EMS to arrive. Christopher Hicks lost consciousness as one officer held him in a chokehold while two others handcuffed him. Police said they saw Hicks moving between cars inside a northbound Red Line train at around 10:20 p.m. Hicks fled the train as officers approached him. The officers chased Hicks, who allegedly became combative when they tried to arrest him. According to an autopsy, Hicks died of asphyxia due to restraint in a homicide. In the video, protesters can be seen kneeling. Police swing batons at several protesters and a journalist pressed against the side of a building. Local officers stopped the Jeep Harris was driving on suspicion of it being stolen. Harris’ story didn’t make sense, and he attempted to escape, setting into motion a messy struggle with neighbors helping officers physically wrangle the obese suspect, and one cop macing himself. Ultimately six officers beat the unarmed and sober Harris to death. The city entered into extended legal action to avoid paying a $100K wrongful death settlement. A protest marshal was singled out and arrested near Forbes and Oakland. Plainclothes officers emerged from an unmarked van, grabbed him off the sidewalk, and drove away. He was charged with \"Obstructing Highways and Other Public Passages.\" Desecration horrifies community; Police found hundreds of child abuse images; police had to draw batons at covid breach party; United awards handed out; Focus on Carniny and Groggan primary schools; Walk for Lisa and lots more https://t.co/aWx9qzbKeo Footage was taken at the intersection of N 70th Street and W North Avenue in Wauwatosa, Wisconsin. Officers in a passing car yell at an individual on the sidewalk to go inside. The officer clarifies that the filmer is exempt, as \"ACLU is fine.\" The officer then proceeds to arrest the individual on the sidewalk, flipping the individual over his knee, and kneeling on his back. Several officers come to aid in making the arrest. Officers continue to tell the individual to stop resisting, though the individual is pinned to the ground. It is unclear if the individual was related to a protest, but they appear to be wearing a bathrobe, which might suggest they are not prepared for a protest. Police shield line forces protesters back near Delancey and Ludlow. Protesters trapped between police and barricades are squeezed and shoved over the barricades. These mass demonstrations were met with violent police and military response. Human rights organisations have recorded more than 2,000 cases of violence against protesters, including 1,000 arbitrary arrests, with more than 40 deaths and dozens of disappearances and... Michael Chambers died after off-duty Cook County correctional officer Timothy Brogan and two other men choked and beat him during a brawl at the Holiday Inn that broke out after two weddings. Chambers, brother of Cook County Comptroller John Chambers, was at a reception for a state’s attorney’s office employee, while Brogran was with the other party for a CCSO special operations officer. Witnesses said that the officer’s guests made lewd remarks to the women from the other party and challenged the men to fight when both groups went to the hotel bar just before midnight. Chambers went to intervene after learning that his fiance and the bride’s mother were being shoved around, but he was pummeled to the floor and repeatedly kicked in the head, witnesses said. Chambers was pronounced dead at a hospital. Brogan, 25, was charged with official misconduct and obstruction of justice. Ronald Schickel Jr., 29, was charged with first-degree murder and felony mob action. Brian Tomkins, 29, was charged with aggravated battery and felony mob action. Both Schickel and Tomkins were brothers of correctional officers. In an incident at Fourth and Atlantic Avenues in Brooklyn, footage shows police chasing a protester down the sidewalk. Police appear to trip the protester, who falls to the ground. Police then strike and jab him with batons. A white-shirted officer arrives and steps on the protester’s neck A police officer and a protester are walking down the sidewalk and begin to verbally argue. The officer grabs the protester and a group of people appear. The protester starts to walk away when another officer pushes him into a brick wall. The incident appears to have occurred on either the North or West edge of Graceland cemetary. A videographer on the sidewalk near SE 9th and Morrison is shoved repeatedly by police, knocking their helmet off. The videographer is then shoved to the ground and the phone is swatted out of their hand. The videographer states they were prevented by police from retrieving their phone, which had fallen into the street. They state another individual later retrieved their phone. Daniel James Bryan collapsed after he refused to be fingerprinted at the BPD’s booking facility and struggled with police. Police strike a protester with batons, before tackling him and arresting him. They shove other protesters with batons. Shortly after, police pin a man to the ground and kneel on him to make an arrest. A journalist identifies herself at the scene (link 3) and is credited with a first-person video (link 2) of the incident where she is shoved by police as she displays her press badge and films. Additional footage (link 4) from a journalist involved in the incident shows evidence of police shoving protesters and journalists throughout the night. Footage from a protest that ended at Broadway and Dey St in Lower Manhattan shows police officers swarming a protester, tackling them to the ground, and arresting them. The arrest was performed by a combination of plainclothes, white-shirted (denoting high rank), and bike officers. Additional video taken from a compilation (0:51-2:04) shows officers using their bikes to push back counter-protesters at a Trump rally. As the officers are shoving protesters, additional officers circle behind protesters and place their bikes in the protesters’ paths, tripping them up. Officers then proceed to make arrests. A protester is seen walk side-by-side with an officer. The officer steps in front of him and stops such that the protester lightly grazes the officer. Numerous police officers then throw the man to the ground and kneel on his neck to make the arrest. News outlets state this occurred near Hempstead and Merrick. At a protest on July 29th, a protester was tackled by police. Police claim the man resisted arrest and attempted to disarm an officer. The protester denies these allegations, saying he was rattling a chain link fence and no more. After tackling the protester, officers punched him and struck him with a baton. One officer can be seen jabbing the protester in the rear end with a baton. The protester states he was sexually assault, with the officer shoving the baton into his rectum. That night, he was given a rape kit and examined for signs of sexual assault. Records from a specialist two weeks later diagnosed the protester with rectal and anal hemorrhage, as well as hemorrhoids. The protester will go to court on September 28th to fight the charge of disarming a police officer. An officer is seen beating an individual in a black jacket who was filming the officers. After being beat by a baton, the individual in the black jacket falls, and the officer continues to beat them. The eye-witness runs over to shield and protect the individual from the officer, and was beaten by the officer from behind while helping the fallen individual escape. At the end of the video, they are hit by a less-than-lethal projectile. Footage taken at Union Square and East 17th street shows multiple officers grabbing and shoving a protester to make an arrest. Another protester confronts an officer who strikes the protester in the legs with a baton. The baton snaps in two. At a protest near 52nd and Spruce in West Philadelphia, police are seen slashing at protesters with their batons. It should be noted that most departmental rules of force specify that batons should only be used to shove, except in life-threatening situations. Location is approximate. Footage shows police approaching a crowd of protesters, singling out livestreamer Hiram Gilberto and arresting him. When the crowd objects, other officers shove the protesters. Additional footage shows Gilberto tackled to the ground, zip-tied and punched. Footage shows police standing off against a small group of press on the sidewalk. Officers grab one individual, alleged to be press though not clearly marked, and force them to the ground for arrest. The individual passively resists by going limp. One officer kneels on the individual while making the arrest. The event is believed to have occurred on Moody Street near the ICE facility. Protesters and police stand off in the streets near Peninsula Park. Protesters have formed a line of wooden shields. Police charge at the line, striking protesters with batons. A drummer is tackled to the ground and beaten with batons. Officer Michael Olsen and eight other officers fatally beat Scott. Officer Olsen was fired from APD after shooting Kevin Brown fatally in the back. He was also involved in the nonfatal beating of Jeffrey Thornton in 2003. Footage shows violent arrests of 2 protesters. Multiple officers grab the individuals, shoving and pulling them. The officers also shove numerous protesters out of the way. One of the arrestees was a minor and charges were not filed against them. Police later dropped charges against the adult protester. Police claimed the individuals were blocking the street, but presented no supporting footage and the lack of charges casts doubt on the claim. A tweet from the police states the juvenile protester was arrested for assault of an officer, while the adult was arrested for resist, delay and obstruct. Villanueva’s garment factory co-workers called police for help with his epileptic seizure. They arrived and found him uncooperative and combative. Wrestled to the ground and handcuffed by four officers, witnesses described police shouting for him to speak English, and taking his foaming at the mouth as a sign of drug use. He died of \"mechanical asphyxia following physical restraint\". The four were charged with manslaughter. According to police, officers responded at about 8 p.m. to a report that a man was breaking up an apartment. \"He was covered with blood when the officers arrived,\" said sheriff’s Capt. Mike McCabe. Officers alleged that Custer confronted them, then went into apparent cardiac arrest as they tried to restrain him. Custer died at a hospital at about 9 p.m. Custer’s family said the cause of his death was positional asphyxiation. Footage taken near 2nd and MAdison shows a police officer grabbing a protester by the collar and hurling him to the ground. Footage shows a protester seated on the edge of the road at High and Broad Streets. An officer drags the protester into the street and forces her to lay down to arrest. As other protesters express frustration, another officer runs over, lifts a protester off the ground and slams her on her back. Police kneel on both protesters to make arrests. The second clip is a lengthy (53 minute) account from the original filmer. Shortly after midnight on August 23rd, police disperse protesters on the sidewalk. Police can be seen shoving two individuals obeying police direction. Officers then confront members of the Wall of Moms (noted by yellow shirts) sitting on the grass and shove them. This protest occurred on residential streets near Normandale Park. Hundreds of people have been camping out near NYC City Hall for the last week in anticipation of a budget vote. NYPD were sent on June 30th, the day of the vote, to disperse protesters. Footage shows violent arrests. In particular, police manhandle already zip-tied protester. The protester stumbles, apparently struggling to remain conscious. Protesters shout at police to seek medical treatment for him. Another protester comes to intervene. He is summarily punched, choked, shoved and struck with a baton by multiple officers. The second clip shows arrest warning if protesters step on streets. The third clip shows police shoving protesters on the sidewalk with their batons. In addition, multiple clips show officers without badges or with black electrical tape covering their badge numbers. Footage shows a protester on a bicycle who was blocking the street. As he is moving out of the way, police continue to push him on the side, hindering his balance. One officer slaps his phone out of his hand. A man following dispersal orders turns and speaks to police at 2nd and Madison. Police throw him to the ground and strike him repeatedly. Around 4 AM, just hours after a U.S. District Judge blocked federal officers from harming press, a clearly marked member of the press stands at a gap between pieces of District Courthouse fencing. She appears to be filming officers. Several shots are fired and the impact can be seen as they ricochet off her arm. The filmer alleges that at least one projectile struck her in the face. During a standoff around a statue of Andrew Jackson, footage shows multiple officers attempt to arrest a protester. The man appears to be passively resisting (e.g. locking his arms). Police respond by beating him with batons and kneeling on him. At one point, the man states he cannot breathe. Police do not acknowledge this. Footage taken at West and Rector Streets in Manhattan shows a protester in the road with a bike. An officer attempts to take it, but the protester holds on. The officer then uses his baton to press against the protester’s neck before striking the protester in the legs. Other officers join to separate the protester from their bike. Police arrest a protester near the North Precinct; press gather around to document. An officer shoves members of the press away. The journalists had allegedly been told minutes prior by another officer that their distance to the arrest was allowed. Law enforcement push and shove a crowd of peaceful protesters with riot shields. Footage shows police have hidden badge numbers and are not wearing body cams. Police charge at a line of protesters with shields near SW Jefferson and SW 4th. Police use batons to strike protesters repeatedly, then make several arrests. In this video, officers wrestle with two protesters on the sidewalk near 4th and Spring. One officer punches the protester he has pinned at 0:15. Footage shows police chasing protesters near 4th and Taylor while a dispersal order is being given. At various points during the footage, police can be seen striking, punching and shoving protesters. Two protesters are obeying federal officers’ directions by moving down the street. They are not moving quickly. The filmer states, \"I can’t run, I’m injured.\" The two are beaten by multiple officers with batons. Abdullah Fakhry died nine days after a physical confrontation with police in his apartment. City of Grand Rapids Police Department officers seen pushing, pulling, and shoving peaceful protesters, as they circle around an officer arresting a man. The arresting officer appears to force the man to his knees before the other officers finish encircling and view of the man is lost. Two different women, each in different videos, are shown falling or fallen over as a result of the shoving and pulling. A reporter attempts to film arrests being made in the lot of the Chevron gas station at N Denver and N Lombard. As they approach, an officer confronts them, shoving the reporter back. Footage taken at a protest at Classon and Putnam Avenues in Brooklyn shows an officer approaching a protester and shoving her to the ground without warning. Chesapeake Police officer arrested for rape, other charges https://t.co/pOYZ0tBRE5 Wayne Earl Ellis, a disabled Vietnam veteran, was pulled out of his pickup truck and beaten to death by officer Kenneth Pollard and Sgt. Kevin Jung. Footage taken at E 136th St and Brook Ave in the Bronx shows protesters confronting police on bikes. A protester steps forward near police and appears to say something. An officer shoves the protester and yells: \"Back up.\" Officer pins protester with his knee on his neck near 6th and Pine. His partner intervenes and moves his knee onto the individual’s back. Possibly related to OPD Case 2020OPA-0324 - \"Placing the knee on the neck area of two people who had been arrested.\" This individual may have been a looter; however, the violent arrest appears to be unwarranted. Protesters are seen arguing with police in the street. One protester approaches police then runs away as police converge. Another protester stands in the way and is shoved to the ground. Officers Melvin Williams and Matthew Dean Moore were traveling through Treme. For reasons that are unclear, the officers converged on Robair. Robair was preparing to repair the vent on a neighbor’s roof. Witnesses said Williams administered a fatal kick, amid a flurry of baton strikes. Within minutes, the officers dumped Robair at Charity Hospital, telling staffers they found him on the ground under a bridge and believed he had overdosed on drugs. A police officer has his knee on a woman’s neck, who already had 3 police officers on her. A different officer had to pull him away. Dieugrand Dorcely, 45, was killed when a police car swerved into his 1994 Dodge Spirit, causing it to flip over. But Douglas Armstrong of Irvington, the driver of a second car struck by the police vehicle, said he saw no car being directly pursued when the police cruiser swerved out of control and struck Dorcely’s vehicle before hitting his car. Footage shows police chasing protesters near 4th and Taylor while a dispersal order is being given. At various points during the footage, police can be seen striking, punching and shoving protesters. Footage shows a standoff between protesters and police. Police tape divides the two groups. Additional officers approach the line, then charge across at protesters without warning. One protester, Sean, is seen thrown to the ground and arrested with his hands held behind his back. Sean labels himself a \"protest observer;\" while not officially press, he focuses on filming protests, rather than participating. He can be heard screaming in pain during the arrest. He allegedly waited 20 minutes in handcuffs for EMS to arrive. Dont say police there are no more police now we have pigs who only want to kill not serve or protect but kill A broken jaw left one man with a different perspective on police after last year’s protests in Sp... https://t.co/Exj1Grs1Vd via @Yahoo Members of the Unified Command (Multnomah County Sheriff’s Office, Portland Police Bureau and Oregon State Police) made several violent arrests at SW Park and Washington, with one officer knocking a protester to the ground as they attempted to stand. Police are seen on Greene Street in SoHo, beating a man trying to escape, hitting him multiple times with batons, instead of trying to detain him. On June 5th, protesters gathered outside the North Precinct on Killingsworth Street. As police cleared debris from the road, an individual was seen filming them from the sidewalk. An officer approached the individual while shouting and knocked the camera out of their hands, causing minor damage. Footage from around 1:30 AM outside the US District Courthouse shows a federal officer shoving an individual to the ground. The individual was standing still and holding a large camera. Footage shows a protester shot in the eye with a less-lethal round. Additional images show the aftermath with small pellets embedded in the protester’s eye. Another image from the protester shows what appears to be a bean bag round. A news report states the man has lost his eye and that he was shot with a \"cloth bag full of pellets.\" Footage shows a small group of mounted officers riding into a group of protesters gathered in the street. The officers use their horses to shove protesters aside. No protesters were trampled underhoof, but the justification for escalation is unclear. Police approach protesters standing in the street near 11th and Pine. A scuffle begins and protesters are shoved. One is thrown to the ground and arrested. One officer appears to injure himself shoving protesters. Officers appeared to be a combination of SPD and private security. Det. Darrell Shelton, 31, a seven-year veteran of the Wildwood Police Department, was charged with drunken driving, leaving the scene of an accident, and with having an open container of alcohol in his Dodge pickup. At about 2 a.m. Saturday, Shelton’s vehicle struck Pablo Barrios-Salas as he crossed New Jersey Avenue. Driver Monica Clark-Heit and her grandmother, Janice Moutray, died after officer Byron Ratliff’s patrol car hit their vehicle. Ratliff was chasing Walter L. O’Neal, 49, who was suspected in a motel robbery. Police arrest protestors Richmond police officers were clearing Monroe Park. A journalist was attempting to leave when he was detained and handcuffed by police, even though he had a press pass and repeatedly stated he was with the press. He states he was later released on the condition he did not return to the park that night. Footage shows a protester with a bicycle standing behind a police van. An officer walks over and shoves him to the ground with his baton. After declaring an unlawful assembly near Ventura Park, police charge protesters to disperse them. One journalist was caught in the charge and thrown to the ground. A man is seen running across a street, chased by several officers. An officer on a motorcycle strikes him and he is arrested. Officers allege he was seen attempting to break into a bank after curfew. An independent journalist was filming federal officers from the sidewalk at 3rd and Salmon. Officers in the Justice Center were targeting him with a laser pointer. After a firework exploded near the journalists, officers singled one out and arrested him without explanation. As he is being arrested, the filmer in the first video notes that Border Patrol agents and U.S. Marshals are conducting the arrest. During another charge near Ventura Park after declaring unlawful assembly, an officer tackles a protester to the ground. The protester is slammed face first into the pavement. A drummer walks toward police near Killingsworth and Albina. An officer shoves the drummer. The drummer then turns around, walking the direction police stated. The officer shoves them again. Police arrested protesters en masse in downtown Los Angeles. Protesters hands were zip tied excessively tightly behind their backs and they were loaded onto buses and driven around the city. Some were taken to a temporary field jail at UCLA’s Jackie Robinson stadium; UCLA claims it \"failed to stop\" LAPD from using the stadium as a \"staging area,\" but was not told about the field jail until after the fact. Arestees were detained for long periods, still in excessively tight zip ties. Social distancing procedures were not observed. Many protesters allege that conditions in the makeshift jails were poor -- detainees denied medical attention and permission to use the restroom, for instance -- and that they were released, many with dead phones, in unfamiliar places in the middle of the night with no way to get home. Two arrestees allege that police prevented them from leaving before the curfew went into effect, then arrested them for violating the curfew. One arrestee alleges that she was twice threatened with guns, that she was sexually assaulted by police, and that police mocked detainees having panic attacks. Police also allegedly arrested at least one homeless person (to whom the curfew was not supposed to apply) for a curfew violation. A lawsuit has been filed in connection with these and other abuses by the National Lawyers’ Guild; a separate lawsuit has been filed by one of the arrestees. (See also incidents ca-losangeles-32 (near-identical behavior the following day) and ca-santamonica-2 (similar behavior in Santa Monica).) Police arrest a protester near the North Precinct; press gather around to document. An officer shoves members of the press away. The journalists had allegedly been told minutes prior by another officer that their distance to the arrest was allowed. Footage uploaded shortly before midnight on July 16th shows police and protesters standing off outside the Penumbra Kelly Building. Without warning, police charge at protesters, striking, shoving and arresting them. An individual in a stopped car gets out and yells at police, ostensibly about the road closure by police vehicles. Police approach and a scuffle starts. It is difficult to see how it begins. The bystander is then thrown to the ground and arrested. Another bystander is pulled from the car and beaten. After protesters broke a few police vehicle windows near the North Precinct, police gave a dispersal order and fired smoke and stun grenades. Police then dispersed protesters violently, striking several with batons and punching others. One protester is punched repeatedly by an officer while being arrested before a second officer tells the first to stop. Police pushed me to the ground Police approach a vehicle near Atlantic Avenue and Smith Street in Brooklyn. The driver begins to drive away, but police surround the vehicle, striking it with batons. Officers then break several of the vehicle’s windows. The driver then speeds away unimpeded. A local news report states the vehicle had Taxi and Limousine Commission plates. Civilians beaten by officers Police fire into crowd outside of White House. Protester is hit and falls to the ground. The same protester is then hit again after standing. Projectile used is unknown. Footage shows police approaching a small march at 23rd and Classon. They arrest one woman holding a banner without incident. An officer then begins to walk away with one end of the banner. Protesters try to pull it back, and a scuffle follows where police attempt to arrest one protester and a second appears to approach to stop it. The second protester and the officer exchange pushes, then another officer charges the protester from behind and shoves him. Police then shove several more protesters and kneel on one to make an arrest. A police officer has his knee on a woman’s neck, who already had 3 police officers on her. A different officer had to pull him away. Footage from a Union Square protest shows an officer using his baton to shove a protester. A protester wearing a helmet is seen lying on the ground while SPD officers on bikes approach protesters. One officer rides their bike over the protester’s head. The rear wheel of the bike appears to catch on the protester’s head and yanks the protester. The officer has since been placed on administrative leave and is facing a criminal probe at the request of the Office of Police Accountability. The incident is believed to have occurred in the Capitol Hill neighborhood, potentially near 11th and Pine as did other incidents on September 23rd. Footage shows 2 agents in fatigues, either DHS or U.S. Marshals, kneeling on a protester to make an arrest near 4th and Main. A journalist attempting to film is harassed and told to move faster by a third agent. Members of the Unified Command (Multnomah County Sheriff’s Office, Portland Police Bureau and Oregon State Police) charged protesters at Harvey Milk and 10th Streets, knocking several protesters to the ground, as well as a 75 year old photojournalist. Footage taken at E 136th St and Brook Ave in the Bronx shows protesters confronting police on bikes. A protester steps forward near police and appears to say something. An officer shoves the protester and yells: \"Back up.\" Police approach protesters standing in the street near 11th and Pine. A scuffle begins and protesters are shoved. One is thrown to the ground and arrested. One officer appears to injure himself shoving protesters. Officers appeared to be a combination of SPD and private security. Police arrested two AL.com journalists covering a protest at 7:35 on June 3. There was a 7PM curfew in effect, which exempted journalists who were carrying a letter from their media outlet; both arrested journalists were carrying such a letter and had press lanyards. Both journalists were released shortly thereafter; while in custody, they were photographed. Birmingham police later said that the arrest was made for the journalists’ safety. Two employees of Alabama Media Group were restrained using zip ties. A man was pulled from a car and beaten by multiple police officers. In pictures Christian provided to WFPL News, the skin on his legs was broken and bruised in long marks where he said the baton landed. His right forearm was still swollen and red when he met with a reporter six days later. The story also focuses on their mistreatment in prison. A WFPL article states this occurred on Broadway near the I-65 overpass. Rayne Valentine, a hospital employee in Brooklyn, states he was walking home on the night of the 31st after an overtime shift assisting with COVID-19 care. Valentine states he saw police chasing a teen and began recording. After a short interaction, police began beating Valentine. He states that police then threw his phone to him and left. Valentine then walked back to the hospital, where he received 2 CT scans and 7 staples. Footage shows riot police suddenly charge into a crowd, potentially chasing a fleeing suspect. However, they shove their way through the crowd, striking peaceful protesters. They can be seen throwing multiple individuals to the ground and kicking one. Footage shows a police line advancing down Main towards protesters. A protester is walking backwards with his hands up, speaking to police. An officer shoves him, then a second maces him. During a standoff around a statue of Andrew Jackson, footage shows multiple officers attempt to arrest a protester. The man appears to be passively resisting (e.g. locking his arms). Police respond by beating him with batons and kneeling on him. At one point, the man states he cannot breathe. Police do not acknowledge this. A police officer shoves aside another officer restraining a suspect so he can put his knee on the suspect’s neck. Edward Stockamp and Jermeen \"June\" Stockamp were killed after Edward Stockamp reportedly failed to stop at an intersection and their care was hit by a police cruiser driven by officer Tim Gruhlke. The impact sent the Stockamps’ car across the median and northbound lane of the highway, before it struck an embankment. Edward Stockamp died at the scene. June Stockamp died later at a hospital. Gruhlke, 24, was treated and released. A police cruiser begins to drive into a line of protesters. Protesters continue to move. The vehicle accelerates repeatedly, knocking several people over. At the end of the footage, the vehicle accelerates, knocking a protester onto the hood, and drives away. A suburban Boston police officer who became a national hero in 2013 when he tackled one of the Boston Marathon bombers retired from the only job he says he ever wanted. https://t.co/QW7Ud4EXm8 After arresting a protester, officers in a patrol vehicle drove up to protesters standing in the road at Grand and 6th. Some protesters stood in front of the car. Although there was ample room for the driver to reverse, the driver chose to accelerate rapidly into the protesters, striking one. Officers push protesters down the street. One protester turns to face officers. An officer squeezes one of her breasts, then the other, to push her away. Another individual, allegedly her boyfriend, tries to intervene and is shoved into the bushes then arrested. The woman is shoved down the street. A man is seen running across a street, chased by several officers. An officer on a motorcycle strikes him and he is arrested. Officers allege he was seen attempting to break into a bank after curfew. Police chase protester and attack him on the ground while on live TV. Police raid gay wedding in Uganda, arrest 44 https://t.co/jmjaRNY1Rg Police in Nansana ... https://t.co/jmjaRNY1Rg In an article from the Columbus Dispatch, a veteran, Ryan McMullen, recounts injuries he sustained at police hands from the beginning of protests up to Friday, June 5th. He states that he was maced, hit by a police officer on a bicycle, struck by ricocheting tear gas canisters, and shot 6 times with wooden pellets. In the interview, he stated: \"This is worse than anything I received in an actual war zone,” citing special forces and contractor work in Afghanistan and East Africa. Near 3rd and Salmon, a protester is held face-down on the ground by an officer. The protester is punched and struck by another officer with a baton. The protester is then arrested. Reporter Josie Huang was covering the shooting of 2 LASD officers and a small ensuing protest in LA when she was arrested for \"obstruction of justice;\" Huang states she was simply documenting an arrest. In addition, officers claim she was not properly identified, but footage shows a LASD-issued press pass around her neck. Huang was released early on September 13th. Footage Huang uploaded following her release shows officers shoving her and knocking her phone to the ground. Officers then step on and kick the phone while Huang can be heard stating that officers are hurting her. Footage taken at E 136th St and Brook Ave in the Bronx shows police pointing out and attempting to apprehend protest organizer Shannon Jones. She retreats onto the sidewalk and the crowd of protesters protects her. Police then charge into the crowd. A white-shirted officer isolates Shannon, chokes, grabs, and shoves her. When another protester intervenes, the officer punches him and shoves him away. Jones is then arrested. Protesters were seen yelling at police from the sidewalk near an outside dining area on Hudson Street and West 10th. Without warning, police charged, pushing, shoving, and arresting numerous protesters. Police disrupted diners, forcing them to move from their tables as bike police formed a line cutting through the outdoor dining area. Footage from late on June 27th, police charge a protester walking away from them. She is grabbed by multiple officers, both on bike and on foot. The police then arrest her. She drops several water bottles out of her hands. Protesters state she was passing out water bottles to thirsty protesors. Footage uploaded shortly before midnight on July 16th shows police and protesters standing off outside the Penumbra Kelly Building. Without warning, police charge at protesters, striking, shoving and arresting them. Police shove a protester into the crowd near 3rd and Taylor. The protester falls over. Police then strike the protester repeatedly and arrest them. Metro police grapple with counter-protesters at a WalkAway rally. Several Black Lives Matter protesters are pushed, tackled and arrested. It is unclear how the altercation began. Police charge protesters without warning, shoving several to the ground. One officer grabs a protester’s belongings, throwing and kicking them away. This occurred at a protest outside Mayor Ted Wheeler’s condo on NW Glisan and NW 10th. A group of cops start to approach a group of press taking photos and video. One press member repeats \"we have our hands up and we have press passes\". An officer walking by points in the direction of a photographer and says something indiscernable. The camera pans to show a cop hitting the photographer in the neck and head with a wooden baton. Police line is seen using shields to push back a small group of protesters. The filmer, a reporter, moves around to the other side of the protesters. At this point, the footage captures another group of police officers charging the protesters from behind without warning. The footage becomes blurry as it appears that police strike the reporter, who repeatedly states, \"I am press,\" and is standing alongside several camera crews. The reporter states that they were beaten by police, their glasses were broken, and their phone thrown. In a subsequent video, the reporter speaks to the police chief and states in the description that they were pepper-sprayed. The police chief states that he will open an investigation. A second reporter off-screen tells the chief that multiple journalists were assaulted. One journalist was briefly arrested and zip-tied before being released. A group of people are protesting outside Waterbury police headquarters around 5:30PM. Police are lined up blocking the roadway; they warn protesters to clear the roadway. Police declare the assembly unlawful, apparently in response to the protesters standing in the roadway. Police again warn protesters to clear the roadway, and say that anyone in the roadway will be arrested. A woman steps out into the street, walking slowly across holding a sign. Police tell her to get out of the roadway; she continues across to the other side. Police move forward and arrest numerous protesters, several of whom do not appear to have been in the roadway to begin with. Several protesters are forced to the ground, including one who is slammed against a police car (see second link). Later in the same incident (around 6:30 in the first link), police aggressively and without apparent reason arrest another protester. An LRAD is mentioned, but apparently not deployed. Waterbury authorities say no property was damaged during the protest. Arrested protesters were not charged. (Note: this is a different incident from ct-waterbury-2 -- see street view.) Footage shows a small group of mounted officers riding into a group of protesters gathered in the street. The officers use their horses to shove protesters aside. No protesters were trampled underhoof, but the justification for escalation is unclear. In an incident at West and Rector Streets in Manhattan, a protester is confronted by an officer, who grabs his bike and tells him to release it. A second officer charges into frame, tackling the protester and grabbing him by the backpack. More officers join to separate the protester from his bike. The initial officer brandishes his baton and strikes either the bike or the protester. A final officer kneels on the protester. Riot police charge across the street (6th and Salmon) at protesters walking away from them. A woman at the back begins to jog away from police. Police catch up to her and an officer shoves her to the ground with his baton. An officer on a bike pulls down a protester walking by for seemingly no reason. Takes place on Boren Avenue, by the Avanti Apartments. Police chase protester and attack him on the ground while on live TV. Cops punched me and pushed me to the ground A cop punched that woman and pushed her to the ground Cops held that guy with an arm hold for 35 minutes befor arresting him These cops need to be fired Video shows police stomping mentally ill Black man during violent arrest in Alabama gas station https://t.co/wm3oNhvQkq Footage from Cal Anderson shows police dragging a woman across the gravel. She screams. Police then chase off other protesters. The camera pans back to the woman as she is shoved against a knee high concrete barrier. Officers then grab her again and throw her to the ground to arrest her. Other officers then crowd around to inhibit filming. The protester does not appear to resist arrest at any point. Jackson was apprehended at a small-town nightclub after he’d reportedly slapped the mother of his child. He resisted arrest. People on the scene said three officers slammed him to the ground and used a baton around his neck to subdue him. The police were turned away from two jails—one was full, the other would not accept a prisoner in this condition—and Jackson died in the hospital. An autopsy named the cause as a crushed larynx. After protesters broke a few police vehicle windows near the North Precinct, police gave a dispersal order and fired smoke and stun grenades. Police then dispersed protesters violently, striking several with batons and punching others. One protester is punched repeatedly by an officer while being arrested before a second officer tells the first to stop. In the parking lot of a shopping center local police encountered Haithcock, acting strangely, having just shoplifted a bottle. An attempt to arrest him developed into Haithcock going for an officer’s gun, then a number of police physically restraining him. A witness didn’t see \"anything over excessive\" in the police behavior. Haithcock had some kind of seizure and died at the scene. Footage shows riot police charging at a handful of protesters walking away down 2nd between Main and Madison. Several of these protesters are shoved, thrown to the ground or tackled. Police arrest a handful of these protesters. LaMont Robinson died July 10, 2004, three months after he’d slipped into a coma during an altercation with police who used a chokehold to prevent him from swallowing what they believed was crack cocaine. A BART policeman, on a routine beat, came across Seward sleeping naked by a BART station. Seward was initially unresponsive, and was then extremely agitated. The officer claimed Seward lunged for his baton, and in response the officer shot him. Police declare unlawful assembly at a protest outside the north police precinct. Police allege that protesters had been throwing things at them. Police begin walking protesters backwards. Protesters appear to be obeying. Police then charge at protesters, shoving several to the ground and into bushes. In an attempt to make targeted arrests and push protesters away from the ICE facility, federal agents fired tear gas, pepper balls, and stun grenades at the crowd, striking protesters and journalists alike. This occurred after an ambulance was brought for an earlier arrestee, though their condition and the nature of their injuries is unknown. At a protest against the forced removal of a homeless encampment in Echo Park, police attempt to move protesters away from the park. In this video, an officer is seen repeatedly shoving a protester with a baton. A reporter who attend the protest as a protester shared a picture of himself with his arm in a sling, as well as an x-ray. He states that the LAPD broke his arm with a baton. Around 2 AM Pacfic time outside the Penumbra Kelly Building, police charged at the line of protester shields, using excessive force to detain protesters who had thrown only eggs up to that point. Police can be seen dragging protesters, throwing protesters to the ground, shoving others, and arresting several. A police officer comes from behind a protester, lifts him over shoulder height and then slams him into the road, head first. Note: major construction was occurring on this date, causing the area to look slightly different. Footage shows police rushing at protesters near Lombard and Pacific Highway. Several protesters are tackled and shoved to the ground. The reporter filming states that at least one bike was confiscated. Video shows bicycle cops quickly approaching a group of protesters just outside an area cordoned off with police tape, presumably because they considered one or more of them to have crossed the boundary. Without warning, the cops tackle two protesters to the ground. Someone can be heard shouting \"get your knee off their neck!\" One of the videos clearly shows an officer placing his knee on the neck of one of the individuals. This incident occurred at Broadway and Pine. A PPB officer shoves a protester down S Bond Ave, yelling, \"Get on the sidewalk.\" After the protester is on the sidewalk, the officer shoves the protester to the ground and trains his gun on the protester. Police hit an African American journalist for the WSJ in the face multiple times. He lost his glasses and injured his ankle as he was following instructions to back away and had his hands up. He had his press badge displayed. The Manhattan DA is investigating the incident. Strain fought with police near Fifth Third Field after a Mud Hens game. He allegedly crossed police barriers before the fireworks display, cursed at an officer, and struggled with police. Officers forced him to the ground. Officers ordered a handcuffed Mr. Strain to stand, but he refused. When they pulled him to his feet, \"he kept his feet dangling.\" Strain died months later of multiple medical complications of quadriplegia, including pneumonia, sepsis, and a broken neck. Police and protesters face off in the street. Police charge without warning, tackling a protester facing the other direction. The protester is then arrested. Law enforcement push and shove a crowd of peaceful protesters with riot shields. Footage shows police have hidden badge numbers and are not wearing body cams. Lowndes County sheriff, Ashley Paulk, confiscated a \"F\\\\*ck Trump\" sign from a protester, citing it as \"evidence\" for a crime not stated, in itself a violation of 1st Amendment rights. The woman attempted to grab the sign back and the sheriff choked her in response, before protesters separated the two. In a later statement, the sheriff said he would continue to charge protesters carrying posters with profanity with misdemeanor disorderly conduct, in violation of Supreme Court case [Cohen v. California](https://scholar.google.com/scholar_case?case=7398433541275578772&q=cohen+v.+california&hl=en&as_sdt=3,39) which ruled a man wearing a \"Fuck the Draft\" jacket could not be convicted for disturbing the peace. In addition, a [Georgia supreme court case](https://law.justia.com/cases/georgia/supreme-court/2017/s17a1040.html) cleared a man charged with disorderly conduct for raising his middle finger in a church. The sheriff cited a Georgia law allowing misdemeanor charges for profanity in the presence of an individual under 14 years of age. In the background of the second clip, a police cruiser marked \"Valdosta\" can be seen, establishing the location. A protester is seen standing in the street near the Portland Police Association while police give a dispersal order. One officer shoves the protester to the ground. The protester is then pushed off towards the sidewalk as she refuses to move. Shortly after midnight on August 23rd, police disperse protesters on the sidewalk. Police can be seen shoving two individuals obeying police direction. Officers then confront members of the Wall of Moms (noted by yellow shirts) sitting on the grass and shove them. This protest occurred on residential streets near Normandale Park. Police and protesters face off at North Michigan Avenue and East Wacker Drive. Police rip umbrellas away from protesters. Police then begin shoving protesters, before striking them with batons and allegedly discharging pepper spray. Police additionally pepper sprayed protesters. An alternate angle provided by the Chicago Police Department, shows police initiating violence in the top left of the video at 0:52. Footage shows officers repeatedly striking protesters with bicycles. The exact location is uncertain, though around 7:30 PM, the protest was at Belmont Rd and Columbia Rd, before ending around 10:30 PM at 14th St and U St. On May 29th, an officer slams a woman on to the ground, breaking her clavicle. The incident took place near Lenox Square mall in the Buckhead area of Atlanta. The police asked Aquil Qureshi for money. When he refused, they started beating him with pistol butts on his head. Then they held him from his legs and threw him off the terrace. #JusticeForAquilQureshi https://t.co/wOTkLXrK44 LaMont Robinson died July 10, 2004, three months after he’d slipped into a coma during an altercation with police who used a chokehold to prevent him from swallowing what they believed was crack cocaine. Police strike a protester with batons, before tackling him and arresting him. They shove other protesters with batons. Shortly after, police pin a man to the ground and kneel on him to make an arrest. A journalist identifies herself at the scene (link 3) and is credited with a first-person video (link 2) of the incident where she is shoved by police as she displays her press badge and films. Additional footage (link 4) from a journalist involved in the incident shows evidence of police shoving protesters and journalists throughout the night. Protesters are seen locking arms and bunching up on the sidewalk. Police target several individuals for arrest, without having declared an unlawful assembly. Protesters are ripped out of the clump and thrown to the ground before being arrested. A protester is seen in a scuffle with police. It is unknown what caused this interaction. Police repeatedly push and shove the protester with no attempt to detain the individual. The incident is believed to have occurred near City Hall. Members of the Unified Command (Multnomah County Sheriff’s Office, Portland Police Bureau and Oregon State Police) pushed protesters back (on the 600 block of SW Alder St). One officer strikes a protester repeatedly with their baton. That protester was later arrested. At the intersection of Bergen and 5th, an NYPD officer pushes a civilian down towards trash cans. Multiple police officers tackle a cyclist on a Black Lives Matter group ride. The man is repeatedly punched in the head by an officer and as the person filming shouts at him not to resist, he shouts \"I’m not!\" At protests on the night of June 4th, multiple reporters share footage of police shoving them with batons. One reporter states she was released from arrest after showing her press badge, but says she was shoved around first. 15 minutes into a protest near the Blazers Boys and Girls Club, police violently arrest protesters en masse, tackling some protesters and deploying mace against others. Police also ripped umbrellas away from protesters, destroying them. Police had not declared an unlawful assembly, although police had allegedly issued a single warning to protesters to stay off the streets. Several journalists were shoved by police and forced to disperse, in clear violation of the recently renewed TRO exempting members of the press from dispersal orders. In a press release posted after the fact, police alleged that the protesters were blocking traffic and wearing all black, which would be difficult for motorists to see. As a result, Portland police said, they arrested protesters out of concern for their safety. Police later released charges, calling the arrests \"targeted;\" a journalist spoke with a Portland Police spokesperson who defined targeted arrests means \"those committing a crime.\" 26 protesters were arrested; all were charged with interfering with a police officer and with disorderly conduct. Some others were charged with resisting arrest, attempted escape, and possession of a concealed weapon. “ Bloody Friday , “ Glasgow 1919. Glasgow Unions Chairman , Manny Shinwell , addresses the striking crowd before a Police baton charge started the fighting in George Square. Manny Shinwell was tried and convicted of “ Inciting a riot” and was sentenced to 5 months in gaol. https://t.co/BmFo1pLsGf Footage shows a police line marching protesters down Yamhill between 5th and 6th. All protesters appear to be following police direction. However, some protesters move slower and are shoved by police. Police also brandish their batons while threatening protesters to move faster. Batons are used to shove protesters to the ground on multiple occasions. Towards the end of the footage, one protester is thrown to the ground and struck with a baton. Footage taken at Union Square and East 17th street shows multiple officers grabbing and shoving a protester to make an arrest. Another protester confronts an officer who strikes the protester in the legs with a baton. The baton snaps in two. After police clear the protester shield line near Peninsula Park, protesters follow dispersal orders. Police continue to charge at protesters, shoving them with batons. A photojournalist with the Atlanta Journal Constitution was detained by police at a protest. Another journalist spotted her zip-tied with her hands behind her back and sitting under an overpass. He then began speaking with officers, who seemed confused as to why she had been arrested. It appears that one officer handcuffed her, then walked away. Another officer notes the journalist’s press pass and asks who detained her. The journalist said the arresting officer left before giving a name. She was soon released, having been detained for about 10 minutes. The incident begins around 13:30 in the Facebook video. Guanda Denise Turner slipped into a coma and died a week after officers Joel Camrin and Steve Smock used a carotid restraint (\"choke hold\") on her. A young woman was injured by a rubber bullet she took to the head. According to police, officers responded at about 8 p.m. to a report that a man was breaking up an apartment. \"He was covered with blood when the officers arrived,\" said sheriff’s Capt. Mike McCabe. Officers alleged that Custer confronted them, then went into apparent cardiac arrest as they tried to restrain him. Custer died at a hospital at about 9 p.m. Custer’s family said the cause of his death was positional asphyxiation. Footage shows 2 agents in fatigues, either DHS or U.S. Marshals, kneeling on a protester to make an arrest near 4th and Main. A journalist attempting to film is harassed and told to move faster by a third agent. At dueling rallies in Pacific Beach between Pro-Trump supporters and Black Lives Matter counter-protesters, riot police lined up facing the BLM group. Footage taken after the beginning of a scuffle shows police with batons beating a BLM protester on the ground. Police can be heard firing pepper balls at protesters throughout the footage. The protester is then released without arrest. In an incident outside the Hugh Carey Tunnel (West and Morris Streets in Manhattan), police are seen kneeling on a protester to arrest them. The filmer walks down the street, following the advancing police line. An NYPD official wearing a jacket bearing the word \"LEGAL,\" throws a protester’s skateboard off the road. The filmer then captures several officers pinning down a protester to arrest them. An officer stands and strikes the protester with his baton repeatedly. Footage taken at E 136th St and Brook Ave in the Bronx shows police pointing out and attempting to apprehend protest organizer Shannon Jones. She retreats onto the sidewalk and the crowd of protesters protects her. Police then charge into the crowd. A white-shirted officer isolates Shannon, chokes, grabs, and shoves her. When another protester intervenes, the officer punches him and shoves him away. Jones is then arrested. The Police try to break up the peaceful protest by resorting to hitting individuals with batons. Three police officers run over to and tackle man with hands raised giving an interview to local news. Location: Bailey Avenue & Decker Street, Buffalo. Around midnight on August 15th outside the Penumbra Kelly Building, police declared a protest a riot. Protesters assembled behind wooden shields. Police charged the protesters, striking them repeatedly. One officer is seen swinging his fists at scattering protesters. A PCA who was treating someone with a rubber bullet wound reports that officers approached the nurses’ tent and opened fire with rubber bullets. On May 30th, the medical tent was staged at a Kmart on Nicolet and Lake, and is believed to have been staged there on the 31st as well. Reporter Josie Huang was covering the shooting of 2 LASD officers and a small ensuing protest in LA when she was arrested for \"obstruction of justice;\" Huang states she was simply documenting an arrest. In addition, officers claim she was not properly identified, but footage shows a LASD-issued press pass around her neck. Huang was released early on September 13th. Footage Huang uploaded following her release shows officers shoving her and knocking her phone to the ground. Officers then step on and kick the phone while Huang can be heard stating that officers are hurting her. Footage and reports show approximately 30 police officers in 6-7 squad cars arrive to arrest a woman in a car with her 9 year old child. Officers arrived on the scene brandishing mace, alleging that the woman assaulted two police officers several days prior. She was dragged from her car and the car was towed from her home. Officers cited a Star Wars meme depicting a Landspeeder with a caption saying, \"This machine kills facists,\" as intent to kill officers. The woman states she tried to help a friend who was being shot with rubber bullets. The woman lives somewhere in the Capitol Hill neighborhood of Seattle. Footage from 3 tiktok videos shows numerous officers (approximately 8) arresting one protester. Protester appears to passively resist by locking his arms. He says, \"Sir, I will go with you if you stop grabbing my arms.\" Other protesters can be heard asking why the man is under arrest. The protester can be heard screaming in pain as police force him into cuffs. Police then lift him by his limbs and his pants to carry him away. The third link appears to be the third in chronological order as the protesters arms are already cuffed. It is unclear why he is lying face down in the bushes at the beginning of this clip. It additionally shows the careless and physical manner of arrest used by the police. Police seemingly single out a person that is being the most vocal, push and tackle him to the ground despite him not resisting. This occurred near the State Capitol Building at East 300 North Street and North State Street. A protester approaches cops making an arrest and is restrained by an officer while a 2nd officer punches her. The Washington Post reports police confronted protesters in the vicinity of 18th and Willard. The Huntsville Police Department is investigating an incident captured Sunday night on a Facebook Live video showing several officers struggling with a man on the ground and one Huntsville police officer stomping on the man’s leg. https://t.co/ZbKKP3y8NT Footage shows police charging at protesters in the street near the Penumbra Kelly building. The filmer, a journalist, is standing on the sidewalk with other journalists. Two officers run onto the sidewalk and shove members of the press with their batons. A protester is seen bleeding from the face. Protest medics treat them at the scene of the protest. The protester states they were shot with an impact munition by a sheriff deputy. Police treating citizens with unnecessary force police seen kicking people to the ground with unnecessary force during a march Police make arrests at a rally\\r\\n Police use batons to disband a group of protestors  Multiple cops hit him with their batons. A man shows injuries to his head and arms, allegedly received from police. He states that he was walking home near the Portland Police Assocation when he was struck with batons and shot with rubber bullets. Protest medics administer first aid to the man. Police seen trying to disperse a group of protestors. Lots of shoving and pushing involved In Detroit they are still having police treating citizens with unnecessary force! #PoliceBrutality the neighbors would not have it! Then the cop who’s doing the pushing tells them that he’s going to keep punching the guy if they don’t stop throwing garbage to try to stop them from punching him Woman facepalming. #DementedReasoning Police cars revolving lightPolice violence has intensified! Here is our video of Thai Police trying to breathe after they tear gassed themselves! Now they know how #democracy protesters feel when being abused by #PoliceBrutality  The police used unnecessary violence against defenseless people.  Houston cops punching a woman in her face during arrest. WHAT KIND OF TRAINING ARE THESE COPS GETTING?\\r\\n5YRS IN NYPD, I NEVER SEEN THESE TACTICS USED. \\r\\nWITH PROPER TRAINING YOU CAN TAKE A SUSPECT DOWN BY GRABBING 1 WRIST.\\r\\n\\r\\nA GROUP OF COPS VIOLENTLY ATTACK A PROTESTER!  IT ENDS WITH THEM ON HER NECK!  Police stomping the head of a man who was on his hands and knees causing his head to hit concrete  Police lathi-charged girl students at Dhanbad collectorate where they gathered to protest  police officers  beat the protesting women with sticks Civilian beaten with batons and kicked by four Los Angeles Police Department officers. Civilian choked by a police officer following an altercation The 18-year-old student was beaten up using batons during an arrest. Five men and two women were severely beaten by members of the Police Department How could you beat him up while he was in custody?!! Cops beat youngster with batons for asking too many questions This video shows how the Thai police officers are using violence to attack an unarmed protester. Cuban police shove woman headfirst into a van as she screams. Video shows an Atlanta police officer kicking a woman in the head  A 17/yr old minority, accused of vaping, put his hands up, was requested to get on the ground, went to take his bag off & they tased him. Cuban police and Communist  supporters grab a female protester by her hair. THIS is how the people are treated #soscubalibre #cubalibre #protest #freecuba #CubanLivesMatter #soscuba #Help #PoliceBrutality #evil Cops beat up college students for asking \"too many questions\"... This is the horrifying moment a 15yr old schoolboy was punched to the ground & kicked in a violent attack by an on-duty officer.\\r\\n Policeman seen beating child during today’s pro-democracy protests in #Berlin Flag of Germany  #fascism #EU  #Merkel Flag of China #PoliceBrutality #ViolencesPolicières #carehomes #careworkers #VaccinePassports #VaccinObligatoire #COVID1984 Additional footage of the police assault on the owner of the Hoxton Docks who came to complain about the raid. He was arrested for \"attempted assault\" and \"dangerous driving\" [correction on last post]. And was not released till 5am the next morning! #PoliceBrutality #killthebill\\r\\n Footage of NBA player getting arrested. His friend also gets arrested for filming. #SriLankan #Police arresting two old ladies at the Parliament Junction during the anti-education-militarization #protest today. They were manhandled & actually carried into the bus by several police officers. The NYPD brutalized members of the community this is unexceptional and we must demand accountability \\r\\n Police manhandle university professor during his arrest... Police showed up and put this guy in a headlock Guy was getting agressive and police hit him with baton'"
            ]
          },
          "metadata": {
            "tags": []
          },
          "execution_count": 4
        }
      ]
    },
    {
      "cell_type": "code",
      "metadata": {
        "id": "_aGWrZvAvwjs"
      },
      "source": [
        "def clean_text(doc):\n",
        "  tokens = doc.split()\n",
        "  # removing punctuations\n",
        "  table = str.maketrans('','',string.punctuation)\n",
        "  tokens = [w.translate(table) for w in tokens] # tokens devoid of punctuation\n",
        "  #removing special characters\n",
        "  tokens = [word for word in tokens if word.isalpha()]\n",
        "  # convert to lowercase\n",
        "  tokens = [word.lower() for word in tokens]\n",
        "  return tokens"
      ],
      "execution_count": 5,
      "outputs": []
    },
    {
      "cell_type": "code",
      "metadata": {
        "colab": {
          "base_uri": "https://localhost:8080/"
        },
        "id": "SERHUkOOxNEt",
        "outputId": "9b3bb7b3-7885-4e2f-95e5-8fd9942784ba"
      },
      "source": [
        "tokens = clean_text(data)\n",
        "print(tokens[:50])"
      ],
      "execution_count": 6,
      "outputs": [
        {
          "output_type": "stream",
          "text": [
            "['update', 'vacaville', 'police', 'punched', 'in', 'the', 'face', 'by', 'officer', 'isolated', 'incident', 'or', 'collective', 'canine', 'crisis', 'new', 'york', 'police', 'departmentmade', 'in', 'israel', 'watch', 'as', 'officers', 'of', 'the', 'nypd', 'brutally', 'attack', 'palestinian', 'supporters', 'during', 'a', 'peacful', 'march', 'ethniccleansing', 'palestine', 'savesheikhjarrah', 'savesilwan', 'freepalestine', 'usa', 'nypd', 'brutality', 'israel', 'terrorism', 'bank', 'holiday', 'brawl', 'between', 'police']\n"
          ],
          "name": "stdout"
        }
      ]
    },
    {
      "cell_type": "code",
      "metadata": {
        "colab": {
          "base_uri": "https://localhost:8080/"
        },
        "id": "NkfgQQfdxe39",
        "outputId": "c94894fc-7235-44e5-d7c3-fe427388bf9a"
      },
      "source": [
        "len(tokens)"
      ],
      "execution_count": 7,
      "outputs": [
        {
          "output_type": "execute_result",
          "data": {
            "text/plain": [
              "14554"
            ]
          },
          "metadata": {
            "tags": []
          },
          "execution_count": 7
        }
      ]
    },
    {
      "cell_type": "code",
      "metadata": {
        "colab": {
          "base_uri": "https://localhost:8080/"
        },
        "id": "D1JpFC68_0CX",
        "outputId": "911bd2cd-f42e-4cc4-c47a-d7f1232ba3a4"
      },
      "source": [
        "len(set(tokens))"
      ],
      "execution_count": 8,
      "outputs": [
        {
          "output_type": "execute_result",
          "data": {
            "text/plain": [
              "2524"
            ]
          },
          "metadata": {
            "tags": []
          },
          "execution_count": 8
        }
      ]
    },
    {
      "cell_type": "code",
      "metadata": {
        "colab": {
          "base_uri": "https://localhost:8080/"
        },
        "id": "Tv8tvRbo_74t",
        "outputId": "ec081ce9-4e1a-4c3d-a238-f7c48f93f2d3"
      },
      "source": [
        "length =50 + 1\n",
        "lines = []\n",
        "\n",
        "for i in range(length,len(tokens)):\n",
        "  seq = tokens[i-length:i]\n",
        "  line = \" \".join(seq)\n",
        "  lines.append(line)\n",
        "  #if i > 3600:\n",
        "  #  break\n",
        "\n",
        "print(len(lines))"
      ],
      "execution_count": 9,
      "outputs": [
        {
          "output_type": "stream",
          "text": [
            "14503\n"
          ],
          "name": "stdout"
        }
      ]
    },
    {
      "cell_type": "code",
      "metadata": {
        "colab": {
          "base_uri": "https://localhost:8080/",
          "height": 86
        },
        "id": "GgByT7oUW5va",
        "outputId": "77915914-bd65-4884-b2c1-89cf9ce2fd69"
      },
      "source": [
        "lines[0]"
      ],
      "execution_count": 10,
      "outputs": [
        {
          "output_type": "execute_result",
          "data": {
            "application/vnd.google.colaboratory.intrinsic+json": {
              "type": "string"
            },
            "text/plain": [
              "'update vacaville police punched in the face by officer isolated incident or collective canine crisis new york police departmentmade in israel watch as officers of the nypd brutally attack palestinian supporters during a peacful march ethniccleansing palestine savesheikhjarrah savesilwan freepalestine usa nypd brutality israel terrorism bank holiday brawl between police and'"
            ]
          },
          "metadata": {
            "tags": []
          },
          "execution_count": 10
        }
      ]
    },
    {
      "cell_type": "code",
      "metadata": {
        "colab": {
          "base_uri": "https://localhost:8080/",
          "height": 35
        },
        "id": "T51IqZckXAKT",
        "outputId": "8935ac49-51ea-49f7-9955-84c6d11aec71"
      },
      "source": [
        "tokens[0]"
      ],
      "execution_count": 11,
      "outputs": [
        {
          "output_type": "execute_result",
          "data": {
            "application/vnd.google.colaboratory.intrinsic+json": {
              "type": "string"
            },
            "text/plain": [
              "'update'"
            ]
          },
          "metadata": {
            "tags": []
          },
          "execution_count": 11
        }
      ]
    },
    {
      "cell_type": "code",
      "metadata": {
        "colab": {
          "base_uri": "https://localhost:8080/",
          "height": 35
        },
        "id": "o26CeiTFXD9Q",
        "outputId": "314b76f1-66fd-40ba-efd2-6f1d9eada444"
      },
      "source": [
        "tokens[50]"
      ],
      "execution_count": 12,
      "outputs": [
        {
          "output_type": "execute_result",
          "data": {
            "application/vnd.google.colaboratory.intrinsic+json": {
              "type": "string"
            },
            "text/plain": [
              "'and'"
            ]
          },
          "metadata": {
            "tags": []
          },
          "execution_count": 12
        }
      ]
    },
    {
      "cell_type": "code",
      "metadata": {
        "colab": {
          "base_uri": "https://localhost:8080/",
          "height": 69
        },
        "id": "0Bgp7sRDXIK0",
        "outputId": "40021931-cdbb-40b5-d40c-10b5c81e12f1"
      },
      "source": [
        "lines[1]"
      ],
      "execution_count": 13,
      "outputs": [
        {
          "output_type": "execute_result",
          "data": {
            "application/vnd.google.colaboratory.intrinsic+json": {
              "type": "string"
            },
            "text/plain": [
              "'vacaville police punched in the face by officer isolated incident or collective canine crisis new york police departmentmade in israel watch as officers of the nypd brutally attack palestinian supporters during a peacful march ethniccleansing palestine savesheikhjarrah savesilwan freepalestine usa nypd brutality israel terrorism bank holiday brawl between police and pub'"
            ]
          },
          "metadata": {
            "tags": []
          },
          "execution_count": 13
        }
      ]
    },
    {
      "cell_type": "code",
      "metadata": {
        "id": "i7MZJmi8XWQc"
      },
      "source": [
        "# prepare X and y\n",
        "\n",
        "import numpy as np\n",
        "from tensorflow.keras.preprocessing.text import Tokenizer\n",
        "from tensorflow.keras.utils import to_categorical\n",
        "from tensorflow.keras.models import Sequential\n",
        "from tensorflow.keras.layers import Dense,LSTM,Embedding\n",
        "from tensorflow.keras.preprocessing.sequence import pad_sequences"
      ],
      "execution_count": 14,
      "outputs": []
    },
    {
      "cell_type": "code",
      "metadata": {
        "id": "cG8Xh3GcYA81"
      },
      "source": [
        "tokenizer = Tokenizer()\n",
        "tokenizer.fit_on_texts(lines)\n",
        "# Word embedding aka converting tokens to integers\n",
        "sequences = tokenizer.texts_to_sequences(lines)\n"
      ],
      "execution_count": 15,
      "outputs": []
    },
    {
      "cell_type": "code",
      "metadata": {
        "id": "XOHLUP04YfeA"
      },
      "source": [
        "#convert sequences to numpy array\n",
        "sequences = np.array(sequences)"
      ],
      "execution_count": 16,
      "outputs": []
    },
    {
      "cell_type": "code",
      "metadata": {
        "id": "XFIFxNE8ZNrv"
      },
      "source": [
        "X,y = sequences[:,:-1], sequences[:,-1]"
      ],
      "execution_count": 17,
      "outputs": []
    },
    {
      "cell_type": "code",
      "metadata": {
        "colab": {
          "base_uri": "https://localhost:8080/"
        },
        "id": "IqwrDWwJZ7OF",
        "outputId": "2a597311-ef81-47f3-c9b7-405a25ee5727"
      },
      "source": [
        "X[0]"
      ],
      "execution_count": 18,
      "outputs": [
        {
          "output_type": "execute_result",
          "data": {
            "text/plain": [
              "array([2524, 2523,    4,  146,    7,    1,  174,   19,   10, 2520,   89,\n",
              "        145, 2519, 2518, 2517, 1187, 2516,    4, 2515,    7, 1188, 2514,\n",
              "         39,   15,    6,    1,  284, 1183,  330,  772,  771,   69,    2,\n",
              "       2508,  544, 2507, 2506, 2505, 2503, 2502, 2501,  284, 1181, 1188,\n",
              "       2500,  770, 1180,  769,  173,    4])"
            ]
          },
          "metadata": {
            "tags": []
          },
          "execution_count": 18
        }
      ]
    },
    {
      "cell_type": "code",
      "metadata": {
        "colab": {
          "base_uri": "https://localhost:8080/"
        },
        "id": "srC4pss8Z8cu",
        "outputId": "8b52eaba-bb0b-443c-dc92-70b4993921c5"
      },
      "source": [
        "y[0]"
      ],
      "execution_count": 19,
      "outputs": [
        {
          "output_type": "execute_result",
          "data": {
            "text/plain": [
              "3"
            ]
          },
          "metadata": {
            "tags": []
          },
          "execution_count": 19
        }
      ]
    },
    {
      "cell_type": "code",
      "metadata": {
        "id": "cM9-dtIMaDdA"
      },
      "source": [
        "vocab_size = len(tokenizer.word_index) + 1"
      ],
      "execution_count": 20,
      "outputs": []
    },
    {
      "cell_type": "code",
      "metadata": {
        "id": "e4gnSQizaoXD"
      },
      "source": [
        "y = to_categorical(y, num_classes = vocab_size)\n",
        "sequence_length = X.shape[1]"
      ],
      "execution_count": 21,
      "outputs": []
    },
    {
      "cell_type": "code",
      "metadata": {
        "colab": {
          "base_uri": "https://localhost:8080/"
        },
        "id": "2iiUgtNJbFql",
        "outputId": "179dc571-8d54-40ee-8f32-855048719cd1"
      },
      "source": [
        "#LSTM Model\n",
        "\n",
        "model = Sequential()\n",
        "model.add(Embedding(input_dim=vocab_size,output_dim=50,input_length= sequence_length))\n",
        "model.add(LSTM(100,return_sequences=True))\n",
        "model.add(LSTM(100))\n",
        "model.add(Dense(100, activation='relu'))\n",
        "model.add(Dense(vocab_size,activation='softmax'))\n",
        "\n",
        "model.summary()"
      ],
      "execution_count": 22,
      "outputs": [
        {
          "output_type": "stream",
          "text": [
            "Model: \"sequential\"\n",
            "_________________________________________________________________\n",
            "Layer (type)                 Output Shape              Param #   \n",
            "=================================================================\n",
            "embedding (Embedding)        (None, 50, 50)            126250    \n",
            "_________________________________________________________________\n",
            "lstm (LSTM)                  (None, 50, 100)           60400     \n",
            "_________________________________________________________________\n",
            "lstm_1 (LSTM)                (None, 100)               80400     \n",
            "_________________________________________________________________\n",
            "dense (Dense)                (None, 100)               10100     \n",
            "_________________________________________________________________\n",
            "dense_1 (Dense)              (None, 2525)              255025    \n",
            "=================================================================\n",
            "Total params: 532,175\n",
            "Trainable params: 532,175\n",
            "Non-trainable params: 0\n",
            "_________________________________________________________________\n"
          ],
          "name": "stdout"
        }
      ]
    },
    {
      "cell_type": "code",
      "metadata": {
        "id": "WL0Th2ejcnC3"
      },
      "source": [
        "model.compile(loss = 'categorical_crossentropy',optimizer = 'adam',metrics = ['accuracy'])"
      ],
      "execution_count": 23,
      "outputs": []
    },
    {
      "cell_type": "code",
      "metadata": {
        "colab": {
          "base_uri": "https://localhost:8080/",
          "height": 1000
        },
        "id": "TuUAfBMGc6Lx",
        "outputId": "e71115f4-59b3-424a-cfb1-7df3e5ad49d4"
      },
      "source": [
        "model.fit(X,y,batch_size= 100, epochs = 340)"
      ],
      "execution_count": 24,
      "outputs": [
        {
          "output_type": "stream",
          "text": [
            "Epoch 1/340\n",
            "146/146 [==============================] - 34s 212ms/step - loss: 6.5555 - accuracy: 0.0603\n",
            "Epoch 2/340\n",
            "146/146 [==============================] - 31s 211ms/step - loss: 6.1694 - accuracy: 0.0631\n",
            "Epoch 3/340\n",
            "146/146 [==============================] - 31s 211ms/step - loss: 6.0558 - accuracy: 0.0631\n",
            "Epoch 4/340\n",
            "146/146 [==============================] - 31s 212ms/step - loss: 5.9260 - accuracy: 0.0678\n",
            "Epoch 5/340\n",
            "146/146 [==============================] - 31s 214ms/step - loss: 5.7762 - accuracy: 0.0724\n",
            "Epoch 6/340\n",
            "146/146 [==============================] - 31s 213ms/step - loss: 5.6745 - accuracy: 0.0738\n",
            "Epoch 7/340\n",
            "146/146 [==============================] - 31s 210ms/step - loss: 5.5854 - accuracy: 0.0781\n",
            "Epoch 8/340\n",
            "146/146 [==============================] - 31s 211ms/step - loss: 5.4859 - accuracy: 0.0875\n",
            "Epoch 9/340\n",
            "146/146 [==============================] - 31s 211ms/step - loss: 5.3930 - accuracy: 0.0912\n",
            "Epoch 10/340\n",
            "146/146 [==============================] - 31s 210ms/step - loss: 5.3014 - accuracy: 0.0976\n",
            "Epoch 11/340\n",
            "146/146 [==============================] - 31s 211ms/step - loss: 5.1979 - accuracy: 0.1050\n",
            "Epoch 12/340\n",
            "146/146 [==============================] - 31s 212ms/step - loss: 5.1010 - accuracy: 0.1118\n",
            "Epoch 13/340\n",
            "146/146 [==============================] - 31s 211ms/step - loss: 5.0102 - accuracy: 0.1176\n",
            "Epoch 14/340\n",
            "146/146 [==============================] - 31s 212ms/step - loss: 4.9208 - accuracy: 0.1221\n",
            "Epoch 15/340\n",
            "146/146 [==============================] - 31s 212ms/step - loss: 4.8373 - accuracy: 0.1243\n",
            "Epoch 16/340\n",
            "146/146 [==============================] - 31s 211ms/step - loss: 4.7448 - accuracy: 0.1305\n",
            "Epoch 17/340\n",
            "146/146 [==============================] - 31s 210ms/step - loss: 4.6603 - accuracy: 0.1340\n",
            "Epoch 18/340\n",
            "146/146 [==============================] - 31s 210ms/step - loss: 4.5720 - accuracy: 0.1385\n",
            "Epoch 19/340\n",
            "146/146 [==============================] - 31s 211ms/step - loss: 4.4868 - accuracy: 0.1450\n",
            "Epoch 20/340\n",
            "146/146 [==============================] - 31s 212ms/step - loss: 4.4065 - accuracy: 0.1496\n",
            "Epoch 21/340\n",
            "146/146 [==============================] - 31s 210ms/step - loss: 4.3252 - accuracy: 0.1512\n",
            "Epoch 22/340\n",
            "146/146 [==============================] - 31s 211ms/step - loss: 4.5021 - accuracy: 0.1457\n",
            "Epoch 23/340\n",
            "146/146 [==============================] - 31s 212ms/step - loss: 4.6269 - accuracy: 0.1387\n",
            "Epoch 24/340\n",
            "146/146 [==============================] - 31s 213ms/step - loss: 4.2741 - accuracy: 0.1624\n",
            "Epoch 25/340\n",
            "146/146 [==============================] - 31s 213ms/step - loss: 4.1756 - accuracy: 0.1636\n",
            "Epoch 26/340\n",
            "146/146 [==============================] - 31s 212ms/step - loss: 4.0890 - accuracy: 0.1733\n",
            "Epoch 27/340\n",
            "146/146 [==============================] - 31s 213ms/step - loss: 3.9822 - accuracy: 0.1794\n",
            "Epoch 28/340\n",
            "146/146 [==============================] - 31s 213ms/step - loss: 3.8775 - accuracy: 0.1904\n",
            "Epoch 29/340\n",
            "146/146 [==============================] - 31s 212ms/step - loss: 3.7813 - accuracy: 0.1983\n",
            "Epoch 30/340\n",
            "146/146 [==============================] - 31s 214ms/step - loss: 3.6959 - accuracy: 0.2033\n",
            "Epoch 31/340\n",
            "146/146 [==============================] - 31s 214ms/step - loss: 3.5875 - accuracy: 0.2184\n",
            "Epoch 32/340\n",
            "146/146 [==============================] - 31s 214ms/step - loss: 3.4954 - accuracy: 0.2266\n",
            "Epoch 33/340\n",
            "146/146 [==============================] - 31s 214ms/step - loss: 3.4284 - accuracy: 0.2336\n",
            "Epoch 34/340\n",
            "146/146 [==============================] - 31s 213ms/step - loss: 3.3446 - accuracy: 0.2501\n",
            "Epoch 35/340\n",
            "146/146 [==============================] - 31s 215ms/step - loss: 3.2493 - accuracy: 0.2600\n",
            "Epoch 36/340\n",
            "146/146 [==============================] - 31s 213ms/step - loss: 3.1590 - accuracy: 0.2728\n",
            "Epoch 37/340\n",
            "146/146 [==============================] - 31s 213ms/step - loss: 3.1141 - accuracy: 0.2789\n",
            "Epoch 38/340\n",
            "146/146 [==============================] - 31s 213ms/step - loss: 3.0003 - accuracy: 0.2938\n",
            "Epoch 39/340\n",
            "146/146 [==============================] - 31s 214ms/step - loss: 2.9161 - accuracy: 0.3107\n",
            "Epoch 40/340\n",
            "146/146 [==============================] - 31s 213ms/step - loss: 2.8588 - accuracy: 0.3211\n",
            "Epoch 41/340\n",
            "146/146 [==============================] - 31s 213ms/step - loss: 2.7541 - accuracy: 0.3423\n",
            "Epoch 42/340\n",
            "146/146 [==============================] - 31s 214ms/step - loss: 2.6709 - accuracy: 0.3591\n",
            "Epoch 43/340\n",
            "146/146 [==============================] - 31s 215ms/step - loss: 2.5850 - accuracy: 0.3763\n",
            "Epoch 44/340\n",
            "146/146 [==============================] - 31s 214ms/step - loss: 2.5219 - accuracy: 0.3874\n",
            "Epoch 45/340\n",
            "146/146 [==============================] - 31s 215ms/step - loss: 2.4612 - accuracy: 0.3990\n",
            "Epoch 46/340\n",
            "146/146 [==============================] - 31s 215ms/step - loss: 2.4018 - accuracy: 0.4112\n",
            "Epoch 47/340\n",
            "146/146 [==============================] - 31s 215ms/step - loss: 2.3080 - accuracy: 0.4320\n",
            "Epoch 48/340\n",
            "146/146 [==============================] - 31s 215ms/step - loss: 2.2377 - accuracy: 0.4407\n",
            "Epoch 49/340\n",
            "146/146 [==============================] - 31s 214ms/step - loss: 2.1716 - accuracy: 0.4546\n",
            "Epoch 50/340\n",
            "146/146 [==============================] - 31s 214ms/step - loss: 2.1301 - accuracy: 0.4654\n",
            "Epoch 51/340\n",
            "146/146 [==============================] - 31s 214ms/step - loss: 2.0676 - accuracy: 0.4778\n",
            "Epoch 52/340\n",
            "146/146 [==============================] - 31s 214ms/step - loss: 1.9894 - accuracy: 0.4973\n",
            "Epoch 53/340\n",
            "146/146 [==============================] - 31s 213ms/step - loss: 1.9149 - accuracy: 0.5135\n",
            "Epoch 54/340\n",
            "146/146 [==============================] - 31s 213ms/step - loss: 1.8652 - accuracy: 0.5261\n",
            "Epoch 55/340\n",
            "146/146 [==============================] - 31s 213ms/step - loss: 1.8060 - accuracy: 0.5388\n",
            "Epoch 56/340\n",
            "146/146 [==============================] - 31s 213ms/step - loss: 1.7684 - accuracy: 0.5492\n",
            "Epoch 57/340\n",
            "146/146 [==============================] - 31s 213ms/step - loss: 1.7106 - accuracy: 0.5604\n",
            "Epoch 58/340\n",
            "146/146 [==============================] - 31s 213ms/step - loss: 1.6676 - accuracy: 0.5751\n",
            "Epoch 59/340\n",
            "146/146 [==============================] - 31s 213ms/step - loss: 1.6038 - accuracy: 0.5857\n",
            "Epoch 60/340\n",
            "146/146 [==============================] - 31s 214ms/step - loss: 1.5696 - accuracy: 0.5948\n",
            "Epoch 61/340\n",
            "146/146 [==============================] - 31s 214ms/step - loss: 1.5281 - accuracy: 0.6059\n",
            "Epoch 62/340\n",
            "146/146 [==============================] - 31s 215ms/step - loss: 1.4703 - accuracy: 0.6209\n",
            "Epoch 63/340\n",
            "146/146 [==============================] - 31s 215ms/step - loss: 1.4458 - accuracy: 0.6236\n",
            "Epoch 64/340\n",
            "146/146 [==============================] - 31s 215ms/step - loss: 1.3785 - accuracy: 0.6459\n",
            "Epoch 65/340\n",
            "146/146 [==============================] - 31s 215ms/step - loss: 1.3354 - accuracy: 0.6586\n",
            "Epoch 66/340\n",
            "146/146 [==============================] - 32s 217ms/step - loss: 1.3000 - accuracy: 0.6641\n",
            "Epoch 67/340\n",
            "146/146 [==============================] - 32s 217ms/step - loss: 1.2606 - accuracy: 0.6728\n",
            "Epoch 68/340\n",
            "146/146 [==============================] - 32s 217ms/step - loss: 1.2326 - accuracy: 0.6833\n",
            "Epoch 69/340\n",
            "146/146 [==============================] - 32s 217ms/step - loss: 1.1839 - accuracy: 0.6958\n",
            "Epoch 70/340\n",
            "146/146 [==============================] - 32s 217ms/step - loss: 1.1745 - accuracy: 0.6927\n",
            "Epoch 71/340\n",
            "146/146 [==============================] - 32s 216ms/step - loss: 1.1350 - accuracy: 0.7099\n",
            "Epoch 72/340\n",
            "146/146 [==============================] - 32s 217ms/step - loss: 1.0700 - accuracy: 0.7263\n",
            "Epoch 73/340\n",
            "146/146 [==============================] - 32s 217ms/step - loss: 1.0790 - accuracy: 0.7227\n",
            "Epoch 74/340\n",
            "146/146 [==============================] - 32s 217ms/step - loss: 1.0474 - accuracy: 0.7301\n",
            "Epoch 75/340\n",
            "146/146 [==============================] - 32s 217ms/step - loss: 0.9988 - accuracy: 0.7426\n",
            "Epoch 76/340\n",
            "146/146 [==============================] - 32s 216ms/step - loss: 0.9658 - accuracy: 0.7528\n",
            "Epoch 77/340\n",
            "146/146 [==============================] - 32s 217ms/step - loss: 0.9097 - accuracy: 0.7687\n",
            "Epoch 78/340\n",
            "146/146 [==============================] - 32s 216ms/step - loss: 0.8730 - accuracy: 0.7785\n",
            "Epoch 79/340\n",
            "146/146 [==============================] - 31s 214ms/step - loss: 0.8499 - accuracy: 0.7840\n",
            "Epoch 80/340\n",
            "146/146 [==============================] - 31s 215ms/step - loss: 0.8332 - accuracy: 0.7905\n",
            "Epoch 81/340\n",
            "146/146 [==============================] - 31s 214ms/step - loss: 0.8168 - accuracy: 0.7934\n",
            "Epoch 82/340\n",
            "146/146 [==============================] - 31s 214ms/step - loss: 0.7745 - accuracy: 0.8067\n",
            "Epoch 83/340\n",
            "146/146 [==============================] - 31s 214ms/step - loss: 0.7550 - accuracy: 0.8096\n",
            "Epoch 84/340\n",
            "146/146 [==============================] - 31s 213ms/step - loss: 0.7282 - accuracy: 0.8173\n",
            "Epoch 85/340\n",
            "146/146 [==============================] - 31s 214ms/step - loss: 0.7108 - accuracy: 0.8197\n",
            "Epoch 86/340\n",
            "146/146 [==============================] - 31s 213ms/step - loss: 0.6813 - accuracy: 0.8315\n",
            "Epoch 87/340\n",
            "146/146 [==============================] - 31s 213ms/step - loss: 0.6337 - accuracy: 0.8452\n",
            "Epoch 88/340\n",
            "146/146 [==============================] - 31s 213ms/step - loss: 0.6256 - accuracy: 0.8466\n",
            "Epoch 89/340\n",
            "146/146 [==============================] - 31s 213ms/step - loss: 0.7201 - accuracy: 0.8104\n",
            "Epoch 90/340\n",
            "146/146 [==============================] - 31s 214ms/step - loss: 0.5865 - accuracy: 0.8558\n",
            "Epoch 91/340\n",
            "146/146 [==============================] - 31s 214ms/step - loss: 0.5957 - accuracy: 0.8543\n",
            "Epoch 92/340\n",
            "146/146 [==============================] - 31s 214ms/step - loss: 0.5295 - accuracy: 0.8740\n",
            "Epoch 93/340\n",
            "146/146 [==============================] - 31s 215ms/step - loss: 0.5020 - accuracy: 0.8847\n",
            "Epoch 94/340\n",
            "146/146 [==============================] - 31s 213ms/step - loss: 0.4639 - accuracy: 0.8924\n",
            "Epoch 95/340\n",
            "146/146 [==============================] - 31s 214ms/step - loss: 0.5182 - accuracy: 0.8705\n",
            "Epoch 96/340\n",
            "146/146 [==============================] - 32s 216ms/step - loss: 0.4480 - accuracy: 0.8982\n",
            "Epoch 97/340\n",
            "146/146 [==============================] - 32s 217ms/step - loss: 0.4713 - accuracy: 0.8855\n",
            "Epoch 98/340\n",
            "146/146 [==============================] - 31s 215ms/step - loss: 0.4129 - accuracy: 0.9072\n",
            "Epoch 99/340\n",
            "146/146 [==============================] - 32s 216ms/step - loss: 0.4392 - accuracy: 0.8944\n",
            "Epoch 100/340\n",
            "146/146 [==============================] - 32s 216ms/step - loss: 0.3940 - accuracy: 0.9115\n",
            "Epoch 101/340\n",
            "146/146 [==============================] - 31s 216ms/step - loss: 0.3555 - accuracy: 0.9209\n",
            "Epoch 102/340\n",
            "146/146 [==============================] - 31s 216ms/step - loss: 0.3219 - accuracy: 0.9342\n",
            "Epoch 103/340\n",
            "146/146 [==============================] - 31s 215ms/step - loss: 0.4163 - accuracy: 0.8953\n",
            "Epoch 104/340\n",
            "146/146 [==============================] - 31s 216ms/step - loss: 0.3189 - accuracy: 0.9309\n",
            "Epoch 105/340\n",
            "146/146 [==============================] - 32s 216ms/step - loss: 0.2836 - accuracy: 0.9441\n",
            "Epoch 106/340\n",
            "146/146 [==============================] - 31s 216ms/step - loss: 0.2874 - accuracy: 0.9405\n",
            "Epoch 107/340\n",
            "146/146 [==============================] - 32s 216ms/step - loss: 0.2523 - accuracy: 0.9516\n",
            "Epoch 108/340\n",
            "146/146 [==============================] - 32s 216ms/step - loss: 0.2492 - accuracy: 0.9535\n",
            "Epoch 109/340\n",
            "146/146 [==============================] - 32s 216ms/step - loss: 0.2336 - accuracy: 0.9573\n",
            "Epoch 110/340\n",
            "146/146 [==============================] - 32s 216ms/step - loss: 0.2258 - accuracy: 0.9574\n",
            "Epoch 111/340\n",
            "146/146 [==============================] - 32s 216ms/step - loss: 0.2301 - accuracy: 0.9562\n",
            "Epoch 112/340\n",
            "146/146 [==============================] - 32s 218ms/step - loss: 0.2358 - accuracy: 0.9520\n",
            "Epoch 113/340\n",
            "146/146 [==============================] - 32s 219ms/step - loss: 0.2194 - accuracy: 0.9575\n",
            "Epoch 114/340\n",
            "146/146 [==============================] - 32s 219ms/step - loss: 0.2002 - accuracy: 0.9628\n",
            "Epoch 115/340\n",
            "146/146 [==============================] - 32s 218ms/step - loss: 0.1955 - accuracy: 0.9641\n",
            "Epoch 116/340\n",
            "146/146 [==============================] - 32s 217ms/step - loss: 0.2367 - accuracy: 0.9493\n",
            "Epoch 117/340\n",
            "146/146 [==============================] - 32s 219ms/step - loss: 0.2180 - accuracy: 0.9559\n",
            "Epoch 118/340\n",
            "146/146 [==============================] - 32s 217ms/step - loss: 0.1855 - accuracy: 0.9663\n",
            "Epoch 119/340\n",
            "146/146 [==============================] - 32s 217ms/step - loss: 0.1507 - accuracy: 0.9762\n",
            "Epoch 120/340\n",
            "146/146 [==============================] - 32s 216ms/step - loss: 0.3319 - accuracy: 0.9113\n",
            "Epoch 121/340\n",
            "146/146 [==============================] - 31s 216ms/step - loss: 0.2853 - accuracy: 0.9273\n",
            "Epoch 122/340\n",
            "146/146 [==============================] - 31s 215ms/step - loss: 0.1697 - accuracy: 0.9675\n",
            "Epoch 123/340\n",
            "146/146 [==============================] - 32s 216ms/step - loss: 0.1104 - accuracy: 0.9859\n",
            "Epoch 124/340\n",
            "146/146 [==============================] - 31s 216ms/step - loss: 0.0914 - accuracy: 0.9892\n",
            "Epoch 125/340\n",
            "146/146 [==============================] - 32s 216ms/step - loss: 0.0790 - accuracy: 0.9911\n",
            "Epoch 126/340\n",
            "146/146 [==============================] - 32s 218ms/step - loss: 0.0712 - accuracy: 0.9923\n",
            "Epoch 127/340\n",
            "146/146 [==============================] - 32s 218ms/step - loss: 0.0636 - accuracy: 0.9932\n",
            "Epoch 128/340\n",
            "146/146 [==============================] - 32s 216ms/step - loss: 0.0613 - accuracy: 0.9934\n",
            "Epoch 129/340\n",
            "146/146 [==============================] - 32s 216ms/step - loss: 0.0712 - accuracy: 0.9924\n",
            "Epoch 130/340\n",
            "146/146 [==============================] - 32s 217ms/step - loss: 0.0827 - accuracy: 0.9891\n",
            "Epoch 131/340\n",
            "146/146 [==============================] - 32s 217ms/step - loss: 0.1254 - accuracy: 0.9751\n",
            "Epoch 132/340\n",
            "146/146 [==============================] - 31s 216ms/step - loss: 0.3290 - accuracy: 0.9028\n",
            "Epoch 133/340\n",
            "146/146 [==============================] - 32s 216ms/step - loss: 0.4168 - accuracy: 0.8764\n",
            "Epoch 134/340\n",
            "146/146 [==============================] - 32s 216ms/step - loss: 0.1862 - accuracy: 0.9540\n",
            "Epoch 135/340\n",
            "146/146 [==============================] - 31s 216ms/step - loss: 0.1856 - accuracy: 0.9578\n",
            "Epoch 136/340\n",
            "146/146 [==============================] - 32s 216ms/step - loss: 0.0764 - accuracy: 0.9902\n",
            "Epoch 137/340\n",
            "146/146 [==============================] - 31s 214ms/step - loss: 0.0502 - accuracy: 0.9952\n",
            "Epoch 138/340\n",
            "146/146 [==============================] - 31s 215ms/step - loss: 0.0415 - accuracy: 0.9962\n",
            "Epoch 139/340\n",
            "146/146 [==============================] - 31s 214ms/step - loss: 0.0368 - accuracy: 0.9966\n",
            "Epoch 140/340\n",
            "146/146 [==============================] - 31s 214ms/step - loss: 0.0391 - accuracy: 0.9958\n",
            "Epoch 141/340\n",
            "146/146 [==============================] - 31s 215ms/step - loss: 0.0338 - accuracy: 0.9967\n",
            "Epoch 142/340\n",
            "146/146 [==============================] - 31s 215ms/step - loss: 0.0327 - accuracy: 0.9968\n",
            "Epoch 143/340\n",
            "146/146 [==============================] - 31s 215ms/step - loss: 0.0300 - accuracy: 0.9966\n",
            "Epoch 144/340\n",
            "146/146 [==============================] - 31s 214ms/step - loss: 0.0333 - accuracy: 0.9961\n",
            "Epoch 145/340\n",
            "146/146 [==============================] - 31s 215ms/step - loss: 0.0289 - accuracy: 0.9966\n",
            "Epoch 146/340\n",
            "146/146 [==============================] - 31s 215ms/step - loss: 0.0273 - accuracy: 0.9968\n",
            "Epoch 147/340\n",
            "146/146 [==============================] - 31s 215ms/step - loss: 0.0287 - accuracy: 0.9961\n",
            "Epoch 148/340\n",
            "146/146 [==============================] - 31s 214ms/step - loss: 0.0266 - accuracy: 0.9968\n",
            "Epoch 149/340\n",
            "146/146 [==============================] - 32s 216ms/step - loss: 0.0260 - accuracy: 0.9965\n",
            "Epoch 150/340\n",
            "146/146 [==============================] - 32s 217ms/step - loss: 0.0289 - accuracy: 0.9958\n",
            "Epoch 151/340\n",
            "146/146 [==============================] - 32s 217ms/step - loss: 0.3317 - accuracy: 0.9090\n",
            "Epoch 152/340\n",
            "146/146 [==============================] - 32s 216ms/step - loss: 1.0637 - accuracy: 0.7243\n",
            "Epoch 153/340\n",
            "146/146 [==============================] - 32s 216ms/step - loss: 0.2430 - accuracy: 0.9339\n",
            "Epoch 154/340\n",
            "146/146 [==============================] - 32s 217ms/step - loss: 0.0788 - accuracy: 0.9875\n",
            "Epoch 155/340\n",
            "146/146 [==============================] - 31s 215ms/step - loss: 0.0409 - accuracy: 0.9955\n",
            "Epoch 156/340\n",
            "146/146 [==============================] - 32s 220ms/step - loss: 0.0298 - accuracy: 0.9968\n",
            "Epoch 157/340\n",
            "146/146 [==============================] - 35s 236ms/step - loss: 0.0263 - accuracy: 0.9971\n",
            "Epoch 158/340\n",
            "146/146 [==============================] - 35s 238ms/step - loss: 0.0251 - accuracy: 0.9968\n",
            "Epoch 159/340\n",
            "146/146 [==============================] - 35s 236ms/step - loss: 0.0227 - accuracy: 0.9970\n",
            "Epoch 160/340\n",
            "146/146 [==============================] - 35s 239ms/step - loss: 0.0217 - accuracy: 0.9968\n",
            "Epoch 161/340\n",
            "146/146 [==============================] - 35s 238ms/step - loss: 0.0223 - accuracy: 0.9965\n",
            "Epoch 162/340\n",
            "146/146 [==============================] - 35s 241ms/step - loss: 0.0210 - accuracy: 0.9966\n",
            "Epoch 163/340\n",
            "146/146 [==============================] - 35s 240ms/step - loss: 0.0194 - accuracy: 0.9970\n",
            "Epoch 164/340\n",
            "146/146 [==============================] - 35s 238ms/step - loss: 0.0191 - accuracy: 0.9968\n",
            "Epoch 165/340\n",
            "146/146 [==============================] - 35s 238ms/step - loss: 0.0187 - accuracy: 0.9970\n",
            "Epoch 166/340\n",
            "146/146 [==============================] - 35s 238ms/step - loss: 0.0188 - accuracy: 0.9970\n",
            "Epoch 167/340\n",
            "146/146 [==============================] - 35s 237ms/step - loss: 0.0176 - accuracy: 0.9971\n",
            "Epoch 168/340\n",
            "146/146 [==============================] - 33s 225ms/step - loss: 0.0177 - accuracy: 0.9971\n",
            "Epoch 169/340\n",
            "146/146 [==============================] - 31s 214ms/step - loss: 0.0228 - accuracy: 0.9960\n",
            "Epoch 170/340\n",
            "146/146 [==============================] - 31s 214ms/step - loss: 0.0509 - accuracy: 0.9896\n",
            "Epoch 171/340\n",
            "146/146 [==============================] - 32s 216ms/step - loss: 0.5355 - accuracy: 0.8441\n",
            "Epoch 172/340\n",
            "146/146 [==============================] - 32s 216ms/step - loss: 0.5719 - accuracy: 0.8373\n",
            "Epoch 173/340\n",
            "146/146 [==============================] - 31s 215ms/step - loss: 0.1408 - accuracy: 0.9625\n",
            "Epoch 174/340\n",
            "146/146 [==============================] - 31s 215ms/step - loss: 0.0464 - accuracy: 0.9930\n",
            "Epoch 175/340\n",
            "146/146 [==============================] - 31s 216ms/step - loss: 0.0266 - accuracy: 0.9964\n",
            "Epoch 176/340\n",
            "146/146 [==============================] - 31s 216ms/step - loss: 0.0206 - accuracy: 0.9966\n",
            "Epoch 177/340\n",
            "146/146 [==============================] - 32s 216ms/step - loss: 0.0184 - accuracy: 0.9971\n",
            "Epoch 178/340\n",
            "146/146 [==============================] - 31s 215ms/step - loss: 0.0168 - accuracy: 0.9974\n",
            "Epoch 179/340\n",
            "146/146 [==============================] - 31s 215ms/step - loss: 0.0167 - accuracy: 0.9972\n",
            "Epoch 180/340\n",
            "146/146 [==============================] - 31s 215ms/step - loss: 0.0169 - accuracy: 0.9971\n",
            "Epoch 181/340\n",
            "146/146 [==============================] - 31s 215ms/step - loss: 0.0159 - accuracy: 0.9971\n",
            "Epoch 182/340\n",
            "146/146 [==============================] - 31s 214ms/step - loss: 0.0151 - accuracy: 0.9971\n",
            "Epoch 183/340\n",
            "146/146 [==============================] - 31s 214ms/step - loss: 0.0149 - accuracy: 0.9974\n",
            "Epoch 184/340\n",
            "146/146 [==============================] - 31s 215ms/step - loss: 0.1045 - accuracy: 0.9743\n",
            "Epoch 185/340\n",
            "146/146 [==============================] - 32s 217ms/step - loss: 0.1383 - accuracy: 0.9608\n",
            "Epoch 186/340\n",
            "146/146 [==============================] - 31s 215ms/step - loss: 0.1332 - accuracy: 0.9653\n",
            "Epoch 187/340\n",
            "146/146 [==============================] - 31s 215ms/step - loss: 0.0766 - accuracy: 0.9830\n",
            "Epoch 188/340\n",
            " 38/146 [======>.......................] - ETA: 23s - loss: 0.0401 - accuracy: 0.9937"
          ],
          "name": "stdout"
        },
        {
          "output_type": "error",
          "ename": "KeyboardInterrupt",
          "evalue": "ignored",
          "traceback": [
            "\u001b[0;31m---------------------------------------------------------------------------\u001b[0m",
            "\u001b[0;31mKeyboardInterrupt\u001b[0m                         Traceback (most recent call last)",
            "\u001b[0;32m<ipython-input-24-de9cfd715396>\u001b[0m in \u001b[0;36m<module>\u001b[0;34m()\u001b[0m\n\u001b[0;32m----> 1\u001b[0;31m \u001b[0mmodel\u001b[0m\u001b[0;34m.\u001b[0m\u001b[0mfit\u001b[0m\u001b[0;34m(\u001b[0m\u001b[0mX\u001b[0m\u001b[0;34m,\u001b[0m\u001b[0my\u001b[0m\u001b[0;34m,\u001b[0m\u001b[0mbatch_size\u001b[0m\u001b[0;34m=\u001b[0m \u001b[0;36m100\u001b[0m\u001b[0;34m,\u001b[0m \u001b[0mepochs\u001b[0m \u001b[0;34m=\u001b[0m \u001b[0;36m340\u001b[0m\u001b[0;34m)\u001b[0m\u001b[0;34m\u001b[0m\u001b[0;34m\u001b[0m\u001b[0m\n\u001b[0m",
            "\u001b[0;32m/usr/local/lib/python3.7/dist-packages/tensorflow/python/keras/engine/training.py\u001b[0m in \u001b[0;36mfit\u001b[0;34m(self, x, y, batch_size, epochs, verbose, callbacks, validation_split, validation_data, shuffle, class_weight, sample_weight, initial_epoch, steps_per_epoch, validation_steps, validation_batch_size, validation_freq, max_queue_size, workers, use_multiprocessing)\u001b[0m\n\u001b[1;32m   1181\u001b[0m                 _r=1):\n\u001b[1;32m   1182\u001b[0m               \u001b[0mcallbacks\u001b[0m\u001b[0;34m.\u001b[0m\u001b[0mon_train_batch_begin\u001b[0m\u001b[0;34m(\u001b[0m\u001b[0mstep\u001b[0m\u001b[0;34m)\u001b[0m\u001b[0;34m\u001b[0m\u001b[0;34m\u001b[0m\u001b[0m\n\u001b[0;32m-> 1183\u001b[0;31m               \u001b[0mtmp_logs\u001b[0m \u001b[0;34m=\u001b[0m \u001b[0mself\u001b[0m\u001b[0;34m.\u001b[0m\u001b[0mtrain_function\u001b[0m\u001b[0;34m(\u001b[0m\u001b[0miterator\u001b[0m\u001b[0;34m)\u001b[0m\u001b[0;34m\u001b[0m\u001b[0;34m\u001b[0m\u001b[0m\n\u001b[0m\u001b[1;32m   1184\u001b[0m               \u001b[0;32mif\u001b[0m \u001b[0mdata_handler\u001b[0m\u001b[0;34m.\u001b[0m\u001b[0mshould_sync\u001b[0m\u001b[0;34m:\u001b[0m\u001b[0;34m\u001b[0m\u001b[0;34m\u001b[0m\u001b[0m\n\u001b[1;32m   1185\u001b[0m                 \u001b[0mcontext\u001b[0m\u001b[0;34m.\u001b[0m\u001b[0masync_wait\u001b[0m\u001b[0;34m(\u001b[0m\u001b[0;34m)\u001b[0m\u001b[0;34m\u001b[0m\u001b[0;34m\u001b[0m\u001b[0m\n",
            "\u001b[0;32m/usr/local/lib/python3.7/dist-packages/tensorflow/python/eager/def_function.py\u001b[0m in \u001b[0;36m__call__\u001b[0;34m(self, *args, **kwds)\u001b[0m\n\u001b[1;32m    887\u001b[0m \u001b[0;34m\u001b[0m\u001b[0m\n\u001b[1;32m    888\u001b[0m       \u001b[0;32mwith\u001b[0m \u001b[0mOptionalXlaContext\u001b[0m\u001b[0;34m(\u001b[0m\u001b[0mself\u001b[0m\u001b[0;34m.\u001b[0m\u001b[0m_jit_compile\u001b[0m\u001b[0;34m)\u001b[0m\u001b[0;34m:\u001b[0m\u001b[0;34m\u001b[0m\u001b[0;34m\u001b[0m\u001b[0m\n\u001b[0;32m--> 889\u001b[0;31m         \u001b[0mresult\u001b[0m \u001b[0;34m=\u001b[0m \u001b[0mself\u001b[0m\u001b[0;34m.\u001b[0m\u001b[0m_call\u001b[0m\u001b[0;34m(\u001b[0m\u001b[0;34m*\u001b[0m\u001b[0margs\u001b[0m\u001b[0;34m,\u001b[0m \u001b[0;34m**\u001b[0m\u001b[0mkwds\u001b[0m\u001b[0;34m)\u001b[0m\u001b[0;34m\u001b[0m\u001b[0;34m\u001b[0m\u001b[0m\n\u001b[0m\u001b[1;32m    890\u001b[0m \u001b[0;34m\u001b[0m\u001b[0m\n\u001b[1;32m    891\u001b[0m       \u001b[0mnew_tracing_count\u001b[0m \u001b[0;34m=\u001b[0m \u001b[0mself\u001b[0m\u001b[0;34m.\u001b[0m\u001b[0mexperimental_get_tracing_count\u001b[0m\u001b[0;34m(\u001b[0m\u001b[0;34m)\u001b[0m\u001b[0;34m\u001b[0m\u001b[0;34m\u001b[0m\u001b[0m\n",
            "\u001b[0;32m/usr/local/lib/python3.7/dist-packages/tensorflow/python/eager/def_function.py\u001b[0m in \u001b[0;36m_call\u001b[0;34m(self, *args, **kwds)\u001b[0m\n\u001b[1;32m    915\u001b[0m       \u001b[0;31m# In this case we have created variables on the first call, so we run the\u001b[0m\u001b[0;34m\u001b[0m\u001b[0;34m\u001b[0m\u001b[0;34m\u001b[0m\u001b[0m\n\u001b[1;32m    916\u001b[0m       \u001b[0;31m# defunned version which is guaranteed to never create variables.\u001b[0m\u001b[0;34m\u001b[0m\u001b[0;34m\u001b[0m\u001b[0;34m\u001b[0m\u001b[0m\n\u001b[0;32m--> 917\u001b[0;31m       \u001b[0;32mreturn\u001b[0m \u001b[0mself\u001b[0m\u001b[0;34m.\u001b[0m\u001b[0m_stateless_fn\u001b[0m\u001b[0;34m(\u001b[0m\u001b[0;34m*\u001b[0m\u001b[0margs\u001b[0m\u001b[0;34m,\u001b[0m \u001b[0;34m**\u001b[0m\u001b[0mkwds\u001b[0m\u001b[0;34m)\u001b[0m  \u001b[0;31m# pylint: disable=not-callable\u001b[0m\u001b[0;34m\u001b[0m\u001b[0;34m\u001b[0m\u001b[0m\n\u001b[0m\u001b[1;32m    918\u001b[0m     \u001b[0;32melif\u001b[0m \u001b[0mself\u001b[0m\u001b[0;34m.\u001b[0m\u001b[0m_stateful_fn\u001b[0m \u001b[0;32mis\u001b[0m \u001b[0;32mnot\u001b[0m \u001b[0;32mNone\u001b[0m\u001b[0;34m:\u001b[0m\u001b[0;34m\u001b[0m\u001b[0;34m\u001b[0m\u001b[0m\n\u001b[1;32m    919\u001b[0m       \u001b[0;31m# Release the lock early so that multiple threads can perform the call\u001b[0m\u001b[0;34m\u001b[0m\u001b[0;34m\u001b[0m\u001b[0;34m\u001b[0m\u001b[0m\n",
            "\u001b[0;32m/usr/local/lib/python3.7/dist-packages/tensorflow/python/eager/function.py\u001b[0m in \u001b[0;36m__call__\u001b[0;34m(self, *args, **kwargs)\u001b[0m\n\u001b[1;32m   3022\u001b[0m        filtered_flat_args) = self._maybe_define_function(args, kwargs)\n\u001b[1;32m   3023\u001b[0m     return graph_function._call_flat(\n\u001b[0;32m-> 3024\u001b[0;31m         filtered_flat_args, captured_inputs=graph_function.captured_inputs)  # pylint: disable=protected-access\n\u001b[0m\u001b[1;32m   3025\u001b[0m \u001b[0;34m\u001b[0m\u001b[0m\n\u001b[1;32m   3026\u001b[0m   \u001b[0;34m@\u001b[0m\u001b[0mproperty\u001b[0m\u001b[0;34m\u001b[0m\u001b[0;34m\u001b[0m\u001b[0m\n",
            "\u001b[0;32m/usr/local/lib/python3.7/dist-packages/tensorflow/python/eager/function.py\u001b[0m in \u001b[0;36m_call_flat\u001b[0;34m(self, args, captured_inputs, cancellation_manager)\u001b[0m\n\u001b[1;32m   1959\u001b[0m       \u001b[0;31m# No tape is watching; skip to running the function.\u001b[0m\u001b[0;34m\u001b[0m\u001b[0;34m\u001b[0m\u001b[0;34m\u001b[0m\u001b[0m\n\u001b[1;32m   1960\u001b[0m       return self._build_call_outputs(self._inference_function.call(\n\u001b[0;32m-> 1961\u001b[0;31m           ctx, args, cancellation_manager=cancellation_manager))\n\u001b[0m\u001b[1;32m   1962\u001b[0m     forward_backward = self._select_forward_and_backward_functions(\n\u001b[1;32m   1963\u001b[0m         \u001b[0margs\u001b[0m\u001b[0;34m,\u001b[0m\u001b[0;34m\u001b[0m\u001b[0;34m\u001b[0m\u001b[0m\n",
            "\u001b[0;32m/usr/local/lib/python3.7/dist-packages/tensorflow/python/eager/function.py\u001b[0m in \u001b[0;36mcall\u001b[0;34m(self, ctx, args, cancellation_manager)\u001b[0m\n\u001b[1;32m    594\u001b[0m               \u001b[0minputs\u001b[0m\u001b[0;34m=\u001b[0m\u001b[0margs\u001b[0m\u001b[0;34m,\u001b[0m\u001b[0;34m\u001b[0m\u001b[0;34m\u001b[0m\u001b[0m\n\u001b[1;32m    595\u001b[0m               \u001b[0mattrs\u001b[0m\u001b[0;34m=\u001b[0m\u001b[0mattrs\u001b[0m\u001b[0;34m,\u001b[0m\u001b[0;34m\u001b[0m\u001b[0;34m\u001b[0m\u001b[0m\n\u001b[0;32m--> 596\u001b[0;31m               ctx=ctx)\n\u001b[0m\u001b[1;32m    597\u001b[0m         \u001b[0;32melse\u001b[0m\u001b[0;34m:\u001b[0m\u001b[0;34m\u001b[0m\u001b[0;34m\u001b[0m\u001b[0m\n\u001b[1;32m    598\u001b[0m           outputs = execute.execute_with_cancellation(\n",
            "\u001b[0;32m/usr/local/lib/python3.7/dist-packages/tensorflow/python/eager/execute.py\u001b[0m in \u001b[0;36mquick_execute\u001b[0;34m(op_name, num_outputs, inputs, attrs, ctx, name)\u001b[0m\n\u001b[1;32m     58\u001b[0m     \u001b[0mctx\u001b[0m\u001b[0;34m.\u001b[0m\u001b[0mensure_initialized\u001b[0m\u001b[0;34m(\u001b[0m\u001b[0;34m)\u001b[0m\u001b[0;34m\u001b[0m\u001b[0;34m\u001b[0m\u001b[0m\n\u001b[1;32m     59\u001b[0m     tensors = pywrap_tfe.TFE_Py_Execute(ctx._handle, device_name, op_name,\n\u001b[0;32m---> 60\u001b[0;31m                                         inputs, attrs, num_outputs)\n\u001b[0m\u001b[1;32m     61\u001b[0m   \u001b[0;32mexcept\u001b[0m \u001b[0mcore\u001b[0m\u001b[0;34m.\u001b[0m\u001b[0m_NotOkStatusException\u001b[0m \u001b[0;32mas\u001b[0m \u001b[0me\u001b[0m\u001b[0;34m:\u001b[0m\u001b[0;34m\u001b[0m\u001b[0;34m\u001b[0m\u001b[0m\n\u001b[1;32m     62\u001b[0m     \u001b[0;32mif\u001b[0m \u001b[0mname\u001b[0m \u001b[0;32mis\u001b[0m \u001b[0;32mnot\u001b[0m \u001b[0;32mNone\u001b[0m\u001b[0;34m:\u001b[0m\u001b[0;34m\u001b[0m\u001b[0;34m\u001b[0m\u001b[0m\n",
            "\u001b[0;31mKeyboardInterrupt\u001b[0m: "
          ]
        }
      ]
    },
    {
      "cell_type": "code",
      "metadata": {
        "id": "3jL7uIygdE_K"
      },
      "source": [
        "#randomly using a line as the seed\n",
        "seed_text = lines[12345]"
      ],
      "execution_count": 25,
      "outputs": []
    },
    {
      "cell_type": "code",
      "metadata": {
        "id": "ZLpcVqGqquda"
      },
      "source": [
        "def generate_text_seq(model,tokenizer,text_seq_length,seed_text,n_words):\n",
        "  text =[]\n",
        "\n",
        "  for _ in range(n_words):\n",
        "    # text_to_sequences: provides a tuple of {words:integer}\n",
        "    # we need only the integer number of seed_text and thus the 0th element\n",
        "    encoded = tokenizer.texts_to_sequences([seed_text])[0]\n",
        "    # encoded may have more than 50 words so we need to truncate it at 50th word and thus pad the sequence\n",
        "    encoded = pad_sequences([encoded],maxlen = text_seq_length, truncating ='pre')\n",
        "\n",
        "    #predict class for each word which is an integer value\n",
        "    y_predict = model.predict_classes(encoded)\n",
        "\n",
        "    predicted_word = ''\n",
        "    # now we match the y_predict integer with the integer from the tokenizer\n",
        "      # if we find a match we grab the related word as the predicted_word\n",
        "    for word ,index in tokenizer.word_index.items():\n",
        "      if index == y_predict:\n",
        "        predicted_word = word\n",
        "        break\n",
        "\n",
        "    # this predicted word is added to the seed text\n",
        "    seed_text = seed_text + ' ' + predicted_word\n",
        "    text.append(predicted_word)\n",
        "  return \" \".join(text) "
      ],
      "execution_count": 26,
      "outputs": []
    },
    {
      "cell_type": "code",
      "metadata": {
        "colab": {
          "base_uri": "https://localhost:8080/",
          "height": 106
        },
        "id": "ag8rQmGsutcn",
        "outputId": "23d79d24-4f28-4e43-933d-098a59e0f3a7"
      },
      "source": [
        "generate_text_seq(model,tokenizer,sequence_length,seed_text,30)"
      ],
      "execution_count": 27,
      "outputs": [
        {
          "output_type": "stream",
          "text": [
            "/usr/local/lib/python3.7/dist-packages/tensorflow/python/keras/engine/sequential.py:455: UserWarning: `model.predict_classes()` is deprecated and will be removed after 2021-01-01. Please use instead:* `np.argmax(model.predict(x), axis=-1)`,   if your model does multi-class classification   (e.g. if it uses a `softmax` last-layer activation).* `(model.predict(x) > 0.5).astype(\"int32\")`,   if your model does binary classification   (e.g. if it uses a `sigmoid` last-layer activation).\n",
            "  warnings.warn('`model.predict_classes()` is deprecated and '\n"
          ],
          "name": "stderr"
        },
        {
          "output_type": "execute_result",
          "data": {
            "application/vnd.google.colaboratory.intrinsic+json": {
              "type": "string"
            },
            "text/plain": [
              "'block of sw alder st one officer strikes a protester repeatedly with their baton that protester was later arrested at an antiice protest in the portland pearl district several police'"
            ]
          },
          "metadata": {
            "tags": []
          },
          "execution_count": 27
        }
      ]
    },
    {
      "cell_type": "code",
      "metadata": {
        "id": "W4hbZJcWvgUC"
      },
      "source": [
        ""
      ],
      "execution_count": null,
      "outputs": []
    }
  ]
}