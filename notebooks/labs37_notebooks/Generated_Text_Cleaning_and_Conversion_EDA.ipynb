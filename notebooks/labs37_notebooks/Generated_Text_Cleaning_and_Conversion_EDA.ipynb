{
  "nbformat": 4,
  "nbformat_minor": 2,
  "metadata": {
    "colab": {
      "name": "Generated Text Cleaning and Conversion EDA.ipynb",
      "provenance": []
    },
    "kernelspec": {
      "name": "python3",
      "display_name": "Python 3"
    },
    "language_info": {
      "name": "python"
    }
  },
  "cells": [
    {
      "cell_type": "code",
      "execution_count": null,
      "source": [
        "import pandas as pd\r\n",
        "\r\n",
        "rank2syn = pd.read_csv(\"/content/gpt2_gentext_20210816_234805.csv\")"
      ],
      "outputs": [
        {
          "output_type": "error",
          "ename": "ParserError",
          "evalue": "ignored",
          "traceback": [
            "\u001b[0;31m---------------------------------------------------------------------------\u001b[0m",
            "\u001b[0;31mParserError\u001b[0m                               Traceback (most recent call last)",
            "\u001b[0;32m<ipython-input-3-753ce3a201d2>\u001b[0m in \u001b[0;36m<module>\u001b[0;34m()\u001b[0m\n\u001b[1;32m      1\u001b[0m \u001b[0;32mimport\u001b[0m \u001b[0mpandas\u001b[0m \u001b[0;32mas\u001b[0m \u001b[0mpd\u001b[0m\u001b[0;34m\u001b[0m\u001b[0;34m\u001b[0m\u001b[0m\n\u001b[1;32m      2\u001b[0m \u001b[0;34m\u001b[0m\u001b[0m\n\u001b[0;32m----> 3\u001b[0;31m \u001b[0mrank2syn\u001b[0m \u001b[0;34m=\u001b[0m \u001b[0mpd\u001b[0m\u001b[0;34m.\u001b[0m\u001b[0mread_csv\u001b[0m\u001b[0;34m(\u001b[0m\u001b[0;34m\"/content/gpt2_gentext_20210816_234805.csv\"\u001b[0m\u001b[0;34m)\u001b[0m\u001b[0;34m\u001b[0m\u001b[0;34m\u001b[0m\u001b[0m\n\u001b[0m",
            "\u001b[0;32m/usr/local/lib/python3.7/dist-packages/pandas/io/parsers.py\u001b[0m in \u001b[0;36mread_csv\u001b[0;34m(filepath_or_buffer, sep, delimiter, header, names, index_col, usecols, squeeze, prefix, mangle_dupe_cols, dtype, engine, converters, true_values, false_values, skipinitialspace, skiprows, skipfooter, nrows, na_values, keep_default_na, na_filter, verbose, skip_blank_lines, parse_dates, infer_datetime_format, keep_date_col, date_parser, dayfirst, cache_dates, iterator, chunksize, compression, thousands, decimal, lineterminator, quotechar, quoting, doublequote, escapechar, comment, encoding, dialect, error_bad_lines, warn_bad_lines, delim_whitespace, low_memory, memory_map, float_precision)\u001b[0m\n\u001b[1;32m    686\u001b[0m     )\n\u001b[1;32m    687\u001b[0m \u001b[0;34m\u001b[0m\u001b[0m\n\u001b[0;32m--> 688\u001b[0;31m     \u001b[0;32mreturn\u001b[0m \u001b[0m_read\u001b[0m\u001b[0;34m(\u001b[0m\u001b[0mfilepath_or_buffer\u001b[0m\u001b[0;34m,\u001b[0m \u001b[0mkwds\u001b[0m\u001b[0;34m)\u001b[0m\u001b[0;34m\u001b[0m\u001b[0;34m\u001b[0m\u001b[0m\n\u001b[0m\u001b[1;32m    689\u001b[0m \u001b[0;34m\u001b[0m\u001b[0m\n\u001b[1;32m    690\u001b[0m \u001b[0;34m\u001b[0m\u001b[0m\n",
            "\u001b[0;32m/usr/local/lib/python3.7/dist-packages/pandas/io/parsers.py\u001b[0m in \u001b[0;36m_read\u001b[0;34m(filepath_or_buffer, kwds)\u001b[0m\n\u001b[1;32m    458\u001b[0m \u001b[0;34m\u001b[0m\u001b[0m\n\u001b[1;32m    459\u001b[0m     \u001b[0;32mtry\u001b[0m\u001b[0;34m:\u001b[0m\u001b[0;34m\u001b[0m\u001b[0;34m\u001b[0m\u001b[0m\n\u001b[0;32m--> 460\u001b[0;31m         \u001b[0mdata\u001b[0m \u001b[0;34m=\u001b[0m \u001b[0mparser\u001b[0m\u001b[0;34m.\u001b[0m\u001b[0mread\u001b[0m\u001b[0;34m(\u001b[0m\u001b[0mnrows\u001b[0m\u001b[0;34m)\u001b[0m\u001b[0;34m\u001b[0m\u001b[0;34m\u001b[0m\u001b[0m\n\u001b[0m\u001b[1;32m    461\u001b[0m     \u001b[0;32mfinally\u001b[0m\u001b[0;34m:\u001b[0m\u001b[0;34m\u001b[0m\u001b[0;34m\u001b[0m\u001b[0m\n\u001b[1;32m    462\u001b[0m         \u001b[0mparser\u001b[0m\u001b[0;34m.\u001b[0m\u001b[0mclose\u001b[0m\u001b[0;34m(\u001b[0m\u001b[0;34m)\u001b[0m\u001b[0;34m\u001b[0m\u001b[0;34m\u001b[0m\u001b[0m\n",
            "\u001b[0;32m/usr/local/lib/python3.7/dist-packages/pandas/io/parsers.py\u001b[0m in \u001b[0;36mread\u001b[0;34m(self, nrows)\u001b[0m\n\u001b[1;32m   1196\u001b[0m     \u001b[0;32mdef\u001b[0m \u001b[0mread\u001b[0m\u001b[0;34m(\u001b[0m\u001b[0mself\u001b[0m\u001b[0;34m,\u001b[0m \u001b[0mnrows\u001b[0m\u001b[0;34m=\u001b[0m\u001b[0;32mNone\u001b[0m\u001b[0;34m)\u001b[0m\u001b[0;34m:\u001b[0m\u001b[0;34m\u001b[0m\u001b[0;34m\u001b[0m\u001b[0m\n\u001b[1;32m   1197\u001b[0m         \u001b[0mnrows\u001b[0m \u001b[0;34m=\u001b[0m \u001b[0m_validate_integer\u001b[0m\u001b[0;34m(\u001b[0m\u001b[0;34m\"nrows\"\u001b[0m\u001b[0;34m,\u001b[0m \u001b[0mnrows\u001b[0m\u001b[0;34m)\u001b[0m\u001b[0;34m\u001b[0m\u001b[0;34m\u001b[0m\u001b[0m\n\u001b[0;32m-> 1198\u001b[0;31m         \u001b[0mret\u001b[0m \u001b[0;34m=\u001b[0m \u001b[0mself\u001b[0m\u001b[0;34m.\u001b[0m\u001b[0m_engine\u001b[0m\u001b[0;34m.\u001b[0m\u001b[0mread\u001b[0m\u001b[0;34m(\u001b[0m\u001b[0mnrows\u001b[0m\u001b[0;34m)\u001b[0m\u001b[0;34m\u001b[0m\u001b[0;34m\u001b[0m\u001b[0m\n\u001b[0m\u001b[1;32m   1199\u001b[0m \u001b[0;34m\u001b[0m\u001b[0m\n\u001b[1;32m   1200\u001b[0m         \u001b[0;31m# May alter columns / col_dict\u001b[0m\u001b[0;34m\u001b[0m\u001b[0;34m\u001b[0m\u001b[0;34m\u001b[0m\u001b[0m\n",
            "\u001b[0;32m/usr/local/lib/python3.7/dist-packages/pandas/io/parsers.py\u001b[0m in \u001b[0;36mread\u001b[0;34m(self, nrows)\u001b[0m\n\u001b[1;32m   2155\u001b[0m     \u001b[0;32mdef\u001b[0m \u001b[0mread\u001b[0m\u001b[0;34m(\u001b[0m\u001b[0mself\u001b[0m\u001b[0;34m,\u001b[0m \u001b[0mnrows\u001b[0m\u001b[0;34m=\u001b[0m\u001b[0;32mNone\u001b[0m\u001b[0;34m)\u001b[0m\u001b[0;34m:\u001b[0m\u001b[0;34m\u001b[0m\u001b[0;34m\u001b[0m\u001b[0m\n\u001b[1;32m   2156\u001b[0m         \u001b[0;32mtry\u001b[0m\u001b[0;34m:\u001b[0m\u001b[0;34m\u001b[0m\u001b[0;34m\u001b[0m\u001b[0m\n\u001b[0;32m-> 2157\u001b[0;31m             \u001b[0mdata\u001b[0m \u001b[0;34m=\u001b[0m \u001b[0mself\u001b[0m\u001b[0;34m.\u001b[0m\u001b[0m_reader\u001b[0m\u001b[0;34m.\u001b[0m\u001b[0mread\u001b[0m\u001b[0;34m(\u001b[0m\u001b[0mnrows\u001b[0m\u001b[0;34m)\u001b[0m\u001b[0;34m\u001b[0m\u001b[0;34m\u001b[0m\u001b[0m\n\u001b[0m\u001b[1;32m   2158\u001b[0m         \u001b[0;32mexcept\u001b[0m \u001b[0mStopIteration\u001b[0m\u001b[0;34m:\u001b[0m\u001b[0;34m\u001b[0m\u001b[0;34m\u001b[0m\u001b[0m\n\u001b[1;32m   2159\u001b[0m             \u001b[0;32mif\u001b[0m \u001b[0mself\u001b[0m\u001b[0;34m.\u001b[0m\u001b[0m_first_chunk\u001b[0m\u001b[0;34m:\u001b[0m\u001b[0;34m\u001b[0m\u001b[0;34m\u001b[0m\u001b[0m\n",
            "\u001b[0;32mpandas/_libs/parsers.pyx\u001b[0m in \u001b[0;36mpandas._libs.parsers.TextReader.read\u001b[0;34m()\u001b[0m\n",
            "\u001b[0;32mpandas/_libs/parsers.pyx\u001b[0m in \u001b[0;36mpandas._libs.parsers.TextReader._read_low_memory\u001b[0;34m()\u001b[0m\n",
            "\u001b[0;32mpandas/_libs/parsers.pyx\u001b[0m in \u001b[0;36mpandas._libs.parsers.TextReader._read_rows\u001b[0;34m()\u001b[0m\n",
            "\u001b[0;32mpandas/_libs/parsers.pyx\u001b[0m in \u001b[0;36mpandas._libs.parsers.TextReader._tokenize_rows\u001b[0;34m()\u001b[0m\n",
            "\u001b[0;32mpandas/_libs/parsers.pyx\u001b[0m in \u001b[0;36mpandas._libs.parsers.raise_parser_error\u001b[0;34m()\u001b[0m\n",
            "\u001b[0;31mParserError\u001b[0m: Error tokenizing data. C error: Expected 1 fields in line 7, saw 2\n"
          ]
        }
      ],
      "metadata": {
        "colab": {
          "base_uri": "https://localhost:8080/",
          "height": 519
        },
        "id": "LkRMPSoN0AlX",
        "outputId": "12529955-5b95-418e-e232-4c5ad0d65996"
      }
    },
    {
      "cell_type": "markdown",
      "source": [
        "A .CSV generated from GPT-2 Simple can't be read into a pandas dataframe. It must be cleaned manually or with pure python.\r\n",
        "\r\n",
        "The preparation of these generated tweets for conversion to .CSV isn't featured in this notebook."
      ],
      "metadata": {
        "id": "fGPwsmzdvPVa"
      }
    },
    {
      "cell_type": "code",
      "execution_count": 4,
      "source": [
        "import pandas as pd\r\n",
        "\r\n",
        "column_headers = ['tweets', 'labels']\r\n",
        "\r\n",
        "df_rank2 = pd.read_csv(\"/content/rank2_syn.txt\",\r\n",
        "                       sep = '/',\r\n",
        "                       names=column_headers)\r\n",
        "\r\n",
        "df_rank2.to_csv(\"rank2syn.csv\",\r\n",
        "                index=None)"
      ],
      "outputs": [],
      "metadata": {
        "id": "hzNC4-88orwP"
      }
    },
    {
      "cell_type": "code",
      "execution_count": 5,
      "source": [
        "df_rank2"
      ],
      "outputs": [
        {
          "output_type": "execute_result",
          "data": {
            "text/plain": [
              "                                                 tweets  labels\n",
              "0     Members of the Unified Command (Multinomah Cou...       2\n",
              "1     Footage taken at E 136th St and Brook Ave in t...       2\n",
              "2     Police approach protesters standing in the str...       2\n",
              "3     Police arrested two AL.com journalists coverin...       2\n",
              "4     Rayne Valentine, a hospital employee in Brookl...       2\n",
              "...                                                 ...     ...\n",
              "1181  Footage taken at E 136th St and Brook Ave in t...       2\n",
              "1182  Police approach protesters standing in the str...       2\n",
              "1183  Police arrested two AL.com journalists coverin...       2\n",
              "1184  Rayne Valentine, a hospital employee in Brookl...       2\n",
              "1185  Footage shows riot police suddenly charge into...       2\n",
              "\n",
              "[1186 rows x 2 columns]"
            ],
            "text/html": [
              "<div>\n",
              "<style scoped>\n",
              "    .dataframe tbody tr th:only-of-type {\n",
              "        vertical-align: middle;\n",
              "    }\n",
              "\n",
              "    .dataframe tbody tr th {\n",
              "        vertical-align: top;\n",
              "    }\n",
              "\n",
              "    .dataframe thead th {\n",
              "        text-align: right;\n",
              "    }\n",
              "</style>\n",
              "<table border=\"1\" class=\"dataframe\">\n",
              "  <thead>\n",
              "    <tr style=\"text-align: right;\">\n",
              "      <th></th>\n",
              "      <th>tweets</th>\n",
              "      <th>labels</th>\n",
              "    </tr>\n",
              "  </thead>\n",
              "  <tbody>\n",
              "    <tr>\n",
              "      <th>0</th>\n",
              "      <td>Members of the Unified Command (Multinomah Cou...</td>\n",
              "      <td>2</td>\n",
              "    </tr>\n",
              "    <tr>\n",
              "      <th>1</th>\n",
              "      <td>Footage taken at E 136th St and Brook Ave in t...</td>\n",
              "      <td>2</td>\n",
              "    </tr>\n",
              "    <tr>\n",
              "      <th>2</th>\n",
              "      <td>Police approach protesters standing in the str...</td>\n",
              "      <td>2</td>\n",
              "    </tr>\n",
              "    <tr>\n",
              "      <th>3</th>\n",
              "      <td>Police arrested two AL.com journalists coverin...</td>\n",
              "      <td>2</td>\n",
              "    </tr>\n",
              "    <tr>\n",
              "      <th>4</th>\n",
              "      <td>Rayne Valentine, a hospital employee in Brookl...</td>\n",
              "      <td>2</td>\n",
              "    </tr>\n",
              "    <tr>\n",
              "      <th>...</th>\n",
              "      <td>...</td>\n",
              "      <td>...</td>\n",
              "    </tr>\n",
              "    <tr>\n",
              "      <th>1181</th>\n",
              "      <td>Footage taken at E 136th St and Brook Ave in t...</td>\n",
              "      <td>2</td>\n",
              "    </tr>\n",
              "    <tr>\n",
              "      <th>1182</th>\n",
              "      <td>Police approach protesters standing in the str...</td>\n",
              "      <td>2</td>\n",
              "    </tr>\n",
              "    <tr>\n",
              "      <th>1183</th>\n",
              "      <td>Police arrested two AL.com journalists coverin...</td>\n",
              "      <td>2</td>\n",
              "    </tr>\n",
              "    <tr>\n",
              "      <th>1184</th>\n",
              "      <td>Rayne Valentine, a hospital employee in Brookl...</td>\n",
              "      <td>2</td>\n",
              "    </tr>\n",
              "    <tr>\n",
              "      <th>1185</th>\n",
              "      <td>Footage shows riot police suddenly charge into...</td>\n",
              "      <td>2</td>\n",
              "    </tr>\n",
              "  </tbody>\n",
              "</table>\n",
              "<p>1186 rows × 2 columns</p>\n",
              "</div>"
            ]
          },
          "metadata": {
            "tags": []
          },
          "execution_count": 5
        }
      ],
      "metadata": {
        "colab": {
          "base_uri": "https://localhost:8080/",
          "height": 423
        },
        "id": "pGjSQYYjvULb",
        "outputId": "6545cf56-f58e-4b66-bc0a-245af9ee9e55"
      }
    },
    {
      "cell_type": "code",
      "execution_count": 16,
      "source": [
        "df_rank2.isnull().sum()"
      ],
      "outputs": [
        {
          "output_type": "execute_result",
          "data": {
            "text/plain": [
              "tweets    0\n",
              "labels    0\n",
              "dtype: int64"
            ]
          },
          "metadata": {
            "tags": []
          },
          "execution_count": 16
        }
      ],
      "metadata": {
        "colab": {
          "base_uri": "https://localhost:8080/"
        },
        "id": "Lj5856krrQQo",
        "outputId": "3fca1b5f-3b2a-4a23-b962-a78c954b4114"
      }
    },
    {
      "cell_type": "code",
      "execution_count": 7,
      "source": [
        "df_rank3 = pd.read_csv(\"/content/rank3_syn.txt\",\n",
        "                       sep = '/',\n",
        "                       names=column_headers)\n",
        "\n",
        "df_rank3.to_csv(\"rank3syn.csv\",\n",
        "                index=None)"
      ],
      "outputs": [],
      "metadata": {
        "id": "kkLgHpClgTYa"
      }
    },
    {
      "cell_type": "code",
      "execution_count": 9,
      "source": [
        "df_rank3"
      ],
      "outputs": [
        {
          "output_type": "execute_result",
          "data": {
            "text/plain": [
              "                                                tweets  labels\n",
              "0    Police are seen kneeling on a protester to arr...       3\n",
              "1    Onaka was the driver of a car that was being p...       3\n",
              "2    After protesters broke a few of the vehicle wi...       3\n",
              "3    After protesters broke a few of the vehicle wi...       3\n",
              "4    A protester breaks a piece of District Courtho...       3\n",
              "..                                                 ...     ...\n",
              "876  A livestreamer uploaded first person footage f...       3\n",
              "877  Onaka was the driver of a car that was being p...       3\n",
              "878  After finding a retired couple, Frederick Gobi...       3\n",
              "879  Ofiara walked into Klein’s Pharmacy with an as...       3\n",
              "880  Footage taken around midnight the morning of J...       3\n",
              "\n",
              "[881 rows x 2 columns]"
            ],
            "text/html": [
              "<div>\n",
              "<style scoped>\n",
              "    .dataframe tbody tr th:only-of-type {\n",
              "        vertical-align: middle;\n",
              "    }\n",
              "\n",
              "    .dataframe tbody tr th {\n",
              "        vertical-align: top;\n",
              "    }\n",
              "\n",
              "    .dataframe thead th {\n",
              "        text-align: right;\n",
              "    }\n",
              "</style>\n",
              "<table border=\"1\" class=\"dataframe\">\n",
              "  <thead>\n",
              "    <tr style=\"text-align: right;\">\n",
              "      <th></th>\n",
              "      <th>tweets</th>\n",
              "      <th>labels</th>\n",
              "    </tr>\n",
              "  </thead>\n",
              "  <tbody>\n",
              "    <tr>\n",
              "      <th>0</th>\n",
              "      <td>Police are seen kneeling on a protester to arr...</td>\n",
              "      <td>3</td>\n",
              "    </tr>\n",
              "    <tr>\n",
              "      <th>1</th>\n",
              "      <td>Onaka was the driver of a car that was being p...</td>\n",
              "      <td>3</td>\n",
              "    </tr>\n",
              "    <tr>\n",
              "      <th>2</th>\n",
              "      <td>After protesters broke a few of the vehicle wi...</td>\n",
              "      <td>3</td>\n",
              "    </tr>\n",
              "    <tr>\n",
              "      <th>3</th>\n",
              "      <td>After protesters broke a few of the vehicle wi...</td>\n",
              "      <td>3</td>\n",
              "    </tr>\n",
              "    <tr>\n",
              "      <th>4</th>\n",
              "      <td>A protester breaks a piece of District Courtho...</td>\n",
              "      <td>3</td>\n",
              "    </tr>\n",
              "    <tr>\n",
              "      <th>...</th>\n",
              "      <td>...</td>\n",
              "      <td>...</td>\n",
              "    </tr>\n",
              "    <tr>\n",
              "      <th>876</th>\n",
              "      <td>A livestreamer uploaded first person footage f...</td>\n",
              "      <td>3</td>\n",
              "    </tr>\n",
              "    <tr>\n",
              "      <th>877</th>\n",
              "      <td>Onaka was the driver of a car that was being p...</td>\n",
              "      <td>3</td>\n",
              "    </tr>\n",
              "    <tr>\n",
              "      <th>878</th>\n",
              "      <td>After finding a retired couple, Frederick Gobi...</td>\n",
              "      <td>3</td>\n",
              "    </tr>\n",
              "    <tr>\n",
              "      <th>879</th>\n",
              "      <td>Ofiara walked into Klein’s Pharmacy with an as...</td>\n",
              "      <td>3</td>\n",
              "    </tr>\n",
              "    <tr>\n",
              "      <th>880</th>\n",
              "      <td>Footage taken around midnight the morning of J...</td>\n",
              "      <td>3</td>\n",
              "    </tr>\n",
              "  </tbody>\n",
              "</table>\n",
              "<p>881 rows × 2 columns</p>\n",
              "</div>"
            ]
          },
          "metadata": {
            "tags": []
          },
          "execution_count": 9
        }
      ],
      "metadata": {
        "colab": {
          "base_uri": "https://localhost:8080/",
          "height": 423
        },
        "id": "px2gIcIKjvBC",
        "outputId": "a660c145-ad89-4ab6-8dab-115898d95b5f"
      }
    },
    {
      "cell_type": "code",
      "execution_count": 17,
      "source": [
        "df_rank3.isnull().sum()"
      ],
      "outputs": [
        {
          "output_type": "execute_result",
          "data": {
            "text/plain": [
              "tweets    1\n",
              "labels    0\n",
              "dtype: int64"
            ]
          },
          "metadata": {
            "tags": []
          },
          "execution_count": 17
        }
      ],
      "metadata": {
        "colab": {
          "base_uri": "https://localhost:8080/"
        },
        "id": "-Xz7GVvhrW3v",
        "outputId": "cfd89983-2b8c-42e8-c55a-43edb8a84fec"
      }
    },
    {
      "cell_type": "code",
      "execution_count": 19,
      "source": [
        "df_rank3.dropna(inplace=True)"
      ],
      "outputs": [],
      "metadata": {
        "id": "PIxRfcNHri3b"
      }
    },
    {
      "cell_type": "code",
      "execution_count": 134,
      "source": [
        "df_rank4 = pd.read_csv(\"/content/rank4_syn.txt\",\n",
        "                       sep = '/',\n",
        "                       names=column_headers)\n",
        "\n",
        "df_rank4.to_csv(\"rank4syn.csv\",\n",
        "                index=None)"
      ],
      "outputs": [],
      "metadata": {
        "id": "OpgC8UqPkISa"
      }
    },
    {
      "cell_type": "code",
      "execution_count": 135,
      "source": [
        "df_rank4"
      ],
      "outputs": [
        {
          "output_type": "execute_result",
          "data": {
            "text/plain": [
              "                                                tweets labels\n",
              "0    Police surrounded and shoved protesters down M...      4\n",
              "1    Officers dressed in swat gear threw a stun gre...      4\n",
              "2    After police declared the protest a riot, prot...      4\n",
              "3    Footage shows heavy tear gas usage as proteste...      4\n",
              "4    Canovas were again called into the police stat...      4\n",
              "..                                                 ...    ...\n",
              "925  At a protest outside the ICE facility in Portl...      4\n",
              "926  Following the death of an unarmed driver at th...      4\n",
              "927  A journalist with Mill City Citizen Media is s...      4\n",
              "928  Video shows sound cannon deployed alongside AP...    NaN\n",
              "929  Police fire tear gas at peaceful protesters, w...      4\n",
              "\n",
              "[930 rows x 2 columns]"
            ],
            "text/html": [
              "<div>\n",
              "<style scoped>\n",
              "    .dataframe tbody tr th:only-of-type {\n",
              "        vertical-align: middle;\n",
              "    }\n",
              "\n",
              "    .dataframe tbody tr th {\n",
              "        vertical-align: top;\n",
              "    }\n",
              "\n",
              "    .dataframe thead th {\n",
              "        text-align: right;\n",
              "    }\n",
              "</style>\n",
              "<table border=\"1\" class=\"dataframe\">\n",
              "  <thead>\n",
              "    <tr style=\"text-align: right;\">\n",
              "      <th></th>\n",
              "      <th>tweets</th>\n",
              "      <th>labels</th>\n",
              "    </tr>\n",
              "  </thead>\n",
              "  <tbody>\n",
              "    <tr>\n",
              "      <th>0</th>\n",
              "      <td>Police surrounded and shoved protesters down M...</td>\n",
              "      <td>4</td>\n",
              "    </tr>\n",
              "    <tr>\n",
              "      <th>1</th>\n",
              "      <td>Officers dressed in swat gear threw a stun gre...</td>\n",
              "      <td>4</td>\n",
              "    </tr>\n",
              "    <tr>\n",
              "      <th>2</th>\n",
              "      <td>After police declared the protest a riot, prot...</td>\n",
              "      <td>4</td>\n",
              "    </tr>\n",
              "    <tr>\n",
              "      <th>3</th>\n",
              "      <td>Footage shows heavy tear gas usage as proteste...</td>\n",
              "      <td>4</td>\n",
              "    </tr>\n",
              "    <tr>\n",
              "      <th>4</th>\n",
              "      <td>Canovas were again called into the police stat...</td>\n",
              "      <td>4</td>\n",
              "    </tr>\n",
              "    <tr>\n",
              "      <th>...</th>\n",
              "      <td>...</td>\n",
              "      <td>...</td>\n",
              "    </tr>\n",
              "    <tr>\n",
              "      <th>925</th>\n",
              "      <td>At a protest outside the ICE facility in Portl...</td>\n",
              "      <td>4</td>\n",
              "    </tr>\n",
              "    <tr>\n",
              "      <th>926</th>\n",
              "      <td>Following the death of an unarmed driver at th...</td>\n",
              "      <td>4</td>\n",
              "    </tr>\n",
              "    <tr>\n",
              "      <th>927</th>\n",
              "      <td>A journalist with Mill City Citizen Media is s...</td>\n",
              "      <td>4</td>\n",
              "    </tr>\n",
              "    <tr>\n",
              "      <th>928</th>\n",
              "      <td>Video shows sound cannon deployed alongside AP...</td>\n",
              "      <td>NaN</td>\n",
              "    </tr>\n",
              "    <tr>\n",
              "      <th>929</th>\n",
              "      <td>Police fire tear gas at peaceful protesters, w...</td>\n",
              "      <td>4</td>\n",
              "    </tr>\n",
              "  </tbody>\n",
              "</table>\n",
              "<p>930 rows × 2 columns</p>\n",
              "</div>"
            ]
          },
          "metadata": {
            "tags": []
          },
          "execution_count": 135
        }
      ],
      "metadata": {
        "colab": {
          "base_uri": "https://localhost:8080/",
          "height": 423
        },
        "id": "JJ0zko6vrJwX",
        "outputId": "b91d21ba-2ec9-4fe2-ec87-67929b90ca17"
      }
    },
    {
      "cell_type": "code",
      "execution_count": 136,
      "source": [
        "df_rank4.isnull().sum()"
      ],
      "outputs": [
        {
          "output_type": "execute_result",
          "data": {
            "text/plain": [
              "tweets     0\n",
              "labels    14\n",
              "dtype: int64"
            ]
          },
          "metadata": {
            "tags": []
          },
          "execution_count": 136
        }
      ],
      "metadata": {
        "colab": {
          "base_uri": "https://localhost:8080/"
        },
        "id": "uWo7MS4VrZeV",
        "outputId": "68265e7d-33b0-41a7-ff67-be5313a67cce"
      }
    },
    {
      "cell_type": "markdown",
      "source": [
        "Quite a few missing labels. Considering all the labels for this dataset are uniform, I can fill in these null values any which way."
      ],
      "metadata": {
        "id": "qKOHAR1PteTC"
      }
    },
    {
      "cell_type": "code",
      "execution_count": 137,
      "source": [
        "df_rank4.fillna(method='backfill', \n",
        "                inplace=True)"
      ],
      "outputs": [],
      "metadata": {
        "id": "P8w7R2SGrdNe"
      }
    },
    {
      "cell_type": "code",
      "execution_count": 138,
      "source": [
        "df_rank4.nunique()"
      ],
      "outputs": [
        {
          "output_type": "execute_result",
          "data": {
            "text/plain": [
              "tweets    675\n",
              "labels      5\n",
              "dtype: int64"
            ]
          },
          "metadata": {
            "tags": []
          },
          "execution_count": 138
        }
      ],
      "metadata": {
        "colab": {
          "base_uri": "https://localhost:8080/"
        },
        "id": "D6HTIZnc7rjU",
        "outputId": "9e08ca1a-803f-4ba5-a30e-5a87b29aab4b"
      }
    },
    {
      "cell_type": "code",
      "execution_count": 139,
      "source": [
        "df_rank4.labels.value_counts()"
      ],
      "outputs": [
        {
          "output_type": "execute_result",
          "data": {
            "text/plain": [
              "4                                                                         923\n",
              "pushed                                                                      3\n",
              "covering their faces are pepper-sprayed directly in the face by a cop.      2\n",
              "80.                                                                         1\n",
              "pol                                                                         1\n",
              "Name: labels, dtype: int64"
            ]
          },
          "metadata": {
            "tags": []
          },
          "execution_count": 139
        }
      ],
      "metadata": {
        "colab": {
          "base_uri": "https://localhost:8080/"
        },
        "id": "b9brGUdU70s-",
        "outputId": "4bc414ec-e5e1-41b5-87be-753614bb5b7b"
      }
    },
    {
      "cell_type": "markdown",
      "source": [
        "Some text were mistakenly made into labels."
      ],
      "metadata": {
        "id": "Uq68rW528Ddt"
      }
    },
    {
      "cell_type": "code",
      "execution_count": 140,
      "source": [
        "df_rank4=df_rank4[df_rank4.labels != 'covering their faces are pepper-sprayed directly in the face by a cop.']\n",
        "df_rank4=df_rank4[df_rank4.labels != 'pushed']\n",
        "df_rank4=df_rank4[df_rank4.labels != '80.']\n",
        "df_rank4=df_rank4[df_rank4.labels != 'pol']"
      ],
      "outputs": [],
      "metadata": {
        "id": "Yte6UtXQ7wVr"
      }
    },
    {
      "cell_type": "code",
      "execution_count": 141,
      "source": [
        "df_rank4.labels.value_counts()"
      ],
      "outputs": [
        {
          "output_type": "execute_result",
          "data": {
            "text/plain": [
              "4    923\n",
              "Name: labels, dtype: int64"
            ]
          },
          "metadata": {
            "tags": []
          },
          "execution_count": 141
        }
      ],
      "metadata": {
        "colab": {
          "base_uri": "https://localhost:8080/"
        },
        "id": "TDjUp3hn9AXf",
        "outputId": "7d1fecad-5951-4944-a819-87c74c7a9824"
      }
    },
    {
      "cell_type": "markdown",
      "source": [
        "Combining all 3 force rank dataframes into one."
      ],
      "metadata": {
        "id": "lE_Kcohrv5TY"
      }
    },
    {
      "cell_type": "code",
      "execution_count": 142,
      "source": [
        "df_rank234 = pd.concat([df_rank2, df_rank3, df_rank4])\n",
        "df_rank234.tail()"
      ],
      "outputs": [
        {
          "output_type": "execute_result",
          "data": {
            "text/plain": [
              "                                                tweets labels\n",
              "925  At a protest outside the ICE facility in Portl...      4\n",
              "926  Following the death of an unarmed driver at th...      4\n",
              "927  A journalist with Mill City Citizen Media is s...      4\n",
              "928  Video shows sound cannon deployed alongside AP...      4\n",
              "929  Police fire tear gas at peaceful protesters, w...      4"
            ],
            "text/html": [
              "<div>\n",
              "<style scoped>\n",
              "    .dataframe tbody tr th:only-of-type {\n",
              "        vertical-align: middle;\n",
              "    }\n",
              "\n",
              "    .dataframe tbody tr th {\n",
              "        vertical-align: top;\n",
              "    }\n",
              "\n",
              "    .dataframe thead th {\n",
              "        text-align: right;\n",
              "    }\n",
              "</style>\n",
              "<table border=\"1\" class=\"dataframe\">\n",
              "  <thead>\n",
              "    <tr style=\"text-align: right;\">\n",
              "      <th></th>\n",
              "      <th>tweets</th>\n",
              "      <th>labels</th>\n",
              "    </tr>\n",
              "  </thead>\n",
              "  <tbody>\n",
              "    <tr>\n",
              "      <th>925</th>\n",
              "      <td>At a protest outside the ICE facility in Portl...</td>\n",
              "      <td>4</td>\n",
              "    </tr>\n",
              "    <tr>\n",
              "      <th>926</th>\n",
              "      <td>Following the death of an unarmed driver at th...</td>\n",
              "      <td>4</td>\n",
              "    </tr>\n",
              "    <tr>\n",
              "      <th>927</th>\n",
              "      <td>A journalist with Mill City Citizen Media is s...</td>\n",
              "      <td>4</td>\n",
              "    </tr>\n",
              "    <tr>\n",
              "      <th>928</th>\n",
              "      <td>Video shows sound cannon deployed alongside AP...</td>\n",
              "      <td>4</td>\n",
              "    </tr>\n",
              "    <tr>\n",
              "      <th>929</th>\n",
              "      <td>Police fire tear gas at peaceful protesters, w...</td>\n",
              "      <td>4</td>\n",
              "    </tr>\n",
              "  </tbody>\n",
              "</table>\n",
              "</div>"
            ]
          },
          "metadata": {
            "tags": []
          },
          "execution_count": 142
        }
      ],
      "metadata": {
        "colab": {
          "base_uri": "https://localhost:8080/",
          "height": 206
        },
        "id": "frm7DKJarz2n",
        "outputId": "cb39d65d-e398-4323-ad38-23b1e116a482"
      }
    },
    {
      "cell_type": "code",
      "execution_count": 143,
      "source": [
        "df_rank234.describe"
      ],
      "outputs": [
        {
          "output_type": "execute_result",
          "data": {
            "text/plain": [
              "<bound method NDFrame.describe of                                                 tweets labels\n",
              "0    Members of the Unified Command (Multinomah Cou...      2\n",
              "1    Footage taken at E 136th St and Brook Ave in t...      2\n",
              "2    Police approach protesters standing in the str...      2\n",
              "3    Police arrested two AL.com journalists coverin...      2\n",
              "4    Rayne Valentine, a hospital employee in Brookl...      2\n",
              "..                                                 ...    ...\n",
              "925  At a protest outside the ICE facility in Portl...      4\n",
              "926  Following the death of an unarmed driver at th...      4\n",
              "927  A journalist with Mill City Citizen Media is s...      4\n",
              "928  Video shows sound cannon deployed alongside AP...      4\n",
              "929  Police fire tear gas at peaceful protesters, w...      4\n",
              "\n",
              "[2989 rows x 2 columns]>"
            ]
          },
          "metadata": {
            "tags": []
          },
          "execution_count": 143
        }
      ],
      "metadata": {
        "colab": {
          "base_uri": "https://localhost:8080/"
        },
        "id": "6c9UFpzPspwD",
        "outputId": "f6607c62-5d2f-4a13-efa1-bdf33c304969"
      }
    },
    {
      "cell_type": "code",
      "execution_count": 144,
      "source": [
        "df_rank234.nunique()"
      ],
      "outputs": [
        {
          "output_type": "execute_result",
          "data": {
            "text/plain": [
              "tweets    1776\n",
              "labels       3\n",
              "dtype: int64"
            ]
          },
          "metadata": {
            "tags": []
          },
          "execution_count": 144
        }
      ],
      "metadata": {
        "colab": {
          "base_uri": "https://localhost:8080/"
        },
        "id": "U6BzLWDZuBmp",
        "outputId": "09bac8d9-9a49-4f03-dfa3-6366bf62d9b2"
      }
    },
    {
      "cell_type": "markdown",
      "source": [
        "Nearly half of my ~3k generated tweets are duplicates. GPT-2 isn't as robust as I believed it to be or I didn't train it on enough data.\n",
        "\n",
        "Not only that, but the concatenation of these dataframes actually left some alphabetical characters as `labels`."
      ],
      "metadata": {
        "id": "3qo0XjlQuGwv"
      }
    },
    {
      "cell_type": "code",
      "execution_count": 146,
      "source": [
        "df_rank234.drop_duplicates(subset='tweets', inplace=True)"
      ],
      "outputs": [],
      "metadata": {
        "id": "LjLB6jsgue9B"
      }
    },
    {
      "cell_type": "code",
      "execution_count": 150,
      "source": [
        "df_rank234.describe"
      ],
      "outputs": [
        {
          "output_type": "execute_result",
          "data": {
            "text/plain": [
              "<bound method NDFrame.describe of                                                 tweets labels\n",
              "0    Members of the Unified Command (Multinomah Cou...      2\n",
              "1    Footage taken at E 136th St and Brook Ave in t...      2\n",
              "2    Police approach protesters standing in the str...      2\n",
              "3    Police arrested two AL.com journalists coverin...      2\n",
              "4    Rayne Valentine, a hospital employee in Brookl...      2\n",
              "..                                                 ...    ...\n",
              "921  Following the death of an unarmed driver at th...      4\n",
              "922  Following the death of an unarmed driver at th...      4\n",
              "925  At a protest outside the ICE facility in Portl...      4\n",
              "926  Following the death of an unarmed driver at th...      4\n",
              "927  A journalist with Mill City Citizen Media is s...      4\n",
              "\n",
              "[1776 rows x 2 columns]>"
            ]
          },
          "metadata": {
            "tags": []
          },
          "execution_count": 150
        }
      ],
      "metadata": {
        "colab": {
          "base_uri": "https://localhost:8080/"
        },
        "id": "pROX3dg4wZ8K",
        "outputId": "648f9a3f-c561-44ea-de41-4c3e0cbb9078"
      }
    },
    {
      "cell_type": "markdown",
      "source": [
        "Compiling it all"
      ],
      "metadata": {
        "id": "cn4uRmTw_h8C"
      }
    },
    {
      "cell_type": "code",
      "execution_count": 155,
      "source": [
        "train = pd.read_csv('/content/training.csv')\n",
        "test = pd.read_csv('/content/test.csv')\n",
        "compiled = pd.concat([train, test, df_rank234])"
      ],
      "outputs": [],
      "metadata": {
        "id": "qZyXXPlk_j8l"
      }
    },
    {
      "cell_type": "code",
      "execution_count": 156,
      "source": [
        "compiled.describe"
      ],
      "outputs": [
        {
          "output_type": "execute_result",
          "data": {
            "text/plain": [
              "<bound method NDFrame.describe of      Unnamed: 0    id                                             tweets labels\n",
              "0           0.0   6.0  A New Mexico State Police officer killed two p...      5\n",
              "1           1.0   7.0  I found some police badge stickers at work and...      0\n",
              "2           2.0   8.0  According to media reports, police said they a...      1\n",
              "3           3.0   9.0  The male who has the knife is now running nort...      0\n",
              "4           4.0  10.0  Changing the assignments of already existing c...      0\n",
              "..          ...   ...                                                ...    ...\n",
              "921         NaN   NaN  Following the death of an unarmed driver at th...      4\n",
              "922         NaN   NaN  Following the death of an unarmed driver at th...      4\n",
              "925         NaN   NaN  At a protest outside the ICE facility in Portl...      4\n",
              "926         NaN   NaN  Following the death of an unarmed driver at th...      4\n",
              "927         NaN   NaN  A journalist with Mill City Citizen Media is s...      4\n",
              "\n",
              "[7806 rows x 4 columns]>"
            ]
          },
          "metadata": {
            "tags": []
          },
          "execution_count": 156
        }
      ],
      "metadata": {
        "colab": {
          "base_uri": "https://localhost:8080/"
        },
        "id": "1QgZRlo8AQ8O",
        "outputId": "ef26ad43-9a3f-453e-94aa-95b545707f6e"
      }
    },
    {
      "cell_type": "code",
      "execution_count": 157,
      "source": [
        "compiled.nunique()"
      ],
      "outputs": [
        {
          "output_type": "execute_result",
          "data": {
            "text/plain": [
              "Unnamed: 0    6030\n",
              "id            6030\n",
              "tweets        6989\n",
              "labels           7\n",
              "dtype: int64"
            ]
          },
          "metadata": {
            "tags": []
          },
          "execution_count": 157
        }
      ],
      "metadata": {
        "colab": {
          "base_uri": "https://localhost:8080/"
        },
        "id": "6ldXNu6vAUDz",
        "outputId": "f73f3726-c75b-41cc-aaea-4c1fe233d36f"
      }
    },
    {
      "cell_type": "code",
      "execution_count": 158,
      "source": [
        "compiled.labels.value_counts()"
      ],
      "outputs": [
        {
          "output_type": "execute_result",
          "data": {
            "text/plain": [
              "0    2570\n",
              "5    1661\n",
              "1    1192\n",
              "3     837\n",
              "4     666\n",
              "2     549\n",
              "4     331\n",
              "Name: labels, dtype: int64"
            ]
          },
          "metadata": {
            "tags": []
          },
          "execution_count": 158
        }
      ],
      "metadata": {
        "colab": {
          "base_uri": "https://localhost:8080/"
        },
        "id": "lmc-CajdAjdT",
        "outputId": "bce7fd7e-d396-4856-aa1b-4595cc1a7afa"
      }
    },
    {
      "cell_type": "code",
      "execution_count": 161,
      "source": [
        "compiled.drop('Unnamed: 0', axis=1, inplace=True)\n",
        "compiled.drop('id', axis=1, inplace=True)"
      ],
      "outputs": [],
      "metadata": {
        "id": "8fE9DxgmA39r"
      }
    },
    {
      "cell_type": "code",
      "execution_count": 162,
      "source": [
        "compiled"
      ],
      "outputs": [
        {
          "output_type": "execute_result",
          "data": {
            "text/plain": [
              "                                                tweets labels\n",
              "0    A New Mexico State Police officer killed two p...      5\n",
              "1    I found some police badge stickers at work and...      0\n",
              "2    According to media reports, police said they a...      1\n",
              "3    The male who has the knife is now running nort...      0\n",
              "4    Changing the assignments of already existing c...      0\n",
              "..                                                 ...    ...\n",
              "921  Following the death of an unarmed driver at th...      4\n",
              "922  Following the death of an unarmed driver at th...      4\n",
              "925  At a protest outside the ICE facility in Portl...      4\n",
              "926  Following the death of an unarmed driver at th...      4\n",
              "927  A journalist with Mill City Citizen Media is s...      4\n",
              "\n",
              "[7806 rows x 2 columns]"
            ],
            "text/html": [
              "<div>\n",
              "<style scoped>\n",
              "    .dataframe tbody tr th:only-of-type {\n",
              "        vertical-align: middle;\n",
              "    }\n",
              "\n",
              "    .dataframe tbody tr th {\n",
              "        vertical-align: top;\n",
              "    }\n",
              "\n",
              "    .dataframe thead th {\n",
              "        text-align: right;\n",
              "    }\n",
              "</style>\n",
              "<table border=\"1\" class=\"dataframe\">\n",
              "  <thead>\n",
              "    <tr style=\"text-align: right;\">\n",
              "      <th></th>\n",
              "      <th>tweets</th>\n",
              "      <th>labels</th>\n",
              "    </tr>\n",
              "  </thead>\n",
              "  <tbody>\n",
              "    <tr>\n",
              "      <th>0</th>\n",
              "      <td>A New Mexico State Police officer killed two p...</td>\n",
              "      <td>5</td>\n",
              "    </tr>\n",
              "    <tr>\n",
              "      <th>1</th>\n",
              "      <td>I found some police badge stickers at work and...</td>\n",
              "      <td>0</td>\n",
              "    </tr>\n",
              "    <tr>\n",
              "      <th>2</th>\n",
              "      <td>According to media reports, police said they a...</td>\n",
              "      <td>1</td>\n",
              "    </tr>\n",
              "    <tr>\n",
              "      <th>3</th>\n",
              "      <td>The male who has the knife is now running nort...</td>\n",
              "      <td>0</td>\n",
              "    </tr>\n",
              "    <tr>\n",
              "      <th>4</th>\n",
              "      <td>Changing the assignments of already existing c...</td>\n",
              "      <td>0</td>\n",
              "    </tr>\n",
              "    <tr>\n",
              "      <th>...</th>\n",
              "      <td>...</td>\n",
              "      <td>...</td>\n",
              "    </tr>\n",
              "    <tr>\n",
              "      <th>921</th>\n",
              "      <td>Following the death of an unarmed driver at th...</td>\n",
              "      <td>4</td>\n",
              "    </tr>\n",
              "    <tr>\n",
              "      <th>922</th>\n",
              "      <td>Following the death of an unarmed driver at th...</td>\n",
              "      <td>4</td>\n",
              "    </tr>\n",
              "    <tr>\n",
              "      <th>925</th>\n",
              "      <td>At a protest outside the ICE facility in Portl...</td>\n",
              "      <td>4</td>\n",
              "    </tr>\n",
              "    <tr>\n",
              "      <th>926</th>\n",
              "      <td>Following the death of an unarmed driver at th...</td>\n",
              "      <td>4</td>\n",
              "    </tr>\n",
              "    <tr>\n",
              "      <th>927</th>\n",
              "      <td>A journalist with Mill City Citizen Media is s...</td>\n",
              "      <td>4</td>\n",
              "    </tr>\n",
              "  </tbody>\n",
              "</table>\n",
              "<p>7806 rows × 2 columns</p>\n",
              "</div>"
            ]
          },
          "metadata": {
            "tags": []
          },
          "execution_count": 162
        }
      ],
      "metadata": {
        "colab": {
          "base_uri": "https://localhost:8080/",
          "height": 423
        },
        "id": "mfJeSWHoBML5",
        "outputId": "2300588a-2f78-4e54-f110-bcd88a81bbbe"
      }
    },
    {
      "cell_type": "code",
      "execution_count": 163,
      "source": [
        "compiled.labels.value_counts()"
      ],
      "outputs": [
        {
          "output_type": "execute_result",
          "data": {
            "text/plain": [
              "0    2570\n",
              "5    1661\n",
              "1    1192\n",
              "3     837\n",
              "4     666\n",
              "2     549\n",
              "4     331\n",
              "Name: labels, dtype: int64"
            ]
          },
          "metadata": {
            "tags": []
          },
          "execution_count": 163
        }
      ],
      "metadata": {
        "colab": {
          "base_uri": "https://localhost:8080/"
        },
        "id": "uS1znoLjBOlO",
        "outputId": "62285106-9c4a-4b50-bd12-8bb5f98a172a"
      }
    },
    {
      "cell_type": "code",
      "execution_count": 164,
      "source": [
        "def unique(list1):\n",
        " \n",
        "    # intilize a null list\n",
        "    unique_list = []\n",
        "     \n",
        "    # traverse for all elements\n",
        "    for x in list1:\n",
        "        # check if exists in unique_list or not\n",
        "        if x not in unique_list:\n",
        "            unique_list.append(x)\n",
        "    # print list\n",
        "    for x in unique_list:\n",
        "        print (x,)"
      ],
      "outputs": [],
      "metadata": {
        "id": "ZpRQ1MzwBuM2"
      }
    },
    {
      "cell_type": "code",
      "execution_count": 165,
      "source": [
        "unique(compiled.labels)"
      ],
      "outputs": [
        {
          "output_type": "stream",
          "name": "stdout",
          "text": [
            "5\n",
            "0\n",
            "1\n",
            "2\n",
            "4\n",
            "3\n",
            "4\n"
          ]
        }
      ],
      "metadata": {
        "colab": {
          "base_uri": "https://localhost:8080/"
        },
        "id": "PNhc6K8SBvTW",
        "outputId": "89e83122-f6f7-4576-9d99-67647162e9cf"
      }
    },
    {
      "cell_type": "markdown",
      "source": [
        "Both unique functions fail to discern that 4 is listed twice. What in the world?"
      ],
      "metadata": {
        "id": "Vd7FHEqZCedh"
      }
    },
    {
      "cell_type": "code",
      "execution_count": 170,
      "source": [
        "compiled.dtypes"
      ],
      "outputs": [
        {
          "output_type": "execute_result",
          "data": {
            "text/plain": [
              "tweets    object\n",
              "labels    object\n",
              "dtype: object"
            ]
          },
          "metadata": {
            "tags": []
          },
          "execution_count": 170
        }
      ],
      "metadata": {
        "colab": {
          "base_uri": "https://localhost:8080/"
        },
        "id": "iCaObtZ7Cv05",
        "outputId": "ed5fce40-7d5f-4436-95e2-d29dcf122036"
      }
    },
    {
      "cell_type": "markdown",
      "source": [
        "So our labels are strings. That clears things up."
      ],
      "metadata": {
        "id": "T4jf7hgZDEU2"
      }
    },
    {
      "cell_type": "code",
      "execution_count": 171,
      "source": [
        "compiled['labels'] = compiled['labels'].astype(int)"
      ],
      "outputs": [],
      "metadata": {
        "id": "1duU2cq2DDTv"
      }
    },
    {
      "cell_type": "code",
      "execution_count": 173,
      "source": [
        "compiled.nunique()"
      ],
      "outputs": [
        {
          "output_type": "execute_result",
          "data": {
            "text/plain": [
              "tweets    6989\n",
              "labels       6\n",
              "dtype: int64"
            ]
          },
          "metadata": {
            "tags": []
          },
          "execution_count": 173
        }
      ],
      "metadata": {
        "colab": {
          "base_uri": "https://localhost:8080/"
        },
        "id": "c8hJtVExCSXL",
        "outputId": "5c5cf56c-5277-41ab-cce9-bb6391be84dd"
      }
    },
    {
      "cell_type": "code",
      "execution_count": 174,
      "source": [
        "compiled.describe"
      ],
      "outputs": [
        {
          "output_type": "execute_result",
          "data": {
            "text/plain": [
              "<bound method NDFrame.describe of                                                 tweets  labels\n",
              "0    A New Mexico State Police officer killed two p...       5\n",
              "1    I found some police badge stickers at work and...       0\n",
              "2    According to media reports, police said they a...       1\n",
              "3    The male who has the knife is now running nort...       0\n",
              "4    Changing the assignments of already existing c...       0\n",
              "..                                                 ...     ...\n",
              "921  Following the death of an unarmed driver at th...       4\n",
              "922  Following the death of an unarmed driver at th...       4\n",
              "925  At a protest outside the ICE facility in Portl...       4\n",
              "926  Following the death of an unarmed driver at th...       4\n",
              "927  A journalist with Mill City Citizen Media is s...       4\n",
              "\n",
              "[7806 rows x 2 columns]>"
            ]
          },
          "metadata": {
            "tags": []
          },
          "execution_count": 174
        }
      ],
      "metadata": {
        "colab": {
          "base_uri": "https://localhost:8080/"
        },
        "id": "H5dc5fWuDjW5",
        "outputId": "b703aa6b-fe0c-4886-ccdf-b0d0290a4099"
      }
    },
    {
      "cell_type": "markdown",
      "source": [
        "So GPT-2 actually **is** outputting text that it's being trained on!"
      ],
      "metadata": {
        "id": "BdYTtVDBCVZ5"
      }
    },
    {
      "cell_type": "code",
      "execution_count": 175,
      "source": [
        "compiled.drop_duplicates(subset='tweets', keep='first', inplace=True)"
      ],
      "outputs": [],
      "metadata": {
        "id": "geOzCgmEDmA-"
      }
    },
    {
      "cell_type": "markdown",
      "source": [
        "Finally finished cleaning!\n",
        "\n",
        "Exporting our compiled synthetic and authentic data for later use with BERT."
      ],
      "metadata": {
        "id": "CSIdCiRKvfAR"
      }
    },
    {
      "cell_type": "code",
      "execution_count": 177,
      "source": [
        "from sklearn.model_selection import train_test_split\n",
        "\n",
        "training, testing = train_test_split(compiled, test_size=0.2)"
      ],
      "outputs": [],
      "metadata": {
        "id": "NyPShlxrE_2v"
      }
    },
    {
      "cell_type": "code",
      "execution_count": 180,
      "source": [
        "# Sanity Check\n",
        "len(compiled) == len(training) + len(testing)"
      ],
      "outputs": [
        {
          "output_type": "execute_result",
          "data": {
            "text/plain": [
              "True"
            ]
          },
          "metadata": {
            "tags": []
          },
          "execution_count": 180
        }
      ],
      "metadata": {
        "colab": {
          "base_uri": "https://localhost:8080/"
        },
        "id": "5nRHEz-bGOrE",
        "outputId": "4ae5a5cb-6f22-4ad6-c033-6845d89f579b"
      }
    },
    {
      "cell_type": "code",
      "execution_count": 181,
      "source": [
        "compiled.to_csv('synthetic_tweets234.csv')\n",
        "training.to_csv('synthetic_training.csv')\n",
        "testing.to_csv('synthetic_testing.csv')"
      ],
      "outputs": [],
      "metadata": {
        "id": "s8Eg6yuEEGgT"
      }
    }
  ]
}