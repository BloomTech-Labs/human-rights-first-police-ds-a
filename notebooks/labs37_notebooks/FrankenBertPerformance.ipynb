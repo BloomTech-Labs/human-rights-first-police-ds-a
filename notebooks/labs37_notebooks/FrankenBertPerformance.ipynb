{
  "nbformat": 4,
  "nbformat_minor": 0,
  "metadata": {
    "colab": {
      "name": "FrankenBertPerformance.ipynb",
      "provenance": [],
      "collapsed_sections": []
    },
    "kernelspec": {
      "display_name": "Python 3",
      "name": "python3"
    }
  },
  "cells": [
    {
      "cell_type": "markdown",
      "metadata": {
        "id": "6R5-feBXkoYC"
      },
      "source": [
        "## Installs and Imports"
      ]
    },
    {
      "cell_type": "code",
      "metadata": {
        "colab": {
          "base_uri": "https://localhost:8080/"
        },
        "id": "j4T9JpJCtWFt",
        "outputId": "97856991-b5a4-4bef-ba23-be37fb10af65"
      },
      "source": [
        "!pip install transformers\n",
        "!pip install psycopg2-binary\n",
        "!pip install torchmetrics"
      ],
      "execution_count": null,
      "outputs": [
        {
          "output_type": "stream",
          "text": [
            "Requirement already satisfied: transformers in /usr/local/lib/python3.7/dist-packages (4.9.2)\n",
            "Requirement already satisfied: requests in /usr/local/lib/python3.7/dist-packages (from transformers) (2.23.0)\n",
            "Requirement already satisfied: regex!=2019.12.17 in /usr/local/lib/python3.7/dist-packages (from transformers) (2019.12.20)\n",
            "Requirement already satisfied: filelock in /usr/local/lib/python3.7/dist-packages (from transformers) (3.0.12)\n",
            "Requirement already satisfied: tokenizers<0.11,>=0.10.1 in /usr/local/lib/python3.7/dist-packages (from transformers) (0.10.3)\n",
            "Requirement already satisfied: numpy>=1.17 in /usr/local/lib/python3.7/dist-packages (from transformers) (1.19.5)\n",
            "Requirement already satisfied: tqdm>=4.27 in /usr/local/lib/python3.7/dist-packages (from transformers) (4.62.0)\n",
            "Requirement already satisfied: huggingface-hub==0.0.12 in /usr/local/lib/python3.7/dist-packages (from transformers) (0.0.12)\n",
            "Requirement already satisfied: packaging in /usr/local/lib/python3.7/dist-packages (from transformers) (21.0)\n",
            "Requirement already satisfied: sacremoses in /usr/local/lib/python3.7/dist-packages (from transformers) (0.0.45)\n",
            "Requirement already satisfied: importlib-metadata in /usr/local/lib/python3.7/dist-packages (from transformers) (4.6.4)\n",
            "Requirement already satisfied: pyyaml>=5.1 in /usr/local/lib/python3.7/dist-packages (from transformers) (5.4.1)\n",
            "Requirement already satisfied: typing-extensions in /usr/local/lib/python3.7/dist-packages (from huggingface-hub==0.0.12->transformers) (3.7.4.3)\n",
            "Requirement already satisfied: pyparsing>=2.0.2 in /usr/local/lib/python3.7/dist-packages (from packaging->transformers) (2.4.7)\n",
            "Requirement already satisfied: zipp>=0.5 in /usr/local/lib/python3.7/dist-packages (from importlib-metadata->transformers) (3.5.0)\n",
            "Requirement already satisfied: urllib3!=1.25.0,!=1.25.1,<1.26,>=1.21.1 in /usr/local/lib/python3.7/dist-packages (from requests->transformers) (1.24.3)\n",
            "Requirement already satisfied: chardet<4,>=3.0.2 in /usr/local/lib/python3.7/dist-packages (from requests->transformers) (3.0.4)\n",
            "Requirement already satisfied: certifi>=2017.4.17 in /usr/local/lib/python3.7/dist-packages (from requests->transformers) (2021.5.30)\n",
            "Requirement already satisfied: idna<3,>=2.5 in /usr/local/lib/python3.7/dist-packages (from requests->transformers) (2.10)\n",
            "Requirement already satisfied: click in /usr/local/lib/python3.7/dist-packages (from sacremoses->transformers) (7.1.2)\n",
            "Requirement already satisfied: joblib in /usr/local/lib/python3.7/dist-packages (from sacremoses->transformers) (1.0.1)\n",
            "Requirement already satisfied: six in /usr/local/lib/python3.7/dist-packages (from sacremoses->transformers) (1.15.0)\n",
            "Requirement already satisfied: psycopg2-binary in /usr/local/lib/python3.7/dist-packages (2.9.1)\n",
            "Requirement already satisfied: torchmetrics in /usr/local/lib/python3.7/dist-packages (0.5.0)\n",
            "Requirement already satisfied: torch>=1.3.1 in /usr/local/lib/python3.7/dist-packages (from torchmetrics) (1.9.0+cu102)\n",
            "Requirement already satisfied: packaging in /usr/local/lib/python3.7/dist-packages (from torchmetrics) (21.0)\n",
            "Requirement already satisfied: numpy>=1.17.2 in /usr/local/lib/python3.7/dist-packages (from torchmetrics) (1.19.5)\n",
            "Requirement already satisfied: typing-extensions in /usr/local/lib/python3.7/dist-packages (from torch>=1.3.1->torchmetrics) (3.7.4.3)\n",
            "Requirement already satisfied: pyparsing>=2.0.2 in /usr/local/lib/python3.7/dist-packages (from packaging->torchmetrics) (2.4.7)\n"
          ],
          "name": "stdout"
        }
      ]
    },
    {
      "cell_type": "code",
      "metadata": {
        "id": "MxRa6DUXtfYO"
      },
      "source": [
        "import os\n",
        "os.environ[\"CUDA_VISIBLE_DEVICES\"]=\"\"\n",
        "import tensorflow \n",
        "import pandas as pd\n",
        "import torch\n",
        "from torch.utils.data import TensorDataset, DataLoader, RandomSampler\n",
        "from transformers import BertTokenizer, BertForSequenceClassification, AdamW\n",
        "from transformers import get_linear_schedule_with_warmup\n",
        "from tensorflow.keras.preprocessing.sequence import pad_sequences\n",
        "import psycopg2\n",
        "import sklearn.metrics\n",
        "from sklearn.metrics import confusion_matrix, f1_score, classification_report\n",
        "from sklearn import model_selection\n",
        "import seaborn as sns\n",
        "import matplotlib.pyplot as plt\n",
        "from torchmetrics import Accuracy,F1"
      ],
      "execution_count": null,
      "outputs": []
    },
    {
      "cell_type": "markdown",
      "metadata": {
        "id": "SMi8A4PKo1MF"
      },
      "source": [
        "### Note:\n",
        "In order to run this notebook, you would need to load the following:\n",
        "-  'synthetic_testing.parquet\" file found in the folder notebooks/datasets\n",
        "- 'saved_model' folder which is the trained Bert Model"
      ]
    },
    {
      "cell_type": "markdown",
      "metadata": {
        "id": "jzqpq-3iktv6"
      },
      "source": [
        "## Load the testing data "
      ]
    },
    {
      "cell_type": "code",
      "metadata": {
        "colab": {
          "base_uri": "https://localhost:8080/",
          "height": 203
        },
        "id": "5MyTJirZtuoe",
        "outputId": "92acd45c-e83f-4079-fc4d-d48016f6530a"
      },
      "source": [
        "test_df = pd.read_parquet('/content/synthetic_testing.parquet')\n",
        "test_df.head()"
      ],
      "execution_count": null,
      "outputs": [
        {
          "output_type": "execute_result",
          "data": {
            "text/html": [
              "<div>\n",
              "<style scoped>\n",
              "    .dataframe tbody tr th:only-of-type {\n",
              "        vertical-align: middle;\n",
              "    }\n",
              "\n",
              "    .dataframe tbody tr th {\n",
              "        vertical-align: top;\n",
              "    }\n",
              "\n",
              "    .dataframe thead th {\n",
              "        text-align: right;\n",
              "    }\n",
              "</style>\n",
              "<table border=\"1\" class=\"dataframe\">\n",
              "  <thead>\n",
              "    <tr style=\"text-align: right;\">\n",
              "      <th></th>\n",
              "      <th>tweets</th>\n",
              "      <th>labels</th>\n",
              "    </tr>\n",
              "  </thead>\n",
              "  <tbody>\n",
              "    <tr>\n",
              "      <th>5138</th>\n",
              "      <td>Tensions in Sweden’s second largest city, Goth...</td>\n",
              "      <td>1</td>\n",
              "    </tr>\n",
              "    <tr>\n",
              "      <th>777</th>\n",
              "      <td>According to preliminary reports, officers Bra...</td>\n",
              "      <td>3</td>\n",
              "    </tr>\n",
              "    <tr>\n",
              "      <th>3750</th>\n",
              "      <td>12:54 Report of possible FOUND CHILD at 6XX MT...</td>\n",
              "      <td>0</td>\n",
              "    </tr>\n",
              "    <tr>\n",
              "      <th>2051</th>\n",
              "      <td>French police in massive manhunt for rifle-tot...</td>\n",
              "      <td>0</td>\n",
              "    </tr>\n",
              "    <tr>\n",
              "      <th>1740</th>\n",
              "      <td>These mass demonstrations were met with violen...</td>\n",
              "      <td>2</td>\n",
              "    </tr>\n",
              "  </tbody>\n",
              "</table>\n",
              "</div>"
            ],
            "text/plain": [
              "                                                 tweets  labels\n",
              "5138  Tensions in Sweden’s second largest city, Goth...       1\n",
              "777   According to preliminary reports, officers Bra...       3\n",
              "3750  12:54 Report of possible FOUND CHILD at 6XX MT...       0\n",
              "2051  French police in massive manhunt for rifle-tot...       0\n",
              "1740  These mass demonstrations were met with violen...       2"
            ]
          },
          "metadata": {},
          "execution_count": 3
        }
      ]
    },
    {
      "cell_type": "markdown",
      "metadata": {
        "id": "sjkWZyjAkzD9"
      },
      "source": [
        "## FrankenBert for Predictions"
      ]
    },
    {
      "cell_type": "code",
      "metadata": {
        "id": "4dyKGbYNu39b"
      },
      "source": [
        "import numpy as np\n",
        "import torch\n",
        "from transformers import BertTokenizer, BertForSequenceClassification\n",
        "\n",
        "\n",
        "class FrankenBert:\n",
        "    \"\"\"\n",
        "    Implements BertForSequenceClassification and BertTokenizer\n",
        "    for binary classification from a saved model\n",
        "    \"\"\"\n",
        "\n",
        "    def __init__(self, path: str):\n",
        "        \"\"\"\n",
        "        If there's a GPU available, tell PyTorch to use the GPU.\n",
        "        Loads model and tokenizer from saved model directory (path)\n",
        "        \"\"\"\n",
        "        if torch.cuda.is_available():\n",
        "            self.device = torch.device('cuda')\n",
        "        else:\n",
        "            self.device = torch.device('cpu')\n",
        "        self.model = BertForSequenceClassification.from_pretrained(path)\n",
        "        self.tokenizer = BertTokenizer.from_pretrained(path)\n",
        "        self.model.to(self.device)\n",
        "\n",
        "    def predict(self, text: str):\n",
        "        \"\"\"\n",
        "        Makes a binary classification prediction based on saved model\n",
        "        \"\"\"\n",
        "        inputs = self.tokenizer(\n",
        "            text,\n",
        "            padding=True,\n",
        "            truncation=True,\n",
        "            max_length=280,\n",
        "            return_tensors='pt',\n",
        "        ).to(self.device)\n",
        "        output = self.model(**inputs)\n",
        "        prediction = output[0].softmax(1)\n",
        "        tensors = prediction.detach().cpu().numpy()\n",
        "        result = np.argmax(tensors)\n",
        "        confidence = tensors[0][result]\n",
        "        return result"
      ],
      "execution_count": null,
      "outputs": []
    },
    {
      "cell_type": "markdown",
      "metadata": {
        "id": "nWMM3zHDk7qI"
      },
      "source": [
        "Ensure the path to the model is correct."
      ]
    },
    {
      "cell_type": "code",
      "metadata": {
        "id": "xHYKV07LvqSw"
      },
      "source": [
        "model = FrankenBert('/content/saved_model')"
      ],
      "execution_count": null,
      "outputs": []
    },
    {
      "cell_type": "code",
      "metadata": {
        "colab": {
          "base_uri": "https://localhost:8080/"
        },
        "id": "4HqJ9_2BG_mn",
        "outputId": "0045ee48-670b-4a22-98a0-149ea8d7f679"
      },
      "source": [
        "test_df.shape\n"
      ],
      "execution_count": null,
      "outputs": [
        {
          "output_type": "execute_result",
          "data": {
            "text/plain": [
              "(1504, 2)"
            ]
          },
          "metadata": {},
          "execution_count": 6
        }
      ]
    },
    {
      "cell_type": "code",
      "metadata": {
        "colab": {
          "base_uri": "https://localhost:8080/"
        },
        "id": "9iG5T7w6HE2N",
        "outputId": "34246ac8-3170-4520-f7da-e698f14e776f"
      },
      "source": [
        "test_df.labels.value_counts()"
      ],
      "execution_count": null,
      "outputs": [
        {
          "output_type": "execute_result",
          "data": {
            "text/plain": [
              "0    535\n",
              "5    290\n",
              "1    213\n",
              "3    179\n",
              "4    157\n",
              "2    130\n",
              "Name: labels, dtype: int64"
            ]
          },
          "metadata": {},
          "execution_count": 7
        }
      ]
    },
    {
      "cell_type": "code",
      "metadata": {
        "id": "tEuyV3y4HNGq"
      },
      "source": [
        "# Generating predictions using the model\n",
        "predictions = []\n",
        "for tweet in test_df.tweets:\n",
        "    y_pred = model.predict(tweet)\n",
        "    predictions.append(y_pred)"
      ],
      "execution_count": null,
      "outputs": []
    },
    {
      "cell_type": "code",
      "metadata": {
        "colab": {
          "base_uri": "https://localhost:8080/"
        },
        "id": "fmjr6BAMHdDJ",
        "outputId": "88ab1c2e-6825-4570-c12e-6a63192a10ff"
      },
      "source": [
        "predictions[:10]"
      ],
      "execution_count": null,
      "outputs": [
        {
          "output_type": "execute_result",
          "data": {
            "text/plain": [
              "[1, 3, 0, 0, 2, 1, 0, 5, 5, 4]"
            ]
          },
          "metadata": {},
          "execution_count": 9
        }
      ]
    },
    {
      "cell_type": "code",
      "metadata": {
        "id": "T_ZlNUCFHowH"
      },
      "source": [
        "#Adding the predictions to the testing table\n",
        "test_df['predictions'] = predictions\n"
      ],
      "execution_count": null,
      "outputs": []
    },
    {
      "cell_type": "code",
      "metadata": {
        "colab": {
          "base_uri": "https://localhost:8080/",
          "height": 203
        },
        "id": "FAUbwmC-H6S2",
        "outputId": "adcd2589-f991-48d7-cb57-c33067ce6469"
      },
      "source": [
        "test_df.head()"
      ],
      "execution_count": null,
      "outputs": [
        {
          "output_type": "execute_result",
          "data": {
            "text/html": [
              "<div>\n",
              "<style scoped>\n",
              "    .dataframe tbody tr th:only-of-type {\n",
              "        vertical-align: middle;\n",
              "    }\n",
              "\n",
              "    .dataframe tbody tr th {\n",
              "        vertical-align: top;\n",
              "    }\n",
              "\n",
              "    .dataframe thead th {\n",
              "        text-align: right;\n",
              "    }\n",
              "</style>\n",
              "<table border=\"1\" class=\"dataframe\">\n",
              "  <thead>\n",
              "    <tr style=\"text-align: right;\">\n",
              "      <th></th>\n",
              "      <th>tweets</th>\n",
              "      <th>labels</th>\n",
              "      <th>predictions</th>\n",
              "    </tr>\n",
              "  </thead>\n",
              "  <tbody>\n",
              "    <tr>\n",
              "      <th>5138</th>\n",
              "      <td>Tensions in Sweden’s second largest city, Goth...</td>\n",
              "      <td>1</td>\n",
              "      <td>1</td>\n",
              "    </tr>\n",
              "    <tr>\n",
              "      <th>777</th>\n",
              "      <td>According to preliminary reports, officers Bra...</td>\n",
              "      <td>3</td>\n",
              "      <td>3</td>\n",
              "    </tr>\n",
              "    <tr>\n",
              "      <th>3750</th>\n",
              "      <td>12:54 Report of possible FOUND CHILD at 6XX MT...</td>\n",
              "      <td>0</td>\n",
              "      <td>0</td>\n",
              "    </tr>\n",
              "    <tr>\n",
              "      <th>2051</th>\n",
              "      <td>French police in massive manhunt for rifle-tot...</td>\n",
              "      <td>0</td>\n",
              "      <td>0</td>\n",
              "    </tr>\n",
              "    <tr>\n",
              "      <th>1740</th>\n",
              "      <td>These mass demonstrations were met with violen...</td>\n",
              "      <td>2</td>\n",
              "      <td>2</td>\n",
              "    </tr>\n",
              "  </tbody>\n",
              "</table>\n",
              "</div>"
            ],
            "text/plain": [
              "                                                 tweets  labels  predictions\n",
              "5138  Tensions in Sweden’s second largest city, Goth...       1            1\n",
              "777   According to preliminary reports, officers Bra...       3            3\n",
              "3750  12:54 Report of possible FOUND CHILD at 6XX MT...       0            0\n",
              "2051  French police in massive manhunt for rifle-tot...       0            0\n",
              "1740  These mass demonstrations were met with violen...       2            2"
            ]
          },
          "metadata": {},
          "execution_count": 12
        }
      ]
    },
    {
      "cell_type": "markdown",
      "metadata": {
        "id": "FXT-E426H_D4"
      },
      "source": [
        "## **Evaluation Metrics:**\n",
        " - F1 Score (using sklear and pytorch metrics libraries)\n",
        " - Accuracy (using pytorch metrics libraries)\n",
        " - Classification Report\n",
        " - Confusion Matrix"
      ]
    },
    {
      "cell_type": "code",
      "metadata": {
        "id": "N-RP2NXQH-lZ"
      },
      "source": [
        "#Preparing our true values and predicted values\n",
        "y_true = test_df['labels']\n",
        "y_pred = test_df['predictions']"
      ],
      "execution_count": null,
      "outputs": []
    },
    {
      "cell_type": "code",
      "metadata": {
        "colab": {
          "base_uri": "https://localhost:8080/"
        },
        "id": "SDLVuLTSIFL-",
        "outputId": "67fe44c6-7add-46ac-df7b-121acdad7949"
      },
      "source": [
        "#Using sklearn metrics library\n",
        "f1_score(y_true, y_pred, average='weighted')"
      ],
      "execution_count": null,
      "outputs": [
        {
          "output_type": "execute_result",
          "data": {
            "text/plain": [
              "0.9678701651341687"
            ]
          },
          "metadata": {},
          "execution_count": 17
        }
      ]
    },
    {
      "cell_type": "code",
      "metadata": {
        "colab": {
          "base_uri": "https://localhost:8080/"
        },
        "id": "ZuwfW7IJIHkB",
        "outputId": "1babb94f-6236-410e-861f-ee2ef0d41f36"
      },
      "source": [
        "#Using Pytorch metrics library\n",
        "\n",
        "y_pred = torch.tensor(test_df['predictions'].to_list()) \n",
        "y_true = torch.tensor(test_df['labels'].to_list())\n",
        "f1 = F1(num_classes=6)\n",
        "print(\"F1 Score using TorchMetrics::\",f1(y_pred, y_true))"
      ],
      "execution_count": null,
      "outputs": [
        {
          "output_type": "stream",
          "text": [
            "F1 Score using TorchMetrics:: tensor(0.9681)\n"
          ],
          "name": "stdout"
        }
      ]
    },
    {
      "cell_type": "code",
      "metadata": {
        "colab": {
          "base_uri": "https://localhost:8080/"
        },
        "id": "FBOl7mr0INFY",
        "outputId": "120f5a64-93db-4391-a8bf-ced3f60cf94e"
      },
      "source": [
        "#Model Accuracy using Pytorch\n",
        "\n",
        "metric = Accuracy()\n",
        "y_pred = torch.tensor(test_df['predictions'].to_list()) \n",
        "y_true = torch.tensor(test_df['labels'].to_list())\n",
        "\n",
        "acc = metric(y_pred, y_true)\n",
        "print(\"Test Accuracy using TorchMetrics::\",acc)"
      ],
      "execution_count": null,
      "outputs": [
        {
          "output_type": "stream",
          "text": [
            "Test Accuracy using TorchMetrics:: tensor(0.9681)\n"
          ],
          "name": "stdout"
        }
      ]
    },
    {
      "cell_type": "code",
      "metadata": {
        "colab": {
          "base_uri": "https://localhost:8080/"
        },
        "id": "-OovE4bWj-f2",
        "outputId": "99f1a909-7a12-4eeb-ab5a-3e0f0f89a3ba"
      },
      "source": [
        "# Classification Report\n",
        "\n",
        "target_names = ['class 0', 'class 1', 'class 2', 'class 3', 'class 4', 'class 5']\n",
        "report = classification_report(y_true, y_pred, target_names=target_names)\n",
        "print(report)"
      ],
      "execution_count": null,
      "outputs": [
        {
          "output_type": "stream",
          "text": [
            "              precision    recall  f1-score   support\n",
            "\n",
            "     class 0       0.96      0.98      0.97       535\n",
            "     class 1       0.94      0.89      0.91       213\n",
            "     class 2       0.95      0.98      0.97       130\n",
            "     class 3       0.99      0.98      0.99       179\n",
            "     class 4       0.99      0.99      0.99       157\n",
            "     class 5       0.97      0.98      0.98       290\n",
            "\n",
            "    accuracy                           0.97      1504\n",
            "   macro avg       0.97      0.97      0.97      1504\n",
            "weighted avg       0.97      0.97      0.97      1504\n",
            "\n"
          ],
          "name": "stdout"
        }
      ]
    },
    {
      "cell_type": "code",
      "metadata": {
        "colab": {
          "base_uri": "https://localhost:8080/",
          "height": 282
        },
        "id": "d4xZkpOYj_h6",
        "outputId": "351780c2-4380-4cc6-dbf1-298cdfa19224"
      },
      "source": [
        "# Classification Report for HeatMap generation\n",
        "\n",
        "target_names = ['class 0', 'class 1', 'class 2', 'class 3', 'class 4', 'class 5']\n",
        "report = classification_report(y_true, y_pred, target_names=target_names, output_dict=True)\n",
        "# .iloc[:-1, :] to exclude support\n",
        "sns.heatmap(pd.DataFrame(report).iloc[:-1, :].T, annot=True)"
      ],
      "execution_count": null,
      "outputs": [
        {
          "output_type": "execute_result",
          "data": {
            "text/plain": [
              "<matplotlib.axes._subplots.AxesSubplot at 0x7f1d14c5e490>"
            ]
          },
          "metadata": {},
          "execution_count": 26
        },
        {
          "output_type": "display_data",
          "data": {
            "image/png": "[encoded data removed]",
            "text/plain": [
              "<Figure size 432x288 with 2 Axes>"
            ]
          },
          "metadata": {
            "needs_background": "light"
          }
        }
      ]
    },
    {
      "cell_type": "code",
      "metadata": {
        "colab": {
          "base_uri": "https://localhost:8080/",
          "height": 295
        },
        "id": "hYmyzWAXkDGn",
        "outputId": "2730eb37-e2cd-4a57-f26d-a299f73e302d"
      },
      "source": [
        "# Confusion Matrix\n",
        "cm = confusion_matrix(y_true, y_pred)\n",
        "ax= plt.subplot()\n",
        "sns.heatmap(cm, annot=True, fmt='g', ax=ax);\n",
        "ax.set_xlabel('Predicted labels');ax.set_ylabel('True labels'); \n",
        "ax.set_title('Confusion Matrix'); \n",
        "ax.xaxis.set_ticklabels(['Rank0', 'Rank1','Rank2','Rank3','Rank4','Rank5']); ax.yaxis.set_ticklabels(['Rank0', 'Rank1','Rank2','Rank3','Rank4','Rank5']);"
      ],
      "execution_count": null,
      "outputs": [
        {
          "output_type": "display_data",
          "data": {
            "image/png": "[encoded data removed]",
            "text/plain": [
              "<Figure size 432x288 with 2 Axes>"
            ]
          },
          "metadata": {
            "needs_background": "light"
          }
        }
      ]
    },
    {
      "cell_type": "code",
      "metadata": {
        "id": "y0VSO3XrnP5S"
      },
      "source": [
        "\n",
        "data = [['Rank 0', 535,523], \n",
        "        ['Rank 1', 213,189], \n",
        "        ['Rank 2', 130,128],\n",
        "        ['Rank 3', 179, 176],\n",
        "        ['Rank 4', 157,156],\n",
        "        ['Rank 5',290,284]]\n",
        "\n",
        "accuracy_table = pd.DataFrame(data=data,columns=['Rank','Testcases','True Positives'])\n"
      ],
      "execution_count": null,
      "outputs": []
    },
    {
      "cell_type": "markdown",
      "metadata": {
        "id": "1vAuLUyXlr8J"
      },
      "source": [
        "## Conclusions:\n",
        "\n",
        "Our model is classifying tweets very well with an accuracy of 96.8%. The data below is proof of this."
      ]
    },
    {
      "cell_type": "code",
      "metadata": {
        "colab": {
          "base_uri": "https://localhost:8080/",
          "height": 234
        },
        "id": "juatJRdworcY",
        "outputId": "25074fd4-78f3-4666-ee51-baa6d6c230c7"
      },
      "source": [
        "accuracy_table"
      ],
      "execution_count": null,
      "outputs": [
        {
          "output_type": "execute_result",
          "data": {
            "text/html": [
              "<div>\n",
              "<style scoped>\n",
              "    .dataframe tbody tr th:only-of-type {\n",
              "        vertical-align: middle;\n",
              "    }\n",
              "\n",
              "    .dataframe tbody tr th {\n",
              "        vertical-align: top;\n",
              "    }\n",
              "\n",
              "    .dataframe thead th {\n",
              "        text-align: right;\n",
              "    }\n",
              "</style>\n",
              "<table border=\"1\" class=\"dataframe\">\n",
              "  <thead>\n",
              "    <tr style=\"text-align: right;\">\n",
              "      <th></th>\n",
              "      <th>Rank</th>\n",
              "      <th>Testcases</th>\n",
              "      <th>True Positives</th>\n",
              "    </tr>\n",
              "  </thead>\n",
              "  <tbody>\n",
              "    <tr>\n",
              "      <th>0</th>\n",
              "      <td>Rank 0</td>\n",
              "      <td>535</td>\n",
              "      <td>523</td>\n",
              "    </tr>\n",
              "    <tr>\n",
              "      <th>1</th>\n",
              "      <td>Rank 1</td>\n",
              "      <td>213</td>\n",
              "      <td>189</td>\n",
              "    </tr>\n",
              "    <tr>\n",
              "      <th>2</th>\n",
              "      <td>Rank 2</td>\n",
              "      <td>130</td>\n",
              "      <td>128</td>\n",
              "    </tr>\n",
              "    <tr>\n",
              "      <th>3</th>\n",
              "      <td>Rank 3</td>\n",
              "      <td>179</td>\n",
              "      <td>176</td>\n",
              "    </tr>\n",
              "    <tr>\n",
              "      <th>4</th>\n",
              "      <td>Rank 4</td>\n",
              "      <td>157</td>\n",
              "      <td>156</td>\n",
              "    </tr>\n",
              "    <tr>\n",
              "      <th>5</th>\n",
              "      <td>Rank 5</td>\n",
              "      <td>290</td>\n",
              "      <td>284</td>\n",
              "    </tr>\n",
              "  </tbody>\n",
              "</table>\n",
              "</div>"
            ],
            "text/plain": [
              "     Rank  Testcases  True Positives\n",
              "0  Rank 0        535             523\n",
              "1  Rank 1        213             189\n",
              "2  Rank 2        130             128\n",
              "3  Rank 3        179             176\n",
              "4  Rank 4        157             156\n",
              "5  Rank 5        290             284"
            ]
          },
          "metadata": {},
          "execution_count": 33
        }
      ]
    },
    {
      "cell_type": "code",
      "metadata": {
        "id": "1Ny3KWWCor8V"
      },
      "source": [
        ""
      ],
      "execution_count": null,
      "outputs": []
    }
  ]
}