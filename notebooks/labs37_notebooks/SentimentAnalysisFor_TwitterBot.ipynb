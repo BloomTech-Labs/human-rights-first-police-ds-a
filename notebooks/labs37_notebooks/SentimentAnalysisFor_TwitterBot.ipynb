{
  "nbformat": 4,
  "nbformat_minor": 0,
  "metadata": {
    "colab": {
      "name": "SentimentAnalysisFor TwitterBot.ipynb",
      "provenance": []
    },
    "kernelspec": {
      "name": "python3",
      "display_name": "Python 3"
    },
    "language_info": {
      "name": "python"
    }
  },
  "cells": [
    {
      "cell_type": "code",
      "metadata": {
        "id": "N4meqm12J7FM"
      },
      "source": [
        "import re\n",
        "import numpy as np\n",
        "import pandas as pd\n",
        "from sklearn.model_selection import train_test_split\n",
        "import matplotlib.pyplot as plt\n",
        "\n",
        "from keras.models import Sequential, load_model\n",
        "from keras.layers import Dense, LSTM, Embedding, Dropout\n",
        "from keras.preprocessing.text import Tokenizer\n",
        "from keras.preprocessing.sequence import pad_sequences\n",
        "import tensorflow_hub as hub"
      ],
      "execution_count": null,
      "outputs": []
    },
    {
      "cell_type": "code",
      "metadata": {
        "id": "OjLCmM1RKCkf"
      },
      "source": [
        "data = [[\"not sure\", \"maybe\"],\n",
        "        [\"I may agree\", \"maybe\"],\n",
        "        [\"I don't know\", \"no\"],\n",
        "        [\"I have no clue\", \"no\"],\n",
        "        [\"I think so\", \"yes\"],\n",
        "        [\"I agree\", \"yes\"],\n",
        "        [\"I'm not sure if I agree\", \"maybe\"],\n",
        "        [\"I may agree\", \"maybe\"],\n",
        "        [\"I might agree\", \"maybe\"],\n",
        "        [\"I'm not sure\", \"maybe\"],\n",
        "        [\"I don't have a clue\", \"no\"],\n",
        "        [\"I don't have a clue\", \"no\"],\n",
        "        [\"I have no clue\", \"no\"],\n",
        "        [\"I have no idea\", \"no\"],\n",
        "        [\"No idea\", \"no\"],\n",
        "        [\"dunno\", \"no\"],\n",
        "        [\"I've changed my mind\", \"no\"],\n",
        "        [\"I don't agree\", \"no\"],\n",
        "        [\"I do not agree\", \"no\"],\n",
        "        [\"Absolutely not\", \"no\"],\n",
        "        [\"belay that\", \"no\"],\n",
        "        [\"cut it out\", \"no\"],\n",
        "        [\"don't do anything\", \"no\"],\n",
        "        [\"don't do it\", \"no\"],\n",
        "        [\"forget it\", \"no\"],\n",
        "        [\"forget about it\", \"no\"],\n",
        "        [\"never mind\", \"no\"],\n",
        "        [\"no thanks\", \"no\"],\n",
        "        [\"no thank you\", \"no\"],\n",
        "        [\"no way\", \"no\"],\n",
        "        [\"on second thought, don't do it\", \"no\"],\n",
        "        [\"please don't\", \"no\"],\n",
        "        [\"scratch that\", \"no\"],\n",
        "        [\"cancel\", \"no\"],\n",
        "        [\"denied\", \"no\"],\n",
        "        [\"disconnect\", \"no\"],\n",
        "        [\"disengage\", \"no\"],\n",
        "        [\"don't\", \"no\"],\n",
        "        [\"end\", \"no\"],\n",
        "        [\"exit\", \"no\"],\n",
        "        [\"halt\", \"no\"],\n",
        "        [\"n\", \"no\"],\n",
        "        [\"q\", \"no\"],\n",
        "        [\"nah\", \"no\"],\n",
        "        [\"nay\", \"no\"],\n",
        "        [\"neg\", \"no\"],\n",
        "        [\"negative\", \"no\"],\n",
        "        [\"negatory\", \"no\"],\n",
        "        [\"nein\", \"no\"],\n",
        "        [\"nevermind\", \"no\"],\n",
        "        [\"no\", \"no\"],\n",
        "        [\"no\", \"no\"],\n",
        "        [\"nope\", \"no\"],\n",
        "        [\"nope\", \"no\"],\n",
        "        [\"nyet\", \"no\"],\n",
        "        [\"skip\", \"no\"],\n",
        "        [\"stop\", \"no\"],\n",
        "        [\"stop\", \"no\"],\n",
        "        [\"quit\", \"no\"],\n",
        "        [\"I agree\", \"yes\"],\n",
        "        [\"I agree\", \"yes\"],\n",
        "        [\"I'm sure\", \"yes\"],\n",
        "        [\"I'm sure\", \"yes\"],\n",
        "        [\"aye aye\", \"yes\"],\n",
        "        [\"aye\", \"yes\"],\n",
        "        [\"carry on\", \"yes\"],\n",
        "        [\"do it\", \"yes\"],\n",
        "        [\"do it\", \"yes\"],\n",
        "        [\"get on with it then\", \"yes\"],\n",
        "        [\"go ahead\", \"yes\"],\n",
        "        [\"i agree\", \"yes\"],\n",
        "        [\"make it happen\", \"yes\"],\n",
        "        [\"make it so\", \"yes\"],\n",
        "        [\"most assuredly\", \"yes\"],\n",
        "        [\"perfect, thanks\", \"yes\"],\n",
        "        [\"please do\", \"yes\"],\n",
        "        [\"rock on\", \"yes\"],\n",
        "        [\"that's correct\", \"yes\"],\n",
        "        [\"that's right\", \"yes\"],\n",
        "        [\"uh huh\", \"yes\"],\n",
        "        [\"yeah, do it\", \"yes\"],\n",
        "        [\"yes, do it\", \"yes\"],\n",
        "        [\"yes, please\", \"yes\"],\n",
        "        [\"you got it\", \"yes\"],\n",
        "        [\"absolutely\", \"yes\"],\n",
        "        [\"yes, absolutely\", \"yes\"],\n",
        "        [\"affirmative\", \"yes\"],\n",
        "        [\"alright\", \"yes\"],\n",
        "        [\"aye\", \"yes\"],\n",
        "        [\"certainly\", \"yes\"],\n",
        "        [\"confirmed\", \"yes\"],\n",
        "        [\"continue\", \"yes\"],\n",
        "        [\"correct\", \"yes\"],\n",
        "        [\"da\", \"yes\"],\n",
        "        [\"good\", \"yes\"],\n",
        "        [\"hooray\", \"yes\"],\n",
        "        [\"ja\", \"yes\"],\n",
        "        [\"ok\", \"yes\"],\n",
        "        [\"ok\", \"yes\"],\n",
        "        [\"okay\", \"yes\"],\n",
        "        [\"proceed\", \"yes\"],\n",
        "        [\"righto\", \"yes\"],\n",
        "        [\"sure\", \"yes\"],\n",
        "        [\"sure\", \"yes\"],\n",
        "        [\"sure\", \"yes\"],\n",
        "        [\"sure\", \"yes\"],\n",
        "        [\"thanks\", \"yes\"],\n",
        "        [\"totally\", \"yes\"],\n",
        "        [\"true\", \"yes\"],\n",
        "        [\"y\", \"yes\"],\n",
        "        [\"ya\", \"yes\"],\n",
        "        [\"ya\", \"yes\"],\n",
        "        [\"yay\", \"yes\"],\n",
        "        [\"yea\", \"yes\"],\n",
        "        [\"yeah\", \"yes\"],\n",
        "        [\"yeah\", \"yes\"],\n",
        "        [\"yep\", \"yes\"],\n",
        "        [\"yeppers\", \"yes\"],\n",
        "        [\"yes\", \"yes\"],\n",
        "        [\"yes\", \"yes\"],\n",
        "        [\"yes\", \"yes\"],\n",
        "        [\"k!\", \"yes\"]\n",
        "]"
      ],
      "execution_count": null,
      "outputs": []
    },
    {
      "cell_type": "code",
      "metadata": {
        "colab": {
          "base_uri": "https://localhost:8080/",
          "height": 434
        },
        "id": "y-oGHVIuKdIO",
        "outputId": "f29a5b07-9d3b-449c-b591-7b6ffaae9878"
      },
      "source": [
        "df = pd.DataFrame(data,columns=['responses','sentiment'])\n",
        "print(df.shape)\n",
        "df"
      ],
      "execution_count": null,
      "outputs": [
        {
          "output_type": "stream",
          "text": [
            "(122, 2)\n"
          ],
          "name": "stdout"
        },
        {
          "output_type": "execute_result",
          "data": {
            "text/html": [
              "<div>\n",
              "<style scoped>\n",
              "    .dataframe tbody tr th:only-of-type {\n",
              "        vertical-align: middle;\n",
              "    }\n",
              "\n",
              "    .dataframe tbody tr th {\n",
              "        vertical-align: top;\n",
              "    }\n",
              "\n",
              "    .dataframe thead th {\n",
              "        text-align: right;\n",
              "    }\n",
              "</style>\n",
              "<table border=\"1\" class=\"dataframe\">\n",
              "  <thead>\n",
              "    <tr style=\"text-align: right;\">\n",
              "      <th></th>\n",
              "      <th>responses</th>\n",
              "      <th>sentiment</th>\n",
              "    </tr>\n",
              "  </thead>\n",
              "  <tbody>\n",
              "    <tr>\n",
              "      <th>0</th>\n",
              "      <td>not sure</td>\n",
              "      <td>maybe</td>\n",
              "    </tr>\n",
              "    <tr>\n",
              "      <th>1</th>\n",
              "      <td>I may agree</td>\n",
              "      <td>maybe</td>\n",
              "    </tr>\n",
              "    <tr>\n",
              "      <th>2</th>\n",
              "      <td>I don't know</td>\n",
              "      <td>no</td>\n",
              "    </tr>\n",
              "    <tr>\n",
              "      <th>3</th>\n",
              "      <td>I have no clue</td>\n",
              "      <td>no</td>\n",
              "    </tr>\n",
              "    <tr>\n",
              "      <th>4</th>\n",
              "      <td>I think so</td>\n",
              "      <td>yes</td>\n",
              "    </tr>\n",
              "    <tr>\n",
              "      <th>...</th>\n",
              "      <td>...</td>\n",
              "      <td>...</td>\n",
              "    </tr>\n",
              "    <tr>\n",
              "      <th>117</th>\n",
              "      <td>yeppers</td>\n",
              "      <td>yes</td>\n",
              "    </tr>\n",
              "    <tr>\n",
              "      <th>118</th>\n",
              "      <td>yes</td>\n",
              "      <td>yes</td>\n",
              "    </tr>\n",
              "    <tr>\n",
              "      <th>119</th>\n",
              "      <td>yes</td>\n",
              "      <td>yes</td>\n",
              "    </tr>\n",
              "    <tr>\n",
              "      <th>120</th>\n",
              "      <td>yes</td>\n",
              "      <td>yes</td>\n",
              "    </tr>\n",
              "    <tr>\n",
              "      <th>121</th>\n",
              "      <td>k!</td>\n",
              "      <td>yes</td>\n",
              "    </tr>\n",
              "  </tbody>\n",
              "</table>\n",
              "<p>122 rows × 2 columns</p>\n",
              "</div>"
            ],
            "text/plain": [
              "          responses sentiment\n",
              "0          not sure     maybe\n",
              "1       I may agree     maybe\n",
              "2      I don't know        no\n",
              "3    I have no clue        no\n",
              "4        I think so       yes\n",
              "..              ...       ...\n",
              "117         yeppers       yes\n",
              "118             yes       yes\n",
              "119             yes       yes\n",
              "120             yes       yes\n",
              "121              k!       yes\n",
              "\n",
              "[122 rows x 2 columns]"
            ]
          },
          "metadata": {},
          "execution_count": 3
        }
      ]
    },
    {
      "cell_type": "code",
      "metadata": {
        "colab": {
          "base_uri": "https://localhost:8080/",
          "height": 306
        },
        "id": "ZJz5_mSRKq6b",
        "outputId": "f09d15bf-1858-4a80-b32f-320c86fb984b"
      },
      "source": [
        "df['sentiment'].value_counts().plot.bar()"
      ],
      "execution_count": null,
      "outputs": [
        {
          "output_type": "execute_result",
          "data": {
            "text/plain": [
              "<matplotlib.axes._subplots.AxesSubplot at 0x7f4330d64ad0>"
            ]
          },
          "metadata": {},
          "execution_count": 4
        },
        {
          "output_type": "display_data",
          "data": {
            "image/png": "[encoded data removed]",
            "text/plain": [
              "<Figure size 432x288 with 1 Axes>"
            ]
          },
          "metadata": {
            "needs_background": "light"
          }
        }
      ]
    },
    {
      "cell_type": "code",
      "metadata": {
        "id": "6YxbKiYCTEbW"
      },
      "source": [
        "# Load Pretrained Word2Vec\n",
        "#embed = hub.load(\"https://tfhub.dev/google/Wiki-words-250/2\")\n",
        "embed = hub.load(\"https://tfhub.dev/google/Wiki-words-500/2\")"
      ],
      "execution_count": null,
      "outputs": []
    },
    {
      "cell_type": "code",
      "metadata": {
        "id": "vApRfel3TXmp"
      },
      "source": [
        "def get_max_length(df):\n",
        "    \"\"\"\n",
        "    get max token counts from train data, \n",
        "    so we use this number as fixed length input to RNN cell\n",
        "    \"\"\"\n",
        "    max_length = 0\n",
        "    for row in df['responses']:\n",
        "        if len(row.split(\" \")) > max_length:\n",
        "            max_length = len(row.split(\" \"))\n",
        "    return max_length\n",
        "\n",
        "def get_word2vec_enc(responses):\n",
        "    \"\"\"\n",
        "    get word2vec value for each word in sentence.\n",
        "    concatenate word in numpy array, so we can use it as RNN input\n",
        "    \"\"\"\n",
        "    encoded_reviews = []\n",
        "    for response in responses:\n",
        "        tokens = response.split(\" \")\n",
        "        word2vec_embedding = embed(tokens)\n",
        "        encoded_reviews.append(word2vec_embedding)\n",
        "    return encoded_reviews\n",
        "        \n",
        "def get_padded_encoded_reviews(encoded_reviews):\n",
        "    \"\"\"\n",
        "    for short sentences, we prepend zero padding so all input to RNN has same length\n",
        "    \"\"\"\n",
        "    padded_reviews_encoding = []\n",
        "    for enc_review in encoded_reviews:\n",
        "        zero_padding_cnt = max_length - enc_review.shape[0]\n",
        "        pad = np.zeros((1, 500))\n",
        "        for i in range(zero_padding_cnt):\n",
        "            enc_review = np.concatenate((pad, enc_review), axis=0)\n",
        "        padded_reviews_encoding.append(enc_review)\n",
        "    return padded_reviews_encoding\n",
        "\n",
        "def sentiment_encode(sentiment):\n",
        "    \"\"\"\n",
        "    return one hot encoding for Y value\n",
        "    \"\"\"\n",
        "    if sentiment == 'yes':\n",
        "        return [1,0,0]\n",
        "    elif sentiment == 'no':\n",
        "        return [0,1,0]\n",
        "    else:\n",
        "        return [0,0,1]\n",
        "    \n",
        "def preprocess(df):\n",
        "    \"\"\"\n",
        "    encode text value to numeric value\n",
        "    \"\"\"\n",
        "    # encode words into word2vec\n",
        "    reviews = df['responses'].tolist()\n",
        "    \n",
        "    encoded_reviews = get_word2vec_enc(reviews)\n",
        "    padded_encoded_reviews = get_padded_encoded_reviews(encoded_reviews)\n",
        "    # encoded sentiment\n",
        "    sentiments = df['sentiment'].tolist()\n",
        "    encoded_sentiment = [sentiment_encode(sentiment) for sentiment in sentiments]\n",
        "    X = np.array(padded_encoded_reviews)\n",
        "    y = np.array(encoded_sentiment)\n",
        "    return X, y"
      ],
      "execution_count": null,
      "outputs": []
    },
    {
      "cell_type": "code",
      "metadata": {
        "id": "-qbGy0-BVPNm"
      },
      "source": [
        "# max_length is used for max sequence of input\n",
        "max_length = get_max_length(df)\n",
        "\n",
        "train_X, train_Y = preprocess(df)"
      ],
      "execution_count": null,
      "outputs": []
    },
    {
      "cell_type": "code",
      "metadata": {
        "id": "RaR_glXLWkYt"
      },
      "source": [
        "# LSTM model\n",
        "model = Sequential()\n",
        "model.add(LSTM(32))\n",
        "model.add(Dense(3, activation='softmax'))"
      ],
      "execution_count": null,
      "outputs": []
    },
    {
      "cell_type": "code",
      "metadata": {
        "id": "-FwGv4oaWx1X"
      },
      "source": [
        "model.compile(loss='categorical_crossentropy',\n",
        "              optimizer='adam',\n",
        "              metrics=['accuracy'])"
      ],
      "execution_count": null,
      "outputs": []
    },
    {
      "cell_type": "code",
      "metadata": {
        "colab": {
          "base_uri": "https://localhost:8080/"
        },
        "id": "l4Rso0pJW1Tn",
        "outputId": "fb0ef064-3bb2-47de-88b3-f49ee2f8c7f6"
      },
      "source": [
        "print('Train...')\n",
        "model.fit(train_X, train_Y,epochs=50)"
      ],
      "execution_count": null,
      "outputs": [
        {
          "output_type": "stream",
          "text": [
            "Train...\n",
            "Epoch 1/50\n",
            "4/4 [==============================] - 2s 9ms/step - loss: 1.0813 - accuracy: 0.3934\n",
            "Epoch 2/50\n",
            "4/4 [==============================] - 0s 8ms/step - loss: 1.0484 - accuracy: 0.5574\n",
            "Epoch 3/50\n",
            "4/4 [==============================] - 0s 8ms/step - loss: 1.0155 - accuracy: 0.6148\n",
            "Epoch 4/50\n",
            "4/4 [==============================] - 0s 8ms/step - loss: 0.9899 - accuracy: 0.6148\n",
            "Epoch 5/50\n",
            "4/4 [==============================] - 0s 9ms/step - loss: 0.9642 - accuracy: 0.6311\n",
            "Epoch 6/50\n",
            "4/4 [==============================] - 0s 7ms/step - loss: 0.9432 - accuracy: 0.6475\n",
            "Epoch 7/50\n",
            "4/4 [==============================] - 0s 9ms/step - loss: 0.9209 - accuracy: 0.6721\n",
            "Epoch 8/50\n",
            "4/4 [==============================] - 0s 9ms/step - loss: 0.9025 - accuracy: 0.6639\n",
            "Epoch 9/50\n",
            "4/4 [==============================] - 0s 7ms/step - loss: 0.8855 - accuracy: 0.6639\n",
            "Epoch 10/50\n",
            "4/4 [==============================] - 0s 7ms/step - loss: 0.8675 - accuracy: 0.6639\n",
            "Epoch 11/50\n",
            "4/4 [==============================] - 0s 10ms/step - loss: 0.8509 - accuracy: 0.6639\n",
            "Epoch 12/50\n",
            "4/4 [==============================] - 0s 7ms/step - loss: 0.8344 - accuracy: 0.6721\n",
            "Epoch 13/50\n",
            "4/4 [==============================] - 0s 9ms/step - loss: 0.8173 - accuracy: 0.6721\n",
            "Epoch 14/50\n",
            "4/4 [==============================] - 0s 12ms/step - loss: 0.8018 - accuracy: 0.6803\n",
            "Epoch 15/50\n",
            "4/4 [==============================] - 0s 8ms/step - loss: 0.7849 - accuracy: 0.6967\n",
            "Epoch 16/50\n",
            "4/4 [==============================] - 0s 8ms/step - loss: 0.7684 - accuracy: 0.6803\n",
            "Epoch 17/50\n",
            "4/4 [==============================] - 0s 11ms/step - loss: 0.7508 - accuracy: 0.6885\n",
            "Epoch 18/50\n",
            "4/4 [==============================] - 0s 8ms/step - loss: 0.7346 - accuracy: 0.6967\n",
            "Epoch 19/50\n",
            "4/4 [==============================] - 0s 8ms/step - loss: 0.7189 - accuracy: 0.6967\n",
            "Epoch 20/50\n",
            "4/4 [==============================] - 0s 9ms/step - loss: 0.7007 - accuracy: 0.6967\n",
            "Epoch 21/50\n",
            "4/4 [==============================] - 0s 10ms/step - loss: 0.6825 - accuracy: 0.6967\n",
            "Epoch 22/50\n",
            "4/4 [==============================] - 0s 10ms/step - loss: 0.6672 - accuracy: 0.7131\n",
            "Epoch 23/50\n",
            "4/4 [==============================] - 0s 9ms/step - loss: 0.6491 - accuracy: 0.7131\n",
            "Epoch 24/50\n",
            "4/4 [==============================] - 0s 8ms/step - loss: 0.6322 - accuracy: 0.7049\n",
            "Epoch 25/50\n",
            "4/4 [==============================] - 0s 11ms/step - loss: 0.6156 - accuracy: 0.7213\n",
            "Epoch 26/50\n",
            "4/4 [==============================] - 0s 8ms/step - loss: 0.6007 - accuracy: 0.7295\n",
            "Epoch 27/50\n",
            "4/4 [==============================] - 0s 8ms/step - loss: 0.5826 - accuracy: 0.7377\n",
            "Epoch 28/50\n",
            "4/4 [==============================] - 0s 10ms/step - loss: 0.5690 - accuracy: 0.7541\n",
            "Epoch 29/50\n",
            "4/4 [==============================] - 0s 8ms/step - loss: 0.5543 - accuracy: 0.7705\n",
            "Epoch 30/50\n",
            "4/4 [==============================] - 0s 8ms/step - loss: 0.5402 - accuracy: 0.7705\n",
            "Epoch 31/50\n",
            "4/4 [==============================] - 0s 8ms/step - loss: 0.5253 - accuracy: 0.7705\n",
            "Epoch 32/50\n",
            "4/4 [==============================] - 0s 9ms/step - loss: 0.5137 - accuracy: 0.7705\n",
            "Epoch 33/50\n",
            "4/4 [==============================] - 0s 8ms/step - loss: 0.4985 - accuracy: 0.7787\n",
            "Epoch 34/50\n",
            "4/4 [==============================] - 0s 10ms/step - loss: 0.4850 - accuracy: 0.7869\n",
            "Epoch 35/50\n",
            "4/4 [==============================] - 0s 9ms/step - loss: 0.4711 - accuracy: 0.8115\n",
            "Epoch 36/50\n",
            "4/4 [==============================] - 0s 8ms/step - loss: 0.4547 - accuracy: 0.8115\n",
            "Epoch 37/50\n",
            "4/4 [==============================] - 0s 8ms/step - loss: 0.4445 - accuracy: 0.8279\n",
            "Epoch 38/50\n",
            "4/4 [==============================] - 0s 8ms/step - loss: 0.4345 - accuracy: 0.8361\n",
            "Epoch 39/50\n",
            "4/4 [==============================] - 0s 8ms/step - loss: 0.4135 - accuracy: 0.8443\n",
            "Epoch 40/50\n",
            "4/4 [==============================] - 0s 8ms/step - loss: 0.4001 - accuracy: 0.8443\n",
            "Epoch 41/50\n",
            "4/4 [==============================] - 0s 8ms/step - loss: 0.3901 - accuracy: 0.8443\n",
            "Epoch 42/50\n",
            "4/4 [==============================] - 0s 9ms/step - loss: 0.3772 - accuracy: 0.8443\n",
            "Epoch 43/50\n",
            "4/4 [==============================] - 0s 8ms/step - loss: 0.3636 - accuracy: 0.8443\n",
            "Epoch 44/50\n",
            "4/4 [==============================] - 0s 9ms/step - loss: 0.3522 - accuracy: 0.8770\n",
            "Epoch 45/50\n",
            "4/4 [==============================] - 0s 8ms/step - loss: 0.3417 - accuracy: 0.8607\n",
            "Epoch 46/50\n",
            "4/4 [==============================] - 0s 8ms/step - loss: 0.3320 - accuracy: 0.8770\n",
            "Epoch 47/50\n",
            "4/4 [==============================] - 0s 8ms/step - loss: 0.3193 - accuracy: 0.8770\n",
            "Epoch 48/50\n",
            "4/4 [==============================] - 0s 8ms/step - loss: 0.3092 - accuracy: 0.9016\n",
            "Epoch 49/50\n",
            "4/4 [==============================] - 0s 8ms/step - loss: 0.3017 - accuracy: 0.9098\n",
            "Epoch 50/50\n",
            "4/4 [==============================] - 0s 7ms/step - loss: 0.2898 - accuracy: 0.9098\n"
          ],
          "name": "stdout"
        },
        {
          "output_type": "execute_result",
          "data": {
            "text/plain": [
              "<keras.callbacks.History at 0x7f432ce75b10>"
            ]
          },
          "metadata": {},
          "execution_count": 10
        }
      ]
    },
    {
      "cell_type": "code",
      "metadata": {
        "colab": {
          "base_uri": "https://localhost:8080/"
        },
        "id": "XDiRTkS9YX-L",
        "outputId": "f0cd4cb2-762b-49ec-e477-691f905cad53"
      },
      "source": [
        "model.summary()"
      ],
      "execution_count": null,
      "outputs": [
        {
          "output_type": "stream",
          "text": [
            "Model: \"sequential\"\n",
            "_________________________________________________________________\n",
            "Layer (type)                 Output Shape              Param #   \n",
            "=================================================================\n",
            "lstm (LSTM)                  (None, 32)                68224     \n",
            "_________________________________________________________________\n",
            "dense (Dense)                (None, 3)                 99        \n",
            "=================================================================\n",
            "Total params: 68,323\n",
            "Trainable params: 68,323\n",
            "Non-trainable params: 0\n",
            "_________________________________________________________________\n"
          ],
          "name": "stdout"
        }
      ]
    },
    {
      "cell_type": "code",
      "metadata": {
        "colab": {
          "base_uri": "https://localhost:8080/"
        },
        "id": "zxWDGdH_Nj7u",
        "outputId": "9f16ae86-8b6f-4a16-de3a-3cec47566109"
      },
      "source": [
        "test = [\n",
        "         {'responses': 'Yess!!', 'sentiment': 'yes'},\n",
        "         {'responses': 'Sure thing!', 'sentiment': 'yes'},\n",
        "         {'responses': 'Naah', 'sentiment': 'no'},\n",
        "         {'responses': 'Nay', 'sentiment': 'No'},\n",
        "         {'responses': 'ummmm let me think about it', 'sentiment': 'maybe'},\n",
        "         {'responses': 'I could but..', 'sentiment': 'maybe'}\n",
        "    ]\n",
        "test_df = pd.DataFrame(test)\n",
        "\n",
        "test_X, test_Y = preprocess(test_df)\n",
        "\n",
        "score, acc = model.evaluate(test_X, test_Y, verbose=2)\n",
        "print('Test score:', score)\n",
        "print('Test accuracy:', acc)"
      ],
      "execution_count": null,
      "outputs": [
        {
          "output_type": "stream",
          "text": [
            "1/1 - 1s - loss: 2.0723 - accuracy: 0.3333\n",
            "Test score: 2.072333574295044\n",
            "Test accuracy: 0.3333333432674408\n"
          ],
          "name": "stdout"
        }
      ]
    },
    {
      "cell_type": "code",
      "metadata": {
        "id": "ByIOts80p-zU"
      },
      "source": [
        ""
      ],
      "execution_count": null,
      "outputs": []
    }
  ]
}