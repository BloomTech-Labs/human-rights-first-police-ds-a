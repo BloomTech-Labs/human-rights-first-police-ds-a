{
  "nbformat": 4,
  "nbformat_minor": 0,
  "metadata": {
    "colab": {
      "name": "Training GPT-2  w/ GPU",
      "provenance": [],
      "collapsed_sections": []
    },
    "kernelspec": {
      "name": "python3",
      "display_name": "Python 3"
    },
    "accelerator": "GPU"
  },
  "cells": [
    {
      "cell_type": "markdown",
      "metadata": {
        "id": "w_XQvKmy5x20"
      },
      "source": [
        "***This notebook is meant to be run in Google Colab***"
      ]
    },
    {
      "cell_type": "markdown",
      "metadata": {
        "id": "H7LoMj4GA4n_"
      },
      "source": [
        "#  Training a GPT-2 Text-Generating Model w/ GPU\n",
        "\n",
        "[GPT-2 info from OpenAI](https://https://openai.com/blog/better-language-models/)\n",
        "\n",
        "[GPT-2 Simple - Github Repo](https://github.com/minimaxir/gpt-2-simple)\n",
        "\n",
        "*As of Labs37*\n",
        "\n",
        "The BERT model we've inherited from prior cohorts has been suffering from a major class imbalance.\n",
        "\n",
        "The data they collected for the training of this NLP classification model were unlabelled, prompting the creation of [this](http://bw-labeler-dev.us-east-1.elasticbeanstalk.com/). Ranks 2, 3, & 4 have but a few hundred samples among them, while Ranks 0, 1, & 5 contain thousands. Extreme cases of police activity are plenty, ranging from their complete absence to their murdering of innocent civillians. Rare is the opportunity to rank 'moderate' examples of police misconduct.\n",
        "\n",
        "To alleviate this imbalance while side-stepping an otherwise [mundane task](https://www.kdnuggets.com/2017/06/acquiring-quality-labeled-training-data.html), Labs37 has decided to generate these tweets themselves. And what better way to fulfill this task than to use one of the most robust, open source, text-generating models around?"
      ]
    },
    {
      "cell_type": "code",
      "metadata": {
        "id": "KBkpRgBCBS2_",
        "colab": {
          "base_uri": "https://localhost:8080/"
        },
        "outputId": "032fbd5a-277c-4511-b92b-b0f67759ebfc"
      },
      "source": [
        "%tensorflow_version 1.x\n",
        "!pip install -q gpt-2-simple\n",
        "import gpt_2_simple as gpt2\n",
        "from datetime import datetime\n",
        "from google.colab import files\n",
        "from time import time"
      ],
      "execution_count": 1,
      "outputs": [
        {
          "output_type": "stream",
          "text": [
            "TensorFlow 1.x selected.\n",
            "  Building wheel for gpt-2-simple (setup.py) ... \u001b[?25l\u001b[?25hdone\n",
            "WARNING:tensorflow:\n",
            "The TensorFlow contrib module will not be included in TensorFlow 2.0.\n",
            "For more information, please see:\n",
            "  * https://github.com/tensorflow/community/blob/master/rfcs/20180907-contrib-sunset.md\n",
            "  * https://github.com/tensorflow/addons\n",
            "  * https://github.com/tensorflow/io (for I/O related ops)\n",
            "If you depend on functionality not listed there, please file an issue.\n",
            "\n"
          ],
          "name": "stdout"
        }
      ]
    },
    {
      "cell_type": "markdown",
      "metadata": {
        "id": "Bj2IJLHP3KwE"
      },
      "source": [
        "## GPU\n",
        "\n",
        "Colab uses either a Nvidia T4 GPU or an Nvidia K80 GPU. The T4 is slightly faster than the old K80 for training GPT-2, and has more memory allowing you to train the larger GPT-2 models and generate more text.\n",
        "\n",
        "You can verify which GPU is active by running the cell below."
      ]
    },
    {
      "cell_type": "code",
      "metadata": {
        "id": "sUmTooTW3osf",
        "colab": {
          "base_uri": "https://localhost:8080/"
        },
        "outputId": "281b2c01-6bf7-4d8d-eff1-8a4c834e677b"
      },
      "source": [
        "!nvidia-smi"
      ],
      "execution_count": 2,
      "outputs": [
        {
          "output_type": "stream",
          "text": [
            "Mon Aug 16 23:43:50 2021       \n",
            "+-----------------------------------------------------------------------------+\n",
            "| NVIDIA-SMI 470.57.02    Driver Version: 460.32.03    CUDA Version: 11.2     |\n",
            "|-------------------------------+----------------------+----------------------+\n",
            "| GPU  Name        Persistence-M| Bus-Id        Disp.A | Volatile Uncorr. ECC |\n",
            "| Fan  Temp  Perf  Pwr:Usage/Cap|         Memory-Usage | GPU-Util  Compute M. |\n",
            "|                               |                      |               MIG M. |\n",
            "|===============================+======================+======================|\n",
            "|   0  Tesla T4            Off  | 00000000:00:04.0 Off |                    0 |\n",
            "| N/A   35C    P8     9W /  70W |      0MiB / 15109MiB |      0%      Default |\n",
            "|                               |                      |                  N/A |\n",
            "+-------------------------------+----------------------+----------------------+\n",
            "                                                                               \n",
            "+-----------------------------------------------------------------------------+\n",
            "| Processes:                                                                  |\n",
            "|  GPU   GI   CI        PID   Type   Process name                  GPU Memory |\n",
            "|        ID   ID                                                   Usage      |\n",
            "|=============================================================================|\n",
            "|  No running processes found                                                 |\n",
            "+-----------------------------------------------------------------------------+\n"
          ],
          "name": "stdout"
        }
      ]
    },
    {
      "cell_type": "markdown",
      "metadata": {
        "id": "Ir6-8n0L7Zr0"
      },
      "source": [
        "Don't let   `0  Tesla T4            Off` fool you. It's on. Colab, for whatever reason, doesn't display whether their GPUs are enabled or not with the `nvidia-smi` shell command. \n",
        "\n",
        "If you're wondering if it's even on at all, try running that shell command again after changing your runtime back to **CPU**. It won't appear, but it will with a **GPU** runtime.\n",
        "\n",
        "It's a shame it'll never display  `0  Tesla T4            On`."
      ]
    },
    {
      "cell_type": "markdown",
      "metadata": {
        "id": "0wXB05bPDYxS"
      },
      "source": [
        "## Downloading GPT-2\n",
        "\n",
        "If you're retraining a model on new text, you need to download the GPT-2 model first. \n",
        "\n",
        "There are three released sizes of GPT-2:\n",
        "\n",
        "* `124M` (default): the \"small\" model, 500MB on disk.\n",
        "* `355M`: the \"medium\" model, 1.5GB on disk.\n",
        "* `774M`: the \"large\" model, cannot currently be finetuned with Colaboratory but can be used to generate text from the pretrained model (see later in Notebook)\n",
        "* `1558M`: the \"extra large\", true model. Will not work if a K80/P4 GPU is attached to the notebook. (like `774M`, it cannot be finetuned).\n",
        "\n",
        "Larger models have more knowledge, but take longer to finetune and longer to generate text. You can specify which base model to use by changing `model_name` in the cells below.\n",
        "\n",
        "The next cell downloads it from Google Cloud Storage and saves it in the Colaboratory VM at `/models/<model_name>`.\n",
        "\n",
        "This model isn't permanently saved in the Colaboratory VM; you'll have to redownload it if you want to retrain it at a later time."
      ]
    },
    {
      "cell_type": "code",
      "metadata": {
        "id": "P8wSlgXoDPCR",
        "colab": {
          "base_uri": "https://localhost:8080/"
        },
        "outputId": "2c329716-725a-4ee8-ddea-057573d8a557"
      },
      "source": [
        "gpt2.download_gpt2(model_name=\"355M\")"
      ],
      "execution_count": 3,
      "outputs": [
        {
          "output_type": "stream",
          "text": [
            "Fetching checkpoint: 1.05Mit [00:00, 489Mit/s]                                                      \n",
            "Fetching encoder.json: 1.05Mit [00:00, 3.25Mit/s]\n",
            "Fetching hparams.json: 1.05Mit [00:00, 553Mit/s]                                                    \n",
            "Fetching model.ckpt.data-00000-of-00001: 1.42Git [01:14, 19.1Mit/s]                                 \n",
            "Fetching model.ckpt.index: 1.05Mit [00:00, 656Mit/s]                                                \n",
            "Fetching model.ckpt.meta: 1.05Mit [00:00, 3.26Mit/s]\n",
            "Fetching vocab.bpe: 1.05Mit [00:00, 3.96Mit/s]\n"
          ],
          "name": "stderr"
        }
      ]
    },
    {
      "cell_type": "markdown",
      "metadata": {
        "id": "N8KXuKWzQSsN"
      },
      "source": [
        "## Mounting Google Drive\n",
        "\n",
        "The best way to get input text to-be-trained into the Colab VM, and to get the trained model *out* of Colab, is to route it through Google Drive *first*.\n",
        "\n",
        "Running this cell (which will only work in Colab) will mount your personal Google Drive in the VM, which later cells can use to get data in/out. (it will ask for an auth code; that auth is not saved anywhere)"
      ]
    },
    {
      "cell_type": "code",
      "metadata": {
        "id": "puq4iC6vUAHc",
        "colab": {
          "base_uri": "https://localhost:8080/"
        },
        "outputId": "76284b61-b4d9-42d2-ce75-1d5c30c98562"
      },
      "source": [
        "gpt2.mount_gdrive()"
      ],
      "execution_count": 3,
      "outputs": [
        {
          "output_type": "stream",
          "text": [
            "Mounted at /content/drive\n"
          ],
          "name": "stdout"
        }
      ]
    },
    {
      "cell_type": "markdown",
      "metadata": {
        "id": "jGaAHj1V2QRo"
      },
      "source": [
        "# Gathering Our Text Data\n",
        "\n",
        "The tweets we'll be using to train our GPT-2 model must come in the form a of .txt file.\n",
        "\n",
        "To do that we'll read in a .CSV file containing 5k tweets and isolate them from all other columns contained within their dataset.\n",
        "\n",
        "We also want to train GPT-2 on each rank, **separately**, so as to ensure each batch of texts it'll generate only contains that rank, ensuring a simple labelling and compilation of our synthetic tweets."
      ]
    },
    {
      "cell_type": "code",
      "metadata": {
        "id": "1YdzoCXKd1Bs"
      },
      "source": [
        "import pandas as pd\n",
        "training = \"training.csv\"\n",
        "train = pd.read_csv(training)"
      ],
      "execution_count": null,
      "outputs": []
    },
    {
      "cell_type": "code",
      "metadata": {
        "colab": {
          "base_uri": "https://localhost:8080/",
          "height": 206
        },
        "id": "kjr2VXIseIgj",
        "outputId": "4c76d1ea-3d74-4312-9fdc-fd8011cef080"
      },
      "source": [
        "train.head()"
      ],
      "execution_count": null,
      "outputs": [
        {
          "output_type": "execute_result",
          "data": {
            "text/html": [
              "<div>\n",
              "<style scoped>\n",
              "    .dataframe tbody tr th:only-of-type {\n",
              "        vertical-align: middle;\n",
              "    }\n",
              "\n",
              "    .dataframe tbody tr th {\n",
              "        vertical-align: top;\n",
              "    }\n",
              "\n",
              "    .dataframe thead th {\n",
              "        text-align: right;\n",
              "    }\n",
              "</style>\n",
              "<table border=\"1\" class=\"dataframe\">\n",
              "  <thead>\n",
              "    <tr style=\"text-align: right;\">\n",
              "      <th></th>\n",
              "      <th>Unnamed: 0</th>\n",
              "      <th>id</th>\n",
              "      <th>tweets</th>\n",
              "      <th>labels</th>\n",
              "    </tr>\n",
              "  </thead>\n",
              "  <tbody>\n",
              "    <tr>\n",
              "      <th>0</th>\n",
              "      <td>0</td>\n",
              "      <td>6</td>\n",
              "      <td>A New Mexico State Police officer killed two p...</td>\n",
              "      <td>5</td>\n",
              "    </tr>\n",
              "    <tr>\n",
              "      <th>1</th>\n",
              "      <td>1</td>\n",
              "      <td>7</td>\n",
              "      <td>I found some police badge stickers at work and...</td>\n",
              "      <td>0</td>\n",
              "    </tr>\n",
              "    <tr>\n",
              "      <th>2</th>\n",
              "      <td>2</td>\n",
              "      <td>8</td>\n",
              "      <td>According to media reports, police said they a...</td>\n",
              "      <td>1</td>\n",
              "    </tr>\n",
              "    <tr>\n",
              "      <th>3</th>\n",
              "      <td>3</td>\n",
              "      <td>9</td>\n",
              "      <td>The male who has the knife is now running nort...</td>\n",
              "      <td>0</td>\n",
              "    </tr>\n",
              "    <tr>\n",
              "      <th>4</th>\n",
              "      <td>4</td>\n",
              "      <td>10</td>\n",
              "      <td>Changing the assignments of already existing c...</td>\n",
              "      <td>0</td>\n",
              "    </tr>\n",
              "  </tbody>\n",
              "</table>\n",
              "</div>"
            ],
            "text/plain": [
              "   Unnamed: 0  id                                             tweets  labels\n",
              "0           0   6  A New Mexico State Police officer killed two p...       5\n",
              "1           1   7  I found some police badge stickers at work and...       0\n",
              "2           2   8  According to media reports, police said they a...       1\n",
              "3           3   9  The male who has the knife is now running nort...       0\n",
              "4           4  10  Changing the assignments of already existing c...       0"
            ]
          },
          "metadata": {
            "tags": []
          },
          "execution_count": 6
        }
      ]
    },
    {
      "cell_type": "code",
      "metadata": {
        "id": "FHqN_fzfhESm"
      },
      "source": [
        "train.drop(['Unnamed: 0'], axis=1, inplace=True)\n",
        "\n",
        "rank2 = pd.DataFrame(train[train['labels'] == 2])\n",
        "rank2 = rank2['tweets']\n",
        "rank3 = pd.DataFrame(train[train['labels'] == 3])\n",
        "rank3 = rank3['tweets']\n",
        "rank4 = pd.DataFrame(train[train['labels'] == 4])\n",
        "rank4 = rank4['tweets']"
      ],
      "execution_count": null,
      "outputs": []
    },
    {
      "cell_type": "code",
      "metadata": {
        "colab": {
          "base_uri": "https://localhost:8080/"
        },
        "id": "GhZDYxq2nJUw",
        "outputId": "0b6deb78-78e4-4ac3-fa47-2f4f15b46bb5"
      },
      "source": [
        "rank2"
      ],
      "execution_count": null,
      "outputs": [
        {
          "output_type": "execute_result",
          "data": {
            "text/plain": [
              "119     UPDATE: Vacaville Police K9 Punched in the Fac...\n",
              "131     New York police department,made in Israel!! Wa...\n",
              "175     Bank holiday brawl between police and pub punt...\n",
              "187     5 Bangladeshi nationals arrested in Bengaluru ...\n",
              "200     4 volunteers with Black Protest Legal Support ...\n",
              "                              ...                        \n",
              "5999    Reporter Josie Huang was covering the shooting...\n",
              "6010    Footage and reports show approximately 30 poli...\n",
              "6019    Footage from 3 tiktok videos shows numerous of...\n",
              "6024    Police seemingly single out a person that is b...\n",
              "6027    I fully condemn the police brutality at the fr...\n",
              "Name: tweets, Length: 177, dtype: object"
            ]
          },
          "metadata": {
            "tags": []
          },
          "execution_count": 35
        }
      ]
    },
    {
      "cell_type": "markdown",
      "metadata": {
        "id": "OZOjvpZx4u9W"
      },
      "source": [
        "# Exporting our Isolated Tweets\n",
        "\n",
        "Now that we've rittled down our dataframe to the sole column we need, it's time to export them. Pandas lacks a `.to_txt` method but can still get the job done by specifying the **type**(*in this instance, just adding .txt at the end*) of the file being exported with `.to_csv`."
      ]
    },
    {
      "cell_type": "code",
      "metadata": {
        "id": "zPZXBABGkanm"
      },
      "source": [
        "rank2.to_csv('rank2tweets.txt', sep='\\t')\n",
        "rank3.to_csv('rank3tweets.txt', sep='\\t')\n",
        "rank4.to_csv('rank4tweets.txt', sep='\\t')"
      ],
      "execution_count": null,
      "outputs": []
    },
    {
      "cell_type": "markdown",
      "metadata": {
        "id": "BT__brhBCvJu"
      },
      "source": [
        "## Uploading a Text File to be Trained to Colab\n",
        "\n",
        "In the Colaboratory Notebook sidebar on the left of the screen, select *Files*. From there you can upload files:\n",
        "\n",
        "![alt text](https://i.imgur.com/TGcZT4h.png)\n",
        "\n",
        "Upload **any smaller text file**  (<10 MB) and update the file name in the cell below, then run the cell."
      ]
    },
    {
      "cell_type": "code",
      "metadata": {
        "id": "6OFnPCLADfll"
      },
      "source": [
        "file_name = \"rank4tweets.txt\""
      ],
      "execution_count": 4,
      "outputs": []
    },
    {
      "cell_type": "markdown",
      "metadata": {
        "id": "HeeSKtNWUedE"
      },
      "source": [
        "If your text file is larger than 10MB, it is recommended to upload that file to Google Drive first, then copy that file from Google Drive to the Colaboratory VM."
      ]
    },
    {
      "cell_type": "code",
      "metadata": {
        "id": "-Z6okFD8VKtS"
      },
      "source": [
        "gpt2.copy_file_from_gdrive(file_name)"
      ],
      "execution_count": 5,
      "outputs": []
    },
    {
      "cell_type": "markdown",
      "metadata": {
        "id": "LdpZQXknFNY3"
      },
      "source": [
        "## Finetune GPT-2\n",
        "\n",
        "The next cell will start the actual finetuning of GPT-2. It creates a persistent TensorFlow session which stores the training config, then runs the training for the specified number of `steps`. (to have the finetuning run indefinitely, set `steps = -1`)\n",
        "\n",
        "The model checkpoints will be saved in `/checkpoint/run1` by default. The checkpoints are saved every 500 steps (can be changed) and when the cell is stopped.\n",
        "\n",
        "The training might time out after 4ish hours; make sure you end training and save the results so you don't lose them!\n",
        "\n",
        "**IMPORTANT NOTE:** If you want to rerun this cell, **restart the VM first** (Runtime -> Restart Runtime). You will need to rerun imports but not recopy files.\n",
        "\n",
        "Other optional-but-helpful parameters for `gpt2.finetune`:\n",
        "\n",
        "\n",
        "*  **`restore_from`**: Set to `fresh` to start training from the base GPT-2, or set to `latest` to restart training from an existing checkpoint.\n",
        "* **`sample_every`**: Number of steps to print example output\n",
        "* **`print_every`**: Number of steps to print training progress.\n",
        "* **`learning_rate`**:  Learning rate for the training. (default `1e-4`, can lower to `1e-5` if you have <1MB input data)\n",
        "*  **`run_name`**: subfolder within `checkpoint` to save the model. This is useful if you want to work with multiple models (will also need to specify  `run_name` when loading the model)\n",
        "* **`overwrite`**: Set to `True` if you want to continue finetuning an existing model (w/ `restore_from='latest'`) without creating duplicate copies. "
      ]
    },
    {
      "cell_type": "code",
      "metadata": {
        "id": "aeXshJM-Cuaf",
        "colab": {
          "base_uri": "https://localhost:8080/",
          "height": 381
        },
        "outputId": "088990d3-5e93-4a5f-c8c7-43c043ca83b4"
      },
      "source": [
        "sess = gpt2.start_tf_sess()\n",
        "\n",
        "gpt2.finetune(sess,\n",
        "              dataset=file_name,\n",
        "              model_name='355M',\n",
        "              steps=1000,\n",
        "              restore_from='fresh',\n",
        "              run_name='run3',\n",
        "              print_every=5,\n",
        "              sample_every=200,\n",
        "              save_every=500\n",
        "              )"
      ],
      "execution_count": 6,
      "outputs": [
        {
          "output_type": "error",
          "ename": "KeyboardInterrupt",
          "evalue": "ignored",
          "traceback": [
            "\u001b[0;31m---------------------------------------------------------------------------\u001b[0m",
            "\u001b[0;31mKeyboardInterrupt\u001b[0m                         Traceback (most recent call last)",
            "\u001b[0;32m<ipython-input-6-e1ccab11b704>\u001b[0m in \u001b[0;36m<module>\u001b[0;34m()\u001b[0m\n\u001b[0;32m----> 1\u001b[0;31m \u001b[0msess\u001b[0m \u001b[0;34m=\u001b[0m \u001b[0mgpt2\u001b[0m\u001b[0;34m.\u001b[0m\u001b[0mstart_tf_sess\u001b[0m\u001b[0;34m(\u001b[0m\u001b[0;34m)\u001b[0m\u001b[0;34m\u001b[0m\u001b[0;34m\u001b[0m\u001b[0m\n\u001b[0m\u001b[1;32m      2\u001b[0m \u001b[0;34m\u001b[0m\u001b[0m\n\u001b[1;32m      3\u001b[0m gpt2.finetune(sess,\n\u001b[1;32m      4\u001b[0m               \u001b[0mdataset\u001b[0m\u001b[0;34m=\u001b[0m\u001b[0mfile_name\u001b[0m\u001b[0;34m,\u001b[0m\u001b[0;34m\u001b[0m\u001b[0;34m\u001b[0m\u001b[0m\n\u001b[1;32m      5\u001b[0m               \u001b[0mmodel_name\u001b[0m\u001b[0;34m=\u001b[0m\u001b[0;34m'355M'\u001b[0m\u001b[0;34m,\u001b[0m\u001b[0;34m\u001b[0m\u001b[0;34m\u001b[0m\u001b[0m\n",
            "\u001b[0;32m/usr/local/lib/python3.7/dist-packages/gpt_2_simple/gpt_2.py\u001b[0m in \u001b[0;36mstart_tf_sess\u001b[0;34m(threads, server)\u001b[0m\n\u001b[1;32m    108\u001b[0m         \u001b[0;32mreturn\u001b[0m \u001b[0mtf\u001b[0m\u001b[0;34m.\u001b[0m\u001b[0mcompat\u001b[0m\u001b[0;34m.\u001b[0m\u001b[0mv1\u001b[0m\u001b[0;34m.\u001b[0m\u001b[0mSession\u001b[0m\u001b[0;34m(\u001b[0m\u001b[0mtarget\u001b[0m\u001b[0;34m=\u001b[0m\u001b[0mserver\u001b[0m\u001b[0;34m.\u001b[0m\u001b[0mtarget\u001b[0m\u001b[0;34m,\u001b[0m \u001b[0mconfig\u001b[0m\u001b[0;34m=\u001b[0m\u001b[0mconfig\u001b[0m\u001b[0;34m)\u001b[0m\u001b[0;34m\u001b[0m\u001b[0;34m\u001b[0m\u001b[0m\n\u001b[1;32m    109\u001b[0m \u001b[0;34m\u001b[0m\u001b[0m\n\u001b[0;32m--> 110\u001b[0;31m     \u001b[0;32mreturn\u001b[0m \u001b[0mtf\u001b[0m\u001b[0;34m.\u001b[0m\u001b[0mcompat\u001b[0m\u001b[0;34m.\u001b[0m\u001b[0mv1\u001b[0m\u001b[0;34m.\u001b[0m\u001b[0mSession\u001b[0m\u001b[0;34m(\u001b[0m\u001b[0mconfig\u001b[0m\u001b[0;34m=\u001b[0m\u001b[0mconfig\u001b[0m\u001b[0;34m)\u001b[0m\u001b[0;34m\u001b[0m\u001b[0;34m\u001b[0m\u001b[0m\n\u001b[0m\u001b[1;32m    111\u001b[0m \u001b[0;34m\u001b[0m\u001b[0m\n\u001b[1;32m    112\u001b[0m \u001b[0;34m\u001b[0m\u001b[0m\n",
            "\u001b[0;32m/tensorflow-1.15.2/python3.7/tensorflow_core/python/client/session.py\u001b[0m in \u001b[0;36m__init__\u001b[0;34m(self, target, graph, config)\u001b[0m\n\u001b[1;32m   1583\u001b[0m           \u001b[0mprotocol\u001b[0m \u001b[0mbuffer\u001b[0m \u001b[0;32mwith\u001b[0m \u001b[0mconfiguration\u001b[0m \u001b[0moptions\u001b[0m \u001b[0;32mfor\u001b[0m \u001b[0mthe\u001b[0m \u001b[0msession\u001b[0m\u001b[0;34m.\u001b[0m\u001b[0;34m\u001b[0m\u001b[0;34m\u001b[0m\u001b[0m\n\u001b[1;32m   1584\u001b[0m     \"\"\"\n\u001b[0;32m-> 1585\u001b[0;31m     \u001b[0msuper\u001b[0m\u001b[0;34m(\u001b[0m\u001b[0mSession\u001b[0m\u001b[0;34m,\u001b[0m \u001b[0mself\u001b[0m\u001b[0;34m)\u001b[0m\u001b[0;34m.\u001b[0m\u001b[0m__init__\u001b[0m\u001b[0;34m(\u001b[0m\u001b[0mtarget\u001b[0m\u001b[0;34m,\u001b[0m \u001b[0mgraph\u001b[0m\u001b[0;34m,\u001b[0m \u001b[0mconfig\u001b[0m\u001b[0;34m=\u001b[0m\u001b[0mconfig\u001b[0m\u001b[0;34m)\u001b[0m\u001b[0;34m\u001b[0m\u001b[0;34m\u001b[0m\u001b[0m\n\u001b[0m\u001b[1;32m   1586\u001b[0m     \u001b[0;31m# NOTE(mrry): Create these on first `__enter__` to avoid a reference cycle.\u001b[0m\u001b[0;34m\u001b[0m\u001b[0;34m\u001b[0m\u001b[0;34m\u001b[0m\u001b[0m\n\u001b[1;32m   1587\u001b[0m     \u001b[0mself\u001b[0m\u001b[0;34m.\u001b[0m\u001b[0m_default_graph_context_manager\u001b[0m \u001b[0;34m=\u001b[0m \u001b[0;32mNone\u001b[0m\u001b[0;34m\u001b[0m\u001b[0;34m\u001b[0m\u001b[0m\n",
            "\u001b[0;32m/tensorflow-1.15.2/python3.7/tensorflow_core/python/client/session.py\u001b[0m in \u001b[0;36m__init__\u001b[0;34m(self, target, graph, config)\u001b[0m\n\u001b[1;32m    697\u001b[0m     \u001b[0;32mtry\u001b[0m\u001b[0;34m:\u001b[0m\u001b[0;34m\u001b[0m\u001b[0;34m\u001b[0m\u001b[0m\n\u001b[1;32m    698\u001b[0m       \u001b[0;31m# pylint: disable=protected-access\u001b[0m\u001b[0;34m\u001b[0m\u001b[0;34m\u001b[0m\u001b[0;34m\u001b[0m\u001b[0m\n\u001b[0;32m--> 699\u001b[0;31m       \u001b[0mself\u001b[0m\u001b[0;34m.\u001b[0m\u001b[0m_session\u001b[0m \u001b[0;34m=\u001b[0m \u001b[0mtf_session\u001b[0m\u001b[0;34m.\u001b[0m\u001b[0mTF_NewSessionRef\u001b[0m\u001b[0;34m(\u001b[0m\u001b[0mself\u001b[0m\u001b[0;34m.\u001b[0m\u001b[0m_graph\u001b[0m\u001b[0;34m.\u001b[0m\u001b[0m_c_graph\u001b[0m\u001b[0;34m,\u001b[0m \u001b[0mopts\u001b[0m\u001b[0;34m)\u001b[0m\u001b[0;34m\u001b[0m\u001b[0;34m\u001b[0m\u001b[0m\n\u001b[0m\u001b[1;32m    700\u001b[0m       \u001b[0;31m# pylint: enable=protected-access\u001b[0m\u001b[0;34m\u001b[0m\u001b[0;34m\u001b[0m\u001b[0;34m\u001b[0m\u001b[0m\n\u001b[1;32m    701\u001b[0m     \u001b[0;32mfinally\u001b[0m\u001b[0;34m:\u001b[0m\u001b[0;34m\u001b[0m\u001b[0;34m\u001b[0m\u001b[0m\n",
            "\u001b[0;31mKeyboardInterrupt\u001b[0m: "
          ]
        }
      ]
    },
    {
      "cell_type": "markdown",
      "metadata": {
        "id": "IXSuTNERaw6K"
      },
      "source": [
        "After the model is trained, you can copy the checkpoint folder to your own Google Drive.\n",
        "\n",
        "If you want to download it to your personal computer, it's strongly recommended you copy it there first, then download from Google Drive. The checkpoint folder is copied as a `.rar` compressed file; you can download it and uncompress it locally."
      ]
    },
    {
      "cell_type": "code",
      "metadata": {
        "id": "VHdTL8NDbAh3"
      },
      "source": [
        "gpt2.copy_checkpoint_to_gdrive(run_name='run3')"
      ],
      "execution_count": 8,
      "outputs": []
    },
    {
      "cell_type": "markdown",
      "metadata": {
        "id": "qQJgV_b4bmzd"
      },
      "source": [
        "You're done! Feel free to go to the **Generate Text From The Trained Model** section to generate text based on your retrained model."
      ]
    },
    {
      "cell_type": "markdown",
      "metadata": {
        "id": "pel-uBULXO2L"
      },
      "source": [
        "## Load a Trained Model Checkpoint\n",
        "\n",
        "Running the next cell will copy the `.rar` checkpoint file from your Google Drive into the Colaboratory VM."
      ]
    },
    {
      "cell_type": "code",
      "metadata": {
        "id": "DCcx5u7sbPTD"
      },
      "source": [
        "gpt2.copy_checkpoint_from_gdrive(run_name='run3')"
      ],
      "execution_count": 4,
      "outputs": []
    },
    {
      "cell_type": "markdown",
      "metadata": {
        "id": "RTa6zf3e_9gV"
      },
      "source": [
        "The next cell will allow you to load the retrained model checkpoint + metadata necessary to generate text.\n",
        "\n",
        "**IMPORTANT NOTE:** If you want to rerun this cell, **restart the VM first** (Runtime -> Restart Runtime). You will need to rerun imports but not recopy files."
      ]
    },
    {
      "cell_type": "code",
      "metadata": {
        "id": "-fxL77nvAMAX",
        "colab": {
          "base_uri": "https://localhost:8080/"
        },
        "outputId": "d5e36bd5-7957-4bf7-9db9-adf96a9d2354"
      },
      "source": [
        "sess = gpt2.start_tf_sess()\n",
        "gpt2.load_gpt2(sess, run_name='run3')"
      ],
      "execution_count": 5,
      "outputs": [
        {
          "output_type": "stream",
          "text": [
            "Loading checkpoint checkpoint/run3/model-1000\n",
            "INFO:tensorflow:Restoring parameters from checkpoint/run3/model-1000\n"
          ],
          "name": "stdout"
        }
      ]
    },
    {
      "cell_type": "markdown",
      "metadata": {
        "id": "ClJwpF_ACONp"
      },
      "source": [
        "## Generate Text From The Trained Model\n",
        "\n",
        "After you've trained the model or loaded a retrained model from checkpoint, you can now generate text. `generate` generates a single text from the loaded model."
      ]
    },
    {
      "cell_type": "code",
      "metadata": {
        "id": "4RNY6RBI9LmL",
        "colab": {
          "base_uri": "https://localhost:8080/"
        },
        "outputId": "78948cb2-61de-4bed-d2e8-b0a862ed6e55"
      },
      "source": [
        "gpt2.generate(sess, run_name='run3')"
      ],
      "execution_count": 6,
      "outputs": [
        {
          "output_type": "stream",
          "text": [
            "Nelson and Lowndes County Sheriffs responded with tear gas and impact munitions to push protesters away from the fence around the courthouse.\n",
            "3311\tAfter protesters set an awning on fire near the North Precinct, police emerged to extinguish it. Police threw stun grenades and tear gas at a handful of protesters standing around below.\n",
            "3337\t\"Footage shows heavy tear gas usage as protesters flee near 5th and Taylor. A protester has fallen and other protesters rush to help them up; police charge in in to push them away. A protester can be heard saying, \"\"There’s homeless people here,\"\" assumed to mean in the vicinity of the tear gas. Footage also shows a reporter shoved by police, knocking the phone out of his hand.\"\n",
            "3345\tVideo shows sound cannon deployed alongside APC. The LRAD can be heard with its characteristic alarm. The use of LRADs is a subject of much contention, with frequent reports of permanent nerve and hearing damage caused by their use. The ACLU’s [position](https://www.aclu.org/fact-sheet/acoustic-weapons-fact-sheet) is that due to the high risk of damage and lack of research on lasting effects, LRADs should not be deployed to disperse protests.\n",
            "3350\tPolice fire tear gas at peaceful protesters, while simultaneously ordering protesters to lie down, forcing them to remain in the immediate area.\n",
            "3364\tPolice walk protesters down the street. One officer pepper sprays a protester. He stops walking as he tries to clear his eyes, and an officer shoves him. Another protester then yells at police; she is pepper sprayed as well. tags; protester, push, shove, pepper-spray, spray\n",
            "3389\tProtesters with hands up are seen opposite the US District Courthouse around 1 AM PST. Clouds of tear gas are seen on the street. Additional munitions can be heard throughout the footage.\n",
            "3436\tFootage shows a protester at 3rd and Salmon speaking to an officer in black, believed to be a Portland Police Officer. The officer then sprays the protester and steps away. The filmer states that the officer said the protester could not stand there.\n",
            "3442\tPolice responded to a crash on the city’s east side at 9:45 p.m. The driver of one of the vehicles had fled. Two officers went to that driver’s house and reportedly heard gunshots from inside. Police fired tear gas into the house at 6 a.m. after negotiators’ attempts to contact the man failed. Officers entered the home more than three hours later, and found the man dead of an apparently self-inflicted gunshot wound.\n",
            "3445\tPolice officers found Johnny Lozoya on a sidewalk suffering a seizure and frothing at the mouth after possibly falling from a roof; he was shocked with a Taser in drive-stun mode when he allegedly became combative while restrained on a board during transportation to hospital and went into cardiac arrest while still in the ambulance, dying shortly thereafter.\n",
            "3454\tPolice with batons push the crowd back at 1tth and Pine, discharging pepper spray to speed protesters up.\n",
            "3456\tPolice on bikes push protesters down the street near 11th and Pine. One officer pepper sprays protesters with umbrellas.\n",
            "3474\tPolice on bikes push protesters down the street near 11th and Pine. One officer pepper sprays protesters with umbrellas.\n",
            "3544\tNazario J. Solorio fell into a coma after police tasered him during a struggle to get him to a hospital. He died a week later.\n",
            "3572\tOfficers Albert Villareal and Jesus Cruz responded to complaints that Limon was banging on doors of houses. The officers found Limon yelling and trying to kick in the door of a house. They arrested him. He resisted. They pepper-sprayed him and struck him with a baton. Limon died of a heart attack while in a medically induced coma.\n",
            "3588\tPolice fire tear gas at protesters near the Justic Center, then chase them down.\n",
            "3648\tPolice on bikes push protesters down the street near 11th and Pine. One officer pepper sprays protesters with umbrellas.\n",
            "3656\t\"Footage shows protesters attempting to lower a California state flag outside the San Diego Police Department downtown headquarters. Police charge in with batons. Protesters scatter. Police then deploy stun grenades at protesters after they have already cleared from around the flag. Police also charge at protesters with batons.)\n",
            "3688\tPolice on bikes push protesters down the street near 11th and Pine. One officer pepper sprays protesters with umbrellas.\n",
            "3718\tFootage shows an officer sitting on an individual, believed to be a medic, at a protest near the US District Courthouse. The individual is immobile. An officer pepper sprays them, then the officer on their back punches them in the\n"
          ],
          "name": "stdout"
        }
      ]
    },
    {
      "cell_type": "markdown",
      "metadata": {
        "id": "ca70Ymup9eQW"
      },
      "source": [
        "# Analysis of Generated Tweets\n",
        "\n",
        "Some of the tweets it's generating are actually the exact same tweets its been trained on.\n",
        "\n",
        "\"*Villanueva’s garment factory co-workers called police for help with his epileptic seizure. They arrived and found him uncooperative and combative. Wrestled to the ground and handcuffed by four officers, witnesses described police shouting for him to speak English, and taking his foaming at the mouth as a sign of drug use. He died of \"\"mechanical asphyxia following physical restraint\"\". The four were charged with manslaughter.*\"\n",
        "\n",
        "I found this tweet with a Google Search, while the tweet below was original:\n",
        "\n",
        "\"*According to police, officers responded at about 8 p.m. to a report that a man was breaking up an apartment. \"\"He was covered with blood when the officers arrived,\"\" said sheriff’s Capt. Mike McCabe. Officers alleged that Custer confronted them, then went into apparent cardiac arrest as they tried to restrain him. Custer died at a hospital at about 9 p.m. Custer’s family said the cause of his death was positional asphyxiation.*\"\n",
        "\n",
        "Considering the realism of both tweets, both the regurgitated training tweets and authentically generated tweets are nearly indistiguishable.\n",
        "\n",
        "## Possible Solution:\n",
        "A `unique()` function will be needed to check for duplicates before compiling these tweets with our already established dataset.\n",
        "\n",
        "---"
      ]
    },
    {
      "cell_type": "markdown",
      "metadata": {
        "id": "oF4-PqF0Fl7R"
      },
      "source": [
        "You also pass in a `prefix` to the generate function to force the text to start with a given character sequence and generate text from there (good if you add an indicator when the text starts).\n",
        "\n",
        "You can also generate multiple texts at a time by specifing `nsamples`. Unique to GPT-2, you can pass a `batch_size` to generate multiple samples in parallel, giving a massive speedup (in Colaboratory, set a maximum of 20 for `batch_size`).\n",
        "\n",
        "Other optional-but-helpful parameters for `gpt2.generate` and friends:\n",
        "\n",
        "*  **`length`**: Number of tokens to generate (default 1023, the maximum)\n",
        "* **`temperature`**: The higher the temperature, the crazier the text (default 0.7, recommended to keep between 0.7 and 1.0)\n",
        "* **`top_k`**: Limits the generated guesses to the top *k* guesses (default 0 which disables the behavior; if the generated output is super crazy, you may want to set `top_k=40`)\n",
        "* **`top_p`**: Nucleus sampling: limits the generated guesses to a cumulative probability. (gets good results on a dataset with `top_p=0.9`)\n",
        "* **`truncate`**: Truncates the input text until a given sequence, excluding that sequence (e.g. if `truncate='<|endoftext|>'`, the returned text will include everything before the first `<|endoftext|>`). It may be useful to combine this with a smaller `length` if the input texts are short.\n",
        "*  **`include_prefix`**: If using `truncate` and `include_prefix=False`, the specified `prefix` will not be included in the returned text."
      ]
    },
    {
      "cell_type": "code",
      "metadata": {
        "id": "8DKMc0fiej4N",
        "colab": {
          "base_uri": "https://localhost:8080/"
        },
        "outputId": "d399e746-8c06-44a8-fac7-3886329fe12b"
      },
      "source": [
        "gpt2.generate(sess,\n",
        "              run_name='run3',\n",
        "              temperature=0.7,\n",
        "              nsamples=5,\n",
        "              batch_size=5\n",
        "              )"
      ],
      "execution_count": 7,
      "outputs": [
        {
          "output_type": "stream",
          "text": [
            "The mother of a student fatally shot by police says officers were not called for her son until he allegedly became combative while restrained on a board during transportation to hospital and went into cardiac arrest.\n",
            "3179\tA group of protesters is exiting the on ramp of I-4 on May 31st. A water bottle is thrown by a protester, landing far from police. Police throw a flashbang. A protester then throws a water bottle, landing near police. On both occasions, the crowd decries the actions of the bottle throwers. Police then deploy tear gas against the protesters.\n",
            "3181\tPolice with batons push the crowd back at 1tth and Pine, discharging pepper spray to speed protesters up.\n",
            "3191\tPolice on bikes push protesters down the street on May 31st. One officer pepper sprays protesters with umbrellas.\n",
            "3194\tNazario J. Solorio fell into a coma after police tasered him during a struggle to get him to a hospital. He died a week later.\n",
            "3251\tOfficers Albert Villareal and Jesus Cruz responded to complaints that Limon was banging on doors of houses. The officers found Limon yelling and trying to kick in the door of a house. They arrested him. He resisted. They pepper-sprayed him and struck him with a baton. Limon died of asphyxia and deprivation of oxygen.\n",
            "3271\tPolice fire tear gas at peaceful protesters, while simultaneously ordering protesters to lie down, forcing them to remain in the immediate area.\n",
            "3285\tPolice walk protesters down the street. One officer pepper sprays a protester. He stops walking as he tries to clear his eyes. An officer pepper sprays him. The protester then yells at police; \"\"He did nothing wrong. Whatthe fuck?\"\" Another protester helps the pepper-sprayed man down. The journalist who took the footage ends the recording.\"\n",
            "3286\tProtesters with hands up are seen opposite the US District Courthouse around 1 AM PST. Clouds of tear gas are seen on the street. Additional munitions can be heard throughout the footage.\n",
            "3287\tFootage shows a protester at 3rd and Salmon speaking to an officer in black, believed to be a Portland Police Officer, in Portland, Oregon. The officer then sprays the protester and steps away. The filmer states that the officer said the protester could not stand there.\n",
            "3289\tPolice responded to a crash on the city’s east side at 9:45 p.m. The driver of one of the vehicles had fled. Two officers went to that driver’s house and reportedly heard gunshots from inside. Police fired tear gas into the house at 6 a.m. after negotiators’ attempts to contact the man failed. Officers entered the home more than three hours later, and found the man dead of an apparently self-inflicted gunshot wound.\n",
            "3311\tPolice officers found Johnny Lozoya on a sidewalk suffering a seizure and frothing at the mouth after possibly falling from a roof; he was shocked with a Taser in drive-stun mode when he allegedly became combative while restrained on a board during transportation to hospital and went into cardiac arrest while still in the ambulance, dying shortly thereafter.\n",
            "3337\tPolice with batons push the crowd back at 1tth and Pine, discharging pepper spray to speed protesters up.\n",
            "3345\tPolice on bikes push protesters down the street on May 31st. One officer pepper sprays protesters with umbrellas.\n",
            "3350\tPolice on bikes push protesters down the street on May 31st. One officer pepper sprays protesters with umbrellas.\n",
            "3364\tPolice on bikes push protesters down the street on May 31st. One officer pepper sprays protesters with umbrellas.\n",
            "3389\tPolice on bikes push protesters down the street on May 31st. One officer pepper sprays protesters with umbrellas.\n",
            "3436\tPolice on bikes push protesters down the street on May 31st. One officer pepper sprays protesters with umbrellas.\n",
            "3442\tPolice on bikes push protesters down the street on May 31st. One officer pepper sprays protesters with umbrellas.\n",
            "3445\tPolice on bikes push protesters down the street on May 31st. One officer pepper sprays protesters with umbrellas.\n",
            "3454\tPolice on bikes push protesters down the street on May 31st. One officer pepper sprays protesters with umbrellas.\n",
            "3456\tPolice on bikes push protesters down the street on May 31st. One officer pepper sprays protesters with umbrellas.\n",
            "3474\tPolice on bikes push protesters down the street on May 31st. One officer pepper sprays protesters with umbrellas.\n",
            "3544\t\"Video shows an individual getting hit by a police projectile, falling down, and becoming unresponsive. Medics drag the person away from the police. A medic’s first-hand narrative account describes the victim as \"\"a\n",
            "====================\n",
            "A protester is seen kneeling in the street (2nd and Salmon) with their hands up. An officer approaches and pepper sprays the protester. The protester is then forced to the ground and arrested.\n",
            "2469\tAfter police declared a riot, protesters lit a mattress and other objects in the street on fire. Federal agents and Portland Police officers then deployed tear gas and stun grenades against the crowd, pushing them away from the ICE facility.\n",
            "2473\tGordon Rauch died after deputies tasered him at least twice during an altercation.\n",
            "2515\tAround 7:30pm on May 30th, peaceful protesters gathered outside the US District Courthouse. Protesters said police were called to the intersection of Taylor and Salmon, but police later denied permission. Rauch was tasered while at the intersection, and lost consciousness and died.\n",
            "2522\tAround agreement Friday, peaceful protesters gathered outside the US District Courthouse. Protesters said police were called to the intersection of Taylor and Salmon, but police later denied permission. Protesters said police were setting an awning on fire near the fence around the courthouse, but police denied involvement.\n",
            "2527\tA group of protesters waving signs in front of a group of police officers was suddenly rushed by one police officer, triggering a brawl where police choke-slammed a man into the ground and brandished a shotgun at the protesters. Another protester shouts at an officer from several feet away; the officer immediately discharges pepper spray.\n",
            "2543\t\"Knight’s neighbors called the cops to report that he was acting erratically and trying to break into their houses. Police found him violently agitated, climbing on roofs, screaming \"\"Kill them,\"\" etc. He was tasered, hit and carried there by Sgt. Steve Long and Deputy Ted Tosfrud. He resisted a medical check and was hit and kneed by Sgt. Long, and Officer Tim Christopherson, and \"\"donkey kicked\"\" by Deputy John Elam while putting him under a cell bunk. The guards returned to place Sichiro in a restraint chair and he was immediately tasered by Deputy Todd Belitz. Tosfrud tasered him several times as they placed him in the chair. Sichiro lost consciousness and died at Deaconess Medical Center of a lacerated liver. An inmate stated that he did not hear the guards give Sichiro verbal commands before tasering him, and that although Sichiro did not speak much English he told the guards in English that he was dying, but they kept telling him to stand up. Elam’s donkey kick was ruled the cause of death, and a homicide; he became a police officer several weeks later and was fired the first day on the job after lying about a car crash. In 2009 Sichiro’s children won a $425,000 wrongful death settlement from the Spokane County Commission.\"\n",
            "2557\tA video linked shows the police pepper spraying some protesters who don’t seem to be doing anything particularly wrong and we see a black woman in a black top with a bright yellow design on the back being sprayed in the eyes. In a separate video we see that same woman being arrested.\n",
            "2568\tIn an incident that appears to have occurred outside a Walmart by the 4th Police Precinct, a journalist is seen standing close to a police riot line. A stun grenade then whizzes by the journalists head, exploding near him.\n",
            "2597\t\"Eugene K. Pitchford Jr., who was homeless and had a history of mental health issues, died of asphyxiation as three officers used a chokehold, pepper spray and nightsticks on him. Police had responded to a recycling center when an employee called saying that Pitchford became upset when he tried to turn in a bag of aluminum cans and was told the center was closed. Pitchford ran, and the officers chased and tackled him. During the ensuing struggle, Pitchford was pepper sprayed and repeatedly struck with a baton, according to police reports. A fourth officer helped handcuff Pitchford, who fell unconscious. The bystanders revived Pitchford, but he died of asphyxia and hypothermia. A coroner’s jury decided that Pitchford’s death was accidental, but said it was impossible to tell what caused the death. \"\"There’s no way of proving what caused the asphyxia or the hypothermia, whether it’s from the weight of the officers or the agitation during the foot chase,\"\" Peoria County Coroner Dan Heinz said.\"\n",
            "2601\tPolice shove and pepper spray protesters while making an arrest near N Denver and N Russet. The arrestee, a member of the press, was hospitalized after a back injury. Arrestee was also wearing a PRESS shirt and has been confirmed to be a livestreamer. Several members of the press were pushed away from the arrest.\n",
            "2639\tAfter protesters pushed police away from the fence around the courthouse, police fired tear gas\n",
            "====================\n",
            "The protesters in the street are not obeying. Instead, they are standing on a sidewalk. Police approach and pepper spray protesters. Police also grab a protester on the side walk and arrest him.\n",
            "4870\tAt short range, officer fires a tear gas round directly at a protester outside 1615 H Street. The round narrowly misses striking the protester in the face.\n",
            "4896\tA woman is seen filming protests. She gets into an altercation with an officer. The officer grabs her, then she shoves him away. The officer then pepper sprays her. She stated in an interview afterward that an officer grabbed her breast, so she pushed away; the officer then sprayed her.\n",
            "4917\tIntercepted burglary suspect Towns was pepper-sprayed and then tasered three times in a struggle with local police. He admitted ingesting some cocaine earlier in the evening, developed breathing trouble, then died shortly afterward.\n",
            "4957\tNative protesters in Keystone, South Dakota blocked a highway in anticipation of a Trump rally. Though blocking a highway is indeed illegal, the highway is also on unceded Indigenous land. Around 2:07:00, the police and National Guard line advances with shields. Protesters resist being pushed. National Guard falls back around 2:17:00. Around 2:20:00, the line reforms. Around 2:27:00, the National Guard fires pepper balls at gathered protesters. Some protesters had gathered on a nearby hill and were pushed off by police (2:36:00). Around 3:00:00, National Guard push past the protester vans and begin the process of towing them. News reports additionally state that pepper spray and tear gas were used. The tear gas was deployed by the Pennington County Sheriff’s Office.\n",
            "4960\t\"Police responded to a call saying that Omas was on Ecstasy and behaving oddly. Omas, wearing only shorts and socks, yelled, \"\"I am God,\"\" and resisted arrest. He was subdued after three Taser jolts, then handcuffed and taken to an ambulance. There, Omas was given Haldol, an antipsychotic. He died two days later. The Tarrant County Medical Examiner blamed the combination of Ecstasy and Haldol for his death, rather than the Taser jolts. Omas’s mother, Rhonda Short, sued TASER International, six Euless officers and the City of Euless.\"\n",
            "4969\tLaw enforcement close on protesters from both sides with pepper bullets, tear gas, and flashbangs. Some protesters escape into an adjacent parking structure. Jeff Jackson, an NC State senator whose district contains the Uptown Charlotte area, later posted a review of the incident on Medium.com, in which he decries the incident and states he has begun the process of opening an investigation with the Charlotte-Mecklenburg Police Department. Body cam footage released several months later shows police coordinating the kettling and tear gassing.\n",
            "4975\tAn officer is seen walking into a crowd of protesters standing still on the sidewalk down the street from the Penumbra Kelly building. The officer discharges his pepper spray at a protester then walks away.\n",
            "4990\tA couple states that they attended a peaceful protest in the early afternoon with their dog. After seeing police allegedly beat a trumpeter, they took their dog home and returned. Around 9pm, one victim, Sean, states that police began pepper-spraying without warning. He states that police were also hitting him with a baton. After returning to their homes, protesters lit a mattress and other objects in the street on fire.\n",
            "5000\tOfficers approached recent ex-con Frenette in the mid-afternoon on the southern edge of a park. He sat in a stolen car. Frenette resisted being apprehended, a physical struggle in which he was pepper-sprayed then fatally shot twice at point-blank range.\n",
            "5015\tAt a protest outside the Brooklyn Center Police Headquarters the day after Daunte Wright’s death, police fired tear gas, stun grenades and impact munitions (either pepper balls or rubber bullets) following the protesters’ failure to disperse at curfew.\n",
            "5039\tA group of protesters is exiting the on ramp of I-80. A protester on the opposite side of the barricade yells at them. On both occasions, the police discharge pepper spray.\n",
            "5059\tA cop hits a protester in the face near High and Broad Streets. Then a different cop pepper sprays the person hit, as well as nerby protesters on the opposite sides of the barricade. It is unclear if these are real or staged.\n",
            "5086\tMSNBC captures mounted and regular police using flashbangs on peaceful protesters outside the White House. Someone injured by police is carried away on a stretcher.\n",
            "5097\tAfter protesters set an awning on fire near the US District Courthouse, police emerged to extinguish it. Police threw stun grenades\n",
            "====================\n",
            "Heidi Beirich, a researcher at the American Civil Liberties Union, said in a tweet that the people protesting behind the curtain were not allowed in the room and were breaking the law. An officer then grabbed her wrist and led her down the sidewalk. She reported the incident to police, who responded with tear gas and flashbangs. Officers continued to deploy tear gas and flashbangs in the area where Iowa city EMT’s were working (see flashing white lights in cloud of gas, 5th link). According to the ACLU, officers were not authorized to be in the EMT room and were immediately dismissed.\n",
            "5485\tA group of women calling themselves Moms Against Police Brutality locked arms in the street (3rd and Main). Federal officers shove the women and throw a flashbang which explodes at their feet. One of the moms assaulted is pregnant.\n",
            "5487\tA freelance photographer captured an incident near J.C. Nichols and Ward parkways, showing a Kansas City Police officer pepper spraying a protester. The protester is standing several feet away and holding a sign above their head.\n",
            "5493\tEddie Alvarado died after officers tasered him five times while his hands were cuffed behind his back.\n",
            "5495\tBREAKING: Police fire teargas at Omoyele Sowore in Abuja https://t.co/XN9AqL7NBf https://t.co/V9HRYrfkJz\n",
            "5505\tPolice and protesters face off on opposite sides of a barricade. Police discharge pepper spray in a wide berth, targeting protesters who step towards them in particular. It is unclear what instigated this incident, although one protester does appear to be trying to recover a red umbrella on the ground.\n",
            "5530\tThe protesters were given no warning to leave, resulting in forceful removal and injuries to protesters via tear gas and flashbangs.\n",
            "5541\tAn officer conducted a traffic stop on Tamez’s vehicle after watching him drive recklessly. Tamez resisted arrest. The officer shot him with a stun gun, then took him to Cameron County Jail. In keeping with policy, staff refused to book Tamez because he complained of a medical emergency. Tamez was taken to Harlingen Medical Center, where it was learned that he was under the influence of cocaine and marijuana. He resisted medical personnel, was restrained once again and died. Texas Ranger Victor Escalon investigated.\n",
            "5557\tA protester is seen kneeling in the street (2nd and Salmon) with their hands up. An officer approaches and pepper sprays the protester. The protester is then forced to the ground and arrested.\n",
            "5559\tFootage shows protesters playing music and dancing. Without warning, shots can be heard and tear gas is seen. Protesters then flee.\n",
            "5577\tPolice shoot about a dozen tear gas or flashbang grenades into a crowd from quite a distance.\n",
            "5606\tA peaceful protest near the Cincinnati police headquarters was dispersed with tear gas and flashbangs, with police shooting a man giving them the middle finger with pepper bullets from a paintball gun.\n",
            "5620\tFollowing an incident where a protester suffered a seizure, federal officers promptly resumed barraging protesters with tear gas and impact munitions to cover targeted arrests.\n",
            "5651\tAfter police and federal agents retreated into the US District Courthouse, protesters followed. Footage shows agents emerging from the US District Courthouse and firing tear gas and other riot rounds. Most protesters flee, but some remain to film. A single firework can be heard at the end of the footage. Additional footage shows police and federal agents continuing to tear gas protesters into the park.\n",
            "5659\tAt approximately 11:30 PM, federal officers use tear gas and impact munitions to push protesters away from the fence around the courthouse. The incident appears to have been instigated by a small fire near the fence and fireworks launched by protesters.\n",
            "5688\tProtester who repeatedly says he cannot see is shoved by an officer with a baton. The filmer yells at the officer that the protester is having trouble seeing. The officer pepper sprays the filmer.\n",
            "5736\tPolice stopped Casey and his friend, Richard Collins, on Abercorn Street after the car was suspected of racing, according to police. The men were placed in separate patrol cars as officers searched their Trans Am. But Casey escaped and drove off in the marked patrol car. Police found the missing police cruiser and Casey the next day at the Magnolia Villas apartments. Officers chased Casey into the woods behind the AMF Savannah Lanes, a bowling alley on Tibet Avenue. Knight arrived to find Casey pointing a gun at Patrolman Robert Caulford. Casey had wrestled the gun away from Caulford, along with his baton. He had already pepper-sprayed the officer. Knight shot and killed Casey.\n",
            "5765\tProtesters gathered on courthouse property during a May 30th protest. Some graffiti can be seen\n",
            "====================\n",
            "2470\tVideo shows an officer sitting on an individual, believed to be a medic, suffering a seizure while giving medical aid to an otherwise unresponsive person. The person filming is unresponsive and an ambulance is called to the scene. Police continue to grapple with the person on the ground before an officer pepper sprays them (6:00). Unclear if the person is a medic or an officer from the police department. The individual is taken behind the police line and an ambulance is sent to treat them.\n",
            "2473\tIn an incident that appears to have occurred near J.C. Nichols and Ward parkways, a protester is seen kneeling in the street (2nd and Salmon) with their hands up. An officer then pepper sprays the protester.\n",
            "2479\tAfter protesters set an awning on fire near the North Precinct, police emerged to extinguish it. Police threw stun grenades and tear gas at a handful of protesters standing around below.\n",
            "2484\t\"Footage shows police declaring the protest a riot. They fire tear gas at protesters near 4th and Taylor. Protesters begin to retreat and police follow. Several protesters on the opposite sides of the District Courthouse fence throw tear gas and stun grenades at police. Police respond with tear gas and flashbangs. The incident appears to have been kicked off after protesters attempted to break into the fence.\n",
            "2515\tAfter protesters allegedly attempted to light something on fire or lowered a flag to the ground, police on bikes charged protesters, knocking several down. Police then discharged pepper spray at protesters. One individual beaten by police was taken away on a stretcher. In addition, Charlotte city councilman Braxton Winston was pepper sprayed during this incident.\n",
            "2522\tBrian Patrick O’Neal died after officers Steve Carlson, Jeff Barton, Tim Young, Mike Jeffrey and James Hussey tasered, pepper sprayed and hit him with a baton.\n",
            "2527\tA journalist films police as they advance against protesters. A protester detonates a firework about 10 feet away. An officer then turns to the journalist and pepper sprays him.\n",
            "2543\tAccording to eyewitness accounts and news reports, police kettled a protest on a bridge and fired both tear gas and rubber bullets. Eyewitnesses note children were among the crowd and protesters attempted to shield them from harm.\n",
            "2557\t\"Sichiro was picked up for three outstanding misdemeanor warrants and his mugshot shows he was beaten. Because of alcohol withdrawal symptoms he was booked into Spokane County Jail 2West, a medical unit. He was \"\"speaking in a different language\"\" and resisted when guards tried to move him to a monitored cell. He was tasered, struck and carried there by Sgt. Steve Long and Deputy Ted Tosfrud. He resisted a medical check and was hit and kneed by Sgt. Long, and Officer Tim Christopherson, and \"\"donkey kicked\"\" by Deputy John Elam while putting him under a cell bunk. The guards returned to place Sichiro in a restraint chair and he was immediately tasered by Deputy Todd Belitz. Tosfrud tasered him several times as they placed him in the chair. Sichiro lost consciousness and died at Deaconess Medical Center of a lacerated liver. An inmate stated that he did not hear the guards give Sichiro verbal commands before tasering him, and that while Sichiro did not speak much English he told the guards in English that he was dying, but they kept telling him to stand up. Elam’s donkey kick was ruled the cause of death, and a homicide; he became a police officer several weeks later and was fired the first day on the job after lying about a car crash. In 2009 Sichiro’s children won a $425,000 wrongful death settlement from the Spokane County Commission.\"\n",
            "2568\tFootage shows police slowly retreating from protesters near Chapman Square. Protesters remain in place. Police fire tear gas continually throughout their retreat.\n",
            "2597\tTrotter is said to have attacked two people in a subdivision. Responding deputies tasered him at least three times. His resulting death was unusual in that the medical examiner officially left open the possibility that the Taser was at least partially responsible.\n",
            "2601\t\"Police responded to Basim Maya’s house after his family members called. They sought to have Maya, who was schizophrenic, involuntarily committed to a mental health facility. Maya had reportedly stopped taking his medication. According to police, officers used their hands and pepper gas to subdue Maya, but he resisted. The altercation escalated to \"\"hand-to-hand\"\" combat among Maya and five or six officers, police said. Maya died of asphyxia and deprivation of oxygen, according to Oakland County Medical Examiner L.J. Dragovic.\"\n",
            "2639\tFootage taken at the intersection of Georgia and Missouri Avenues in DC shows a riot police line, having deployed tear gas and flashbangs to clear protesters.\n",
            "====================\n"
          ],
          "name": "stdout"
        }
      ]
    },
    {
      "cell_type": "markdown",
      "metadata": {
        "id": "zjjEN2Tafhl2"
      },
      "source": [
        "For bulk generation, you can generate a large amount of text to a file and sort out the samples locally on your computer. The next cell will generate a generated text file with a unique timestamp.\n",
        "\n",
        "You can rerun the cells as many times as you want for even more generated texts!"
      ]
    },
    {
      "cell_type": "code",
      "metadata": {
        "id": "Fa6p6arifSL0"
      },
      "source": [
        "gen_file = 'gpt2_gentext_{:%Y%m%d_%H%M%S}.txt'.format(datetime.utcnow())\n",
        "\n",
        "gpt2.generate_to_file(sess,\n",
        "                      run_name='run3',\n",
        "                      destination_path=gen_file,\n",
        "                      temperature=1.0,\n",
        "                      nsamples=10,\n",
        "                      batch_size=5\n",
        "                      )"
      ],
      "execution_count": 8,
      "outputs": []
    },
    {
      "cell_type": "code",
      "metadata": {
        "id": "0-LRex8lfv1g"
      },
      "source": [
        "# may have to run twice to get file to download\n",
        "files.download(gen_file)"
      ],
      "execution_count": null,
      "outputs": []
    },
    {
      "cell_type": "markdown",
      "metadata": {
        "id": "ig-KVgkCDCKD"
      },
      "source": [
        "# Etc\n",
        "\n",
        "If the notebook has errors (e.g. GPU Sync Fail), force-kill the Colaboratory virtual machine and restart it with the command below:"
      ]
    },
    {
      "cell_type": "code",
      "metadata": {
        "id": "rIHiVP53FnsX"
      },
      "source": [
        "!kill -9 -1"
      ],
      "execution_count": null,
      "outputs": []
    }
  ]
}