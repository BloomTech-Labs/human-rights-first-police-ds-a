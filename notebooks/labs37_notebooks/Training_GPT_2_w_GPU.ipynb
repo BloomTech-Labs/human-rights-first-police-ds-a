{
  "nbformat": 4,
  "nbformat_minor": 0,
  "metadata": {
    "colab": {
      "name": "Training GPT-2  w/ GPU",
      "provenance": [],
      "collapsed_sections": []
    },
    "kernelspec": {
      "name": "python3",
      "display_name": "Python 3"
    },
    "accelerator": "GPU"
  },
  "cells": [
    {
      "cell_type": "markdown",
      "metadata": {
        "id": "w_XQvKmy5x20"
      },
      "source": [
        "***This notebook is meant to be run in Google Colab***"
      ]
    },
    {
      "cell_type": "markdown",
      "metadata": {
        "id": "H7LoMj4GA4n_"
      },
      "source": [
        "#  Training a GPT-2 Text-Generating Model w/ GPU\n",
        "\n",
        "[GPT-2 info from OpenAI](https://https://openai.com/blog/better-language-models/)\n",
        "\n",
        "[GPT-2 Simple - Github Repo](https://github.com/minimaxir/gpt-2-simple)\n",
        "\n",
        "*As of Labs37*\n",
        "\n",
        "The BERT model we've inherited from prior cohorts has been suffering from a major class imbalance.\n",
        "\n",
        "The data they collected for the training of this NLP classification model were unlabelled, prompting the creation of [this](http://bw-labeler-dev.us-east-1.elasticbeanstalk.com/). Ranks 2, 3, & 4 have but a few hundred samples among them, while Ranks 0, 1, & 5 contain thousands. Extreme cases of police activity are plenty, ranging from their complete absence to their murdering of innocent civillians. Rare is the opportunity to rank 'moderate' examples of police misconduct.\n",
        "\n",
        "To alleviate this imbalance while side-stepping an otherwise [mundane task](https://www.kdnuggets.com/2017/06/acquiring-quality-labeled-training-data.html), Labs37 has decided to generate these tweets themselves. And what better way to fulfill this task than to use one of the most robust, open source, text-generating models around?"
      ]
    },
    {
      "cell_type": "code",
      "metadata": {
        "id": "KBkpRgBCBS2_",
        "colab": {
          "base_uri": "https://localhost:8080/"
        },
        "outputId": "44162789-9cf8-43be-89fe-3911a2d9ff92"
      },
      "source": [
        "%tensorflow_version 1.x\n",
        "!pip install -q gpt-2-simple\n",
        "import gpt_2_simple as gpt2\n",
        "from datetime import datetime\n",
        "from google.colab import files\n",
        "from time import time\n",
        "import pandas as pd\n",
        "!pip install psycopg2\n",
        "import psycopg2"
      ],
      "execution_count": 1,
      "outputs": [
        {
          "output_type": "stream",
          "text": [
            "TensorFlow 1.x selected.\n",
            "WARNING:tensorflow:\n",
            "The TensorFlow contrib module will not be included in TensorFlow 2.0.\n",
            "For more information, please see:\n",
            "  * https://github.com/tensorflow/community/blob/master/rfcs/20180907-contrib-sunset.md\n",
            "  * https://github.com/tensorflow/addons\n",
            "  * https://github.com/tensorflow/io (for I/O related ops)\n",
            "If you depend on functionality not listed there, please file an issue.\n",
            "\n",
            "Requirement already satisfied: psycopg2 in /usr/local/lib/python3.7/dist-packages (2.7.6.1)\n"
          ],
          "name": "stdout"
        },
        {
          "output_type": "stream",
          "text": [
            "/usr/local/lib/python3.7/dist-packages/psycopg2/__init__.py:144: UserWarning: The psycopg2 wheel package will be renamed from release 2.8; in order to keep installing from binary please use \"pip install psycopg2-binary\" instead. For details see: <http://initd.org/psycopg/docs/install.html#binary-install-from-pypi>.\n",
            "  \"\"\")\n"
          ],
          "name": "stderr"
        }
      ]
    },
    {
      "cell_type": "markdown",
      "metadata": {
        "id": "Bj2IJLHP3KwE"
      },
      "source": [
        "## GPU\n",
        "\n",
        "Colab uses either a Nvidia T4 GPU or an Nvidia K80 GPU. The T4 is slightly faster than the old K80 for training GPT-2, and has more memory allowing you to train the larger GPT-2 models and generate more text.\n",
        "\n",
        "You can verify which GPU is active by running the cell below."
      ]
    },
    {
      "cell_type": "code",
      "metadata": {
        "id": "sUmTooTW3osf",
        "colab": {
          "base_uri": "https://localhost:8080/"
        },
        "outputId": "a518755c-c093-4f59-f047-ac4e184f6ce0"
      },
      "source": [
        "!nvidia-smi"
      ],
      "execution_count": 2,
      "outputs": [
        {
          "output_type": "stream",
          "text": [
            "Mon Aug 23 09:57:04 2021       \n",
            "+-----------------------------------------------------------------------------+\n",
            "| NVIDIA-SMI 470.57.02    Driver Version: 460.32.03    CUDA Version: 11.2     |\n",
            "|-------------------------------+----------------------+----------------------+\n",
            "| GPU  Name        Persistence-M| Bus-Id        Disp.A | Volatile Uncorr. ECC |\n",
            "| Fan  Temp  Perf  Pwr:Usage/Cap|         Memory-Usage | GPU-Util  Compute M. |\n",
            "|                               |                      |               MIG M. |\n",
            "|===============================+======================+======================|\n",
            "|   0  Tesla T4            Off  | 00000000:00:04.0 Off |                    0 |\n",
            "| N/A   64C    P8    11W /  70W |      0MiB / 15109MiB |      0%      Default |\n",
            "|                               |                      |                  N/A |\n",
            "+-------------------------------+----------------------+----------------------+\n",
            "                                                                               \n",
            "+-----------------------------------------------------------------------------+\n",
            "| Processes:                                                                  |\n",
            "|  GPU   GI   CI        PID   Type   Process name                  GPU Memory |\n",
            "|        ID   ID                                                   Usage      |\n",
            "|=============================================================================|\n",
            "|  No running processes found                                                 |\n",
            "+-----------------------------------------------------------------------------+\n"
          ],
          "name": "stdout"
        }
      ]
    },
    {
      "cell_type": "markdown",
      "metadata": {
        "id": "Ir6-8n0L7Zr0"
      },
      "source": [
        "Don't let   `0  Tesla T4            Off` fool you. It's on. Colab, for whatever reason, doesn't display whether their GPUs are enabled or not with the `nvidia-smi` shell command. \n",
        "\n",
        "If you're wondering if it's even on at all, try running that shell command again after changing your runtime back to **CPU**. It won't appear, but it will with a **GPU** runtime.\n",
        "\n",
        "It's a shame it'll never display  `0  Tesla T4            On`."
      ]
    },
    {
      "cell_type": "markdown",
      "metadata": {
        "id": "0wXB05bPDYxS"
      },
      "source": [
        "## Downloading GPT-2\n",
        "\n",
        "If you're retraining a model on new text, you need to download the GPT-2 model first. \n",
        "\n",
        "There are three released sizes of GPT-2:\n",
        "\n",
        "* `124M` (default): the \"small\" model, 500MB on disk.\n",
        "* `355M`: the \"medium\" model, 1.5GB on disk.\n",
        "* `774M`: the \"large\" model, cannot currently be finetuned with Colaboratory but can be used to generate text from the pretrained model (see later in Notebook)\n",
        "* `1558M`: the \"extra large\", true model. Will not work if a K80/P4 GPU is attached to the notebook. (like `774M`, it cannot be finetuned).\n",
        "\n",
        "Larger models have more knowledge, but take longer to finetune and longer to generate text. You can specify which base model to use by changing `model_name` in the cells below.\n",
        "\n",
        "The next cell downloads it from Google Cloud Storage and saves it in the Colaboratory VM at `/models/<model_name>`.\n",
        "\n",
        "This model isn't permanently saved in the Colaboratory VM; you'll have to redownload it if you want to retrain it at a later time."
      ]
    },
    {
      "cell_type": "code",
      "metadata": {
        "id": "P8wSlgXoDPCR",
        "colab": {
          "base_uri": "https://localhost:8080/"
        },
        "outputId": "dc6e5898-82e4-420d-ab97-7e2a50982779"
      },
      "source": [
        "gpt2.download_gpt2(model_name=\"355M\")"
      ],
      "execution_count": 3,
      "outputs": [
        {
          "output_type": "stream",
          "text": [
            "Fetching checkpoint: 1.05Mit [00:00, 686Mit/s]                                                      \n",
            "Fetching encoder.json: 1.05Mit [00:00, 3.61Mit/s]\n",
            "Fetching hparams.json: 1.05Mit [00:00, 247Mit/s]                                                    \n",
            "Fetching model.ckpt.data-00000-of-00001: 1.42Git [01:02, 22.8Mit/s]                                 \n",
            "Fetching model.ckpt.index: 1.05Mit [00:00, 805Mit/s]                                                \n",
            "Fetching model.ckpt.meta: 1.05Mit [00:00, 3.20Mit/s]\n",
            "Fetching vocab.bpe: 1.05Mit [00:00, 4.12Mit/s]\n"
          ],
          "name": "stderr"
        }
      ]
    },
    {
      "cell_type": "markdown",
      "metadata": {
        "id": "N8KXuKWzQSsN"
      },
      "source": [
        "## Mounting Google Drive\n",
        "\n",
        "The best way to get input text to-be-trained into the Colab VM, and to get the trained model *out* of Colab, is to route it through Google Drive *first*.\n",
        "\n",
        "Running this cell (which will only work in Colab) will mount your personal Google Drive in the VM, which later cells can use to get data in/out. (it will ask for an auth code; that auth is not saved anywhere)"
      ]
    },
    {
      "cell_type": "code",
      "metadata": {
        "id": "puq4iC6vUAHc",
        "colab": {
          "base_uri": "https://localhost:8080/"
        },
        "outputId": "53d47bf0-5f99-4c59-b90b-34c5e5b33593"
      },
      "source": [
        "gpt2.mount_gdrive()"
      ],
      "execution_count": 3,
      "outputs": [
        {
          "output_type": "stream",
          "text": [
            "Drive already mounted at /content/drive; to attempt to forcibly remount, call drive.mount(\"/content/drive\", force_remount=True).\n"
          ],
          "name": "stdout"
        }
      ]
    },
    {
      "cell_type": "markdown",
      "metadata": {
        "id": "jGaAHj1V2QRo"
      },
      "source": [
        "# Gathering Our Text Data\n",
        "\n",
        "The tweets we'll be using to train our GPT-2 model must come in the form a of .txt file.\n",
        "\n",
        "To do that we'll read in a .CSV file containing 5k tweets and isolate them from all other columns contained within their dataset.\n",
        "\n",
        "We also want to train GPT-2 on each rank, **separately**, so as to ensure each batch of texts it'll generate only contains that rank, ensuring a simple labelling and compilation of our synthetic tweets."
      ]
    },
    {
      "cell_type": "code",
      "metadata": {
        "id": "nke-yIiirAKG"
      },
      "source": [
        "def get_df(db_url) -> pd.DataFrame:\n",
        "    '''\n",
        "    Connects to our Blue Witness Data Labeler and retrieves manually labelled text before converting them all into a pandas dataframe.\n",
        "    \n",
        "    Parameters\n",
        "    ----------\n",
        "    db_url: psycopg2 database\n",
        "    \n",
        "    Returns\n",
        "    -------\n",
        "    df: pandas datafarme \n",
        "        Contains thousands of text with appropriate police (non-)violence labels\n",
        "    '''\n",
        "    conn = psycopg2.connect(db_url)\n",
        "    curs = conn.cursor()\n",
        "    curs.execute(\"SELECT * FROM training;\")\n",
        "    cols = [k[0] for k in curs.description]\n",
        "    rows = curs.fetchall()\n",
        "    df = pd.DataFrame(rows, columns=cols)\n",
        "    curs.close()\n",
        "    conn.close()\n",
        "    return df"
      ],
      "execution_count": 5,
      "outputs": []
    },
    {
      "cell_type": "code",
      "metadata": {
        "id": "ZIG_DapjrIFa"
      },
      "source": [
        "# ALWAYS REMEMBER TO REMOVE THE PostgreSQL URL ASSIGNED TO THIS VARIABLE WHEN COMITTING TO OUR REPO\n",
        "db_url = \"\""
      ],
      "execution_count": 6,
      "outputs": []
    },
    {
      "cell_type": "code",
      "metadata": {
        "colab": {
          "base_uri": "https://localhost:8080/",
          "height": 206
        },
        "id": "UnwNn3sSrT_3",
        "outputId": "23b46885-97d6-47fe-95a6-80b7533a2a89"
      },
      "source": [
        "data_labeler_df = get_df(db_url)\n",
        "data_labeler_df.head()"
      ],
      "execution_count": 7,
      "outputs": [
        {
          "output_type": "execute_result",
          "data": {
            "text/html": [
              "<div>\n",
              "<style scoped>\n",
              "    .dataframe tbody tr th:only-of-type {\n",
              "        vertical-align: middle;\n",
              "    }\n",
              "\n",
              "    .dataframe tbody tr th {\n",
              "        vertical-align: top;\n",
              "    }\n",
              "\n",
              "    .dataframe thead th {\n",
              "        text-align: right;\n",
              "    }\n",
              "</style>\n",
              "<table border=\"1\" class=\"dataframe\">\n",
              "  <thead>\n",
              "    <tr style=\"text-align: right;\">\n",
              "      <th></th>\n",
              "      <th>id</th>\n",
              "      <th>tweets</th>\n",
              "      <th>labels</th>\n",
              "    </tr>\n",
              "  </thead>\n",
              "  <tbody>\n",
              "    <tr>\n",
              "      <th>0</th>\n",
              "      <td>6</td>\n",
              "      <td>A New Mexico State Police officer killed two p...</td>\n",
              "      <td>5</td>\n",
              "    </tr>\n",
              "    <tr>\n",
              "      <th>1</th>\n",
              "      <td>7</td>\n",
              "      <td>I found some police badge stickers at work and...</td>\n",
              "      <td>0</td>\n",
              "    </tr>\n",
              "    <tr>\n",
              "      <th>2</th>\n",
              "      <td>8</td>\n",
              "      <td>According to media reports, police said they a...</td>\n",
              "      <td>1</td>\n",
              "    </tr>\n",
              "    <tr>\n",
              "      <th>3</th>\n",
              "      <td>9</td>\n",
              "      <td>The male who has the knife is now running nort...</td>\n",
              "      <td>0</td>\n",
              "    </tr>\n",
              "    <tr>\n",
              "      <th>4</th>\n",
              "      <td>10</td>\n",
              "      <td>Changing the assignments of already existing c...</td>\n",
              "      <td>0</td>\n",
              "    </tr>\n",
              "  </tbody>\n",
              "</table>\n",
              "</div>"
            ],
            "text/plain": [
              "   id                                             tweets  labels\n",
              "0   6  A New Mexico State Police officer killed two p...       5\n",
              "1   7  I found some police badge stickers at work and...       0\n",
              "2   8  According to media reports, police said they a...       1\n",
              "3   9  The male who has the knife is now running nort...       0\n",
              "4  10  Changing the assignments of already existing c...       0"
            ]
          },
          "metadata": {
            "tags": []
          },
          "execution_count": 7
        }
      ]
    },
    {
      "cell_type": "code",
      "metadata": {
        "id": "FHqN_fzfhESm"
      },
      "source": [
        "rank2 = pd.DataFrame(data_labeler_df[data_labeler_df['labels'] == 2])\n",
        "rank2 = rank2['tweets']\n",
        "rank3 = pd.DataFrame(data_labeler_df[data_labeler_df['labels'] == 3])\n",
        "rank3 = rank3['tweets']\n",
        "rank4 = pd.DataFrame(data_labeler_df[data_labeler_df['labels'] == 4])\n",
        "rank4 = rank4['tweets']"
      ],
      "execution_count": 8,
      "outputs": []
    },
    {
      "cell_type": "code",
      "metadata": {
        "colab": {
          "base_uri": "https://localhost:8080/"
        },
        "id": "GhZDYxq2nJUw",
        "outputId": "e6f0b855-d458-448a-874e-261455d928fb"
      },
      "source": [
        "rank2.head()"
      ],
      "execution_count": 9,
      "outputs": [
        {
          "output_type": "execute_result",
          "data": {
            "text/plain": [
              "119    UPDATE: Vacaville Police K9 Punched in the Fac...\n",
              "131    New York police department,made in Israel!! Wa...\n",
              "175    Bank holiday brawl between police and pub punt...\n",
              "187    5 Bangladeshi nationals arrested in Bengaluru ...\n",
              "200    4 volunteers with Black Protest Legal Support ...\n",
              "Name: tweets, dtype: object"
            ]
          },
          "metadata": {
            "tags": []
          },
          "execution_count": 9
        }
      ]
    },
    {
      "cell_type": "markdown",
      "metadata": {
        "id": "OZOjvpZx4u9W"
      },
      "source": [
        "# Exporting our Isolated Tweets\n",
        "\n",
        "Now that we've rittled down our dataframe to the sole column we need, it's time to export them. Pandas lacks a `.to_txt` method but can still get the job done by specifying the **type**(*in this instance, just adding .txt at the end*) of the file being exported with `.to_csv`."
      ]
    },
    {
      "cell_type": "code",
      "metadata": {
        "id": "zPZXBABGkanm"
      },
      "source": [
        "rank2.to_csv('rank2tweets.txt', sep='\\t')\n",
        "rank3.to_csv('rank3tweets.txt', sep='\\t')\n",
        "rank4.to_csv('rank4tweets.txt', sep='\\t')"
      ],
      "execution_count": 10,
      "outputs": []
    },
    {
      "cell_type": "markdown",
      "metadata": {
        "id": "BT__brhBCvJu"
      },
      "source": [
        "## Uploading a Text File to be Trained to Colab\n",
        "\n",
        "In the Colaboratory Notebook sidebar on the left of the screen, select *Files*. From there you can upload files:\n",
        "\n",
        "![alt text](https://i.imgur.com/TGcZT4h.png)\n",
        "\n",
        "Upload **any smaller text file**  (<10 MB) and update the file name in the cell below, then run the cell."
      ]
    },
    {
      "cell_type": "code",
      "metadata": {
        "id": "6OFnPCLADfll"
      },
      "source": [
        "file_name = \"rank2tweets.txt\""
      ],
      "execution_count": 11,
      "outputs": []
    },
    {
      "cell_type": "markdown",
      "metadata": {
        "id": "HeeSKtNWUedE"
      },
      "source": [
        "If your text file is larger than 10MB, it is recommended to upload that file to Google Drive first, then copy that file from Google Drive to the Colaboratory VM."
      ]
    },
    {
      "cell_type": "code",
      "metadata": {
        "id": "-Z6okFD8VKtS"
      },
      "source": [
        "gpt2.copy_file_from_gdrive(file_name)"
      ],
      "execution_count": 12,
      "outputs": []
    },
    {
      "cell_type": "markdown",
      "metadata": {
        "id": "LdpZQXknFNY3"
      },
      "source": [
        "## Finetune GPT-2\n",
        "\n",
        "The next cell will start the actual finetuning of GPT-2. It creates a persistent TensorFlow session which stores the training config, then runs the training for the specified number of `steps`. (to have the finetuning run indefinitely, set `steps = -1`)\n",
        "\n",
        "The model checkpoints will be saved in `/checkpoint/run1` by default. The checkpoints are saved every 500 steps (can be changed) and when the cell is stopped.\n",
        "\n",
        "The training might time out after 4ish hours; make sure you end training and save the results so you don't lose them!\n",
        "\n",
        "**IMPORTANT NOTE:** If you want to rerun this cell, **restart the VM first** (Runtime -> Restart Runtime). You will need to rerun imports but not recopy files.\n",
        "\n",
        "Other optional-but-helpful parameters for `gpt2.finetune`:\n",
        "\n",
        "\n",
        "*  **`restore_from`**: Set to `fresh` to start training from the base GPT-2, or set to `latest` to restart training from an existing checkpoint.\n",
        "* **`sample_every`**: Number of steps to print example output\n",
        "* **`print_every`**: Number of steps to print training progress.\n",
        "* **`learning_rate`**:  Learning rate for the training. (default `1e-4`, can lower to `1e-5` if you have <1MB input data)\n",
        "*  **`run_name`**: subfolder within `checkpoint` to save the model. This is useful if you want to work with multiple models (will also need to specify  `run_name` when loading the model)\n",
        "* **`overwrite`**: Set to `True` if you want to continue finetuning an existing model (w/ `restore_from='latest'`) without creating duplicate copies. "
      ]
    },
    {
      "cell_type": "code",
      "metadata": {
        "id": "aeXshJM-Cuaf",
        "colab": {
          "base_uri": "https://localhost:8080/"
        },
        "outputId": "4951fadb-48a8-41b9-daca-5100e6864459"
      },
      "source": [
        "sess = gpt2.start_tf_sess()\n",
        "\n",
        "gpt2.finetune(sess,\n",
        "              dataset=file_name,\n",
        "              model_name='355M',\n",
        "              steps=1000,\n",
        "              restore_from='fresh',\n",
        "              run_name='run4',\n",
        "              print_every=5,\n",
        "              sample_every=200,\n",
        "              save_every=500\n",
        "              )"
      ],
      "execution_count": 13,
      "outputs": [
        {
          "output_type": "stream",
          "text": [
            "WARNING:tensorflow:From /usr/local/lib/python3.7/dist-packages/gpt_2_simple/src/sample.py:17: where (from tensorflow.python.ops.array_ops) is deprecated and will be removed in a future version.\n",
            "Instructions for updating:\n",
            "Use tf.where in 2.0, which has the same broadcast rule as np.where\n",
            "WARNING:tensorflow:From /usr/local/lib/python3.7/dist-packages/gpt_2_simple/src/memory_saving_gradients.py:62: get_backward_walk_ops (from tensorflow.contrib.graph_editor.select) is deprecated and will be removed after 2019-06-06.\n",
            "Instructions for updating:\n",
            "Please use tensorflow.python.ops.op_selector.get_backward_walk_ops.\n",
            "Loading checkpoint models/355M/model.ckpt\n",
            "INFO:tensorflow:Restoring parameters from models/355M/model.ckpt\n",
            "Loading dataset...\n"
          ],
          "name": "stdout"
        },
        {
          "output_type": "stream",
          "text": [
            "100%|██████████| 1/1 [00:00<00:00,  7.58it/s]"
          ],
          "name": "stderr"
        },
        {
          "output_type": "stream",
          "text": [
            "dataset has 12389 tokens\n",
            "Training...\n"
          ],
          "name": "stdout"
        },
        {
          "output_type": "stream",
          "text": [
            "\n"
          ],
          "name": "stderr"
        },
        {
          "output_type": "stream",
          "text": [
            "[5 | 16.63] loss=2.84 avg=2.84\n",
            "[10 | 23.98] loss=2.94 avg=2.89\n",
            "[15 | 31.38] loss=2.29 avg=2.69\n",
            "[20 | 38.86] loss=2.46 avg=2.63\n",
            "[25 | 46.41] loss=1.51 avg=2.40\n",
            "[30 | 54.02] loss=1.65 avg=2.27\n",
            "[35 | 61.73] loss=1.17 avg=2.11\n",
            "[40 | 69.50] loss=1.28 avg=2.00\n",
            "[45 | 77.36] loss=1.22 avg=1.91\n",
            "[50 | 85.27] loss=0.62 avg=1.78\n",
            "[55 | 93.27] loss=0.60 avg=1.67\n",
            "[60 | 101.43] loss=0.47 avg=1.56\n",
            "[65 | 109.69] loss=0.75 avg=1.49\n",
            "[70 | 117.86] loss=0.30 avg=1.40\n",
            "[75 | 125.92] loss=0.52 avg=1.34\n",
            "[80 | 133.91] loss=0.30 avg=1.27\n",
            "[85 | 141.84] loss=0.21 avg=1.20\n",
            "[90 | 149.77] loss=0.27 avg=1.15\n",
            "[95 | 157.71] loss=0.23 avg=1.09\n",
            "[100 | 165.64] loss=0.50 avg=1.06\n",
            "[105 | 173.62] loss=0.10 avg=1.01\n",
            "[110 | 181.65] loss=0.15 avg=0.97\n",
            "[115 | 189.69] loss=0.09 avg=0.92\n",
            "[120 | 197.75] loss=0.08 avg=0.88\n",
            "[125 | 205.77] loss=0.12 avg=0.85\n",
            "[130 | 213.80] loss=0.09 avg=0.82\n",
            "[135 | 221.79] loss=0.07 avg=0.78\n",
            "[140 | 229.78] loss=0.13 avg=0.76\n",
            "[145 | 237.75] loss=0.07 avg=0.73\n",
            "[150 | 245.73] loss=0.06 avg=0.71\n",
            "[155 | 253.74] loss=0.08 avg=0.68\n",
            "[160 | 261.74] loss=0.05 avg=0.66\n",
            "[165 | 269.76] loss=0.05 avg=0.64\n",
            "[170 | 277.76] loss=0.09 avg=0.62\n",
            "[175 | 285.78] loss=0.10 avg=0.60\n",
            "[180 | 293.81] loss=0.09 avg=0.58\n",
            "[185 | 301.85] loss=0.05 avg=0.57\n",
            "[190 | 309.87] loss=0.07 avg=0.55\n",
            "[195 | 317.90] loss=0.05 avg=0.54\n",
            "[200 | 325.94] loss=0.07 avg=0.52\n",
            "======== SAMPLE 1 ========\n",
            " her with his hand on her neck.\n",
            "2049\tPolice approach protesters standing in the street near 11th and Pine. A scuffle begins and protesters are shoved. Police arrest one protester and he states he was sexually assault.\n",
            "2121\t\"Multiple police officers tackle a woman in a truck. As she states she was beaten by police, a later release states she was arrested for assault of an officer. In addition, information from a prior arrest shows a blue shirt with a Sacramento Police Department emblazoned on it. This truck was registered to a man named Eric Jones, who was subsequently arrested for murder. His body was found a short time later. Police claimed he died of asphyxia due to restraint in a violent arrest. However, medical examiners concluded the cause of his death was asphyxia due to restraint.\"\n",
            "2166\t\"A protest marshal was singled out and arrested near Forbes and Oakland. Plainclothes officers emerged from an unmarked van, grabbed him off the sidewalk, and drove away. He was charged with \"\"Obstructing Highways and Other Public Passages.\"\"\"\n",
            "2214\t\"Footage was taken at the intersection of N 70th Street and W North Avenue in Wauwatosa, Wisconsin. Officers in a passing car yell at an individual on the sidewalk to go inside. The officer clarifies that the filmer is exempt, as \"\"ACLU is fine.\"\" The officer then proceeds to arrest the individual on the sidewalk, flipping the individual over his knee, and kneeling on his back. Several officers come to aid in making the arrest. Officers continue to tell the individual to stop resisting, though the individual is pinned to the ground. It is unclear if the individual was related to a protest, but they appear to be wearing a bathrobe, which might suggest they are not prepared for a protest.\"\n",
            "2236\tFootage shows police approaching a crowd of protesters, singling out livestreamer Hiram Gilberto and arresting him. When the crowd objects, other officers shove the protesters. Additional footage shows Gilberto tackled to the ground, zip-tied and punched.\n",
            "2247\tFootage shows police standing off against a small group of press on the sidewalk. Officers grab one individual, alleged to be press though not clearly marked, and force them to the ground for arrest. The individual passively resists by going limp. One officer kneels on the individual while making the arrest. The event is believed to have occurred on Moody Street near the ICE facility.\n",
            "2399\tProtesters and police stand off in the streets near Peninsula Park. Protesters have formed a line of wooden shields. Police charge at the line, striking protesters with batons. A drummer is tackled to the ground and beaten with batons.\n",
            "2424\tFootage shows violent arrests of 2 protesters. Multiple officers grab the individuals, shoving and pulling them. The officers also shove numerous protesters out of the way. One of the arrestees was a minor and charges were not filed against them. Police claim the individuals were blocking the street, but the line is clearly labeled as unlawful. Police claim the individuals were aggressive, but there is no indication that the individuals were under the influence of drugs or alcohol. One arrestee was briefly detained by police before being released.\"\n",
            "2523\t\"Footage from June 29th shows a standoff between protesters and police. Police tape divides the two groups. Additional officers approach the line, then charge across at protesters without warning. One protester, Sean, is seen thrown to the ground and arrested with his hands held behind his back. Sean labels himself a \"\"protest observer;\"\" while not officially press, he focuses on filming protests, rather than participating. He can be heard screaming in pain during the arrest. He allegedly waited 20 minutes in handcuffs for EMS to arrive.\"\n",
            "2844\tMembers of the Unified Command (Multnomah County Sheriff’s Office, Portland Police Bureau and Oregon State Police) made several violent arrests at SW Park and Washington, with one officer knocking a protester to the ground as they attempted to stand.\n",
            "3021\tOn June 5th, protesters gathered outside the North Precinct on Killingsworth Street. As police cleared debris from the road, an individual was seen filming them from the sidewalk. An officer approached the individual while shouting and knocked the camera out of their hands, causing minor damage.\n",
            "3046\tFootage from around 1:30 AM outside the US District Courthouse shows a federal officer shoving an individual to the ground. The individual was standing still and holding a large camera.\n",
            "3067\tFootage shows a small group of mounted officers riding into a group of protesters gathered in the street. The officers use their horses to shove protesters aside. No protesters were trampled underhoof, but the justification for escalation is unclear.\n",
            "3079\tFootage shows an officer using his horse to shove multiple arrestsees away. The officers' distance to the protesters complicates matters. The officers may have been targeting two or more protesters. Additional footage shows multiple\n",
            "\n",
            "[205 | 356.61] loss=0.06 avg=0.51\n",
            "[210 | 364.67] loss=0.05 avg=0.49\n",
            "[215 | 372.71] loss=0.04 avg=0.48\n",
            "[220 | 380.76] loss=0.04 avg=0.47\n",
            "[225 | 388.78] loss=0.03 avg=0.46\n",
            "[230 | 396.81] loss=0.04 avg=0.45\n",
            "[235 | 404.86] loss=0.05 avg=0.44\n",
            "[240 | 412.89] loss=0.04 avg=0.43\n",
            "[245 | 420.92] loss=0.04 avg=0.42\n",
            "[250 | 428.98] loss=0.03 avg=0.41\n",
            "[255 | 437.04] loss=0.07 avg=0.40\n",
            "[260 | 445.09] loss=0.05 avg=0.39\n",
            "[265 | 453.14] loss=0.10 avg=0.38\n",
            "[270 | 461.22] loss=0.05 avg=0.37\n",
            "[275 | 469.31] loss=0.03 avg=0.37\n",
            "[280 | 477.39] loss=0.03 avg=0.36\n",
            "[285 | 485.46] loss=0.05 avg=0.35\n",
            "[290 | 493.54] loss=0.04 avg=0.34\n",
            "[295 | 501.62] loss=0.07 avg=0.34\n",
            "[300 | 509.69] loss=0.07 avg=0.33\n",
            "[305 | 517.77] loss=0.04 avg=0.33\n",
            "[310 | 525.84] loss=0.04 avg=0.32\n",
            "[315 | 533.90] loss=0.03 avg=0.31\n",
            "[320 | 541.97] loss=0.03 avg=0.31\n",
            "[325 | 550.03] loss=0.04 avg=0.30\n",
            "[330 | 558.09] loss=0.05 avg=0.30\n",
            "[335 | 566.16] loss=0.04 avg=0.29\n",
            "[340 | 574.21] loss=0.09 avg=0.29\n",
            "[345 | 582.27] loss=0.04 avg=0.28\n",
            "[350 | 590.32] loss=0.04 avg=0.28\n",
            "[355 | 598.39] loss=0.05 avg=0.27\n",
            "[360 | 606.41] loss=0.09 avg=0.27\n",
            "[365 | 614.42] loss=0.03 avg=0.26\n",
            "[370 | 622.47] loss=0.06 avg=0.26\n",
            "[375 | 630.54] loss=0.04 avg=0.26\n",
            "[380 | 638.59] loss=0.03 avg=0.25\n",
            "[385 | 646.63] loss=0.04 avg=0.25\n",
            "[390 | 654.66] loss=0.04 avg=0.24\n",
            "[395 | 662.71] loss=0.05 avg=0.24\n",
            "[400 | 670.76] loss=0.05 avg=0.24\n",
            "======== SAMPLE 1 ========\n",
            " against the wall of her apartment. She was thrown to the ground and arrested.\n",
            "3674\tRayne Valentine, a hospital employee in Brooklyn, states he was walking home on the night of the 31st after an overtime shift assisting with COVID-19 care. Valentine states he saw police chasing a teen and began recording. After a short interaction, police began beating Valentine. He states that police then threw his phone to him and left. Valentine then walked back to the hospital, where he received 2 CT scans and 7 staples.\n",
            "3727\tFootage shows riot police suddenly charge into a crowd, potentially chasing a fleeing suspect. However, they shove their way through the crowd, striking peaceful protesters. They can be seen throwing multiple individuals to the ground and kicking one.\n",
            "3733\tFootage shows a police line advancing down Main towards protesters. A protester is walking backwards with his hands up, speaking to police. An officer shoves him, then a second maces him.\n",
            "3740\tA police officer shoves aside another officer restraining a suspect so he can put his knee on the suspect’s neck.\n",
            "3746\tA suburban Boston police officer who became a national hero in 2013 when he tackled one of the Boston Marathon bombers retired from the only job he says he ever wanted. https://t.co/QW7Ud4EXm8\n",
            "3784\tOfficers push protesters down the street. One protester turns to face officers. An officer squeezes one of her breasts, then the other, to push her away. Another individual, allegedly her boyfriend, tries to intervene and is shoved into the bushes then arrested. The woman is shoved down the street.\n",
            "3785\tPolice chase protester and attack him on the ground while on live TV.\n",
            "3796\tPolice raid gay wedding in Uganda, arrest 44 https://t.co/jmjaRNY1Rg Police in Nansana ... https://t.co/jmjaRNY1Rg\n",
            "3800\tNear 3rd and Salmon, a protester is held face-down on the ground by an officer. The protester is punched and struck by another officer with a baton. The protester is then arrested.\n",
            "3820\t\"Reporter Josie Huang was covering the shooting of 2 LASD officers and a small ensuing protest in LA when she was arrested for \"\"obstruction of justice;\"\" Huang states she was simply documenting an arrest. In addition, officers claim she was not properly identified, but footage shows a LASD-issued press pass around her neck. Huang was released early on September 13th. Footage Huang uploaded following her release shows officers shoving her and knocking her phone to the ground. Officers then step on and kick the phone while Huang can be heard stating that officers are hurting her.\"\n",
            "3830\tFootage taken at E 136th St and Brook Ave in the Bronx shows police pointing out and attempting to apprehend protest organizer Shannon Jones. She retreats onto the sidewalk and the crowd of protesters protects her. Police then charge into the crowd. A white-shirted officer isolates Shannon, chokes, grabs, and shoves her. When another protester intervenes, the officer punches him and shoves him away. Jones is then arrested.\n",
            "3853\tProtesters were seen yelling at police from the sidewalk near an outside dining area on Hudson Street and West 10th. Without warning, police charged, pushing, shoving, and arresting numerous protesters. Police disrupted diners, forcing them to move from their tables as bike police formed a line cutting through the outdoor dining area.\n",
            "3873\tFootage from late on June 27th, police charge a protester walking away from them. She is grabbed by multiple officers, both on bike and on foot. The police then arrest her. She drops several water bottles out of her hands. Protesters state she was passing out water bottles to thirsty protesors.\n",
            "3933\tFootage uploaded shortly before midnight on July 16th shows police and protesters standing off outside the Penumbra Kelly Building. Without warning, police charge at protesters, striking, shoving and arresting them.\n",
            "3953\tPolice shove a protester into the crowd near 3rd and Taylor. The protester is then shoved against a concrete wall.\n",
            "4015\tPolice shove a protester into the crowd near 3rd and Taylor. The protester is then shoved against a concrete wall.\n",
            "4125\tPolice shove a protester into the crowd near 3rd and Taylor. The protester is thrown to the ground and arrested.\n",
            "4161\tMetro police grapple with counter-protesters at a WalkAway rally. Several Black Lives Matter protesters are pushed, tackled and arrested. It is unclear how the altercation began.\n",
            "4196\tPolice charge protesters without warning, shoving several to the ground. One officer grabs a protester’s belongings, throwing and kicking them away. This occurred at a protest outside Mayor Ted Wheeler’s condo on NW Glisan and NW 10th.\n",
            "4214\t\n",
            "\n",
            "[405 | 699.43] loss=0.02 avg=0.23\n",
            "[410 | 707.47] loss=0.03 avg=0.23\n",
            "[415 | 715.49] loss=0.03 avg=0.23\n",
            "[420 | 723.52] loss=0.04 avg=0.22\n",
            "[425 | 731.57] loss=0.02 avg=0.22\n",
            "[430 | 739.60] loss=0.03 avg=0.22\n",
            "[435 | 747.64] loss=0.02 avg=0.21\n",
            "[440 | 755.68] loss=0.05 avg=0.21\n",
            "[445 | 763.71] loss=0.04 avg=0.21\n",
            "[450 | 771.75] loss=0.04 avg=0.20\n",
            "[455 | 779.79] loss=0.02 avg=0.20\n",
            "[460 | 787.85] loss=0.02 avg=0.20\n",
            "[465 | 795.87] loss=0.02 avg=0.20\n",
            "[470 | 803.89] loss=0.03 avg=0.19\n",
            "[475 | 811.93] loss=0.03 avg=0.19\n",
            "[480 | 819.94] loss=0.01 avg=0.19\n",
            "[485 | 827.96] loss=0.03 avg=0.18\n",
            "[490 | 836.03] loss=0.02 avg=0.18\n",
            "[495 | 844.08] loss=0.07 avg=0.18\n",
            "[500 | 852.13] loss=0.06 avg=0.18\n",
            "Saving checkpoint/run4/model-500\n",
            "[505 | 867.83] loss=0.04 avg=0.18\n",
            "[510 | 875.87] loss=0.05 avg=0.17\n",
            "[515 | 884.08] loss=0.02 avg=0.17\n",
            "[520 | 892.31] loss=0.03 avg=0.17\n",
            "[525 | 900.46] loss=0.04 avg=0.17\n",
            "[530 | 908.57] loss=0.02 avg=0.17\n",
            "[535 | 916.62] loss=0.03 avg=0.16\n",
            "[540 | 924.66] loss=0.03 avg=0.16\n",
            "[545 | 932.66] loss=0.04 avg=0.16\n",
            "[550 | 940.68] loss=0.04 avg=0.16\n",
            "[555 | 948.68] loss=0.05 avg=0.16\n",
            "[560 | 956.72] loss=0.05 avg=0.15\n",
            "[565 | 964.79] loss=0.08 avg=0.15\n",
            "[570 | 972.85] loss=0.04 avg=0.15\n",
            "[575 | 980.93] loss=0.03 avg=0.15\n",
            "[580 | 989.02] loss=0.03 avg=0.15\n",
            "[585 | 997.10] loss=0.03 avg=0.15\n",
            "[590 | 1005.18] loss=0.05 avg=0.15\n",
            "[595 | 1013.25] loss=0.04 avg=0.14\n",
            "[600 | 1021.32] loss=0.06 avg=0.14\n",
            "======== SAMPLE 1 ========\n",
            " at a protest,\" wrote one observer on Twitter.\n",
            "1171\tAt a protest in Atlanta, police aggressively push protesters down the street, shouting \"\"Move back.\"\" As protesters spread out, police snatched several for arrest. When protesters attempted to intervene, police shoved and pepper-sprayed them.\"\n",
            "1177\tLocal police observed a suspect hit his girlfriend in a Walgreens parking lot. Giving chase, the suspect lit out and started a two-minute, 100 MPH chase south on Reading Road that ended with a crash with Trapp’s car. Trapp was thrown from her vehicle and died at the scene. One of seven chase fatalities in the Cincinnati area within a four-month period.\n",
            "1193\tAfter a protester is pepper sprayed, other protesters gather around the protester while a medic treats them. The filmer is struck repeatedly by an officer with a baton and shoved to the ground, apparently injuring his knee.\n",
            "1296\tProtesters and medics worked together to treat a protester at a protest. A journalist was attempting to film an arrest when he was detained and handcuffed by police, even though he had a press pass and repeatedly stated he was with the press. He states he was later released on the condition he did not return to the park that night.\n",
            "1299\t\"Samuel Edwards was riding in a bike lane at about 11:30 p.m. when police said he cut in front of a sergeant’s car and was hit. Police said the sergeant could not avoid hitting Edwards. A neighbor said she saw Edwards on the ground with his bike, an old 10-speed with a baby seat on the back. The police car’s front bumper and hood were dented, she said. \"\"It looked like maybe he had hit a tree.\"\"\"\n",
            "1348\tAfter protesters are pepper sprayed, other protesters gather around the protester while a medic treats them. The journalist was struck repeatedly by an officer with a baton and shoved to the ground, apparently injuring his knee.\n",
            "1356\t\"Samuel Edwards was riding in a bike lane at about 11:30 p.m. when police said he was hit by a police car’s front bumper and hood. Police said the driver, who’s in police custody, could not avoid hitting Edwards. A witness didn’t see Edwards on the ground with his bike, an old 10-speed with a baby seat on the back. The police car’s front bumper and hood were dented, she said. \"\"It looked like maybe he had hit a tree.\"\"\n",
            "1373\tFootage shows police approaching a crowd of protesters, singling out livestreamer Hiram Gilberto and arresting him. When the crowd objects, other officers shove the protesters. Additional footage shows Gilberto tackled to the ground, zip-tied and punched.\n",
            "1395\t\"Footage shows police standing off against a small group of press on the sidewalk. Officers grab one individual, alleged to be press though not clearly marked, and force them to the ground for arrest. The individual passively resists by going limp. One officer kneels on the individual while making the arrest. The event is believed to have occurred on Moody Street near the ICE facility. ICE has a picket line outside the facility, but the line is kept open by police locking up protesters in the street. When the ICE officers are done making the arrest, a second officer shoves protesters out of the way. This incident occurred at Bicknell and Cypress.\"\n",
            "1512\t\"A protest marshal was singled out and arrested near Forbes and Oakland. Plainclothes officers emerged from an unmarked van, grabbed him off the sidewalk, and drove away. He was charged with \"\"Obstructing Highways and Other Public Passages.\"\"\"\n",
            "1520\t\"Footage was taken at the intersection of N 70th Street and W North Avenue in Wauwatosa, Wisconsin. Officers in a passing car yell at an individual on the sidewalk to go inside. The officer clarifies that the filmer is exempt, as \"\"ACLU is fine.\"\" The officer then proceeds to arrest the individual on the sidewalk, flipping the individual over his knee, and kneeling on his back. Several officers come to aid in making the arrest. Officers continue to tell the individual to stop resisting, though the individual is pinned to the ground. It is unclear if the individual was related to a protest, but they appear to be wearing a bathrobe, which might suggest they are not prepared for a protest.\"\n",
            "1525\t\"A protest marshal was singled out and arrested near Forbes and Oakland. Plainclothes officers emerged from an unmarked van, grabbed him off the sidewalk, and drove away. He was charged with \"\"Obstructing Highways and Other Public Passages.\"\"\"\n",
            "1532\t\"Footage was taken at an intersection in the 1000 block of W North Avenue in Wauwatosa, Wisconsin. Officers in a passing car yell at an individual on the sidewalk to go inside.\n",
            "\n",
            "[605 | 1049.77] loss=0.03 avg=0.14\n",
            "[610 | 1057.78] loss=0.05 avg=0.14\n",
            "[615 | 1065.82] loss=0.06 avg=0.14\n",
            "[620 | 1073.86] loss=0.04 avg=0.14\n",
            "[625 | 1081.89] loss=0.03 avg=0.14\n",
            "[630 | 1089.96] loss=0.02 avg=0.13\n",
            "[635 | 1098.01] loss=0.06 avg=0.13\n",
            "[640 | 1106.08] loss=0.02 avg=0.13\n",
            "[645 | 1114.15] loss=0.05 avg=0.13\n",
            "[650 | 1122.22] loss=0.02 avg=0.13\n",
            "[655 | 1130.28] loss=0.03 avg=0.13\n",
            "[660 | 1138.34] loss=0.01 avg=0.13\n",
            "[665 | 1146.40] loss=0.04 avg=0.12\n",
            "[670 | 1154.46] loss=0.02 avg=0.12\n",
            "[675 | 1162.53] loss=0.01 avg=0.12\n",
            "[680 | 1170.57] loss=0.02 avg=0.12\n",
            "[685 | 1178.61] loss=0.05 avg=0.12\n",
            "[690 | 1186.63] loss=0.02 avg=0.12\n",
            "[695 | 1194.64] loss=0.02 avg=0.12\n",
            "[700 | 1202.67] loss=0.03 avg=0.12\n",
            "[705 | 1210.71] loss=0.04 avg=0.12\n",
            "[710 | 1218.73] loss=0.04 avg=0.11\n",
            "[715 | 1226.75] loss=0.03 avg=0.11\n",
            "[720 | 1234.80] loss=0.04 avg=0.11\n",
            "[725 | 1242.81] loss=0.03 avg=0.11\n",
            "[730 | 1250.85] loss=0.05 avg=0.11\n",
            "[735 | 1258.88] loss=0.03 avg=0.11\n",
            "[740 | 1266.94] loss=0.04 avg=0.11\n",
            "[745 | 1274.99] loss=0.04 avg=0.11\n",
            "[750 | 1283.02] loss=0.02 avg=0.11\n",
            "[755 | 1291.09] loss=0.03 avg=0.11\n",
            "[760 | 1299.16] loss=0.03 avg=0.10\n",
            "[765 | 1307.21] loss=0.05 avg=0.10\n",
            "[770 | 1315.24] loss=0.03 avg=0.10\n",
            "[775 | 1323.30] loss=0.02 avg=0.10\n",
            "[780 | 1331.38] loss=0.02 avg=0.10\n",
            "[785 | 1339.46] loss=0.04 avg=0.10\n",
            "[790 | 1347.52] loss=0.05 avg=0.10\n",
            "[795 | 1355.57] loss=0.03 avg=0.10\n",
            "[800 | 1363.63] loss=0.09 avg=0.10\n",
            "======== SAMPLE 1 ========\n",
            " believed in. They are shouting.\"\n",
            "3520\tFootage from around 2 a.m. outside the US District Courthouse shows a federal officer shoving an individual to the ground. The individual is slammed face first into the pavement.\n",
            "3530\tFootage shows a federal officer and an individual fighting outside the Penumbra Kelly Building. The individual is shoved against a knee high concrete barrier.\n",
            "3546\tAfter protesters broke a few police vehicle windows near California 9th and Pine in Cal Anderson's honor, police gave a dispersal order and fired smoke and stun grenades. Protesters again broke several police vehicle windows, and stepped on several officers. One officer is seen walking through protesters and stepping on their bikes.\n",
            "3566\tShortly after midnight on August 23rd, police disperse protesters on the sidewalk. Police can be seen shoving two individuals obeying police direction. Officers then confront members of the Wall of Moms (noted by yellow shirts) sitting on the grass and shove them. This protest occurred on residential streets near Normandale Park.\n",
            "3627\tFootage shows officers repeatedly striking protesters with bicycles. The exact location is uncertain, though around 7:30 PM, the protest was at Belmont Rd and Columbia Rd, before ending around 10:30 PM at 14th St and U St.\n",
            "3653\tOn May 29th, an officer slams a woman on to the ground, breaking her clavicle. The incident took place near Lenox Square mall in the Buckhead area of Atlanta.\n",
            "3727\tLaMont Robinson died July 10, 2004, seven months after he’d slipped into a coma during an altercation with police who used a chokehold to prevent him from swallowing what they believed was crack cocaine.\n",
            "3733\tPolice declare unlawful assembly at protest; singling out livestreamer Hiram Gilberto for arrest. Hiram is held in a cell with his hands bound behind his back. He can be heard screaming in pain during the arrest.\n",
            "3740\t\"Footage shows officers repeatedly striking protesters with bicycles. Several protesters are shoved, thrown to the ground or tackled. The videographer states they were pepper-sprayed. Haris Yahya, a journalist, was detained by police and zip-tied before being released. He says he was beaten by police, his bike was impounded, and his phone thrown. He says he was later released on the condition he did not return to the park that night. He lives somewhere in the Capitol Hill neighborhood of Seattle.\"\n",
            "3746\tPolice declare unlawful assembly; pepper-spray protesters. Haris Yahya, a journalist, was thrown to the ground and handcuffed by four officers. He says he was beaten by police, his bike was impounded, and his phone thrown. He was later released on the condition he did not return to the park that night.\n",
            "3784\tFour police officers and a protester are seen locking arms and stand shoulder to shoulder. Police declare unlawful assembly and order protesters to disperse. Protesters assemble around an officer and are shoved. The officer is then forced to the ground and handcuffed by four more officers.\n",
            "3785\tA protester is seen locked in a chokehold by an officer. The protester is then pushed off towards the sidewalk as she refuses to be cornered. Police then throw her onto the grass and kneel on her to make the arrest.\n",
            "3796\tPolice then throw protesters off balance and kneel on their necks to make the arrest. Other protesters then crowd around to document. An officer shoves a protester away. The protester is then bundled into a squad car and driven away.\n",
            "3899\t\"Police arrived at E 136th St and Brook Ave in the Bronx at about 8 p.m. after a woman reported a man was raping and beating her. She said he then drove off in her car, chased police and beat a female journalist who had just been fired.\"\n",
            "3933\t\"Police arrested a protester near the North Precinct; press gather around to document. An officer shoves members of the press away. The journalists had allegedly been told minutes prior by another officer that their distance to the arrest was allowed.\n",
            "3953\tFootage shows protesters facing police on the sidewalk. A protester steps forward near police and appears to say something. An officer shoves the protester and yells: \"\"Back up.\"\"\"\n",
            "4015\t\"Police arrest a protester near the North Precinct; press gather around to document. An officer shoves members of the press back. The journalists had allegedly been told minutes prior by another officer that their distance to the arrest was allowed.\"\n",
            "4125\tA protester is seen walk side-by-side with an officer. The officer steps in front of him and stops such that the protester lightly grazes the officer. Numerous police officers then throw the man to the ground and kneel on his neck to make the arrest. News outlets around the 10:30 mark of the video report that protesters were blocked off in the street, in clear view of police,\n",
            "\n",
            "[805 | 1392.03] loss=0.04 avg=0.10\n",
            "[810 | 1400.07] loss=0.02 avg=0.10\n",
            "[815 | 1408.10] loss=0.03 avg=0.10\n",
            "[820 | 1416.12] loss=0.02 avg=0.09\n",
            "[825 | 1424.16] loss=0.04 avg=0.09\n",
            "[830 | 1432.19] loss=0.04 avg=0.09\n",
            "[835 | 1440.26] loss=0.05 avg=0.09\n",
            "[840 | 1448.31] loss=0.04 avg=0.09\n",
            "[845 | 1456.38] loss=0.03 avg=0.09\n",
            "[850 | 1464.46] loss=0.04 avg=0.09\n",
            "[855 | 1472.52] loss=0.03 avg=0.09\n",
            "[860 | 1480.61] loss=0.06 avg=0.09\n",
            "[865 | 1488.69] loss=0.04 avg=0.09\n",
            "[870 | 1496.79] loss=0.03 avg=0.09\n",
            "[875 | 1504.87] loss=0.04 avg=0.09\n",
            "[880 | 1512.97] loss=0.03 avg=0.09\n",
            "[885 | 1521.02] loss=0.04 avg=0.09\n",
            "[890 | 1529.06] loss=0.03 avg=0.09\n",
            "[895 | 1537.10] loss=0.02 avg=0.08\n",
            "[900 | 1545.09] loss=0.11 avg=0.09\n",
            "[905 | 1553.13] loss=0.07 avg=0.09\n",
            "[910 | 1561.17] loss=0.12 avg=0.09\n",
            "[915 | 1569.21] loss=0.11 avg=0.09\n",
            "[920 | 1577.23] loss=0.03 avg=0.09\n",
            "[925 | 1585.26] loss=0.05 avg=0.08\n",
            "[930 | 1593.30] loss=0.05 avg=0.08\n",
            "[935 | 1601.33] loss=0.08 avg=0.08\n",
            "[940 | 1609.36] loss=0.20 avg=0.09\n",
            "[945 | 1617.40] loss=0.05 avg=0.09\n",
            "[950 | 1625.44] loss=0.03 avg=0.08\n",
            "[955 | 1633.49] loss=0.04 avg=0.08\n",
            "[960 | 1641.53] loss=0.09 avg=0.08\n",
            "[965 | 1649.59] loss=0.02 avg=0.08\n",
            "[970 | 1657.62] loss=0.04 avg=0.08\n",
            "[975 | 1665.66] loss=0.05 avg=0.08\n",
            "[980 | 1673.74] loss=0.07 avg=0.08\n",
            "[985 | 1681.80] loss=0.04 avg=0.08\n",
            "[990 | 1689.83] loss=0.04 avg=0.08\n",
            "[995 | 1697.91] loss=0.04 avg=0.08\n",
            "[1000 | 1705.94] loss=0.05 avg=0.08\n",
            "Saving checkpoint/run4/model-1000\n",
            "WARNING:tensorflow:From /tensorflow-1.15.2/python3.7/tensorflow_core/python/training/saver.py:963: remove_checkpoint (from tensorflow.python.training.checkpoint_management) is deprecated and will be removed in a future version.\n",
            "Instructions for updating:\n",
            "Use standard file APIs to delete files with this prefix.\n"
          ],
          "name": "stdout"
        }
      ]
    },
    {
      "cell_type": "markdown",
      "metadata": {
        "id": "IXSuTNERaw6K"
      },
      "source": [
        "After the model is trained, you can copy the checkpoint folder to your own Google Drive.\n",
        "\n",
        "If you want to download it to your personal computer, it's strongly recommended you copy it there first, then download from Google Drive. The checkpoint folder is copied as a `.rar` compressed file; you can download it and uncompress it locally."
      ]
    },
    {
      "cell_type": "code",
      "metadata": {
        "id": "VHdTL8NDbAh3"
      },
      "source": [
        "gpt2.copy_checkpoint_to_gdrive(run_name='run4')"
      ],
      "execution_count": 14,
      "outputs": []
    },
    {
      "cell_type": "markdown",
      "metadata": {
        "id": "qQJgV_b4bmzd"
      },
      "source": [
        "You're done! Feel free to go to the **Generate Text From The Trained Model** section to generate text based on your retrained model."
      ]
    },
    {
      "cell_type": "markdown",
      "metadata": {
        "id": "pel-uBULXO2L"
      },
      "source": [
        "## Load a Trained Model Checkpoint\n",
        "\n",
        "Running the next cell will copy the `.rar` checkpoint file from your Google Drive into the Colaboratory VM."
      ]
    },
    {
      "cell_type": "code",
      "metadata": {
        "id": "DCcx5u7sbPTD"
      },
      "source": [
        "gpt2.copy_checkpoint_from_gdrive(run_name='run4')"
      ],
      "execution_count": 4,
      "outputs": []
    },
    {
      "cell_type": "markdown",
      "metadata": {
        "id": "RTa6zf3e_9gV"
      },
      "source": [
        "The next cell will allow you to load the retrained model checkpoint + metadata necessary to generate text.\n",
        "\n",
        "**IMPORTANT NOTE:** If you want to rerun this cell, **restart the VM first** (Runtime -> Restart Runtime). You will need to rerun imports but not recopy files."
      ]
    },
    {
      "cell_type": "code",
      "metadata": {
        "id": "-fxL77nvAMAX",
        "colab": {
          "base_uri": "https://localhost:8080/"
        },
        "outputId": "3335efd2-70c9-4171-b056-5d44e0db30a5"
      },
      "source": [
        "sess = gpt2.start_tf_sess()\n",
        "gpt2.load_gpt2(sess, run_name='run4')"
      ],
      "execution_count": 5,
      "outputs": [
        {
          "output_type": "stream",
          "text": [
            "Loading checkpoint checkpoint/run4/model-1000\n",
            "INFO:tensorflow:Restoring parameters from checkpoint/run4/model-1000\n"
          ],
          "name": "stdout"
        }
      ]
    },
    {
      "cell_type": "markdown",
      "metadata": {
        "id": "ClJwpF_ACONp"
      },
      "source": [
        "## Generate Text From The Trained Model\n",
        "\n",
        "After you've trained the model or loaded a retrained model from checkpoint, you can now generate text. `generate` generates a single text from the loaded model."
      ]
    },
    {
      "cell_type": "code",
      "metadata": {
        "id": "4RNY6RBI9LmL",
        "colab": {
          "base_uri": "https://localhost:8080/"
        },
        "outputId": "062434dd-c411-4159-b383-fbeee9f45548"
      },
      "source": [
        "gpt2.generate(sess, run_name='run4')"
      ],
      "execution_count": 6,
      "outputs": [
        {
          "output_type": "stream",
          "text": [
            "4704\tA protester is seen walk side-by-side with an officer. The officer steps in front of him and stops such that the protester lightly grazes the officer. Numerous police officers then throw the man to the ground and kneel on his neck to make the arrest. News outlets state this occurred near Hempstead and Merrick.\n",
            "4746\tAt a protest near the State Capitol Building, police pushed protesters down the street, shouting \"\"Move back.\"\" As protesters spread out, police snatched several for arrest. When protesters attempted to intervene, police shoved and pepper-sprayed them.\n",
            "4753\tMembers of the Unified Command (Multnomah County Sheriff’s Office, Portland Police Bureau and Oregon State Police) charged protesters at Harvey Milk and 10th Streets, knocking several protesters to the ground, as well as a 75 year old photojournalist.\n",
            "4794\tLas Vegas police spotted a stolen car and followed it until both of the people inside stopped and ran away. Three officers pursued Keith Alan Engel until one of the officers tackled him. Engel and the officer scuffled and Engel grabbed the officer’s handgun and tried to pull it out of her holster.\n",
            "4802\tProtesters camped out front of city hall demanding the resignation of Rochester mayor, Lovely Warren, and the arrests of the officers involved in the Daniel Prude case. Police assembled around 8:30 AM on Wednesday to disperse protesters. Police first pushed protesters off City Hall property, into the street. Police then gave a dispersal order, telling protesters to leave the street and sidewalk. Two officers suddenly charged at protesters, shoving one to the ground. Police chased several other protesters then returned to their line.\n",
            "4890\t\"Footage shows police arresting a woman. A man who walked nearby with his hands up is thrown to the ground by two officers and arrested. Additional footage shows an officer grabbing the breast of the woman arrested. It should be noted that police use an \"\"open hand\"\" frisking technique to check along the breasts during an arrest. However the officer does not appear to be using an open hand and appears to be grabbing the woman, rather than frisking her. While having a male officer frisk a female protester without warning is a point of controversy, this incident appears to be outside police guidelines even discounting that fact.\"\n",
            "4907\tIn an incident at 17 Battery Place in Manhattan, police are forcibly arresting several protesters on a paved pedestrian area. A protester argues with an officer. The officer shoves her and grabs her by the hair. Another officer joins in; the two grab her by the arms, force her to the ground, and one officer kneels on the protester to arrest her.\n",
            "4933\tFollow up : The attacker, who’s in police custody, walloped the 55-year-old woman in the head as she walked by him on Bayard St. near Mott St. at about 6:15 p.m. Several onlookers followed the suspect around the block, where police arrested him.\n",
            "4953\t\"Alleged looters and the owner and employees at a liquor store stood off outside store. A crowd had assembled to help the employees. Seeing a police cruiser passing by, one black employee flagged down the officers to request help. The employee was arrested, along with her husband and others helping them, while the alleged looters ran off. The employee says she told police they had the wrong people and the criminals were getting away. She says the officer arresting her said, \"\"I don’t care about them.\"\" In addition, she says she was thrown against a wall when arrested.\"\n",
            "5005\tProtesters camped out front of city hall demanding the resignation of Rochester mayor, Lovely Warren, and the arrests of the officers involved in the Daniel Prude case. Police assembled around 8:30 AM on Wednesday to disperse protesters. Police first pushed protesters off City Hall property, into the street. Police then gave a dispersal order, telling protesters to leave the street and sidewalk. Two officers suddenly charged at protesters, shoving one to the ground. Police chased several other protesters then returned to their line.\n",
            "5064\t\"Footage shows police arresting a woman. A man who walked nearby with his hands up is thrown to the ground by two officers and arrested. Additional footage shows an officer grabbing the breast of the woman arrested. It should be noted that police use an open hand to check along the breasts during an arrest. However the officer does not appear to be using an open hand and appears to be grabbing the woman, rather than frisking her. While having a male officer frisk a female protester without warning is a point of controversy, this incident appears to be outside police guidelines even discounting that fact.\"\n",
            "5078\tIn an incident at 17 Battery Place in Manhattan, police are forcibly arresting several protesters on a paved pedestrian area. A protester argues with an officer. The officer shoves her and grabs her by the hair. Another officer joins in;\n"
          ],
          "name": "stdout"
        }
      ]
    },
    {
      "cell_type": "markdown",
      "metadata": {
        "id": "ca70Ymup9eQW"
      },
      "source": [
        "# Analysis of Generated Tweets\n",
        "\n",
        "Some of the tweets it's generating are actually the exact same tweets its been trained on.\n",
        "\n",
        "\"*Villanueva’s garment factory co-workers called police for help with his epileptic seizure. They arrived and found him uncooperative and combative. Wrestled to the ground and handcuffed by four officers, witnesses described police shouting for him to speak English, and taking his foaming at the mouth as a sign of drug use. He died of \"\"mechanical asphyxia following physical restraint\"\". The four were charged with manslaughter.*\"\n",
        "\n",
        "I found this tweet with a Google Search, while the tweet below was original:\n",
        "\n",
        "\"*According to police, officers responded at about 8 p.m. to a report that a man was breaking up an apartment. \"\"He was covered with blood when the officers arrived,\"\" said sheriff’s Capt. Mike McCabe. Officers alleged that Custer confronted them, then went into apparent cardiac arrest as they tried to restrain him. Custer died at a hospital at about 9 p.m. Custer’s family said the cause of his death was positional asphyxiation.*\"\n",
        "\n",
        "Considering the realism of both tweets, both the regurgitated training tweets and authentically generated tweets are nearly indistiguishable.\n",
        "\n",
        "## Possible Solution:\n",
        "A `unique()` function will be needed to check for duplicates before compiling these tweets with our already established dataset.\n",
        "\n",
        "---"
      ]
    },
    {
      "cell_type": "markdown",
      "metadata": {
        "id": "oF4-PqF0Fl7R"
      },
      "source": [
        "You also pass in a `prefix` to the generate function to force the text to start with a given character sequence and generate text from there (good if you add an indicator when the text starts).\n",
        "\n",
        "You can also generate multiple texts at a time by specifing `nsamples`. Unique to GPT-2, you can pass a `batch_size` to generate multiple samples in parallel, giving a massive speedup (in Colaboratory, set a maximum of 20 for `batch_size`).\n",
        "\n",
        "Other optional-but-helpful parameters for `gpt2.generate` and friends:\n",
        "\n",
        "*  **`length`**: Number of tokens to generate (default 1023, the maximum)\n",
        "* **`temperature`**: The higher the temperature, the crazier the text (default 0.7, recommended to keep between 0.7 and 1.0)\n",
        "* **`top_k`**: Limits the generated guesses to the top *k* guesses (default 0 which disables the behavior; if the generated output is super crazy, you may want to set `top_k=40`)\n",
        "* **`top_p`**: Nucleus sampling: limits the generated guesses to a cumulative probability. (gets good results on a dataset with `top_p=0.9`)\n",
        "* **`truncate`**: Truncates the input text until a given sequence, excluding that sequence (e.g. if `truncate='<|endoftext|>'`, the returned text will include everything before the first `<|endoftext|>`). It may be useful to combine this with a smaller `length` if the input texts are short.\n",
        "*  **`include_prefix`**: If using `truncate` and `include_prefix=False`, the specified `prefix` will not be included in the returned text."
      ]
    },
    {
      "cell_type": "code",
      "metadata": {
        "id": "8DKMc0fiej4N",
        "colab": {
          "base_uri": "https://localhost:8080/"
        },
        "outputId": "4b2f2841-5739-43ea-98b5-3bd2347dc74e"
      },
      "source": [
        "gpt2.generate(sess,\n",
        "              run_name='run4',\n",
        "              temperature=0.7,\n",
        "              nsamples=5,\n",
        "              batch_size=5\n",
        "              )"
      ],
      "execution_count": 7,
      "outputs": [
        {
          "output_type": "stream",
          "text": [
            "The incident begins around 5:30 AM at 17 Battery Place in Manhattan when police clamp down on a protester, shoving and arresting them.\n",
            "375\tFollowing a protester is seen yelling at police from the sidewalk near an outside dining area on Hudson Street and West 10th. Police approach and a scuffle begins. It is difficult to see how it begins. The bystander is then thrown to the ground and arrested. Another bystander is pulled from the car and beaten.\n",
            "440\tAfter protesters broke a few police vehicle windows near the North Precinct, police gave a dispersal order and fired smoke and stun grenades. Police then dispersed protesters violently, striking several with batons and punching others. One protester is punched repeatedly by an officer while being arrested before a second officer tells the first to stop.\n",
            "467\tFootage shows police approaching a small march at 23rd and Classon. They arrest one woman holding a banner without incident. An officer then begins to walk away with one end of the banner. Protesters try to pull it back, and a scuffle follows where police attempt to arrest one protester and a second appears to approach to stop it. The second protester and the officer exchange pushes, then another officer charges the protester from behind and shoves him. Police then shove several more protesters and kneel on one to make an arrest.\n",
            "491\tA police officer has his knee on a woman’s neck, who already had 3 police officers on her. A different officer had to pull him away.\n",
            "500\tFootage from Cal Anderson shows police officer shoving aside another officer restraining a suspect so he can put his knee on the woman’s neck.\n",
            "504\tCal Anderson was riding in a bike lane at about 11:30 p.m. when police said she cut in front of a sergeant’s car and was hit. Police said the sergeant could not avoid hitting Edwards.\n",
            "676\tPolice officer shoves aside another officer restraining a suspect so he can put his knee on the suspect’s back.\n",
            "854\tA cyclist was ticketed at a Red Light near the South Precinct. He rode away on foot with his bike, stopping only to give an interview to local news. The reporter, a male, was detained for longer than was allowed by police. Police said the male protester had a box cutter and tried to escape. The reporter said the male protester appeared to be under the influence of drugs or alcohol and struggled with police.\n",
            "870\tA female protester is seen running across a street, chased by several officers. An officer on a motorcycle strikes her and she is arrested. Officers on bicycles arrested her multiple times, several of them repeatedly. Police said the arrest was made for the female protester’s alleged involvement in a protest, in which she was seen filming officers shoving an officer. The woman was dragged from her car and the car was towed from her home. Officers cited her for allegedly filming them without permission. The woman said she was trying to help the homeless.\n",
            "879\tA homeless person is seen walking down the sidewalk and into police custody. Several officers come to restrain him, but he continues across to the other side of the officers. Police then charge across the street at protesters, striking, shoving and arresting them. Police disrupt diners, forcing them to move from their tables as bike police closed in.\n",
            "89\tPoliceiSomalian journalist Fardowso Mohamud Sahal was assaulted by police officers while she was covering protest by mothers of sons sent to military training reports @pressfreedom: https://t.co/5DJhCpNPXj #IWMF @IWMF32 @sjs_Somalia @womeninmedia\n",
            "1123\tAnd the arrested man probably has the cheek to now sue the police over the dog attacking him....\n",
            "1124\tA police officer has his knee on a woman’s neck, who already had 3 police officers on her. A different officer had to pull him away.\n",
            "1134\tA protester is seen running across a street, chased by several officers. An officer on a motorcycle strikes him and he is arrested. Officers on bicycles and on foot arrest protesters more forcefully.\n",
            "1163\tA protester is seen running across a street, tackled by police. An officer on a motorcycle strikes him and he is arrested. Officers on bicycles and on foot arrest protesters more forcefully.\n",
            "1177\tA police officer has his knee on a woman’s neck, who already had 3 police officers on her. A different officer had to pull him away.\n",
            "1193\tA man is seen running across a street, tackled by two officers. The officer that hits him is shown repeatedly punching the protester to subdue them.\n",
            "1296\tA journalist on assignment with the Washington Post to cover protests in Atlanta was detained by police and zip tied on May 31st. His detention was captured live by CBS46. He did not have a physical press pass and police did not allow him to\n",
            "====================\n",
            "1134\tDonald Trump and KKK members arrested in brawl with police-Daddy &amp; Donny Boy were sued by federal government for refusing to rent to blacks in 1973 https://t.co/or8zAHyu4e\n",
            "1163\tMembers of the Unified Command (Multnomah County Sheriff’s Office, Portland Police Bureau and Oregon State Police) charged protesters at Harvey Milk and 10th Streets, knocking several protesters to the ground, as well as a 75 year old photojournalist.\n",
            "1177\tLas Vegas police spotted a stolen car and followed it until both of the people inside stopped and ran away. Three officers pursued Keith Alan Engel until one of the officers tackled him. Engel and the officer scuffled and Engel grabbed the officer’s handgun and tried to pull it out of her holster.\n",
            "1193\tProtesters camped out front of city hall demanding the resignation of Rochester mayor, Lovely Warren, and the arrests of the officers involved in the Daniel Prude case. Police assembled around 8:30 AM on Wednesday to disperse protesters. Police first pushed protesters off City Hall property, into the street. Police then gave a dispersal order, telling protesters to leave the street and sidewalk. Two officers suddenly charged at protesters, shoving one to the ground. Police chased several other protesters then returned to their line.\n",
            "1296\tIn an incident at 17 Battery Place in Manhattan, police are forcibly arresting several protesters on a paved pedestrian area. A protester argues with an officer. The officer shoves her and grabs her by the hair. Another officer joins in; the two grab her by the arms, force her to the ground, and one officer kneels on the protester to arrest her.\n",
            "1299\t\"Police officers are seen repeatedly punching a woman protester prior to and during the arrest. The incident occurred at 3:35 on June 29th at the Sum of Us Against Monsanto Festival, an indictment by a Manhattan District Attorney was read in court. Following the reading, police stood by and arrested the woman, apparently without incident, in the 37th District. Several officers kneeled on the protester to make the arrest. The arrest was performed by a combination of plainclothes, white-shirted (denoting high rank), and bike officers. Additional video taken from a compilation (0:51-2:04) shows officers using their bikes to push back counter-protesters at a Trump rally. As the officers are shoving protesters, additional officers circle behind protesters and place their bikes in the protesters’ paths, tripping them up. Officers then proceed to make arrests.\n",
            "1348\tA protester is seen walk side-by-side with an officer. The officer steps in front of him and stops such that the protester lightly grazes the officer. Numerous police officers then throw the man to the ground and kneel on his neck to make the arrest. News outlets state this occurred near Hempstead and Merrick.\n",
            "1356\tAt a protest in NYC, several police officers on bicycles rode up to a protester standing still at 13th and Merrick. The officers pushed the protester aside, leaving a bloody trail.\n",
            "1373\tA protester is seen walk side-by-side with an officer. The officer steps in front of him and stops such that the protester lightly grazes the officer. Several police officers then throw the man to the ground and kneel on his neck to make the arrest. News outlets state this occurred near the State Capitol Building.\n",
            "1395\t\"Footage shows police approaching a crowd of protesters, singling out livestreamer Hiram Gilberto and arresting him. When the crowd objects, other officers shove the protesters. Additional footage shows Gilberto tackled to the ground, zip-tied and punched. Police also show Gilberto with his hands held behind his back. Police claim he was seen attempting to break into a bank after curfew. A witness didn’t see any bank employee in uniform around the arrest. But the footage shows a cop badge around her neck. That suggests she was arrested under a different officer’s direction.\"\n",
            "1512\tProtesters are seen arguing with police in the street. One protester approaches police then runs away as police converge. Another protester stands in the way and is shoved to the ground.\n",
            "1520\tA police officer has his knee on a woman’s neck, who already had 3 police officers on her. A different officer had to pull him away.\n",
            "1525\tFootage shows a standoff between protesters and police. Police tape divides the two groups. Additional officers approach the line, then charge across at protesters without warning. One protester, Sean, is seen thrown to the ground and arrested with his hands held behind his back. Sean labels himself a \"\"protest observer;\"\" while not officially press, he focuses on filming protests, rather than participating. He can be heard screaming in pain during the arrest. He allegedly waited 20 minutes in handcuffs for EMS to arrive.\"\n",
            "1532\tMembers of the Unified Command (\n",
            "====================\n",
            "4096\tMembers of the Unified Police Department (Multnomah County Sheriff’s Office, Portland Police Bureau and Oregon State Police) charged protesters at Harvey Milk and 10th Streets, knocking several protesters to the ground, as well as a 75 year old photojournalist.\n",
            "4125\tLas Vegas police spotted a stolen car and followed it until both of the people inside stopped and ran away. Three officers pursued Keith Alan Engel until one of the officers tackled him. Engel and the officer scuffled and Engel grabbed the officer’s handgun and tried to pull it out of her holster.\n",
            "4161\tProtesters camped out front of city hall demanding the resignation of Rochester mayor, Lovely Warren, and the arrests of the officers involved in the Daniel Prude case. Police assembled around 8:30 AM on Wednesday to disperse protesters. Police first pushed protesters off City Hall property, into the street. Police then gave a dispersal order, telling protesters to leave the street and sidewalk. Two officers suddenly charged at protesters, shoving one to the ground. Police chased several other protesters then returned to their line.\n",
            "4196\t\"Footage shows police arresting a woman. A man who walked nearby with his hands up is thrown to the ground by two officers and arrested. Additional footage shows an officer grabbing the breast of the woman arrested. It should be noted that police use an \"\"open hand\"\" frisking technique to check along the breasts during an arrest. However the officer does not appear to be using an open hand and appears to be grabbing the woman, rather than frisking her. While having a male officer frisk a female protester without warning is a point of controversy, this incident appears to be outside police guidelines even discounting that fact.\"\n",
            "4214\tIn an incident at 17 Battery Place in Manhattan, police are forcibly arresting several protesters on a paved pedestrian area. A protester argues with an officer. The officer shoves her and grabs her by the hair. Another officer joins in; the two grab her by the arms, force her to the ground, and one officer kneels on the protester to arrest her.\n",
            "4278\tFollow up : The attacker, who’s in police custody, walloped the 55-year-old woman in the head as she walked by him on Bayard St. near Mott St. at about 6:15 p.m. Several onlookers followed the suspect around the block, where police arrested him.\n",
            "4279\t\"Alleged looters and the owner and employees at a liquor store stood off outside store. A crowd had assembled to help the employees. Seeing a police cruiser passing by, one black employee flagged down the officers to request help. The employee was arrested, along with her husband and others helping them, while the alleged looters ran off. The employee says she told police they had the wrong people and the criminals were getting away. She says the officer arresting her said, \"\"I don’t care about them.\"\" In addition, she says she was thrown against a wall when arrested.\"\n",
            "4294\tA journalist working for The Asheville Blade was following protests in their car on August 9th. They state that police stopped them without warning, pulled them out of their car, zip-tied and arrested them. They state that because of the heat, their sweat made their hands slippery and their zip-ties fell off; an officer then replaced them with standard handcuffs, cuffing the journalist’s arms tightly behind their back. They state that after being removed from the police wagon, they were patted down. A female cop stood by while a male cop patted them down. The journalist states the male cop’s \"\"hands aggressively slid over my vagina and my ass.\"\" They were held in a cell for several hours, in and out of cuffs. Several police officers asked the journalist if they were going to behave now, and made other similar comments. Images taken after release show significant bruising on one of the journalist’s arms.\"\n",
            "4298\tClifford Poe died after a scuffle with officers who restrained him for questioning about a vandalism.\n",
            "4325\t\"Footage shows a standoff between protesters and police. Police tape divides the two groups. Additional officers approach the line, then charge across at protesters without warning. One protester, Sean, is seen thrown to the ground and arrested with his hands held behind his back. Sean labels himself a \"\"protest observer;\"\" while not officially press, he focuses on filming protests, rather than participating. He can be heard screaming in pain during the arrest. He allegedly waited 20 minutes in handcuffs for EMS to arrive.\"\n",
            "4333\tMembers of the Unified Command (Multnomah County Sheriff’s Office, Portland Police Bureau and Oregon State Police) made several violent arrests at SW Park and Washington, with one officer knocking a protester to the ground as they attempted to stand.\n",
            "4427\tOn June 5th, protesters gathered outside the North Precinct on Killingsworth Street.\n",
            "====================\n",
            "Commercial Driver License Checkpointed - N.Y.\n",
            "3566\tMembers of the Unified Command (Multnomah County Sheriff’s Office, Portland Police Bureau and Oregon State Police) charged protesters at Harvey Milk and 10th Streets, knocking several protesters to the ground, as well as a 75 year old photojournalist.\n",
            "3674\tLas Vegas police spotted a stolen car and followed it until both of the people inside stopped and ran away. Three officers pursued Keith Alan Engel until one of the officers tackled him. Engel and the officer scuffled and Engel grabbed the officer’s handgun and tried to pull it out of her holster.\n",
            "3735\tProtesters camped out front of city hall demanding the resignation of Rochester mayor, Lovely Warren, and the arrests of the officers involved in the Daniel Prude case. Police assembled around 8:30 AM on Wednesday to disperse protesters. Police first pushed protesters off City Hall property, into the street. Police then gave a dispersal order, telling protesters to leave the street and sidewalk. Two officers suddenly charged at protesters, shoving one to the ground. Police chased several other protesters then returned to their line.\n",
            "3742\t\"Footage shows police arresting a woman. A man who walked nearby with his hands up is thrown to the ground by two officers and arrested. Additional footage shows an officer grabbing the breast of the woman arrested. It should be noted that police use an \"\"open hand\"\" frisking technique to check along the breasts during an arrest. However the officer does not appear to be using an open hand and appears to be grabbing the woman, rather than frisking her. While having a male officer frisk a female protester without warning is a point of controversy, this incident appears to be outside police guidelines even discounting that fact.\"\n",
            "3787\tIn an incident at 17 Battery Place in Manhattan, police are forcibly arresting several protesters on a paved pedestrian area. A protester argues with an officer. The officer shoves her and grabs her by the hair. Another officer joins in; the two grab her by the arms, force her to the ground, and one officer kneels on the protester to arrest her.\n",
            "3895\tFollow up : The attacker, who’s in police custody, walloped the 55-year-old woman in the head as she walked by him on Bayard St. near Mott St. at about 6:15 p.m. Several onlookers followed the suspect around the block, where police arrested him.\n",
            "3933\t\"Alleged looters and the owner and employees at a liquor store stood off outside store. A crowd had assembled to help the employees. Seeing a police cruiser passing by, one black employee flagged down the officers to request help. The employee was arrested, along with her husband and others helping them, while the alleged looters ran off. The employee says she told police they had the wrong people and the criminals were getting away. She says the officer arresting her said, \"\"I don’t care about them.\"\" In addition, she says she was thrown against a wall when arrested.\"\n",
            "3953\tFootage shows police dragging a woman across the gravel. She falls over. Police then kneel on the woman to arrest her. Police then grab another protester and throw them to the ground to arrest them.\n",
            "4015\tA protester is seen yelling at police from the sidewalk near an outside dining area on Hudson Street and West 10th. Without warning, police charge at protesters, striking, shoving and arresting them. Police also repeatedly point fingers at protesters, presumably identifying them.\n",
            "4125\tMembers of the Unified Command (Multnomah County Sheriff’s Office, Portland Police Bureau and Oregon State Police) made several violent arrests at SW Park and Washington, with one officer knocking a protester to the ground as they attempted to stand.\n",
            "4161\tOn June 5th, protesters gathered outside the North Precinct on Killingsworth Street. As police cleared debris from the road, an individual was seen filming them from the sidewalk. An officer approached the individual while shouting and knocked the camera out of their hands, causing minor damage.\n",
            "4196\tFootage shows police approaching a small group of press on either side of Dupont Circle. Officers grab the individuals, shoving and arresting them. The footage ends with an officer retrieving a phone and kicking the phone out of the individual’s hand.\n",
            "4214\tFootage shows police approaching a group of press on either side of Killingsworth and Pine. Officers grab one individual, alleged to be press though not clearly marked, and force them to the ground for arrest. The individual is then arrested.\n",
            "4278\tMembers of the Unified Command (Multnomah County Sheriff’s Office, Portland Police Bureau and Oregon State Police) charged protesters at Harvey Milk and 10th Streets, knocking several protesters to the ground, as well as a 75 year old photojournalist.\n",
            "4279\tPoliceI’m with the press\n",
            "====================\n",
            "1049\tA protester is seen walk side-by-side with an officer. The officer steps in front of him and stops such that the protester lightly grazes the officer. Numerous police officers then throw the man to the ground and kneel on his neck to make the arrest. News outlets state this occurred near Hempstead and Merrick.\n",
            "1060\tAt a protest in NYC, protesters are seen standing on the sidewalk. Police charge without warning, grabbing several protesters. The protesters passively resist by falling to the ground. This devolves into a scuffle between protesters and police, much of which is obfuscated by additional officers forming a line around the incident. Police arrest and zip-tie two protesters, one of whom is a minor. In another video, the minor alleges they were punched by police.\n",
            "1097\tA protester is seen walk side-by-side with an officer. The officer steps in front of him and stops such that the protester lightly grazes the officer. Numerous police officers then throw the man to the ground and kneel on his neck to make the arrest. News outlets state this occurred near Hempstead and Merrick.\n",
            "1105\tA police officer has his knee on a woman’s neck, who already had 3 police officers on her. A different officer had to pull him away.\n",
            "1107\tFootage from a Union Square protest shows an officer using his baton to shove a protester.\n",
            "1124\tFootage shows 2 agents in fatigues, either DHS or U.S. Marshals, kneeling on a protester to make an arrest near 4th and Main. A journalist attempting to film is harassed and told to move faster by a third agent.\n",
            "1134\tMembers of the Unified Command (Multnomah County Sheriff’s Office, Portland Police Bureau and Oregon State Police) charged protesters at Harvey Milk and 10th Streets, knocking several protesters to the ground, as well as a 75 year old photojournalist.\n",
            "1163\t\"Footage taken at E 136th St and Brook Ave in the Bronx shows protesters confronting police on bikes. A protester steps forward near police and appears to say something. An officer shoves the protester and yells: \"\"Back up.\"\"\"\n",
            "1177\tPolice approach protesters standing in the street near 11th and Pine. A scuffle begins and protesters are shoved. One is thrown to the ground and arrested. One officer appears to injure himself shoving protesters. Officers appeared to be a combination of SPD and private security.\n",
            "1193\tPolice arrested two AL.com journalists covering a protest at 7:35 on June 3. There was a 7PM curfew in effect, which exempted journalists who were carrying a letter from their media outlet; both arrested journalists were carrying such a letter and had press lanyards. Both journalists were released shortly thereafter; while in custody, they were photographed. Birmingham police later said that the arrest was made for the journalists’ safety. Two employees of Alabama Media Group were restrained using zip ties.\n",
            "1296\tRayne Valentine, a hospital employee in Brooklyn, states he was walking home on the night of the 31st after an overtime shift assisting with COVID-19 care. Valentine states he saw police chasing a teen and began recording. After a short interaction, police began beating Valentine. He states that police then threw his phone to him and left. Valentine then walked back to the hospital, where he received 2 CT scans and 7 staples.\n",
            "1299\tFootage shows riot police suddenly charge into a crowd, potentially chasing a fleeing suspect. However, they shove their way through the crowd, striking peaceful protesters. They can be seen throwing multiple individuals to the ground and kicking one.\n",
            "1348\tFootage shows a police line advancing down Main towards protesters. A protester is walking backwards with his hands up, speaking to police. An officer shoves him, then a second maces him.\n",
            "1356\tA police line forms behind a group of protesters, possibly related to a protest that ended at 16th and Pine. Police can be seen shoving two individuals obeying police direction. One of the officers pushes a protester to the ground.\n",
            "1373\tA police line forms behind a group of protesters, possibly related to a protest that ended at 18th and Pine. Police can be seen shoving two individuals obeying police direction. One of the officers pushes a protester to the ground.\n",
            "1395\tA police officer has his knee on a woman’s neck, who already had 3 police officers on her. A different officer had to pull him away.\n",
            "1512\tA protester is seen walk side-by-side with an officer. The officer steps in front of him and stops such that the protester lightly grazes the officer. Police describe the individual as black, about 20 years old, 5-foot-9 and 180 pounds.\n",
            "1543\tFootage shows a police line advancing down Main towards protesters. A protester is seen speaking with an officer. The officer shoves him and\n",
            "====================\n"
          ],
          "name": "stdout"
        }
      ]
    },
    {
      "cell_type": "markdown",
      "metadata": {
        "id": "zjjEN2Tafhl2"
      },
      "source": [
        "For bulk generation, you can generate a large amount of text to a file and sort out the samples locally on your computer. The next cell will generate a generated text file with a unique timestamp.\n",
        "\n",
        "You can rerun the cells as many times as you want for even more generated texts!"
      ]
    },
    {
      "cell_type": "code",
      "metadata": {
        "id": "Fa6p6arifSL0"
      },
      "source": [
        "gen_file = 'gpt2_gentext_{:%Y%m%d_%H%M%S}.txt'.format(datetime.utcnow())\n",
        "\n",
        "gpt2.generate_to_file(sess,\n",
        "                      run_name='run4',\n",
        "                      destination_path=gen_file,\n",
        "                      temperature=1.0,\n",
        "                      nsamples=60,\n",
        "                      batch_size=5\n",
        "                      )"
      ],
      "execution_count": null,
      "outputs": []
    },
    {
      "cell_type": "code",
      "metadata": {
        "id": "0-LRex8lfv1g"
      },
      "source": [
        "# may have to run twice to get file to download\n",
        "files.download(gen_file)"
      ],
      "execution_count": null,
      "outputs": []
    },
    {
      "cell_type": "markdown",
      "metadata": {
        "id": "ig-KVgkCDCKD"
      },
      "source": [
        "# Etc\n",
        "\n",
        "If the notebook has errors (e.g. GPU Sync Fail), force-kill the Colaboratory virtual machine and restart it with the command below:"
      ]
    },
    {
      "cell_type": "code",
      "metadata": {
        "id": "rIHiVP53FnsX"
      },
      "source": [
        "!kill -9 -1"
      ],
      "execution_count": null,
      "outputs": []
    }
  ]
}