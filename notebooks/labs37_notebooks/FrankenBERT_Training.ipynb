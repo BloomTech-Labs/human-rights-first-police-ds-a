{
  "nbformat": 4,
  "nbformat_minor": 2,
  "metadata": {
    "colab": {
      "name": "FrankenBERT_Labs37.ipynb",
      "provenance": []
    },
    "kernelspec": {
      "name": "python3",
      "display_name": "Python 3"
    },
    "language_info": {
      "name": "python"
    },
    "accelerator": "GPU",
    "widgets": {
      "application/vnd.jupyter.widget-state+json": {
        "7e2782ea5b434a17aabb7f09b3912031": {
          "model_module": "@jupyter-widgets/controls",
          "model_name": "HBoxModel",
          "model_module_version": "1.5.0",
          "state": {
            "_view_name": "HBoxView",
            "_dom_classes": [],
            "_model_name": "HBoxModel",
            "_view_module": "@jupyter-widgets/controls",
            "_model_module_version": "1.5.0",
            "_view_count": null,
            "_view_module_version": "1.5.0",
            "box_style": "",
            "layout": "IPY_MODEL_964f61c75c5a475382809662e24cc9c6",
            "_model_module": "@jupyter-widgets/controls",
            "children": [
              "IPY_MODEL_3b8af897921d42d88d36c822c0bea6e0",
              "IPY_MODEL_4666ddd6bba445049df1f698e987e2b2",
              "IPY_MODEL_3736433cd13540458ba84446c3745bc8"
            ]
          }
        },
        "964f61c75c5a475382809662e24cc9c6": {
          "model_module": "@jupyter-widgets/base",
          "model_name": "LayoutModel",
          "model_module_version": "1.2.0",
          "state": {
            "_view_name": "LayoutView",
            "grid_template_rows": null,
            "right": null,
            "justify_content": null,
            "_view_module": "@jupyter-widgets/base",
            "overflow": null,
            "_model_module_version": "1.2.0",
            "_view_count": null,
            "flex_flow": null,
            "width": null,
            "min_width": null,
            "border": null,
            "align_items": null,
            "bottom": null,
            "_model_module": "@jupyter-widgets/base",
            "top": null,
            "grid_column": null,
            "overflow_y": null,
            "overflow_x": null,
            "grid_auto_flow": null,
            "grid_area": null,
            "grid_template_columns": null,
            "flex": null,
            "_model_name": "LayoutModel",
            "justify_items": null,
            "grid_row": null,
            "max_height": null,
            "align_content": null,
            "visibility": null,
            "align_self": null,
            "height": null,
            "min_height": null,
            "padding": null,
            "grid_auto_rows": null,
            "grid_gap": null,
            "max_width": null,
            "order": null,
            "_view_module_version": "1.2.0",
            "grid_template_areas": null,
            "object_position": null,
            "object_fit": null,
            "grid_auto_columns": null,
            "margin": null,
            "display": null,
            "left": null
          }
        },
        "3b8af897921d42d88d36c822c0bea6e0": {
          "model_module": "@jupyter-widgets/controls",
          "model_name": "HTMLModel",
          "model_module_version": "1.5.0",
          "state": {
            "_view_name": "HTMLView",
            "style": "IPY_MODEL_6a0ae528972045698d44c98b82430516",
            "_dom_classes": [],
            "description": "",
            "_model_name": "HTMLModel",
            "placeholder": "​",
            "_view_module": "@jupyter-widgets/controls",
            "_model_module_version": "1.5.0",
            "value": "Downloading: 100%",
            "_view_count": null,
            "_view_module_version": "1.5.0",
            "description_tooltip": null,
            "_model_module": "@jupyter-widgets/controls",
            "layout": "IPY_MODEL_dc4a7c80abff4a399e4fe7d3d919ea29"
          }
        },
        "4666ddd6bba445049df1f698e987e2b2": {
          "model_module": "@jupyter-widgets/controls",
          "model_name": "FloatProgressModel",
          "model_module_version": "1.5.0",
          "state": {
            "_view_name": "ProgressView",
            "style": "IPY_MODEL_31df1b9196194da9afab0aaa8f4c6a08",
            "_dom_classes": [],
            "description": "",
            "_model_name": "FloatProgressModel",
            "bar_style": "success",
            "max": 231508,
            "_view_module": "@jupyter-widgets/controls",
            "_model_module_version": "1.5.0",
            "value": 231508,
            "_view_count": null,
            "_view_module_version": "1.5.0",
            "orientation": "horizontal",
            "min": 0,
            "description_tooltip": null,
            "_model_module": "@jupyter-widgets/controls",
            "layout": "IPY_MODEL_4b0a45d7502d4817893d66336cf6afc5"
          }
        },
        "3736433cd13540458ba84446c3745bc8": {
          "model_module": "@jupyter-widgets/controls",
          "model_name": "HTMLModel",
          "model_module_version": "1.5.0",
          "state": {
            "_view_name": "HTMLView",
            "style": "IPY_MODEL_5d9849e2203c46fda4479631da1305bb",
            "_dom_classes": [],
            "description": "",
            "_model_name": "HTMLModel",
            "placeholder": "​",
            "_view_module": "@jupyter-widgets/controls",
            "_model_module_version": "1.5.0",
            "value": " 232k/232k [00:00&lt;00:00, 855kB/s]",
            "_view_count": null,
            "_view_module_version": "1.5.0",
            "description_tooltip": null,
            "_model_module": "@jupyter-widgets/controls",
            "layout": "IPY_MODEL_d930f18fa57a4764bc38d17178b480d6"
          }
        },
        "6a0ae528972045698d44c98b82430516": {
          "model_module": "@jupyter-widgets/controls",
          "model_name": "DescriptionStyleModel",
          "model_module_version": "1.5.0",
          "state": {
            "_view_name": "StyleView",
            "_model_name": "DescriptionStyleModel",
            "description_width": "",
            "_view_module": "@jupyter-widgets/base",
            "_model_module_version": "1.5.0",
            "_view_count": null,
            "_view_module_version": "1.2.0",
            "_model_module": "@jupyter-widgets/controls"
          }
        },
        "dc4a7c80abff4a399e4fe7d3d919ea29": {
          "model_module": "@jupyter-widgets/base",
          "model_name": "LayoutModel",
          "model_module_version": "1.2.0",
          "state": {
            "_view_name": "LayoutView",
            "grid_template_rows": null,
            "right": null,
            "justify_content": null,
            "_view_module": "@jupyter-widgets/base",
            "overflow": null,
            "_model_module_version": "1.2.0",
            "_view_count": null,
            "flex_flow": null,
            "width": null,
            "min_width": null,
            "border": null,
            "align_items": null,
            "bottom": null,
            "_model_module": "@jupyter-widgets/base",
            "top": null,
            "grid_column": null,
            "overflow_y": null,
            "overflow_x": null,
            "grid_auto_flow": null,
            "grid_area": null,
            "grid_template_columns": null,
            "flex": null,
            "_model_name": "LayoutModel",
            "justify_items": null,
            "grid_row": null,
            "max_height": null,
            "align_content": null,
            "visibility": null,
            "align_self": null,
            "height": null,
            "min_height": null,
            "padding": null,
            "grid_auto_rows": null,
            "grid_gap": null,
            "max_width": null,
            "order": null,
            "_view_module_version": "1.2.0",
            "grid_template_areas": null,
            "object_position": null,
            "object_fit": null,
            "grid_auto_columns": null,
            "margin": null,
            "display": null,
            "left": null
          }
        },
        "31df1b9196194da9afab0aaa8f4c6a08": {
          "model_module": "@jupyter-widgets/controls",
          "model_name": "ProgressStyleModel",
          "model_module_version": "1.5.0",
          "state": {
            "_view_name": "StyleView",
            "_model_name": "ProgressStyleModel",
            "description_width": "",
            "_view_module": "@jupyter-widgets/base",
            "_model_module_version": "1.5.0",
            "_view_count": null,
            "_view_module_version": "1.2.0",
            "bar_color": null,
            "_model_module": "@jupyter-widgets/controls"
          }
        },
        "4b0a45d7502d4817893d66336cf6afc5": {
          "model_module": "@jupyter-widgets/base",
          "model_name": "LayoutModel",
          "model_module_version": "1.2.0",
          "state": {
            "_view_name": "LayoutView",
            "grid_template_rows": null,
            "right": null,
            "justify_content": null,
            "_view_module": "@jupyter-widgets/base",
            "overflow": null,
            "_model_module_version": "1.2.0",
            "_view_count": null,
            "flex_flow": null,
            "width": null,
            "min_width": null,
            "border": null,
            "align_items": null,
            "bottom": null,
            "_model_module": "@jupyter-widgets/base",
            "top": null,
            "grid_column": null,
            "overflow_y": null,
            "overflow_x": null,
            "grid_auto_flow": null,
            "grid_area": null,
            "grid_template_columns": null,
            "flex": null,
            "_model_name": "LayoutModel",
            "justify_items": null,
            "grid_row": null,
            "max_height": null,
            "align_content": null,
            "visibility": null,
            "align_self": null,
            "height": null,
            "min_height": null,
            "padding": null,
            "grid_auto_rows": null,
            "grid_gap": null,
            "max_width": null,
            "order": null,
            "_view_module_version": "1.2.0",
            "grid_template_areas": null,
            "object_position": null,
            "object_fit": null,
            "grid_auto_columns": null,
            "margin": null,
            "display": null,
            "left": null
          }
        },
        "5d9849e2203c46fda4479631da1305bb": {
          "model_module": "@jupyter-widgets/controls",
          "model_name": "DescriptionStyleModel",
          "model_module_version": "1.5.0",
          "state": {
            "_view_name": "StyleView",
            "_model_name": "DescriptionStyleModel",
            "description_width": "",
            "_view_module": "@jupyter-widgets/base",
            "_model_module_version": "1.5.0",
            "_view_count": null,
            "_view_module_version": "1.2.0",
            "_model_module": "@jupyter-widgets/controls"
          }
        },
        "d930f18fa57a4764bc38d17178b480d6": {
          "model_module": "@jupyter-widgets/base",
          "model_name": "LayoutModel",
          "model_module_version": "1.2.0",
          "state": {
            "_view_name": "LayoutView",
            "grid_template_rows": null,
            "right": null,
            "justify_content": null,
            "_view_module": "@jupyter-widgets/base",
            "overflow": null,
            "_model_module_version": "1.2.0",
            "_view_count": null,
            "flex_flow": null,
            "width": null,
            "min_width": null,
            "border": null,
            "align_items": null,
            "bottom": null,
            "_model_module": "@jupyter-widgets/base",
            "top": null,
            "grid_column": null,
            "overflow_y": null,
            "overflow_x": null,
            "grid_auto_flow": null,
            "grid_area": null,
            "grid_template_columns": null,
            "flex": null,
            "_model_name": "LayoutModel",
            "justify_items": null,
            "grid_row": null,
            "max_height": null,
            "align_content": null,
            "visibility": null,
            "align_self": null,
            "height": null,
            "min_height": null,
            "padding": null,
            "grid_auto_rows": null,
            "grid_gap": null,
            "max_width": null,
            "order": null,
            "_view_module_version": "1.2.0",
            "grid_template_areas": null,
            "object_position": null,
            "object_fit": null,
            "grid_auto_columns": null,
            "margin": null,
            "display": null,
            "left": null
          }
        },
        "b482908da2af4e70868720f988950726": {
          "model_module": "@jupyter-widgets/controls",
          "model_name": "HBoxModel",
          "model_module_version": "1.5.0",
          "state": {
            "_view_name": "HBoxView",
            "_dom_classes": [],
            "_model_name": "HBoxModel",
            "_view_module": "@jupyter-widgets/controls",
            "_model_module_version": "1.5.0",
            "_view_count": null,
            "_view_module_version": "1.5.0",
            "box_style": "",
            "layout": "IPY_MODEL_5fa5688f77534ce6a676bf6e61403a89",
            "_model_module": "@jupyter-widgets/controls",
            "children": [
              "IPY_MODEL_c4067f70563b4371abd90c7e188cbcc7",
              "IPY_MODEL_5a1472f5dd7742fd816cfa2a944d0efc",
              "IPY_MODEL_34f206900a5d4ab79a8cfaec06962a21"
            ]
          }
        },
        "5fa5688f77534ce6a676bf6e61403a89": {
          "model_module": "@jupyter-widgets/base",
          "model_name": "LayoutModel",
          "model_module_version": "1.2.0",
          "state": {
            "_view_name": "LayoutView",
            "grid_template_rows": null,
            "right": null,
            "justify_content": null,
            "_view_module": "@jupyter-widgets/base",
            "overflow": null,
            "_model_module_version": "1.2.0",
            "_view_count": null,
            "flex_flow": null,
            "width": null,
            "min_width": null,
            "border": null,
            "align_items": null,
            "bottom": null,
            "_model_module": "@jupyter-widgets/base",
            "top": null,
            "grid_column": null,
            "overflow_y": null,
            "overflow_x": null,
            "grid_auto_flow": null,
            "grid_area": null,
            "grid_template_columns": null,
            "flex": null,
            "_model_name": "LayoutModel",
            "justify_items": null,
            "grid_row": null,
            "max_height": null,
            "align_content": null,
            "visibility": null,
            "align_self": null,
            "height": null,
            "min_height": null,
            "padding": null,
            "grid_auto_rows": null,
            "grid_gap": null,
            "max_width": null,
            "order": null,
            "_view_module_version": "1.2.0",
            "grid_template_areas": null,
            "object_position": null,
            "object_fit": null,
            "grid_auto_columns": null,
            "margin": null,
            "display": null,
            "left": null
          }
        },
        "c4067f70563b4371abd90c7e188cbcc7": {
          "model_module": "@jupyter-widgets/controls",
          "model_name": "HTMLModel",
          "model_module_version": "1.5.0",
          "state": {
            "_view_name": "HTMLView",
            "style": "IPY_MODEL_6775420c586c4f809dcc162e0d1a0686",
            "_dom_classes": [],
            "description": "",
            "_model_name": "HTMLModel",
            "placeholder": "​",
            "_view_module": "@jupyter-widgets/controls",
            "_model_module_version": "1.5.0",
            "value": "Downloading: 100%",
            "_view_count": null,
            "_view_module_version": "1.5.0",
            "description_tooltip": null,
            "_model_module": "@jupyter-widgets/controls",
            "layout": "IPY_MODEL_42f92bea3f664535b3ba90eb669f7c38"
          }
        },
        "5a1472f5dd7742fd816cfa2a944d0efc": {
          "model_module": "@jupyter-widgets/controls",
          "model_name": "FloatProgressModel",
          "model_module_version": "1.5.0",
          "state": {
            "_view_name": "ProgressView",
            "style": "IPY_MODEL_74c9a7dfe27d4c2ebaa352afc6e448ad",
            "_dom_classes": [],
            "description": "",
            "_model_name": "FloatProgressModel",
            "bar_style": "success",
            "max": 570,
            "_view_module": "@jupyter-widgets/controls",
            "_model_module_version": "1.5.0",
            "value": 570,
            "_view_count": null,
            "_view_module_version": "1.5.0",
            "orientation": "horizontal",
            "min": 0,
            "description_tooltip": null,
            "_model_module": "@jupyter-widgets/controls",
            "layout": "IPY_MODEL_902f8194299941098a39962f4ba5b499"
          }
        },
        "34f206900a5d4ab79a8cfaec06962a21": {
          "model_module": "@jupyter-widgets/controls",
          "model_name": "HTMLModel",
          "model_module_version": "1.5.0",
          "state": {
            "_view_name": "HTMLView",
            "style": "IPY_MODEL_c145b45fe4844eeaae5332ca95bc2bf5",
            "_dom_classes": [],
            "description": "",
            "_model_name": "HTMLModel",
            "placeholder": "​",
            "_view_module": "@jupyter-widgets/controls",
            "_model_module_version": "1.5.0",
            "value": " 570/570 [00:00&lt;00:00, 16.4kB/s]",
            "_view_count": null,
            "_view_module_version": "1.5.0",
            "description_tooltip": null,
            "_model_module": "@jupyter-widgets/controls",
            "layout": "IPY_MODEL_9d935896d573416a862e4f257b9580eb"
          }
        },
        "6775420c586c4f809dcc162e0d1a0686": {
          "model_module": "@jupyter-widgets/controls",
          "model_name": "DescriptionStyleModel",
          "model_module_version": "1.5.0",
          "state": {
            "_view_name": "StyleView",
            "_model_name": "DescriptionStyleModel",
            "description_width": "",
            "_view_module": "@jupyter-widgets/base",
            "_model_module_version": "1.5.0",
            "_view_count": null,
            "_view_module_version": "1.2.0",
            "_model_module": "@jupyter-widgets/controls"
          }
        },
        "42f92bea3f664535b3ba90eb669f7c38": {
          "model_module": "@jupyter-widgets/base",
          "model_name": "LayoutModel",
          "model_module_version": "1.2.0",
          "state": {
            "_view_name": "LayoutView",
            "grid_template_rows": null,
            "right": null,
            "justify_content": null,
            "_view_module": "@jupyter-widgets/base",
            "overflow": null,
            "_model_module_version": "1.2.0",
            "_view_count": null,
            "flex_flow": null,
            "width": null,
            "min_width": null,
            "border": null,
            "align_items": null,
            "bottom": null,
            "_model_module": "@jupyter-widgets/base",
            "top": null,
            "grid_column": null,
            "overflow_y": null,
            "overflow_x": null,
            "grid_auto_flow": null,
            "grid_area": null,
            "grid_template_columns": null,
            "flex": null,
            "_model_name": "LayoutModel",
            "justify_items": null,
            "grid_row": null,
            "max_height": null,
            "align_content": null,
            "visibility": null,
            "align_self": null,
            "height": null,
            "min_height": null,
            "padding": null,
            "grid_auto_rows": null,
            "grid_gap": null,
            "max_width": null,
            "order": null,
            "_view_module_version": "1.2.0",
            "grid_template_areas": null,
            "object_position": null,
            "object_fit": null,
            "grid_auto_columns": null,
            "margin": null,
            "display": null,
            "left": null
          }
        },
        "74c9a7dfe27d4c2ebaa352afc6e448ad": {
          "model_module": "@jupyter-widgets/controls",
          "model_name": "ProgressStyleModel",
          "model_module_version": "1.5.0",
          "state": {
            "_view_name": "StyleView",
            "_model_name": "ProgressStyleModel",
            "description_width": "",
            "_view_module": "@jupyter-widgets/base",
            "_model_module_version": "1.5.0",
            "_view_count": null,
            "_view_module_version": "1.2.0",
            "bar_color": null,
            "_model_module": "@jupyter-widgets/controls"
          }
        },
        "902f8194299941098a39962f4ba5b499": {
          "model_module": "@jupyter-widgets/base",
          "model_name": "LayoutModel",
          "model_module_version": "1.2.0",
          "state": {
            "_view_name": "LayoutView",
            "grid_template_rows": null,
            "right": null,
            "justify_content": null,
            "_view_module": "@jupyter-widgets/base",
            "overflow": null,
            "_model_module_version": "1.2.0",
            "_view_count": null,
            "flex_flow": null,
            "width": null,
            "min_width": null,
            "border": null,
            "align_items": null,
            "bottom": null,
            "_model_module": "@jupyter-widgets/base",
            "top": null,
            "grid_column": null,
            "overflow_y": null,
            "overflow_x": null,
            "grid_auto_flow": null,
            "grid_area": null,
            "grid_template_columns": null,
            "flex": null,
            "_model_name": "LayoutModel",
            "justify_items": null,
            "grid_row": null,
            "max_height": null,
            "align_content": null,
            "visibility": null,
            "align_self": null,
            "height": null,
            "min_height": null,
            "padding": null,
            "grid_auto_rows": null,
            "grid_gap": null,
            "max_width": null,
            "order": null,
            "_view_module_version": "1.2.0",
            "grid_template_areas": null,
            "object_position": null,
            "object_fit": null,
            "grid_auto_columns": null,
            "margin": null,
            "display": null,
            "left": null
          }
        },
        "c145b45fe4844eeaae5332ca95bc2bf5": {
          "model_module": "@jupyter-widgets/controls",
          "model_name": "DescriptionStyleModel",
          "model_module_version": "1.5.0",
          "state": {
            "_view_name": "StyleView",
            "_model_name": "DescriptionStyleModel",
            "description_width": "",
            "_view_module": "@jupyter-widgets/base",
            "_model_module_version": "1.5.0",
            "_view_count": null,
            "_view_module_version": "1.2.0",
            "_model_module": "@jupyter-widgets/controls"
          }
        },
        "9d935896d573416a862e4f257b9580eb": {
          "model_module": "@jupyter-widgets/base",
          "model_name": "LayoutModel",
          "model_module_version": "1.2.0",
          "state": {
            "_view_name": "LayoutView",
            "grid_template_rows": null,
            "right": null,
            "justify_content": null,
            "_view_module": "@jupyter-widgets/base",
            "overflow": null,
            "_model_module_version": "1.2.0",
            "_view_count": null,
            "flex_flow": null,
            "width": null,
            "min_width": null,
            "border": null,
            "align_items": null,
            "bottom": null,
            "_model_module": "@jupyter-widgets/base",
            "top": null,
            "grid_column": null,
            "overflow_y": null,
            "overflow_x": null,
            "grid_auto_flow": null,
            "grid_area": null,
            "grid_template_columns": null,
            "flex": null,
            "_model_name": "LayoutModel",
            "justify_items": null,
            "grid_row": null,
            "max_height": null,
            "align_content": null,
            "visibility": null,
            "align_self": null,
            "height": null,
            "min_height": null,
            "padding": null,
            "grid_auto_rows": null,
            "grid_gap": null,
            "max_width": null,
            "order": null,
            "_view_module_version": "1.2.0",
            "grid_template_areas": null,
            "object_position": null,
            "object_fit": null,
            "grid_auto_columns": null,
            "margin": null,
            "display": null,
            "left": null
          }
        },
        "1917dcc2ff704dacb0cc9de67803dbb1": {
          "model_module": "@jupyter-widgets/controls",
          "model_name": "HBoxModel",
          "model_module_version": "1.5.0",
          "state": {
            "_view_name": "HBoxView",
            "_dom_classes": [],
            "_model_name": "HBoxModel",
            "_view_module": "@jupyter-widgets/controls",
            "_model_module_version": "1.5.0",
            "_view_count": null,
            "_view_module_version": "1.5.0",
            "box_style": "",
            "layout": "IPY_MODEL_aca792d74e6b4b8aa88b7e62a4a11d09",
            "_model_module": "@jupyter-widgets/controls",
            "children": [
              "IPY_MODEL_fa4ca266876a48518e691240699d8e9c",
              "IPY_MODEL_ebf83fda51854de2a93b4ad9d8c6f548",
              "IPY_MODEL_919f15a591a44a1f9f1a04558bacd0e8"
            ]
          }
        },
        "aca792d74e6b4b8aa88b7e62a4a11d09": {
          "model_module": "@jupyter-widgets/base",
          "model_name": "LayoutModel",
          "model_module_version": "1.2.0",
          "state": {
            "_view_name": "LayoutView",
            "grid_template_rows": null,
            "right": null,
            "justify_content": null,
            "_view_module": "@jupyter-widgets/base",
            "overflow": null,
            "_model_module_version": "1.2.0",
            "_view_count": null,
            "flex_flow": null,
            "width": null,
            "min_width": null,
            "border": null,
            "align_items": null,
            "bottom": null,
            "_model_module": "@jupyter-widgets/base",
            "top": null,
            "grid_column": null,
            "overflow_y": null,
            "overflow_x": null,
            "grid_auto_flow": null,
            "grid_area": null,
            "grid_template_columns": null,
            "flex": null,
            "_model_name": "LayoutModel",
            "justify_items": null,
            "grid_row": null,
            "max_height": null,
            "align_content": null,
            "visibility": null,
            "align_self": null,
            "height": null,
            "min_height": null,
            "padding": null,
            "grid_auto_rows": null,
            "grid_gap": null,
            "max_width": null,
            "order": null,
            "_view_module_version": "1.2.0",
            "grid_template_areas": null,
            "object_position": null,
            "object_fit": null,
            "grid_auto_columns": null,
            "margin": null,
            "display": null,
            "left": null
          }
        },
        "fa4ca266876a48518e691240699d8e9c": {
          "model_module": "@jupyter-widgets/controls",
          "model_name": "HTMLModel",
          "model_module_version": "1.5.0",
          "state": {
            "_view_name": "HTMLView",
            "style": "IPY_MODEL_99616a8e1da148e1864079b2b7541f35",
            "_dom_classes": [],
            "description": "",
            "_model_name": "HTMLModel",
            "placeholder": "​",
            "_view_module": "@jupyter-widgets/controls",
            "_model_module_version": "1.5.0",
            "value": "Downloading: 100%",
            "_view_count": null,
            "_view_module_version": "1.5.0",
            "description_tooltip": null,
            "_model_module": "@jupyter-widgets/controls",
            "layout": "IPY_MODEL_1ab605fb3c2941b989b342efe44ec721"
          }
        },
        "ebf83fda51854de2a93b4ad9d8c6f548": {
          "model_module": "@jupyter-widgets/controls",
          "model_name": "FloatProgressModel",
          "model_module_version": "1.5.0",
          "state": {
            "_view_name": "ProgressView",
            "style": "IPY_MODEL_250f5f97c86f4c63a56b4ca8a0fb7659",
            "_dom_classes": [],
            "description": "",
            "_model_name": "FloatProgressModel",
            "bar_style": "success",
            "max": 440473133,
            "_view_module": "@jupyter-widgets/controls",
            "_model_module_version": "1.5.0",
            "value": 440473133,
            "_view_count": null,
            "_view_module_version": "1.5.0",
            "orientation": "horizontal",
            "min": 0,
            "description_tooltip": null,
            "_model_module": "@jupyter-widgets/controls",
            "layout": "IPY_MODEL_488392e8b452480a826649a7ec672df6"
          }
        },
        "919f15a591a44a1f9f1a04558bacd0e8": {
          "model_module": "@jupyter-widgets/controls",
          "model_name": "HTMLModel",
          "model_module_version": "1.5.0",
          "state": {
            "_view_name": "HTMLView",
            "style": "IPY_MODEL_5b7ad249a8834c87bcd94da77a8405d3",
            "_dom_classes": [],
            "description": "",
            "_model_name": "HTMLModel",
            "placeholder": "​",
            "_view_module": "@jupyter-widgets/controls",
            "_model_module_version": "1.5.0",
            "value": " 440M/440M [00:08&lt;00:00, 50.7MB/s]",
            "_view_count": null,
            "_view_module_version": "1.5.0",
            "description_tooltip": null,
            "_model_module": "@jupyter-widgets/controls",
            "layout": "IPY_MODEL_0ead1c96705f42818d42a442c54553f2"
          }
        },
        "99616a8e1da148e1864079b2b7541f35": {
          "model_module": "@jupyter-widgets/controls",
          "model_name": "DescriptionStyleModel",
          "model_module_version": "1.5.0",
          "state": {
            "_view_name": "StyleView",
            "_model_name": "DescriptionStyleModel",
            "description_width": "",
            "_view_module": "@jupyter-widgets/base",
            "_model_module_version": "1.5.0",
            "_view_count": null,
            "_view_module_version": "1.2.0",
            "_model_module": "@jupyter-widgets/controls"
          }
        },
        "1ab605fb3c2941b989b342efe44ec721": {
          "model_module": "@jupyter-widgets/base",
          "model_name": "LayoutModel",
          "model_module_version": "1.2.0",
          "state": {
            "_view_name": "LayoutView",
            "grid_template_rows": null,
            "right": null,
            "justify_content": null,
            "_view_module": "@jupyter-widgets/base",
            "overflow": null,
            "_model_module_version": "1.2.0",
            "_view_count": null,
            "flex_flow": null,
            "width": null,
            "min_width": null,
            "border": null,
            "align_items": null,
            "bottom": null,
            "_model_module": "@jupyter-widgets/base",
            "top": null,
            "grid_column": null,
            "overflow_y": null,
            "overflow_x": null,
            "grid_auto_flow": null,
            "grid_area": null,
            "grid_template_columns": null,
            "flex": null,
            "_model_name": "LayoutModel",
            "justify_items": null,
            "grid_row": null,
            "max_height": null,
            "align_content": null,
            "visibility": null,
            "align_self": null,
            "height": null,
            "min_height": null,
            "padding": null,
            "grid_auto_rows": null,
            "grid_gap": null,
            "max_width": null,
            "order": null,
            "_view_module_version": "1.2.0",
            "grid_template_areas": null,
            "object_position": null,
            "object_fit": null,
            "grid_auto_columns": null,
            "margin": null,
            "display": null,
            "left": null
          }
        },
        "250f5f97c86f4c63a56b4ca8a0fb7659": {
          "model_module": "@jupyter-widgets/controls",
          "model_name": "ProgressStyleModel",
          "model_module_version": "1.5.0",
          "state": {
            "_view_name": "StyleView",
            "_model_name": "ProgressStyleModel",
            "description_width": "",
            "_view_module": "@jupyter-widgets/base",
            "_model_module_version": "1.5.0",
            "_view_count": null,
            "_view_module_version": "1.2.0",
            "bar_color": null,
            "_model_module": "@jupyter-widgets/controls"
          }
        },
        "488392e8b452480a826649a7ec672df6": {
          "model_module": "@jupyter-widgets/base",
          "model_name": "LayoutModel",
          "model_module_version": "1.2.0",
          "state": {
            "_view_name": "LayoutView",
            "grid_template_rows": null,
            "right": null,
            "justify_content": null,
            "_view_module": "@jupyter-widgets/base",
            "overflow": null,
            "_model_module_version": "1.2.0",
            "_view_count": null,
            "flex_flow": null,
            "width": null,
            "min_width": null,
            "border": null,
            "align_items": null,
            "bottom": null,
            "_model_module": "@jupyter-widgets/base",
            "top": null,
            "grid_column": null,
            "overflow_y": null,
            "overflow_x": null,
            "grid_auto_flow": null,
            "grid_area": null,
            "grid_template_columns": null,
            "flex": null,
            "_model_name": "LayoutModel",
            "justify_items": null,
            "grid_row": null,
            "max_height": null,
            "align_content": null,
            "visibility": null,
            "align_self": null,
            "height": null,
            "min_height": null,
            "padding": null,
            "grid_auto_rows": null,
            "grid_gap": null,
            "max_width": null,
            "order": null,
            "_view_module_version": "1.2.0",
            "grid_template_areas": null,
            "object_position": null,
            "object_fit": null,
            "grid_auto_columns": null,
            "margin": null,
            "display": null,
            "left": null
          }
        },
        "5b7ad249a8834c87bcd94da77a8405d3": {
          "model_module": "@jupyter-widgets/controls",
          "model_name": "DescriptionStyleModel",
          "model_module_version": "1.5.0",
          "state": {
            "_view_name": "StyleView",
            "_model_name": "DescriptionStyleModel",
            "description_width": "",
            "_view_module": "@jupyter-widgets/base",
            "_model_module_version": "1.5.0",
            "_view_count": null,
            "_view_module_version": "1.2.0",
            "_model_module": "@jupyter-widgets/controls"
          }
        },
        "0ead1c96705f42818d42a442c54553f2": {
          "model_module": "@jupyter-widgets/base",
          "model_name": "LayoutModel",
          "model_module_version": "1.2.0",
          "state": {
            "_view_name": "LayoutView",
            "grid_template_rows": null,
            "right": null,
            "justify_content": null,
            "_view_module": "@jupyter-widgets/base",
            "overflow": null,
            "_model_module_version": "1.2.0",
            "_view_count": null,
            "flex_flow": null,
            "width": null,
            "min_width": null,
            "border": null,
            "align_items": null,
            "bottom": null,
            "_model_module": "@jupyter-widgets/base",
            "top": null,
            "grid_column": null,
            "overflow_y": null,
            "overflow_x": null,
            "grid_auto_flow": null,
            "grid_area": null,
            "grid_template_columns": null,
            "flex": null,
            "_model_name": "LayoutModel",
            "justify_items": null,
            "grid_row": null,
            "max_height": null,
            "align_content": null,
            "visibility": null,
            "align_self": null,
            "height": null,
            "min_height": null,
            "padding": null,
            "grid_auto_rows": null,
            "grid_gap": null,
            "max_width": null,
            "order": null,
            "_view_module_version": "1.2.0",
            "grid_template_areas": null,
            "object_position": null,
            "object_fit": null,
            "grid_auto_columns": null,
            "margin": null,
            "display": null,
            "left": null
          }
        }
      }
    }
  },
  "cells": [
    {
      "cell_type": "markdown",
      "source": [
        "# Imports & Installations"
      ],
      "metadata": {
        "id": "QcCv-prETPYc"
      }
    },
    {
      "cell_type": "code",
      "execution_count": null,
      "source": [
        "!pip install pyforest\r\n",
        "!pip install plotnine \r\n",
        "!pip install transformers\r\n",
        "!pip install psycopg2-binary\r\n",
        "!pip uninstall -y tensorflow-datasets\r\n",
        "!pip install lit_nlp tfds-nightly transformers==4.1.1"
      ],
      "outputs": [
        {
          "output_type": "stream",
          "name": "stdout",
          "text": [
            "Requirement already satisfied: pyforest in /usr/local/lib/python3.7/dist-packages (1.1.0)\n",
            "Requirement already satisfied: plotnine in /usr/local/lib/python3.7/dist-packages (0.6.0)\n",
            "Requirement already satisfied: descartes>=1.1.0 in /usr/local/lib/python3.7/dist-packages (from plotnine) (1.1.0)\n",
            "Requirement already satisfied: pandas>=0.25.0 in /usr/local/lib/python3.7/dist-packages (from plotnine) (1.1.5)\n",
            "Requirement already satisfied: patsy>=0.4.1 in /usr/local/lib/python3.7/dist-packages (from plotnine) (0.5.1)\n",
            "Requirement already satisfied: statsmodels>=0.9.0 in /usr/local/lib/python3.7/dist-packages (from plotnine) (0.10.2)\n",
            "Requirement already satisfied: mizani>=0.6.0 in /usr/local/lib/python3.7/dist-packages (from plotnine) (0.6.0)\n",
            "Requirement already satisfied: numpy>=1.16.0 in /usr/local/lib/python3.7/dist-packages (from plotnine) (1.19.5)\n",
            "Requirement already satisfied: scipy>=1.2.0 in /usr/local/lib/python3.7/dist-packages (from plotnine) (1.4.1)\n",
            "Requirement already satisfied: matplotlib>=3.1.1 in /usr/local/lib/python3.7/dist-packages (from plotnine) (3.2.2)\n",
            "Requirement already satisfied: pyparsing!=2.0.4,!=2.1.2,!=2.1.6,>=2.0.1 in /usr/local/lib/python3.7/dist-packages (from matplotlib>=3.1.1->plotnine) (2.4.7)\n",
            "Requirement already satisfied: kiwisolver>=1.0.1 in /usr/local/lib/python3.7/dist-packages (from matplotlib>=3.1.1->plotnine) (1.3.1)\n",
            "Requirement already satisfied: python-dateutil>=2.1 in /usr/local/lib/python3.7/dist-packages (from matplotlib>=3.1.1->plotnine) (2.8.2)\n",
            "Requirement already satisfied: cycler>=0.10 in /usr/local/lib/python3.7/dist-packages (from matplotlib>=3.1.1->plotnine) (0.10.0)\n",
            "Requirement already satisfied: six in /usr/local/lib/python3.7/dist-packages (from cycler>=0.10->matplotlib>=3.1.1->plotnine) (1.15.0)\n",
            "Requirement already satisfied: palettable in /usr/local/lib/python3.7/dist-packages (from mizani>=0.6.0->plotnine) (3.3.0)\n",
            "Requirement already satisfied: pytz>=2017.2 in /usr/local/lib/python3.7/dist-packages (from pandas>=0.25.0->plotnine) (2018.9)\n",
            "Requirement already satisfied: transformers in /usr/local/lib/python3.7/dist-packages (4.1.1)\n",
            "Requirement already satisfied: sacremoses in /usr/local/lib/python3.7/dist-packages (from transformers) (0.0.45)\n",
            "Requirement already satisfied: regex!=2019.12.17 in /usr/local/lib/python3.7/dist-packages (from transformers) (2019.12.20)\n",
            "Requirement already satisfied: tqdm>=4.27 in /usr/local/lib/python3.7/dist-packages (from transformers) (4.62.0)\n",
            "Requirement already satisfied: packaging in /usr/local/lib/python3.7/dist-packages (from transformers) (21.0)\n",
            "Requirement already satisfied: requests in /usr/local/lib/python3.7/dist-packages (from transformers) (2.23.0)\n",
            "Requirement already satisfied: numpy in /usr/local/lib/python3.7/dist-packages (from transformers) (1.19.5)\n",
            "Requirement already satisfied: filelock in /usr/local/lib/python3.7/dist-packages (from transformers) (3.0.12)\n",
            "Requirement already satisfied: tokenizers==0.9.4 in /usr/local/lib/python3.7/dist-packages (from transformers) (0.9.4)\n",
            "Requirement already satisfied: pyparsing>=2.0.2 in /usr/local/lib/python3.7/dist-packages (from packaging->transformers) (2.4.7)\n",
            "Requirement already satisfied: certifi>=2017.4.17 in /usr/local/lib/python3.7/dist-packages (from requests->transformers) (2021.5.30)\n",
            "Requirement already satisfied: chardet<4,>=3.0.2 in /usr/local/lib/python3.7/dist-packages (from requests->transformers) (3.0.4)\n",
            "Requirement already satisfied: idna<3,>=2.5 in /usr/local/lib/python3.7/dist-packages (from requests->transformers) (2.10)\n",
            "Requirement already satisfied: urllib3!=1.25.0,!=1.25.1,<1.26,>=1.21.1 in /usr/local/lib/python3.7/dist-packages (from requests->transformers) (1.24.3)\n",
            "Requirement already satisfied: click in /usr/local/lib/python3.7/dist-packages (from sacremoses->transformers) (7.1.2)\n",
            "Requirement already satisfied: six in /usr/local/lib/python3.7/dist-packages (from sacremoses->transformers) (1.15.0)\n",
            "Requirement already satisfied: joblib in /usr/local/lib/python3.7/dist-packages (from sacremoses->transformers) (1.0.1)\n",
            "Requirement already satisfied: psycopg2-binary in /usr/local/lib/python3.7/dist-packages (2.9.1)\n",
            "\u001b[33mWARNING: Skipping tensorflow-datasets as it is not installed.\u001b[0m\n",
            "Requirement already satisfied: lit_nlp in /usr/local/lib/python3.7/dist-packages (0.3)\n",
            "Requirement already satisfied: tfds-nightly in /usr/local/lib/python3.7/dist-packages (4.4.0.dev202108230107)\n",
            "Requirement already satisfied: transformers==4.1.1 in /usr/local/lib/python3.7/dist-packages (4.1.1)\n",
            "Requirement already satisfied: sacremoses in /usr/local/lib/python3.7/dist-packages (from transformers==4.1.1) (0.0.45)\n",
            "Requirement already satisfied: tqdm>=4.27 in /usr/local/lib/python3.7/dist-packages (from transformers==4.1.1) (4.62.0)\n",
            "Requirement already satisfied: requests in /usr/local/lib/python3.7/dist-packages (from transformers==4.1.1) (2.23.0)\n",
            "Requirement already satisfied: filelock in /usr/local/lib/python3.7/dist-packages (from transformers==4.1.1) (3.0.12)\n",
            "Requirement already satisfied: numpy in /usr/local/lib/python3.7/dist-packages (from transformers==4.1.1) (1.19.5)\n",
            "Requirement already satisfied: packaging in /usr/local/lib/python3.7/dist-packages (from transformers==4.1.1) (21.0)\n",
            "Requirement already satisfied: regex!=2019.12.17 in /usr/local/lib/python3.7/dist-packages (from transformers==4.1.1) (2019.12.20)\n",
            "Requirement already satisfied: tokenizers==0.9.4 in /usr/local/lib/python3.7/dist-packages (from transformers==4.1.1) (0.9.4)\n",
            "Requirement already satisfied: absl-py in /usr/local/lib/python3.7/dist-packages (from lit_nlp) (0.12.0)\n",
            "Requirement already satisfied: umap-learn in /usr/local/lib/python3.7/dist-packages (from lit_nlp) (0.5.1)\n",
            "Requirement already satisfied: sacrebleu in /usr/local/lib/python3.7/dist-packages (from lit_nlp) (2.0.0)\n",
            "Requirement already satisfied: portpicker in /usr/local/lib/python3.7/dist-packages (from lit_nlp) (1.3.9)\n",
            "Requirement already satisfied: scikit-learn in /usr/local/lib/python3.7/dist-packages (from lit_nlp) (0.22.2.post1)\n",
            "Requirement already satisfied: ml-collections in /usr/local/lib/python3.7/dist-packages (from lit_nlp) (0.1.0)\n",
            "Requirement already satisfied: pandas in /usr/local/lib/python3.7/dist-packages (from lit_nlp) (1.1.5)\n",
            "Requirement already satisfied: scipy in /usr/local/lib/python3.7/dist-packages (from lit_nlp) (1.4.1)\n",
            "Requirement already satisfied: attrs in /usr/local/lib/python3.7/dist-packages (from lit_nlp) (21.2.0)\n",
            "Requirement already satisfied: Werkzeug in /usr/local/lib/python3.7/dist-packages (from lit_nlp) (1.0.1)\n",
            "Requirement already satisfied: dill in /usr/local/lib/python3.7/dist-packages (from tfds-nightly) (0.3.4)\n",
            "Requirement already satisfied: six in /usr/local/lib/python3.7/dist-packages (from tfds-nightly) (1.15.0)\n",
            "Requirement already satisfied: importlib-resources in /usr/local/lib/python3.7/dist-packages (from tfds-nightly) (5.2.2)\n",
            "Requirement already satisfied: promise in /usr/local/lib/python3.7/dist-packages (from tfds-nightly) (2.3)\n",
            "Requirement already satisfied: tensorflow-metadata in /usr/local/lib/python3.7/dist-packages (from tfds-nightly) (1.2.0)\n",
            "Requirement already satisfied: termcolor in /usr/local/lib/python3.7/dist-packages (from tfds-nightly) (1.1.0)\n",
            "Requirement already satisfied: protobuf>=3.12.2 in /usr/local/lib/python3.7/dist-packages (from tfds-nightly) (3.17.3)\n",
            "Requirement already satisfied: future in /usr/local/lib/python3.7/dist-packages (from tfds-nightly) (0.16.0)\n",
            "Requirement already satisfied: typing-extensions in /usr/local/lib/python3.7/dist-packages (from tfds-nightly) (3.7.4.3)\n",
            "Requirement already satisfied: urllib3!=1.25.0,!=1.25.1,<1.26,>=1.21.1 in /usr/local/lib/python3.7/dist-packages (from requests->transformers==4.1.1) (1.24.3)\n",
            "Requirement already satisfied: chardet<4,>=3.0.2 in /usr/local/lib/python3.7/dist-packages (from requests->transformers==4.1.1) (3.0.4)\n",
            "Requirement already satisfied: idna<3,>=2.5 in /usr/local/lib/python3.7/dist-packages (from requests->transformers==4.1.1) (2.10)\n",
            "Requirement already satisfied: certifi>=2017.4.17 in /usr/local/lib/python3.7/dist-packages (from requests->transformers==4.1.1) (2021.5.30)\n",
            "Requirement already satisfied: zipp>=3.1.0 in /usr/local/lib/python3.7/dist-packages (from importlib-resources->tfds-nightly) (3.5.0)\n",
            "Requirement already satisfied: PyYAML in /usr/local/lib/python3.7/dist-packages (from ml-collections->lit_nlp) (5.4.1)\n",
            "Requirement already satisfied: contextlib2 in /usr/local/lib/python3.7/dist-packages (from ml-collections->lit_nlp) (0.5.5)\n",
            "Requirement already satisfied: pyparsing>=2.0.2 in /usr/local/lib/python3.7/dist-packages (from packaging->transformers==4.1.1) (2.4.7)\n",
            "Requirement already satisfied: pytz>=2017.2 in /usr/local/lib/python3.7/dist-packages (from pandas->lit_nlp) (2018.9)\n",
            "Requirement already satisfied: python-dateutil>=2.7.3 in /usr/local/lib/python3.7/dist-packages (from pandas->lit_nlp) (2.8.2)\n",
            "Requirement already satisfied: colorama in /usr/local/lib/python3.7/dist-packages (from sacrebleu->lit_nlp) (0.4.4)\n",
            "Requirement already satisfied: portalocker in /usr/local/lib/python3.7/dist-packages (from sacrebleu->lit_nlp) (2.3.1)\n",
            "Requirement already satisfied: tabulate>=0.8.9 in /usr/local/lib/python3.7/dist-packages (from sacrebleu->lit_nlp) (0.8.9)\n",
            "Requirement already satisfied: click in /usr/local/lib/python3.7/dist-packages (from sacremoses->transformers==4.1.1) (7.1.2)\n",
            "Requirement already satisfied: joblib in /usr/local/lib/python3.7/dist-packages (from sacremoses->transformers==4.1.1) (1.0.1)\n",
            "Requirement already satisfied: googleapis-common-protos<2,>=1.52.0 in /usr/local/lib/python3.7/dist-packages (from tensorflow-metadata->tfds-nightly) (1.53.0)\n",
            "Requirement already satisfied: numba>=0.49 in /usr/local/lib/python3.7/dist-packages (from umap-learn->lit_nlp) (0.51.2)\n",
            "Requirement already satisfied: pynndescent>=0.5 in /usr/local/lib/python3.7/dist-packages (from umap-learn->lit_nlp) (0.5.4)\n",
            "Requirement already satisfied: setuptools in /usr/local/lib/python3.7/dist-packages (from numba>=0.49->umap-learn->lit_nlp) (57.4.0)\n",
            "Requirement already satisfied: llvmlite<0.35,>=0.34.0.dev0 in /usr/local/lib/python3.7/dist-packages (from numba>=0.49->umap-learn->lit_nlp) (0.34.0)\n"
          ]
        }
      ],
      "metadata": {
        "id": "VEH0zNz2FO_K",
        "colab": {
          "base_uri": "https://localhost:8080/"
        },
        "outputId": "8c83aaf7-c3d8-4b49-cef7-25318cd03217"
      }
    },
    {
      "cell_type": "code",
      "execution_count": null,
      "source": [
        "# Automatic library importer (doesn't quite import everything yet)\r\n",
        "from pyforest import *\r\n",
        "# Expands Dataframe to view entire pandas dataframe\r\n",
        "pd.options.display.max_colwidth = 750\r\n",
        "# For tracking the duration of executed code cells\r\n",
        "from time import time\r\n",
        "# To connect to Blue Witness Labeler's DB\r\n",
        "import psycopg2\r\n",
        "# For visualizations\r\n",
        "from plotnine import *\r\n",
        "from plotnine.data import mpg\r\n",
        "import plotly.graph_objects as go\r\n",
        "from plotly.subplots import make_subplots\r\n",
        "# For BERT model\r\n",
        "import torch\r\n",
        "from torch.utils.data import TensorDataset, DataLoader, RandomSampler\r\n",
        "from transformers import BertTokenizer, BertForSequenceClassification, AdamW\r\n",
        "from transformers import get_linear_schedule_with_warmup\r\n",
        "from tensorflow.keras.preprocessing.sequence import pad_sequences"
      ],
      "outputs": [
        {
          "output_type": "display_data",
          "data": {
            "text/plain": [
              "<IPython.core.display.Javascript object>"
            ],
            "application/javascript": "\n        if (window._pyforest_update_imports_cell) { window._pyforest_update_imports_cell('import pandas as pd'); }\n    "
          },
          "metadata": {}
        }
      ],
      "metadata": {
        "colab": {
          "base_uri": "https://localhost:8080/",
          "height": 17
        },
        "id": "WP4yh9fRFSrq",
        "outputId": "6846d232-d262-4513-8180-c36701e2f5a8"
      }
    },
    {
      "cell_type": "markdown",
      "source": [
        "# Reading in our Tweets\n",
        "\n"
      ],
      "metadata": {
        "id": "SwVmV4rPJCa7"
      }
    },
    {
      "cell_type": "code",
      "execution_count": null,
      "source": [
        "def get_df(db_url) -> pd.DataFrame:\r\n",
        "    '''\r\n",
        "    Connects to our Blue Witness Data Labeler and retrieves manually labelled text before converting them all into a pandas dataframe.\r\n",
        "    \r\n",
        "    Parameters\r\n",
        "    ----------\r\n",
        "    db_url: psycopg2 database\r\n",
        "    \r\n",
        "    Returns\r\n",
        "    -------\r\n",
        "    df: pandas datafarme \r\n",
        "        Contains thousands of text with appropriate police (non-)violence labels\r\n",
        "    '''\r\n",
        "    conn = psycopg2.connect(db_url)\r\n",
        "    curs = conn.cursor()\r\n",
        "    curs.execute(\"SELECT * FROM training;\")\r\n",
        "    cols = [k[0] for k in curs.description]\r\n",
        "    rows = curs.fetchall()\r\n",
        "    df = pd.DataFrame(rows, columns=cols)\r\n",
        "    curs.close()\r\n",
        "    conn.close()\r\n",
        "    return df"
      ],
      "outputs": [
        {
          "output_type": "display_data",
          "data": {
            "text/plain": [
              "<IPython.core.display.Javascript object>"
            ],
            "application/javascript": "\n        if (window._pyforest_update_imports_cell) { window._pyforest_update_imports_cell('import pandas as pd'); }\n    "
          },
          "metadata": {}
        }
      ],
      "metadata": {
        "colab": {
          "base_uri": "https://localhost:8080/",
          "height": 17
        },
        "id": "shLM9DYMFvcV",
        "outputId": "08514863-24de-4a54-854a-40fa672aee04"
      }
    },
    {
      "cell_type": "code",
      "execution_count": null,
      "source": [
        "# ALWAYS REMEMBER TO REMOVE THE PostgreSQL URL ASSIGNED TO THIS VARIABLE WHEN COMITTING TO OUR REPO\r\n",
        "db_url = \"\""
      ],
      "outputs": [],
      "metadata": {
        "id": "p5m3e5dbF6bd"
      }
    },
    {
      "cell_type": "code",
      "execution_count": null,
      "source": [
        "data_labeler_df = get_df(db_url)\r\n",
        "data_labeler_df"
      ],
      "outputs": [
        {
          "output_type": "display_data",
          "data": {
            "text/plain": [
              "<IPython.core.display.Javascript object>"
            ],
            "application/javascript": "\n        if (window._pyforest_update_imports_cell) { window._pyforest_update_imports_cell('import pandas as pd'); }\n    "
          },
          "metadata": {}
        },
        {
          "output_type": "execute_result",
          "data": {
            "text/plain": [
              "        id  ... labels\n",
              "0        6  ...      5\n",
              "1        7  ...      0\n",
              "2        8  ...      1\n",
              "3        9  ...      0\n",
              "4       10  ...      0\n",
              "...    ...  ...    ...\n",
              "6249  6254  ...      4\n",
              "6250  6255  ...      0\n",
              "6251  6256  ...      0\n",
              "6252  6258  ...      0\n",
              "6253  6259  ...      0\n",
              "\n",
              "[6254 rows x 3 columns]"
            ],
            "text/html": [
              "<div>\n",
              "<style scoped>\n",
              "    .dataframe tbody tr th:only-of-type {\n",
              "        vertical-align: middle;\n",
              "    }\n",
              "\n",
              "    .dataframe tbody tr th {\n",
              "        vertical-align: top;\n",
              "    }\n",
              "\n",
              "    .dataframe thead th {\n",
              "        text-align: right;\n",
              "    }\n",
              "</style>\n",
              "<table border=\"1\" class=\"dataframe\">\n",
              "  <thead>\n",
              "    <tr style=\"text-align: right;\">\n",
              "      <th></th>\n",
              "      <th>id</th>\n",
              "      <th>tweets</th>\n",
              "      <th>labels</th>\n",
              "    </tr>\n",
              "  </thead>\n",
              "  <tbody>\n",
              "    <tr>\n",
              "      <th>0</th>\n",
              "      <td>6</td>\n",
              "      <td>A New Mexico State Police officer killed two people in crisis within five weeks, and demands for accountability are mounting https://t.co/mFYfC7kTFQ</td>\n",
              "      <td>5</td>\n",
              "    </tr>\n",
              "    <tr>\n",
              "      <th>1</th>\n",
              "      <td>7</td>\n",
              "      <td>I found some police badge stickers at work and I’ve started asking every officer I see if they want one with their name on it. I think it’s funny every time and so do they so I will continue this</td>\n",
              "      <td>0</td>\n",
              "    </tr>\n",
              "    <tr>\n",
              "      <th>2</th>\n",
              "      <td>8</td>\n",
              "      <td>According to media reports, police said they arrested Sharma after a complaint from animal welfare organisation People for Animals. | via @philstarlife https://t.co/DO5ZZlNJHs</td>\n",
              "      <td>1</td>\n",
              "    </tr>\n",
              "    <tr>\n",
              "      <th>3</th>\n",
              "      <td>9</td>\n",
              "      <td>The male who has the knife is now running northbound, per caller.</td>\n",
              "      <td>0</td>\n",
              "    </tr>\n",
              "    <tr>\n",
              "      <th>4</th>\n",
              "      <td>10</td>\n",
              "      <td>Changing the assignments of already existing cops and diverting already existing resources means you wouldn’t have increase the police budget.</td>\n",
              "      <td>0</td>\n",
              "    </tr>\n",
              "    <tr>\n",
              "      <th>...</th>\n",
              "      <td>...</td>\n",
              "      <td>...</td>\n",
              "      <td>...</td>\n",
              "    </tr>\n",
              "    <tr>\n",
              "      <th>6249</th>\n",
              "      <td>6254</td>\n",
              "      <td>Seemingly without warning, a protester holding a sign was maced in the face near High and Broad streets.</td>\n",
              "      <td>4</td>\n",
              "    </tr>\n",
              "    <tr>\n",
              "      <th>6250</th>\n",
              "      <td>6255</td>\n",
              "      <td>A group of police approach a man who identified himself as the owner of the business he was standing outside of. He was not a protester himself, but had been handing out refreshments to protesters. They fire some kind of shots to intimidate him before shouting \"the game is over!\".</td>\n",
              "      <td>0</td>\n",
              "    </tr>\n",
              "    <tr>\n",
              "      <th>6251</th>\n",
              "      <td>6256</td>\n",
              "      <td>Katie Schumpert fled a DUI stop and killed Kimberly Swain.</td>\n",
              "      <td>0</td>\n",
              "    </tr>\n",
              "    <tr>\n",
              "      <th>6252</th>\n",
              "      <td>6258</td>\n",
              "      <td>The Nigerian military and police atrocities going on in Biafra land is unbearable. Now is the time to rise up https://t.co/SEzWezSYZd @10DowningStreet @StateDept @USinNigeria @SecPompeo @netanyahu @GOVUK</td>\n",
              "      <td>0</td>\n",
              "    </tr>\n",
              "    <tr>\n",
              "      <th>6253</th>\n",
              "      <td>6259</td>\n",
              "      <td>Police College Tennis Club, Ikeja hosts maiden top 8 tournament. https://t.co/01DB51lirh</td>\n",
              "      <td>0</td>\n",
              "    </tr>\n",
              "  </tbody>\n",
              "</table>\n",
              "<p>6254 rows × 3 columns</p>\n",
              "</div>"
            ]
          },
          "metadata": {},
          "execution_count": 5
        }
      ],
      "metadata": {
        "colab": {
          "base_uri": "https://localhost:8080/",
          "height": 534
        },
        "id": "2XU_-M33HvQK",
        "outputId": "119acea1-58c0-4b67-e677-29a32f52d57e"
      }
    },
    {
      "cell_type": "code",
      "execution_count": null,
      "source": [
        "def rank_wrangle():\r\n",
        "  '''\r\n",
        "  Loads in both synthetic tweets generated from GPT-2 and authentic tweets scraped and manually labelled from Twitter.\r\n",
        "  Combines both sets of tweets together into a single dataframe.\r\n",
        "  Drops any null values and duplicates.\r\n",
        "  \r\n",
        "  rank2_syn.txt, rank3_syn.txt, and rank4_syn.txt can be found in notebooks/labs37_notebooks/synthetic_tweets\r\n",
        "  \r\n",
        "  Parameters \r\n",
        "  ----------\r\n",
        "  None\r\n",
        "\r\n",
        "  Returns\r\n",
        "  -------\r\n",
        "  df: pandas dataframe\r\n",
        "      Contains fully concatenated dataframe\r\n",
        "  '''\r\n",
        "  # Supplying our dataframes with proper labels\r\n",
        "  column_headers = ['tweets', 'labels']\r\n",
        "  # Reading in our three police force rank datasets\r\n",
        "  synthetic_tweets_rank2 = pd.read_csv(\"/content/rank2_syn.txt\", sep = '/', names=column_headers)\r\n",
        "  synthetic_tweets_rank3 = pd.read_csv(\"/content/rank3_syn.txt\", sep = '/', names=column_headers)\r\n",
        "  synthetic_tweets_rank4 = pd.read_csv(\"/content/rank4_syn.txt\", sep = '/', names=column_headers)\r\n",
        "  # Concatenating all of our datasets into one\r\n",
        "  compiled = pd.concat([data_labeler_df, synthetic_tweets_rank2, synthetic_tweets_rank3, synthetic_tweets_rank4])\r\n",
        "  # Dropping unnecessary column\r\n",
        "  compiled.drop('id', axis=1, inplace=True)\r\n",
        "  # Discarding generated duplicates from GPT-2 while keeping the original Tweets\r\n",
        "  compiled.drop_duplicates(subset='tweets', keep='first', inplace=True)\r\n",
        "  # Dropping any possible NaNs\r\n",
        "  if compiled.isnull().values.any():\r\n",
        "      compiled.dropna(how='any', inplace=True)\r\n",
        "\r\n",
        "  return compiled"
      ],
      "outputs": [],
      "metadata": {
        "id": "suBn1jFAFVbW"
      }
    },
    {
      "cell_type": "code",
      "execution_count": null,
      "source": [
        "# Applying our function above to view the contents of our dataframe\r\n",
        "force_ranks = rank_wrangle()\r\n",
        "force_ranks"
      ],
      "outputs": [
        {
          "output_type": "display_data",
          "data": {
            "text/plain": [
              "<IPython.core.display.Javascript object>"
            ],
            "application/javascript": "\n        if (window._pyforest_update_imports_cell) { window._pyforest_update_imports_cell('import pandas as pd'); }\n    "
          },
          "metadata": {}
        },
        {
          "output_type": "display_data",
          "data": {
            "text/plain": [
              "<IPython.core.display.Javascript object>"
            ],
            "application/javascript": "\n        if (window._pyforest_update_imports_cell) { window._pyforest_update_imports_cell('import pandas as pd'); }\n    "
          },
          "metadata": {}
        },
        {
          "output_type": "display_data",
          "data": {
            "text/plain": [
              "<IPython.core.display.Javascript object>"
            ],
            "application/javascript": "\n        if (window._pyforest_update_imports_cell) { window._pyforest_update_imports_cell('import pandas as pd'); }\n    "
          },
          "metadata": {}
        },
        {
          "output_type": "display_data",
          "data": {
            "text/plain": [
              "<IPython.core.display.Javascript object>"
            ],
            "application/javascript": "\n        if (window._pyforest_update_imports_cell) { window._pyforest_update_imports_cell('import pandas as pd'); }\n    "
          },
          "metadata": {}
        },
        {
          "output_type": "execute_result",
          "data": {
            "text/plain": [
              "                                                                                                                                                                                                                                                                                                                                                                                                                                                                                                                                                                                                                                                                                                                                                                            tweets  labels\n",
              "0                                                                                                                                                                                                                                                                                                                                                                                                                                                                                                                                                                                                                             A New Mexico State Police officer killed two people in crisis within five weeks, and demands for accountability are mounting https://t.co/mFYfC7kTFQ       5\n",
              "1                                                                                                                                                                                                                                                                                                                                                                                                                                                                                                                                                                              I found some police badge stickers at work and I’ve started asking every officer I see if they want one with their name on it. I think it’s funny every time and so do they so I will continue this       0\n",
              "2                                                                                                                                                                                                                                                                                                                                                                                                                                                                                                                                                                                                  According to media reports, police said they arrested Sharma after a complaint from animal welfare organisation People for Animals. | via @philstarlife https://t.co/DO5ZZlNJHs       1\n",
              "3                                                                                                                                                                                                                                                                                                                                                                                                                                                                                                                                                                                                                                                                                                                The male who has the knife is now running northbound, per caller.       0\n",
              "4                                                                                                                                                                                                                                                                                                                                                                                                                                                                                                                                                                                                                                   Changing the assignments of already existing cops and diverting already existing resources means you wouldn’t have increase the police budget.       0\n",
              "..                                                                                                                                                                                                                                                                                                                                                                                                                                                                                                                                                                                                                                                                                                                                                                             ...     ...\n",
              "917                                                                                                                                                                                                                                                                                                                                                                                                                                                                Following the death of an unarmed driver at the hands of police, protesters gathered outside the Miami Police Department. Footage shows a woman screaming and in sufficient pain that another protester is needed to carry her away quickly. Other protesters come to aid her and are summarily pepper-sprayed.       4\n",
              "920                                                                                                                                                                                                                                                                                                                                                                                                                                                                                                                                                                       At a protest outside the ICE facility in Portland, protesters built a barricade and threw objects at ICE agents and officers. Federal agents then deployed tear gas and stun grenades against the crowd.       4\n",
              "921                                                                                                                                                                                                                                                                                                                                                                                                                                                                                                                                                                         Following the death of an unarmed driver at the hands of police, protesters gathered outside the Brooklyn Center police precinct. Around 9pm, police fired tear gas and rubber bullets into the crowd.       4\n",
              "922  A journalist with Mill City Citizen Media is shot to death outside a Shake Shack restaurant after refusing to leave the building. The man was wearing a press jacket and held a sign above his head saying he was not allowed to be on the internet. Police said the man’s name was James Borden and he was receiving medical attention while hospitalized. He was shot once through the head and died shortly afterward. Mill City is about an hour away from Portland./4\\nFollowing the death of an unarmed driver at the hands of police, protesters gathered outside the Brooklyn Center police precinct. Police there had been called to the precinct multiple times about a large fight and other protesters disruptive behavior. Police had deployed tear gas and f...       4\n",
              "923                                                                                                                                                                                                                                                                                                                                                                                          Video shows sound cannon deployed alongside APC. The LRAD can be heard with its characteristic alarm. The use of LRADs is a subject of much contention, with frequent reports of permanent nerve and hearing damage caused by their use. The ACLU’s position is that due to the high risk of damage and lack of research on lasting effects, use is illegal under most circumstances.       4\n",
              "\n",
              "[7519 rows x 2 columns]"
            ],
            "text/html": [
              "<div>\n",
              "<style scoped>\n",
              "    .dataframe tbody tr th:only-of-type {\n",
              "        vertical-align: middle;\n",
              "    }\n",
              "\n",
              "    .dataframe tbody tr th {\n",
              "        vertical-align: top;\n",
              "    }\n",
              "\n",
              "    .dataframe thead th {\n",
              "        text-align: right;\n",
              "    }\n",
              "</style>\n",
              "<table border=\"1\" class=\"dataframe\">\n",
              "  <thead>\n",
              "    <tr style=\"text-align: right;\">\n",
              "      <th></th>\n",
              "      <th>tweets</th>\n",
              "      <th>labels</th>\n",
              "    </tr>\n",
              "  </thead>\n",
              "  <tbody>\n",
              "    <tr>\n",
              "      <th>0</th>\n",
              "      <td>A New Mexico State Police officer killed two people in crisis within five weeks, and demands for accountability are mounting https://t.co/mFYfC7kTFQ</td>\n",
              "      <td>5</td>\n",
              "    </tr>\n",
              "    <tr>\n",
              "      <th>1</th>\n",
              "      <td>I found some police badge stickers at work and I’ve started asking every officer I see if they want one with their name on it. I think it’s funny every time and so do they so I will continue this</td>\n",
              "      <td>0</td>\n",
              "    </tr>\n",
              "    <tr>\n",
              "      <th>2</th>\n",
              "      <td>According to media reports, police said they arrested Sharma after a complaint from animal welfare organisation People for Animals. | via @philstarlife https://t.co/DO5ZZlNJHs</td>\n",
              "      <td>1</td>\n",
              "    </tr>\n",
              "    <tr>\n",
              "      <th>3</th>\n",
              "      <td>The male who has the knife is now running northbound, per caller.</td>\n",
              "      <td>0</td>\n",
              "    </tr>\n",
              "    <tr>\n",
              "      <th>4</th>\n",
              "      <td>Changing the assignments of already existing cops and diverting already existing resources means you wouldn’t have increase the police budget.</td>\n",
              "      <td>0</td>\n",
              "    </tr>\n",
              "    <tr>\n",
              "      <th>...</th>\n",
              "      <td>...</td>\n",
              "      <td>...</td>\n",
              "    </tr>\n",
              "    <tr>\n",
              "      <th>917</th>\n",
              "      <td>Following the death of an unarmed driver at the hands of police, protesters gathered outside the Miami Police Department. Footage shows a woman screaming and in sufficient pain that another protester is needed to carry her away quickly. Other protesters come to aid her and are summarily pepper-sprayed.</td>\n",
              "      <td>4</td>\n",
              "    </tr>\n",
              "    <tr>\n",
              "      <th>920</th>\n",
              "      <td>At a protest outside the ICE facility in Portland, protesters built a barricade and threw objects at ICE agents and officers. Federal agents then deployed tear gas and stun grenades against the crowd.</td>\n",
              "      <td>4</td>\n",
              "    </tr>\n",
              "    <tr>\n",
              "      <th>921</th>\n",
              "      <td>Following the death of an unarmed driver at the hands of police, protesters gathered outside the Brooklyn Center police precinct. Around 9pm, police fired tear gas and rubber bullets into the crowd.</td>\n",
              "      <td>4</td>\n",
              "    </tr>\n",
              "    <tr>\n",
              "      <th>922</th>\n",
              "      <td>A journalist with Mill City Citizen Media is shot to death outside a Shake Shack restaurant after refusing to leave the building. The man was wearing a press jacket and held a sign above his head saying he was not allowed to be on the internet. Police said the man’s name was James Borden and he was receiving medical attention while hospitalized. He was shot once through the head and died shortly afterward. Mill City is about an hour away from Portland./4\\nFollowing the death of an unarmed driver at the hands of police, protesters gathered outside the Brooklyn Center police precinct. Police there had been called to the precinct multiple times about a large fight and other protesters disruptive behavior. Police had deployed tear gas and f...</td>\n",
              "      <td>4</td>\n",
              "    </tr>\n",
              "    <tr>\n",
              "      <th>923</th>\n",
              "      <td>Video shows sound cannon deployed alongside APC. The LRAD can be heard with its characteristic alarm. The use of LRADs is a subject of much contention, with frequent reports of permanent nerve and hearing damage caused by their use. The ACLU’s position is that due to the high risk of damage and lack of research on lasting effects, use is illegal under most circumstances.</td>\n",
              "      <td>4</td>\n",
              "    </tr>\n",
              "  </tbody>\n",
              "</table>\n",
              "<p>7519 rows × 2 columns</p>\n",
              "</div>"
            ]
          },
          "metadata": {},
          "execution_count": 9
        }
      ],
      "metadata": {
        "colab": {
          "base_uri": "https://localhost:8080/",
          "height": 669
        },
        "id": "JIxVazavHLaJ",
        "outputId": "3c3670db-a62b-478c-bd72-c6a0aaeed693"
      }
    },
    {
      "cell_type": "markdown",
      "source": [
        "# Visualizations"
      ],
      "metadata": {
        "id": "YGUMT3M6IVaN"
      }
    },
    {
      "cell_type": "code",
      "execution_count": null,
      "source": [
        "%matplotlib inline\r\n",
        "\r\n",
        "(ggplot(force_ranks)         # defining what dataframe to use\r\n",
        " + aes(x='labels')          # defining what variable/column to use\r\n",
        " + geom_bar(size=20)       # defining the type of plot to use and its size\r\n",
        " + labs(title='Number of Tweets Reporting Police Violence per Force Rank', x='Force Rank', y='Number of Tweets')\r\n",
        ")"
      ],
      "outputs": [
        {
          "output_type": "display_data",
          "data": {
            "text/plain": [
              "<Figure size 640x480 with 1 Axes>"
            ],
            "image/png": "[encoded data removed]"
          },
          "metadata": {}
        },
        {
          "output_type": "execute_result",
          "data": {
            "text/plain": [
              "<ggplot: (8732987587825)>"
            ]
          },
          "metadata": {},
          "execution_count": 10
        }
      ],
      "metadata": {
        "colab": {
          "base_uri": "https://localhost:8080/",
          "height": 490
        },
        "id": "nVmHBfCsPE8c",
        "outputId": "6d6c9ca5-e843-4b6c-a667-05c31523a3f9"
      }
    },
    {
      "cell_type": "code",
      "execution_count": null,
      "source": [
        "# Creating custom donut chart with Plotly\r\n",
        "labels = ['0 - No Police Presence', '5 - Lethal Force (Guns & Explosives)', '1 - Non-violent Police Presence', '3 - Blunt Force Trauma (Batons & Shields)', '4 - Chemical & Electric Weapons (Tasers & Pepper Spray)', '2 - Open Handed (Arm Holds & Pushing)']\r\n",
        "values = force_ranks.labels.value_counts()\r\n",
        "\r\n",
        "bw_colors = ['rgb(138, 138, 144)', 'rgb(34, 53, 101)', 'rgb(37, 212, 247)', 'rgb(59, 88, 181)', 'rgb(56, 75, 126)',\r\n",
        "                'rgb(99, 133, 242)']\r\n",
        "\r\n",
        "# Using 'pull' on Rank 5 to accentuate the frequency of the most excessive use of force by police\r\n",
        "# 'hole' determines the size of the donut chart\r\n",
        "fig = go.Figure(data=[go.Pie(labels=labels,\r\n",
        "                             values=values, pull=[0, 0.2, 0, 0, 0, 0],\r\n",
        "                             hole=.3,\r\n",
        "                             name='Blue Witness',\r\n",
        "                             marker_colors=bw_colors)])\r\n",
        "\r\n",
        "# Displaying our donut chart\r\n",
        "fig.update(layout_title_text='Percentage of Tweets Reporting Police Violence per Force Rank')\r\n",
        "fig = go.Figure(fig)\r\n",
        "fig.show()"
      ],
      "outputs": [
        {
          "output_type": "display_data",
          "data": {
            "text/html": [
              "<html>\n",
              "<head><meta charset=\"utf-8\" /></head>\n",
              "<body>\n",
              "    <div>\n",
              "            <script src=\"https://cdnjs.cloudflare.com/ajax/libs/mathjax/2.7.5/MathJax.js?config=TeX-AMS-MML_SVG\"></script><script type=\"text/javascript\">if (window.MathJax) {MathJax.Hub.Config({SVG: {font: \"STIX-Web\"}});}</script>\n",
              "                <script type=\"text/javascript\">window.PlotlyConfig = {MathJaxConfig: 'local'};</script>\n",
              "        <script src=\"https://cdn.plot.ly/plotly-latest.min.js\"></script>    \n",
              "            <div id=\"46bde51c-3592-4ee3-bcff-c85fd18ffba8\" class=\"plotly-graph-div\" style=\"height:525px; width:100%;\"></div>\n",
              "            <script type=\"text/javascript\">\n",
              "                \n",
              "                    window.PLOTLYENV=window.PLOTLYENV || {};\n",
              "                    \n",
              "                if (document.getElementById(\"46bde51c-3592-4ee3-bcff-c85fd18ffba8\")) {\n",
              "                    Plotly.newPlot(\n",
              "                        '46bde51c-3592-4ee3-bcff-c85fd18ffba8',\n",
              "                        [{\"hole\": 0.3, \"labels\": [\"0 - No Police Presence\", \"5 - Lethal Force (Guns & Explosives)\", \"1 - Non-violent Police Presence\", \"3 - Blunt Force Trauma (Batons & Shields)\", \"4 - Chemical & Electric Weapons (Tasers & Pepper Spray)\", \"2 - Open Handed (Arm Holds & Pushing)\"], \"marker\": {\"colors\": [\"rgb(138, 138, 144)\", \"rgb(34, 53, 101)\", \"rgb(37, 212, 247)\", \"rgb(59, 88, 181)\", \"rgb(56, 75, 126)\", \"rgb(99, 133, 242)\"]}, \"name\": \"Blue Witness\", \"pull\": [0, 0.2, 0, 0, 0, 0], \"type\": \"pie\", \"values\": [2558, 1427, 1079, 887, 837, 731]}],\n",
              "                        {\"template\": {\"data\": {\"bar\": [{\"error_x\": {\"color\": \"#2a3f5f\"}, \"error_y\": {\"color\": \"#2a3f5f\"}, \"marker\": {\"line\": {\"color\": \"#E5ECF6\", \"width\": 0.5}}, \"type\": \"bar\"}], \"barpolar\": [{\"marker\": {\"line\": {\"color\": \"#E5ECF6\", \"width\": 0.5}}, \"type\": \"barpolar\"}], \"carpet\": [{\"aaxis\": {\"endlinecolor\": \"#2a3f5f\", \"gridcolor\": \"white\", \"linecolor\": \"white\", \"minorgridcolor\": \"white\", \"startlinecolor\": \"#2a3f5f\"}, \"baxis\": {\"endlinecolor\": \"#2a3f5f\", \"gridcolor\": \"white\", \"linecolor\": \"white\", \"minorgridcolor\": \"white\", \"startlinecolor\": \"#2a3f5f\"}, \"type\": \"carpet\"}], \"choropleth\": [{\"colorbar\": {\"outlinewidth\": 0, \"ticks\": \"\"}, \"type\": \"choropleth\"}], \"contour\": [{\"colorbar\": {\"outlinewidth\": 0, \"ticks\": \"\"}, \"colorscale\": [[0.0, \"#0d0887\"], [0.1111111111111111, \"#46039f\"], [0.2222222222222222, \"#7201a8\"], [0.3333333333333333, \"#9c179e\"], [0.4444444444444444, \"#bd3786\"], [0.5555555555555556, \"#d8576b\"], [0.6666666666666666, \"#ed7953\"], [0.7777777777777778, \"#fb9f3a\"], [0.8888888888888888, \"#fdca26\"], [1.0, \"#f0f921\"]], \"type\": \"contour\"}], \"contourcarpet\": [{\"colorbar\": {\"outlinewidth\": 0, \"ticks\": \"\"}, \"type\": \"contourcarpet\"}], \"heatmap\": [{\"colorbar\": {\"outlinewidth\": 0, \"ticks\": \"\"}, \"colorscale\": [[0.0, \"#0d0887\"], [0.1111111111111111, \"#46039f\"], [0.2222222222222222, \"#7201a8\"], [0.3333333333333333, \"#9c179e\"], [0.4444444444444444, \"#bd3786\"], [0.5555555555555556, \"#d8576b\"], [0.6666666666666666, \"#ed7953\"], [0.7777777777777778, \"#fb9f3a\"], [0.8888888888888888, \"#fdca26\"], [1.0, \"#f0f921\"]], \"type\": \"heatmap\"}], \"heatmapgl\": [{\"colorbar\": {\"outlinewidth\": 0, \"ticks\": \"\"}, \"colorscale\": [[0.0, \"#0d0887\"], [0.1111111111111111, \"#46039f\"], [0.2222222222222222, \"#7201a8\"], [0.3333333333333333, \"#9c179e\"], [0.4444444444444444, \"#bd3786\"], [0.5555555555555556, \"#d8576b\"], [0.6666666666666666, \"#ed7953\"], [0.7777777777777778, \"#fb9f3a\"], [0.8888888888888888, \"#fdca26\"], [1.0, \"#f0f921\"]], \"type\": \"heatmapgl\"}], \"histogram\": [{\"marker\": {\"colorbar\": {\"outlinewidth\": 0, \"ticks\": \"\"}}, \"type\": \"histogram\"}], \"histogram2d\": [{\"colorbar\": {\"outlinewidth\": 0, \"ticks\": \"\"}, \"colorscale\": [[0.0, \"#0d0887\"], [0.1111111111111111, \"#46039f\"], [0.2222222222222222, \"#7201a8\"], [0.3333333333333333, \"#9c179e\"], [0.4444444444444444, \"#bd3786\"], [0.5555555555555556, \"#d8576b\"], [0.6666666666666666, \"#ed7953\"], [0.7777777777777778, \"#fb9f3a\"], [0.8888888888888888, \"#fdca26\"], [1.0, \"#f0f921\"]], \"type\": \"histogram2d\"}], \"histogram2dcontour\": [{\"colorbar\": {\"outlinewidth\": 0, \"ticks\": \"\"}, \"colorscale\": [[0.0, \"#0d0887\"], [0.1111111111111111, \"#46039f\"], [0.2222222222222222, \"#7201a8\"], [0.3333333333333333, \"#9c179e\"], [0.4444444444444444, \"#bd3786\"], [0.5555555555555556, \"#d8576b\"], [0.6666666666666666, \"#ed7953\"], [0.7777777777777778, \"#fb9f3a\"], [0.8888888888888888, \"#fdca26\"], [1.0, \"#f0f921\"]], \"type\": \"histogram2dcontour\"}], \"mesh3d\": [{\"colorbar\": {\"outlinewidth\": 0, \"ticks\": \"\"}, \"type\": \"mesh3d\"}], \"parcoords\": [{\"line\": {\"colorbar\": {\"outlinewidth\": 0, \"ticks\": \"\"}}, \"type\": \"parcoords\"}], \"pie\": [{\"automargin\": true, \"type\": \"pie\"}], \"scatter\": [{\"marker\": {\"colorbar\": {\"outlinewidth\": 0, \"ticks\": \"\"}}, \"type\": \"scatter\"}], \"scatter3d\": [{\"line\": {\"colorbar\": {\"outlinewidth\": 0, \"ticks\": \"\"}}, \"marker\": {\"colorbar\": {\"outlinewidth\": 0, \"ticks\": \"\"}}, \"type\": \"scatter3d\"}], \"scattercarpet\": [{\"marker\": {\"colorbar\": {\"outlinewidth\": 0, \"ticks\": \"\"}}, \"type\": \"scattercarpet\"}], \"scattergeo\": [{\"marker\": {\"colorbar\": {\"outlinewidth\": 0, \"ticks\": \"\"}}, \"type\": \"scattergeo\"}], \"scattergl\": [{\"marker\": {\"colorbar\": {\"outlinewidth\": 0, \"ticks\": \"\"}}, \"type\": \"scattergl\"}], \"scattermapbox\": [{\"marker\": {\"colorbar\": {\"outlinewidth\": 0, \"ticks\": \"\"}}, \"type\": \"scattermapbox\"}], \"scatterpolar\": [{\"marker\": {\"colorbar\": {\"outlinewidth\": 0, \"ticks\": \"\"}}, \"type\": \"scatterpolar\"}], \"scatterpolargl\": [{\"marker\": {\"colorbar\": {\"outlinewidth\": 0, \"ticks\": \"\"}}, \"type\": \"scatterpolargl\"}], \"scatterternary\": [{\"marker\": {\"colorbar\": {\"outlinewidth\": 0, \"ticks\": \"\"}}, \"type\": \"scatterternary\"}], \"surface\": [{\"colorbar\": {\"outlinewidth\": 0, \"ticks\": \"\"}, \"colorscale\": [[0.0, \"#0d0887\"], [0.1111111111111111, \"#46039f\"], [0.2222222222222222, \"#7201a8\"], [0.3333333333333333, \"#9c179e\"], [0.4444444444444444, \"#bd3786\"], [0.5555555555555556, \"#d8576b\"], [0.6666666666666666, \"#ed7953\"], [0.7777777777777778, \"#fb9f3a\"], [0.8888888888888888, \"#fdca26\"], [1.0, \"#f0f921\"]], \"type\": \"surface\"}], \"table\": [{\"cells\": {\"fill\": {\"color\": \"#EBF0F8\"}, \"line\": {\"color\": \"white\"}}, \"header\": {\"fill\": {\"color\": \"#C8D4E3\"}, \"line\": {\"color\": \"white\"}}, \"type\": \"table\"}]}, \"layout\": {\"annotationdefaults\": {\"arrowcolor\": \"#2a3f5f\", \"arrowhead\": 0, \"arrowwidth\": 1}, \"coloraxis\": {\"colorbar\": {\"outlinewidth\": 0, \"ticks\": \"\"}}, \"colorscale\": {\"diverging\": [[0, \"#8e0152\"], [0.1, \"#c51b7d\"], [0.2, \"#de77ae\"], [0.3, \"#f1b6da\"], [0.4, \"#fde0ef\"], [0.5, \"#f7f7f7\"], [0.6, \"#e6f5d0\"], [0.7, \"#b8e186\"], [0.8, \"#7fbc41\"], [0.9, \"#4d9221\"], [1, \"#276419\"]], \"sequential\": [[0.0, \"#0d0887\"], [0.1111111111111111, \"#46039f\"], [0.2222222222222222, \"#7201a8\"], [0.3333333333333333, \"#9c179e\"], [0.4444444444444444, \"#bd3786\"], [0.5555555555555556, \"#d8576b\"], [0.6666666666666666, \"#ed7953\"], [0.7777777777777778, \"#fb9f3a\"], [0.8888888888888888, \"#fdca26\"], [1.0, \"#f0f921\"]], \"sequentialminus\": [[0.0, \"#0d0887\"], [0.1111111111111111, \"#46039f\"], [0.2222222222222222, \"#7201a8\"], [0.3333333333333333, \"#9c179e\"], [0.4444444444444444, \"#bd3786\"], [0.5555555555555556, \"#d8576b\"], [0.6666666666666666, \"#ed7953\"], [0.7777777777777778, \"#fb9f3a\"], [0.8888888888888888, \"#fdca26\"], [1.0, \"#f0f921\"]]}, \"colorway\": [\"#636efa\", \"#EF553B\", \"#00cc96\", \"#ab63fa\", \"#FFA15A\", \"#19d3f3\", \"#FF6692\", \"#B6E880\", \"#FF97FF\", \"#FECB52\"], \"font\": {\"color\": \"#2a3f5f\"}, \"geo\": {\"bgcolor\": \"white\", \"lakecolor\": \"white\", \"landcolor\": \"#E5ECF6\", \"showlakes\": true, \"showland\": true, \"subunitcolor\": \"white\"}, \"hoverlabel\": {\"align\": \"left\"}, \"hovermode\": \"closest\", \"mapbox\": {\"style\": \"light\"}, \"paper_bgcolor\": \"white\", \"plot_bgcolor\": \"#E5ECF6\", \"polar\": {\"angularaxis\": {\"gridcolor\": \"white\", \"linecolor\": \"white\", \"ticks\": \"\"}, \"bgcolor\": \"#E5ECF6\", \"radialaxis\": {\"gridcolor\": \"white\", \"linecolor\": \"white\", \"ticks\": \"\"}}, \"scene\": {\"xaxis\": {\"backgroundcolor\": \"#E5ECF6\", \"gridcolor\": \"white\", \"gridwidth\": 2, \"linecolor\": \"white\", \"showbackground\": true, \"ticks\": \"\", \"zerolinecolor\": \"white\"}, \"yaxis\": {\"backgroundcolor\": \"#E5ECF6\", \"gridcolor\": \"white\", \"gridwidth\": 2, \"linecolor\": \"white\", \"showbackground\": true, \"ticks\": \"\", \"zerolinecolor\": \"white\"}, \"zaxis\": {\"backgroundcolor\": \"#E5ECF6\", \"gridcolor\": \"white\", \"gridwidth\": 2, \"linecolor\": \"white\", \"showbackground\": true, \"ticks\": \"\", \"zerolinecolor\": \"white\"}}, \"shapedefaults\": {\"line\": {\"color\": \"#2a3f5f\"}}, \"ternary\": {\"aaxis\": {\"gridcolor\": \"white\", \"linecolor\": \"white\", \"ticks\": \"\"}, \"baxis\": {\"gridcolor\": \"white\", \"linecolor\": \"white\", \"ticks\": \"\"}, \"bgcolor\": \"#E5ECF6\", \"caxis\": {\"gridcolor\": \"white\", \"linecolor\": \"white\", \"ticks\": \"\"}}, \"title\": {\"x\": 0.05}, \"xaxis\": {\"automargin\": true, \"gridcolor\": \"white\", \"linecolor\": \"white\", \"ticks\": \"\", \"title\": {\"standoff\": 15}, \"zerolinecolor\": \"white\", \"zerolinewidth\": 2}, \"yaxis\": {\"automargin\": true, \"gridcolor\": \"white\", \"linecolor\": \"white\", \"ticks\": \"\", \"title\": {\"standoff\": 15}, \"zerolinecolor\": \"white\", \"zerolinewidth\": 2}}}, \"title\": {\"text\": \"Percentage of Tweets Reporting Police Violence per Force Rank\"}},\n",
              "                        {\"responsive\": true}\n",
              "                    ).then(function(){\n",
              "                            \n",
              "var gd = document.getElementById('46bde51c-3592-4ee3-bcff-c85fd18ffba8');\n",
              "var x = new MutationObserver(function (mutations, observer) {{\n",
              "        var display = window.getComputedStyle(gd).display;\n",
              "        if (!display || display === 'none') {{\n",
              "            console.log([gd, 'removed!']);\n",
              "            Plotly.purge(gd);\n",
              "            observer.disconnect();\n",
              "        }}\n",
              "}});\n",
              "\n",
              "// Listen for the removal of the full notebook cells\n",
              "var notebookContainer = gd.closest('#notebook-container');\n",
              "if (notebookContainer) {{\n",
              "    x.observe(notebookContainer, {childList: true});\n",
              "}}\n",
              "\n",
              "// Listen for the clearing of the current output cell\n",
              "var outputEl = gd.closest('.output');\n",
              "if (outputEl) {{\n",
              "    x.observe(outputEl, {childList: true});\n",
              "}}\n",
              "\n",
              "                        })\n",
              "                };\n",
              "                \n",
              "            </script>\n",
              "        </div>\n",
              "</body>\n",
              "</html>"
            ]
          },
          "metadata": {}
        }
      ],
      "metadata": {
        "colab": {
          "base_uri": "https://localhost:8080/",
          "height": 542
        },
        "id": "o01Ee1pNWXP-",
        "outputId": "3f1cc487-6037-491d-d8d1-485e4e61339c"
      }
    },
    {
      "cell_type": "markdown",
      "source": [
        "# Preparing Data for BERT\n",
        "\n",
        "Splitting dataframe into training and testing sets before converting to parquet for later reference/resource."
      ],
      "metadata": {
        "id": "X3iuUK_pIsCa"
      }
    },
    {
      "cell_type": "code",
      "execution_count": null,
      "source": [
        "def parquet_and_split():\r\n",
        "  '''\r\n",
        "  Splits our data into a format amicable to NLP modeling.\r\n",
        "  Saves our original dataframe as well as the two split dataframes into parquet files for later reference/use.\r\n",
        "  \r\n",
        "  -----\r\n",
        "  Parameters \r\n",
        "  ------\r\n",
        "  None\r\n",
        "  Returns\r\n",
        "  -------\r\n",
        "  df: pandas dataframes\r\n",
        "    Contains two split dataframes ready to be fit to and tested against a model\r\n",
        "  '''\r\n",
        "  # Splitting dataframe into training and testing sets for modeling\r\n",
        "  # 20% of our data will be reserved for testing\r\n",
        "  training, testing = train_test_split(force_ranks, test_size=0.2)\r\n",
        "  # Sanity Check\r\n",
        "  if force_ranks.shape[0] == training.shape[0] + testing.shape[0]:\r\n",
        "      print(\"Sanity Check - Succesful!\")\r\n",
        "  else:\r\n",
        "      print(\"Sanity Check - Unsuccessful!\")\r\n",
        "  # Converting dataframes to parquet format for later reference\r\n",
        "  # Using parquet as our new dataset storage format as they cannot be edited like CSVs can. They are immutable.\r\n",
        "  # For viewing in vscode, install the parquet-viewer extension: https://marketplace.visualstudio.com/items?itemName=dvirtz.parquet-viewer\r\n",
        "  training.to_parquet('synthetic_training.parquet')\r\n",
        "  testing.to_parquet('synthetic_testing.parquet')\r\n",
        "  force_ranks.to_parquet('synthetic_complete.parquet')\r\n",
        "\r\n",
        "  return training, testing"
      ],
      "outputs": [],
      "metadata": {
        "id": "ePZCtrYc4WNR"
      }
    },
    {
      "cell_type": "code",
      "execution_count": null,
      "source": [
        "training, testing = parquet_and_split()"
      ],
      "outputs": [
        {
          "output_type": "display_data",
          "data": {
            "text/plain": [
              "<IPython.core.display.Javascript object>"
            ],
            "application/javascript": "\n        if (window._pyforest_update_imports_cell) { window._pyforest_update_imports_cell('import pandas as pd\\nfrom sklearn.model_selection import train_test_split'); }\n    "
          },
          "metadata": {}
        },
        {
          "output_type": "stream",
          "name": "stdout",
          "text": [
            "Sanity Check - Succesful!\n"
          ]
        }
      ],
      "metadata": {
        "colab": {
          "base_uri": "https://localhost:8080/",
          "height": 34
        },
        "id": "x5sipZb28x75",
        "outputId": "a1166bcc-e77b-4c4b-f755-7b33defba6c7"
      }
    },
    {
      "cell_type": "markdown",
      "source": [
        "# BERT"
      ],
      "metadata": {
        "id": "zb31wbWNJ17v"
      }
    },
    {
      "cell_type": "markdown",
      "source": [
        "## Training our NLP Multi-Class Classification Model"
      ],
      "metadata": {
        "id": "G-RT8OK10XMQ"
      }
    },
    {
      "cell_type": "code",
      "execution_count": null,
      "source": [
        "def bert_trainer(df, output_dir: str, epochs: int):\r\n",
        "    start = time()\r\n",
        "    max_len = 280\r\n",
        "    if torch.cuda.is_available():\r\n",
        "        print(\"CUDA Active\")\r\n",
        "        device = torch.device(\"cuda\")\r\n",
        "    else:\r\n",
        "        print(\"CPU Active\")\r\n",
        "        device = torch.device(\"cpu\")\r\n",
        "    sentences = df[\"tweets\"].values\r\n",
        "    labels = df[\"labels\"].values\r\n",
        "    tokenizer = BertTokenizer.from_pretrained(\r\n",
        "        'bert-base-uncased',\r\n",
        "        do_lower_case=True,\r\n",
        "    )\r\n",
        "    inputs = [\r\n",
        "        tokenizer.encode(sent, add_special_tokens=True) for sent in sentences\r\n",
        "    ]\r\n",
        "    inputs_ids = pad_sequences(\r\n",
        "        inputs,\r\n",
        "        maxlen=max_len,\r\n",
        "        dtype=\"long\",\r\n",
        "        value=0,\r\n",
        "        truncating=\"post\",\r\n",
        "        padding=\"post\",\r\n",
        "    )\r\n",
        "    attention_masks = [\r\n",
        "        [int(token_id != 0) for token_id in sent] for sent in inputs_ids\r\n",
        "    ]\r\n",
        "    train_inputs = torch.tensor(inputs_ids)\r\n",
        "    train_labels = torch.tensor(labels)\r\n",
        "    train_masks = torch.tensor(attention_masks)\r\n",
        "    batch_size = 32\r\n",
        "    train_data = TensorDataset(train_inputs, train_masks, train_labels)\r\n",
        "    train_sampler = RandomSampler(train_data)\r\n",
        "    train_dataloader = DataLoader(\r\n",
        "        train_data,\r\n",
        "        sampler=train_sampler,\r\n",
        "        batch_size=batch_size,\r\n",
        "    )\r\n",
        "    model = BertForSequenceClassification.from_pretrained(\r\n",
        "        'bert-base-uncased',\r\n",
        "        num_labels=6,\r\n",
        "        output_attentions=False,\r\n",
        "        output_hidden_states=False,\r\n",
        "    )\r\n",
        "    if torch.cuda.is_available():\r\n",
        "        model.cuda()\r\n",
        "    optimizer = AdamW(model.parameters(), lr=2e-5, eps=1e-8)\r\n",
        "    total_steps = len(train_dataloader) * epochs\r\n",
        "    scheduler = get_linear_schedule_with_warmup(\r\n",
        "        optimizer,\r\n",
        "        num_warmup_steps=0,\r\n",
        "        num_training_steps=total_steps,\r\n",
        "    )\r\n",
        "    loss_values = []\r\n",
        "    print('\\nTraining...')\r\n",
        "    for epoch_i in range(1, epochs + 1):\r\n",
        "        print(f\"\\nEpoch: {epoch_i}\")\r\n",
        "        total_loss = 0\r\n",
        "        model.train()\r\n",
        "        for step, batch in enumerate(train_dataloader):\r\n",
        "            b_input_ids = batch[0].to(device)\r\n",
        "            b_input_mask = batch[1].to(device)\r\n",
        "            b_labels = batch[2].to(device)\r\n",
        "            model.zero_grad()\r\n",
        "            outputs = model(\r\n",
        "                b_input_ids,\r\n",
        "                token_type_ids=None,\r\n",
        "                attention_mask=b_input_mask,\r\n",
        "                labels=b_labels,\r\n",
        "            )\r\n",
        "            loss = outputs[0]\r\n",
        "            total_loss += loss.item()\r\n",
        "            loss.backward()\r\n",
        "            torch.nn.utils.clip_grad_norm_(model.parameters(), 1.0)\r\n",
        "            optimizer.step()\r\n",
        "            scheduler.step()\r\n",
        "\r\n",
        "        avg_train_loss = total_loss / len(train_dataloader)\r\n",
        "        loss_values.append(avg_train_loss)\r\n",
        "        print(f\"Average Loss: {avg_train_loss}\")\r\n",
        "\r\n",
        "    if not os.path.exists(output_dir):\r\n",
        "        os.makedirs(output_dir)\r\n",
        "    print(f\"\\nSaving model to {output_dir}\")\r\n",
        "    model_to_save = model.module if hasattr(model, 'module') else model\r\n",
        "    model_to_save.save_pretrained(output_dir)\r\n",
        "    tokenizer.save_pretrained(output_dir)\r\n",
        "    end = time()\r\n",
        "    total_run_time_in_hours = (((end - start)/60)/60)\r\n",
        "    rounded_total_run_time_in_hours = np.round(total_run_time_in_hours, decimals=2)\r\n",
        "    print(f\"Finished training in {rounded_total_run_time_in_hours} hours!\")"
      ],
      "outputs": [],
      "metadata": {
        "id": "NQNUUmx_Jz1j"
      }
    },
    {
      "cell_type": "code",
      "execution_count": null,
      "source": [
        "!nvidia-smi\r\n",
        "# If running on Colab, the best GPU to have in use is the NVIDIA Tesla P100"
      ],
      "outputs": [
        {
          "output_type": "stream",
          "name": "stdout",
          "text": [
            "Mon Aug 23 22:49:13 2021       \n",
            "+-----------------------------------------------------------------------------+\n",
            "| NVIDIA-SMI 470.57.02    Driver Version: 460.32.03    CUDA Version: 11.2     |\n",
            "|-------------------------------+----------------------+----------------------+\n",
            "| GPU  Name        Persistence-M| Bus-Id        Disp.A | Volatile Uncorr. ECC |\n",
            "| Fan  Temp  Perf  Pwr:Usage/Cap|         Memory-Usage | GPU-Util  Compute M. |\n",
            "|                               |                      |               MIG M. |\n",
            "|===============================+======================+======================|\n",
            "|   0  Tesla P100-PCIE...  Off  | 00000000:00:04.0 Off |                    0 |\n",
            "| N/A   38C    P0    27W / 250W |      2MiB / 16280MiB |      0%      Default |\n",
            "|                               |                      |                  N/A |\n",
            "+-------------------------------+----------------------+----------------------+\n",
            "                                                                               \n",
            "+-----------------------------------------------------------------------------+\n",
            "| Processes:                                                                  |\n",
            "|  GPU   GI   CI        PID   Type   Process name                  GPU Memory |\n",
            "|        ID   ID                                                   Usage      |\n",
            "|=============================================================================|\n",
            "|  No running processes found                                                 |\n",
            "+-----------------------------------------------------------------------------+\n"
          ]
        }
      ],
      "metadata": {
        "colab": {
          "base_uri": "https://localhost:8080/"
        },
        "id": "FoPQ64QlwtZD",
        "outputId": "5c735947-be6c-4a0a-da8a-07f2f334c72b"
      }
    },
    {
      "cell_type": "code",
      "execution_count": null,
      "source": [
        "# Colab notebook may crash the first time this code cell is run. \r\n",
        "# Running this cell again after runtime restart shouldn't produce any more issues.\r\n",
        "bert_trainer(training, 'saved_model', epochs=50)"
      ],
      "outputs": [
        {
          "output_type": "stream",
          "name": "stdout",
          "text": [
            "CUDA Active\n"
          ]
        },
        {
          "output_type": "display_data",
          "data": {
            "text/plain": [
              "Downloading:   0%|          | 0.00/232k [00:00<?, ?B/s]"
            ],
            "application/vnd.jupyter.widget-view+json": {
              "model_id": "7e2782ea5b434a17aabb7f09b3912031",
              "version_minor": 0,
              "version_major": 2
            }
          },
          "metadata": {}
        },
        {
          "output_type": "stream",
          "name": "stderr",
          "text": [
            "Token indices sequence length is longer than the specified maximum sequence length for this model (877 > 512). Running this sequence through the model will result in indexing errors\n"
          ]
        },
        {
          "output_type": "display_data",
          "data": {
            "text/plain": [
              "Downloading:   0%|          | 0.00/570 [00:00<?, ?B/s]"
            ],
            "application/vnd.jupyter.widget-view+json": {
              "model_id": "b482908da2af4e70868720f988950726",
              "version_minor": 0,
              "version_major": 2
            }
          },
          "metadata": {}
        },
        {
          "output_type": "display_data",
          "data": {
            "text/plain": [
              "Downloading:   0%|          | 0.00/440M [00:00<?, ?B/s]"
            ],
            "application/vnd.jupyter.widget-view+json": {
              "model_id": "1917dcc2ff704dacb0cc9de67803dbb1",
              "version_minor": 0,
              "version_major": 2
            }
          },
          "metadata": {}
        },
        {
          "output_type": "stream",
          "name": "stderr",
          "text": [
            "Some weights of the model checkpoint at bert-base-uncased were not used when initializing BertForSequenceClassification: ['cls.predictions.bias', 'cls.predictions.transform.dense.weight', 'cls.predictions.transform.dense.bias', 'cls.predictions.decoder.weight', 'cls.seq_relationship.weight', 'cls.seq_relationship.bias', 'cls.predictions.transform.LayerNorm.weight', 'cls.predictions.transform.LayerNorm.bias']\n",
            "- This IS expected if you are initializing BertForSequenceClassification from the checkpoint of a model trained on another task or with another architecture (e.g. initializing a BertForSequenceClassification model from a BertForPreTraining model).\n",
            "- This IS NOT expected if you are initializing BertForSequenceClassification from the checkpoint of a model that you expect to be exactly identical (initializing a BertForSequenceClassification model from a BertForSequenceClassification model).\n",
            "Some weights of BertForSequenceClassification were not initialized from the model checkpoint at bert-base-uncased and are newly initialized: ['classifier.weight', 'classifier.bias']\n",
            "You should probably TRAIN this model on a down-stream task to be able to use it for predictions and inference.\n"
          ]
        },
        {
          "output_type": "stream",
          "name": "stdout",
          "text": [
            "\n",
            "Training...\n",
            "\n",
            "Epoch: 1\n",
            "Average Loss: 0.9817390684434708\n",
            "\n",
            "Epoch: 2\n",
            "Average Loss: 0.5477555823769975\n",
            "\n",
            "Epoch: 3\n",
            "Average Loss: 0.3782705462517891\n",
            "\n",
            "Epoch: 4\n",
            "Average Loss: 0.2533581250921843\n",
            "\n",
            "Epoch: 5\n",
            "Average Loss: 0.16464072770062596\n",
            "\n",
            "Epoch: 6\n",
            "Average Loss: 0.1044489004614545\n",
            "\n",
            "Epoch: 7\n",
            "Average Loss: 0.07627544994961391\n",
            "\n",
            "Epoch: 8\n",
            "Average Loss: 0.05403191481835823\n",
            "\n",
            "Epoch: 9\n",
            "Average Loss: 0.03471511596519044\n",
            "\n",
            "Epoch: 10\n",
            "Average Loss: 0.028392493134696394\n",
            "\n",
            "Epoch: 11\n",
            "Average Loss: 0.01894561948156866\n",
            "\n",
            "Epoch: 12\n",
            "Average Loss: 0.020316101351203\n",
            "\n",
            "Epoch: 13\n",
            "Average Loss: 0.016657060037454978\n",
            "\n",
            "Epoch: 14\n",
            "Average Loss: 0.008789887366181071\n",
            "\n",
            "Epoch: 15\n",
            "Average Loss: 0.005567408392070842\n",
            "\n",
            "Epoch: 16\n",
            "Average Loss: 0.006551272361050112\n",
            "\n",
            "Epoch: 17\n",
            "Average Loss: 0.007198275171794329\n",
            "\n",
            "Epoch: 18\n",
            "Average Loss: 0.006122422684402022\n",
            "\n",
            "Epoch: 19\n",
            "Average Loss: 0.0028357022345788093\n",
            "\n",
            "Epoch: 20\n",
            "Average Loss: 0.004581521238581812\n",
            "\n",
            "Epoch: 21\n",
            "Average Loss: 0.004740630294768477\n",
            "\n",
            "Epoch: 22\n",
            "Average Loss: 0.006317437718222364\n",
            "\n",
            "Epoch: 23\n",
            "Average Loss: 0.0066952207492617394\n",
            "\n",
            "Epoch: 24\n",
            "Average Loss: 0.0071000826917836405\n",
            "\n",
            "Epoch: 25\n",
            "Average Loss: 0.0035681887765872003\n",
            "\n",
            "Epoch: 26\n",
            "Average Loss: 0.0028331552662263114\n",
            "\n",
            "Epoch: 27\n",
            "Average Loss: 0.003428254017520924\n",
            "\n",
            "Epoch: 28\n",
            "Average Loss: 0.0031646064973679033\n",
            "\n",
            "Epoch: 29\n",
            "Average Loss: 0.003974924290037536\n",
            "\n",
            "Epoch: 30\n",
            "Average Loss: 0.004468858812384845\n",
            "\n",
            "Epoch: 31\n",
            "Average Loss: 0.0028668460042954006\n",
            "\n",
            "Epoch: 32\n",
            "Average Loss: 0.0018988903594869585\n",
            "\n",
            "Epoch: 33\n",
            "Average Loss: 0.002247691739149617\n",
            "\n",
            "Epoch: 34\n",
            "Average Loss: 0.002595878184442978\n",
            "\n",
            "Epoch: 35\n",
            "Average Loss: 0.00014674912120213738\n",
            "\n",
            "Epoch: 36\n",
            "Average Loss: 0.0002231578918462161\n",
            "\n",
            "Epoch: 37\n",
            "Average Loss: 0.0004901058140255392\n",
            "\n",
            "Epoch: 38\n",
            "Average Loss: 7.193531837401679e-05\n",
            "\n",
            "Epoch: 39\n",
            "Average Loss: 8.015259841835979e-05\n",
            "\n",
            "Epoch: 40\n",
            "Average Loss: 0.0004720399321856948\n",
            "\n",
            "Epoch: 41\n",
            "Average Loss: 0.000145268624111579\n",
            "\n",
            "Epoch: 42\n",
            "Average Loss: 5.334187316041975e-05\n",
            "\n",
            "Epoch: 43\n",
            "Average Loss: 6.489870326944622e-05\n",
            "\n",
            "Epoch: 44\n",
            "Average Loss: 5.6637009909033446e-05\n",
            "\n",
            "Epoch: 45\n",
            "Average Loss: 5.750768298426881e-05\n",
            "\n",
            "Epoch: 46\n",
            "Average Loss: 0.0005103710376947964\n",
            "\n",
            "Epoch: 47\n",
            "Average Loss: 0.0001949828876430284\n",
            "\n",
            "Epoch: 48\n",
            "Average Loss: 4.726568595094463e-05\n",
            "\n",
            "Epoch: 49\n",
            "Average Loss: 0.00017698718017933795\n",
            "\n",
            "Epoch: 50\n",
            "Average Loss: 5.016677622482716e-05\n"
          ]
        },
        {
          "output_type": "display_data",
          "data": {
            "text/plain": [
              "<IPython.core.display.Javascript object>"
            ],
            "application/javascript": "\n        if (window._pyforest_update_imports_cell) { window._pyforest_update_imports_cell('import os\\nimport pandas as pd\\nfrom sklearn.model_selection import train_test_split'); }\n    "
          },
          "metadata": {}
        },
        {
          "output_type": "display_data",
          "data": {
            "text/plain": [
              "<IPython.core.display.Javascript object>"
            ],
            "application/javascript": "\n        if (window._pyforest_update_imports_cell) { window._pyforest_update_imports_cell('import os\\nimport pandas as pd\\nfrom sklearn.model_selection import train_test_split'); }\n    "
          },
          "metadata": {}
        },
        {
          "output_type": "stream",
          "name": "stdout",
          "text": [
            "\n",
            "Saving model to saved_model\n"
          ]
        },
        {
          "output_type": "display_data",
          "data": {
            "text/plain": [
              "<IPython.core.display.Javascript object>"
            ],
            "application/javascript": "\n        if (window._pyforest_update_imports_cell) { window._pyforest_update_imports_cell('import os\\nimport pandas as pd\\nfrom sklearn.model_selection import train_test_split\\nimport numpy as np'); }\n    "
          },
          "metadata": {}
        },
        {
          "output_type": "stream",
          "name": "stdout",
          "text": [
            "Finished training in 2.21 hours!\n"
          ]
        }
      ],
      "metadata": {
        "colab": {
          "base_uri": "https://localhost:8080/",
          "height": 1000,
          "referenced_widgets": [
            "7e2782ea5b434a17aabb7f09b3912031",
            "964f61c75c5a475382809662e24cc9c6",
            "3b8af897921d42d88d36c822c0bea6e0",
            "4666ddd6bba445049df1f698e987e2b2",
            "3736433cd13540458ba84446c3745bc8",
            "6a0ae528972045698d44c98b82430516",
            "dc4a7c80abff4a399e4fe7d3d919ea29",
            "31df1b9196194da9afab0aaa8f4c6a08",
            "4b0a45d7502d4817893d66336cf6afc5",
            "5d9849e2203c46fda4479631da1305bb",
            "d930f18fa57a4764bc38d17178b480d6",
            "b482908da2af4e70868720f988950726",
            "5fa5688f77534ce6a676bf6e61403a89",
            "c4067f70563b4371abd90c7e188cbcc7",
            "5a1472f5dd7742fd816cfa2a944d0efc",
            "34f206900a5d4ab79a8cfaec06962a21",
            "6775420c586c4f809dcc162e0d1a0686",
            "42f92bea3f664535b3ba90eb669f7c38",
            "74c9a7dfe27d4c2ebaa352afc6e448ad",
            "902f8194299941098a39962f4ba5b499",
            "c145b45fe4844eeaae5332ca95bc2bf5",
            "9d935896d573416a862e4f257b9580eb",
            "1917dcc2ff704dacb0cc9de67803dbb1",
            "aca792d74e6b4b8aa88b7e62a4a11d09",
            "fa4ca266876a48518e691240699d8e9c",
            "ebf83fda51854de2a93b4ad9d8c6f548",
            "919f15a591a44a1f9f1a04558bacd0e8",
            "99616a8e1da148e1864079b2b7541f35",
            "1ab605fb3c2941b989b342efe44ec721",
            "250f5f97c86f4c63a56b4ca8a0fb7659",
            "488392e8b452480a826649a7ec672df6",
            "5b7ad249a8834c87bcd94da77a8405d3",
            "0ead1c96705f42818d42a442c54553f2"
          ]
        },
        "id": "hCnOUmjCKMil",
        "outputId": "2945b4ee-533d-4408-d3f9-4b5d062f8554"
      }
    },
    {
      "cell_type": "markdown",
      "source": [
        "## Making Predictions"
      ],
      "metadata": {
        "id": "UIrDr82Xz_gV"
      }
    },
    {
      "cell_type": "code",
      "execution_count": null,
      "source": [
        "class FrankenBert:\r\n",
        "    \"\"\"\r\n",
        "    Implements BertForSequenceClassification and BertTokenizer\r\n",
        "    for binary classification from a saved model\r\n",
        "    \"\"\"\r\n",
        "\r\n",
        "    def __init__(self, path: str):\r\n",
        "        \"\"\"\r\n",
        "        If there's a GPU available, tell PyTorch to use the GPU.\r\n",
        "        Loads model and tokenizer from saved model directory (path)\r\n",
        "        \"\"\"\r\n",
        "        if torch.cuda.is_available():\r\n",
        "            self.device = torch.device('cuda')\r\n",
        "        else:\r\n",
        "            self.device = torch.device('cpu')\r\n",
        "        self.model = BertForSequenceClassification.from_pretrained(path)\r\n",
        "        self.tokenizer = BertTokenizer.from_pretrained(path)\r\n",
        "        self.model.to(self.device)\r\n",
        "\r\n",
        "    def predict(self, text: str):\r\n",
        "        \"\"\"\r\n",
        "        Makes a binary classification prediction based on saved model\r\n",
        "        \"\"\"\r\n",
        "        inputs = self.tokenizer(\r\n",
        "            text,\r\n",
        "            padding=True,\r\n",
        "            truncation=True,\r\n",
        "            max_length=280,\r\n",
        "            return_tensors='pt',\r\n",
        "        ).to(self.device)\r\n",
        "        output = self.model(**inputs)\r\n",
        "        prediction = output[0].softmax(1)\r\n",
        "        tensors = prediction.detach().cpu().numpy()\r\n",
        "        result = np.argmax(tensors)\r\n",
        "        confidence = tensors[0][result]\r\n",
        "        return f\"Rank: {result}, {100 * confidence:.2f}%\""
      ],
      "outputs": [],
      "metadata": {
        "id": "Yf8nVBS5zftG"
      }
    },
    {
      "cell_type": "code",
      "execution_count": null,
      "source": [
        "model = FrankenBert('saved_model')"
      ],
      "outputs": [],
      "metadata": {
        "id": "e5bd5ka_zhCm"
      }
    },
    {
      "cell_type": "code",
      "execution_count": null,
      "source": [
        "model.predict(\"Mickey Mouse is in the house\")"
      ],
      "outputs": [
        {
          "output_type": "display_data",
          "data": {
            "text/plain": [
              "<IPython.core.display.Javascript object>"
            ],
            "application/javascript": "\n        if (window._pyforest_update_imports_cell) { window._pyforest_update_imports_cell('import os\\nimport pandas as pd\\nfrom sklearn.model_selection import train_test_split\\nimport numpy as np'); }\n    "
          },
          "metadata": {}
        },
        {
          "output_type": "execute_result",
          "data": {
            "text/plain": [
              "'Rank: 0, 100.00%'"
            ],
            "application/vnd.google.colaboratory.intrinsic+json": {
              "type": "string"
            }
          },
          "metadata": {},
          "execution_count": 19
        }
      ],
      "metadata": {
        "id": "5ePlcC02zmXH",
        "colab": {
          "base_uri": "https://localhost:8080/",
          "height": 35
        },
        "outputId": "38cf7dc7-a534-4243-89e1-4415cfd3ad6b"
      }
    },
    {
      "cell_type": "code",
      "execution_count": null,
      "source": [
        "model.predict(\"Cops gave me a speeding ticket for walking too fast\")"
      ],
      "outputs": [
        {
          "output_type": "display_data",
          "data": {
            "text/plain": [
              "<IPython.core.display.Javascript object>"
            ],
            "application/javascript": "\n        if (window._pyforest_update_imports_cell) { window._pyforest_update_imports_cell('import os\\nimport pandas as pd\\nfrom sklearn.model_selection import train_test_split\\nimport numpy as np'); }\n    "
          },
          "metadata": {}
        },
        {
          "output_type": "execute_result",
          "data": {
            "text/plain": [
              "'Rank: 1, 98.05%'"
            ],
            "application/vnd.google.colaboratory.intrinsic+json": {
              "type": "string"
            }
          },
          "metadata": {},
          "execution_count": 20
        }
      ],
      "metadata": {
        "id": "Y_gU3i_3zokR",
        "colab": {
          "base_uri": "https://localhost:8080/",
          "height": 35
        },
        "outputId": "b68695d7-4ad0-4cdc-c724-8f59fa6fa6db"
      }
    },
    {
      "cell_type": "code",
      "execution_count": null,
      "source": [
        "model.predict(\"The cops showed up but didn't do anything\")"
      ],
      "outputs": [
        {
          "output_type": "display_data",
          "data": {
            "text/plain": [
              "<IPython.core.display.Javascript object>"
            ],
            "application/javascript": "\n        if (window._pyforest_update_imports_cell) { window._pyforest_update_imports_cell('import os\\nimport pandas as pd\\nfrom sklearn.model_selection import train_test_split\\nimport numpy as np'); }\n    "
          },
          "metadata": {}
        },
        {
          "output_type": "execute_result",
          "data": {
            "text/plain": [
              "'Rank: 1, 99.99%'"
            ],
            "application/vnd.google.colaboratory.intrinsic+json": {
              "type": "string"
            }
          },
          "metadata": {},
          "execution_count": 21
        }
      ],
      "metadata": {
        "id": "Rav_B9D9zqTK",
        "colab": {
          "base_uri": "https://localhost:8080/",
          "height": 35
        },
        "outputId": "5d74c704-5a29-445e-d8e0-5410e70c304b"
      }
    },
    {
      "cell_type": "code",
      "execution_count": null,
      "source": [
        "model.predict(\"Cops held that guy with a neck hold\")"
      ],
      "outputs": [
        {
          "output_type": "display_data",
          "data": {
            "text/plain": [
              "<IPython.core.display.Javascript object>"
            ],
            "application/javascript": "\n        if (window._pyforest_update_imports_cell) { window._pyforest_update_imports_cell('import os\\nimport pandas as pd\\nfrom sklearn.model_selection import train_test_split\\nimport numpy as np'); }\n    "
          },
          "metadata": {}
        },
        {
          "output_type": "execute_result",
          "data": {
            "text/plain": [
              "'Rank: 2, 99.99%'"
            ],
            "application/vnd.google.colaboratory.intrinsic+json": {
              "type": "string"
            }
          },
          "metadata": {},
          "execution_count": 22
        }
      ],
      "metadata": {
        "id": "MgSwUbk5zrqw",
        "colab": {
          "base_uri": "https://localhost:8080/",
          "height": 35
        },
        "outputId": "9f14255c-b36f-484d-a403-e42bcfb8825c"
      }
    },
    {
      "cell_type": "code",
      "execution_count": null,
      "source": [
        "model.predict(\"Cops punched me and pushed me to the ground\")"
      ],
      "outputs": [
        {
          "output_type": "display_data",
          "data": {
            "text/plain": [
              "<IPython.core.display.Javascript object>"
            ],
            "application/javascript": "\n        if (window._pyforest_update_imports_cell) { window._pyforest_update_imports_cell('import os\\nimport pandas as pd\\nfrom sklearn.model_selection import train_test_split\\nimport numpy as np'); }\n    "
          },
          "metadata": {}
        },
        {
          "output_type": "execute_result",
          "data": {
            "text/plain": [
              "'Rank: 3, 100.00%'"
            ],
            "application/vnd.google.colaboratory.intrinsic+json": {
              "type": "string"
            }
          },
          "metadata": {},
          "execution_count": 23
        }
      ],
      "metadata": {
        "id": "QqDel3fYzuca",
        "colab": {
          "base_uri": "https://localhost:8080/",
          "height": 35
        },
        "outputId": "a0c6a487-a507-4702-aa82-15db8a283bb4"
      }
    },
    {
      "cell_type": "code",
      "execution_count": null,
      "source": [
        "model.predict(\"Cops hit her with a baton\")"
      ],
      "outputs": [
        {
          "output_type": "display_data",
          "data": {
            "text/plain": [
              "<IPython.core.display.Javascript object>"
            ],
            "application/javascript": "\n        if (window._pyforest_update_imports_cell) { window._pyforest_update_imports_cell('import os\\nimport pandas as pd\\nfrom sklearn.model_selection import train_test_split\\nimport numpy as np'); }\n    "
          },
          "metadata": {}
        },
        {
          "output_type": "execute_result",
          "data": {
            "text/plain": [
              "'Rank: 3, 99.99%'"
            ],
            "application/vnd.google.colaboratory.intrinsic+json": {
              "type": "string"
            }
          },
          "metadata": {},
          "execution_count": 24
        }
      ],
      "metadata": {
        "id": "0XB29yAmzv79",
        "colab": {
          "base_uri": "https://localhost:8080/",
          "height": 35
        },
        "outputId": "208d2cb5-3d8f-474b-c135-a7e499dcee3b"
      }
    },
    {
      "cell_type": "code",
      "execution_count": null,
      "source": [
        "model.predict(\"Cops sprayed my mom with pepper spray\")"
      ],
      "outputs": [
        {
          "output_type": "display_data",
          "data": {
            "text/plain": [
              "<IPython.core.display.Javascript object>"
            ],
            "application/javascript": "\n        if (window._pyforest_update_imports_cell) { window._pyforest_update_imports_cell('import os\\nimport pandas as pd\\nfrom sklearn.model_selection import train_test_split\\nimport numpy as np'); }\n    "
          },
          "metadata": {}
        },
        {
          "output_type": "execute_result",
          "data": {
            "text/plain": [
              "'Rank: 4, 100.00%'"
            ],
            "application/vnd.google.colaboratory.intrinsic+json": {
              "type": "string"
            }
          },
          "metadata": {},
          "execution_count": 25
        }
      ],
      "metadata": {
        "id": "YVfH1xu-zweT",
        "colab": {
          "base_uri": "https://localhost:8080/",
          "height": 35
        },
        "outputId": "7407e42f-c79e-45a6-b144-f4d3256c956e"
      }
    },
    {
      "cell_type": "code",
      "execution_count": null,
      "source": [
        "model.predict(\"Cops shot rubber bullets at the crowd\")"
      ],
      "outputs": [
        {
          "output_type": "display_data",
          "data": {
            "text/plain": [
              "<IPython.core.display.Javascript object>"
            ],
            "application/javascript": "\n        if (window._pyforest_update_imports_cell) { window._pyforest_update_imports_cell('import os\\nimport pandas as pd\\nfrom sklearn.model_selection import train_test_split\\nimport numpy as np'); }\n    "
          },
          "metadata": {}
        },
        {
          "output_type": "execute_result",
          "data": {
            "text/plain": [
              "'Rank: 4, 99.95%'"
            ],
            "application/vnd.google.colaboratory.intrinsic+json": {
              "type": "string"
            }
          },
          "metadata": {},
          "execution_count": 26
        }
      ],
      "metadata": {
        "id": "3tNyT44TzzAR",
        "colab": {
          "base_uri": "https://localhost:8080/",
          "height": 35
        },
        "outputId": "4216085b-4f68-477c-c442-13107e3aa278"
      }
    },
    {
      "cell_type": "code",
      "execution_count": null,
      "source": [
        "model.predict(\"Police used tear gas on a pedestrian for no reason\")"
      ],
      "outputs": [
        {
          "output_type": "display_data",
          "data": {
            "text/plain": [
              "<IPython.core.display.Javascript object>"
            ],
            "application/javascript": "\n        if (window._pyforest_update_imports_cell) { window._pyforest_update_imports_cell('import os\\nimport pandas as pd\\nfrom sklearn.model_selection import train_test_split\\nimport numpy as np'); }\n    "
          },
          "metadata": {}
        },
        {
          "output_type": "execute_result",
          "data": {
            "text/plain": [
              "'Rank: 4, 100.00%'"
            ],
            "application/vnd.google.colaboratory.intrinsic+json": {
              "type": "string"
            }
          },
          "metadata": {},
          "execution_count": 27
        }
      ],
      "metadata": {
        "id": "9A1gAyIDzzne",
        "colab": {
          "base_uri": "https://localhost:8080/",
          "height": 35
        },
        "outputId": "ee889291-ec69-44e0-e830-6d3ba1fcc6e6"
      }
    },
    {
      "cell_type": "code",
      "execution_count": null,
      "source": [
        "model.predict(\"Cops killed that woman\")"
      ],
      "outputs": [
        {
          "output_type": "display_data",
          "data": {
            "text/plain": [
              "<IPython.core.display.Javascript object>"
            ],
            "application/javascript": "\n        if (window._pyforest_update_imports_cell) { window._pyforest_update_imports_cell('import os\\nimport pandas as pd\\nfrom sklearn.model_selection import train_test_split\\nimport numpy as np'); }\n    "
          },
          "metadata": {}
        },
        {
          "output_type": "execute_result",
          "data": {
            "text/plain": [
              "'Rank: 5, 100.00%'"
            ],
            "application/vnd.google.colaboratory.intrinsic+json": {
              "type": "string"
            }
          },
          "metadata": {},
          "execution_count": 28
        }
      ],
      "metadata": {
        "id": "7ubFcbPUz0xp",
        "colab": {
          "base_uri": "https://localhost:8080/",
          "height": 35
        },
        "outputId": "b08c0335-d04e-44ea-d24d-a2356d1888a5"
      }
    },
    {
      "cell_type": "code",
      "execution_count": null,
      "source": [
        "model.predict(\"Yesterday I saw a policeman hit a poor person behind my house. I wonder whats going on\")"
      ],
      "outputs": [
        {
          "output_type": "display_data",
          "data": {
            "text/plain": [
              "<IPython.core.display.Javascript object>"
            ],
            "application/javascript": "\n        if (window._pyforest_update_imports_cell) { window._pyforest_update_imports_cell('import os\\nimport pandas as pd\\nfrom sklearn.model_selection import train_test_split\\nimport numpy as np'); }\n    "
          },
          "metadata": {}
        },
        {
          "output_type": "execute_result",
          "data": {
            "text/plain": [
              "'Rank: 0, 98.57%'"
            ],
            "application/vnd.google.colaboratory.intrinsic+json": {
              "type": "string"
            }
          },
          "metadata": {},
          "execution_count": 29
        }
      ],
      "metadata": {
        "id": "juCXoIYZz31x",
        "colab": {
          "base_uri": "https://localhost:8080/",
          "height": 35
        },
        "outputId": "50755358-d947-4f0e-84f9-0bd30bca63f6"
      }
    },
    {
      "cell_type": "code",
      "execution_count": null,
      "source": [
        "model.predict(\"Man ran up to me and pepper sprayed me. I've called the cops, but they have not gotten themselves involved yet.\")"
      ],
      "outputs": [
        {
          "output_type": "display_data",
          "data": {
            "text/plain": [
              "<IPython.core.display.Javascript object>"
            ],
            "application/javascript": "\n        if (window._pyforest_update_imports_cell) { window._pyforest_update_imports_cell('import os\\nimport pandas as pd\\nfrom sklearn.model_selection import train_test_split\\nimport numpy as np'); }\n    "
          },
          "metadata": {}
        },
        {
          "output_type": "execute_result",
          "data": {
            "text/plain": [
              "'Rank: 4, 100.00%'"
            ],
            "application/vnd.google.colaboratory.intrinsic+json": {
              "type": "string"
            }
          },
          "metadata": {},
          "execution_count": 30
        }
      ],
      "metadata": {
        "id": "FV3x8hN0z5cc",
        "colab": {
          "base_uri": "https://localhost:8080/",
          "height": 35
        },
        "outputId": "40a46e1d-2326-4218-bdfd-5c731f9656b1"
      }
    },
    {
      "cell_type": "code",
      "execution_count": null,
      "source": [
        "model.predict(\"People gathered to protest. Cops show up and are using batons to disperse the gathering.\")"
      ],
      "outputs": [
        {
          "output_type": "display_data",
          "data": {
            "text/plain": [
              "<IPython.core.display.Javascript object>"
            ],
            "application/javascript": "\n        if (window._pyforest_update_imports_cell) { window._pyforest_update_imports_cell('import os\\nimport pandas as pd\\nfrom sklearn.model_selection import train_test_split\\nimport numpy as np'); }\n    "
          },
          "metadata": {}
        },
        {
          "output_type": "execute_result",
          "data": {
            "text/plain": [
              "'Rank: 3, 100.00%'"
            ],
            "application/vnd.google.colaboratory.intrinsic+json": {
              "type": "string"
            }
          },
          "metadata": {},
          "execution_count": 32
        }
      ],
      "metadata": {
        "id": "9lJ0eKrJz6tH",
        "colab": {
          "base_uri": "https://localhost:8080/",
          "height": 35
        },
        "outputId": "41701edf-4cfd-4e80-e2e3-bc1e90e98aa4"
      }
    },
    {
      "cell_type": "code",
      "execution_count": null,
      "source": [
        "model.predict(\"People gathered to protest. Cops show up and are using rubber bullets to disperse the gathering.\")"
      ],
      "outputs": [
        {
          "output_type": "display_data",
          "data": {
            "text/plain": [
              "<IPython.core.display.Javascript object>"
            ],
            "application/javascript": "\n        if (window._pyforest_update_imports_cell) { window._pyforest_update_imports_cell('import os\\nimport pandas as pd\\nfrom sklearn.model_selection import train_test_split\\nimport numpy as np'); }\n    "
          },
          "metadata": {}
        },
        {
          "output_type": "execute_result",
          "data": {
            "text/plain": [
              "'Rank: 4, 90.77%'"
            ],
            "application/vnd.google.colaboratory.intrinsic+json": {
              "type": "string"
            }
          },
          "metadata": {},
          "execution_count": 33
        }
      ],
      "metadata": {
        "colab": {
          "base_uri": "https://localhost:8080/",
          "height": 35
        },
        "id": "CxSID_z5r13v",
        "outputId": "9077973f-0f5c-42c1-f015-0bea9e138bed"
      }
    },
    {
      "cell_type": "markdown",
      "source": [
        "## Saving Trained Model "
      ],
      "metadata": {
        "id": "LEHQbiIO3QlR"
      }
    },
    {
      "cell_type": "code",
      "execution_count": null,
      "source": [
        "from google.colab import drive\r\n",
        "drive.mount('/content/gdrive')\r\n"
      ],
      "outputs": [
        {
          "output_type": "stream",
          "name": "stdout",
          "text": [
            "Mounted at /content/gdrive\n"
          ]
        }
      ],
      "metadata": {
        "colab": {
          "base_uri": "https://localhost:8080/"
        },
        "id": "LIBP7bVIzHXp",
        "outputId": "bcbb2632-d28d-499a-8422-0e06b63cdd74"
      }
    },
    {
      "cell_type": "code",
      "execution_count": null,
      "source": [
        "#path that contains folder you want to copy\r\n",
        "%cd /content/gdrive/MyDrive/ColabNotebooks/Labs/saved_model\r\n",
        "\r\n",
        "# copy local folder to folder on Google Drive \r\n",
        "%cp -av /content/saved_model saved_model"
      ],
      "outputs": [
        {
          "output_type": "stream",
          "name": "stdout",
          "text": [
            "/content/gdrive/MyDrive/ColabNotebooks/Labs/saved_model\n",
            "'/content/saved_model' -> 'saved_model'\n",
            "'/content/saved_model/config.json' -> 'saved_model/config.json'\n",
            "'/content/saved_model/pytorch_model.bin' -> 'saved_model/pytorch_model.bin'\n",
            "'/content/saved_model/tokenizer_config.json' -> 'saved_model/tokenizer_config.json'\n",
            "'/content/saved_model/special_tokens_map.json' -> 'saved_model/special_tokens_map.json'\n",
            "'/content/saved_model/vocab.txt' -> 'saved_model/vocab.txt'\n"
          ]
        }
      ],
      "metadata": {
        "colab": {
          "base_uri": "https://localhost:8080/"
        },
        "id": "0Q1lTL_b2pVu",
        "outputId": "cbccb03e-6431-4151-f93d-a0aff79ca5ce"
      }
    }
  ]
}